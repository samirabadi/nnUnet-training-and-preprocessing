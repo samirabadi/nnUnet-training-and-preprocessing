{
 "cells": [
  {
   "cell_type": "code",
   "execution_count": 1,
   "id": "785caf82-f3c0-41f4-96f9-0bc0ede91d30",
   "metadata": {},
   "outputs": [],
   "source": [
    "import JupyterNotebooksLib as slicernb\n",
    "import slicer\n",
    "import os \n",
    "from DICOMLib import DICOMUtils\n",
    "\n",
    "# Set image viewer size to 50% screen size\n",
    "# slicernb.AppWindow.setWindowSize(scale=0.5)\n",
    "# slicernb.AppWindow.setContents(\"viewers\")\n",
    "\n",
    "# Clear scene\n",
    "slicer.mrmlScene.Clear(False)\n"
   ]
  },
  {
   "cell_type": "code",
   "execution_count": 2,
   "id": "447da61d-f5c7-4484-8bc6-64c0c5ebb09f",
   "metadata": {},
   "outputs": [],
   "source": [
    "# dicom_series_path = \"./304846_Ken_Lin_Lin_Ken____20200831_080509147\"\n",
    "# DICOMUtils.importDicom(dicom_series_path)\n",
    "# DICOMUtils.loadPatientByUID('1')"
   ]
  },
  {
   "cell_type": "code",
   "execution_count": 2,
   "id": "7c08680e-0392-4083-8183-6ee9bf31aee6",
   "metadata": {},
   "outputs": [],
   "source": [
    "##finding patients loaded in \n",
    "patientUIDs = ''"
   ]
  },
  {
   "cell_type": "code",
   "execution_count": 3,
   "id": "5af8e6bd-f04f-4db1-b5b7-0cae6b93a201",
   "metadata": {},
   "outputs": [],
   "source": [
    "# loadedNodeIDs = []\n",
    "# dicom_series_path = \"C:\\\\Users\\\\Sepehr\\\\3dsegmentationProjects\\\\nn-unet-organize-dataset-for-training\\\\304846_Ken_Lin_Lin_Ken____20200831_080509147\"\n",
    "# with DICOMUtils.TemporaryDICOMDatabase() as db:\n",
    "#   DICOMUtils.importDicom(dicom_series_path, db)\n",
    "#   patientUIDs = db.patients()\n",
    "#   for patientUID in patientUIDs:\n",
    "#     loadedNodeIDs.extend(DICOMUtils.loadPatientByUID(patientUID))"
   ]
  },
  {
   "cell_type": "code",
   "execution_count": 4,
   "id": "c2869e00-2f70-4518-b706-f75d94a7d185",
   "metadata": {},
   "outputs": [],
   "source": [
    "# volume_id = loadedNodeIDs[0]\n",
    "# loadedNodeIDs"
   ]
  },
  {
   "cell_type": "code",
   "execution_count": 6,
   "id": "faa9f5fb-457a-4f40-a0c1-d188f99ee110",
   "metadata": {},
   "outputs": [
    {
     "name": "stdout",
     "output_type": "stream",
     "text": [
      "('1',)\n",
      "vtkMRMLSegmentationNode1\n",
      "['304846_246033_6967_304846_canal_decimated', '304846_246033_6968_304846_mandible_decimated', '304846_246033_6969_304846_maxilla_decimated_sinus_boolean', '304846_246033_6970_304846_sinus_decimated', '304846_246033_6971_304846_tooth_11_(us_8)_decimated', '304846_246033_6972_304846_tooth_12_(us_7)_decimated', '304846_246033_6973_304846_tooth_13_(us_6)_decimated', '304846_246033_6974_304846_tooth_14_(us_5)_decimated', '304846_246033_6975_304846_tooth_15_(us_4)_decimated', '304846_246033_6976_304846_tooth_16_(us_3)_decimated', '304846_246033_6977_304846_tooth_17_(us_2)_decimated', '304846_246033_6978_304846_tooth_21_(us_9)_decimated', '304846_246033_6979_304846_tooth_22_(us_10)_decimated', '304846_246033_6980_304846_tooth_23_(us_11)_decimated', '304846_246033_6981_304846_tooth_24_(us_12)_decimated', '304846_246033_6982_304846_tooth_25_(us_13)_decimated', '304846_246033_6983_304846_tooth_26_(us_14)_decimated', '304846_246033_6984_304846_tooth_27_(us_15)_decimated', '304846_246033_6985_304846_tooth_31_(us_24)_decimated', '304846_246033_6986_304846_tooth_32_(us_23)_decimated', '304846_246033_6987_304846_tooth_33_(us_22)_decimated', '304846_246033_6988_304846_tooth_34_(us_21)_decimated', '304846_246033_6989_304846_tooth_35_(us_20)_decimated', '304846_246033_6990_304846_tooth_36_(us_19)_decimated', '304846_246033_6991_304846_tooth_37_(us_18)_decimated', '304846_246033_6992_304846_tooth_38_(us_17)_decimated', '304846_246033_6993_304846_tooth_41_(us_25)_decimated', '304846_246033_6994_304846_tooth_42_(us_26)_decimated', '304846_246033_6995_304846_tooth_43_(us_27)_decimated', '304846_246033_6996_304846_tooth_44_(us_28)_decimated', '304846_246033_6997_304846_tooth_45_(us_29)_decimated', '304846_246033_6998_304846_tooth_46_(us_30)_decimated', '304846_246033_6999_304846_tooth_47_(us_31)_decimated']\n"
     ]
    }
   ],
   "source": [
    "##define input_dirs\n",
    "dicom_series_path = \"C:\\\\Users\\\\Sepehr\\\\3dsegmentationProjects\\\\nn-unet-organize-dataset-for-training\\\\304846_Ken_Lin_Lin_Ken____20200831_080509147\"\n",
    "segmentation_path = \"304846_246033_segmented_structures\"\n",
    "\n",
    "# # Clear scene\n",
    "slicer.mrmlScene.Clear(False)\n",
    "\n",
    "shNode = slicer.mrmlScene.GetSubjectHierarchyNode()\n",
    "\n",
    "##load dicom \n",
    "loadedNodeIDs = []\n",
    "with DICOMUtils.TemporaryDICOMDatabase() as db:\n",
    "    DICOMUtils.importDicom(dicom_series_path, db)\n",
    "    patientUIDs = db.patients()\n",
    "\n",
    "    print (patientUIDs)\n",
    "    for patientUID in patientUIDs:\n",
    "        loadedNodeIDs.extend(DICOMUtils.loadPatientByUID(patientUID))\n",
    "\n",
    "\n",
    "## creating segmentation node \n",
    "segmentationNode = slicer.mrmlScene.AddNewNodeByClass(\"vtkMRMLSegmentationNode\")\n",
    "segmentationNode.CreateDefaultDisplayNodes()\n",
    "print (segmentationNode.GetID())\n",
    "## importing stls \n",
    "nodes = []\n",
    "node_names = []\n",
    "for seg in os.listdir(segmentation_path):\n",
    "    if (\".stl\" in seg):\n",
    "        mesh_path = f\"{segmentation_path}/{seg}\"\n",
    "        slicer.modules.segmentations.logic().ImportModelToSegmentationNode(slicer.util.loadModel(mesh_path), segmentationNode)\n",
    "        # temp_node = slicer.util.loadSegmentation(mesh_path,{\"name\":seg})\n",
    "        # shNode.SetItemParent(shNode.GetItemByDataNode(temp_node), shNode.GetItemByDataNode(segmentationNode))\n",
    "        # nodes.append(temp_node)\n",
    "        node_names.append(seg.split(\".\")[0])\n",
    "print (node_names)\n",
    "        "
   ]
  },
  {
   "cell_type": "code",
   "execution_count": 7,
   "id": "6934d00f-e7ef-4480-865f-cfcdff36e112",
   "metadata": {},
   "outputs": [],
   "source": [
    "# test_node = nodes [2]\n",
    "\n"
   ]
  },
  {
   "cell_type": "markdown",
   "id": "d29795bb-7193-40f2-b24d-34117f9fd087",
   "metadata": {},
   "source": [
    "# Getting all individual structures nii.gz format "
   ]
  },
  {
   "cell_type": "code",
   "execution_count": 8,
   "id": "4721a51b-7261-4618-bbbb-83bfb5ab0acd",
   "metadata": {},
   "outputs": [
    {
     "name": "stdout",
     "output_type": "stream",
     "text": [
      "['vtkMRMLScalarVolumeNode1']\n"
     ]
    }
   ],
   "source": [
    "print(loadedNodeIDs)"
   ]
  },
  {
   "cell_type": "code",
   "execution_count": 9,
   "id": "c2fcd117-1abf-48c8-9ade-04822f5e6301",
   "metadata": {},
   "outputs": [],
   "source": [
    "# test_node.GetName()"
   ]
  },
  {
   "cell_type": "code",
   "execution_count": 10,
   "id": "c382349d-9b50-4d1a-808b-8592b3ebf9a8",
   "metadata": {},
   "outputs": [],
   "source": [
    "MRI_File = \"vtkMRMLScalarVolumeNode1\"\n",
    "SEG_Name =   \"304846_246033_6973_304846_tooth_13_(us_6)_decimated.stl\" #node_names[3] #\"321497_257065_4243_321497_mandible_decimated.stl\"\n",
    "outputPath = \"./converted_lablemap\"\n",
    "\n"
   ]
  },
  {
   "cell_type": "code",
   "execution_count": 11,
   "id": "817d8e7c-0bb5-4bb0-8a58-116ae64833e9",
   "metadata": {},
   "outputs": [],
   "source": [
    "##example of taking out a single class with matching dimensions to the volume \n",
    "\n",
    "# volumeNode = slicer.mrmlScene.GetNodeByID(MRI_File) # slicer.util.getNode(MRI_File)  # Get the volume node\n",
    "# print(volumeNode)\n",
    "# seg = slicer.util.getNode(SEG_Name) # Get the segmentation node\n",
    "# labelmapVolumeNode = slicer.mrmlScene.AddNewNodeByClass('vtkMRMLLabelMapVolumeNode')\n",
    "# slicer.modules.segmentations.logic().ExportVisibleSegmentsToLabelmapNode(seg, labelmapVolumeNode, volumeNode)\n",
    "\n"
   ]
  },
  {
   "cell_type": "code",
   "execution_count": 12,
   "id": "dc55ad1a-2e84-48ff-ba7e-8a4c1dc567a5",
   "metadata": {},
   "outputs": [],
   "source": [
    "# volumeNode = slicer.mrmlScene.GetNodeByID(MRI_File) # slicer.util.getNode(MRI_File)  # Get the volume node\n",
    "# #print(volumeNode)\n",
    "# labelmapVolumeNode = slicer.mrmlScene.AddNewNodeByClass('vtkMRMLLabelMapVolumeNode')\n",
    "\n",
    " # slicer.vtk.\n",
    "\n",
    "# segs = []\n",
    "# for segmentation_name in node_names:\n",
    "#     seg = slicer.util.getNode(segmentation_name) # Get the segmentation node\n",
    "\n",
    "\n",
    "\n",
    "#slicer.modules.segmentations.logic().ExportVisibleSegmentsToLabelmapNode(segmentationNode, labelmapVolumeNode, volumeNode)"
   ]
  },
  {
   "cell_type": "code",
   "execution_count": 13,
   "id": "d63a29ae-7e20-4028-91ae-d7f8458c1239",
   "metadata": {},
   "outputs": [],
   "source": [
    "# segmentIds = segmentationNode.GetSegmentation().GetSegmentIDs()   # export all segments\n",
    "# segment_map = []\n",
    "\n",
    "# for i,segment in enumerate(segmentIds):\n",
    "#     node = segmentationNode.GetSegmentation().GetSegment(segment)\n",
    "#     print (node.GetLabelValue())\n",
    "#     # if ( i == 0 ):\n",
    "#     #     node.SetLabelValue(1)\n",
    "#     # else:\n",
    "#     #     node.SetLabelValue((2*i))\n",
    "#     segment_map.append((node.GetName (),node.GetLabelValue() ))\n",
    "    \n",
    "# print (segment_map)"
   ]
  },
  {
   "cell_type": "code",
   "execution_count": 14,
   "id": "a91f38fb-0a78-4421-9443-fc48da53a9be",
   "metadata": {},
   "outputs": [],
   "source": [
    "\n",
    "\n",
    "# colorTableNode = slicer.mrmlScene.CreateNodeByClass(\"vtkMRMLColorTableNode\")\n",
    "# colorTableNode.SetTypeToUser()\n",
    "# colorTableNode.HideFromEditorsOff()  # make the color table selectable in the GUI outside Colors module\n",
    "# slicer.mrmlScene.AddNode(colorTableNode); colorTableNode.UnRegister(None)\n",
    "# largestLabelValue = len(node_names) + 1 \n",
    "# colorTableNode.SetNumberOfColors(largestLabelValue + 1)\n",
    "# colorTableNode.SetNamesInitialised(True) # prevent automatic color name generation\n",
    "# print (largestLabelValue + 1)\n",
    "# import random\n",
    "# for i, segmentName in enumerate (node_names):\n",
    "#     r = random.uniform(0.0, 1.0)\n",
    "#     g = random.uniform(0.0, 1.0)\n",
    "#     b = random.uniform(0.0, 1.0)\n",
    "#     a = 1.0\n",
    "#     success = colorTableNode.SetColor(i+1, segmentName, r, g, b, a)"
   ]
  },
  {
   "cell_type": "code",
   "execution_count": 15,
   "id": "b81390b3-6fe9-483e-a5b0-63a261f65daa",
   "metadata": {},
   "outputs": [],
   "source": [
    "# colorTableNode = slicer.mrmlScene.CreateNodeByClass(\"vtkMRMLColorTableNode\")\n",
    "# colorTableNode.SetTypeToUser()\n",
    "# colorTableNode.HideFromEditorsOff()  # make the color table selectable in the GUI outside Colors module\n",
    "# slicer.mrmlScene.AddNode(colorTableNode); colorTableNode.UnRegister(None)\n",
    "# largestLabelValue = max([name_value[1] for name_value in segment_map])\n",
    "# print (largestLabelValue + 1)\n",
    "# colorTableNode.SetNumberOfColors(largestLabelValue + 1)\n",
    "# colorTableNode.SetNamesInitialised(True) # prevent automatic color name generation\n",
    "# import random\n",
    "# for segmentName, labelValue in segment_map:\n",
    "#     r = random.uniform(0.0, 1.0)\n",
    "#     g = random.uniform(0.0, 1.0)\n",
    "#     b = random.uniform(0.0, 1.0)\n",
    "#     a = 1.0\n",
    "#     success = colorTableNode.SetColor(labelValue, segmentName, r, g, b, a)"
   ]
  },
  {
   "cell_type": "code",
   "execution_count": 16,
   "id": "740c5f84-2eef-4855-8bc9-cc430a98339b",
   "metadata": {},
   "outputs": [],
   "source": [
    "# colorTableNode.GetNumberOfColors()"
   ]
  },
  {
   "cell_type": "code",
   "execution_count": 17,
   "id": "ae9446ae-982f-4946-8b3b-4b720e36a76a",
   "metadata": {},
   "outputs": [],
   "source": [
    "# labelmapVolumeNode = slicer.mrmlScene.AddNewNodeByClass(\"vtkMRMLLabelMapVolumeNode\")  # export to new labelmap volume\n",
    "# referenceVolumeNode = slicer.mrmlScene.GetNodeByID(MRI_File)\n",
    "# segmentIds = segmentationNode.GetSegmentation().GetSegmentIDs()  # export all segments\n",
    "\n",
    "\n",
    "# print (segmentIds)\n",
    "# slicer.modules.segmentations.logic().ExportSegmentsToLabelmapNode(segmentationNode, segmentIds, labelmapVolumeNode, referenceVolumeNode, slicer.vtkSegmentation.EXTENT_REFERENCE_GEOMETRY, colorTableNode)"
   ]
  },
  {
   "cell_type": "code",
   "execution_count": 18,
   "id": "a431aac7-1fa1-4f4b-867a-a22a27ae33e1",
   "metadata": {},
   "outputs": [
    {
     "data": {
      "text/plain": [
       "True"
      ]
     },
     "execution_count": 18,
     "metadata": {},
     "output_type": "execute_result"
    }
   ],
   "source": [
    "labelmapVolumeNode = slicer.mrmlScene.AddNewNodeByClass(\"vtkMRMLLabelMapVolumeNode\")  # export to new labelmap volume\n",
    "referenceVolumeNode = slicer.mrmlScene.GetNodeByID(MRI_File)\n",
    "slicer.modules.segmentations.logic().ExportVisibleSegmentsToLabelmapNode(segmentationNode, labelmapVolumeNode, referenceVolumeNode)"
   ]
  },
  {
   "cell_type": "code",
   "execution_count": 19,
   "id": "ca2a7cfd-b5fb-4f73-b94d-fc0fbc6ed727",
   "metadata": {},
   "outputs": [],
   "source": [
    "node = segmentationNode.GetSegmentation().GetSegment(\"304846_246033_6969_304846_maxilla_decimated_sinus_boolean\")"
   ]
  },
  {
   "cell_type": "code",
   "execution_count": 20,
   "id": "c0ecee7b-3440-45dc-b2d9-7ce710c49414",
   "metadata": {},
   "outputs": [
    {
     "data": {
      "text/plain": [
       "'304846_246033_6969_304846_maxilla_decimated_sinus_boolean'"
      ]
     },
     "execution_count": 20,
     "metadata": {},
     "output_type": "execute_result"
    }
   ],
   "source": [
    "node.GetName ()"
   ]
  },
  {
   "cell_type": "code",
   "execution_count": 21,
   "id": "240530c3-0ae6-43dc-80af-9ecb7074bc9a",
   "metadata": {},
   "outputs": [
    {
     "data": {
      "text/plain": [
       "True"
      ]
     },
     "execution_count": 21,
     "metadata": {},
     "output_type": "execute_result"
    }
   ],
   "source": [
    "##saving directly as nifti \n",
    "slicer.util.exportNode(referenceVolumeNode, \"volume.nii.gz\" , {\"useCompression\": 0})\n",
    "slicer.util.exportNode(labelmapVolumeNode, \"seg.nii.gz\" , {\"useCompression\": 0})"
   ]
  },
  {
   "cell_type": "markdown",
   "id": "4ab80f15-98f0-46a6-9323-9c6974e20c06",
   "metadata": {},
   "source": [
    "## getting large structure nii.gz "
   ]
  },
  {
   "cell_type": "code",
   "execution_count": null,
   "id": "be6371a9-938f-4b1b-9729-f92807165300",
   "metadata": {},
   "outputs": [],
   "source": [
    "segmentationNode = slicer.mrmlScene.AddNewNodeByClass(\"vtkMRMLSegmentationNode\")\n",
    "segmentationNode.CreateDefaultDisplayNodes()"
   ]
  },
  {
   "cell_type": "code",
   "execution_count": null,
   "id": "79c05c5b-b26d-4fae-a3c6-ea4926fcb0d2",
   "metadata": {},
   "outputs": [],
   "source": [
    "segmentationNode."
   ]
  },
  {
   "cell_type": "code",
   "execution_count": null,
   "id": "981bde4d-9967-478d-8df0-b349c78ed018",
   "metadata": {},
   "outputs": [],
   "source": [
    "maxillary_teeth_lables = [\"11\",\"12\",\"13\",\"14\",\"15\",\"16\",\"17\",\"18\",\"21\",\"22\",\"23\",\"24\",\"25\",\"26\",\"27\",\"28\"]\n",
    "mandibular_teeth_lables = [\"31\",\"32\",\"33\",\"34\",\"35\",\"36\",\"37\",\"38\",\"41\",\"42\",\"43\",\"44\",\"45\",\"46\",\"47\",\"48\"]\n",
    "mandible = \"mandible\"\n",
    "maxilla = \"maxilla\"\n",
    "canals = \"canal\"\n",
    "sinus =  \"sinus\"\n"
   ]
  },
  {
   "cell_type": "code",
   "execution_count": null,
   "id": "c52ae05c-26ec-486e-9593-a95311062dea",
   "metadata": {},
   "outputs": [],
   "source": [
    "'''\n",
    "simply loading dicoms into a fresh scene \n",
    "'''\n",
    "\n",
    "\n",
    "##define input_dirs\n",
    "dicom_series_path = \"C:\\\\Users\\\\Sepehr\\\\3dsegmentationProjects\\\\nn-unet-organize-dataset-for-training\\\\304846_Ken_Lin_Lin_Ken____20200831_080509147\"\n",
    "segmentation_path = \"304846_246033_segmented_structures\"\n",
    "\n",
    "# # Clear scene\n",
    "slicer.mrmlScene.Clear(False)\n",
    "\n",
    "shNode = slicer.mrmlScene.GetSubjectHierarchyNode()\n",
    "\n",
    "##load dicom \n",
    "loadedNodeIDs = []\n",
    "with DICOMUtils.TemporaryDICOMDatabase() as db:\n",
    "    DICOMUtils.importDicom(dicom_series_path, db)\n",
    "    patientUIDs = db.patients()\n",
    "\n",
    "    print (patientUIDs)\n",
    "    for patientUID in patientUIDs:\n",
    "        loadedNodeIDs.extend(DICOMUtils.loadPatientByUID(patientUID))"
   ]
  },
  {
   "cell_type": "code",
   "execution_count": null,
   "id": "74170ed5-bfa7-447f-95da-b5b1a04cd65b",
   "metadata": {},
   "outputs": [],
   "source": [
    "def get_model_class_from_file (file): \n",
    "    if \"tooth_\" in file: \n",
    "        #print (file.split(\"tooth_\")[1].split(\"_\")[0])\n",
    "        return file.split(\"tooth_\")[1].split(\"_\")[0]\n",
    "\n",
    "    else: \n",
    "        CaseId = file.split(\"_\") [0]\n",
    "        #print (file.split(f\"{CaseId}_\")[-1].split(\"_\")[0])\n",
    "        return file.split(f\"{CaseId}_\")[-1].split(\"_\")[0]\n",
    "\n",
    "\n",
    "ex1 = \"304846_246033_6971_304846_tooth_11_(us_8)_decimated\"\n",
    "ex2 = \"304846_246033_6968_304846_mandible_decimated.stl\"\n",
    "get_model_class_from_file (ex2)"
   ]
  },
  {
   "cell_type": "code",
   "execution_count": null,
   "id": "6e637c27-c65f-42fa-8fab-03738e833d9d",
   "metadata": {},
   "outputs": [],
   "source": [
    "'''\n",
    "loading the segmentations into appropriate substructuresz \n",
    "\n",
    "'''\n",
    "\n",
    "\n",
    "## creating segmentation nodes\n",
    "maxillaNode = slicer.mrmlScene.AddNewNodeByClass(\"vtkMRMLSegmentationNode\")\n",
    "maxillaNode.CreateDefaultDisplayNodes()\n",
    "maxillaNode.SetName (\"maxillaNode\")\n",
    "\n",
    "mandibleNode = slicer.mrmlScene.AddNewNodeByClass(\"vtkMRMLSegmentationNode\")\n",
    "mandibleNode.CreateDefaultDisplayNodes()\n",
    "mandibleNode.SetName (\"mandibleNode\")\n",
    "\n",
    "maxillaryTeethNode = slicer.mrmlScene.AddNewNodeByClass(\"vtkMRMLSegmentationNode\")\n",
    "maxillaryTeethNode.CreateDefaultDisplayNodes()\n",
    "maxillaryTeethNode.SetName (\"maxillaryTeethNode\")\n",
    "\n",
    "mandibularTeethNode = slicer.mrmlScene.AddNewNodeByClass(\"vtkMRMLSegmentationNode\")\n",
    "mandibularTeethNode.CreateDefaultDisplayNodes()\n",
    "mandibularTeethNode.SetName (\"mandibularTeethNode\")\n",
    "\n",
    "canalNode = slicer.mrmlScene.AddNewNodeByClass(\"vtkMRMLSegmentationNode\")\n",
    "canalNode.CreateDefaultDisplayNodes()\n",
    "canalNode.SetName (\"canalNode\")\n",
    "\n",
    "sinusNode = slicer.mrmlScene.AddNewNodeByClass(\"vtkMRMLSegmentationNode\")\n",
    "sinusNode.CreateDefaultDisplayNodes()\n",
    "sinusNode.SetName (\"sinusNode\")\n",
    "\n",
    "\n",
    "\n",
    "## importing stls and binding them to the appropriate node \n",
    "nodes = []\n",
    "node_names = []\n",
    "for seg in os.listdir(segmentation_path):\n",
    "    if (\".stl\" in seg):\n",
    "        mesh_path = f\"{segmentation_path}/{seg}\"\n",
    "\n",
    "        class_name = get_model_class_from_file(seg)\n",
    "\n",
    "        if class_name in maxillary_teeth_lables:\n",
    "            slicer.modules.segmentations.logic().ImportModelToSegmentationNode(slicer.util.loadModel(mesh_path), maxillaryTeethNode)\n",
    "        elif class_name in mandibular_teeth_lables:\n",
    "            slicer.modules.segmentations.logic().ImportModelToSegmentationNode(slicer.util.loadModel(mesh_path), mandibularTeethNode)\n",
    "        elif class_name == \"maxilla\":\n",
    "            slicer.modules.segmentations.logic().ImportModelToSegmentationNode(slicer.util.loadModel(mesh_path), maxillaNode)\n",
    "        elif class_name == \"mandible\":\n",
    "            slicer.modules.segmentations.logic().ImportModelToSegmentationNode(slicer.util.loadModel(mesh_path), mandibleNode)\n",
    "        elif class_name == \"sinus\":\n",
    "            slicer.modules.segmentations.logic().ImportModelToSegmentationNode(slicer.util.loadModel(mesh_path), sinusNode)\n",
    "        elif class_name == \"canal\":\n",
    "            slicer.modules.segmentations.logic().ImportModelToSegmentationNode(slicer.util.loadModel(mesh_path), canalNode)\n",
    "\n",
    "\n",
    "        \n",
    "        node_names.append(seg.split(\".\")[0])\n",
    "print (node_names)"
   ]
  },
  {
   "cell_type": "code",
   "execution_count": null,
   "id": "89ef4d2e-9c0a-47ba-a1e7-10ed4a51dca0",
   "metadata": {},
   "outputs": [],
   "source": [
    "# segmentationLblmap  = slicer.mrmlScene.AddNewNodeByClass(\"vtkMRMLLabelMapVolumeNode\")\n",
    "# #slicer.modules.segmentations.logic().ExportVisibleSegmentsToLabelmapNode(maxillaryTeethNode, segmentationLblmap, referenceVolumeNode)\n",
    "# segmentIds = maxillaryTeethNode.GetSegmentation().GetSegmentIDs()\n",
    "# slicer.modules.segmentations.logic().ExportSegmentsToLabelmapNode(maxillaryTeethNode, segmentIds, segmentationLblmap, referenceVolumeNode, slicer.vtkSegmentation.EXTENT_REFERENCE_GEOMETRY)\n",
    "# slicer.util.exportNode(segmentationLblmap, \"maxillary_teeth_seg.nii.gz\" , {\"useCompression\": 0})"
   ]
  },
  {
   "cell_type": "code",
   "execution_count": null,
   "id": "820f3527-f404-40f8-89d2-f5998bc185e8",
   "metadata": {},
   "outputs": [],
   "source": [
    "# segmentationLblmap  = slicer.mrmlScene.AddNewNodeByClass(\"vtkMRMLLabelMapVolumeNode\")\n",
    "# slicer.modules.segmentations.logic().ExportVisibleSegmentsToLabelmapNode(maxillaryTeethNode, segmentationLblmap, referenceVolumeNode)\n",
    "\n",
    "# mask = slicer.util.arrayFromVolume(segmentationLblmap)\n",
    "# import numpy as np\n",
    "# print (np.unique (mask))"
   ]
  },
  {
   "cell_type": "code",
   "execution_count": null,
   "id": "4429891a-5410-460a-b26f-a003aef82829",
   "metadata": {},
   "outputs": [],
   "source": [
    "# mask[mask != 0] = 1\n",
    "# slicer.util.updateVolumeFromArray(segmentationLblmap, mask)\n",
    "# print (np.unique (mask))"
   ]
  },
  {
   "cell_type": "code",
   "execution_count": null,
   "id": "67eec206-654a-4ed0-9c11-59b484f094dc",
   "metadata": {},
   "outputs": [],
   "source": [
    "# segmentationLblmap  = slicer.mrmlScene.AddNewNodeByClass(\"vtkMRMLLabelMapVolumeNode\")\n",
    "# slicer.modules.segmentations.logic().ExportVisibleSegmentsToLabelmapNode(maxillaryTeethNode, segmentationLblmap, referenceVolumeNode)\n",
    "# slicer.util.exportNode(segmentationLblmap, \"maxillary_teeth_seg.nii.gz\" , {\"useCompression\": 0})"
   ]
  },
  {
   "cell_type": "code",
   "execution_count": null,
   "id": "f7b1e370-05e5-48ac-a032-2e459c70b272",
   "metadata": {},
   "outputs": [],
   "source": [
    "lable_dict = {1:sinusNode,2:canalNode , 3:mandibleNode,4:maxillaNode, 5:maxillaryTeethNode,6:mandibularTeethNode}\n",
    "all_segment_np = [] \n",
    "for lable, node in lable_dict.items():\n",
    "    name = node.GetName()\n",
    "\n",
    "    segmentationLblmap  = slicer.mrmlScene.AddNewNodeByClass(\"vtkMRMLLabelMapVolumeNode\")\n",
    "    segmentationLblmap.SetName(name+\"_lablemap\")\n",
    "    slicer.modules.segmentations.logic().ExportVisibleSegmentsToLabelmapNode(node, segmentationLblmap, referenceVolumeNode)\n",
    "    mask = slicer.util.arrayFromVolume(segmentationLblmap)\n",
    "    mask[mask > 0] = lable\n",
    "\n",
    "    all_segment_np.append(mask.copy())\n",
    "\n",
    "    #slicer.util.updateVolumeFromArray(segmentationLblmap, mask)\n"
   ]
  },
  {
   "cell_type": "code",
   "execution_count": null,
   "id": "31db1ca0-585e-4e0e-92ac-ce49fc226efa",
   "metadata": {},
   "outputs": [],
   "source": [
    "len(all_segment_np)\n",
    "np.unique(all_segment_np)"
   ]
  },
  {
   "cell_type": "code",
   "execution_count": null,
   "id": "f0678ac5-d3e4-444d-ac44-6402839d8a7e",
   "metadata": {},
   "outputs": [],
   "source": [
    "\n",
    "final_out = all_segment_np[0] \n",
    "for i in range (1,6):\n",
    "    # print (np.unique(all_segment_np[i]))\n",
    "    # print (all_segment_np[i].shape)\n",
    "    #final_out = np.add(final_out,all_segment_np[0], where=final_out[np.where(final_out < 1)].astype(bool))\n",
    "    indices  = np.where (final_out <1)\n",
    "    final_out [indices] = all_segment_np[i][indices]\n",
    "\n",
    "# final_out = np.concatenate (all_segment_np,axis=0)\n",
    "#final_out = np.add(final_out,all_segment_np[1])\n",
    "# final_out = np.add(final_out,all_segment_np[2])\n",
    "# final_out = np.add(final_out,all_segment_np[3])\n",
    "# final_out = np.add(final_out,all_segment_np[4])\n",
    "\n",
    "print (np.unique(final_out))\n",
    "print(final_out.shape)"
   ]
  },
  {
   "cell_type": "code",
   "execution_count": null,
   "id": "4c484b5b-50b5-436a-b5b6-1d346f984723",
   "metadata": {
    "scrolled": true
   },
   "outputs": [],
   "source": [
    "# final_out = np.add(final_out,all_segment_np[2])\n",
    "print(final_out.shape)\n"
   ]
  },
  {
   "cell_type": "code",
   "execution_count": null,
   "id": "bc039af3-1313-447a-8fb3-2d64f7117e48",
   "metadata": {},
   "outputs": [],
   "source": [
    "segmentationLblmap  = slicer.mrmlScene.AddNewNodeByClass(\"vtkMRMLLabelMapVolumeNode\")\n",
    "slicer.modules.segmentations.logic().ExportVisibleSegmentsToLabelmapNode(maxillaryTeethNode, segmentationLblmap, referenceVolumeNode)\n",
    "\n",
    "slicer.util.updateVolumeFromArray(segmentationLblmap, final_out)"
   ]
  },
  {
   "cell_type": "code",
   "execution_count": null,
   "id": "bfbf3955-b469-48e6-8dc2-599c9fb3d51f",
   "metadata": {},
   "outputs": [],
   "source": [
    "##saving directly as nifti \n",
    "referenceVolumeNode = slicer.mrmlScene.GetNodeByID(\"vtkMRMLScalarVolumeNode1\")\n",
    "slicer.util.exportNode(referenceVolumeNode, \"volume.nii.gz\" , {\"useCompression\": 0})\n",
    "slicer.util.exportNode(segmentationLblmap, \"seg.nii.gz\" , {\"useCompression\": 0})\n",
    "\n",
    "# slicer.util.exportNode(mandibleNode, \"madible_seg.nii.gz\" , {\"useCompression\": 0})\n",
    "# slicer.util.exportNode(maxillaNode, \"maxilla_seg.nii.gz\" , {\"useCompression\": 0})\n",
    "# slicer.util.exportNode(maxillaryTeethNode, \"maxillary_teeth_seg.nii.gz\" , {\"useCompression\": 0})\n",
    "# slicer.util.exportNode(mandibularTeethNode, \"mandibular_teeth_seg.nii.gz\" , {\"useCompression\": 0})\n",
    "# slicer.util.exportNode(sinusNode, \"sinus_seg.nii.gz\" , {\"useCompression\": 0})\n",
    "# slicer.util.exportNode(canalNode, \"canal_seg.nii.gz\" , {\"useCompression\": 0})"
   ]
  },
  {
   "cell_type": "code",
   "execution_count": null,
   "id": "0d3d8e8d-e7e5-40d8-b7ed-04603d378bfb",
   "metadata": {},
   "outputs": [],
   "source": []
  },
  {
   "cell_type": "code",
   "execution_count": null,
   "id": "deb46b2a-90c5-4409-ab3d-15133ffbd439",
   "metadata": {},
   "outputs": [],
   "source": []
  },
  {
   "cell_type": "code",
   "execution_count": null,
   "id": "b812a233-c03c-43a2-ab2c-bc8a4905c6df",
   "metadata": {},
   "outputs": [],
   "source": []
  },
  {
   "cell_type": "code",
   "execution_count": null,
   "id": "3a05fd95-ca3b-4d2e-8933-111a87e8a396",
   "metadata": {},
   "outputs": [],
   "source": []
  },
  {
   "cell_type": "code",
   "execution_count": null,
   "id": "e23dcaaa-c92d-422f-9ba0-3ef15da10f5e",
   "metadata": {},
   "outputs": [],
   "source": []
  },
  {
   "cell_type": "code",
   "execution_count": null,
   "id": "f03c08d8-504c-4d1e-9c29-f2fc256850fb",
   "metadata": {},
   "outputs": [],
   "source": []
  },
  {
   "cell_type": "code",
   "execution_count": null,
   "id": "ca4d4d7f-c88a-4666-a628-674d4af1166e",
   "metadata": {},
   "outputs": [],
   "source": []
  },
  {
   "cell_type": "code",
   "execution_count": null,
   "id": "009fc669-5b72-489e-8f03-44dc3f42e3f2",
   "metadata": {},
   "outputs": [],
   "source": []
  },
  {
   "cell_type": "markdown",
   "id": "cec95e8c-cb16-43ac-81c5-6251871160e5",
   "metadata": {},
   "source": [
    "# other processing tasks "
   ]
  },
  {
   "cell_type": "code",
   "execution_count": null,
   "id": "ec13be99-5ed8-4ecf-a89b-e9c46c847f09",
   "metadata": {},
   "outputs": [],
   "source": [
    "\n",
    "def stack_masks ():\n",
    "    all_segmentation_arrays =[]\n",
    "    volumeNode = slicer.mrmlScene.GetNodeByID(MRI_File)\n",
    "    for seg_node in nodes[:5]:\n",
    "        labelmapVolumeNode = slicer.mrmlScene.AddNewNodeByClass('vtkMRMLLabelMapVolumeNode')\n",
    "        slicer.modules.segmentations.logic().ExportVisibleSegmentsToLabelmapNode(seg_node, labelmapVolumeNode, volumeNode)\n",
    "        mask = slicer.util.arrayFromVolume(labelmapVolumeNode)\n",
    "        all_segmentation_arrays.append (mask)\n",
    "\n",
    "    return all_segmentation_arrays"
   ]
  },
  {
   "cell_type": "code",
   "execution_count": null,
   "id": "203b699a-3d70-488e-964f-092ecca79d0e",
   "metadata": {},
   "outputs": [],
   "source": [
    "masks  = stack_masks ()"
   ]
  },
  {
   "cell_type": "code",
   "execution_count": null,
   "id": "50448175-019b-4bdd-ad93-dc6dd23ddc45",
   "metadata": {},
   "outputs": [],
   "source": [
    "len(masks)"
   ]
  },
  {
   "cell_type": "code",
   "execution_count": null,
   "id": "d2c3c18a-d165-41aa-a834-264e75dd27f0",
   "metadata": {},
   "outputs": [],
   "source": [
    "import numpy as np\n",
    "masks = np.stack(masks)"
   ]
  },
  {
   "cell_type": "code",
   "execution_count": null,
   "id": "e71d7cc6-6dbb-4c76-8388-4a83dbc57d91",
   "metadata": {},
   "outputs": [],
   "source": [
    "masks.shape"
   ]
  },
  {
   "cell_type": "code",
   "execution_count": null,
   "id": "75b56cef-b91d-4bc1-be9f-f06bd28f0f14",
   "metadata": {},
   "outputs": [],
   "source": [
    "dicomData = slicer.util.arrayFromVolume(referenceVolumeNode)\n",
    "mask = slicer.util.arrayFromVolume(labelmapVolumeNode)\n",
    "\n",
    "import numpy as np\n",
    "print(mask.shape)\n",
    "print(dicomData.shape)\n",
    "print (np.unique(mask))"
   ]
  },
  {
   "cell_type": "code",
   "execution_count": null,
   "id": "5e4b8602-ed5c-4983-a0f1-35702d4f5279",
   "metadata": {},
   "outputs": [],
   "source": []
  },
  {
   "cell_type": "code",
   "execution_count": null,
   "id": "23cf0a19-eaba-4f94-8bfd-af3fc9326b34",
   "metadata": {},
   "outputs": [],
   "source": [
    "from matplotlib import pyplot as plt\n",
    "\n",
    "for i,sl in enumerate (mask):\n",
    "    plt.imshow (mask[:,:,i])\n",
    "    plt.show()"
   ]
  },
  {
   "cell_type": "code",
   "execution_count": null,
   "id": "93a66892-9ade-477d-8d94-a0a6fd9ad7f5",
   "metadata": {},
   "outputs": [],
   "source": [
    "import SimpleITK as sitk\n",
    "image = sitk.GetImageFromArray (masks)\n",
    "sitk.WriteImage(image, f\"./seg.nii.gz\")"
   ]
  },
  {
   "cell_type": "code",
   "execution_count": null,
   "id": "636577e8-23ee-428f-b994-173a9d89ad91",
   "metadata": {},
   "outputs": [],
   "source": [
    "file = MRI_File\n",
    "\n",
    "from numpy import asarray\n",
    "from numpy import savez_compressed,save\n",
    "save(outputPath + file + \".npy\", dicomData)\n",
    "save(outputPath + file + \"seg.npy\", mask)"
   ]
  },
  {
   "cell_type": "code",
   "execution_count": null,
   "id": "86e28ead-3258-499f-92be-870447e2fb12",
   "metadata": {},
   "outputs": [],
   "source": []
  },
  {
   "cell_type": "code",
   "execution_count": null,
   "id": "eb48f33a-4e38-498a-89f7-ed97d7e92347",
   "metadata": {},
   "outputs": [],
   "source": [
    "## testing the nii.gz \n",
    "\n",
    "\n",
    "nii_path = \"seg.nii.gz\"\n",
    "sitk_t1 = sitk.ReadImage(nii_path)\n",
    "\n",
    "# and access the numpy array:\n",
    "pred = sitk.GetArrayFromImage(sitk_t1)\n",
    "\n",
    "\n",
    "pred.shape"
   ]
  },
  {
   "cell_type": "code",
   "execution_count": null,
   "id": "8b5470b3-939a-4977-a61e-508bc18c0a34",
   "metadata": {},
   "outputs": [],
   "source": []
  }
 ],
 "metadata": {
  "kernelspec": {
   "display_name": "Slicer 5.6",
   "language": "python",
   "name": "slicer-5.6"
  },
  "language_info": {
   "file_extension": ".py",
   "mimetype": "text/x-python",
   "name": "python",
   "version": "3.9.10"
  }
 },
 "nbformat": 4,
 "nbformat_minor": 5
}
