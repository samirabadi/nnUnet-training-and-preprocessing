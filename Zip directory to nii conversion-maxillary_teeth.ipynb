{
 "cells": [
  {
   "cell_type": "code",
   "execution_count": 1,
   "id": "9987388c-a8d9-4704-b963-8339129cf801",
   "metadata": {},
   "outputs": [],
   "source": [
    "import JupyterNotebooksLib as slicernb\n",
    "import slicer\n",
    "import os \n",
    "from DICOMLib import DICOMUtils\n",
    "import numpy as np\n",
    "import zipfile\n",
    "\n",
    "from glob import glob\n",
    "from natsort import natsorted\n",
    "from tqdm import tqdm\n",
    "\n",
    "# Set image viewer size to 50% screen size\n",
    "# slicernb.AppWindow.setWindowSize(scale=0.5)\n",
    "# slicernb.AppWindow.setContents(\"viewers\")\n",
    "\n",
    "# Clear scene\n",
    "slicer.mrmlScene.Clear(False)"
   ]
  },
  {
   "cell_type": "markdown",
   "id": "b40206a5-80d4-4964-97eb-5ed2bfa81407",
   "metadata": {},
   "source": [
    "# Unzip and organize files "
   ]
  },
  {
   "cell_type": "code",
   "execution_count": 2,
   "id": "6c786768-bcab-4ae5-af6b-2cc0087449a8",
   "metadata": {},
   "outputs": [],
   "source": [
    "#input folder \n",
    "input_folder = \"C:\\\\Users\\\\Sepehr\\\\3dsegmentationProjects\\\\nn-unet-organize-dataset-for-training\\\\Segmentation database\"\n",
    "intermediary_folder = \"./temp_unzip\"\n",
    "\n",
    "if  not os.path.exists(intermediary_folder):\n",
    "    os.mkdir(intermediary_folder)"
   ]
  },
  {
   "cell_type": "code",
   "execution_count": 3,
   "id": "c706e0ab-c6a7-4c20-a9cc-ce71b6f99c31",
   "metadata": {},
   "outputs": [],
   "source": [
    "# for zip_file in os.listdir(input_folder):\n",
    "#     if \"(\" in zip_file or \")\" in zip_file:\n",
    "#         continue;\n",
    "#     zip_path = f\"{input_folder}/{zip_file}\"\n",
    "#     Case_id = zip_file.split(\"_\")[0]\n",
    "\n",
    "#     if \"_segmented_structures\" in zip_file: \n",
    "#         out_path = f\"{intermediary_folder}/{Case_id}_segmentations\"\n",
    "#     else:\n",
    "#         out_path = f\"{intermediary_folder}/{Case_id}_volumes\"\n",
    "        \n",
    "#     with zipfile.ZipFile(zip_path, 'r') as zip_ref:\n",
    "#                     zip_ref.extractall(out_path)"
   ]
  },
  {
   "cell_type": "markdown",
   "id": "fbf8913f-d980-429b-8a23-829200bcc547",
   "metadata": {},
   "source": [
    "# organize file names throw out unuasable cases "
   ]
  },
  {
   "cell_type": "code",
   "execution_count": 4,
   "id": "7d4fa809-bf6c-4bf8-ac05-3b56198ddd2e",
   "metadata": {},
   "outputs": [
    {
     "name": "stdout",
     "output_type": "stream",
     "text": [
      "cannot find matching segmentation case will be skipped\n",
      "cannot find matching segmentation case will be skipped\n"
     ]
    }
   ],
   "source": [
    "input_cases = [] \n",
    "\n",
    "\n",
    "volumes_paths = list(natsorted(glob(os.path.join(intermediary_folder,  \"*\"+ f\"_volumes\"))))\n",
    "\n",
    "for vol in volumes_paths: \n",
    "\n",
    "    seg_path = vol.replace (\"_volumes\",\"_segmentations\")\n",
    "\n",
    "    if (os.path.exists(seg_path)):\n",
    "        input_cases.append ({\"vol\":vol,\"seg\":seg_path})\n",
    "    else:\n",
    "        print (\"cannot find matching segmentation case will be skipped\")\n",
    "\n"
   ]
  },
  {
   "cell_type": "code",
   "execution_count": 5,
   "id": "9f67a9d0-ddf1-4041-b0f4-b487b01c6612",
   "metadata": {},
   "outputs": [
    {
     "data": {
      "text/plain": [
       "'304846'"
      ]
     },
     "execution_count": 5,
     "metadata": {},
     "output_type": "execute_result"
    }
   ],
   "source": [
    "input_cases[0][\"vol\"].split(\"\\\\\")[-1].split(\"_\")[0]"
   ]
  },
  {
   "cell_type": "markdown",
   "id": "5acf0bcb-d3a1-4de7-8f10-4b3d2b1f81c5",
   "metadata": {},
   "source": [
    "# using slicer to convert to nii\n",
    "\n",
    "### will need to alter segmentation nodes to reflect changes in classes you are trying to segment"
   ]
  },
  {
   "cell_type": "code",
   "execution_count": 6,
   "id": "09ece8a6-f3bd-4d53-8a78-921dc34cfa95",
   "metadata": {},
   "outputs": [
    {
     "name": "stdout",
     "output_type": "stream",
     "text": [
      "these directories already exist\n"
     ]
    }
   ],
   "source": [
    "nii_path = \"./nii_ds_2\"\n",
    "nii_path_volumes = f\"{nii_path}/Volumes\"\n",
    "nii_path_segmentations = f\"{nii_path}/Masks\"\n",
    "\n",
    "try:\n",
    "    os.mkdir(nii_path)\n",
    "    os.mkdir(nii_path_volumes)\n",
    "    os.mkdir(nii_path_segmentations)\n",
    "except:\n",
    "    print (\"these directories already exist\")"
   ]
  },
  {
   "cell_type": "code",
   "execution_count": 7,
   "id": "f859f038-f7c1-44e9-90f9-59d196e6f73c",
   "metadata": {},
   "outputs": [],
   "source": [
    "def get_model_class_from_file (file): \n",
    "    if \"tooth\" in file: \n",
    "        #print (file.split(\"tooth_\")[1].split(\"_\")[0])\n",
    "\n",
    "        if (\".stl\" in file):\n",
    "            return \"tooth_\" + file.split(\"tooth_\")[1].split(\"_\")[0]\n",
    "        else:\n",
    "            return \"tooth_\" + file.split(\"tooth-\")[1].split(\"-\")[0].split(\"_\")[0]\n",
    "\n",
    "    else: \n",
    "        # CaseId = file.split(\"_\") [-1].split(\".)\n",
    "        # #print (file.split(f\"{CaseId}_\")[-1].split(\"_\")[0])\n",
    "        if (\".stl\" in file):\n",
    "            return file.split(\"_\") [-1].split(\".\")[0]\n",
    "        else:\n",
    "            return file.split(\"-\") [-1].split(\"_\")[0]"
   ]
  },
  {
   "cell_type": "code",
   "execution_count": 8,
   "id": "92002c8d-22ff-4871-951d-33edd9f05852",
   "metadata": {},
   "outputs": [
    {
     "data": {
      "text/plain": [
       "'tooth_13'"
      ]
     },
     "execution_count": 8,
     "metadata": {},
     "output_type": "execute_result"
    }
   ],
   "source": [
    "get_model_class_from_file (\"576547P524654_576547_2018874805-cbct-tooth-13_decimated\")\n",
    "#\"304846_canal.stl\".split(\"_\")"
   ]
  },
  {
   "cell_type": "code",
   "execution_count": 9,
   "id": "aa4abd38-4f01-4a64-ae22-2e04fc2e12c7",
   "metadata": {},
   "outputs": [
    {
     "data": {
      "text/plain": [
       "'11'"
      ]
     },
     "execution_count": 9,
     "metadata": {},
     "output_type": "execute_result"
    }
   ],
   "source": [
    "\"tooth_11\".strip(\"tooth_\")"
   ]
  },
  {
   "cell_type": "code",
   "execution_count": 10,
   "id": "e1da7c97-52ff-4557-b1fc-fe2d3cdf6602",
   "metadata": {},
   "outputs": [],
   "source": [
    "lable_map = {\n",
    "    \"background\":0,\n",
    "    \"tooth_11\":1,\n",
    "    \"tooth_12\":2,\n",
    "    \"tooth_13\":3,\n",
    "    \"tooth_14\":4,\n",
    "    \"tooth_15\":5,\n",
    "    \"tooth_16\":6,\n",
    "    \"tooth_17\":7,\n",
    "    \"tooth_18\":8,\n",
    "    \"tooth_21\":9,\n",
    "    \"tooth_22\":10,\n",
    "    \"tooth_23\":11,\n",
    "    \"tooth_24\":12,\n",
    "    \"tooth_25\":13,\n",
    "    \"tooth_26\":14,\n",
    "    \"tooth_27\":15,\n",
    "    \"tooth_28\":16,\n",
    "\n",
    "}"
   ]
  },
  {
   "cell_type": "code",
   "execution_count": 11,
   "id": "2b7874e6-4db8-4e46-87e9-fac21d7237c2",
   "metadata": {},
   "outputs": [],
   "source": [
    "def convert_to_nnunet_lable_tooth (segmentationNodes,referenceVolumeNode):\n",
    "\n",
    "    all_segment_np = [] \n",
    "    for lable, node in segmentationNodes.items():\n",
    "        name = node.GetName()\n",
    "    \n",
    "        segmentationLblmap  = slicer.mrmlScene.AddNewNodeByClass(\"vtkMRMLLabelMapVolumeNode\")\n",
    "        segmentationLblmap.SetName(name+\"_lablemap\")\n",
    "        slicer.modules.segmentations.logic().ExportVisibleSegmentsToLabelmapNode(node, segmentationLblmap, referenceVolumeNode)\n",
    "        mask = slicer.util.arrayFromVolume(segmentationLblmap)\n",
    "        mask[mask > 0] = lable_map[lable]\n",
    "    \n",
    "        all_segment_np.append(mask.copy())\n",
    "\n",
    "\n",
    "\n",
    "    final_out = all_segment_np[0] \n",
    "    for i in range (1,len(all_segment_np)):\n",
    "        indices  = np.where (final_out <1)\n",
    "        final_out [indices] = all_segment_np[i][indices]\n",
    "\n",
    "    segmentationLblmap  = slicer.mrmlScene.AddNewNodeByClass(\"vtkMRMLLabelMapVolumeNode\")\n",
    "    slicer.modules.segmentations.logic().ExportVisibleSegmentsToLabelmapNode(next(iter(segmentationNodes.values())), segmentationLblmap, referenceVolumeNode)\n",
    "    \n",
    "    slicer.util.updateVolumeFromArray(segmentationLblmap, final_out)\n",
    "\n",
    "    return segmentationLblmap\n",
    "\n",
    "    "
   ]
  },
  {
   "cell_type": "code",
   "execution_count": 12,
   "id": "50d9ca4e-306b-4287-bf3b-d968cfc4624e",
   "metadata": {},
   "outputs": [],
   "source": [
    "def convert_to_nnunet_lable_macro_structure (macroNode,referenceVolumeNode):\n",
    "\n",
    "\n",
    "    name = macroNode.GetName()\n",
    "    segmentationLblmap  = slicer.mrmlScene.AddNewNodeByClass(\"vtkMRMLLabelMapVolumeNode\")\n",
    "    segmentationLblmap.SetName(name+\"_lablemap\")\n",
    "    slicer.modules.segmentations.logic().ExportVisibleSegmentsToLabelmapNode(macroNode, segmentationLblmap, referenceVolumeNode)\n",
    "    mask = slicer.util.arrayFromVolume(segmentationLblmap)\n",
    "    mask[mask > 0] = 1\n",
    "\n",
    "    # labelmapVolumeNode = slicer.mrmlScene.AddNewNodeByClass('vtkMRMLLabelMapVolumeNode')\n",
    "    #slicer.modules.segmentations.logic().ExportVisibleSegmentsToLabelmapNode(macroNode, segmentationLblmap, referenceVolumeNode)\n",
    "    slicer.util.updateVolumeFromArray(segmentationLblmap, mask)\n",
    "    \n",
    "\n",
    "    return segmentationLblmap\n"
   ]
  },
  {
   "cell_type": "code",
   "execution_count": 13,
   "id": "c9c8fd93-f235-4aac-b699-dcbe2d1ae5f3",
   "metadata": {},
   "outputs": [],
   "source": [
    "maxillary_teeth_lables = [\"11\",\"12\",\"13\",\"14\",\"15\",\"16\",\"17\",\"18\",\"21\",\"22\",\"23\",\"24\",\"25\",\"26\",\"27\",\"28\"]\n",
    "mandibular_teeth_lables = [\"31\",\"32\",\"33\",\"34\",\"35\",\"36\",\"37\",\"38\",\"41\",\"42\",\"43\",\"44\",\"45\",\"46\",\"47\",\"48\"]\n",
    "\n",
    "def convert_single_case_to_nii (dicom_series_path,segmentation_path):\n",
    "\n",
    "    '''\n",
    "    simply loading dicoms into a fresh scene \n",
    "    '''\n",
    "    \n",
    "    \n",
    "    # # Clear scene\n",
    "    slicer.mrmlScene.Clear(False)\n",
    "\n",
    "    print(dicom_series_path)\n",
    "    print(segmentation_path)\n",
    "    \n",
    "    ##load dicom \n",
    "    loadedNodeIDs = []\n",
    "    with DICOMUtils.TemporaryDICOMDatabase() as db:\n",
    "        DICOMUtils.importDicom(os.path.abspath(dicom_series_path), db)\n",
    "        patientUIDs = db.patients()\n",
    "    \n",
    "        print (patientUIDs)\n",
    "        for patientUID in patientUIDs:\n",
    "            loadedNodeIDs.extend(DICOMUtils.loadPatientByUID(patientUID))\n",
    "\n",
    "\n",
    "\n",
    "    '''\n",
    "    loading the segmentations into appropriate substructuresz \n",
    "    \n",
    "    '''\n",
    "\n",
    "    maxillaryTeethNode = slicer.mrmlScene.AddNewNodeByClass(\"vtkMRMLSegmentationNode\")\n",
    "    maxillaryTeethNode.CreateDefaultDisplayNodes()\n",
    "    maxillaryTeethNode.SetName (\"maxillaryTeethNode\")\n",
    "    \n",
    "    \n",
    "    ## creating segmentation nodes\n",
    "    segmentationNodes = {} \n",
    "\n",
    "\n",
    "    ## importing stls \n",
    "    nodes = []\n",
    "    node_names = []\n",
    "    for seg in os.listdir(segmentation_path):\n",
    "        if ((\".stl\" in seg or \".obj\" in seg) and \"pulp\" not in seg ):\n",
    "            mesh_path = f\"{segmentation_path}/{seg}\"\n",
    "            class_name = get_model_class_from_file(seg)\n",
    "\n",
    "            if class_name.strip(\"tooth_\") in maxillary_teeth_lables:\n",
    "                slicer.modules.segmentations.logic().ImportModelToSegmentationNode(slicer.util.loadModel(mesh_path), maxillaryTeethNode)\n",
    "\n",
    "            if class_name in lable_map:\n",
    "\n",
    "                segmentationNode = slicer.mrmlScene.AddNewNodeByClass(\"vtkMRMLSegmentationNode\")\n",
    "                segmentationNode.CreateDefaultDisplayNodes()\n",
    "                segmentationNodes [class_name] = segmentationNode\n",
    "                \n",
    "                slicer.modules.segmentations.logic().ImportModelToSegmentationNode(slicer.util.loadModel(mesh_path), segmentationNode)\n",
    "\n",
    "    if (len(segmentationNodes) <1):\n",
    "        print (\"too few of desired class in this case. this case will be skipped\")\n",
    "        return;\n",
    "\n",
    "    referenceVolumeNode = slicer.mrmlScene.GetNodeByID(\"vtkMRMLScalarVolumeNode1\")\n",
    "\n",
    "    segmentation_lable_map = convert_to_nnunet_lable_tooth(segmentationNodes,referenceVolumeNode)\n",
    "    input_volume_map = convert_to_nnunet_lable_macro_structure(maxillaryTeethNode,referenceVolumeNode)\n",
    "\n",
    "    caseID = dicom_series_path.split(\"\\\\\")[-1].split(\"_\")[0]\n",
    "    volume_save_path = f\"{nii_path_volumes}/{caseID}_input.nii.gz\"\n",
    "    seg_save_path =  f\"{nii_path_segmentations}/{caseID}_seg.nii.gz\"\n",
    "\n",
    "    slicer.util.exportNode(input_volume_map, volume_save_path , {\"useCompression\": 0})\n",
    "    slicer.util.exportNode(segmentation_lable_map, seg_save_path , {\"useCompression\": 0})\n",
    "\n",
    "    print (\"one case sucessfully converted\")\n",
    "     \n",
    "\n",
    "\n",
    "        "
   ]
  },
  {
   "cell_type": "code",
   "execution_count": 14,
   "id": "7e4afd5c-a0cf-41b2-98e8-f497f8a7e4ef",
   "metadata": {},
   "outputs": [],
   "source": [
    "def batch_nii_convert (in_case_files):\n",
    "\n",
    "    for case in tqdm(in_case_files):\n",
    "        try:\n",
    "            convert_single_case_to_nii (case[\"vol\"],case[\"seg\"])\n",
    "        except:\n",
    "            print (f\"somthing is wrong with case {case} probably a missing segmentation\")\n",
    "    print (\"done converting all cases to nii\")\n",
    "    "
   ]
  },
  {
   "cell_type": "code",
   "execution_count": null,
   "id": "78215f33-47f9-4dab-aa75-45268bbb3771",
   "metadata": {},
   "outputs": [
    {
     "name": "stderr",
     "output_type": "stream",
     "text": [
      "  0%|          | 0/238 [00:00<?, ?it/s]"
     ]
    },
    {
     "name": "stdout",
     "output_type": "stream",
     "text": [
      "./temp_unzip\\304846_volumes\n",
      "./temp_unzip\\304846_segmentations\n",
      "('1',)\n",
      "one case sucessfully converted\n"
     ]
    },
    {
     "name": "stderr",
     "output_type": "stream",
     "text": [
      "  0%|          | 1/238 [02:17<9:04:01, 137.73s/it]"
     ]
    },
    {
     "name": "stdout",
     "output_type": "stream",
     "text": [
      "./temp_unzip\\315920_volumes\n",
      "./temp_unzip\\315920_segmentations\n",
      "('1',)\n",
      "one case sucessfully converted\n"
     ]
    },
    {
     "name": "stderr",
     "output_type": "stream",
     "text": [
      "  1%|          | 2/238 [03:48<7:14:09, 110.38s/it]"
     ]
    },
    {
     "name": "stdout",
     "output_type": "stream",
     "text": [
      "./temp_unzip\\317681_volumes\n",
      "./temp_unzip\\317681_segmentations\n",
      "('1',)\n",
      "one case sucessfully converted\n"
     ]
    },
    {
     "name": "stderr",
     "output_type": "stream",
     "text": [
      "  1%|1         | 3/238 [05:13<6:25:57, 98.54s/it] "
     ]
    },
    {
     "name": "stdout",
     "output_type": "stream",
     "text": [
      "./temp_unzip\\318908_volumes\n",
      "./temp_unzip\\318908_segmentations\n",
      "('1',)\n",
      "one case sucessfully converted\n"
     ]
    },
    {
     "name": "stderr",
     "output_type": "stream",
     "text": [
      "  2%|1         | 4/238 [06:48<6:18:14, 96.98s/it]"
     ]
    },
    {
     "name": "stdout",
     "output_type": "stream",
     "text": [
      "./temp_unzip\\321497_volumes\n",
      "./temp_unzip\\321497_segmentations\n",
      "('1',)\n",
      "one case sucessfully converted\n"
     ]
    },
    {
     "name": "stderr",
     "output_type": "stream",
     "text": [
      "  2%|2         | 5/238 [08:34<6:30:04, 100.45s/it]"
     ]
    },
    {
     "name": "stdout",
     "output_type": "stream",
     "text": [
      "./temp_unzip\\333654_volumes\n",
      "./temp_unzip\\333654_segmentations\n",
      "('1',)\n",
      "one case sucessfully converted\n"
     ]
    },
    {
     "name": "stderr",
     "output_type": "stream",
     "text": [
      "  3%|2         | 6/238 [10:24<6:41:19, 103.79s/it]"
     ]
    },
    {
     "name": "stdout",
     "output_type": "stream",
     "text": [
      "./temp_unzip\\334691_volumes\n",
      "./temp_unzip\\334691_segmentations\n",
      "('1',)\n",
      "one case sucessfully converted\n"
     ]
    },
    {
     "name": "stderr",
     "output_type": "stream",
     "text": [
      "  3%|2         | 7/238 [12:37<7:16:05, 113.27s/it]"
     ]
    },
    {
     "name": "stdout",
     "output_type": "stream",
     "text": [
      "./temp_unzip\\337186_volumes\n",
      "./temp_unzip\\337186_segmentations\n",
      "('1',)\n",
      "one case sucessfully converted\n"
     ]
    },
    {
     "name": "stderr",
     "output_type": "stream",
     "text": [
      "  3%|3         | 8/238 [13:55<6:30:31, 101.87s/it]"
     ]
    },
    {
     "name": "stdout",
     "output_type": "stream",
     "text": [
      "./temp_unzip\\342104_volumes\n",
      "./temp_unzip\\342104_segmentations\n",
      "('1',)\n",
      "one case sucessfully converted\n"
     ]
    },
    {
     "name": "stderr",
     "output_type": "stream",
     "text": [
      "  4%|3         | 9/238 [15:42<6:35:12, 103.55s/it]"
     ]
    },
    {
     "name": "stdout",
     "output_type": "stream",
     "text": [
      "./temp_unzip\\342835_volumes\n",
      "./temp_unzip\\342835_segmentations\n",
      "('1',)\n",
      "one case sucessfully converted\n"
     ]
    },
    {
     "name": "stderr",
     "output_type": "stream",
     "text": [
      "  4%|4         | 10/238 [17:08<6:13:32, 98.30s/it]"
     ]
    },
    {
     "name": "stdout",
     "output_type": "stream",
     "text": [
      "./temp_unzip\\343403_volumes\n",
      "./temp_unzip\\343403_segmentations\n",
      "('1',)\n",
      "one case sucessfully converted\n"
     ]
    },
    {
     "name": "stderr",
     "output_type": "stream",
     "text": [
      "  5%|4         | 11/238 [18:28<5:49:49, 92.46s/it]"
     ]
    },
    {
     "name": "stdout",
     "output_type": "stream",
     "text": [
      "./temp_unzip\\343418_volumes\n",
      "./temp_unzip\\343418_segmentations\n",
      "('1',)\n",
      "one case sucessfully converted\n"
     ]
    },
    {
     "name": "stderr",
     "output_type": "stream",
     "text": [
      "  5%|5         | 12/238 [19:42<5:27:45, 87.02s/it]"
     ]
    },
    {
     "name": "stdout",
     "output_type": "stream",
     "text": [
      "./temp_unzip\\344607_volumes\n",
      "./temp_unzip\\344607_segmentations\n",
      "('1',)\n",
      "one case sucessfully converted\n"
     ]
    },
    {
     "name": "stderr",
     "output_type": "stream",
     "text": [
      "  5%|5         | 13/238 [21:37<5:57:29, 95.33s/it]"
     ]
    },
    {
     "name": "stdout",
     "output_type": "stream",
     "text": [
      "./temp_unzip\\344681_volumes\n",
      "./temp_unzip\\344681_segmentations\n",
      "('1',)\n",
      "one case sucessfully converted\n"
     ]
    },
    {
     "name": "stderr",
     "output_type": "stream",
     "text": [
      "  6%|5         | 14/238 [24:31<7:25:29, 119.33s/it]"
     ]
    },
    {
     "name": "stdout",
     "output_type": "stream",
     "text": [
      "./temp_unzip\\344711_volumes\n",
      "./temp_unzip\\344711_segmentations\n",
      "('1',)\n",
      "one case sucessfully converted\n"
     ]
    },
    {
     "name": "stderr",
     "output_type": "stream",
     "text": [
      "  6%|6         | 15/238 [25:01<5:43:18, 92.37s/it] "
     ]
    },
    {
     "name": "stdout",
     "output_type": "stream",
     "text": [
      "./temp_unzip\\345532_volumes\n",
      "./temp_unzip\\345532_segmentations\n",
      "('1',)\n",
      "one case sucessfully converted\n"
     ]
    },
    {
     "name": "stderr",
     "output_type": "stream",
     "text": [
      "  7%|6         | 16/238 [26:01<5:05:10, 82.48s/it]"
     ]
    },
    {
     "name": "stdout",
     "output_type": "stream",
     "text": [
      "./temp_unzip\\346873_volumes\n",
      "./temp_unzip\\346873_segmentations\n",
      "('1',)\n",
      "one case sucessfully converted\n"
     ]
    },
    {
     "name": "stderr",
     "output_type": "stream",
     "text": [
      "  7%|7         | 17/238 [27:19<4:58:39, 81.08s/it]"
     ]
    },
    {
     "name": "stdout",
     "output_type": "stream",
     "text": [
      "./temp_unzip\\347033_volumes\n",
      "./temp_unzip\\347033_segmentations\n",
      "('1',)\n",
      "one case sucessfully converted\n"
     ]
    },
    {
     "name": "stderr",
     "output_type": "stream",
     "text": [
      "  8%|7         | 18/238 [29:09<5:30:00, 90.00s/it]"
     ]
    },
    {
     "name": "stdout",
     "output_type": "stream",
     "text": [
      "./temp_unzip\\347103_volumes\n",
      "./temp_unzip\\347103_segmentations\n",
      "('1',)\n",
      "one case sucessfully converted\n"
     ]
    },
    {
     "name": "stderr",
     "output_type": "stream",
     "text": [
      "  8%|7         | 19/238 [30:41<5:29:55, 90.39s/it]"
     ]
    },
    {
     "name": "stdout",
     "output_type": "stream",
     "text": [
      "./temp_unzip\\347286_volumes\n",
      "./temp_unzip\\347286_segmentations\n",
      "('1',)\n",
      "one case sucessfully converted\n"
     ]
    },
    {
     "name": "stderr",
     "output_type": "stream",
     "text": [
      "  8%|8         | 20/238 [31:48<5:03:22, 83.50s/it]"
     ]
    },
    {
     "name": "stdout",
     "output_type": "stream",
     "text": [
      "./temp_unzip\\349004_volumes\n",
      "./temp_unzip\\349004_segmentations\n",
      "('1',)\n",
      "one case sucessfully converted\n"
     ]
    },
    {
     "name": "stderr",
     "output_type": "stream",
     "text": [
      "  9%|8         | 21/238 [32:58<4:46:54, 79.33s/it]"
     ]
    },
    {
     "name": "stdout",
     "output_type": "stream",
     "text": [
      "./temp_unzip\\349272_volumes\n",
      "./temp_unzip\\349272_segmentations\n",
      "('1',)\n",
      "one case sucessfully converted\n"
     ]
    },
    {
     "name": "stderr",
     "output_type": "stream",
     "text": [
      "  9%|9         | 22/238 [34:17<4:45:13, 79.23s/it]"
     ]
    },
    {
     "name": "stdout",
     "output_type": "stream",
     "text": [
      "./temp_unzip\\349397_volumes\n",
      "./temp_unzip\\349397_segmentations\n",
      "('1',)\n",
      "one case sucessfully converted\n"
     ]
    },
    {
     "name": "stderr",
     "output_type": "stream",
     "text": [
      " 10%|9         | 23/238 [35:54<5:03:31, 84.70s/it]"
     ]
    },
    {
     "name": "stdout",
     "output_type": "stream",
     "text": [
      "./temp_unzip\\349674_volumes\n",
      "./temp_unzip\\349674_segmentations\n",
      "('1',)\n",
      "one case sucessfully converted\n"
     ]
    },
    {
     "name": "stderr",
     "output_type": "stream",
     "text": [
      " 10%|#         | 24/238 [37:16<4:58:59, 83.83s/it]"
     ]
    },
    {
     "name": "stdout",
     "output_type": "stream",
     "text": [
      "./temp_unzip\\350189_volumes\n",
      "./temp_unzip\\350189_segmentations\n",
      "('1',)\n",
      "one case sucessfully converted\n"
     ]
    },
    {
     "name": "stderr",
     "output_type": "stream",
     "text": [
      " 11%|#         | 25/238 [38:48<5:06:03, 86.21s/it]"
     ]
    },
    {
     "name": "stdout",
     "output_type": "stream",
     "text": [
      "./temp_unzip\\350448_volumes\n",
      "./temp_unzip\\350448_segmentations\n",
      "('1',)\n",
      "one case sucessfully converted\n"
     ]
    },
    {
     "name": "stderr",
     "output_type": "stream",
     "text": [
      " 11%|#         | 26/238 [40:05<4:55:16, 83.57s/it]"
     ]
    },
    {
     "name": "stdout",
     "output_type": "stream",
     "text": [
      "./temp_unzip\\352194_volumes\n",
      "./temp_unzip\\352194_segmentations\n",
      "('1',)\n",
      "one case sucessfully converted\n"
     ]
    },
    {
     "name": "stderr",
     "output_type": "stream",
     "text": [
      " 11%|#1        | 27/238 [41:08<4:32:17, 77.43s/it]"
     ]
    },
    {
     "name": "stdout",
     "output_type": "stream",
     "text": [
      "./temp_unzip\\352427_volumes\n",
      "./temp_unzip\\352427_segmentations\n",
      "('1',)\n",
      "one case sucessfully converted\n"
     ]
    },
    {
     "name": "stderr",
     "output_type": "stream",
     "text": [
      " 12%|#1        | 28/238 [42:42<4:48:08, 82.33s/it]"
     ]
    },
    {
     "name": "stdout",
     "output_type": "stream",
     "text": [
      "./temp_unzip\\353514_volumes\n",
      "./temp_unzip\\353514_segmentations\n",
      "('1',)\n",
      "one case sucessfully converted\n"
     ]
    },
    {
     "name": "stderr",
     "output_type": "stream",
     "text": [
      " 12%|#2        | 29/238 [43:51<4:32:16, 78.16s/it]"
     ]
    },
    {
     "name": "stdout",
     "output_type": "stream",
     "text": [
      "./temp_unzip\\354238_volumes\n",
      "./temp_unzip\\354238_segmentations\n",
      "('1',)\n",
      "one case sucessfully converted\n"
     ]
    },
    {
     "name": "stderr",
     "output_type": "stream",
     "text": [
      " 13%|#2        | 30/238 [46:06<5:30:21, 95.30s/it]"
     ]
    },
    {
     "name": "stdout",
     "output_type": "stream",
     "text": [
      "./temp_unzip\\355049_volumes\n",
      "./temp_unzip\\355049_segmentations\n",
      "('1',)\n",
      "one case sucessfully converted\n"
     ]
    },
    {
     "name": "stderr",
     "output_type": "stream",
     "text": [
      " 13%|#3        | 31/238 [47:09<4:55:30, 85.65s/it]"
     ]
    },
    {
     "name": "stdout",
     "output_type": "stream",
     "text": [
      "./temp_unzip\\355487_volumes\n",
      "./temp_unzip\\355487_segmentations\n",
      "('1',)\n",
      "one case sucessfully converted\n"
     ]
    },
    {
     "name": "stderr",
     "output_type": "stream",
     "text": [
      " 13%|#3        | 32/238 [48:59<5:19:20, 93.01s/it]"
     ]
    },
    {
     "name": "stdout",
     "output_type": "stream",
     "text": [
      "./temp_unzip\\355908_volumes\n",
      "./temp_unzip\\355908_segmentations\n",
      "('1',)\n",
      "one case sucessfully converted\n"
     ]
    },
    {
     "name": "stderr",
     "output_type": "stream",
     "text": [
      " 14%|#3        | 33/238 [50:19<5:04:13, 89.04s/it]"
     ]
    },
    {
     "name": "stdout",
     "output_type": "stream",
     "text": [
      "./temp_unzip\\356042_volumes\n",
      "./temp_unzip\\356042_segmentations\n",
      "('1',)\n",
      "one case sucessfully converted\n"
     ]
    },
    {
     "name": "stderr",
     "output_type": "stream",
     "text": [
      " 14%|#4        | 34/238 [52:15<5:30:25, 97.18s/it]"
     ]
    },
    {
     "name": "stdout",
     "output_type": "stream",
     "text": [
      "./temp_unzip\\357786_volumes\n",
      "./temp_unzip\\357786_segmentations\n",
      "('1',)\n",
      "one case sucessfully converted\n"
     ]
    },
    {
     "name": "stderr",
     "output_type": "stream",
     "text": [
      " 15%|#4        | 35/238 [53:58<5:34:32, 98.88s/it]"
     ]
    },
    {
     "name": "stdout",
     "output_type": "stream",
     "text": [
      "./temp_unzip\\362557_volumes\n",
      "./temp_unzip\\362557_segmentations\n",
      "('1',)\n",
      "one case sucessfully converted\n"
     ]
    },
    {
     "name": "stderr",
     "output_type": "stream",
     "text": [
      " 15%|#5        | 36/238 [55:53<5:49:09, 103.71s/it]"
     ]
    },
    {
     "name": "stdout",
     "output_type": "stream",
     "text": [
      "./temp_unzip\\362802_volumes\n",
      "./temp_unzip\\362802_segmentations\n",
      "('1',)\n",
      "one case sucessfully converted\n"
     ]
    },
    {
     "name": "stderr",
     "output_type": "stream",
     "text": [
      " 16%|#5        | 37/238 [57:58<6:09:09, 110.20s/it]"
     ]
    },
    {
     "name": "stdout",
     "output_type": "stream",
     "text": [
      "./temp_unzip\\365074_volumes\n",
      "./temp_unzip\\365074_segmentations\n",
      "('1',)\n",
      "one case sucessfully converted\n"
     ]
    },
    {
     "name": "stderr",
     "output_type": "stream",
     "text": [
      " 16%|#5        | 38/238 [1:00:22<6:40:58, 120.29s/it]"
     ]
    },
    {
     "name": "stdout",
     "output_type": "stream",
     "text": [
      "./temp_unzip\\367087_volumes\n",
      "./temp_unzip\\367087_segmentations\n",
      "('1',)\n",
      "one case sucessfully converted\n"
     ]
    },
    {
     "name": "stderr",
     "output_type": "stream",
     "text": [
      " 16%|#6        | 39/238 [1:02:21<6:37:26, 119.83s/it]"
     ]
    },
    {
     "name": "stdout",
     "output_type": "stream",
     "text": [
      "./temp_unzip\\368013_volumes\n",
      "./temp_unzip\\368013_segmentations\n",
      "('1',)\n",
      "one case sucessfully converted\n"
     ]
    },
    {
     "name": "stderr",
     "output_type": "stream",
     "text": [
      " 17%|#6        | 40/238 [1:04:14<6:28:54, 117.85s/it]"
     ]
    },
    {
     "name": "stdout",
     "output_type": "stream",
     "text": [
      "./temp_unzip\\368395_volumes\n",
      "./temp_unzip\\368395_segmentations\n",
      "('1',)\n",
      "one case sucessfully converted\n"
     ]
    },
    {
     "name": "stderr",
     "output_type": "stream",
     "text": [
      " 17%|#7        | 41/238 [1:05:42<5:56:59, 108.73s/it]"
     ]
    },
    {
     "name": "stdout",
     "output_type": "stream",
     "text": [
      "./temp_unzip\\368732_volumes\n",
      "./temp_unzip\\368732_segmentations\n",
      "('1',)\n",
      "one case sucessfully converted\n"
     ]
    },
    {
     "name": "stderr",
     "output_type": "stream",
     "text": [
      " 18%|#7        | 42/238 [1:07:56<6:20:45, 116.56s/it]"
     ]
    },
    {
     "name": "stdout",
     "output_type": "stream",
     "text": [
      "./temp_unzip\\369271_volumes\n",
      "./temp_unzip\\369271_segmentations\n",
      "('1',)\n",
      "one case sucessfully converted\n"
     ]
    },
    {
     "name": "stderr",
     "output_type": "stream",
     "text": [
      " 18%|#8        | 43/238 [1:10:43<7:07:31, 131.55s/it]"
     ]
    },
    {
     "name": "stdout",
     "output_type": "stream",
     "text": [
      "./temp_unzip\\369473_volumes\n",
      "./temp_unzip\\369473_segmentations\n",
      "('1',)\n",
      "one case sucessfully converted\n"
     ]
    },
    {
     "name": "stderr",
     "output_type": "stream",
     "text": [
      " 18%|#8        | 44/238 [1:13:00<7:10:56, 133.28s/it]"
     ]
    },
    {
     "name": "stdout",
     "output_type": "stream",
     "text": [
      "./temp_unzip\\369592_volumes\n",
      "./temp_unzip\\369592_segmentations\n",
      "('1',)\n",
      "one case sucessfully converted\n"
     ]
    },
    {
     "name": "stderr",
     "output_type": "stream",
     "text": [
      " 19%|#8        | 45/238 [1:14:29<6:25:29, 119.84s/it]"
     ]
    },
    {
     "name": "stdout",
     "output_type": "stream",
     "text": [
      "./temp_unzip\\369885_volumes\n",
      "./temp_unzip\\369885_segmentations\n",
      "('1',)\n",
      "one case sucessfully converted\n"
     ]
    },
    {
     "name": "stderr",
     "output_type": "stream",
     "text": [
      " 19%|#9        | 46/238 [1:17:27<7:19:19, 137.29s/it]"
     ]
    },
    {
     "name": "stdout",
     "output_type": "stream",
     "text": [
      "./temp_unzip\\370299_volumes\n",
      "./temp_unzip\\370299_segmentations\n",
      "('1',)\n",
      "one case sucessfully converted\n"
     ]
    },
    {
     "name": "stderr",
     "output_type": "stream",
     "text": [
      " 20%|#9        | 47/238 [1:18:42<6:18:03, 118.76s/it]"
     ]
    },
    {
     "name": "stdout",
     "output_type": "stream",
     "text": [
      "./temp_unzip\\370825_volumes\n",
      "./temp_unzip\\370825_segmentations\n",
      "('1',)\n",
      "one case sucessfully converted\n"
     ]
    },
    {
     "name": "stderr",
     "output_type": "stream",
     "text": [
      " 20%|##        | 48/238 [1:20:01<5:37:42, 106.65s/it]"
     ]
    },
    {
     "name": "stdout",
     "output_type": "stream",
     "text": [
      "./temp_unzip\\370876_volumes\n",
      "./temp_unzip\\370876_segmentations\n",
      "('1',)\n",
      "one case sucessfully converted\n"
     ]
    },
    {
     "name": "stderr",
     "output_type": "stream",
     "text": [
      " 21%|##        | 49/238 [1:20:46<4:38:31, 88.42s/it] "
     ]
    },
    {
     "name": "stdout",
     "output_type": "stream",
     "text": [
      "./temp_unzip\\371380_volumes\n",
      "./temp_unzip\\371380_segmentations\n",
      "('1',)\n",
      "one case sucessfully converted\n"
     ]
    },
    {
     "name": "stderr",
     "output_type": "stream",
     "text": [
      " 21%|##1       | 50/238 [1:22:06<4:28:20, 85.64s/it]"
     ]
    },
    {
     "name": "stdout",
     "output_type": "stream",
     "text": [
      "./temp_unzip\\371694_volumes\n",
      "./temp_unzip\\371694_segmentations\n",
      "('1',)\n",
      "one case sucessfully converted\n"
     ]
    },
    {
     "name": "stderr",
     "output_type": "stream",
     "text": [
      " 21%|##1       | 51/238 [1:23:32<4:27:24, 85.80s/it]"
     ]
    },
    {
     "name": "stdout",
     "output_type": "stream",
     "text": [
      "./temp_unzip\\371741_volumes\n",
      "./temp_unzip\\371741_segmentations\n",
      "('1',)\n",
      "one case sucessfully converted\n"
     ]
    },
    {
     "name": "stderr",
     "output_type": "stream",
     "text": [
      " 22%|##1       | 52/238 [1:25:44<5:08:45, 99.60s/it]"
     ]
    },
    {
     "name": "stdout",
     "output_type": "stream",
     "text": [
      "./temp_unzip\\371965_volumes\n",
      "./temp_unzip\\371965_segmentations\n",
      "('1',)\n",
      "one case sucessfully converted\n"
     ]
    },
    {
     "name": "stderr",
     "output_type": "stream",
     "text": [
      " 22%|##2       | 53/238 [1:28:35<6:13:42, 121.20s/it]"
     ]
    },
    {
     "name": "stdout",
     "output_type": "stream",
     "text": [
      "./temp_unzip\\372053_volumes\n",
      "./temp_unzip\\372053_segmentations\n",
      "('1',)\n",
      "one case sucessfully converted\n"
     ]
    },
    {
     "name": "stderr",
     "output_type": "stream",
     "text": [
      " 23%|##2       | 54/238 [1:30:48<6:22:28, 124.72s/it]"
     ]
    },
    {
     "name": "stdout",
     "output_type": "stream",
     "text": [
      "./temp_unzip\\372279_volumes\n",
      "./temp_unzip\\372279_segmentations\n",
      "('1',)\n",
      "one case sucessfully converted\n"
     ]
    },
    {
     "name": "stderr",
     "output_type": "stream",
     "text": [
      " 23%|##3       | 55/238 [1:31:41<5:14:43, 103.19s/it]"
     ]
    },
    {
     "name": "stdout",
     "output_type": "stream",
     "text": [
      "./temp_unzip\\372516_volumes\n",
      "./temp_unzip\\372516_segmentations\n",
      "('1',)\n",
      "one case sucessfully converted\n"
     ]
    },
    {
     "name": "stderr",
     "output_type": "stream",
     "text": [
      " 24%|##3       | 56/238 [1:32:28<4:22:03, 86.39s/it] "
     ]
    },
    {
     "name": "stdout",
     "output_type": "stream",
     "text": [
      "./temp_unzip\\372655_volumes\n",
      "./temp_unzip\\372655_segmentations\n",
      "('1',)\n",
      "one case sucessfully converted\n"
     ]
    },
    {
     "name": "stderr",
     "output_type": "stream",
     "text": [
      " 24%|##3       | 57/238 [1:33:45<4:11:25, 83.34s/it]"
     ]
    },
    {
     "name": "stdout",
     "output_type": "stream",
     "text": [
      "./temp_unzip\\372710_volumes\n",
      "./temp_unzip\\372710_segmentations\n",
      "('1',)\n",
      "one case sucessfully converted\n"
     ]
    },
    {
     "name": "stderr",
     "output_type": "stream",
     "text": [
      " 24%|##4       | 58/238 [1:35:04<4:06:30, 82.17s/it]"
     ]
    },
    {
     "name": "stdout",
     "output_type": "stream",
     "text": [
      "./temp_unzip\\372826_volumes\n",
      "./temp_unzip\\372826_segmentations\n",
      "('1',)\n",
      "one case sucessfully converted\n"
     ]
    },
    {
     "name": "stderr",
     "output_type": "stream",
     "text": [
      " 25%|##4       | 59/238 [1:37:13<4:46:54, 96.17s/it]"
     ]
    },
    {
     "name": "stdout",
     "output_type": "stream",
     "text": [
      "./temp_unzip\\373269_volumes\n",
      "./temp_unzip\\373269_segmentations\n",
      "('1',)\n",
      "one case sucessfully converted\n"
     ]
    },
    {
     "name": "stderr",
     "output_type": "stream",
     "text": [
      " 25%|##5       | 60/238 [1:39:19<5:12:02, 105.18s/it]"
     ]
    },
    {
     "name": "stdout",
     "output_type": "stream",
     "text": [
      "./temp_unzip\\373493_volumes\n",
      "./temp_unzip\\373493_segmentations\n",
      "('1',)\n",
      "one case sucessfully converted\n"
     ]
    },
    {
     "name": "stderr",
     "output_type": "stream",
     "text": [
      " 26%|##5       | 61/238 [1:42:03<6:02:36, 122.92s/it]"
     ]
    },
    {
     "name": "stdout",
     "output_type": "stream",
     "text": [
      "./temp_unzip\\375521_volumes\n",
      "./temp_unzip\\375521_segmentations\n",
      "('1',)\n",
      "one case sucessfully converted\n"
     ]
    },
    {
     "name": "stderr",
     "output_type": "stream",
     "text": [
      " 26%|##6       | 62/238 [1:43:11<5:11:46, 106.29s/it]"
     ]
    },
    {
     "name": "stdout",
     "output_type": "stream",
     "text": [
      "./temp_unzip\\378479_volumes\n",
      "./temp_unzip\\378479_segmentations\n",
      "('1',)\n",
      "one case sucessfully converted\n"
     ]
    },
    {
     "name": "stderr",
     "output_type": "stream",
     "text": [
      " 26%|##6       | 63/238 [1:45:12<5:23:21, 110.87s/it]"
     ]
    },
    {
     "name": "stdout",
     "output_type": "stream",
     "text": [
      "./temp_unzip\\381586_volumes\n",
      "./temp_unzip\\381586_segmentations\n",
      "('1',)\n"
     ]
    }
   ],
   "source": [
    "batch_nii_convert (input_cases)"
   ]
  },
  {
   "cell_type": "code",
   "execution_count": null,
   "id": "c2bd95b1-d062-4235-992e-4048effdb08d",
   "metadata": {},
   "outputs": [],
   "source": [
    "# test_seg = \"C:\\\\Users\\\\Sepehr\\\\3dsegmentationProjects\\\\nn-unet-organize-dataset-for-training\\\\304846_246033_segmented_structures\"\n",
    "# test_vol = \"C:\\\\Users\\\\Sepehr\\\\3dsegmentationProjects\\\\nn-unet-organize-dataset-for-training\\\\304846_Ken_Lin_Lin_Ken____20200831_080509147\"\n",
    "\n",
    "# test_seg2 = \"C:\\\\Users\\\\Sepehr\\\\3dsegmentationProjects\\\\nn-unet-organize-dataset-for-training\\\\temp_unzip\\\\576547_segmentations\"\n",
    "# test_vol2 = \"C:\\\\Users\\\\Sepehr\\\\3dsegmentationProjects\\\\nn-unet-organize-dataset-for-training\\\\temp_unzip\\\\576547_volumes\"\n",
    "\n",
    "# # # convert_single_case_to_nii (input_cases[0][\"vol\"],input_cases[0][\"seg\"])\n",
    "# convert_single_case_to_nii (test_vol2,test_seg2)"
   ]
  },
  {
   "cell_type": "markdown",
   "id": "a57ecaf2-80a2-46b7-98ed-1b1936084477",
   "metadata": {},
   "source": [
    "# building nnunet_dataset from nii"
   ]
  },
  {
   "cell_type": "code",
   "execution_count": null,
   "id": "5d3753e3-750a-4644-b07a-c3d035c7b32a",
   "metadata": {},
   "outputs": [],
   "source": [
    "#making dataset Folder \n",
    "\n",
    "dataset_id = 127\n",
    "dataset_name = \"maxillary_teeth_split\" \n",
    "Dataset_folder_name = f\"Dataset{dataset_id}_{dataset_name}\"\n",
    "\n",
    "if (not os.path.exists(f\"./nnUNet_raw/{Dataset_folder_name}\")):\n",
    "    os.mkdir(f\"./nnUNet_raw/{Dataset_folder_name}\")\n",
    "\n",
    "train_input_dir = f\"./nnUNet_raw/{Dataset_folder_name}/imagesTr\"\n",
    "train_lable_dir = f\"./nnUNet_raw/{Dataset_folder_name}/labelsTr\"\n",
    "\n",
    "if not os.path.exists(train_input_dir):\n",
    "    os.mkdir(train_input_dir)\n",
    "if not os.path.exists(train_lable_dir):\n",
    "    os.mkdir(train_lable_dir)\n",
    "\n",
    "\n"
   ]
  },
  {
   "cell_type": "code",
   "execution_count": null,
   "id": "a3865e6d-e787-4654-86f9-f81bf8253133",
   "metadata": {},
   "outputs": [],
   "source": [
    "import shutil\n",
    "volume_list = os.listdir(nii_path_volumes)\n",
    "seg_list = os.listdir(nii_path_segmentations)\n",
    "# print (volume_list)\n",
    "\n",
    "for volume in volume_list:\n",
    "    volume_old_path = f\"{nii_path_volumes}/{volume}\"\n",
    "    volume_nnunet_name = volume.replace (\"_input.nii.gz\",\"_0000.nii.gz\")\n",
    "    volume_new_path = f\"{train_input_dir}/{volume_nnunet_name}\"\n",
    "\n",
    "    #print (volume_nnunet_name)\n",
    "    shutil.move(volume_old_path, volume_new_path)\n",
    "\n",
    "\n",
    "for segmentation in seg_list:\n",
    "    segmentation_old_path = f\"{nii_path_segmentations}/{segmentation}\"\n",
    "    segmentation_nnunet_name = segmentation.replace (\"_seg.nii.gz\",\".nii.gz\")\n",
    "    segmentation_new_path = f\"{train_lable_dir}/{segmentation_nnunet_name}\"\n",
    "\n",
    "    #print (segmentation_nnunet_name)\n",
    "    shutil.move(segmentation_old_path, segmentation_new_path)\n"
   ]
  },
  {
   "cell_type": "code",
   "execution_count": null,
   "id": "c9adf213-d7fe-4681-a374-8a67acab6bc7",
   "metadata": {},
   "outputs": [],
   "source": [
    "## creating Dataset Json \n",
    "import json \n",
    "\n",
    "dataset_metadata = {\n",
    " \"channel_names\": {  # formerly modalities\n",
    "   \"0\": \"rescale_to_0_1\", \n",
    " }, \n",
    " \"labels\": {\n",
    "    \"background\":0,\n",
    "    \"tooth_11\":1,\n",
    "    \"tooth_12\":2,\n",
    "    \"tooth_13\":3,\n",
    "    \"tooth_14\":4,\n",
    "    \"tooth_15\":5,\n",
    "    \"tooth_16\":6,\n",
    "    \"tooth_17\":7,\n",
    "    \"tooth_18\":8,\n",
    "    \"tooth_21\":9,\n",
    "    \"tooth_22\":10,\n",
    "    \"tooth_23\":11,\n",
    "    \"tooth_24\":12,\n",
    "    \"tooth_25\":13,\n",
    "    \"tooth_26\":14,\n",
    "    \"tooth_27\":15,\n",
    "    \"tooth_28\":16,\n",
    "\n",
    "}, \n",
    " \"numTraining\": len(volume_list), \n",
    " \"file_ending\": \".nii.gz\",\n",
    " \"overwrite_image_reader_writer\": \"SimpleITKIO\"  # optional! If not provided nnU-Net will automatically determine the ReaderWriter\n",
    " \n",
    "}\n",
    "\n",
    "json_data = json.dumps(dataset_metadata)\n",
    "\n",
    "with open(f\"./nnUNet_raw/{Dataset_folder_name}/dataset.json\", \"w\") as outfile:\n",
    "    outfile.write(json_data)"
   ]
  },
  {
   "cell_type": "code",
   "execution_count": null,
   "id": "4266cc80-479a-4baa-8252-1e9d00ef5d2a",
   "metadata": {},
   "outputs": [],
   "source": [
    "# for file in os.listdir(train_input_dir):\n",
    "\n",
    "#     volume_nnunet_name = file.replace (\"_input.nii.gz\",\"_0000.nii.gz\")\n",
    "#     os.rename (f\"{train_input_dir}/{file}\",f\"{train_input_dir}/{volume_nnunet_name}\")"
   ]
  },
  {
   "cell_type": "code",
   "execution_count": null,
   "id": "8f162ece-ac3c-4abf-b814-6c2698c804ba",
   "metadata": {},
   "outputs": [],
   "source": []
  }
 ],
 "metadata": {
  "kernelspec": {
   "display_name": "Slicer 5.6",
   "language": "python",
   "name": "slicer-5.6"
  },
  "language_info": {
   "file_extension": ".py",
   "mimetype": "text/x-python",
   "name": "python",
   "version": "3.9.10"
  }
 },
 "nbformat": 4,
 "nbformat_minor": 5
}
