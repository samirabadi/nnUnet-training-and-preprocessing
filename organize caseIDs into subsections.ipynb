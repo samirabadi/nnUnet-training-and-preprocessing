{
 "cells": [
  {
   "cell_type": "code",
   "execution_count": 3,
   "id": "8b569fa2",
   "metadata": {},
   "outputs": [],
   "source": [
    "import json \n",
    "import os \n",
    "\n",
    "macro = json.load(open(\"macro_cases.json\"))"
   ]
  },
  {
   "cell_type": "code",
   "execution_count": 4,
   "id": "1dc8494c",
   "metadata": {},
   "outputs": [
    {
     "name": "stdout",
     "output_type": "stream",
     "text": [
      "dict_keys(['Gendex', 'Carestream Dental', 'J.Morita.Mfg.Corp.', 'NewTom', 'Imaging Sciences International', 'Vatech Company Limited', 'INSTRUMENTARIUM DENTAL', 'Planmeca', 'Sirona', 'NNT', 'RAY Co., Ltd.'])\n"
     ]
    }
   ],
   "source": [
    "print (macro.keys())"
   ]
  },
  {
   "cell_type": "code",
   "execution_count": 5,
   "id": "55658eab",
   "metadata": {},
   "outputs": [],
   "source": [
    "if not os.path.exists(\"temp_json_training_dir\"):\n",
    "    os.mkdir(\"temp_json_training_dir\")"
   ]
  },
  {
   "cell_type": "code",
   "execution_count": 11,
   "id": "a161ce90",
   "metadata": {},
   "outputs": [],
   "source": [
    "case_dict = {}\n",
    "for manModel in macro.keys():\n",
    "    model_dict = macro[manModel]\n",
    "    for manName in model_dict.keys():\n",
    "        model_name = model_dict[manName]\n",
    "\n",
    "        if manModel not in case_dict.keys():\n",
    "            case_dict [manModel] = []\n",
    "        \n",
    "        for x_dim in model_name.keys():\n",
    "            x_scans = model_name[x_dim]\n",
    "            for z_dim in x_scans.keys():\n",
    "                training_json = x_scans[z_dim]\n",
    "                case_dict [manModel] += training_json [\"product_ids\"]\n",
    "                \n",
    "                params = {\"a\":manModel, \"b\":manName , \"c\":float(x_dim) , \"d\":float(z_dim)}\n",
    "                training_json [\"params\"] = params \n",
    "                json_name = f\"model[{manModel}]name[{manName}]x[{x_dim}]z[{z_dim}]\"\n",
    "                \n",
    "                training_json_string = json.dumps({json_name:training_json [\"product_ids\"]})\n",
    "                with open(\"temp_json_training_dir/More_Subclasses/\" +json_name + \".json\", \"w\") as outfile:\n",
    "                    outfile.write(training_json_string)\n",
    "\n",
    "\n",
    "\n",
    "for model_name in case_dict:\n",
    "        \n",
    "    with open(\"temp_json_training_dir/\" + f\"{model_name}_cases.json\", \"w\") as outfile:\n",
    "        training_json_string = json.dumps({model_name:case_dict[model_name]})\n",
    "        outfile.write(training_json_string)\n",
    "                \n",
    "                "
   ]
  },
  {
   "cell_type": "code",
   "execution_count": null,
   "id": "e13c1c1e",
   "metadata": {},
   "outputs": [],
   "source": []
  },
  {
   "cell_type": "code",
   "execution_count": null,
   "id": "cf712e61",
   "metadata": {},
   "outputs": [],
   "source": []
  },
  {
   "cell_type": "code",
   "execution_count": null,
   "id": "6c0d3545",
   "metadata": {},
   "outputs": [],
   "source": []
  }
 ],
 "metadata": {
  "kernelspec": {
   "display_name": "Python 3 (ipykernel)",
   "language": "python",
   "name": "python3"
  },
  "language_info": {
   "codemirror_mode": {
    "name": "ipython",
    "version": 3
   },
   "file_extension": ".py",
   "mimetype": "text/x-python",
   "name": "python",
   "nbconvert_exporter": "python",
   "pygments_lexer": "ipython3",
   "version": "3.9.16"
  }
 },
 "nbformat": 4,
 "nbformat_minor": 5
}
