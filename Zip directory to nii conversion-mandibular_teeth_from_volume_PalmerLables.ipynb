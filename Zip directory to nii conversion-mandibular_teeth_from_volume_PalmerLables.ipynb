{
 "cells": [
  {
   "cell_type": "code",
   "execution_count": 2,
   "id": "9987388c-a8d9-4704-b963-8339129cf801",
   "metadata": {},
   "outputs": [],
   "source": [
    "import JupyterNotebooksLib as slicernb\n",
    "import slicer\n",
    "import os \n",
    "from DICOMLib import DICOMUtils\n",
    "import numpy as np\n",
    "import zipfile\n",
    "\n",
    "from glob import glob\n",
    "from natsort import natsorted\n",
    "from tqdm import tqdm\n",
    "\n",
    "# Set image viewer size to 50% screen size\n",
    "# slicernb.AppWindow.setWindowSize(scale=0.5)\n",
    "# slicernb.AppWindow.setContents(\"viewers\")\n",
    "\n",
    "# Clear scene\n",
    "slicer.mrmlScene.Clear(False)"
   ]
  },
  {
   "cell_type": "markdown",
   "id": "b40206a5-80d4-4964-97eb-5ed2bfa81407",
   "metadata": {},
   "source": [
    "# Unzip and organize files "
   ]
  },
  {
   "cell_type": "code",
   "execution_count": 3,
   "id": "6c786768-bcab-4ae5-af6b-2cc0087449a8",
   "metadata": {},
   "outputs": [],
   "source": [
    "#input folder \n",
    "input_folder = \"C:\\\\Users\\\\Sepehr\\\\3dsegmentationProjects\\\\nn-unet-organize-dataset-for-training\\\\Segmentation database\"\n",
    "intermediary_folder = \"./temp_unzip\"\n",
    "\n",
    "if  not os.path.exists(intermediary_folder):\n",
    "    os.mkdir(intermediary_folder)"
   ]
  },
  {
   "cell_type": "code",
   "execution_count": 4,
   "id": "c706e0ab-c6a7-4c20-a9cc-ce71b6f99c31",
   "metadata": {},
   "outputs": [],
   "source": [
    "# for zip_file in os.listdir(input_folder):\n",
    "#     if \"(\" in zip_file or \")\" in zip_file:\n",
    "#         continue;\n",
    "#     zip_path = f\"{input_folder}/{zip_file}\"\n",
    "#     Case_id = zip_file.split(\"_\")[0]\n",
    "\n",
    "#     if \"_segmented_structures\" in zip_file: \n",
    "#         out_path = f\"{intermediary_folder}/{Case_id}_segmentations\"\n",
    "#     else:\n",
    "#         out_path = f\"{intermediary_folder}/{Case_id}_volumes\"\n",
    "        \n",
    "#     with zipfile.ZipFile(zip_path, 'r') as zip_ref:\n",
    "#                     zip_ref.extractall(out_path)"
   ]
  },
  {
   "cell_type": "markdown",
   "id": "fbf8913f-d980-429b-8a23-829200bcc547",
   "metadata": {},
   "source": [
    "# organize file names throw out unuasable cases "
   ]
  },
  {
   "cell_type": "code",
   "execution_count": 5,
   "id": "7d4fa809-bf6c-4bf8-ac05-3b56198ddd2e",
   "metadata": {},
   "outputs": [
    {
     "name": "stdout",
     "output_type": "stream",
     "text": [
      "cannot find matching segmentation case will be skipped\n",
      "cannot find matching segmentation case will be skipped\n"
     ]
    }
   ],
   "source": [
    "input_cases = [] \n",
    "\n",
    "\n",
    "volumes_paths = list(natsorted(glob(os.path.join(intermediary_folder,  \"*\"+ f\"_volumes\"))))\n",
    "\n",
    "for vol in volumes_paths: \n",
    "\n",
    "    seg_path = vol.replace (\"_volumes\",\"_segmentations\")\n",
    "\n",
    "    if (os.path.exists(seg_path)):\n",
    "        input_cases.append ({\"vol\":vol,\"seg\":seg_path})\n",
    "    else:\n",
    "        print (\"cannot find matching segmentation case will be skipped\")\n",
    "\n"
   ]
  },
  {
   "cell_type": "code",
   "execution_count": 6,
   "id": "9f67a9d0-ddf1-4041-b0f4-b487b01c6612",
   "metadata": {},
   "outputs": [
    {
     "data": {
      "text/plain": [
       "'304846'"
      ]
     },
     "execution_count": 6,
     "metadata": {},
     "output_type": "execute_result"
    }
   ],
   "source": [
    "input_cases[0][\"vol\"].split(\"\\\\\")[-1].split(\"_\")[0]"
   ]
  },
  {
   "cell_type": "markdown",
   "id": "5acf0bcb-d3a1-4de7-8f10-4b3d2b1f81c5",
   "metadata": {},
   "source": [
    "# using slicer to convert to nii\n",
    "\n",
    "### will need to alter segmentation nodes to reflect changes in classes you are trying to segment"
   ]
  },
  {
   "cell_type": "code",
   "execution_count": 7,
   "id": "09ece8a6-f3bd-4d53-8a78-921dc34cfa95",
   "metadata": {},
   "outputs": [
    {
     "name": "stdout",
     "output_type": "stream",
     "text": [
      "these directories already exist\n"
     ]
    }
   ],
   "source": [
    "nii_path = \"./nii_ds_3\"\n",
    "nii_path_volumes = f\"{nii_path}/Volumes\"\n",
    "nii_path_segmentations = f\"{nii_path}/Masks\"\n",
    "\n",
    "try:\n",
    "    os.mkdir(nii_path)\n",
    "    os.mkdir(nii_path_volumes)\n",
    "    os.mkdir(nii_path_segmentations)\n",
    "except:\n",
    "    print (\"these directories already exist\")"
   ]
  },
  {
   "cell_type": "code",
   "execution_count": 8,
   "id": "f859f038-f7c1-44e9-90f9-59d196e6f73c",
   "metadata": {},
   "outputs": [],
   "source": [
    "def get_model_class_from_file (file): \n",
    "    if \"tooth\" in file: \n",
    "        #print (file.split(\"tooth_\")[1].split(\"_\")[0])\n",
    "\n",
    "        if (\".stl\" in file):\n",
    "            return \"tooth_\" + file.split(\"tooth_\")[1].split(\"_\")[0]\n",
    "        else:\n",
    "            return \"tooth_\" + file.split(\"tooth-\")[1].split(\"-\")[0].split(\"_\")[0]\n",
    "\n",
    "    else: \n",
    "        # CaseId = file.split(\"_\") [-1].split(\".)\n",
    "        # #print (file.split(f\"{CaseId}_\")[-1].split(\"_\")[0])\n",
    "        if (\".stl\" in file):\n",
    "            return file.split(\"_\") [-1].split(\".\")[0]\n",
    "        else:\n",
    "            return file.split(\"-\") [-1].split(\"_\")[0]"
   ]
  },
  {
   "cell_type": "code",
   "execution_count": 9,
   "id": "92002c8d-22ff-4871-951d-33edd9f05852",
   "metadata": {},
   "outputs": [
    {
     "data": {
      "text/plain": [
       "'tooth_13'"
      ]
     },
     "execution_count": 9,
     "metadata": {},
     "output_type": "execute_result"
    }
   ],
   "source": [
    "get_model_class_from_file (\"576547P524654_576547_2018874805-cbct-tooth-13_decimated\")\n",
    "#\"304846_canal.stl\".split(\"_\")"
   ]
  },
  {
   "cell_type": "code",
   "execution_count": 10,
   "id": "aa4abd38-4f01-4a64-ae22-2e04fc2e12c7",
   "metadata": {},
   "outputs": [
    {
     "data": {
      "text/plain": [
       "'11'"
      ]
     },
     "execution_count": 10,
     "metadata": {},
     "output_type": "execute_result"
    }
   ],
   "source": [
    "\"tooth_11\".strip(\"tooth_\")"
   ]
  },
  {
   "cell_type": "code",
   "execution_count": 11,
   "id": "e1da7c97-52ff-4557-b1fc-fe2d3cdf6602",
   "metadata": {},
   "outputs": [],
   "source": [
    "lable_map = {\n",
    "    \"background\":0,\n",
    "    \"tooth_31\":8,\n",
    "    \"tooth_32\":7,\n",
    "    \"tooth_33\":6,\n",
    "    \"tooth_34\":5,\n",
    "    \"tooth_35\":4,\n",
    "    \"tooth_36\":3,\n",
    "    \"tooth_37\":2,\n",
    "    \"tooth_38\":1,\n",
    "    \"tooth_41\":8,\n",
    "    \"tooth_42\":7,\n",
    "    \"tooth_43\":6,\n",
    "    \"tooth_44\":5,\n",
    "    \"tooth_45\":4,\n",
    "    \"tooth_46\":3,\n",
    "    \"tooth_47\":2,\n",
    "    \"tooth_48\":1,\n",
    "\n",
    "}"
   ]
  },
  {
   "cell_type": "code",
   "execution_count": 12,
   "id": "2b7874e6-4db8-4e46-87e9-fac21d7237c2",
   "metadata": {},
   "outputs": [],
   "source": [
    "def convert_to_nnunet_lable_tooth (segmentationNodes,referenceVolumeNode):\n",
    "\n",
    "    all_segment_np = [] \n",
    "    for lable, node in segmentationNodes.items():\n",
    "        name = node.GetName()\n",
    "    \n",
    "        segmentationLblmap  = slicer.mrmlScene.AddNewNodeByClass(\"vtkMRMLLabelMapVolumeNode\")\n",
    "        segmentationLblmap.SetName(name+\"_lablemap\")\n",
    "        slicer.modules.segmentations.logic().ExportVisibleSegmentsToLabelmapNode(node, segmentationLblmap, referenceVolumeNode)\n",
    "        mask = slicer.util.arrayFromVolume(segmentationLblmap)\n",
    "        mask[mask > 0] = lable_map[lable]\n",
    "    \n",
    "        all_segment_np.append(mask.copy())\n",
    "\n",
    "\n",
    "\n",
    "    final_out = all_segment_np[0] \n",
    "    for i in range (1,len(all_segment_np)):\n",
    "        indices  = np.where (final_out <1)\n",
    "        final_out [indices] = all_segment_np[i][indices]\n",
    "\n",
    "    segmentationLblmap  = slicer.mrmlScene.AddNewNodeByClass(\"vtkMRMLLabelMapVolumeNode\")\n",
    "    slicer.modules.segmentations.logic().ExportVisibleSegmentsToLabelmapNode(next(iter(segmentationNodes.values())), segmentationLblmap, referenceVolumeNode)\n",
    "    \n",
    "    slicer.util.updateVolumeFromArray(segmentationLblmap, final_out)\n",
    "\n",
    "    return segmentationLblmap\n",
    "\n",
    "    "
   ]
  },
  {
   "cell_type": "code",
   "execution_count": 13,
   "id": "50d9ca4e-306b-4287-bf3b-d968cfc4624e",
   "metadata": {},
   "outputs": [],
   "source": [
    "def convert_to_nnunet_lable_macro_structure (macroNode,referenceVolumeNode):\n",
    "\n",
    "\n",
    "    name = macroNode.GetName()\n",
    "    segmentationLblmap  = slicer.mrmlScene.AddNewNodeByClass(\"vtkMRMLLabelMapVolumeNode\")\n",
    "    segmentationLblmap.SetName(name+\"_lablemap\")\n",
    "    slicer.modules.segmentations.logic().ExportVisibleSegmentsToLabelmapNode(macroNode, segmentationLblmap, referenceVolumeNode)\n",
    "    mask = slicer.util.arrayFromVolume(segmentationLblmap)\n",
    "    mask[mask > 0] = 1\n",
    "\n",
    "    # labelmapVolumeNode = slicer.mrmlScene.AddNewNodeByClass('vtkMRMLLabelMapVolumeNode')\n",
    "    #slicer.modules.segmentations.logic().ExportVisibleSegmentsToLabelmapNode(macroNode, segmentationLblmap, referenceVolumeNode)\n",
    "    slicer.util.updateVolumeFromArray(segmentationLblmap, mask)\n",
    "    \n",
    "\n",
    "    return segmentationLblmap\n"
   ]
  },
  {
   "cell_type": "code",
   "execution_count": 14,
   "id": "51959f8e-25bd-4ac2-b6c3-5625b84a10cc",
   "metadata": {},
   "outputs": [],
   "source": [
    "def crop_vol_and_mask_to_ROI (input_volume_map,referenceVolumeNode,segmentation_lable_map):\n",
    "\n",
    "    #creating segmentation node to compute ROI \n",
    "    temp_segmentationNode = slicer.mrmlScene.AddNewNodeByClass(\"vtkMRMLSegmentationNode\")\n",
    "    temp_segmentationNode.CreateDefaultDisplayNodes()\n",
    "    \n",
    "    slicer.modules.segmentations.logic().ImportLabelmapToSegmentationNode (input_volume_map,temp_segmentationNode)\n",
    "    \n",
    "    \n",
    "    \n",
    "    ## obtaining bounding box coordinates from segment node\n",
    "    import SegmentStatistics\n",
    "    segStatLogic = SegmentStatistics.SegmentStatisticsLogic()\n",
    "    segStatLogic.getParameterNode().SetParameter(\"Segmentation\", temp_segmentationNode.GetID())\n",
    "    segStatLogic.getParameterNode().SetParameter(\"LabelmapSegmentStatisticsPlugin.obb_origin_ras.enabled\",str(True))\n",
    "    segStatLogic.getParameterNode().SetParameter(\"LabelmapSegmentStatisticsPlugin.obb_diameter_mm.enabled\",str(True))\n",
    "    segStatLogic.getParameterNode().SetParameter(\"LabelmapSegmentStatisticsPlugin.obb_direction_ras_x.enabled\",str(True))\n",
    "    segStatLogic.getParameterNode().SetParameter(\"LabelmapSegmentStatisticsPlugin.obb_direction_ras_y.enabled\",str(True))\n",
    "    segStatLogic.getParameterNode().SetParameter(\"LabelmapSegmentStatisticsPlugin.obb_direction_ras_z.enabled\",str(True))\n",
    "    segStatLogic.computeStatistics()\n",
    "    stats = segStatLogic.getStatistics()\n",
    "\n",
    "\n",
    "    ## creating ROI from bounding box stats\n",
    "\n",
    "    segmentId = stats[\"SegmentIDs\"] [0]\n",
    "    print (segmentId)\n",
    "    # Get bounding box\n",
    "    obb_origin_ras = np.array(stats[segmentId,\"LabelmapSegmentStatisticsPlugin.obb_origin_ras\"])\n",
    "    obb_diameter_mm = np.array(stats[segmentId,\"LabelmapSegmentStatisticsPlugin.obb_diameter_mm\"])\n",
    "    obb_direction_ras_x = np.array(stats[segmentId,\"LabelmapSegmentStatisticsPlugin.obb_direction_ras_x\"])\n",
    "    obb_direction_ras_y = np.array(stats[segmentId,\"LabelmapSegmentStatisticsPlugin.obb_direction_ras_y\"])\n",
    "    obb_direction_ras_z = np.array(stats[segmentId,\"LabelmapSegmentStatisticsPlugin.obb_direction_ras_z\"])\n",
    "    \n",
    "    # Create ROI\n",
    "    segment = temp_segmentationNode.GetSegmentation().GetSegment(segmentId)\n",
    "    roi=slicer.mrmlScene.AddNewNodeByClass(\"vtkMRMLMarkupsROINode\")\n",
    "    roi.SetName(segment.GetName() + \" OBB\")\n",
    "    roi.GetDisplayNode().SetHandlesInteractive(False)  # do not let the user resize the box\n",
    "    roi.SetSize(obb_diameter_mm)\n",
    "    \n",
    "    \n",
    "    # Position and orient ROI using a transform\n",
    "    obb_center_ras = obb_origin_ras+0.5*(obb_diameter_mm[0] * obb_direction_ras_x + obb_diameter_mm[1] * obb_direction_ras_y + obb_diameter_mm[2] * obb_direction_ras_z)\n",
    "    boundingBoxToRasTransform = np.row_stack((np.column_stack((obb_direction_ras_x, obb_direction_ras_y, obb_direction_ras_z, obb_center_ras)), (0, 0, 0, 1)))\n",
    "    boundingBoxToRasTransformMatrix = slicer.util.vtkMatrixFromArray(boundingBoxToRasTransform)\n",
    "    roi.SetAndObserveObjectToNodeMatrix(boundingBoxToRasTransformMatrix)\n",
    "\n",
    "\n",
    "    ##easier and more reliable cropping method \n",
    "    cropped_volume_node = slicer.mrmlScene.AddNewNodeByClass(\"vtkMRMLScalarVolumeNode\")\n",
    "    cropped_volume_node.CreateDefaultDisplayNodes()\n",
    "    \n",
    "    cropped_lablemap_node = slicer.mrmlScene.AddNewNodeByClass(\"vtkMRMLLabelMapVolumeNode\")\n",
    "    cropped_lablemap_node.CreateDefaultDisplayNodes()\n",
    "    \n",
    "    slicer.modules.cropvolume.logic().CropVoxelBased (roi,referenceVolumeNode,cropped_volume_node ) ##cropping volume \n",
    "    slicer.modules.cropvolume.logic().CropVoxelBased (roi,segmentation_lable_map,cropped_lablemap_node ) ##cropping mask\n",
    "\n",
    "\n",
    "    return cropped_volume_node,cropped_lablemap_node\n",
    "\n",
    "\n",
    "    "
   ]
  },
  {
   "cell_type": "code",
   "execution_count": null,
   "id": "989ca407-b685-444a-a0b1-76758bf68b5c",
   "metadata": {},
   "outputs": [],
   "source": []
  },
  {
   "cell_type": "code",
   "execution_count": null,
   "id": "6c7ea912-b596-4764-ab10-55d29e78610e",
   "metadata": {},
   "outputs": [],
   "source": []
  },
  {
   "cell_type": "code",
   "execution_count": 15,
   "id": "c9c8fd93-f235-4aac-b699-dcbe2d1ae5f3",
   "metadata": {},
   "outputs": [],
   "source": [
    "maxillary_teeth_lables = [\"11\",\"12\",\"13\",\"14\",\"15\",\"16\",\"17\",\"18\",\"21\",\"22\",\"23\",\"24\",\"25\",\"26\",\"27\",\"28\"]\n",
    "mandibular_teeth_lables = [\"31\",\"32\",\"33\",\"34\",\"35\",\"36\",\"37\",\"38\",\"41\",\"42\",\"43\",\"44\",\"45\",\"46\",\"47\",\"48\"]\n",
    "\n",
    "def convert_single_case_to_nii (dicom_series_path,segmentation_path):\n",
    "\n",
    "    '''\n",
    "    simply loading dicoms into a fresh scene \n",
    "    '''\n",
    "    \n",
    "    \n",
    "    # # Clear scene\n",
    "    slicer.mrmlScene.Clear(False)\n",
    "\n",
    "    print(dicom_series_path)\n",
    "    print(segmentation_path)\n",
    "    \n",
    "    ##load dicom \n",
    "    loadedNodeIDs = []\n",
    "    with DICOMUtils.TemporaryDICOMDatabase() as db:\n",
    "        DICOMUtils.importDicom(os.path.abspath(dicom_series_path), db)\n",
    "        patientUIDs = db.patients()\n",
    "    \n",
    "        print (patientUIDs)\n",
    "        for patientUID in patientUIDs:\n",
    "            loadedNodeIDs.extend(DICOMUtils.loadPatientByUID(patientUID))\n",
    "\n",
    "\n",
    "\n",
    "    '''\n",
    "    loading the segmentations into appropriate substructuresz \n",
    "    \n",
    "    '''\n",
    "\n",
    "    maxillaryTeethNode = slicer.mrmlScene.AddNewNodeByClass(\"vtkMRMLSegmentationNode\")\n",
    "    maxillaryTeethNode.CreateDefaultDisplayNodes()\n",
    "    maxillaryTeethNode.SetName (\"maxillaryTeethNode\")\n",
    "    \n",
    "    \n",
    "    ## creating segmentation nodes\n",
    "    segmentationNodes = {} \n",
    "\n",
    "\n",
    "    ## importing stls \n",
    "    nodes = []\n",
    "    node_names = []\n",
    "    for seg in os.listdir(segmentation_path):\n",
    "        if ((\".stl\" in seg or \".obj\" in seg) and \"pulp\" not in seg ):\n",
    "            mesh_path = f\"{segmentation_path}/{seg}\"\n",
    "            class_name = get_model_class_from_file(seg)\n",
    "\n",
    "            if class_name.strip(\"tooth_\") in mandibular_teeth_lables:\n",
    "                slicer.modules.segmentations.logic().ImportModelToSegmentationNode(slicer.util.loadModel(mesh_path), maxillaryTeethNode)\n",
    "\n",
    "            if class_name in lable_map:\n",
    "\n",
    "                segmentationNode = slicer.mrmlScene.AddNewNodeByClass(\"vtkMRMLSegmentationNode\")\n",
    "                segmentationNode.CreateDefaultDisplayNodes()\n",
    "                segmentationNodes [class_name] = segmentationNode\n",
    "                \n",
    "                slicer.modules.segmentations.logic().ImportModelToSegmentationNode(slicer.util.loadModel(mesh_path), segmentationNode)\n",
    "\n",
    "    if (len(segmentationNodes) <1):   \n",
    "        print (\"too few of desired class in this case. this case will be skipped\")\n",
    "        return;\n",
    "\n",
    "    referenceVolumeNode = slicer.mrmlScene.GetNodeByID(\"vtkMRMLScalarVolumeNode1\")\n",
    "\n",
    "    segmentation_lable_map = convert_to_nnunet_lable_tooth(segmentationNodes,referenceVolumeNode)\n",
    "    input_volume_map = convert_to_nnunet_lable_macro_structure(maxillaryTeethNode,referenceVolumeNode)\n",
    "\n",
    "    cropped_input_volume_map, cropped_segmentation_lable_map= crop_vol_and_mask_to_ROI (input_volume_map,referenceVolumeNode,segmentation_lable_map)\n",
    "\n",
    "    caseID = dicom_series_path.split(\"\\\\\")[-1].split(\"_\")[0]\n",
    "    volume_save_path = f\"{nii_path_volumes}/{caseID}_input.nii.gz\"\n",
    "    seg_save_path =  f\"{nii_path_segmentations}/{caseID}_seg.nii.gz\"\n",
    "\n",
    "    slicer.util.exportNode(cropped_input_volume_map, volume_save_path , {\"useCompression\": 0})\n",
    "    slicer.util.exportNode(cropped_segmentation_lable_map, seg_save_path , {\"useCompression\": 0})\n",
    "\n",
    "    print (\"one case sucessfully converted\")\n",
    "     \n",
    "\n",
    "\n",
    "        "
   ]
  },
  {
   "cell_type": "code",
   "execution_count": 16,
   "id": "7e4afd5c-a0cf-41b2-98e8-f497f8a7e4ef",
   "metadata": {},
   "outputs": [],
   "source": [
    "def batch_nii_convert (in_case_files):\n",
    "\n",
    "    for case in tqdm(in_case_files):\n",
    "        try:\n",
    "            convert_single_case_to_nii (case[\"vol\"],case[\"seg\"])\n",
    "        except:\n",
    "            print (f\"somthing is wrong with case {case} probably a missing segmentation\")\n",
    "    print (\"done converting all cases to nii\")\n",
    "    "
   ]
  },
  {
   "cell_type": "code",
   "execution_count": null,
   "id": "78215f33-47f9-4dab-aa75-45268bbb3771",
   "metadata": {},
   "outputs": [
    {
     "name": "stderr",
     "output_type": "stream",
     "text": [
      "  0%|          | 0/238 [00:00<?, ?it/s]"
     ]
    },
    {
     "name": "stdout",
     "output_type": "stream",
     "text": [
      "./temp_unzip\\304846_volumes\n",
      "./temp_unzip\\304846_segmentations\n",
      "('1',)\n",
      "304846_tooth_31_(us_24)\n",
      "one case sucessfully converted\n"
     ]
    },
    {
     "name": "stderr",
     "output_type": "stream",
     "text": [
      "  0%|          | 1/238 [03:25<13:31:04, 205.34s/it]"
     ]
    },
    {
     "name": "stdout",
     "output_type": "stream",
     "text": [
      "./temp_unzip\\315920_volumes\n",
      "./temp_unzip\\315920_segmentations\n",
      "('1',)\n",
      "315920_tooth_31_(us_17)\n",
      "one case sucessfully converted\n"
     ]
    },
    {
     "name": "stderr",
     "output_type": "stream",
     "text": [
      "  1%|          | 2/238 [05:38<10:40:06, 162.74s/it]"
     ]
    },
    {
     "name": "stdout",
     "output_type": "stream",
     "text": [
      "./temp_unzip\\317681_volumes\n",
      "./temp_unzip\\317681_segmentations\n",
      "('1',)\n",
      "317681_tooth_31_(us_17)\n",
      "one case sucessfully converted\n"
     ]
    },
    {
     "name": "stderr",
     "output_type": "stream",
     "text": [
      "  1%|1         | 3/238 [08:02<10:04:37, 154.37s/it]"
     ]
    },
    {
     "name": "stdout",
     "output_type": "stream",
     "text": [
      "./temp_unzip\\318908_volumes\n",
      "./temp_unzip\\318908_segmentations\n",
      "('1',)\n",
      "318908_tooth_36_(us_22)\n",
      "one case sucessfully converted\n"
     ]
    },
    {
     "name": "stderr",
     "output_type": "stream",
     "text": [
      "  2%|1         | 4/238 [08:48<7:15:27, 111.65s/it] "
     ]
    },
    {
     "name": "stdout",
     "output_type": "stream",
     "text": [
      "./temp_unzip\\321497_volumes\n",
      "./temp_unzip\\321497_segmentations\n",
      "('1',)\n",
      "321497_tooth_32_(us_18)\n",
      "one case sucessfully converted\n"
     ]
    },
    {
     "name": "stderr",
     "output_type": "stream",
     "text": [
      "  2%|2         | 5/238 [11:29<8:22:03, 129.28s/it]"
     ]
    },
    {
     "name": "stdout",
     "output_type": "stream",
     "text": [
      "./temp_unzip\\333654_volumes\n",
      "./temp_unzip\\333654_segmentations\n",
      "('1',)\n",
      "333654_tooth_31_(us_17)\n",
      "one case sucessfully converted\n"
     ]
    },
    {
     "name": "stderr",
     "output_type": "stream",
     "text": [
      "  3%|2         | 6/238 [14:03<8:52:24, 137.69s/it]"
     ]
    },
    {
     "name": "stdout",
     "output_type": "stream",
     "text": [
      "./temp_unzip\\334691_volumes\n",
      "./temp_unzip\\334691_segmentations\n",
      "('1',)\n",
      "334691_tooth_31_(us_17)\n",
      "one case sucessfully converted\n"
     ]
    },
    {
     "name": "stderr",
     "output_type": "stream",
     "text": [
      "  3%|2         | 7/238 [17:08<9:49:13, 153.04s/it]"
     ]
    },
    {
     "name": "stdout",
     "output_type": "stream",
     "text": [
      "./temp_unzip\\337186_volumes\n",
      "./temp_unzip\\337186_segmentations\n",
      "('1',)\n",
      "337186_tooth_31_(us_17)\n",
      "one case sucessfully converted\n"
     ]
    },
    {
     "name": "stderr",
     "output_type": "stream",
     "text": [
      "  3%|3         | 8/238 [18:31<8:21:10, 130.74s/it]"
     ]
    },
    {
     "name": "stdout",
     "output_type": "stream",
     "text": [
      "./temp_unzip\\342104_volumes\n",
      "./temp_unzip\\342104_segmentations\n",
      "('1',)\n",
      "342104_tooth_31_(us_17)\n",
      "one case sucessfully converted\n"
     ]
    },
    {
     "name": "stderr",
     "output_type": "stream",
     "text": [
      "  4%|3         | 9/238 [20:21<7:55:16, 124.53s/it]"
     ]
    },
    {
     "name": "stdout",
     "output_type": "stream",
     "text": [
      "./temp_unzip\\342835_volumes\n",
      "./temp_unzip\\342835_segmentations\n",
      "('1',)\n",
      "342835_tooth_31_(us_17)\n",
      "one case sucessfully converted\n"
     ]
    },
    {
     "name": "stderr",
     "output_type": "stream",
     "text": [
      "  4%|4         | 10/238 [22:04<7:27:33, 117.78s/it]"
     ]
    },
    {
     "name": "stdout",
     "output_type": "stream",
     "text": [
      "./temp_unzip\\343403_volumes\n",
      "./temp_unzip\\343403_segmentations\n",
      "('1',)\n",
      "343403_tooth_31_(us_17)\n",
      "one case sucessfully converted\n"
     ]
    },
    {
     "name": "stderr",
     "output_type": "stream",
     "text": [
      "  5%|4         | 11/238 [23:50<7:11:32, 114.06s/it]"
     ]
    },
    {
     "name": "stdout",
     "output_type": "stream",
     "text": [
      "./temp_unzip\\343418_volumes\n",
      "./temp_unzip\\343418_segmentations\n",
      "('1',)\n",
      "343418_tooth_31_(us_17)\n",
      "one case sucessfully converted\n"
     ]
    },
    {
     "name": "stderr",
     "output_type": "stream",
     "text": [
      "  5%|5         | 12/238 [25:16<6:37:57, 105.65s/it]"
     ]
    },
    {
     "name": "stdout",
     "output_type": "stream",
     "text": [
      "./temp_unzip\\344607_volumes\n",
      "./temp_unzip\\344607_segmentations\n",
      "('1',)\n",
      "344607_tooth_31_(us_17)\n",
      "one case sucessfully converted\n"
     ]
    },
    {
     "name": "stderr",
     "output_type": "stream",
     "text": [
      "  5%|5         | 13/238 [26:54<6:27:45, 103.40s/it]"
     ]
    },
    {
     "name": "stdout",
     "output_type": "stream",
     "text": [
      "./temp_unzip\\344681_volumes\n",
      "./temp_unzip\\344681_segmentations\n",
      "('1',)\n",
      "344681_tooth_31_(us_17)\n",
      "one case sucessfully converted\n"
     ]
    },
    {
     "name": "stderr",
     "output_type": "stream",
     "text": [
      "  6%|5         | 14/238 [30:20<8:21:15, 134.27s/it]"
     ]
    },
    {
     "name": "stdout",
     "output_type": "stream",
     "text": [
      "./temp_unzip\\344711_volumes\n",
      "./temp_unzip\\344711_segmentations\n",
      "('1',)\n",
      "344711_tooth_31_(us_17)\n",
      "one case sucessfully converted\n"
     ]
    },
    {
     "name": "stderr",
     "output_type": "stream",
     "text": [
      "  6%|6         | 15/238 [31:19<6:54:24, 111.50s/it]"
     ]
    },
    {
     "name": "stdout",
     "output_type": "stream",
     "text": [
      "./temp_unzip\\345532_volumes\n",
      "./temp_unzip\\345532_segmentations\n",
      "('1',)\n",
      "345532_tooth_31_(us_17)\n",
      "one case sucessfully converted\n"
     ]
    },
    {
     "name": "stderr",
     "output_type": "stream",
     "text": [
      "  7%|6         | 16/238 [32:33<6:10:54, 100.24s/it]"
     ]
    },
    {
     "name": "stdout",
     "output_type": "stream",
     "text": [
      "./temp_unzip\\346873_volumes\n",
      "./temp_unzip\\346873_segmentations\n",
      "('1',)\n",
      "346873_tooth_31_(us_17)\n",
      "one case sucessfully converted\n"
     ]
    },
    {
     "name": "stderr",
     "output_type": "stream",
     "text": [
      "  7%|7         | 17/238 [35:27<7:31:05, 122.47s/it]"
     ]
    },
    {
     "name": "stdout",
     "output_type": "stream",
     "text": [
      "./temp_unzip\\347033_volumes\n",
      "./temp_unzip\\347033_segmentations\n",
      "('1',)\n",
      "347033_tooth_31_(us_17)\n",
      "one case sucessfully converted\n"
     ]
    },
    {
     "name": "stderr",
     "output_type": "stream",
     "text": [
      "  8%|7         | 18/238 [37:26<7:25:15, 121.43s/it]"
     ]
    },
    {
     "name": "stdout",
     "output_type": "stream",
     "text": [
      "./temp_unzip\\347103_volumes\n",
      "./temp_unzip\\347103_segmentations\n",
      "('1',)\n",
      "347103_tooth_31_(us_17)\n",
      "one case sucessfully converted\n"
     ]
    },
    {
     "name": "stderr",
     "output_type": "stream",
     "text": [
      "  8%|7         | 19/238 [39:26<7:21:12, 120.88s/it]"
     ]
    },
    {
     "name": "stdout",
     "output_type": "stream",
     "text": [
      "./temp_unzip\\347286_volumes\n",
      "./temp_unzip\\347286_segmentations\n",
      "('1',)\n",
      "347286_tooth_31_(us_17)\n",
      "one case sucessfully converted\n"
     ]
    },
    {
     "name": "stderr",
     "output_type": "stream",
     "text": [
      "  8%|8         | 20/238 [41:17<7:08:38, 117.98s/it]"
     ]
    },
    {
     "name": "stdout",
     "output_type": "stream",
     "text": [
      "./temp_unzip\\349004_volumes\n",
      "./temp_unzip\\349004_segmentations\n",
      "('1',)\n",
      "349004_tooth_31_(us_17)\n",
      "one case sucessfully converted\n"
     ]
    },
    {
     "name": "stderr",
     "output_type": "stream",
     "text": [
      "  9%|8         | 21/238 [43:13<7:04:25, 117.35s/it]"
     ]
    },
    {
     "name": "stdout",
     "output_type": "stream",
     "text": [
      "./temp_unzip\\349272_volumes\n",
      "./temp_unzip\\349272_segmentations\n",
      "('1',)\n",
      "349272_tooth_31_(us_17)\n",
      "one case sucessfully converted\n"
     ]
    },
    {
     "name": "stderr",
     "output_type": "stream",
     "text": [
      "  9%|9         | 22/238 [44:36<6:26:02, 107.23s/it]"
     ]
    },
    {
     "name": "stdout",
     "output_type": "stream",
     "text": [
      "./temp_unzip\\349397_volumes\n",
      "./temp_unzip\\349397_segmentations\n",
      "('1',)\n",
      "349397_tooth_31_(us_17)\n",
      "one case sucessfully converted\n"
     ]
    },
    {
     "name": "stderr",
     "output_type": "stream",
     "text": [
      " 10%|9         | 23/238 [46:35<6:36:33, 110.67s/it]"
     ]
    },
    {
     "name": "stdout",
     "output_type": "stream",
     "text": [
      "./temp_unzip\\349674_volumes\n",
      "./temp_unzip\\349674_segmentations\n",
      "('1',)\n",
      "349674_tooth_31_(us_17)\n",
      "one case sucessfully converted\n"
     ]
    },
    {
     "name": "stderr",
     "output_type": "stream",
     "text": [
      " 10%|#         | 24/238 [48:32<6:41:10, 112.48s/it]"
     ]
    },
    {
     "name": "stdout",
     "output_type": "stream",
     "text": [
      "./temp_unzip\\350189_volumes\n",
      "./temp_unzip\\350189_segmentations\n",
      "('1',)\n",
      "350189_tooth_31_(us_17)\n",
      "one case sucessfully converted\n"
     ]
    },
    {
     "name": "stderr",
     "output_type": "stream",
     "text": [
      " 11%|#         | 25/238 [50:44<7:00:01, 118.32s/it]"
     ]
    },
    {
     "name": "stdout",
     "output_type": "stream",
     "text": [
      "./temp_unzip\\350448_volumes\n",
      "./temp_unzip\\350448_segmentations\n",
      "('1',)\n",
      "350448_tooth_31_(us_17)\n",
      "one case sucessfully converted\n"
     ]
    },
    {
     "name": "stderr",
     "output_type": "stream",
     "text": [
      " 11%|#         | 26/238 [52:40<6:56:14, 117.81s/it]"
     ]
    },
    {
     "name": "stdout",
     "output_type": "stream",
     "text": [
      "./temp_unzip\\352194_volumes\n",
      "./temp_unzip\\352194_segmentations\n",
      "('1',)\n",
      "352194_tooth_31_(us_17)\n",
      "one case sucessfully converted\n"
     ]
    },
    {
     "name": "stderr",
     "output_type": "stream",
     "text": [
      " 11%|#1        | 27/238 [54:16<6:31:07, 111.22s/it]"
     ]
    },
    {
     "name": "stdout",
     "output_type": "stream",
     "text": [
      "./temp_unzip\\352427_volumes\n",
      "./temp_unzip\\352427_segmentations\n",
      "('1',)\n",
      "352427_tooth_31_(us_17)\n",
      "one case sucessfully converted\n"
     ]
    },
    {
     "name": "stderr",
     "output_type": "stream",
     "text": [
      " 12%|#1        | 28/238 [56:36<6:59:17, 119.80s/it]"
     ]
    },
    {
     "name": "stdout",
     "output_type": "stream",
     "text": [
      "./temp_unzip\\353514_volumes\n",
      "./temp_unzip\\353514_segmentations\n",
      "('1',)\n",
      "353514_tooth_31_(us_17)\n",
      "one case sucessfully converted\n"
     ]
    },
    {
     "name": "stderr",
     "output_type": "stream",
     "text": [
      " 12%|#2        | 29/238 [58:21<6:41:51, 115.37s/it]"
     ]
    },
    {
     "name": "stdout",
     "output_type": "stream",
     "text": [
      "./temp_unzip\\354238_volumes\n",
      "./temp_unzip\\354238_segmentations\n",
      "('1', '2')\n",
      "354238_tooth_31_(us_17)\n",
      "one case sucessfully converted\n"
     ]
    },
    {
     "name": "stderr",
     "output_type": "stream",
     "text": [
      " 13%|#2        | 30/238 [1:01:23<7:49:41, 135.49s/it]"
     ]
    },
    {
     "name": "stdout",
     "output_type": "stream",
     "text": [
      "./temp_unzip\\355049_volumes\n",
      "./temp_unzip\\355049_segmentations\n",
      "('1',)\n",
      "355049_tooth_31_(us_17)\n",
      "one case sucessfully converted\n"
     ]
    },
    {
     "name": "stderr",
     "output_type": "stream",
     "text": [
      " 13%|#3        | 31/238 [1:02:57<7:03:49, 122.85s/it]"
     ]
    },
    {
     "name": "stdout",
     "output_type": "stream",
     "text": [
      "./temp_unzip\\355487_volumes\n",
      "./temp_unzip\\355487_segmentations\n",
      "('1',)\n",
      "355487_tooth_31_(us_17)\n",
      "one case sucessfully converted\n"
     ]
    },
    {
     "name": "stderr",
     "output_type": "stream",
     "text": [
      " 13%|#3        | 32/238 [1:05:16<7:19:01, 127.87s/it]"
     ]
    },
    {
     "name": "stdout",
     "output_type": "stream",
     "text": [
      "./temp_unzip\\355908_volumes\n",
      "./temp_unzip\\355908_segmentations\n",
      "('1',)\n",
      "355908_tooth_31_(us_17)\n",
      "one case sucessfully converted\n"
     ]
    },
    {
     "name": "stderr",
     "output_type": "stream",
     "text": [
      " 14%|#3        | 33/238 [1:09:27<9:23:07, 164.82s/it]"
     ]
    },
    {
     "name": "stdout",
     "output_type": "stream",
     "text": [
      "./temp_unzip\\356042_volumes\n",
      "./temp_unzip\\356042_segmentations\n",
      "('1',)\n",
      "356042_tooth_31_(us_17)\n",
      "one case sucessfully converted\n"
     ]
    },
    {
     "name": "stderr",
     "output_type": "stream",
     "text": [
      " 14%|#4        | 34/238 [1:13:14<10:23:16, 183.32s/it]"
     ]
    },
    {
     "name": "stdout",
     "output_type": "stream",
     "text": [
      "./temp_unzip\\357786_volumes\n",
      "./temp_unzip\\357786_segmentations\n",
      "('1',)\n",
      "357786_tooth_31_(us_17)\n",
      "one case sucessfully converted\n"
     ]
    },
    {
     "name": "stderr",
     "output_type": "stream",
     "text": [
      " 15%|#4        | 35/238 [1:15:05<9:06:35, 161.56s/it] "
     ]
    },
    {
     "name": "stdout",
     "output_type": "stream",
     "text": [
      "./temp_unzip\\362557_volumes\n",
      "./temp_unzip\\362557_segmentations\n",
      "('1',)\n",
      "362557_tooth_31_(us_17)\n",
      "one case sucessfully converted\n"
     ]
    },
    {
     "name": "stderr",
     "output_type": "stream",
     "text": [
      " 15%|#5        | 36/238 [1:17:34<8:51:11, 157.78s/it]"
     ]
    },
    {
     "name": "stdout",
     "output_type": "stream",
     "text": [
      "./temp_unzip\\362802_volumes\n",
      "./temp_unzip\\362802_segmentations\n",
      "('1',)\n",
      "362802_tooth_31_(us_17)\n",
      "one case sucessfully converted\n"
     ]
    },
    {
     "name": "stderr",
     "output_type": "stream",
     "text": [
      " 16%|#5        | 37/238 [1:20:15<8:52:04, 158.83s/it]"
     ]
    },
    {
     "name": "stdout",
     "output_type": "stream",
     "text": [
      "./temp_unzip\\365074_volumes\n",
      "./temp_unzip\\365074_segmentations\n",
      "('1',)\n",
      "365074_tooth_31_(us_17)\n",
      "one case sucessfully converted\n"
     ]
    },
    {
     "name": "stderr",
     "output_type": "stream",
     "text": [
      " 16%|#5        | 38/238 [1:23:50<9:45:17, 175.59s/it]"
     ]
    },
    {
     "name": "stdout",
     "output_type": "stream",
     "text": [
      "./temp_unzip\\367087_volumes\n",
      "./temp_unzip\\367087_segmentations\n",
      "('1',)\n",
      "367087_tooth_31_(us_17)\n",
      "one case sucessfully converted\n"
     ]
    },
    {
     "name": "stderr",
     "output_type": "stream",
     "text": [
      " 16%|#6        | 39/238 [1:25:23<8:20:55, 151.03s/it]"
     ]
    },
    {
     "name": "stdout",
     "output_type": "stream",
     "text": [
      "./temp_unzip\\368013_volumes\n",
      "./temp_unzip\\368013_segmentations\n",
      "('1',)\n",
      "368013_tooth_31_(us_17)\n",
      "one case sucessfully converted\n"
     ]
    },
    {
     "name": "stderr",
     "output_type": "stream",
     "text": [
      " 17%|#6        | 40/238 [1:27:40<8:04:13, 146.73s/it]"
     ]
    },
    {
     "name": "stdout",
     "output_type": "stream",
     "text": [
      "./temp_unzip\\368395_volumes\n",
      "./temp_unzip\\368395_segmentations\n",
      "('1',)\n",
      "368395_tooth_31_(us_17)\n",
      "one case sucessfully converted\n"
     ]
    },
    {
     "name": "stderr",
     "output_type": "stream",
     "text": [
      " 17%|#7        | 41/238 [1:29:36<7:31:16, 137.44s/it]"
     ]
    },
    {
     "name": "stdout",
     "output_type": "stream",
     "text": [
      "./temp_unzip\\368732_volumes\n",
      "./temp_unzip\\368732_segmentations\n",
      "('1',)\n",
      "368732_tooth_31_(us_17)\n",
      "one case sucessfully converted\n"
     ]
    },
    {
     "name": "stderr",
     "output_type": "stream",
     "text": [
      " 18%|#7        | 42/238 [1:32:11<7:46:12, 142.72s/it]"
     ]
    },
    {
     "name": "stdout",
     "output_type": "stream",
     "text": [
      "./temp_unzip\\369271_volumes\n",
      "./temp_unzip\\369271_segmentations\n",
      "('1',)\n",
      "369271_tooth_31_(us_17)\n",
      "one case sucessfully converted\n"
     ]
    },
    {
     "name": "stderr",
     "output_type": "stream",
     "text": [
      " 18%|#8        | 43/238 [1:35:03<8:13:05, 151.72s/it]"
     ]
    },
    {
     "name": "stdout",
     "output_type": "stream",
     "text": [
      "./temp_unzip\\369473_volumes\n",
      "./temp_unzip\\369473_segmentations\n",
      "('1',)\n",
      "369473_tooth_31_(us_17)\n",
      "one case sucessfully converted\n"
     ]
    },
    {
     "name": "stderr",
     "output_type": "stream",
     "text": [
      " 18%|#8        | 44/238 [1:37:11<7:47:08, 144.48s/it]"
     ]
    },
    {
     "name": "stdout",
     "output_type": "stream",
     "text": [
      "./temp_unzip\\369592_volumes\n",
      "./temp_unzip\\369592_segmentations\n",
      "('1',)\n",
      "369592_tooth_33_(us_19)\n",
      "one case sucessfully converted\n"
     ]
    },
    {
     "name": "stderr",
     "output_type": "stream",
     "text": [
      " 19%|#8        | 45/238 [1:39:03<7:12:56, 134.59s/it]"
     ]
    },
    {
     "name": "stdout",
     "output_type": "stream",
     "text": [
      "./temp_unzip\\369885_volumes\n",
      "./temp_unzip\\369885_segmentations\n",
      "('1',)\n",
      "369885_tooth_31_(us_17)\n",
      "one case sucessfully converted\n"
     ]
    },
    {
     "name": "stderr",
     "output_type": "stream",
     "text": [
      " 19%|#9        | 46/238 [1:42:02<7:53:58, 148.12s/it]"
     ]
    },
    {
     "name": "stdout",
     "output_type": "stream",
     "text": [
      "./temp_unzip\\370299_volumes\n",
      "./temp_unzip\\370299_segmentations\n",
      "('1',)\n",
      "370299_tooth_31_(us_17)\n",
      "one case sucessfully converted\n"
     ]
    },
    {
     "name": "stderr",
     "output_type": "stream",
     "text": [
      " 20%|#9        | 47/238 [1:43:36<6:59:18, 131.72s/it]"
     ]
    },
    {
     "name": "stdout",
     "output_type": "stream",
     "text": [
      "./temp_unzip\\370825_volumes\n",
      "./temp_unzip\\370825_segmentations\n",
      "('1',)\n",
      "370825_tooth_31_(us_17)\n",
      "one case sucessfully converted\n"
     ]
    },
    {
     "name": "stderr",
     "output_type": "stream",
     "text": [
      " 20%|##        | 48/238 [1:45:08<6:19:43, 119.91s/it]"
     ]
    },
    {
     "name": "stdout",
     "output_type": "stream",
     "text": [
      "./temp_unzip\\370876_volumes\n",
      "./temp_unzip\\370876_segmentations\n",
      "('1',)\n",
      "370876_tooth_31_(us_17)\n",
      "one case sucessfully converted\n"
     ]
    },
    {
     "name": "stderr",
     "output_type": "stream",
     "text": [
      " 21%|##        | 49/238 [1:46:18<5:30:44, 105.00s/it]"
     ]
    },
    {
     "name": "stdout",
     "output_type": "stream",
     "text": [
      "./temp_unzip\\371380_volumes\n",
      "./temp_unzip\\371380_segmentations\n",
      "('1',)\n",
      "371380_tooth_31_(us_17)\n",
      "one case sucessfully converted\n"
     ]
    },
    {
     "name": "stderr",
     "output_type": "stream",
     "text": [
      " 21%|##1       | 50/238 [1:47:30<4:58:04, 95.13s/it] "
     ]
    },
    {
     "name": "stdout",
     "output_type": "stream",
     "text": [
      "./temp_unzip\\371694_volumes\n",
      "./temp_unzip\\371694_segmentations\n",
      "('1',)\n",
      "371694_tooth_31_(us_17)\n",
      "one case sucessfully converted\n"
     ]
    },
    {
     "name": "stderr",
     "output_type": "stream",
     "text": [
      " 21%|##1       | 51/238 [1:49:07<4:58:11, 95.68s/it]"
     ]
    },
    {
     "name": "stdout",
     "output_type": "stream",
     "text": [
      "./temp_unzip\\371741_volumes\n",
      "./temp_unzip\\371741_segmentations\n",
      "('1',)\n",
      "371741_tooth_31_(us_17)\n",
      "one case sucessfully converted\n"
     ]
    },
    {
     "name": "stderr",
     "output_type": "stream",
     "text": [
      " 22%|##1       | 52/238 [1:51:26<5:36:16, 108.48s/it]"
     ]
    },
    {
     "name": "stdout",
     "output_type": "stream",
     "text": [
      "./temp_unzip\\371965_volumes\n",
      "./temp_unzip\\371965_segmentations\n",
      "('1',)\n",
      "371965_tooth_31_(us_17)\n",
      "one case sucessfully converted\n"
     ]
    },
    {
     "name": "stderr",
     "output_type": "stream",
     "text": [
      " 22%|##2       | 53/238 [1:53:54<6:11:02, 120.34s/it]"
     ]
    },
    {
     "name": "stdout",
     "output_type": "stream",
     "text": [
      "./temp_unzip\\372053_volumes\n",
      "./temp_unzip\\372053_segmentations\n",
      "('1',)\n",
      "372053_tooth_31_(us_17)\n",
      "one case sucessfully converted\n"
     ]
    },
    {
     "name": "stderr",
     "output_type": "stream",
     "text": [
      " 23%|##2       | 54/238 [1:57:29<7:36:40, 148.92s/it]"
     ]
    },
    {
     "name": "stdout",
     "output_type": "stream",
     "text": [
      "./temp_unzip\\372279_volumes\n",
      "./temp_unzip\\372279_segmentations\n",
      "('1',)\n",
      "372279_tooth_31_(us_17)\n",
      "one case sucessfully converted\n"
     ]
    },
    {
     "name": "stderr",
     "output_type": "stream",
     "text": [
      " 23%|##3       | 55/238 [1:59:05<6:45:42, 133.02s/it]"
     ]
    },
    {
     "name": "stdout",
     "output_type": "stream",
     "text": [
      "./temp_unzip\\372516_volumes\n",
      "./temp_unzip\\372516_segmentations\n",
      "('1',)\n",
      "372516_tooth_32_(us_18)\n",
      "one case sucessfully converted\n"
     ]
    },
    {
     "name": "stderr",
     "output_type": "stream",
     "text": [
      " 24%|##3       | 56/238 [2:00:47<6:15:16, 123.72s/it]"
     ]
    },
    {
     "name": "stdout",
     "output_type": "stream",
     "text": [
      "./temp_unzip\\372655_volumes\n",
      "./temp_unzip\\372655_segmentations\n",
      "('1',)\n",
      "372655_tooth_31_(us_17)\n",
      "one case sucessfully converted\n"
     ]
    },
    {
     "name": "stderr",
     "output_type": "stream",
     "text": [
      " 24%|##3       | 57/238 [2:02:35<5:58:52, 118.97s/it]"
     ]
    },
    {
     "name": "stdout",
     "output_type": "stream",
     "text": [
      "./temp_unzip\\372710_volumes\n",
      "./temp_unzip\\372710_segmentations\n",
      "('1',)\n",
      "372710_tooth_31_(us_17)\n",
      "one case sucessfully converted\n"
     ]
    },
    {
     "name": "stderr",
     "output_type": "stream",
     "text": [
      " 24%|##4       | 58/238 [2:04:26<5:49:53, 116.63s/it]"
     ]
    },
    {
     "name": "stdout",
     "output_type": "stream",
     "text": [
      "./temp_unzip\\372826_volumes\n",
      "./temp_unzip\\372826_segmentations\n",
      "('1',)\n",
      "372826_tooth_32_(us_18)\n",
      "one case sucessfully converted\n"
     ]
    },
    {
     "name": "stderr",
     "output_type": "stream",
     "text": [
      " 25%|##4       | 59/238 [2:07:38<6:55:20, 139.22s/it]"
     ]
    },
    {
     "name": "stdout",
     "output_type": "stream",
     "text": [
      "./temp_unzip\\373269_volumes\n",
      "./temp_unzip\\373269_segmentations\n",
      "('1',)\n",
      "373269_tooth_32_(us_18)\n",
      "one case sucessfully converted\n"
     ]
    },
    {
     "name": "stderr",
     "output_type": "stream",
     "text": [
      " 25%|##5       | 60/238 [2:10:32<7:23:35, 149.52s/it]"
     ]
    },
    {
     "name": "stdout",
     "output_type": "stream",
     "text": [
      "./temp_unzip\\373493_volumes\n",
      "./temp_unzip\\373493_segmentations\n",
      "('1',)\n",
      "373493_tooth_31_(us_17)\n",
      "one case sucessfully converted\n"
     ]
    },
    {
     "name": "stderr",
     "output_type": "stream",
     "text": [
      " 26%|##5       | 61/238 [2:13:52<8:05:50, 164.69s/it]"
     ]
    },
    {
     "name": "stdout",
     "output_type": "stream",
     "text": [
      "./temp_unzip\\375521_volumes\n",
      "./temp_unzip\\375521_segmentations\n",
      "('1',)\n",
      "375521_tooth_31_(us_17)\n",
      "one case sucessfully converted\n"
     ]
    },
    {
     "name": "stderr",
     "output_type": "stream",
     "text": [
      " 26%|##6       | 62/238 [2:15:20<6:55:22, 141.61s/it]"
     ]
    },
    {
     "name": "stdout",
     "output_type": "stream",
     "text": [
      "./temp_unzip\\378479_volumes\n",
      "./temp_unzip\\378479_segmentations\n",
      "('1',)\n",
      "378479_tooth_31_(us_24)\n",
      "one case sucessfully converted\n"
     ]
    },
    {
     "name": "stderr",
     "output_type": "stream",
     "text": [
      " 26%|##6       | 63/238 [2:17:56<7:06:03, 146.08s/it]"
     ]
    },
    {
     "name": "stdout",
     "output_type": "stream",
     "text": [
      "./temp_unzip\\381586_volumes\n",
      "./temp_unzip\\381586_segmentations\n",
      "('1',)\n",
      "381586_tooth_31_(us_24)\n",
      "one case sucessfully converted\n"
     ]
    },
    {
     "name": "stderr",
     "output_type": "stream",
     "text": [
      " 27%|##6       | 64/238 [2:21:04<7:40:10, 158.68s/it]"
     ]
    },
    {
     "name": "stdout",
     "output_type": "stream",
     "text": [
      "./temp_unzip\\382667_volumes\n",
      "./temp_unzip\\382667_segmentations\n",
      "('1',)\n",
      "382667_tooth_31_(us_24)\n",
      "one case sucessfully converted\n"
     ]
    },
    {
     "name": "stderr",
     "output_type": "stream",
     "text": [
      " 27%|##7       | 65/238 [2:22:57<6:57:33, 144.82s/it]"
     ]
    },
    {
     "name": "stdout",
     "output_type": "stream",
     "text": [
      "./temp_unzip\\382878_volumes\n",
      "./temp_unzip\\382878_segmentations\n",
      "('1',)\n",
      "382878_tooth_31_(us_24)\n",
      "one case sucessfully converted\n"
     ]
    },
    {
     "name": "stderr",
     "output_type": "stream",
     "text": [
      " 28%|##7       | 66/238 [2:25:33<7:04:58, 148.25s/it]"
     ]
    },
    {
     "name": "stdout",
     "output_type": "stream",
     "text": [
      "./temp_unzip\\387591_volumes\n",
      "./temp_unzip\\387591_segmentations\n",
      "('1',)\n",
      "387591_tooth_31_(us_24)\n",
      "one case sucessfully converted\n"
     ]
    },
    {
     "name": "stderr",
     "output_type": "stream",
     "text": [
      " 28%|##8       | 67/238 [2:27:23<6:29:55, 136.81s/it]"
     ]
    },
    {
     "name": "stdout",
     "output_type": "stream",
     "text": [
      "./temp_unzip\\392904_volumes\n",
      "./temp_unzip\\392904_segmentations\n",
      "('1',)\n",
      "392904_tooth_31_(us_24)\n",
      "one case sucessfully converted\n"
     ]
    },
    {
     "name": "stderr",
     "output_type": "stream",
     "text": [
      " 29%|##8       | 68/238 [2:30:30<7:09:48, 151.70s/it]"
     ]
    },
    {
     "name": "stdout",
     "output_type": "stream",
     "text": [
      "./temp_unzip\\398803_volumes\n",
      "./temp_unzip\\398803_segmentations\n",
      "('1',)\n",
      "398803_tooth_31_(us_24)\n",
      "one case sucessfully converted\n"
     ]
    },
    {
     "name": "stderr",
     "output_type": "stream",
     "text": [
      " 29%|##8       | 69/238 [2:32:43<6:51:33, 146.12s/it]"
     ]
    },
    {
     "name": "stdout",
     "output_type": "stream",
     "text": [
      "./temp_unzip\\401601_volumes\n",
      "./temp_unzip\\401601_segmentations\n",
      "('1',)\n",
      "401601_tooth_31_(us_24)\n",
      "one case sucessfully converted\n"
     ]
    },
    {
     "name": "stderr",
     "output_type": "stream",
     "text": [
      " 29%|##9       | 70/238 [2:34:31<6:17:29, 134.82s/it]"
     ]
    },
    {
     "name": "stdout",
     "output_type": "stream",
     "text": [
      "./temp_unzip\\407108_volumes\n",
      "./temp_unzip\\407108_segmentations\n",
      "('1',)\n",
      "407108_tooth_31_(us_24)\n",
      "one case sucessfully converted\n"
     ]
    },
    {
     "name": "stderr",
     "output_type": "stream",
     "text": [
      " 30%|##9       | 71/238 [2:36:30<6:01:44, 129.96s/it]"
     ]
    },
    {
     "name": "stdout",
     "output_type": "stream",
     "text": [
      "./temp_unzip\\410445_volumes\n",
      "./temp_unzip\\410445_segmentations\n",
      "('1',)\n",
      "410445P524445_1758043286-cbct-tooth-38_decimated\n",
      "one case sucessfully converted\n"
     ]
    },
    {
     "name": "stderr",
     "output_type": "stream",
     "text": [
      " 30%|###       | 72/238 [2:37:02<4:38:35, 100.70s/it]"
     ]
    },
    {
     "name": "stdout",
     "output_type": "stream",
     "text": [
      "./temp_unzip\\415284_volumes\n",
      "./temp_unzip\\415284_segmentations\n",
      "('1',)\n",
      "415284_tooth_35_(us_20)\n",
      "one case sucessfully converted\n"
     ]
    },
    {
     "name": "stderr",
     "output_type": "stream",
     "text": [
      " 31%|###       | 73/238 [2:37:25<3:33:04, 77.48s/it] "
     ]
    },
    {
     "name": "stdout",
     "output_type": "stream",
     "text": [
      "./temp_unzip\\416237_volumes\n",
      "./temp_unzip\\416237_segmentations\n",
      "('1',)\n",
      "416237_tooth_31_(us_24)\n",
      "one case sucessfully converted\n"
     ]
    },
    {
     "name": "stderr",
     "output_type": "stream",
     "text": [
      " 31%|###1      | 74/238 [2:39:12<3:55:15, 86.07s/it]"
     ]
    },
    {
     "name": "stdout",
     "output_type": "stream",
     "text": [
      "./temp_unzip\\416584_volumes\n",
      "./temp_unzip\\416584_segmentations\n",
      "('1',)\n",
      "416584_tooth_31_(us_24)\n",
      "one case sucessfully converted\n"
     ]
    },
    {
     "name": "stderr",
     "output_type": "stream",
     "text": [
      " 32%|###1      | 75/238 [2:41:34<4:39:31, 102.89s/it]"
     ]
    },
    {
     "name": "stdout",
     "output_type": "stream",
     "text": [
      "./temp_unzip\\417849_volumes\n",
      "./temp_unzip\\417849_segmentations\n",
      "('1',)\n",
      "417849_tooth_31_(us_24)\n",
      "one case sucessfully converted\n"
     ]
    },
    {
     "name": "stderr",
     "output_type": "stream",
     "text": [
      " 32%|###1      | 76/238 [2:42:58<4:22:46, 97.33s/it] "
     ]
    },
    {
     "name": "stdout",
     "output_type": "stream",
     "text": [
      "./temp_unzip\\418681_volumes\n",
      "./temp_unzip\\418681_segmentations\n",
      "('1',)\n",
      "418681_tooth_31_(us_24)\n",
      "one case sucessfully converted\n"
     ]
    },
    {
     "name": "stderr",
     "output_type": "stream",
     "text": [
      " 32%|###2      | 77/238 [2:45:23<4:59:36, 111.65s/it]"
     ]
    },
    {
     "name": "stdout",
     "output_type": "stream",
     "text": [
      "./temp_unzip\\418692_volumes\n",
      "./temp_unzip\\418692_segmentations\n",
      "('1',)\n",
      "418692_tooth_31_(us_24)\n",
      "one case sucessfully converted\n"
     ]
    },
    {
     "name": "stderr",
     "output_type": "stream",
     "text": [
      " 33%|###2      | 78/238 [2:47:33<5:12:36, 117.23s/it]"
     ]
    },
    {
     "name": "stdout",
     "output_type": "stream",
     "text": [
      "./temp_unzip\\419518_volumes\n",
      "./temp_unzip\\419518_segmentations\n",
      "('1',)\n",
      "419518_tooth_31_(us_24)\n",
      "one case sucessfully converted\n"
     ]
    },
    {
     "name": "stderr",
     "output_type": "stream",
     "text": [
      " 33%|###3      | 79/238 [2:49:23<5:04:33, 114.93s/it]"
     ]
    },
    {
     "name": "stdout",
     "output_type": "stream",
     "text": [
      "./temp_unzip\\419787_volumes\n",
      "./temp_unzip\\419787_segmentations\n",
      "('1',)\n",
      "419787_tooth_31_(us_24)\n",
      "one case sucessfully converted\n"
     ]
    },
    {
     "name": "stderr",
     "output_type": "stream",
     "text": [
      " 34%|###3      | 80/238 [2:51:03<4:51:10, 110.57s/it]"
     ]
    },
    {
     "name": "stdout",
     "output_type": "stream",
     "text": [
      "./temp_unzip\\420714_volumes\n",
      "./temp_unzip\\420714_segmentations\n",
      "('1',)\n",
      "420714_tooth_32_(us_23)\n",
      "one case sucessfully converted\n"
     ]
    },
    {
     "name": "stderr",
     "output_type": "stream",
     "text": [
      " 34%|###4      | 81/238 [2:52:47<4:43:47, 108.45s/it]"
     ]
    },
    {
     "name": "stdout",
     "output_type": "stream",
     "text": [
      "./temp_unzip\\421955_volumes\n",
      "./temp_unzip\\421955_segmentations\n",
      "('1',)\n",
      "421955_tooth_31_(us_24)\n",
      "one case sucessfully converted\n"
     ]
    },
    {
     "name": "stderr",
     "output_type": "stream",
     "text": [
      " 34%|###4      | 82/238 [2:54:36<4:42:51, 108.79s/it]"
     ]
    },
    {
     "name": "stdout",
     "output_type": "stream",
     "text": [
      "./temp_unzip\\422507_volumes\n",
      "./temp_unzip\\422507_segmentations\n",
      "('1',)\n",
      "422507_tooth_31_(us_24)\n",
      "one case sucessfully converted\n"
     ]
    },
    {
     "name": "stderr",
     "output_type": "stream",
     "text": [
      " 35%|###4      | 83/238 [2:57:03<5:10:39, 120.26s/it]"
     ]
    },
    {
     "name": "stdout",
     "output_type": "stream",
     "text": [
      "./temp_unzip\\422589_volumes\n",
      "./temp_unzip\\422589_segmentations\n",
      "('1',)\n",
      "422589_tooth_31_(us_24)\n",
      "one case sucessfully converted\n"
     ]
    },
    {
     "name": "stderr",
     "output_type": "stream",
     "text": [
      " 35%|###5      | 84/238 [2:59:02<5:07:13, 119.70s/it]"
     ]
    },
    {
     "name": "stdout",
     "output_type": "stream",
     "text": [
      "./temp_unzip\\424022_volumes\n",
      "./temp_unzip\\424022_segmentations\n",
      "('1',)\n",
      "424022_tooth_31_(us_24)\n",
      "one case sucessfully converted\n"
     ]
    },
    {
     "name": "stderr",
     "output_type": "stream",
     "text": [
      " 36%|###5      | 85/238 [3:00:42<4:50:17, 113.84s/it]"
     ]
    },
    {
     "name": "stdout",
     "output_type": "stream",
     "text": [
      "./temp_unzip\\424141_volumes\n",
      "./temp_unzip\\424141_segmentations\n",
      "('1',)\n",
      "424141_tooth_31_(us_24)\n",
      "one case sucessfully converted\n"
     ]
    },
    {
     "name": "stderr",
     "output_type": "stream",
     "text": [
      " 36%|###6      | 86/238 [3:02:41<4:52:25, 115.43s/it]"
     ]
    },
    {
     "name": "stdout",
     "output_type": "stream",
     "text": [
      "./temp_unzip\\424280_volumes\n",
      "./temp_unzip\\424280_segmentations\n",
      "('1',)\n",
      "424280_tooth_31_(us_24)\n",
      "one case sucessfully converted\n"
     ]
    },
    {
     "name": "stderr",
     "output_type": "stream",
     "text": [
      " 37%|###6      | 87/238 [3:04:29<4:44:36, 113.09s/it]"
     ]
    },
    {
     "name": "stdout",
     "output_type": "stream",
     "text": [
      "./temp_unzip\\424914_volumes\n",
      "./temp_unzip\\424914_segmentations\n",
      "('1',)\n",
      "424914_tooth_31_(us_24)\n",
      "one case sucessfully converted\n"
     ]
    },
    {
     "name": "stderr",
     "output_type": "stream",
     "text": [
      " 37%|###6      | 88/238 [3:06:47<5:01:32, 120.62s/it]"
     ]
    },
    {
     "name": "stdout",
     "output_type": "stream",
     "text": [
      "./temp_unzip\\426171_volumes\n",
      "./temp_unzip\\426171_segmentations\n",
      "('1',)\n",
      "426171_tooth_47_(us_31)\n",
      "one case sucessfully converted\n"
     ]
    },
    {
     "name": "stderr",
     "output_type": "stream",
     "text": [
      " 37%|###7      | 89/238 [3:07:28<4:00:34, 96.87s/it] "
     ]
    },
    {
     "name": "stdout",
     "output_type": "stream",
     "text": [
      "./temp_unzip\\426190_volumes\n",
      "./temp_unzip\\426190_segmentations\n",
      "('1',)\n",
      "426190_tooth_31_(us_24)\n",
      "one case sucessfully converted\n"
     ]
    },
    {
     "name": "stderr",
     "output_type": "stream",
     "text": [
      " 38%|###7      | 90/238 [3:09:32<4:18:27, 104.78s/it]"
     ]
    },
    {
     "name": "stdout",
     "output_type": "stream",
     "text": [
      "./temp_unzip\\426241_volumes\n",
      "./temp_unzip\\426241_segmentations\n",
      "('1',)\n",
      "426241_tooth_31_(us_24)\n",
      "one case sucessfully converted\n"
     ]
    },
    {
     "name": "stderr",
     "output_type": "stream",
     "text": [
      " 38%|###8      | 91/238 [3:11:14<4:15:18, 104.21s/it]"
     ]
    },
    {
     "name": "stdout",
     "output_type": "stream",
     "text": [
      "./temp_unzip\\428416_volumes\n",
      "./temp_unzip\\428416_segmentations\n",
      "('1',)\n",
      "428416_tooth_36_(us_19)\n",
      "one case sucessfully converted\n"
     ]
    },
    {
     "name": "stderr",
     "output_type": "stream",
     "text": [
      " 39%|###8      | 92/238 [3:13:50<4:51:14, 119.69s/it]"
     ]
    },
    {
     "name": "stdout",
     "output_type": "stream",
     "text": [
      "./temp_unzip\\428787_volumes\n",
      "./temp_unzip\\428787_segmentations\n",
      "('1',)\n",
      "428787_tooth_31_(us_24)\n",
      "one case sucessfully converted\n"
     ]
    },
    {
     "name": "stderr",
     "output_type": "stream",
     "text": [
      " 39%|###9      | 93/238 [3:15:47<4:46:59, 118.75s/it]"
     ]
    },
    {
     "name": "stdout",
     "output_type": "stream",
     "text": [
      "./temp_unzip\\429826_volumes\n",
      "./temp_unzip\\429826_segmentations\n",
      "('1',)\n",
      "429826_tooth_31_(us_24)\n",
      "one case sucessfully converted\n"
     ]
    },
    {
     "name": "stderr",
     "output_type": "stream",
     "text": [
      " 39%|###9      | 94/238 [3:16:41<3:58:32, 99.39s/it] "
     ]
    },
    {
     "name": "stdout",
     "output_type": "stream",
     "text": [
      "./temp_unzip\\435750_volumes\n",
      "./temp_unzip\\435750_segmentations\n",
      "('1',)\n",
      "435750_tooth_31_(us_24)\n",
      "one case sucessfully converted\n"
     ]
    },
    {
     "name": "stderr",
     "output_type": "stream",
     "text": [
      " 40%|###9      | 95/238 [3:18:13<3:51:19, 97.06s/it]"
     ]
    },
    {
     "name": "stdout",
     "output_type": "stream",
     "text": [
      "./temp_unzip\\438336_volumes\n",
      "./temp_unzip\\438336_segmentations\n",
      "('1',)\n",
      "438336_tooth_31_(us_24)\n",
      "one case sucessfully converted\n"
     ]
    },
    {
     "name": "stderr",
     "output_type": "stream",
     "text": [
      " 40%|####      | 96/238 [3:20:09<4:03:22, 102.83s/it]"
     ]
    },
    {
     "name": "stdout",
     "output_type": "stream",
     "text": [
      "./temp_unzip\\440986_volumes\n",
      "./temp_unzip\\440986_segmentations\n",
      "('1',)\n",
      "440986_tooth_31_(us_24)\n",
      "one case sucessfully converted\n"
     ]
    },
    {
     "name": "stderr",
     "output_type": "stream",
     "text": [
      " 41%|####      | 97/238 [3:22:28<4:27:18, 113.75s/it]"
     ]
    },
    {
     "name": "stdout",
     "output_type": "stream",
     "text": [
      "./temp_unzip\\449953_volumes\n",
      "./temp_unzip\\449953_segmentations\n",
      "('1',)\n",
      "449953_tooth_31_(us_24)\n",
      "one case sucessfully converted\n"
     ]
    },
    {
     "name": "stderr",
     "output_type": "stream",
     "text": [
      " 41%|####1     | 98/238 [3:24:56<4:49:21, 124.01s/it]"
     ]
    },
    {
     "name": "stdout",
     "output_type": "stream",
     "text": [
      "./temp_unzip\\456331_volumes\n",
      "./temp_unzip\\456331_segmentations\n",
      "('1',)\n",
      "456331_tooth_31_(us_24)\n",
      "one case sucessfully converted\n"
     ]
    },
    {
     "name": "stderr",
     "output_type": "stream",
     "text": [
      " 42%|####1     | 99/238 [3:26:18<4:18:12, 111.46s/it]"
     ]
    },
    {
     "name": "stdout",
     "output_type": "stream",
     "text": [
      "./temp_unzip\\468278_volumes\n",
      "./temp_unzip\\468278_segmentations\n",
      "('1',)\n",
      "468278P524743_468278_3161239583-cbct-tooth-38_decimated\n",
      "one case sucessfully converted\n"
     ]
    },
    {
     "name": "stderr",
     "output_type": "stream",
     "text": [
      " 42%|####2     | 100/238 [3:26:40<3:14:41, 84.65s/it]"
     ]
    },
    {
     "name": "stdout",
     "output_type": "stream",
     "text": [
      "./temp_unzip\\471489_volumes\n",
      "./temp_unzip\\471489_segmentations\n",
      "('1',)\n",
      "471489_tooth_31_(us_24)\n",
      "one case sucessfully converted\n"
     ]
    },
    {
     "name": "stderr",
     "output_type": "stream",
     "text": [
      " 42%|####2     | 101/238 [3:28:45<3:40:31, 96.58s/it]"
     ]
    },
    {
     "name": "stdout",
     "output_type": "stream",
     "text": [
      "./temp_unzip\\474673_volumes\n",
      "./temp_unzip\\474673_segmentations\n",
      "('1',)\n",
      "474673_tooth_31_(us_24)\n",
      "one case sucessfully converted\n"
     ]
    },
    {
     "name": "stderr",
     "output_type": "stream",
     "text": [
      " 43%|####2     | 102/238 [3:31:15<4:15:22, 112.67s/it]"
     ]
    },
    {
     "name": "stdout",
     "output_type": "stream",
     "text": [
      "./temp_unzip\\474714_volumes\n",
      "./temp_unzip\\474714_segmentations\n",
      "('1',)\n",
      "474714_tooth_31_(us_24)\n",
      "one case sucessfully converted\n"
     ]
    },
    {
     "name": "stderr",
     "output_type": "stream",
     "text": [
      " 43%|####3     | 103/238 [3:33:39<4:34:29, 122.00s/it]"
     ]
    },
    {
     "name": "stdout",
     "output_type": "stream",
     "text": [
      "./temp_unzip\\478950_volumes\n",
      "./temp_unzip\\478950_segmentations\n",
      "('1',)\n",
      "478950_tooth_31_(us_24)\n",
      "one case sucessfully converted\n"
     ]
    },
    {
     "name": "stderr",
     "output_type": "stream",
     "text": [
      " 44%|####3     | 104/238 [3:35:23<4:20:22, 116.59s/it]"
     ]
    },
    {
     "name": "stdout",
     "output_type": "stream",
     "text": [
      "./temp_unzip\\495144_volumes\n",
      "./temp_unzip\\495144_segmentations\n",
      "('1',)\n",
      "495144_tooth_31_(us_24)\n",
      "one case sucessfully converted\n"
     ]
    },
    {
     "name": "stderr",
     "output_type": "stream",
     "text": [
      " 44%|####4     | 105/238 [3:37:27<4:23:31, 118.88s/it]"
     ]
    },
    {
     "name": "stdout",
     "output_type": "stream",
     "text": [
      "./temp_unzip\\507343_volumes\n",
      "./temp_unzip\\507343_segmentations\n",
      "('1',)\n",
      "somthing is wrong with case {'vol': './temp_unzip\\\\507343_volumes', 'seg': './temp_unzip\\\\507343_segmentations'} probably a missing segmentation\n"
     ]
    },
    {
     "name": "stderr",
     "output_type": "stream",
     "text": [
      " 45%|####4     | 106/238 [3:37:56<3:22:08, 91.88s/it] "
     ]
    },
    {
     "name": "stdout",
     "output_type": "stream",
     "text": [
      "./temp_unzip\\536055_volumes\n",
      "./temp_unzip\\536055_segmentations\n",
      "('1',)\n",
      "somthing is wrong with case {'vol': './temp_unzip\\\\536055_volumes', 'seg': './temp_unzip\\\\536055_segmentations'} probably a missing segmentation\n"
     ]
    },
    {
     "name": "stderr",
     "output_type": "stream",
     "text": [
      " 45%|####4     | 107/238 [3:38:17<2:33:55, 70.50s/it]"
     ]
    },
    {
     "name": "stdout",
     "output_type": "stream",
     "text": [
      "./temp_unzip\\537636_volumes\n",
      "./temp_unzip\\537636_segmentations\n",
      "('1',)\n",
      "somthing is wrong with case {'vol': './temp_unzip\\\\537636_volumes', 'seg': './temp_unzip\\\\537636_segmentations'} probably a missing segmentation\n"
     ]
    },
    {
     "name": "stderr",
     "output_type": "stream",
     "text": [
      " 45%|####5     | 108/238 [3:38:27<1:53:41, 52.48s/it]"
     ]
    },
    {
     "name": "stdout",
     "output_type": "stream",
     "text": [
      "./temp_unzip\\540895_volumes\n",
      "./temp_unzip\\540895_segmentations\n",
      "('1',)\n",
      "somthing is wrong with case {'vol': './temp_unzip\\\\540895_volumes', 'seg': './temp_unzip\\\\540895_segmentations'} probably a missing segmentation\n"
     ]
    },
    {
     "name": "stderr",
     "output_type": "stream",
     "text": [
      " 46%|####5     | 109/238 [3:38:41<1:28:09, 41.00s/it]"
     ]
    },
    {
     "name": "stdout",
     "output_type": "stream",
     "text": [
      "./temp_unzip\\546698_volumes\n",
      "./temp_unzip\\546698_segmentations\n",
      "('1',)\n",
      "546698P524659_3021486634-cbct-tooth-45_decimated\n",
      "one case sucessfully converted\n"
     ]
    },
    {
     "name": "stderr",
     "output_type": "stream",
     "text": [
      " 46%|####6     | 110/238 [3:39:17<1:24:05, 39.41s/it]"
     ]
    },
    {
     "name": "stdout",
     "output_type": "stream",
     "text": [
      "./temp_unzip\\556553_volumes\n",
      "./temp_unzip\\556553_segmentations\n",
      "('1',)\n",
      "too few of desired class in this case. this case will be skipped\n"
     ]
    },
    {
     "name": "stderr",
     "output_type": "stream",
     "text": [
      " 47%|####6     | 111/238 [3:39:35<1:09:49, 32.98s/it]"
     ]
    },
    {
     "name": "stdout",
     "output_type": "stream",
     "text": [
      "./temp_unzip\\557994_volumes\n",
      "./temp_unzip\\557994_segmentations\n",
      "('1',)\n",
      "557994P526426_557994_1567129748-cbct-tooth-38_decimated\n",
      "one case sucessfully converted\n"
     ]
    },
    {
     "name": "stderr",
     "output_type": "stream",
     "text": [
      " 47%|####7     | 112/238 [3:40:02<1:05:40, 31.27s/it]"
     ]
    },
    {
     "name": "stdout",
     "output_type": "stream",
     "text": [
      "./temp_unzip\\559771_volumes\n",
      "./temp_unzip\\559771_segmentations\n",
      "('1',)\n",
      "559771P526284_559771_1210713754-cbct-tooth-33_decimated\n",
      "one case sucessfully converted\n"
     ]
    },
    {
     "name": "stderr",
     "output_type": "stream",
     "text": [
      " 47%|####7     | 113/238 [3:41:44<1:49:23, 52.51s/it]"
     ]
    },
    {
     "name": "stdout",
     "output_type": "stream",
     "text": [
      "./temp_unzip\\562152_volumes\n",
      "./temp_unzip\\562152_segmentations\n",
      "('1',)\n",
      "562152P525209_562152_3488750209-cbct-tooth-36_decimated\n",
      "one case sucessfully converted\n"
     ]
    },
    {
     "name": "stderr",
     "output_type": "stream",
     "text": [
      " 48%|####7     | 114/238 [3:42:12<1:33:26, 45.21s/it]"
     ]
    },
    {
     "name": "stdout",
     "output_type": "stream",
     "text": [
      "./temp_unzip\\564137_volumes\n",
      "./temp_unzip\\564137_segmentations\n",
      "('1',)\n",
      "564137P526316_564137_1148193614-cbct-tooth-37_decimated\n",
      "one case sucessfully converted\n"
     ]
    },
    {
     "name": "stderr",
     "output_type": "stream",
     "text": [
      " 48%|####8     | 115/238 [3:43:38<1:57:42, 57.42s/it]"
     ]
    },
    {
     "name": "stdout",
     "output_type": "stream",
     "text": [
      "./temp_unzip\\564981_volumes\n",
      "./temp_unzip\\564981_segmentations\n",
      "('1',)\n",
      "564981P524875_1113683938-cbct-tooth-35_decimated\n",
      "one case sucessfully converted\n"
     ]
    },
    {
     "name": "stderr",
     "output_type": "stream",
     "text": [
      " 49%|####8     | 116/238 [3:44:05<1:37:44, 48.07s/it]"
     ]
    },
    {
     "name": "stdout",
     "output_type": "stream",
     "text": [
      "./temp_unzip\\567014_volumes\n",
      "./temp_unzip\\567014_segmentations\n",
      "('1',)\n",
      "567014P525594_567014_1422123907-cbct-tooth-38_decimated\n",
      "one case sucessfully converted\n"
     ]
    },
    {
     "name": "stderr",
     "output_type": "stream",
     "text": [
      " 49%|####9     | 117/238 [3:44:30<1:23:24, 41.36s/it]"
     ]
    },
    {
     "name": "stdout",
     "output_type": "stream",
     "text": [
      "./temp_unzip\\567644_volumes\n",
      "./temp_unzip\\567644_segmentations\n",
      "('1',)\n",
      "567644P525221_1277547997-cbct-tooth-35_decimated\n",
      "one case sucessfully converted\n"
     ]
    },
    {
     "name": "stderr",
     "output_type": "stream",
     "text": [
      " 50%|####9     | 118/238 [3:45:11<1:22:17, 41.14s/it]"
     ]
    },
    {
     "name": "stdout",
     "output_type": "stream",
     "text": [
      "./temp_unzip\\569441_volumes\n",
      "./temp_unzip\\569441_segmentations\n",
      "('1',)\n",
      "569441P524326_1343796423-cbct-tooth-42_decimated\n",
      "one case sucessfully converted\n"
     ]
    },
    {
     "name": "stderr",
     "output_type": "stream",
     "text": [
      " 50%|#####     | 119/238 [3:45:53<1:22:25, 41.56s/it]"
     ]
    },
    {
     "name": "stdout",
     "output_type": "stream",
     "text": [
      "./temp_unzip\\569976_volumes\n",
      "./temp_unzip\\569976_segmentations\n",
      "('1',)\n",
      "somthing is wrong with case {'vol': './temp_unzip\\\\569976_volumes', 'seg': './temp_unzip\\\\569976_segmentations'} probably a missing segmentation\n"
     ]
    },
    {
     "name": "stderr",
     "output_type": "stream",
     "text": [
      " 50%|#####     | 120/238 [3:46:03<1:02:42, 31.88s/it]"
     ]
    },
    {
     "name": "stdout",
     "output_type": "stream",
     "text": [
      "./temp_unzip\\569999_volumes\n",
      "./temp_unzip\\569999_segmentations\n",
      "('1',)\n",
      "somthing is wrong with case {'vol': './temp_unzip\\\\569999_volumes', 'seg': './temp_unzip\\\\569999_segmentations'} probably a missing segmentation\n"
     ]
    },
    {
     "name": "stderr",
     "output_type": "stream",
     "text": [
      " 51%|#####     | 121/238 [3:46:14<50:10, 25.73s/it]  "
     ]
    },
    {
     "name": "stdout",
     "output_type": "stream",
     "text": [
      "./temp_unzip\\570482_volumes\n",
      "./temp_unzip\\570482_segmentations\n",
      "('1',)\n",
      "570482P525335_1199438376-cbct-tooth-44_decimated\n",
      "one case sucessfully converted\n"
     ]
    },
    {
     "name": "stderr",
     "output_type": "stream",
     "text": [
      " 51%|#####1    | 122/238 [3:48:05<1:39:22, 51.40s/it]"
     ]
    },
    {
     "name": "stdout",
     "output_type": "stream",
     "text": [
      "./temp_unzip\\570555_volumes\n",
      "./temp_unzip\\570555_segmentations\n",
      "('1',)\n",
      "570555P524841_2115554531-cbct-tooth-47_decimated\n",
      "one case sucessfully converted\n"
     ]
    },
    {
     "name": "stderr",
     "output_type": "stream",
     "text": [
      " 52%|#####1    | 123/238 [3:48:36<1:26:19, 45.04s/it]"
     ]
    },
    {
     "name": "stdout",
     "output_type": "stream",
     "text": [
      "./temp_unzip\\571305_volumes\n",
      "./temp_unzip\\571305_segmentations\n",
      "('1',)\n",
      "571305P524594_3206197462-cbct-tooth-37_decimated\n",
      "one case sucessfully converted\n"
     ]
    },
    {
     "name": "stderr",
     "output_type": "stream",
     "text": [
      " 52%|#####2    | 124/238 [3:48:55<1:11:01, 37.39s/it]"
     ]
    },
    {
     "name": "stdout",
     "output_type": "stream",
     "text": [
      "./temp_unzip\\571326_volumes\n",
      "./temp_unzip\\571326_segmentations\n",
      "('1',)\n",
      "571326P524444_1889152028-periapical-lesion-tooth-47-focus-0_decimated\n",
      "one case sucessfully converted\n"
     ]
    },
    {
     "name": "stderr",
     "output_type": "stream",
     "text": [
      " 53%|#####2    | 125/238 [3:49:21<1:04:11, 34.08s/it]"
     ]
    },
    {
     "name": "stdout",
     "output_type": "stream",
     "text": [
      "./temp_unzip\\571502_volumes\n",
      "./temp_unzip\\571502_segmentations\n",
      "('1',)\n",
      "571502P524766_571502_230707223-cbct-tooth-48_decimated\n",
      "one case sucessfully converted\n"
     ]
    },
    {
     "name": "stderr",
     "output_type": "stream",
     "text": [
      " 53%|#####2    | 126/238 [3:50:15<1:14:43, 40.03s/it]"
     ]
    },
    {
     "name": "stdout",
     "output_type": "stream",
     "text": [
      "./temp_unzip\\572232_volumes\n",
      "./temp_unzip\\572232_segmentations\n",
      "('1',)\n",
      "572232P524543_1208724055-cbct-tooth-32_decimated\n",
      "one case sucessfully converted\n"
     ]
    },
    {
     "name": "stderr",
     "output_type": "stream",
     "text": [
      " 53%|#####3    | 127/238 [3:51:20<1:27:32, 47.32s/it]"
     ]
    },
    {
     "name": "stdout",
     "output_type": "stream",
     "text": [
      "./temp_unzip\\572268_volumes\n",
      "./temp_unzip\\572268_segmentations\n",
      "('1',)\n",
      "572268P524525_2691285432-cbct-tooth-36_decimated\n",
      "one case sucessfully converted\n"
     ]
    },
    {
     "name": "stderr",
     "output_type": "stream",
     "text": [
      " 54%|#####3    | 128/238 [3:51:56<1:20:37, 43.98s/it]"
     ]
    },
    {
     "name": "stdout",
     "output_type": "stream",
     "text": [
      "./temp_unzip\\572276_volumes\n",
      "./temp_unzip\\572276_segmentations\n",
      "('1',)\n",
      "572276P524840_3257375451-cbct-tooth-34_decimated\n",
      "one case sucessfully converted\n"
     ]
    },
    {
     "name": "stderr",
     "output_type": "stream",
     "text": [
      " 54%|#####4    | 129/238 [3:52:16<1:06:46, 36.76s/it]"
     ]
    },
    {
     "name": "stdout",
     "output_type": "stream",
     "text": [
      "./temp_unzip\\572836_volumes\n",
      "./temp_unzip\\572836_segmentations\n",
      "('1',)\n",
      "572836P527477_1835151548-cbct-tooth-47_decimated\n",
      "one case sucessfully converted\n"
     ]
    },
    {
     "name": "stderr",
     "output_type": "stream",
     "text": [
      " 55%|#####4    | 130/238 [3:52:47<1:03:23, 35.22s/it]"
     ]
    },
    {
     "name": "stdout",
     "output_type": "stream",
     "text": [
      "./temp_unzip\\572901_volumes\n",
      "./temp_unzip\\572901_segmentations\n",
      "('1',)\n",
      "572901P527185_572901_1145882879-cbct-tooth-41_decimated\n",
      "one case sucessfully converted\n"
     ]
    },
    {
     "name": "stderr",
     "output_type": "stream",
     "text": [
      " 55%|#####5    | 131/238 [3:53:26<1:04:50, 36.36s/it]"
     ]
    },
    {
     "name": "stdout",
     "output_type": "stream",
     "text": [
      "./temp_unzip\\573064_volumes\n",
      "./temp_unzip\\573064_segmentations\n",
      "('1',)\n",
      "573064P524810_215214999-cbct-tooth-37_decimated\n",
      "one case sucessfully converted\n"
     ]
    },
    {
     "name": "stderr",
     "output_type": "stream",
     "text": [
      " 55%|#####5    | 132/238 [3:53:52<58:26, 33.08s/it]  "
     ]
    },
    {
     "name": "stdout",
     "output_type": "stream",
     "text": [
      "./temp_unzip\\573280_volumes\n",
      "./temp_unzip\\573280_segmentations\n",
      "('1',)\n",
      "573280P525193_1248974675-cbct-tooth-48_decimated\n",
      "one case sucessfully converted\n"
     ]
    },
    {
     "name": "stderr",
     "output_type": "stream",
     "text": [
      " 56%|#####5    | 133/238 [3:56:49<2:13:22, 76.21s/it]"
     ]
    },
    {
     "name": "stdout",
     "output_type": "stream",
     "text": [
      "./temp_unzip\\573401_volumes\n",
      "./temp_unzip\\573401_segmentations\n",
      "('1',)\n",
      "573401P523869_573401_1251111044-cbct-tooth-43_decimated\n",
      "one case sucessfully converted\n"
     ]
    },
    {
     "name": "stderr",
     "output_type": "stream",
     "text": [
      " 56%|#####6    | 134/238 [3:58:04<2:11:20, 75.77s/it]"
     ]
    },
    {
     "name": "stdout",
     "output_type": "stream",
     "text": [
      "./temp_unzip\\573766_volumes\n",
      "./temp_unzip\\573766_segmentations\n",
      "('1',)\n",
      "573766P524851_1147510484-cbct-tooth-45_decimated\n",
      "one case sucessfully converted\n"
     ]
    },
    {
     "name": "stderr",
     "output_type": "stream",
     "text": [
      " 57%|#####6    | 135/238 [3:59:57<2:29:19, 86.98s/it]"
     ]
    },
    {
     "name": "stdout",
     "output_type": "stream",
     "text": [
      "./temp_unzip\\574033_volumes\n",
      "./temp_unzip\\574033_segmentations\n",
      "('1',)\n",
      "574033P525252_1133782640-cbct-tooth-36_decimated\n",
      "one case sucessfully converted\n"
     ]
    },
    {
     "name": "stderr",
     "output_type": "stream",
     "text": [
      " 57%|#####7    | 136/238 [4:00:23<1:57:02, 68.84s/it]"
     ]
    },
    {
     "name": "stdout",
     "output_type": "stream",
     "text": [
      "./temp_unzip\\574156_volumes\n",
      "./temp_unzip\\574156_segmentations\n",
      "('1',)\n",
      "574156P523942_574156_2620834967-cbct-tooth-37_decimated\n",
      "one case sucessfully converted\n"
     ]
    },
    {
     "name": "stderr",
     "output_type": "stream",
     "text": [
      " 58%|#####7    | 137/238 [4:00:47<1:33:03, 55.28s/it]"
     ]
    },
    {
     "name": "stdout",
     "output_type": "stream",
     "text": [
      "./temp_unzip\\574161_volumes\n",
      "./temp_unzip\\574161_segmentations\n",
      "('1',)\n",
      "574161P524346_574161_2264019256-cbct-tooth-46_decimated\n",
      "one case sucessfully converted\n"
     ]
    },
    {
     "name": "stderr",
     "output_type": "stream",
     "text": [
      " 58%|#####7    | 138/238 [4:01:15<1:18:24, 47.05s/it]"
     ]
    },
    {
     "name": "stdout",
     "output_type": "stream",
     "text": [
      "./temp_unzip\\574188_volumes\n",
      "./temp_unzip\\574188_segmentations\n",
      "('1',)\n",
      "574188P527737_1029734334-cbct-tooth-31_decimated\n",
      "one case sucessfully converted\n"
     ]
    },
    {
     "name": "stderr",
     "output_type": "stream",
     "text": [
      " 58%|#####8    | 139/238 [4:01:48<1:11:01, 43.04s/it]"
     ]
    },
    {
     "name": "stdout",
     "output_type": "stream",
     "text": [
      "./temp_unzip\\574212_volumes\n",
      "./temp_unzip\\574212_segmentations\n",
      "('1',)\n",
      "574212P524206_574212_1069700541-cbct-tooth-36_decimated\n",
      "one case sucessfully converted\n"
     ]
    },
    {
     "name": "stderr",
     "output_type": "stream",
     "text": [
      " 59%|#####8    | 140/238 [4:02:22<1:05:49, 40.30s/it]"
     ]
    },
    {
     "name": "stdout",
     "output_type": "stream",
     "text": [
      "./temp_unzip\\574441_volumes\n",
      "./temp_unzip\\574441_segmentations\n",
      "('1',)\n",
      "574441P524324_405006170-cbct-tooth-36_decimated\n",
      "one case sucessfully converted\n"
     ]
    },
    {
     "name": "stderr",
     "output_type": "stream",
     "text": [
      " 59%|#####9    | 141/238 [4:02:46<57:01, 35.27s/it]  "
     ]
    },
    {
     "name": "stdout",
     "output_type": "stream",
     "text": [
      "./temp_unzip\\574443_volumes\n",
      "./temp_unzip\\574443_segmentations\n",
      "('1',)\n",
      "574443P524411_1057237908-cbct-tooth-36_decimated\n",
      "one case sucessfully converted\n"
     ]
    },
    {
     "name": "stderr",
     "output_type": "stream",
     "text": [
      " 60%|#####9    | 142/238 [4:04:59<1:43:35, 64.74s/it]"
     ]
    },
    {
     "name": "stdout",
     "output_type": "stream",
     "text": [
      "./temp_unzip\\574449_volumes\n",
      "./temp_unzip\\574449_segmentations\n",
      "('1',)\n",
      "574449P524682_574449_3135478226-cbct-tooth-36_decimated\n",
      "one case sucessfully converted\n"
     ]
    },
    {
     "name": "stderr",
     "output_type": "stream",
     "text": [
      " 60%|######    | 143/238 [4:05:26<1:24:20, 53.27s/it]"
     ]
    },
    {
     "name": "stdout",
     "output_type": "stream",
     "text": [
      "./temp_unzip\\574494_volumes\n",
      "./temp_unzip\\574494_segmentations\n",
      "('1',)\n",
      "574494P524404_3054061088-cbct-tooth-38_decimated\n",
      "one case sucessfully converted\n"
     ]
    },
    {
     "name": "stderr",
     "output_type": "stream",
     "text": [
      " 61%|######    | 144/238 [4:05:46<1:07:56, 43.37s/it]"
     ]
    },
    {
     "name": "stdout",
     "output_type": "stream",
     "text": [
      "./temp_unzip\\574613_volumes\n",
      "./temp_unzip\\574613_segmentations\n",
      "('1',)\n",
      "574613P525225_574613_2945793683-cbct-tooth-46_decimated\n",
      "one case sucessfully converted\n"
     ]
    },
    {
     "name": "stderr",
     "output_type": "stream",
     "text": [
      " 61%|######    | 145/238 [4:06:08<57:21, 37.01s/it]  "
     ]
    },
    {
     "name": "stdout",
     "output_type": "stream",
     "text": [
      "./temp_unzip\\574976_volumes\n",
      "./temp_unzip\\574976_segmentations\n",
      "('1',)\n",
      "574976P523731_574976_1485378315-cbct-tooth-35_decimated\n",
      "one case sucessfully converted\n"
     ]
    },
    {
     "name": "stderr",
     "output_type": "stream",
     "text": [
      " 61%|######1   | 146/238 [4:07:09<1:07:35, 44.09s/it]"
     ]
    },
    {
     "name": "stdout",
     "output_type": "stream",
     "text": [
      "./temp_unzip\\575078_volumes\n",
      "./temp_unzip\\575078_segmentations\n",
      "('1',)\n",
      "575078P526874_575078_1700094173-cbct-tooth-37_decimated\n",
      "one case sucessfully converted\n"
     ]
    },
    {
     "name": "stderr",
     "output_type": "stream",
     "text": [
      " 62%|######1   | 147/238 [4:07:33<57:35, 37.97s/it]  "
     ]
    },
    {
     "name": "stdout",
     "output_type": "stream",
     "text": [
      "./temp_unzip\\575127_volumes\n",
      "./temp_unzip\\575127_segmentations\n",
      "('1',)\n",
      "575127P526522_575127_1087544310-cbct-tooth-43_decimated\n",
      "one case sucessfully converted\n"
     ]
    },
    {
     "name": "stderr",
     "output_type": "stream",
     "text": [
      " 62%|######2   | 148/238 [4:08:40<1:10:20, 46.89s/it]"
     ]
    },
    {
     "name": "stdout",
     "output_type": "stream",
     "text": [
      "./temp_unzip\\575180_volumes\n",
      "./temp_unzip\\575180_segmentations\n",
      "('1',)\n",
      "575180P526572_575180_1248752624-cbct-tooth-46_decimated\n",
      "one case sucessfully converted\n"
     ]
    },
    {
     "name": "stderr",
     "output_type": "stream",
     "text": [
      " 63%|######2   | 149/238 [4:09:14<1:03:32, 42.83s/it]"
     ]
    },
    {
     "name": "stdout",
     "output_type": "stream",
     "text": [
      "./temp_unzip\\575272_volumes\n",
      "./temp_unzip\\575272_segmentations\n",
      "('1',)\n",
      "575272P525036_2210308888-cbct-tooth-37-condition-cfill_decimated\n",
      "one case sucessfully converted\n"
     ]
    },
    {
     "name": "stderr",
     "output_type": "stream",
     "text": [
      " 63%|######3   | 150/238 [4:09:38<54:42, 37.30s/it]  "
     ]
    },
    {
     "name": "stdout",
     "output_type": "stream",
     "text": [
      "./temp_unzip\\575280_volumes\n",
      "./temp_unzip\\575280_segmentations\n",
      "('1',)\n",
      "575280P524644_1348484250-cbct-tooth-37_decimated\n",
      "one case sucessfully converted\n"
     ]
    },
    {
     "name": "stderr",
     "output_type": "stream",
     "text": [
      " 63%|######3   | 151/238 [4:09:59<47:05, 32.47s/it]"
     ]
    },
    {
     "name": "stdout",
     "output_type": "stream",
     "text": [
      "./temp_unzip\\575336_volumes\n",
      "./temp_unzip\\575336_segmentations\n",
      "('1',)\n",
      "575336P524397_1862271207-cbct-tooth-36_decimated\n",
      "one case sucessfully converted\n"
     ]
    },
    {
     "name": "stderr",
     "output_type": "stream",
     "text": [
      " 64%|######3   | 152/238 [4:10:23<42:57, 29.97s/it]"
     ]
    },
    {
     "name": "stdout",
     "output_type": "stream",
     "text": [
      "./temp_unzip\\575367_volumes\n",
      "./temp_unzip\\575367_segmentations\n",
      "('1',)\n",
      "575367P524515_1204347902-cbct-tooth-45_decimated\n",
      "one case sucessfully converted\n"
     ]
    },
    {
     "name": "stderr",
     "output_type": "stream",
     "text": [
      " 64%|######4   | 153/238 [4:10:46<39:20, 27.77s/it]"
     ]
    },
    {
     "name": "stdout",
     "output_type": "stream",
     "text": [
      "./temp_unzip\\575370_volumes\n",
      "./temp_unzip\\575370_segmentations\n",
      "('1',)\n",
      "575370P525459_575370_1542963875-cbct-tooth-45_decimated\n",
      "one case sucessfully converted\n"
     ]
    },
    {
     "name": "stderr",
     "output_type": "stream",
     "text": [
      " 65%|######4   | 154/238 [4:11:11<37:52, 27.06s/it]"
     ]
    },
    {
     "name": "stdout",
     "output_type": "stream",
     "text": [
      "./temp_unzip\\575412_volumes\n",
      "./temp_unzip\\575412_segmentations\n",
      "('1',)\n",
      "575412P524825_1537464942-cbct-tooth-48_decimated\n",
      "one case sucessfully converted\n"
     ]
    },
    {
     "name": "stderr",
     "output_type": "stream",
     "text": [
      " 65%|######5   | 155/238 [4:11:43<39:11, 28.33s/it]"
     ]
    },
    {
     "name": "stdout",
     "output_type": "stream",
     "text": [
      "./temp_unzip\\575468_volumes\n",
      "./temp_unzip\\575468_segmentations\n",
      "('1',)\n",
      "575468P525671_575468_1167695295-cbct-tooth-48_decimated\n",
      "one case sucessfully converted\n"
     ]
    },
    {
     "name": "stderr",
     "output_type": "stream",
     "text": [
      " 66%|######5   | 156/238 [4:12:05<36:23, 26.63s/it]"
     ]
    },
    {
     "name": "stdout",
     "output_type": "stream",
     "text": [
      "./temp_unzip\\575480_volumes\n",
      "./temp_unzip\\575480_segmentations\n",
      "('1',)\n",
      "575480P524482_575480_1293424253-cbct-tooth-48_decimated\n",
      "one case sucessfully converted\n"
     ]
    },
    {
     "name": "stderr",
     "output_type": "stream",
     "text": [
      " 66%|######5   | 157/238 [4:12:31<35:42, 26.45s/it]"
     ]
    },
    {
     "name": "stdout",
     "output_type": "stream",
     "text": [
      "./temp_unzip\\575564_volumes\n",
      "./temp_unzip\\575564_segmentations\n",
      "('1',)\n",
      "575564P524004_575564_1520599807-cbct-tooth-38_decimated\n",
      "one case sucessfully converted\n"
     ]
    },
    {
     "name": "stderr",
     "output_type": "stream",
     "text": [
      " 66%|######6   | 158/238 [4:12:55<34:12, 25.65s/it]"
     ]
    },
    {
     "name": "stdout",
     "output_type": "stream",
     "text": [
      "./temp_unzip\\575683_volumes\n",
      "./temp_unzip\\575683_segmentations\n",
      "('1',)\n",
      "575683P525019_3100656562-cbct-tooth-37_decimated\n",
      "one case sucessfully converted\n"
     ]
    },
    {
     "name": "stderr",
     "output_type": "stream",
     "text": [
      " 67%|######6   | 159/238 [4:13:32<38:14, 29.04s/it]"
     ]
    },
    {
     "name": "stdout",
     "output_type": "stream",
     "text": [
      "./temp_unzip\\575747_volumes\n",
      "./temp_unzip\\575747_segmentations\n",
      "('1',)\n",
      "575747P525047_154271094-cbct-tooth-42_decimated\n",
      "one case sucessfully converted\n"
     ]
    },
    {
     "name": "stderr",
     "output_type": "stream",
     "text": [
      " 67%|######7   | 160/238 [4:16:48<1:42:53, 79.15s/it]"
     ]
    },
    {
     "name": "stdout",
     "output_type": "stream",
     "text": [
      "./temp_unzip\\575769_volumes\n",
      "./temp_unzip\\575769_segmentations\n",
      "('1',)\n",
      "575769P524592_575769_1590949796-cbct-tooth-35_decimated\n",
      "one case sucessfully converted\n"
     ]
    },
    {
     "name": "stderr",
     "output_type": "stream",
     "text": [
      " 68%|######7   | 161/238 [4:17:38<1:30:08, 70.24s/it]"
     ]
    },
    {
     "name": "stdout",
     "output_type": "stream",
     "text": [
      "./temp_unzip\\575793_volumes\n",
      "./temp_unzip\\575793_segmentations\n",
      "('1',)\n",
      "575793P523996_575793_2925855609-cbct-tooth-37_decimated\n",
      "one case sucessfully converted\n"
     ]
    },
    {
     "name": "stderr",
     "output_type": "stream",
     "text": [
      " 68%|######8   | 162/238 [4:18:01<1:11:15, 56.25s/it]"
     ]
    },
    {
     "name": "stdout",
     "output_type": "stream",
     "text": [
      "./temp_unzip\\575919_volumes\n",
      "./temp_unzip\\575919_segmentations\n",
      "('1',)\n",
      "575919P527133_575919_2215018201-cbct-tooth-34_decimated\n",
      "one case sucessfully converted\n"
     ]
    },
    {
     "name": "stderr",
     "output_type": "stream",
     "text": [
      " 68%|######8   | 163/238 [4:18:22<57:05, 45.67s/it]  "
     ]
    },
    {
     "name": "stdout",
     "output_type": "stream",
     "text": [
      "./temp_unzip\\575923_volumes\n",
      "./temp_unzip\\575923_segmentations\n",
      "('1',)\n",
      "575923P525924_575923_202183304-periapical-lesion-tooth-47-f_decimated\n",
      "one case sucessfully converted\n"
     ]
    },
    {
     "name": "stderr",
     "output_type": "stream",
     "text": [
      " 69%|######8   | 164/238 [4:24:50<3:02:55, 148.32s/it]"
     ]
    }
   ],
   "source": [
    "batch_nii_convert (input_cases)"
   ]
  },
  {
   "cell_type": "code",
   "execution_count": null,
   "id": "c2bd95b1-d062-4235-992e-4048effdb08d",
   "metadata": {},
   "outputs": [],
   "source": [
    "# test_seg = \"C:\\\\Users\\\\Sepehr\\\\3dsegmentationProjects\\\\nn-unet-organize-dataset-for-training\\\\304846_246033_segmented_structures\"\n",
    "# test_vol = \"C:\\\\Users\\\\Sepehr\\\\3dsegmentationProjects\\\\nn-unet-organize-dataset-for-training\\\\304846_Ken_Lin_Lin_Ken____20200831_080509147\"\n",
    "\n",
    "# test_seg2 = \"C:\\\\Users\\\\Sepehr\\\\3dsegmentationProjects\\\\nn-unet-organize-dataset-for-training\\\\temp_unzip\\\\576547_segmentations\"\n",
    "# test_vol2 = \"C:\\\\Users\\\\Sepehr\\\\3dsegmentationProjects\\\\nn-unet-organize-dataset-for-training\\\\temp_unzip\\\\576547_volumes\"\n",
    "\n",
    "# # # # convert_single_case_to_nii (input_cases[0][\"vol\"],input_cases[0][\"seg\"])\n",
    "# convert_single_case_to_nii (test_vol2,test_seg2)"
   ]
  },
  {
   "cell_type": "markdown",
   "id": "a57ecaf2-80a2-46b7-98ed-1b1936084477",
   "metadata": {},
   "source": [
    "# building nnunet_dataset from nii"
   ]
  },
  {
   "cell_type": "code",
   "execution_count": 17,
   "id": "5d3753e3-750a-4644-b07a-c3d035c7b32a",
   "metadata": {},
   "outputs": [],
   "source": [
    "#making dataset Folder \n",
    "\n",
    "dataset_id = 132\n",
    "dataset_name = \"mandibular_teeth_Palmer_lables\" \n",
    "Dataset_folder_name = f\"Dataset{dataset_id}_{dataset_name}\"\n",
    "\n",
    "if (not os.path.exists(f\"./nnUNet_raw/{Dataset_folder_name}\")):\n",
    "    os.mkdir(f\"./nnUNet_raw/{Dataset_folder_name}\")\n",
    "\n",
    "train_input_dir = f\"./nnUNet_raw/{Dataset_folder_name}/imagesTr\"\n",
    "train_lable_dir = f\"./nnUNet_raw/{Dataset_folder_name}/labelsTr\"\n",
    "\n",
    "if not os.path.exists(train_input_dir):\n",
    "    os.mkdir(train_input_dir)\n",
    "if not os.path.exists(train_lable_dir):\n",
    "    os.mkdir(train_lable_dir)\n",
    "\n",
    "\n"
   ]
  },
  {
   "cell_type": "code",
   "execution_count": 18,
   "id": "a3865e6d-e787-4654-86f9-f81bf8253133",
   "metadata": {},
   "outputs": [],
   "source": [
    "import shutil\n",
    "volume_list = os.listdir(nii_path_volumes)\n",
    "seg_list = os.listdir(nii_path_segmentations)\n",
    "# print (volume_list)\n",
    "\n",
    "for volume in volume_list:\n",
    "    volume_old_path = f\"{nii_path_volumes}/{volume}\"\n",
    "    volume_nnunet_name = volume.replace (\"_input.nii.gz\",\"_0000.nii.gz\")\n",
    "    volume_new_path = f\"{train_input_dir}/{volume_nnunet_name}\"\n",
    "\n",
    "    #print (volume_nnunet_name)\n",
    "    shutil.move(volume_old_path, volume_new_path)\n",
    "\n",
    "\n",
    "for segmentation in seg_list:\n",
    "    segmentation_old_path = f\"{nii_path_segmentations}/{segmentation}\"\n",
    "    segmentation_nnunet_name = segmentation.replace (\"_seg.nii.gz\",\".nii.gz\")\n",
    "    segmentation_new_path = f\"{train_lable_dir}/{segmentation_nnunet_name}\"\n",
    "\n",
    "    #print (segmentation_nnunet_name)\n",
    "    shutil.move(segmentation_old_path, segmentation_new_path)\n"
   ]
  },
  {
   "cell_type": "code",
   "execution_count": 19,
   "id": "c9adf213-d7fe-4681-a374-8a67acab6bc7",
   "metadata": {},
   "outputs": [],
   "source": [
    "## creating Dataset Json \n",
    "import json \n",
    "\n",
    "dataset_metadata = {\n",
    " \"channel_names\": {  # formerly modalities\n",
    "   \"0\": \"CT\", \n",
    " }, \n",
    " \"labels\": {\n",
    "    \"background\":0,\n",
    "    \"Central Incisor\":8,\n",
    "    \"Lateral Incisor\":7,\n",
    "    \"Cuspid\":6,\n",
    "    \"First Bicuspid\":5,\n",
    "    \"Second Bicuspid\":4,\n",
    "    \"first molar\":3,\n",
    "    \"Second Molar\":2,\n",
    "    \"Third Molar\":1,\n",
    "}, \n",
    " \"numTraining\": len(volume_list), \n",
    " \"file_ending\": \".nii.gz\",\n",
    " \"overwrite_image_reader_writer\": \"SimpleITKIO\"  # optional! If not provided nnU-Net will automatically determine the ReaderWriter\n",
    " \n",
    "}\n",
    "\n",
    "json_data = json.dumps(dataset_metadata)\n",
    "\n",
    "with open(f\"./nnUNet_raw/{Dataset_folder_name}/dataset.json\", \"w\") as outfile:\n",
    "    outfile.write(json_data)"
   ]
  },
  {
   "cell_type": "code",
   "execution_count": 21,
   "id": "4266cc80-479a-4baa-8252-1e9d00ef5d2a",
   "metadata": {},
   "outputs": [],
   "source": [
    "# for file in os.listdir(train_input_dir):\n",
    "\n",
    "#     volume_nnunet_name = file.replace (\"_input.nii.gz\",\"_0000.nii.gz\")\n",
    "#     os.rename (f\"{train_input_dir}/{file}\",f\"{train_input_dir}/{volume_nnunet_name}\")"
   ]
  },
  {
   "cell_type": "code",
   "execution_count": null,
   "id": "8f162ece-ac3c-4abf-b814-6c2698c804ba",
   "metadata": {},
   "outputs": [],
   "source": []
  },
  {
   "cell_type": "code",
   "execution_count": null,
   "id": "b09b16e3-1deb-48d7-b981-8a9785f8ae39",
   "metadata": {},
   "outputs": [],
   "source": []
  },
  {
   "cell_type": "code",
   "execution_count": null,
   "id": "697e58e0-cbf9-44a0-b109-39fddfaf447c",
   "metadata": {},
   "outputs": [],
   "source": []
  },
  {
   "cell_type": "code",
   "execution_count": null,
   "id": "c947264b-b89d-4759-84fa-ac75d6502ab2",
   "metadata": {},
   "outputs": [],
   "source": []
  },
  {
   "cell_type": "markdown",
   "id": "7b114bea-27df-49ec-bb8d-2716401bc538",
   "metadata": {},
   "source": [
    "# tests\n"
   ]
  },
  {
   "cell_type": "code",
   "execution_count": 17,
   "id": "7e2c3d8f-ee0b-4eff-a64f-0c36668acc4e",
   "metadata": {},
   "outputs": [],
   "source": [
    "dicom_series_path = \"C:\\\\Users\\\\Sepehr\\\\3dsegmentationProjects\\\\nn-unet-organize-dataset-for-training\\\\304846_Ken_Lin_Lin_Ken____20200831_080509147\"\n",
    "segmentation_path = \"304846_246033_segmented_structures\""
   ]
  },
  {
   "cell_type": "code",
   "execution_count": 18,
   "id": "7e492308-2a46-44c0-818a-e88f89482523",
   "metadata": {},
   "outputs": [
    {
     "name": "stdout",
     "output_type": "stream",
     "text": [
      "C:\\Users\\Sepehr\\3dsegmentationProjects\\nn-unet-organize-dataset-for-training\\304846_Ken_Lin_Lin_Ken____20200831_080509147\n",
      "304846_246033_segmented_structures\n",
      "('1',)\n"
     ]
    }
   ],
   "source": [
    "# # Clear scene\n",
    "slicer.mrmlScene.Clear(False)\n",
    "\n",
    "print(dicom_series_path)\n",
    "print(segmentation_path)\n",
    "\n",
    "##load dicom \n",
    "loadedNodeIDs = []\n",
    "with DICOMUtils.TemporaryDICOMDatabase() as db:\n",
    "    DICOMUtils.importDicom(os.path.abspath(dicom_series_path), db)\n",
    "    patientUIDs = db.patients()\n",
    "\n",
    "    print (patientUIDs)\n",
    "    for patientUID in patientUIDs:\n",
    "        loadedNodeIDs.extend(DICOMUtils.loadPatientByUID(patientUID))\n",
    "\n",
    "\n",
    "\n"
   ]
  },
  {
   "cell_type": "code",
   "execution_count": 19,
   "id": "368c6ae5-0b91-4261-9fb7-03da910f4526",
   "metadata": {},
   "outputs": [],
   "source": [
    "'''\n",
    "loading the segmentations into appropriate substructuresz \n",
    "\n",
    "'''\n",
    "maxillary_teeth_lables = [\"11\",\"12\",\"13\",\"14\",\"15\",\"16\",\"17\",\"18\",\"21\",\"22\",\"23\",\"24\",\"25\",\"26\",\"27\",\"28\"]\n",
    "maxillaryTeethNode = slicer.mrmlScene.AddNewNodeByClass(\"vtkMRMLSegmentationNode\")\n",
    "maxillaryTeethNode.CreateDefaultDisplayNodes()\n",
    "maxillaryTeethNode.SetName (\"maxillaryTeethNode\")\n",
    "\n",
    "\n",
    "## creating segmentation nodes\n",
    "segmentationNodes = {} \n"
   ]
  },
  {
   "cell_type": "code",
   "execution_count": 20,
   "id": "36c8d500-bc62-4ab8-a41d-dbdb51958cd5",
   "metadata": {},
   "outputs": [],
   "source": [
    "## importing stls \n",
    "nodes = []\n",
    "node_names = []\n",
    "for seg in os.listdir(segmentation_path):\n",
    "    if ((\".stl\" in seg or \".obj\" in seg) and \"pulp\" not in seg ):\n",
    "        mesh_path = f\"{segmentation_path}/{seg}\"\n",
    "        class_name = get_model_class_from_file(seg)\n",
    "\n",
    "        if class_name.strip(\"tooth_\") in maxillary_teeth_lables:\n",
    "            slicer.modules.segmentations.logic().ImportModelToSegmentationNode(slicer.util.loadModel(mesh_path), maxillaryTeethNode)\n",
    "\n",
    "        if class_name in lable_map:\n",
    "\n",
    "            segmentationNode = slicer.mrmlScene.AddNewNodeByClass(\"vtkMRMLSegmentationNode\")\n",
    "            segmentationNode.CreateDefaultDisplayNodes()\n",
    "            segmentationNodes [class_name] = segmentationNode\n",
    "            \n",
    "            slicer.modules.segmentations.logic().ImportModelToSegmentationNode(slicer.util.loadModel(mesh_path), segmentationNode)\n",
    "\n",
    "if (len(segmentationNodes) <1):\n",
    "    print (\"too few of desired class in this case. this case will be skipped\")\n",
    "    "
   ]
  },
  {
   "cell_type": "code",
   "execution_count": null,
   "id": "b2b1ca55-06d6-4bbb-8881-0be03f193128",
   "metadata": {},
   "outputs": [],
   "source": [
    "maxillaryTeethNode."
   ]
  },
  {
   "cell_type": "code",
   "execution_count": 34,
   "id": "7c9e9174-4868-45f1-bf76-cf27df27d153",
   "metadata": {},
   "outputs": [],
   "source": [
    "referenceVolumeNode = slicer.mrmlScene.GetNodeByID(\"vtkMRMLScalarVolumeNode1\")\n",
    "\n",
    "segmentation_lable_map = convert_to_nnunet_lable_tooth(segmentationNodes,referenceVolumeNode)\n",
    "input_volume_map = convert_to_nnunet_lable_macro_structure(maxillaryTeethNode,referenceVolumeNode)"
   ]
  },
  {
   "cell_type": "code",
   "execution_count": 55,
   "id": "5dc68df3-45a3-4c9b-83e3-d98704d0350b",
   "metadata": {},
   "outputs": [],
   "source": [
    "#creating segmentation node to compute ROI \n",
    "temp_segmentationNode = slicer.mrmlScene.AddNewNodeByClass(\"vtkMRMLSegmentationNode\")\n",
    "temp_segmentationNode.CreateDefaultDisplayNodes()\n",
    "\n",
    "slicer.modules.segmentations.logic().ImportLabelmapToSegmentationNode (input_volume_map,temp_segmentationNode)\n",
    "\n",
    "\n",
    "\n",
    "## obtaining bounding box coordinates from segment node\n",
    "import SegmentStatistics\n",
    "segStatLogic = SegmentStatistics.SegmentStatisticsLogic()\n",
    "segStatLogic.getParameterNode().SetParameter(\"Segmentation\", temp_segmentationNode.GetID())\n",
    "segStatLogic.getParameterNode().SetParameter(\"LabelmapSegmentStatisticsPlugin.obb_origin_ras.enabled\",str(True))\n",
    "segStatLogic.getParameterNode().SetParameter(\"LabelmapSegmentStatisticsPlugin.obb_diameter_mm.enabled\",str(True))\n",
    "segStatLogic.getParameterNode().SetParameter(\"LabelmapSegmentStatisticsPlugin.obb_direction_ras_x.enabled\",str(True))\n",
    "segStatLogic.getParameterNode().SetParameter(\"LabelmapSegmentStatisticsPlugin.obb_direction_ras_y.enabled\",str(True))\n",
    "segStatLogic.getParameterNode().SetParameter(\"LabelmapSegmentStatisticsPlugin.obb_direction_ras_z.enabled\",str(True))\n",
    "segStatLogic.computeStatistics()\n",
    "stats = segStatLogic.getStatistics()\n",
    "\n"
   ]
  },
  {
   "cell_type": "code",
   "execution_count": 56,
   "id": "b27c416a-9403-4e71-b9db-241718ea0b51",
   "metadata": {},
   "outputs": [
    {
     "name": "stdout",
     "output_type": "stream",
     "text": [
      "304846_246033_6971_304846_tooth_11_(us_8)_decimated\n"
     ]
    }
   ],
   "source": [
    "## creating ROI from bounding box stats\n",
    "\n",
    "segmentId = stats[\"SegmentIDs\"] [0]\n",
    "print (segmentId)\n",
    "# Get bounding box\n",
    "obb_origin_ras = np.array(stats[segmentId,\"LabelmapSegmentStatisticsPlugin.obb_origin_ras\"])\n",
    "obb_diameter_mm = np.array(stats[segmentId,\"LabelmapSegmentStatisticsPlugin.obb_diameter_mm\"])\n",
    "obb_direction_ras_x = np.array(stats[segmentId,\"LabelmapSegmentStatisticsPlugin.obb_direction_ras_x\"])\n",
    "obb_direction_ras_y = np.array(stats[segmentId,\"LabelmapSegmentStatisticsPlugin.obb_direction_ras_y\"])\n",
    "obb_direction_ras_z = np.array(stats[segmentId,\"LabelmapSegmentStatisticsPlugin.obb_direction_ras_z\"])\n",
    "\n",
    "# Create ROI\n",
    "segment = temp_segmentationNode.GetSegmentation().GetSegment(segmentId)\n",
    "roi=slicer.mrmlScene.AddNewNodeByClass(\"vtkMRMLMarkupsROINode\")\n",
    "roi.SetName(segment.GetName() + \" OBB\")\n",
    "roi.GetDisplayNode().SetHandlesInteractive(False)  # do not let the user resize the box\n",
    "roi.SetSize(obb_diameter_mm)\n",
    "\n",
    "\n",
    "# Position and orient ROI using a transform\n",
    "obb_center_ras = obb_origin_ras+0.5*(obb_diameter_mm[0] * obb_direction_ras_x + obb_diameter_mm[1] * obb_direction_ras_y + obb_diameter_mm[2] * obb_direction_ras_z)\n",
    "boundingBoxToRasTransform = np.row_stack((np.column_stack((obb_direction_ras_x, obb_direction_ras_y, obb_direction_ras_z, obb_center_ras)), (0, 0, 0, 1)))\n",
    "boundingBoxToRasTransformMatrix = slicer.util.vtkMatrixFromArray(boundingBoxToRasTransform)\n",
    "roi.SetAndObserveObjectToNodeMatrix(boundingBoxToRasTransformMatrix)"
   ]
  },
  {
   "cell_type": "code",
   "execution_count": 57,
   "id": "448b8968-b7ab-44d4-a2e9-7d26fc6242b2",
   "metadata": {},
   "outputs": [],
   "source": [
    "## function to retrieve segments of volume using ROI \n",
    "# import vtk\n",
    "# def createVolumeFromRoi(exportRoi, spacingMm, fillValue=0, numberOfComponents=1):\n",
    "#     import math\n",
    "#     roiDiameter = exportRoi.GetSize()\n",
    "#     roiOrigin_Roi = [-roiDiameter[0]/2, -roiDiameter[1]/2, -roiDiameter[2]/2, 1]\n",
    "#     roiToRas = exportRoi.GetObjectToWorldMatrix()\n",
    "#     exportVolumeSize = [int(math.ceil(diameterComponent/spacingMm)) for diameterComponent in roiDiameter]\n",
    "#     # Create image data\n",
    "#     exportImageData = vtk.vtkImageData()\n",
    "#     exportImageData.SetExtent(0, exportVolumeSize[0]-1, 0, exportVolumeSize[1]-1, 0, exportVolumeSize[2]-1)\n",
    "#     exportImageData.AllocateScalars(vtk.VTK_DOUBLE, numberOfComponents)\n",
    "#     exportImageData.GetPointData().GetScalars().Fill(fillValue)\n",
    "#     # Create volume node\n",
    "#     exportVolume = slicer.mrmlScene.AddNewNodeByClass(\"vtkMRMLScalarVolumeNode\" if numberOfComponents==1 else \"vtkMRMLVectorVolumeNode\")\n",
    "#     exportVolume.SetAndObserveImageData(exportImageData)\n",
    "#     exportVolume.SetIJKToRASDirections(roiToRas.GetElement(0,0), roiToRas.GetElement(0,1), roiToRas.GetElement(0,2), roiToRas.GetElement(1,0), roiToRas.GetElement(1,1), roiToRas.GetElement(1,2), roiToRas.GetElement(2,0), roiToRas.GetElement(2,1), roiToRas.GetElement(2,2))\n",
    "#     exportVolume.SetSpacing(spacingMm, spacingMm, spacingMm)\n",
    "#     roiOrigin_Ras = roiToRas.MultiplyPoint(roiOrigin_Roi)\n",
    "#     exportVolume.SetOrigin(roiOrigin_Ras[0:3])\n",
    "#     return exportVolume"
   ]
  },
  {
   "cell_type": "code",
   "execution_count": 58,
   "id": "3de4584f-d483-4109-8a7c-95f1381c0229",
   "metadata": {},
   "outputs": [],
   "source": [
    "# cropVolumeParameters = slicer.mrmlScene.AddNewNodeByClass(\"vtkMRMLCropVolumeParametersNode\")\n",
    "# cropVolumeParameters.SetInputVolumeNodeID(referenceVolumeNode.GetID())\n",
    "# cropVolumeParameters.SetROINodeID(roi.GetID())\n",
    "# slicer.modules.cropvolume.logic().SnapROIToVoxelGrid(cropVolumeParameters)  # optional (rotates the ROI to match the volume axis directions)\n",
    "# slicer.modules.cropvolume.logic().FitROIToInputVolume(cropVolumeParameters)\n",
    "# slicer.mrmlScene.RemoveNode(cropVolumeParameters)"
   ]
  },
  {
   "cell_type": "code",
   "execution_count": 61,
   "id": "49c9cbed-b78a-41cd-9976-57ebfa7e8fa8",
   "metadata": {},
   "outputs": [
    {
     "data": {
      "text/plain": [
       "0"
      ]
     },
     "execution_count": 61,
     "metadata": {},
     "output_type": "execute_result"
    }
   ],
   "source": [
    "##easier and more reliable cropping method \n",
    "cropped_volume_node = slicer.mrmlScene.AddNewNodeByClass(\"vtkMRMLScalarVolumeNode\")\n",
    "cropped_volume_node.CreateDefaultDisplayNodes()\n",
    "\n",
    "cropped_lablemap_node = slicer.mrmlScene.AddNewNodeByClass(\"vtkMRMLLabelMapVolumeNode\")\n",
    "cropped_lablemap_node.CreateDefaultDisplayNodes()\n",
    "\n",
    "slicer.modules.cropvolume.logic().CropVoxelBased (roi,referenceVolumeNode,cropped_volume_node ) ##cropping volume \n",
    "slicer.modules.cropvolume.logic().CropVoxelBased (roi,segmentation_lable_map,cropped_lablemap_node ) ##cropping mask"
   ]
  },
  {
   "cell_type": "code",
   "execution_count": 63,
   "id": "db550ac4-2cbb-46f2-9792-773f4a52b483",
   "metadata": {},
   "outputs": [
    {
     "name": "stdout",
     "output_type": "stream",
     "text": [
      "(260, 459, 586)\n",
      "(260, 459, 586)\n"
     ]
    }
   ],
   "source": [
    "dicomData = slicer.util.arrayFromVolume(cropped_volume_node)\n",
    "mask = slicer.util.arrayFromVolume(cropped_lablemap_node)\n",
    "\n",
    "print (mask.shape)\n",
    "print (dicomData.shape)"
   ]
  },
  {
   "cell_type": "code",
   "execution_count": 64,
   "id": "8db1ded1-6ae7-4fd2-b9e6-87df7df928ea",
   "metadata": {},
   "outputs": [
    {
     "name": "stdout",
     "output_type": "stream",
     "text": [
      "one case sucessfully converted\n"
     ]
    }
   ],
   "source": [
    "caseID = dicom_series_path.split(\"\\\\\")[-1].split(\"_\")[0]\n",
    "volume_save_path = f\"{nii_path_volumes}/{caseID}_input.nii.gz\"\n",
    "seg_save_path =  f\"{nii_path_segmentations}/{caseID}_seg.nii.gz\"\n",
    "\n",
    "slicer.util.exportNode(cropped_volume_node, volume_save_path , {\"useCompression\": 0})\n",
    "slicer.util.exportNode(cropped_lablemap_node, seg_save_path , {\"useCompression\": 0})\n",
    "\n",
    "print (\"one case sucessfully converted\")"
   ]
  },
  {
   "cell_type": "code",
   "execution_count": null,
   "id": "4e648535-6b4b-4d6f-b650-764218d0f315",
   "metadata": {},
   "outputs": [],
   "source": []
  },
  {
   "cell_type": "code",
   "execution_count": null,
   "id": "3eb64385-81ce-418d-a2cb-975a9e0327fa",
   "metadata": {},
   "outputs": [],
   "source": []
  }
 ],
 "metadata": {
  "kernelspec": {
   "display_name": "Slicer 5.6",
   "language": "python",
   "name": "slicer-5.6"
  },
  "language_info": {
   "file_extension": ".py",
   "mimetype": "text/x-python",
   "name": "python",
   "version": "3.9.10"
  }
 },
 "nbformat": 4,
 "nbformat_minor": 5
}
