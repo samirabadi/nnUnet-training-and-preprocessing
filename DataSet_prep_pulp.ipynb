{
 "cells": [
  {
   "cell_type": "code",
   "execution_count": 1,
   "id": "9987388c-a8d9-4704-b963-8339129cf801",
   "metadata": {},
   "outputs": [],
   "source": [
    "import JupyterNotebooksLib as slicernb\n",
    "import slicer\n",
    "import os \n",
    "from DICOMLib import DICOMUtils\n",
    "import numpy as np\n",
    "import zipfile\n",
    "\n",
    "from glob import glob\n",
    "from natsort import natsorted\n",
    "from tqdm import tqdm\n",
    "\n",
    "# Set image viewer size to 50% screen size\n",
    "# slicernb.AppWindow.setWindowSize(scale=0.5)\n",
    "# slicernb.AppWindow.setContents(\"viewers\")\n",
    "\n",
    "# Clear scene\n",
    "slicer.mrmlScene.Clear(False)"
   ]
  },
  {
   "cell_type": "markdown",
   "id": "b40206a5-80d4-4964-97eb-5ed2bfa81407",
   "metadata": {},
   "source": [
    "# Unzip and organize files "
   ]
  },
  {
   "cell_type": "code",
   "execution_count": 2,
   "id": "6c786768-bcab-4ae5-af6b-2cc0087449a8",
   "metadata": {},
   "outputs": [],
   "source": [
    "#input folder \n",
    "input_folder = \"C:\\\\Users\\\\Sepehr\\\\3dsegmentationProjects\\\\nn-unet-organize-dataset-for-training\\\\Segmentation database\"\n",
    "intermediary_folder = \"./temp_unzip\"\n",
    "\n",
    "if  not os.path.exists(intermediary_folder):\n",
    "    os.mkdir(intermediary_folder)"
   ]
  },
  {
   "cell_type": "code",
   "execution_count": 3,
   "id": "c706e0ab-c6a7-4c20-a9cc-ce71b6f99c31",
   "metadata": {},
   "outputs": [],
   "source": [
    "# for zip_file in os.listdir(input_folder):\n",
    "#     if \"(\" in zip_file or \")\" in zip_file:\n",
    "#         continue;\n",
    "#     zip_path = f\"{input_folder}/{zip_file}\"\n",
    "#     Case_id = zip_file.split(\"_\")[0]\n",
    "\n",
    "#     if \"_segmented_structures\" in zip_file: \n",
    "#         out_path = f\"{intermediary_folder}/{Case_id}_segmentations\"\n",
    "#     else:\n",
    "#         out_path = f\"{intermediary_folder}/{Case_id}_volumes\"\n",
    "        \n",
    "#     with zipfile.ZipFile(zip_path, 'r') as zip_ref:\n",
    "#                     zip_ref.extractall(out_path)"
   ]
  },
  {
   "cell_type": "markdown",
   "id": "fbf8913f-d980-429b-8a23-829200bcc547",
   "metadata": {},
   "source": [
    "# organize file names throw out unuasable cases "
   ]
  },
  {
   "cell_type": "code",
   "execution_count": 4,
   "id": "7d4fa809-bf6c-4bf8-ac05-3b56198ddd2e",
   "metadata": {},
   "outputs": [
    {
     "name": "stdout",
     "output_type": "stream",
     "text": [
      "cannot find matching segmentation case will be skipped\n",
      "cannot find matching segmentation case will be skipped\n"
     ]
    }
   ],
   "source": [
    "input_cases = [] \n",
    "\n",
    "\n",
    "volumes_paths = list(natsorted(glob(os.path.join(intermediary_folder,  \"*\"+ f\"_volumes\"))))\n",
    "\n",
    "for vol in volumes_paths: \n",
    "\n",
    "    seg_path = vol.replace (\"_volumes\",\"_segmentations\")\n",
    "\n",
    "    if (os.path.exists(seg_path)):\n",
    "        joined_string = '\\t'.join(os.listdir(seg_path))\n",
    "\n",
    "        if \"pulp\" in joined_string:\n",
    "            input_cases.append ({\"vol\":vol,\"seg\":seg_path})\n",
    "        else:\n",
    "            print (\"this case has no pulp and will be skipped\")\n",
    "    else:\n",
    "        print (\"cannot find matching segmentation case will be skipped\")\n",
    "\n"
   ]
  },
  {
   "cell_type": "code",
   "execution_count": 5,
   "id": "9f67a9d0-ddf1-4041-b0f4-b487b01c6612",
   "metadata": {},
   "outputs": [
    {
     "data": {
      "text/plain": [
       "'304846'"
      ]
     },
     "execution_count": 5,
     "metadata": {},
     "output_type": "execute_result"
    }
   ],
   "source": [
    "input_cases[0][\"vol\"].split(\"\\\\\")[-1].split(\"_\")[0]"
   ]
  },
  {
   "cell_type": "markdown",
   "id": "5acf0bcb-d3a1-4de7-8f10-4b3d2b1f81c5",
   "metadata": {},
   "source": [
    "# using slicer to convert to nii\n",
    "\n",
    "### will need to alter segmentation nodes to reflect changes in classes you are trying to segment"
   ]
  },
  {
   "cell_type": "code",
   "execution_count": 6,
   "id": "09ece8a6-f3bd-4d53-8a78-921dc34cfa95",
   "metadata": {},
   "outputs": [],
   "source": [
    "nii_path = \"./nii_ds_4\"\n",
    "nii_path_volumes = f\"{nii_path}/Volumes\"\n",
    "nii_path_segmentations = f\"{nii_path}/Masks\"\n",
    "\n",
    "try:\n",
    "    os.mkdir(nii_path)\n",
    "    os.mkdir(nii_path_volumes)\n",
    "    os.mkdir(nii_path_segmentations)\n",
    "except:\n",
    "    print (\"these directories already exist\")"
   ]
  },
  {
   "cell_type": "code",
   "execution_count": 38,
   "id": "f859f038-f7c1-44e9-90f9-59d196e6f73c",
   "metadata": {},
   "outputs": [],
   "source": [
    "def get_model_class_from_file (file): \n",
    "    if \"tooth\" in file: \n",
    "        #print (file.split(\"tooth_\")[1].split(\"_\")[0])\n",
    "\n",
    "        if (\".stl\" in file):\n",
    "            return \"tooth_\" + file.split(\"tooth_\")[1].split(\"_\")[0]\n",
    "        else:\n",
    "\n",
    "            if (\"pulp\" in file):\n",
    "                return \"tooth_\" + file.split(\"tooth-\")[1].split(\"-\")[0].split(\"_\")[0]+ \"_pulp\"\n",
    "            else:\n",
    "                return \"tooth_\" + file.split(\"tooth-\")[1].split(\"-\")[0].split(\"_\")[0]\n",
    "\n",
    "    else: \n",
    "        # CaseId = file.split(\"_\") [-1].split(\".)\n",
    "        # #print (file.split(f\"{CaseId}_\")[-1].split(\"_\")[0])\n",
    "        if (\".stl\" in file):\n",
    "            return file.split(\"_\") [-1].split(\".\")[0]\n",
    "        else:\n",
    "            return file.split(\"-\") [-1].split(\"_\")[0]"
   ]
  },
  {
   "cell_type": "code",
   "execution_count": 39,
   "id": "92002c8d-22ff-4871-951d-33edd9f05852",
   "metadata": {},
   "outputs": [
    {
     "data": {
      "text/plain": [
       "'tooth_15_pulp'"
      ]
     },
     "execution_count": 39,
     "metadata": {},
     "output_type": "execute_result"
    }
   ],
   "source": [
    "get_model_class_from_file (\"576316P524529_1837315154-cbct-tooth-15-pulp-_decimated\")\n",
    "#\"304846_canal.stl\".split(\"_\")"
   ]
  },
  {
   "cell_type": "code",
   "execution_count": 40,
   "id": "aa4abd38-4f01-4a64-ae22-2e04fc2e12c7",
   "metadata": {},
   "outputs": [
    {
     "data": {
      "text/plain": [
       "'11'"
      ]
     },
     "execution_count": 40,
     "metadata": {},
     "output_type": "execute_result"
    }
   ],
   "source": [
    "\"tooth_11\".strip(\"tooth_\")"
   ]
  },
  {
   "cell_type": "code",
   "execution_count": 20,
   "id": "e1da7c97-52ff-4557-b1fc-fe2d3cdf6602",
   "metadata": {},
   "outputs": [],
   "source": [
    "lable_map = {\n",
    "    \"background\":0,\n",
    "    \"pulp\":1,\n",
    "}"
   ]
  },
  {
   "cell_type": "code",
   "execution_count": 21,
   "id": "2b7874e6-4db8-4e46-87e9-fac21d7237c2",
   "metadata": {},
   "outputs": [],
   "source": [
    "def convert_to_nnunet_lable_tooth (segmentationNodes,referenceVolumeNode):\n",
    "\n",
    "    all_segment_np = [] \n",
    "    for lable, node in segmentationNodes.items():\n",
    "        name = node.GetName()\n",
    "    \n",
    "        segmentationLblmap  = slicer.mrmlScene.AddNewNodeByClass(\"vtkMRMLLabelMapVolumeNode\")\n",
    "        segmentationLblmap.SetName(name+\"_lablemap\")\n",
    "        slicer.modules.segmentations.logic().ExportVisibleSegmentsToLabelmapNode(node, segmentationLblmap, referenceVolumeNode)\n",
    "        mask = slicer.util.arrayFromVolume(segmentationLblmap)\n",
    "        mask[mask > 0] = lable_map[lable]\n",
    "    \n",
    "        all_segment_np.append(mask.copy())\n",
    "\n",
    "\n",
    "\n",
    "    final_out = all_segment_np[0] \n",
    "    for i in range (1,len(all_segment_np)):\n",
    "        indices  = np.where (final_out <1)\n",
    "        final_out [indices] = all_segment_np[i][indices]\n",
    "\n",
    "    segmentationLblmap  = slicer.mrmlScene.AddNewNodeByClass(\"vtkMRMLLabelMapVolumeNode\")\n",
    "    slicer.modules.segmentations.logic().ExportVisibleSegmentsToLabelmapNode(next(iter(segmentationNodes.values())), segmentationLblmap, referenceVolumeNode)\n",
    "    \n",
    "    slicer.util.updateVolumeFromArray(segmentationLblmap, final_out)\n",
    "\n",
    "    return segmentationLblmap\n",
    "\n",
    "    "
   ]
  },
  {
   "cell_type": "code",
   "execution_count": 22,
   "id": "50d9ca4e-306b-4287-bf3b-d968cfc4624e",
   "metadata": {},
   "outputs": [],
   "source": [
    "def convert_to_nnunet_lable_macro_structure (macroNode,referenceVolumeNode):\n",
    "\n",
    "\n",
    "    name = macroNode.GetName()\n",
    "    segmentationLblmap  = slicer.mrmlScene.AddNewNodeByClass(\"vtkMRMLLabelMapVolumeNode\")\n",
    "    segmentationLblmap.SetName(name+\"_lablemap\")\n",
    "    slicer.modules.segmentations.logic().ExportVisibleSegmentsToLabelmapNode(macroNode, segmentationLblmap, referenceVolumeNode)\n",
    "    mask = slicer.util.arrayFromVolume(segmentationLblmap)\n",
    "    mask[mask > 0] = 1\n",
    "\n",
    "    # labelmapVolumeNode = slicer.mrmlScene.AddNewNodeByClass('vtkMRMLLabelMapVolumeNode')\n",
    "    #slicer.modules.segmentations.logic().ExportVisibleSegmentsToLabelmapNode(macroNode, segmentationLblmap, referenceVolumeNode)\n",
    "    slicer.util.updateVolumeFromArray(segmentationLblmap, mask)\n",
    "    \n",
    "\n",
    "    return segmentationLblmap\n"
   ]
  },
  {
   "cell_type": "code",
   "execution_count": 23,
   "id": "51959f8e-25bd-4ac2-b6c3-5625b84a10cc",
   "metadata": {},
   "outputs": [],
   "source": [
    "def crop_vol_and_mask_to_ROI (input_volume_map,referenceVolumeNode,segmentation_lable_map):\n",
    "\n",
    "    #creating segmentation node to compute ROI \n",
    "    temp_segmentationNode = slicer.mrmlScene.AddNewNodeByClass(\"vtkMRMLSegmentationNode\")\n",
    "    temp_segmentationNode.CreateDefaultDisplayNodes()\n",
    "    \n",
    "    slicer.modules.segmentations.logic().ImportLabelmapToSegmentationNode (input_volume_map,temp_segmentationNode)\n",
    "    \n",
    "    \n",
    "    \n",
    "    ## obtaining bounding box coordinates from segment node\n",
    "    import SegmentStatistics\n",
    "    segStatLogic = SegmentStatistics.SegmentStatisticsLogic()\n",
    "    segStatLogic.getParameterNode().SetParameter(\"Segmentation\", temp_segmentationNode.GetID())\n",
    "    segStatLogic.getParameterNode().SetParameter(\"LabelmapSegmentStatisticsPlugin.obb_origin_ras.enabled\",str(True))\n",
    "    segStatLogic.getParameterNode().SetParameter(\"LabelmapSegmentStatisticsPlugin.obb_diameter_mm.enabled\",str(True))\n",
    "    segStatLogic.getParameterNode().SetParameter(\"LabelmapSegmentStatisticsPlugin.obb_direction_ras_x.enabled\",str(True))\n",
    "    segStatLogic.getParameterNode().SetParameter(\"LabelmapSegmentStatisticsPlugin.obb_direction_ras_y.enabled\",str(True))\n",
    "    segStatLogic.getParameterNode().SetParameter(\"LabelmapSegmentStatisticsPlugin.obb_direction_ras_z.enabled\",str(True))\n",
    "    segStatLogic.computeStatistics()\n",
    "    stats = segStatLogic.getStatistics()\n",
    "\n",
    "\n",
    "    ## creating ROI from bounding box stats\n",
    "\n",
    "    segmentId = stats[\"SegmentIDs\"] [0]\n",
    "    print (segmentId)\n",
    "    # Get bounding box\n",
    "    obb_origin_ras = np.array(stats[segmentId,\"LabelmapSegmentStatisticsPlugin.obb_origin_ras\"])\n",
    "    obb_diameter_mm = np.array(stats[segmentId,\"LabelmapSegmentStatisticsPlugin.obb_diameter_mm\"])\n",
    "    obb_direction_ras_x = np.array(stats[segmentId,\"LabelmapSegmentStatisticsPlugin.obb_direction_ras_x\"])\n",
    "    obb_direction_ras_y = np.array(stats[segmentId,\"LabelmapSegmentStatisticsPlugin.obb_direction_ras_y\"])\n",
    "    obb_direction_ras_z = np.array(stats[segmentId,\"LabelmapSegmentStatisticsPlugin.obb_direction_ras_z\"])\n",
    "    \n",
    "    # Create ROI\n",
    "    segment = temp_segmentationNode.GetSegmentation().GetSegment(segmentId)\n",
    "    roi=slicer.mrmlScene.AddNewNodeByClass(\"vtkMRMLMarkupsROINode\")\n",
    "    roi.SetName(segment.GetName() + \" OBB\")\n",
    "    roi.GetDisplayNode().SetHandlesInteractive(False)  # do not let the user resize the box\n",
    "    roi.SetSize(obb_diameter_mm)\n",
    "    \n",
    "    \n",
    "    # Position and orient ROI using a transform\n",
    "    obb_center_ras = obb_origin_ras+0.5*(obb_diameter_mm[0] * obb_direction_ras_x + obb_diameter_mm[1] * obb_direction_ras_y + obb_diameter_mm[2] * obb_direction_ras_z)\n",
    "    boundingBoxToRasTransform = np.row_stack((np.column_stack((obb_direction_ras_x, obb_direction_ras_y, obb_direction_ras_z, obb_center_ras)), (0, 0, 0, 1)))\n",
    "    boundingBoxToRasTransformMatrix = slicer.util.vtkMatrixFromArray(boundingBoxToRasTransform)\n",
    "    roi.SetAndObserveObjectToNodeMatrix(boundingBoxToRasTransformMatrix)\n",
    "\n",
    "\n",
    "    ##easier and more reliable cropping method \n",
    "    cropped_volume_node = slicer.mrmlScene.AddNewNodeByClass(\"vtkMRMLScalarVolumeNode\")\n",
    "    cropped_volume_node.CreateDefaultDisplayNodes()\n",
    "    \n",
    "    cropped_lablemap_node = slicer.mrmlScene.AddNewNodeByClass(\"vtkMRMLLabelMapVolumeNode\")\n",
    "    cropped_lablemap_node.CreateDefaultDisplayNodes()\n",
    "    \n",
    "    slicer.modules.cropvolume.logic().CropVoxelBased (roi,referenceVolumeNode,cropped_volume_node ) ##cropping volume \n",
    "    slicer.modules.cropvolume.logic().CropVoxelBased (roi,segmentation_lable_map,cropped_lablemap_node ) ##cropping mask\n",
    "\n",
    "\n",
    "    return cropped_volume_node,cropped_lablemap_node\n",
    "\n",
    "\n",
    "    "
   ]
  },
  {
   "cell_type": "code",
   "execution_count": null,
   "id": "989ca407-b685-444a-a0b1-76758bf68b5c",
   "metadata": {},
   "outputs": [],
   "source": []
  },
  {
   "cell_type": "code",
   "execution_count": null,
   "id": "6c7ea912-b596-4764-ab10-55d29e78610e",
   "metadata": {},
   "outputs": [],
   "source": []
  },
  {
   "cell_type": "code",
   "execution_count": 41,
   "id": "c9c8fd93-f235-4aac-b699-dcbe2d1ae5f3",
   "metadata": {},
   "outputs": [],
   "source": [
    "all_teeth_lables = [\"11\",\"12\",\"13\",\"14\",\"15\",\"16\",\"17\",\"18\",\"21\",\"22\",\"23\",\"24\",\"25\",\"26\",\"27\",\"28\",\"31\",\"32\",\"33\",\"34\",\"35\",\"36\",\"37\",\"38\",\"41\",\"42\",\"43\",\"44\",\"45\",\"46\",\"47\",\"48\"]\n",
    "\n",
    "def convert_single_case_to_nii (dicom_series_path,segmentation_path):\n",
    "\n",
    "    '''\n",
    "    simply loading dicoms into a fresh scene \n",
    "    '''\n",
    "    \n",
    "    \n",
    "    # # Clear scene\n",
    "    slicer.mrmlScene.Clear(False)\n",
    "\n",
    "    print(dicom_series_path)\n",
    "    print(segmentation_path)\n",
    "    \n",
    "    ##load dicom \n",
    "    loadedNodeIDs = []\n",
    "    with DICOMUtils.TemporaryDICOMDatabase() as db:\n",
    "        DICOMUtils.importDicom(os.path.abspath(dicom_series_path), db)\n",
    "        patientUIDs = db.patients()\n",
    "    \n",
    "        print (patientUIDs)\n",
    "        for patientUID in patientUIDs:\n",
    "            loadedNodeIDs.extend(DICOMUtils.loadPatientByUID(patientUID))\n",
    "\n",
    "\n",
    "\n",
    "    '''\n",
    "    loading the segmentations into appropriate substructuresz \n",
    "    \n",
    "    '''\n",
    "\n",
    "    allTeethNodes =  {}\n",
    "    \n",
    "    ## creating segmentation nodes\n",
    "    segmentationNodes = {} \n",
    "\n",
    "\n",
    "    ## importing stls \n",
    "    nodes = []\n",
    "    node_names = []\n",
    "    for seg in os.listdir(segmentation_path):\n",
    "        # print (get_model_class_from_file(seg))\n",
    "        if ((\".stl\" in seg or \".obj\" in seg)):\n",
    "            mesh_path = f\"{segmentation_path}/{seg}\"\n",
    "            class_name = get_model_class_from_file(seg)\n",
    "\n",
    "            if class_name.strip(\"tooth_\") in all_teeth_lables  and \"pulp\" not in seg :\n",
    "                segmentationNode = slicer.mrmlScene.AddNewNodeByClass(\"vtkMRMLSegmentationNode\")\n",
    "                segmentationNode.CreateDefaultDisplayNodes()\n",
    "                allTeethNodes [class_name] = segmentationNode\n",
    "                \n",
    "                slicer.modules.segmentations.logic().ImportModelToSegmentationNode(slicer.util.loadModel(mesh_path), segmentationNode)\n",
    "\n",
    "\n",
    "            if class_name.strip(\"tooth_\").strip(\"_pulp\") in all_teeth_lables  and \"pulp\" in seg :\n",
    "                print(class_name)\n",
    "                segmentationNode = slicer.mrmlScene.AddNewNodeByClass(\"vtkMRMLSegmentationNode\")\n",
    "                segmentationNode.CreateDefaultDisplayNodes()\n",
    "                segmentationNodes [class_name] = segmentationNode\n",
    "                \n",
    "                slicer.modules.segmentations.logic().ImportModelToSegmentationNode(slicer.util.loadModel(mesh_path), segmentationNode)\n",
    "\n",
    "    if (len(segmentationNodes) <1):   \n",
    "        print (\"too few of desired class in this case. this case will be skipped\")\n",
    "        return;\n",
    "\n",
    "\n",
    "    for key, value in allTeethNodes.items():\n",
    "\n",
    "        if (key+ \"_pulp\") in segmentationNodes:\n",
    "            pulpNode = segmentationNodes [key+ \"_pulp\"]\n",
    "            referenceVolumeNode = slicer.mrmlScene.GetNodeByID(\"vtkMRMLScalarVolumeNode1\")\n",
    "\n",
    "            ## cropping individual teeth and using the pulp as the mask \n",
    "            segmentation_lable_map = convert_to_nnunet_lable_macro_structure(pulpNode,referenceVolumeNode)\n",
    "            input_volume_map = convert_to_nnunet_lable_macro_structure(value,referenceVolumeNode)\n",
    "        \n",
    "            cropped_input_volume_map, cropped_segmentation_lable_map= crop_vol_and_mask_to_ROI (input_volume_map,referenceVolumeNode,segmentation_lable_map)\n",
    "        \n",
    "            caseID = dicom_series_path.split(\"\\\\\")[-1].split(\"_\")[0]\n",
    "            volume_save_path = f\"{nii_path_volumes}/{caseID}_{key}_input.nii.gz\"\n",
    "            seg_save_path =  f\"{nii_path_segmentations}/{caseID}_{key}_seg.nii.gz\"\n",
    "        \n",
    "            slicer.util.exportNode(cropped_input_volume_map, volume_save_path , {\"useCompression\": 0})\n",
    "            slicer.util.exportNode(cropped_segmentation_lable_map, seg_save_path , {\"useCompression\": 0})\n",
    "\n",
    "    print (\"one case sucessfully converted\")\n",
    "     \n",
    "\n",
    "\n",
    "        "
   ]
  },
  {
   "cell_type": "code",
   "execution_count": 45,
   "id": "7e4afd5c-a0cf-41b2-98e8-f497f8a7e4ef",
   "metadata": {},
   "outputs": [],
   "source": [
    "def batch_nii_convert (in_case_files):\n",
    "\n",
    "    for case in tqdm(in_case_files):\n",
    "        try:\n",
    "            convert_single_case_to_nii (case[\"vol\"],case[\"seg\"])\n",
    "        except:\n",
    "            print (f\"somthing is wrong with case {case} probably a missing segmentation\")\n",
    "    print (\"done converting all cases to nii\")\n",
    "    "
   ]
  },
  {
   "cell_type": "code",
   "execution_count": 46,
   "id": "78215f33-47f9-4dab-aa75-45268bbb3771",
   "metadata": {},
   "outputs": [
    {
     "name": "stderr",
     "output_type": "stream",
     "text": [
      "  0%|          | 0/238 [00:00<?, ?it/s]"
     ]
    },
    {
     "name": "stdout",
     "output_type": "stream",
     "text": [
      "./temp_unzip\\304846_volumes\n",
      "./temp_unzip\\304846_segmentations\n",
      "('1',)\n",
      "too few of desired class in this case. this case will be skipped\n"
     ]
    },
    {
     "name": "stderr",
     "output_type": "stream",
     "text": [
      "  0%|          | 1/238 [00:12<49:03, 12.42s/it]"
     ]
    },
    {
     "name": "stdout",
     "output_type": "stream",
     "text": [
      "./temp_unzip\\315920_volumes\n",
      "./temp_unzip\\315920_segmentations\n",
      "('1',)\n",
      "too few of desired class in this case. this case will be skipped\n"
     ]
    },
    {
     "name": "stderr",
     "output_type": "stream",
     "text": [
      "  1%|          | 2/238 [00:23<44:53, 11.41s/it]"
     ]
    },
    {
     "name": "stdout",
     "output_type": "stream",
     "text": [
      "./temp_unzip\\317681_volumes\n",
      "./temp_unzip\\317681_segmentations\n",
      "('1',)\n",
      "too few of desired class in this case. this case will be skipped\n"
     ]
    },
    {
     "name": "stderr",
     "output_type": "stream",
     "text": [
      "  1%|1         | 3/238 [00:34<43:57, 11.22s/it]"
     ]
    },
    {
     "name": "stdout",
     "output_type": "stream",
     "text": [
      "./temp_unzip\\318908_volumes\n",
      "./temp_unzip\\318908_segmentations\n",
      "('1',)\n",
      "too few of desired class in this case. this case will be skipped\n"
     ]
    },
    {
     "name": "stderr",
     "output_type": "stream",
     "text": [
      "  2%|1         | 4/238 [00:43<40:56, 10.50s/it]"
     ]
    },
    {
     "name": "stdout",
     "output_type": "stream",
     "text": [
      "./temp_unzip\\321497_volumes\n",
      "./temp_unzip\\321497_segmentations\n",
      "('1',)\n",
      "too few of desired class in this case. this case will be skipped\n"
     ]
    },
    {
     "name": "stderr",
     "output_type": "stream",
     "text": [
      "  2%|2         | 5/238 [00:54<41:52, 10.79s/it]"
     ]
    },
    {
     "name": "stdout",
     "output_type": "stream",
     "text": [
      "./temp_unzip\\333654_volumes\n",
      "./temp_unzip\\333654_segmentations\n",
      "('1',)\n",
      "too few of desired class in this case. this case will be skipped\n"
     ]
    },
    {
     "name": "stderr",
     "output_type": "stream",
     "text": [
      "  3%|2         | 6/238 [01:05<41:58, 10.85s/it]"
     ]
    },
    {
     "name": "stdout",
     "output_type": "stream",
     "text": [
      "./temp_unzip\\334691_volumes\n",
      "./temp_unzip\\334691_segmentations\n",
      "('1',)\n",
      "too few of desired class in this case. this case will be skipped\n"
     ]
    },
    {
     "name": "stderr",
     "output_type": "stream",
     "text": [
      "  3%|2         | 7/238 [01:17<42:35, 11.06s/it]"
     ]
    },
    {
     "name": "stdout",
     "output_type": "stream",
     "text": [
      "./temp_unzip\\337186_volumes\n",
      "./temp_unzip\\337186_segmentations\n",
      "('1',)\n",
      "too few of desired class in this case. this case will be skipped\n"
     ]
    },
    {
     "name": "stderr",
     "output_type": "stream",
     "text": [
      "  3%|3         | 8/238 [01:26<40:07, 10.47s/it]"
     ]
    },
    {
     "name": "stdout",
     "output_type": "stream",
     "text": [
      "./temp_unzip\\342104_volumes\n",
      "./temp_unzip\\342104_segmentations\n",
      "('1',)\n",
      "too few of desired class in this case. this case will be skipped\n"
     ]
    },
    {
     "name": "stderr",
     "output_type": "stream",
     "text": [
      "  4%|3         | 9/238 [01:40<43:59, 11.53s/it]"
     ]
    },
    {
     "name": "stdout",
     "output_type": "stream",
     "text": [
      "./temp_unzip\\342835_volumes\n",
      "./temp_unzip\\342835_segmentations\n",
      "('1',)\n",
      "too few of desired class in this case. this case will be skipped\n"
     ]
    },
    {
     "name": "stderr",
     "output_type": "stream",
     "text": [
      "  4%|4         | 10/238 [01:50<42:32, 11.19s/it]"
     ]
    },
    {
     "name": "stdout",
     "output_type": "stream",
     "text": [
      "./temp_unzip\\343403_volumes\n",
      "./temp_unzip\\343403_segmentations\n",
      "('1',)\n",
      "too few of desired class in this case. this case will be skipped\n"
     ]
    },
    {
     "name": "stderr",
     "output_type": "stream",
     "text": [
      "  5%|4         | 11/238 [02:00<40:17, 10.65s/it]"
     ]
    },
    {
     "name": "stdout",
     "output_type": "stream",
     "text": [
      "./temp_unzip\\343418_volumes\n",
      "./temp_unzip\\343418_segmentations\n",
      "('1',)\n",
      "too few of desired class in this case. this case will be skipped\n"
     ]
    },
    {
     "name": "stderr",
     "output_type": "stream",
     "text": [
      "  5%|5         | 12/238 [02:08<37:06,  9.85s/it]"
     ]
    },
    {
     "name": "stdout",
     "output_type": "stream",
     "text": [
      "./temp_unzip\\344607_volumes\n",
      "./temp_unzip\\344607_segmentations\n",
      "('1',)\n",
      "too few of desired class in this case. this case will be skipped\n"
     ]
    },
    {
     "name": "stderr",
     "output_type": "stream",
     "text": [
      "  5%|5         | 13/238 [02:18<37:24,  9.98s/it]"
     ]
    },
    {
     "name": "stdout",
     "output_type": "stream",
     "text": [
      "./temp_unzip\\344681_volumes\n",
      "./temp_unzip\\344681_segmentations\n",
      "('1',)\n",
      "too few of desired class in this case. this case will be skipped\n"
     ]
    },
    {
     "name": "stderr",
     "output_type": "stream",
     "text": [
      "  6%|5         | 14/238 [02:31<40:57, 10.97s/it]"
     ]
    },
    {
     "name": "stdout",
     "output_type": "stream",
     "text": [
      "./temp_unzip\\344711_volumes\n",
      "./temp_unzip\\344711_segmentations\n",
      "('1',)\n",
      "too few of desired class in this case. this case will be skipped\n"
     ]
    },
    {
     "name": "stderr",
     "output_type": "stream",
     "text": [
      "  6%|6         | 15/238 [02:37<35:14,  9.48s/it]"
     ]
    },
    {
     "name": "stdout",
     "output_type": "stream",
     "text": [
      "./temp_unzip\\345532_volumes\n",
      "./temp_unzip\\345532_segmentations\n",
      "('1',)\n",
      "too few of desired class in this case. this case will be skipped\n"
     ]
    },
    {
     "name": "stderr",
     "output_type": "stream",
     "text": [
      "  7%|6         | 16/238 [02:45<32:51,  8.88s/it]"
     ]
    },
    {
     "name": "stdout",
     "output_type": "stream",
     "text": [
      "./temp_unzip\\346873_volumes\n",
      "./temp_unzip\\346873_segmentations\n",
      "('1',)\n",
      "too few of desired class in this case. this case will be skipped\n"
     ]
    },
    {
     "name": "stderr",
     "output_type": "stream",
     "text": [
      "  7%|7         | 17/238 [02:56<35:21,  9.60s/it]"
     ]
    },
    {
     "name": "stdout",
     "output_type": "stream",
     "text": [
      "./temp_unzip\\347033_volumes\n",
      "./temp_unzip\\347033_segmentations\n",
      "('1',)\n",
      "too few of desired class in this case. this case will be skipped\n"
     ]
    },
    {
     "name": "stderr",
     "output_type": "stream",
     "text": [
      "  8%|7         | 18/238 [03:10<40:02, 10.92s/it]"
     ]
    },
    {
     "name": "stdout",
     "output_type": "stream",
     "text": [
      "./temp_unzip\\347103_volumes\n",
      "./temp_unzip\\347103_segmentations\n",
      "('1',)\n",
      "too few of desired class in this case. this case will be skipped\n"
     ]
    },
    {
     "name": "stderr",
     "output_type": "stream",
     "text": [
      "  8%|7         | 19/238 [03:19<37:41, 10.33s/it]"
     ]
    },
    {
     "name": "stdout",
     "output_type": "stream",
     "text": [
      "./temp_unzip\\347286_volumes\n",
      "./temp_unzip\\347286_segmentations\n",
      "('1',)\n",
      "too few of desired class in this case. this case will be skipped\n"
     ]
    },
    {
     "name": "stderr",
     "output_type": "stream",
     "text": [
      "  8%|8         | 20/238 [03:27<35:05,  9.66s/it]"
     ]
    },
    {
     "name": "stdout",
     "output_type": "stream",
     "text": [
      "./temp_unzip\\349004_volumes\n",
      "./temp_unzip\\349004_segmentations\n",
      "('1',)\n",
      "too few of desired class in this case. this case will be skipped\n"
     ]
    },
    {
     "name": "stderr",
     "output_type": "stream",
     "text": [
      "  9%|8         | 21/238 [03:36<34:27,  9.53s/it]"
     ]
    },
    {
     "name": "stdout",
     "output_type": "stream",
     "text": [
      "./temp_unzip\\349272_volumes\n",
      "./temp_unzip\\349272_segmentations\n",
      "('1',)\n",
      "too few of desired class in this case. this case will be skipped\n"
     ]
    },
    {
     "name": "stderr",
     "output_type": "stream",
     "text": [
      "  9%|9         | 22/238 [03:45<33:10,  9.21s/it]"
     ]
    },
    {
     "name": "stdout",
     "output_type": "stream",
     "text": [
      "./temp_unzip\\349397_volumes\n",
      "./temp_unzip\\349397_segmentations\n",
      "('1',)\n",
      "too few of desired class in this case. this case will be skipped\n"
     ]
    },
    {
     "name": "stderr",
     "output_type": "stream",
     "text": [
      " 10%|9         | 23/238 [03:54<33:01,  9.22s/it]"
     ]
    },
    {
     "name": "stdout",
     "output_type": "stream",
     "text": [
      "./temp_unzip\\349674_volumes\n",
      "./temp_unzip\\349674_segmentations\n",
      "('1',)\n",
      "too few of desired class in this case. this case will be skipped\n"
     ]
    },
    {
     "name": "stderr",
     "output_type": "stream",
     "text": [
      " 10%|#         | 24/238 [04:03<33:04,  9.27s/it]"
     ]
    },
    {
     "name": "stdout",
     "output_type": "stream",
     "text": [
      "./temp_unzip\\350189_volumes\n",
      "./temp_unzip\\350189_segmentations\n",
      "('1',)\n",
      "too few of desired class in this case. this case will be skipped\n"
     ]
    },
    {
     "name": "stderr",
     "output_type": "stream",
     "text": [
      " 11%|#         | 25/238 [04:14<34:47,  9.80s/it]"
     ]
    },
    {
     "name": "stdout",
     "output_type": "stream",
     "text": [
      "./temp_unzip\\350448_volumes\n",
      "./temp_unzip\\350448_segmentations\n",
      "('1',)\n",
      "too few of desired class in this case. this case will be skipped\n"
     ]
    },
    {
     "name": "stderr",
     "output_type": "stream",
     "text": [
      " 11%|#         | 26/238 [04:24<34:28,  9.76s/it]"
     ]
    },
    {
     "name": "stdout",
     "output_type": "stream",
     "text": [
      "./temp_unzip\\352194_volumes\n",
      "./temp_unzip\\352194_segmentations\n",
      "('1',)\n",
      "too few of desired class in this case. this case will be skipped\n"
     ]
    },
    {
     "name": "stderr",
     "output_type": "stream",
     "text": [
      " 11%|#1        | 27/238 [04:33<33:38,  9.56s/it]"
     ]
    },
    {
     "name": "stdout",
     "output_type": "stream",
     "text": [
      "./temp_unzip\\352427_volumes\n",
      "./temp_unzip\\352427_segmentations\n",
      "('1',)\n",
      "too few of desired class in this case. this case will be skipped\n"
     ]
    },
    {
     "name": "stderr",
     "output_type": "stream",
     "text": [
      " 12%|#1        | 28/238 [04:44<35:05, 10.03s/it]"
     ]
    },
    {
     "name": "stdout",
     "output_type": "stream",
     "text": [
      "./temp_unzip\\353514_volumes\n",
      "./temp_unzip\\353514_segmentations\n",
      "('1',)\n",
      "too few of desired class in this case. this case will be skipped\n"
     ]
    },
    {
     "name": "stderr",
     "output_type": "stream",
     "text": [
      " 12%|#2        | 29/238 [04:53<33:23,  9.59s/it]"
     ]
    },
    {
     "name": "stdout",
     "output_type": "stream",
     "text": [
      "./temp_unzip\\354238_volumes\n",
      "./temp_unzip\\354238_segmentations\n",
      "('1',)\n",
      "too few of desired class in this case. this case will be skipped\n"
     ]
    },
    {
     "name": "stderr",
     "output_type": "stream",
     "text": [
      " 13%|#2        | 30/238 [05:07<38:26, 11.09s/it]"
     ]
    },
    {
     "name": "stdout",
     "output_type": "stream",
     "text": [
      "./temp_unzip\\355049_volumes\n",
      "./temp_unzip\\355049_segmentations\n",
      "('1',)\n",
      "too few of desired class in this case. this case will be skipped\n"
     ]
    },
    {
     "name": "stderr",
     "output_type": "stream",
     "text": [
      " 13%|#3        | 31/238 [05:16<35:22, 10.25s/it]"
     ]
    },
    {
     "name": "stdout",
     "output_type": "stream",
     "text": [
      "./temp_unzip\\355487_volumes\n",
      "./temp_unzip\\355487_segmentations\n",
      "('1',)\n",
      "too few of desired class in this case. this case will be skipped\n"
     ]
    },
    {
     "name": "stderr",
     "output_type": "stream",
     "text": [
      " 13%|#3        | 32/238 [05:27<36:20, 10.58s/it]"
     ]
    },
    {
     "name": "stdout",
     "output_type": "stream",
     "text": [
      "./temp_unzip\\355908_volumes\n",
      "./temp_unzip\\355908_segmentations\n",
      "('1',)\n",
      "too few of desired class in this case. this case will be skipped\n"
     ]
    },
    {
     "name": "stderr",
     "output_type": "stream",
     "text": [
      " 14%|#3        | 33/238 [05:39<37:03, 10.85s/it]"
     ]
    },
    {
     "name": "stdout",
     "output_type": "stream",
     "text": [
      "./temp_unzip\\356042_volumes\n",
      "./temp_unzip\\356042_segmentations\n",
      "('1',)\n",
      "too few of desired class in this case. this case will be skipped\n"
     ]
    },
    {
     "name": "stderr",
     "output_type": "stream",
     "text": [
      " 14%|#4        | 34/238 [05:51<38:04, 11.20s/it]"
     ]
    },
    {
     "name": "stdout",
     "output_type": "stream",
     "text": [
      "./temp_unzip\\357786_volumes\n",
      "./temp_unzip\\357786_segmentations\n",
      "('1',)\n",
      "too few of desired class in this case. this case will be skipped\n"
     ]
    },
    {
     "name": "stderr",
     "output_type": "stream",
     "text": [
      " 15%|#4        | 35/238 [06:01<37:05, 10.96s/it]"
     ]
    },
    {
     "name": "stdout",
     "output_type": "stream",
     "text": [
      "./temp_unzip\\362557_volumes\n",
      "./temp_unzip\\362557_segmentations\n",
      "('1',)\n",
      "too few of desired class in this case. this case will be skipped\n"
     ]
    },
    {
     "name": "stderr",
     "output_type": "stream",
     "text": [
      " 15%|#5        | 36/238 [06:15<39:59, 11.88s/it]"
     ]
    },
    {
     "name": "stdout",
     "output_type": "stream",
     "text": [
      "./temp_unzip\\362802_volumes\n",
      "./temp_unzip\\362802_segmentations\n",
      "('1',)\n",
      "too few of desired class in this case. this case will be skipped\n"
     ]
    },
    {
     "name": "stderr",
     "output_type": "stream",
     "text": [
      " 16%|#5        | 37/238 [06:26<39:20, 11.75s/it]"
     ]
    },
    {
     "name": "stdout",
     "output_type": "stream",
     "text": [
      "./temp_unzip\\365074_volumes\n",
      "./temp_unzip\\365074_segmentations\n",
      "('1',)\n",
      "too few of desired class in this case. this case will be skipped\n"
     ]
    },
    {
     "name": "stderr",
     "output_type": "stream",
     "text": [
      " 16%|#5        | 38/238 [06:39<39:40, 11.90s/it]"
     ]
    },
    {
     "name": "stdout",
     "output_type": "stream",
     "text": [
      "./temp_unzip\\367087_volumes\n",
      "./temp_unzip\\367087_segmentations\n",
      "('1',)\n",
      "too few of desired class in this case. this case will be skipped\n"
     ]
    },
    {
     "name": "stderr",
     "output_type": "stream",
     "text": [
      " 16%|#6        | 39/238 [06:50<38:45, 11.69s/it]"
     ]
    },
    {
     "name": "stdout",
     "output_type": "stream",
     "text": [
      "./temp_unzip\\368013_volumes\n",
      "./temp_unzip\\368013_segmentations\n",
      "('1',)\n",
      "too few of desired class in this case. this case will be skipped\n"
     ]
    },
    {
     "name": "stderr",
     "output_type": "stream",
     "text": [
      " 17%|#6        | 40/238 [07:01<38:04, 11.54s/it]"
     ]
    },
    {
     "name": "stdout",
     "output_type": "stream",
     "text": [
      "./temp_unzip\\368395_volumes\n",
      "./temp_unzip\\368395_segmentations\n",
      "('1',)\n",
      "too few of desired class in this case. this case will be skipped\n"
     ]
    },
    {
     "name": "stderr",
     "output_type": "stream",
     "text": [
      " 17%|#7        | 41/238 [07:15<40:40, 12.39s/it]"
     ]
    },
    {
     "name": "stdout",
     "output_type": "stream",
     "text": [
      "./temp_unzip\\368732_volumes\n",
      "./temp_unzip\\368732_segmentations\n",
      "('1',)\n",
      "too few of desired class in this case. this case will be skipped\n"
     ]
    },
    {
     "name": "stderr",
     "output_type": "stream",
     "text": [
      " 18%|#7        | 42/238 [07:27<39:18, 12.03s/it]"
     ]
    },
    {
     "name": "stdout",
     "output_type": "stream",
     "text": [
      "./temp_unzip\\369271_volumes\n",
      "./temp_unzip\\369271_segmentations\n",
      "('1',)\n",
      "too few of desired class in this case. this case will be skipped\n"
     ]
    },
    {
     "name": "stderr",
     "output_type": "stream",
     "text": [
      " 18%|#8        | 43/238 [07:38<38:47, 11.94s/it]"
     ]
    },
    {
     "name": "stdout",
     "output_type": "stream",
     "text": [
      "./temp_unzip\\369473_volumes\n",
      "./temp_unzip\\369473_segmentations\n",
      "('1',)\n",
      "too few of desired class in this case. this case will be skipped\n"
     ]
    },
    {
     "name": "stderr",
     "output_type": "stream",
     "text": [
      " 18%|#8        | 44/238 [07:50<38:26, 11.89s/it]"
     ]
    },
    {
     "name": "stdout",
     "output_type": "stream",
     "text": [
      "./temp_unzip\\369592_volumes\n",
      "./temp_unzip\\369592_segmentations\n",
      "('1',)\n",
      "too few of desired class in this case. this case will be skipped\n"
     ]
    },
    {
     "name": "stderr",
     "output_type": "stream",
     "text": [
      " 19%|#8        | 45/238 [08:01<37:05, 11.53s/it]"
     ]
    },
    {
     "name": "stdout",
     "output_type": "stream",
     "text": [
      "./temp_unzip\\369885_volumes\n",
      "./temp_unzip\\369885_segmentations\n",
      "('1',)\n",
      "too few of desired class in this case. this case will be skipped\n"
     ]
    },
    {
     "name": "stderr",
     "output_type": "stream",
     "text": [
      " 19%|#9        | 46/238 [08:16<40:04, 12.52s/it]"
     ]
    },
    {
     "name": "stdout",
     "output_type": "stream",
     "text": [
      "./temp_unzip\\370299_volumes\n",
      "./temp_unzip\\370299_segmentations\n",
      "('1',)\n",
      "too few of desired class in this case. this case will be skipped\n"
     ]
    },
    {
     "name": "stderr",
     "output_type": "stream",
     "text": [
      " 20%|#9        | 47/238 [08:24<35:37, 11.19s/it]"
     ]
    },
    {
     "name": "stdout",
     "output_type": "stream",
     "text": [
      "./temp_unzip\\370825_volumes\n",
      "./temp_unzip\\370825_segmentations\n",
      "('1',)\n",
      "too few of desired class in this case. this case will be skipped\n"
     ]
    },
    {
     "name": "stderr",
     "output_type": "stream",
     "text": [
      " 20%|##        | 48/238 [08:32<32:26, 10.24s/it]"
     ]
    },
    {
     "name": "stdout",
     "output_type": "stream",
     "text": [
      "./temp_unzip\\370876_volumes\n",
      "./temp_unzip\\370876_segmentations\n",
      "('1',)\n",
      "too few of desired class in this case. this case will be skipped\n"
     ]
    },
    {
     "name": "stderr",
     "output_type": "stream",
     "text": [
      " 21%|##        | 49/238 [08:39<29:11,  9.27s/it]"
     ]
    },
    {
     "name": "stdout",
     "output_type": "stream",
     "text": [
      "./temp_unzip\\371380_volumes\n",
      "./temp_unzip\\371380_segmentations\n",
      "('1',)\n",
      "too few of desired class in this case. this case will be skipped\n"
     ]
    },
    {
     "name": "stderr",
     "output_type": "stream",
     "text": [
      " 21%|##1       | 50/238 [08:48<28:31,  9.10s/it]"
     ]
    },
    {
     "name": "stdout",
     "output_type": "stream",
     "text": [
      "./temp_unzip\\371694_volumes\n",
      "./temp_unzip\\371694_segmentations\n",
      "('1',)\n",
      "too few of desired class in this case. this case will be skipped\n"
     ]
    },
    {
     "name": "stderr",
     "output_type": "stream",
     "text": [
      " 21%|##1       | 51/238 [08:55<26:58,  8.65s/it]"
     ]
    },
    {
     "name": "stdout",
     "output_type": "stream",
     "text": [
      "./temp_unzip\\371741_volumes\n",
      "./temp_unzip\\371741_segmentations\n",
      "('1',)\n",
      "too few of desired class in this case. this case will be skipped\n"
     ]
    },
    {
     "name": "stderr",
     "output_type": "stream",
     "text": [
      " 22%|##1       | 52/238 [09:10<32:12, 10.39s/it]"
     ]
    },
    {
     "name": "stdout",
     "output_type": "stream",
     "text": [
      "./temp_unzip\\371965_volumes\n",
      "./temp_unzip\\371965_segmentations\n",
      "('1',)\n",
      "too few of desired class in this case. this case will be skipped\n"
     ]
    },
    {
     "name": "stderr",
     "output_type": "stream",
     "text": [
      " 22%|##2       | 53/238 [09:25<36:17, 11.77s/it]"
     ]
    },
    {
     "name": "stdout",
     "output_type": "stream",
     "text": [
      "./temp_unzip\\372053_volumes\n",
      "./temp_unzip\\372053_segmentations\n",
      "('1',)\n",
      "too few of desired class in this case. this case will be skipped\n"
     ]
    },
    {
     "name": "stderr",
     "output_type": "stream",
     "text": [
      " 23%|##2       | 54/238 [09:39<38:50, 12.67s/it]"
     ]
    },
    {
     "name": "stdout",
     "output_type": "stream",
     "text": [
      "./temp_unzip\\372279_volumes\n",
      "./temp_unzip\\372279_segmentations\n",
      "('1',)\n",
      "too few of desired class in this case. this case will be skipped\n"
     ]
    },
    {
     "name": "stderr",
     "output_type": "stream",
     "text": [
      " 23%|##3       | 55/238 [09:47<34:10, 11.21s/it]"
     ]
    },
    {
     "name": "stdout",
     "output_type": "stream",
     "text": [
      "./temp_unzip\\372516_volumes\n",
      "./temp_unzip\\372516_segmentations\n",
      "('1',)\n",
      "too few of desired class in this case. this case will be skipped\n"
     ]
    },
    {
     "name": "stderr",
     "output_type": "stream",
     "text": [
      " 24%|##3       | 56/238 [09:53<29:11,  9.62s/it]"
     ]
    },
    {
     "name": "stdout",
     "output_type": "stream",
     "text": [
      "./temp_unzip\\372655_volumes\n",
      "./temp_unzip\\372655_segmentations\n",
      "('1',)\n",
      "too few of desired class in this case. this case will be skipped\n"
     ]
    },
    {
     "name": "stderr",
     "output_type": "stream",
     "text": [
      " 24%|##3       | 57/238 [10:02<28:35,  9.48s/it]"
     ]
    },
    {
     "name": "stdout",
     "output_type": "stream",
     "text": [
      "./temp_unzip\\372710_volumes\n",
      "./temp_unzip\\372710_segmentations\n",
      "('1',)\n",
      "too few of desired class in this case. this case will be skipped\n"
     ]
    },
    {
     "name": "stderr",
     "output_type": "stream",
     "text": [
      " 24%|##4       | 58/238 [10:11<27:22,  9.13s/it]"
     ]
    },
    {
     "name": "stdout",
     "output_type": "stream",
     "text": [
      "./temp_unzip\\372826_volumes\n",
      "./temp_unzip\\372826_segmentations\n",
      "('1',)\n",
      "too few of desired class in this case. this case will be skipped\n"
     ]
    },
    {
     "name": "stderr",
     "output_type": "stream",
     "text": [
      " 25%|##4       | 59/238 [10:22<29:21,  9.84s/it]"
     ]
    },
    {
     "name": "stdout",
     "output_type": "stream",
     "text": [
      "./temp_unzip\\373269_volumes\n",
      "./temp_unzip\\373269_segmentations\n",
      "('1',)\n",
      "too few of desired class in this case. this case will be skipped\n"
     ]
    },
    {
     "name": "stderr",
     "output_type": "stream",
     "text": [
      " 25%|##5       | 60/238 [10:33<30:25, 10.25s/it]"
     ]
    },
    {
     "name": "stdout",
     "output_type": "stream",
     "text": [
      "./temp_unzip\\373493_volumes\n",
      "./temp_unzip\\373493_segmentations\n",
      "('1',)\n",
      "too few of desired class in this case. this case will be skipped\n"
     ]
    },
    {
     "name": "stderr",
     "output_type": "stream",
     "text": [
      " 26%|##5       | 61/238 [10:48<34:34, 11.72s/it]"
     ]
    },
    {
     "name": "stdout",
     "output_type": "stream",
     "text": [
      "./temp_unzip\\375521_volumes\n",
      "./temp_unzip\\375521_segmentations\n",
      "('1',)\n",
      "too few of desired class in this case. this case will be skipped\n"
     ]
    },
    {
     "name": "stderr",
     "output_type": "stream",
     "text": [
      " 26%|##6       | 62/238 [10:55<29:41, 10.12s/it]"
     ]
    },
    {
     "name": "stdout",
     "output_type": "stream",
     "text": [
      "./temp_unzip\\378479_volumes\n",
      "./temp_unzip\\378479_segmentations\n",
      "('1',)\n",
      "too few of desired class in this case. this case will be skipped\n"
     ]
    },
    {
     "name": "stderr",
     "output_type": "stream",
     "text": [
      " 26%|##6       | 63/238 [11:06<30:23, 10.42s/it]"
     ]
    },
    {
     "name": "stdout",
     "output_type": "stream",
     "text": [
      "./temp_unzip\\381586_volumes\n",
      "./temp_unzip\\381586_segmentations\n",
      "('1',)\n",
      "too few of desired class in this case. this case will be skipped\n"
     ]
    },
    {
     "name": "stderr",
     "output_type": "stream",
     "text": [
      " 27%|##6       | 64/238 [11:17<31:08, 10.74s/it]"
     ]
    },
    {
     "name": "stdout",
     "output_type": "stream",
     "text": [
      "./temp_unzip\\382667_volumes\n",
      "./temp_unzip\\382667_segmentations\n",
      "('1',)\n",
      "too few of desired class in this case. this case will be skipped\n"
     ]
    },
    {
     "name": "stderr",
     "output_type": "stream",
     "text": [
      " 27%|##7       | 65/238 [11:28<30:47, 10.68s/it]"
     ]
    },
    {
     "name": "stdout",
     "output_type": "stream",
     "text": [
      "./temp_unzip\\382878_volumes\n",
      "./temp_unzip\\382878_segmentations\n",
      "('1',)\n",
      "too few of desired class in this case. this case will be skipped\n"
     ]
    },
    {
     "name": "stderr",
     "output_type": "stream",
     "text": [
      " 28%|##7       | 66/238 [11:39<31:07, 10.86s/it]"
     ]
    },
    {
     "name": "stdout",
     "output_type": "stream",
     "text": [
      "./temp_unzip\\387591_volumes\n",
      "./temp_unzip\\387591_segmentations\n",
      "('1',)\n",
      "too few of desired class in this case. this case will be skipped\n"
     ]
    },
    {
     "name": "stderr",
     "output_type": "stream",
     "text": [
      " 28%|##8       | 67/238 [11:47<28:39, 10.06s/it]"
     ]
    },
    {
     "name": "stdout",
     "output_type": "stream",
     "text": [
      "./temp_unzip\\392904_volumes\n",
      "./temp_unzip\\392904_segmentations\n",
      "('1',)\n",
      "too few of desired class in this case. this case will be skipped\n"
     ]
    },
    {
     "name": "stderr",
     "output_type": "stream",
     "text": [
      " 29%|##8       | 68/238 [11:59<29:33, 10.43s/it]"
     ]
    },
    {
     "name": "stdout",
     "output_type": "stream",
     "text": [
      "./temp_unzip\\398803_volumes\n",
      "./temp_unzip\\398803_segmentations\n",
      "('1',)\n",
      "too few of desired class in this case. this case will be skipped\n"
     ]
    },
    {
     "name": "stderr",
     "output_type": "stream",
     "text": [
      " 29%|##8       | 69/238 [12:07<27:27,  9.75s/it]"
     ]
    },
    {
     "name": "stdout",
     "output_type": "stream",
     "text": [
      "./temp_unzip\\401601_volumes\n",
      "./temp_unzip\\401601_segmentations\n",
      "('1',)\n",
      "too few of desired class in this case. this case will be skipped\n"
     ]
    },
    {
     "name": "stderr",
     "output_type": "stream",
     "text": [
      " 29%|##9       | 70/238 [12:15<25:46,  9.21s/it]"
     ]
    },
    {
     "name": "stdout",
     "output_type": "stream",
     "text": [
      "./temp_unzip\\407108_volumes\n",
      "./temp_unzip\\407108_segmentations\n",
      "('1',)\n",
      "too few of desired class in this case. this case will be skipped\n"
     ]
    },
    {
     "name": "stderr",
     "output_type": "stream",
     "text": [
      " 30%|##9       | 71/238 [12:24<25:38,  9.22s/it]"
     ]
    },
    {
     "name": "stdout",
     "output_type": "stream",
     "text": [
      "./temp_unzip\\410445_volumes\n",
      "./temp_unzip\\410445_segmentations\n",
      "('1',)\n",
      "tooth_36_pulp\n",
      "tooth_37_pulp\n",
      "tooth_26_pulp\n",
      "tooth_25_pulp\n",
      "tooth_38_pulp\n",
      "410445P524445_1360580496-cbct-tooth-25_decimated\n",
      "410445P524445_1758043286-cbct-tooth-38_decimated\n",
      "410445P524445_2026961153-cbct-tooth-37_decimated\n",
      "410445P524445_2909182781-cbct-tooth-36_decimated\n",
      "410445P524445_3367219753-cbct-tooth-26_decimated\n",
      "one case sucessfully converted\n"
     ]
    },
    {
     "name": "stderr",
     "output_type": "stream",
     "text": [
      " 30%|###       | 72/238 [13:24<1:07:40, 24.46s/it]"
     ]
    },
    {
     "name": "stdout",
     "output_type": "stream",
     "text": [
      "./temp_unzip\\415284_volumes\n",
      "./temp_unzip\\415284_segmentations\n",
      "('1',)\n",
      "too few of desired class in this case. this case will be skipped\n"
     ]
    },
    {
     "name": "stderr",
     "output_type": "stream",
     "text": [
      " 31%|###       | 73/238 [13:30<51:45, 18.82s/it]  "
     ]
    },
    {
     "name": "stdout",
     "output_type": "stream",
     "text": [
      "./temp_unzip\\416237_volumes\n",
      "./temp_unzip\\416237_segmentations\n",
      "('1',)\n",
      "too few of desired class in this case. this case will be skipped\n"
     ]
    },
    {
     "name": "stderr",
     "output_type": "stream",
     "text": [
      " 31%|###1      | 74/238 [13:38<42:31, 15.56s/it]"
     ]
    },
    {
     "name": "stdout",
     "output_type": "stream",
     "text": [
      "./temp_unzip\\416584_volumes\n",
      "./temp_unzip\\416584_segmentations\n",
      "('1',)\n",
      "too few of desired class in this case. this case will be skipped\n"
     ]
    },
    {
     "name": "stderr",
     "output_type": "stream",
     "text": [
      " 32%|###1      | 75/238 [13:46<36:27, 13.42s/it]"
     ]
    },
    {
     "name": "stdout",
     "output_type": "stream",
     "text": [
      "./temp_unzip\\417849_volumes\n",
      "./temp_unzip\\417849_segmentations\n",
      "('1',)\n",
      "too few of desired class in this case. this case will be skipped\n"
     ]
    },
    {
     "name": "stderr",
     "output_type": "stream",
     "text": [
      " 32%|###1      | 76/238 [13:53<30:56, 11.46s/it]"
     ]
    },
    {
     "name": "stdout",
     "output_type": "stream",
     "text": [
      "./temp_unzip\\418681_volumes\n",
      "./temp_unzip\\418681_segmentations\n",
      "('1',)\n",
      "too few of desired class in this case. this case will be skipped\n"
     ]
    },
    {
     "name": "stderr",
     "output_type": "stream",
     "text": [
      " 32%|###2      | 77/238 [14:03<29:11, 10.88s/it]"
     ]
    },
    {
     "name": "stdout",
     "output_type": "stream",
     "text": [
      "./temp_unzip\\418692_volumes\n",
      "./temp_unzip\\418692_segmentations\n",
      "('1',)\n",
      "too few of desired class in this case. this case will be skipped\n"
     ]
    },
    {
     "name": "stderr",
     "output_type": "stream",
     "text": [
      " 33%|###2      | 78/238 [14:11<26:49, 10.06s/it]"
     ]
    },
    {
     "name": "stdout",
     "output_type": "stream",
     "text": [
      "./temp_unzip\\419518_volumes\n",
      "./temp_unzip\\419518_segmentations\n",
      "('1',)\n",
      "too few of desired class in this case. this case will be skipped\n"
     ]
    },
    {
     "name": "stderr",
     "output_type": "stream",
     "text": [
      " 33%|###3      | 79/238 [14:19<25:02,  9.45s/it]"
     ]
    },
    {
     "name": "stdout",
     "output_type": "stream",
     "text": [
      "./temp_unzip\\419787_volumes\n",
      "./temp_unzip\\419787_segmentations\n",
      "('1',)\n",
      "too few of desired class in this case. this case will be skipped\n"
     ]
    },
    {
     "name": "stderr",
     "output_type": "stream",
     "text": [
      " 34%|###3      | 80/238 [14:29<25:28,  9.67s/it]"
     ]
    },
    {
     "name": "stdout",
     "output_type": "stream",
     "text": [
      "./temp_unzip\\420714_volumes\n",
      "./temp_unzip\\420714_segmentations\n",
      "('1',)\n",
      "too few of desired class in this case. this case will be skipped\n"
     ]
    },
    {
     "name": "stderr",
     "output_type": "stream",
     "text": [
      " 34%|###4      | 81/238 [14:38<24:57,  9.54s/it]"
     ]
    },
    {
     "name": "stdout",
     "output_type": "stream",
     "text": [
      "./temp_unzip\\421955_volumes\n",
      "./temp_unzip\\421955_segmentations\n",
      "('1',)\n",
      "too few of desired class in this case. this case will be skipped\n"
     ]
    },
    {
     "name": "stderr",
     "output_type": "stream",
     "text": [
      " 34%|###4      | 82/238 [14:46<23:37,  9.08s/it]"
     ]
    },
    {
     "name": "stdout",
     "output_type": "stream",
     "text": [
      "./temp_unzip\\422507_volumes\n",
      "./temp_unzip\\422507_segmentations\n",
      "('1',)\n",
      "too few of desired class in this case. this case will be skipped\n"
     ]
    },
    {
     "name": "stderr",
     "output_type": "stream",
     "text": [
      " 35%|###4      | 83/238 [14:55<23:04,  8.93s/it]"
     ]
    },
    {
     "name": "stdout",
     "output_type": "stream",
     "text": [
      "./temp_unzip\\422589_volumes\n",
      "./temp_unzip\\422589_segmentations\n",
      "('1',)\n",
      "too few of desired class in this case. this case will be skipped\n"
     ]
    },
    {
     "name": "stderr",
     "output_type": "stream",
     "text": [
      " 35%|###5      | 84/238 [15:06<25:04,  9.77s/it]"
     ]
    },
    {
     "name": "stdout",
     "output_type": "stream",
     "text": [
      "./temp_unzip\\424022_volumes\n",
      "./temp_unzip\\424022_segmentations\n",
      "('1',)\n",
      "too few of desired class in this case. this case will be skipped\n"
     ]
    },
    {
     "name": "stderr",
     "output_type": "stream",
     "text": [
      " 36%|###5      | 85/238 [15:16<24:59,  9.80s/it]"
     ]
    },
    {
     "name": "stdout",
     "output_type": "stream",
     "text": [
      "./temp_unzip\\424141_volumes\n",
      "./temp_unzip\\424141_segmentations\n",
      "('1',)\n",
      "too few of desired class in this case. this case will be skipped\n"
     ]
    },
    {
     "name": "stderr",
     "output_type": "stream",
     "text": [
      " 36%|###6      | 86/238 [15:24<23:34,  9.31s/it]"
     ]
    },
    {
     "name": "stdout",
     "output_type": "stream",
     "text": [
      "./temp_unzip\\424280_volumes\n",
      "./temp_unzip\\424280_segmentations\n",
      "('1',)\n",
      "too few of desired class in this case. this case will be skipped\n"
     ]
    },
    {
     "name": "stderr",
     "output_type": "stream",
     "text": [
      " 37%|###6      | 87/238 [15:35<24:04,  9.57s/it]"
     ]
    },
    {
     "name": "stdout",
     "output_type": "stream",
     "text": [
      "./temp_unzip\\424914_volumes\n",
      "./temp_unzip\\424914_segmentations\n",
      "('1',)\n",
      "too few of desired class in this case. this case will be skipped\n"
     ]
    },
    {
     "name": "stderr",
     "output_type": "stream",
     "text": [
      " 37%|###6      | 88/238 [15:44<23:53,  9.55s/it]"
     ]
    },
    {
     "name": "stdout",
     "output_type": "stream",
     "text": [
      "./temp_unzip\\426171_volumes\n",
      "./temp_unzip\\426171_segmentations\n",
      "('1',)\n",
      "too few of desired class in this case. this case will be skipped\n"
     ]
    },
    {
     "name": "stderr",
     "output_type": "stream",
     "text": [
      " 37%|###7      | 89/238 [15:55<24:36,  9.91s/it]"
     ]
    },
    {
     "name": "stdout",
     "output_type": "stream",
     "text": [
      "./temp_unzip\\426190_volumes\n",
      "./temp_unzip\\426190_segmentations\n",
      "('1',)\n",
      "too few of desired class in this case. this case will be skipped\n"
     ]
    },
    {
     "name": "stderr",
     "output_type": "stream",
     "text": [
      " 38%|###7      | 90/238 [16:03<23:08,  9.38s/it]"
     ]
    },
    {
     "name": "stdout",
     "output_type": "stream",
     "text": [
      "./temp_unzip\\426241_volumes\n",
      "./temp_unzip\\426241_segmentations\n",
      "('1',)\n",
      "too few of desired class in this case. this case will be skipped\n"
     ]
    },
    {
     "name": "stderr",
     "output_type": "stream",
     "text": [
      " 38%|###8      | 91/238 [16:13<23:44,  9.69s/it]"
     ]
    },
    {
     "name": "stdout",
     "output_type": "stream",
     "text": [
      "./temp_unzip\\428416_volumes\n",
      "./temp_unzip\\428416_segmentations\n",
      "('1',)\n",
      "too few of desired class in this case. this case will be skipped\n"
     ]
    },
    {
     "name": "stderr",
     "output_type": "stream",
     "text": [
      " 39%|###8      | 92/238 [17:06<54:34, 22.43s/it]"
     ]
    },
    {
     "name": "stdout",
     "output_type": "stream",
     "text": [
      "./temp_unzip\\428787_volumes\n",
      "./temp_unzip\\428787_segmentations\n",
      "('1',)\n",
      "too few of desired class in this case. this case will be skipped\n"
     ]
    },
    {
     "name": "stderr",
     "output_type": "stream",
     "text": [
      " 39%|###9      | 93/238 [17:17<46:21, 19.18s/it]"
     ]
    },
    {
     "name": "stdout",
     "output_type": "stream",
     "text": [
      "./temp_unzip\\429826_volumes\n",
      "./temp_unzip\\429826_segmentations\n",
      "('1',)\n",
      "too few of desired class in this case. this case will be skipped\n"
     ]
    },
    {
     "name": "stderr",
     "output_type": "stream",
     "text": [
      " 39%|###9      | 94/238 [17:23<36:31, 15.22s/it]"
     ]
    },
    {
     "name": "stdout",
     "output_type": "stream",
     "text": [
      "./temp_unzip\\435750_volumes\n",
      "./temp_unzip\\435750_segmentations\n",
      "('1',)\n",
      "too few of desired class in this case. this case will be skipped\n"
     ]
    },
    {
     "name": "stderr",
     "output_type": "stream",
     "text": [
      " 40%|###9      | 95/238 [17:31<31:08, 13.07s/it]"
     ]
    },
    {
     "name": "stdout",
     "output_type": "stream",
     "text": [
      "./temp_unzip\\438336_volumes\n",
      "./temp_unzip\\438336_segmentations\n",
      "('1',)\n",
      "too few of desired class in this case. this case will be skipped\n"
     ]
    },
    {
     "name": "stderr",
     "output_type": "stream",
     "text": [
      " 40%|####      | 96/238 [17:41<28:30, 12.05s/it]"
     ]
    },
    {
     "name": "stdout",
     "output_type": "stream",
     "text": [
      "./temp_unzip\\440986_volumes\n",
      "./temp_unzip\\440986_segmentations\n",
      "('1',)\n",
      "too few of desired class in this case. this case will be skipped\n"
     ]
    },
    {
     "name": "stderr",
     "output_type": "stream",
     "text": [
      " 41%|####      | 97/238 [17:52<27:35, 11.74s/it]"
     ]
    },
    {
     "name": "stdout",
     "output_type": "stream",
     "text": [
      "./temp_unzip\\449953_volumes\n",
      "./temp_unzip\\449953_segmentations\n",
      "('1',)\n",
      "too few of desired class in this case. this case will be skipped\n"
     ]
    },
    {
     "name": "stderr",
     "output_type": "stream",
     "text": [
      " 41%|####1     | 98/238 [18:02<26:00, 11.15s/it]"
     ]
    },
    {
     "name": "stdout",
     "output_type": "stream",
     "text": [
      "./temp_unzip\\456331_volumes\n",
      "./temp_unzip\\456331_segmentations\n",
      "('1',)\n",
      "too few of desired class in this case. this case will be skipped\n"
     ]
    },
    {
     "name": "stderr",
     "output_type": "stream",
     "text": [
      " 42%|####1     | 99/238 [18:07<22:04,  9.53s/it]"
     ]
    },
    {
     "name": "stdout",
     "output_type": "stream",
     "text": [
      "./temp_unzip\\468278_volumes\n",
      "./temp_unzip\\468278_segmentations\n",
      "('1',)\n",
      "tooth_27_pulp\n",
      "tooth_28_pulp\n",
      "tooth_37_pulp\n",
      "tooth_38_pulp\n",
      "468278P524743_468278_3117552538-cbct-tooth-27_decimated\n",
      "468278P524743_468278_3161239583-cbct-tooth-38_decimated\n",
      "468278P524743_468278_3167725124-cbct-tooth-37_decimated\n",
      "468278P524743_468278_361609535-cbct-tooth-28_decimated\n",
      "one case sucessfully converted\n"
     ]
    },
    {
     "name": "stderr",
     "output_type": "stream",
     "text": [
      " 42%|####2     | 100/238 [18:55<48:14, 20.98s/it]"
     ]
    },
    {
     "name": "stdout",
     "output_type": "stream",
     "text": [
      "./temp_unzip\\471489_volumes\n",
      "./temp_unzip\\471489_segmentations\n",
      "('1',)\n",
      "too few of desired class in this case. this case will be skipped\n"
     ]
    },
    {
     "name": "stderr",
     "output_type": "stream",
     "text": [
      " 42%|####2     | 101/238 [19:08<42:37, 18.67s/it]"
     ]
    },
    {
     "name": "stdout",
     "output_type": "stream",
     "text": [
      "./temp_unzip\\474673_volumes\n",
      "./temp_unzip\\474673_segmentations\n",
      "('1',)\n",
      "too few of desired class in this case. this case will be skipped\n"
     ]
    },
    {
     "name": "stderr",
     "output_type": "stream",
     "text": [
      " 43%|####2     | 102/238 [19:20<37:28, 16.53s/it]"
     ]
    },
    {
     "name": "stdout",
     "output_type": "stream",
     "text": [
      "./temp_unzip\\474714_volumes\n",
      "./temp_unzip\\474714_segmentations\n",
      "('1',)\n",
      "too few of desired class in this case. this case will be skipped\n"
     ]
    },
    {
     "name": "stderr",
     "output_type": "stream",
     "text": [
      " 43%|####3     | 103/238 [19:32<33:57, 15.09s/it]"
     ]
    },
    {
     "name": "stdout",
     "output_type": "stream",
     "text": [
      "./temp_unzip\\478950_volumes\n",
      "./temp_unzip\\478950_segmentations\n",
      "('1',)\n",
      "too few of desired class in this case. this case will be skipped\n"
     ]
    },
    {
     "name": "stderr",
     "output_type": "stream",
     "text": [
      " 44%|####3     | 104/238 [19:40<29:03, 13.01s/it]"
     ]
    },
    {
     "name": "stdout",
     "output_type": "stream",
     "text": [
      "./temp_unzip\\495144_volumes\n",
      "./temp_unzip\\495144_segmentations\n",
      "('1',)\n",
      "too few of desired class in this case. this case will be skipped\n"
     ]
    },
    {
     "name": "stderr",
     "output_type": "stream",
     "text": [
      " 44%|####4     | 105/238 [19:48<25:32, 11.52s/it]"
     ]
    },
    {
     "name": "stdout",
     "output_type": "stream",
     "text": [
      "./temp_unzip\\507343_volumes\n",
      "./temp_unzip\\507343_segmentations\n",
      "('1',)\n",
      "somthing is wrong with case {'vol': './temp_unzip\\\\507343_volumes', 'seg': './temp_unzip\\\\507343_segmentations'} probably a missing segmentation\n"
     ]
    },
    {
     "name": "stderr",
     "output_type": "stream",
     "text": [
      " 45%|####4     | 106/238 [20:03<27:56, 12.70s/it]"
     ]
    },
    {
     "name": "stdout",
     "output_type": "stream",
     "text": [
      "./temp_unzip\\536055_volumes\n",
      "./temp_unzip\\536055_segmentations\n",
      "('1',)\n",
      "somthing is wrong with case {'vol': './temp_unzip\\\\536055_volumes', 'seg': './temp_unzip\\\\536055_segmentations'} probably a missing segmentation\n"
     ]
    },
    {
     "name": "stderr",
     "output_type": "stream",
     "text": [
      " 45%|####4     | 107/238 [20:12<25:16, 11.58s/it]"
     ]
    },
    {
     "name": "stdout",
     "output_type": "stream",
     "text": [
      "./temp_unzip\\537636_volumes\n",
      "./temp_unzip\\537636_segmentations\n",
      "('1',)\n",
      "somthing is wrong with case {'vol': './temp_unzip\\\\537636_volumes', 'seg': './temp_unzip\\\\537636_segmentations'} probably a missing segmentation\n"
     ]
    },
    {
     "name": "stderr",
     "output_type": "stream",
     "text": [
      " 45%|####5     | 108/238 [20:17<20:28,  9.45s/it]"
     ]
    },
    {
     "name": "stdout",
     "output_type": "stream",
     "text": [
      "./temp_unzip\\540895_volumes\n",
      "./temp_unzip\\540895_segmentations\n",
      "('1',)\n",
      "somthing is wrong with case {'vol': './temp_unzip\\\\540895_volumes', 'seg': './temp_unzip\\\\540895_segmentations'} probably a missing segmentation\n"
     ]
    },
    {
     "name": "stderr",
     "output_type": "stream",
     "text": [
      " 46%|####5     | 109/238 [20:22<17:45,  8.26s/it]"
     ]
    },
    {
     "name": "stdout",
     "output_type": "stream",
     "text": [
      "./temp_unzip\\546698_volumes\n",
      "./temp_unzip\\546698_segmentations\n",
      "('1',)\n",
      "tooth_42_pulp\n",
      "tooth_11_pulp\n",
      "tooth_13_pulp\n",
      "tooth_31_pulp\n",
      "tooth_41_pulp\n",
      "tooth_14_pulp\n",
      "tooth_24_pulp\n",
      "tooth_21_pulp\n",
      "tooth_23_pulp\n",
      "tooth_12_pulp\n",
      "tooth_15_pulp\n",
      "tooth_32_pulp\n",
      "tooth_22_pulp\n",
      "546698P524659_1772555701-cbct-tooth-13_decimated\n",
      "546698P524659_189591166-cbct-tooth-15_decimated\n",
      "546698P524659_2999017005-cbct-tooth-22_decimated\n",
      "546698P524659_3363209267-cbct-tooth-21_decimated\n",
      "546698P524659_3417841975-cbct-tooth-41_decimated\n",
      "546698P524659_3476922575-cbct-tooth-11_decimated\n",
      "546698P524659_3537586068-cbct-tooth-24_decimated\n",
      "546698P524659_3840092994-cbct-tooth-42_decimated\n",
      "546698P524659_4123571623-cbct-tooth-14_decimated\n",
      "546698P524659_4163923638-cbct-tooth-31_decimated\n",
      "546698P524659_48109230-cbct-tooth-12_decimated\n",
      "546698P524659_671655336-cbct-tooth-23_decimated\n",
      "546698P524659_731597589-cbct-tooth-32_decimated\n",
      "one case sucessfully converted\n"
     ]
    },
    {
     "name": "stderr",
     "output_type": "stream",
     "text": [
      " 46%|####6     | 110/238 [22:47<1:45:10, 49.30s/it]"
     ]
    },
    {
     "name": "stdout",
     "output_type": "stream",
     "text": [
      "./temp_unzip\\556553_volumes\n",
      "./temp_unzip\\556553_segmentations\n",
      "('1',)\n",
      "tooth_21_pulp\n",
      "tooth_22_pulp\n",
      "tooth_12_pulp\n",
      "tooth_23_pulp\n",
      "tooth_25_pulp\n",
      "tooth_11_pulp\n",
      "556553P526834_188877366-cbct-tooth-25_decimated\n",
      "556553P526834_2966825174-cbct-tooth-22_decimated\n",
      "556553P526834_3443720789-cbct-tooth-21_decimated\n",
      "556553P526834_3517868297-cbct-tooth-12_decimated\n",
      "556553P526834_654315047-cbct-tooth-11_decimated\n",
      "556553P526834_727678485-cbct-tooth-23_decimated\n",
      "one case sucessfully converted\n"
     ]
    },
    {
     "name": "stderr",
     "output_type": "stream",
     "text": [
      " 47%|####6     | 111/238 [23:57<1:57:34, 55.55s/it]"
     ]
    },
    {
     "name": "stdout",
     "output_type": "stream",
     "text": [
      "./temp_unzip\\557994_volumes\n",
      "./temp_unzip\\557994_segmentations\n",
      "('1',)\n",
      "tooth_26_pulp\n",
      "tooth_27_pulp\n",
      "tooth_37_pulp\n",
      "tooth_38_pulp\n",
      "557994P526426_557994_1567129748-cbct-tooth-38_decimated\n",
      "557994P526426_557994_1638174049-cbct-tooth-27_decimated\n",
      "557994P526426_557994_3300254076-cbct-tooth-26_decimated\n",
      "557994P526426_557994_3519890247-cbct-tooth-37_decimated\n",
      "one case sucessfully converted\n"
     ]
    },
    {
     "name": "stderr",
     "output_type": "stream",
     "text": [
      " 47%|####7     | 112/238 [24:46<1:52:03, 53.36s/it]"
     ]
    },
    {
     "name": "stdout",
     "output_type": "stream",
     "text": [
      "./temp_unzip\\559771_volumes\n",
      "./temp_unzip\\559771_segmentations\n",
      "('1',)\n",
      "tooth_41_pulp\n",
      "tooth_22_pulp\n",
      "tooth_27_pulp\n",
      "tooth_21_pulp\n",
      "tooth_36_pulp\n",
      "tooth_13_pulp\n",
      "tooth_25_pulp\n",
      "tooth_44_pulp\n",
      "tooth_16_pulp\n",
      "tooth_15_pulp\n",
      "tooth_37_pulp\n",
      "tooth_32_pulp\n",
      "tooth_47_pulp\n",
      "tooth_26_pulp\n",
      "tooth_35_pulp\n",
      "tooth_43_pulp\n",
      "tooth_31_pulp\n",
      "tooth_23_pulp\n",
      "tooth_14_pulp\n",
      "tooth_17_pulp\n",
      "tooth_24_pulp\n",
      "tooth_45_pulp\n",
      "tooth_11_pulp\n",
      "tooth_33_pulp\n",
      "tooth_34_pulp\n",
      "tooth_46_pulp\n",
      "tooth_12_pulp\n",
      "tooth_18_pulp\n",
      "tooth_42_pulp\n",
      "559771P526284_559771_1043248271-cbct-tooth-18_decimated\n",
      "559771P526284_559771_1210713754-cbct-tooth-33_decimated\n",
      "559771P526284_559771_1344825565-cbct-tooth-34_decimated\n",
      "559771P526284_559771_1657868816-cbct-tooth-44_decimated\n",
      "559771P526284_559771_1851105207-cbct-tooth-14_decimated\n",
      "559771P526284_559771_1860554575-cbct-tooth-15_decimated\n",
      "559771P526284_559771_2062970832-cbct-tooth-27_decimated\n",
      "559771P526284_559771_2174428854-cbct-tooth-21_decimated\n",
      "559771P526284_559771_2312422651-cbct-tooth-24_decimated\n",
      "559771P526284_559771_24825121-cbct-tooth-12_decimated\n",
      "559771P526284_559771_2604971143-cbct-tooth-42_decimated\n",
      "559771P526284_559771_2689196564-cbct-tooth-16_decimated\n",
      "559771P526284_559771_2787676762-cbct-tooth-45_decimated\n",
      "559771P526284_559771_2798094740-cbct-tooth-23_decimated\n",
      "559771P526284_559771_2884970162-cbct-tooth-22_decimated\n",
      "559771P526284_559771_2890742858-cbct-tooth-37_decimated\n",
      "559771P526284_559771_3012755398-cbct-tooth-46_decimated\n",
      "559771P526284_559771_3063230515-cbct-tooth-35_decimated\n",
      "559771P526284_559771_3134312510-cbct-tooth-31_decimated\n",
      "559771P526284_559771_3156129019-cbct-tooth-13_decimated\n",
      "559771P526284_559771_3239417888-cbct-tooth-17_decimated\n",
      "559771P526284_559771_3279844999-cbct-tooth-11_decimated\n",
      "559771P526284_559771_3375540732-cbct-tooth-36_decimated\n",
      "559771P526284_559771_37121066-cbct-tooth-32_decimated\n",
      "559771P526284_559771_3950358595-cbct-tooth-26_decimated\n",
      "559771P526284_559771_4118720933-cbct-tooth-41_decimated\n",
      "559771P526284_559771_524505520-cbct-tooth-47_decimated\n",
      "559771P526284_559771_698099676-cbct-tooth-43_decimated\n",
      "559771P526284_559771_865960125-cbct-tooth-25_decimated\n",
      "one case sucessfully converted\n"
     ]
    },
    {
     "name": "stderr",
     "output_type": "stream",
     "text": [
      " 47%|####7     | 113/238 [30:40<4:59:10, 143.60s/it]"
     ]
    },
    {
     "name": "stdout",
     "output_type": "stream",
     "text": [
      "./temp_unzip\\562152_volumes\n",
      "./temp_unzip\\562152_segmentations\n",
      "('1',)\n",
      "tooth_26_pulp\n",
      "tooth_25_pulp\n",
      "tooth_37_pulp\n",
      "tooth_38_pulp\n",
      "tooth_36_pulp\n",
      "562152P525209_562152_1936397733-cbct-tooth-25_decimated\n",
      "562152P525209_562152_2627675576-cbct-tooth-26_decimated\n",
      "562152P525209_562152_3488750209-cbct-tooth-36_decimated\n",
      "562152P525209_562152_3845957696-cbct-tooth-37_decimated\n",
      "562152P525209_562152_921757102-cbct-tooth-38_decimated\n",
      "one case sucessfully converted\n"
     ]
    },
    {
     "name": "stderr",
     "output_type": "stream",
     "text": [
      " 48%|####7     | 114/238 [31:40<4:05:18, 118.70s/it]"
     ]
    },
    {
     "name": "stdout",
     "output_type": "stream",
     "text": [
      "./temp_unzip\\564137_volumes\n",
      "./temp_unzip\\564137_segmentations\n",
      "('1',)\n",
      "tooth_26_pulp\n",
      "tooth_38_pulp\n",
      "tooth_37_pulp\n",
      "tooth_35_pulp\n",
      "tooth_27_pulp\n",
      "564137P526316_564137_1148193614-cbct-tooth-37_decimated\n",
      "564137P526316_564137_2025517186-cbct-tooth-38_decimated\n",
      "564137P526316_564137_3650314598-cbct-tooth-35_decimated\n",
      "564137P526316_564137_378608353-cbct-tooth-27_decimated\n",
      "564137P526316_564137_757122451-cbct-tooth-26_decimated\n",
      "one case sucessfully converted\n"
     ]
    },
    {
     "name": "stderr",
     "output_type": "stream",
     "text": [
      " 48%|####8     | 115/238 [33:07<3:43:21, 108.96s/it]"
     ]
    },
    {
     "name": "stdout",
     "output_type": "stream",
     "text": [
      "./temp_unzip\\564981_volumes\n",
      "./temp_unzip\\564981_segmentations\n",
      "('1',)\n",
      "tooth_35_pulp\n",
      "tooth_36_pulp\n",
      "tooth_25_pulp\n",
      "tooth_27_pulp\n",
      "tooth_37_pulp\n",
      "tooth_26_pulp\n",
      "564981P524875_1113683938-cbct-tooth-35_decimated\n",
      "564981P524875_1521666495-cbct-tooth-37_decimated\n",
      "564981P524875_1953453945-cbct-tooth-36_decimated\n",
      "564981P524875_2202255094-cbct-tooth-25_decimated\n",
      "564981P524875_3358061335-cbct-tooth-27_decimated\n",
      "564981P524875_374761030-cbct-tooth-26_decimated\n",
      "one case sucessfully converted\n"
     ]
    },
    {
     "name": "stderr",
     "output_type": "stream",
     "text": [
      " 49%|####8     | 116/238 [34:18<3:18:38, 97.69s/it] "
     ]
    },
    {
     "name": "stdout",
     "output_type": "stream",
     "text": [
      "./temp_unzip\\567014_volumes\n",
      "./temp_unzip\\567014_segmentations\n",
      "('1',)\n",
      "tooth_38_pulp\n",
      "tooth_36_pulp\n",
      "tooth_37_pulp\n",
      "tooth_27_pulp\n",
      "567014P525594_567014_1422123907-cbct-tooth-38_decimated\n",
      "567014P525594_567014_1665173994-cbct-tooth-27_decimated\n",
      "567014P525594_567014_1846704900-cbct-tooth-37_decimated\n",
      "567014P525594_567014_2154871868-cbct-tooth-36_decimated\n",
      "one case sucessfully converted\n"
     ]
    },
    {
     "name": "stderr",
     "output_type": "stream",
     "text": [
      " 49%|####9     | 117/238 [35:06<2:46:55, 82.77s/it]"
     ]
    },
    {
     "name": "stdout",
     "output_type": "stream",
     "text": [
      "./temp_unzip\\567644_volumes\n",
      "./temp_unzip\\567644_segmentations\n",
      "('1',)\n",
      "tooth_31_pulp\n",
      "tooth_23_pulp\n",
      "tooth_24_pulp\n",
      "tooth_27_pulp\n",
      "tooth_34_pulp\n",
      "tooth_36_pulp\n",
      "tooth_21_pulp\n",
      "tooth_25_pulp\n",
      "tooth_41_pulp\n",
      "tooth_11_pulp\n",
      "tooth_22_pulp\n",
      "tooth_42_pulp\n",
      "tooth_12_pulp\n",
      "tooth_43_pulp\n",
      "tooth_32_pulp\n",
      "tooth_33_pulp\n",
      "tooth_35_pulp\n",
      "567644P525221_1143999613-cbct-tooth-11_decimated\n",
      "567644P525221_1274781732-cbct-tooth-12_decimated\n",
      "567644P525221_1277547997-cbct-tooth-35_decimated\n",
      "567644P525221_1646842314-cbct-tooth-36_decimated\n",
      "567644P525221_1924534739-cbct-tooth-21_decimated\n",
      "567644P525221_2025324986-cbct-tooth-24_decimated\n",
      "567644P525221_2045505797-cbct-tooth-31_decimated\n",
      "567644P525221_2569842932-cbct-tooth-42_decimated\n",
      "567644P525221_2592945140-cbct-tooth-41_decimated\n",
      "567644P525221_300881599-cbct-tooth-23_decimated\n",
      "567644P525221_3131202291-cbct-tooth-33_decimated\n",
      "567644P525221_3198137051-cbct-tooth-32_decimated\n",
      "567644P525221_3791341024-cbct-tooth-34_decimated\n",
      "567644P525221_3811532905-cbct-tooth-27_decimated\n",
      "567644P525221_3870744118-cbct-tooth-22_decimated\n",
      "567644P525221_4109718081-cbct-tooth-43_decimated\n",
      "567644P525221_431254616-cbct-tooth-25_decimated\n",
      "one case sucessfully converted\n"
     ]
    },
    {
     "name": "stderr",
     "output_type": "stream",
     "text": [
      " 50%|####9     | 118/238 [38:21<3:52:37, 116.32s/it]"
     ]
    },
    {
     "name": "stdout",
     "output_type": "stream",
     "text": [
      "./temp_unzip\\569441_volumes\n",
      "./temp_unzip\\569441_segmentations\n",
      "('1',)\n",
      "tooth_14_pulp\n",
      "tooth_41_pulp\n",
      "tooth_45_pulp\n",
      "tooth_17_pulp\n",
      "tooth_46_pulp\n",
      "tooth_12_pulp\n",
      "tooth_44_pulp\n",
      "tooth_43_pulp\n",
      "tooth_11_pulp\n",
      "tooth_13_pulp\n",
      "tooth_42_pulp\n",
      "tooth_15_pulp\n",
      "tooth_16_pulp\n",
      "tooth_47_pulp\n",
      "tooth_18_pulp\n",
      "569441P524326_1343796423-cbct-tooth-42_decimated\n",
      "569441P524326_1378864235-cbct-tooth-17_decimated\n",
      "569441P524326_162368033-cbct-tooth-15_decimated\n",
      "569441P524326_1625682222-cbct-tooth-12_decimated\n",
      "569441P524326_1647545088-cbct-tooth-46_decimated\n",
      "569441P524326_1853304-cbct-tooth-47_decimated\n",
      "569441P524326_2621031042-cbct-tooth-14_decimated\n",
      "569441P524326_3778967176-cbct-tooth-18_decimated\n",
      "569441P524326_388372066-cbct-tooth-45_decimated\n",
      "569441P524326_4070578943-cbct-tooth-44_decimated\n",
      "569441P524326_4120025720-cbct-tooth-13_decimated\n",
      "569441P524326_436050804-cbct-tooth-11_decimated\n",
      "569441P524326_595016753-cbct-tooth-43_decimated\n",
      "569441P524326_611257690-cbct-tooth-41_decimated\n",
      "569441P524326_825244914-cbct-tooth-16_decimated\n",
      "one case sucessfully converted\n"
     ]
    },
    {
     "name": "stderr",
     "output_type": "stream",
     "text": [
      " 50%|#####     | 119/238 [41:16<4:26:02, 134.14s/it]"
     ]
    },
    {
     "name": "stdout",
     "output_type": "stream",
     "text": [
      "./temp_unzip\\569976_volumes\n",
      "./temp_unzip\\569976_segmentations\n",
      "('1',)\n",
      "somthing is wrong with case {'vol': './temp_unzip\\\\569976_volumes', 'seg': './temp_unzip\\\\569976_segmentations'} probably a missing segmentation\n"
     ]
    },
    {
     "name": "stderr",
     "output_type": "stream",
     "text": [
      " 50%|#####     | 120/238 [41:21<3:07:29, 95.34s/it] "
     ]
    },
    {
     "name": "stdout",
     "output_type": "stream",
     "text": [
      "./temp_unzip\\569999_volumes\n",
      "./temp_unzip\\569999_segmentations\n",
      "('1',)\n",
      "somthing is wrong with case {'vol': './temp_unzip\\\\569999_volumes', 'seg': './temp_unzip\\\\569999_segmentations'} probably a missing segmentation\n"
     ]
    },
    {
     "name": "stderr",
     "output_type": "stream",
     "text": [
      " 51%|#####     | 121/238 [41:26<2:12:56, 68.18s/it]"
     ]
    },
    {
     "name": "stdout",
     "output_type": "stream",
     "text": [
      "./temp_unzip\\570482_volumes\n",
      "./temp_unzip\\570482_segmentations\n",
      "('1',)\n",
      "tooth_24_pulp\n",
      "tooth_26_pulp\n",
      "tooth_33_pulp\n",
      "tooth_27_pulp\n",
      "tooth_47_pulp\n",
      "tooth_22_pulp\n",
      "tooth_13_pulp\n",
      "tooth_37_pulp\n",
      "tooth_14_pulp\n",
      "tooth_15_pulp\n",
      "tooth_36_pulp\n",
      "tooth_23_pulp\n",
      "tooth_17_pulp\n",
      "tooth_31_pulp\n",
      "tooth_25_pulp\n",
      "tooth_21_pulp\n",
      "tooth_12_pulp\n",
      "tooth_46_pulp\n",
      "tooth_18_pulp\n",
      "tooth_16_pulp\n",
      "tooth_34_pulp\n",
      "tooth_42_pulp\n",
      "tooth_43_pulp\n",
      "tooth_48_pulp\n",
      "tooth_11_pulp\n",
      "tooth_41_pulp\n",
      "tooth_45_pulp\n",
      "tooth_32_pulp\n",
      "tooth_44_pulp\n",
      "570482P525335_1065290448-cbct-tooth-22_decimated\n",
      "570482P525335_1199438376-cbct-tooth-44_decimated\n",
      "570482P525335_1255632839-cbct-tooth-43_decimated\n",
      "570482P525335_1551377314-cbct-tooth-11_decimated\n",
      "570482P525335_171560756-cbct-tooth-26_decimated\n",
      "570482P525335_1783155005-cbct-tooth-32_decimated\n",
      "570482P525335_2145229450-cbct-tooth-45_decimated\n",
      "570482P525335_2260991788-cbct-tooth-12_decimated\n",
      "570482P525335_2595259634-cbct-tooth-36_decimated\n",
      "570482P525335_2714296496-cbct-tooth-15_decimated\n",
      "570482P525335_2822695749-cbct-tooth-25_decimated\n",
      "570482P525335_3158408908-cbct-tooth-14_decimated\n",
      "570482P525335_3176222179-cbct-tooth-46_decimated\n",
      "570482P525335_3256207275-cbct-tooth-21_decimated\n",
      "570482P525335_3280697825-cbct-tooth-47_decimated\n",
      "570482P525335_3336208435-cbct-tooth-41_decimated\n",
      "570482P525335_3336308184-cbct-tooth-23_decimated\n",
      "570482P525335_3400896014-cbct-tooth-24_decimated\n",
      "570482P525335_3460600270-cbct-tooth-33_decimated\n",
      "570482P525335_3752039536-cbct-tooth-31_decimated\n",
      "570482P525335_3759384863-cbct-tooth-13_decimated\n",
      "570482P525335_3812458340-cbct-tooth-42_decimated\n",
      "570482P525335_3938095400-cbct-tooth-16_decimated\n",
      "570482P525335_3975787091-cbct-tooth-17_decimated\n",
      "570482P525335_4110648442-cbct-tooth-48_decimated\n",
      "570482P525335_4131659107-cbct-tooth-37_decimated\n",
      "570482P525335_4222114421-cbct-tooth-18_decimated\n",
      "570482P525335_73143638-cbct-tooth-34_decimated\n",
      "570482P525335_904235898-cbct-tooth-27_decimated\n",
      "one case sucessfully converted\n"
     ]
    },
    {
     "name": "stderr",
     "output_type": "stream",
     "text": [
      " 51%|#####1    | 122/238 [47:14<4:53:53, 152.01s/it]"
     ]
    },
    {
     "name": "stdout",
     "output_type": "stream",
     "text": [
      "./temp_unzip\\570555_volumes\n",
      "./temp_unzip\\570555_segmentations\n",
      "('1',)\n",
      "tooth_17_pulp\n",
      "tooth_18_pulp\n",
      "tooth_47_pulp\n",
      "tooth_48_pulp\n",
      "570555P524841_2115554531-cbct-tooth-47_decimated\n",
      "570555P524841_2427385333-cbct-tooth-18_decimated\n",
      "570555P524841_2980190457-cbct-tooth-17_decimated\n",
      "570555P524841_3762315479-cbct-tooth-48_decimated\n",
      "one case sucessfully converted\n"
     ]
    },
    {
     "name": "stderr",
     "output_type": "stream",
     "text": [
      " 52%|#####1    | 123/238 [48:05<3:53:23, 121.77s/it]"
     ]
    },
    {
     "name": "stdout",
     "output_type": "stream",
     "text": [
      "./temp_unzip\\571305_volumes\n",
      "./temp_unzip\\571305_segmentations\n",
      "('1',)\n",
      "tooth_37_pulp\n",
      "tooth_38_pulp\n",
      "571305P524594_3206197462-cbct-tooth-37_decimated\n",
      "571305P524594_3860836752-cbct-tooth-38_decimated\n",
      "one case sucessfully converted\n"
     ]
    },
    {
     "name": "stderr",
     "output_type": "stream",
     "text": [
      " 52%|#####2    | 124/238 [48:34<2:58:26, 93.92s/it] "
     ]
    },
    {
     "name": "stdout",
     "output_type": "stream",
     "text": [
      "./temp_unzip\\571326_volumes\n",
      "./temp_unzip\\571326_segmentations\n",
      "('1',)\n",
      "tooth_47_pulp\n",
      "tooth_16_pulp\n",
      "tooth_18_pulp\n",
      "571326P524444_1257030071-cbct-tooth-18_decimated\n",
      "571326P524444_4140979504-cbct-tooth-47_decimated\n",
      "571326P524444_461163458-cbct-tooth-16_decimated\n",
      "one case sucessfully converted\n"
     ]
    },
    {
     "name": "stderr",
     "output_type": "stream",
     "text": [
      " 53%|#####2    | 125/238 [49:12<2:25:32, 77.28s/it]"
     ]
    },
    {
     "name": "stdout",
     "output_type": "stream",
     "text": [
      "./temp_unzip\\571502_volumes\n",
      "./temp_unzip\\571502_segmentations\n",
      "('1',)\n",
      "tooth_48_pulp\n",
      "tooth_18_pulp\n",
      "tooth_46_pulp\n",
      "tooth_17_pulp\n",
      "tooth_16_pulp\n",
      "tooth_47_pulp\n",
      "571502P524766_571502_1914660849-cbct-tooth-17_decimated\n",
      "571502P524766_571502_230707223-cbct-tooth-48_decimated\n",
      "571502P524766_571502_286050302-cbct-tooth-16_decimated\n",
      "571502P524766_571502_364756494-cbct-tooth-18_decimated\n",
      "571502P524766_571502_4113202277-cbct-tooth-47_decimated\n",
      "571502P524766_571502_4270929740-cbct-tooth-46_decimated\n",
      "one case sucessfully converted\n"
     ]
    },
    {
     "name": "stderr",
     "output_type": "stream",
     "text": [
      " 53%|#####2    | 126/238 [50:49<2:34:59, 83.03s/it]"
     ]
    },
    {
     "name": "stdout",
     "output_type": "stream",
     "text": [
      "./temp_unzip\\572232_volumes\n",
      "./temp_unzip\\572232_segmentations\n",
      "('1',)\n",
      "tooth_32_pulp\n",
      "tooth_24_pulp\n",
      "tooth_26_pulp\n",
      "tooth_15_pulp\n",
      "tooth_16_pulp\n",
      "tooth_21_pulp\n",
      "tooth_23_pulp\n",
      "tooth_45_pulp\n",
      "tooth_25_pulp\n",
      "tooth_14_pulp\n",
      "tooth_34_pulp\n",
      "tooth_36_pulp\n",
      "tooth_12_pulp\n",
      "tooth_35_pulp\n",
      "tooth_22_pulp\n",
      "tooth_33_pulp\n",
      "tooth_13_pulp\n",
      "tooth_41_pulp\n",
      "tooth_46_pulp\n",
      "tooth_11_pulp\n",
      "572232P524543_1183970538-cbct-tooth-15_decimated\n",
      "572232P524543_1208724055-cbct-tooth-32_decimated\n",
      "572232P524543_1226040455-cbct-tooth-14_decimated\n",
      "572232P524543_1522910679-cbct-tooth-41_decimated\n",
      "572232P524543_1570399597-cbct-tooth-22_decimated\n",
      "572232P524543_1598100969-cbct-tooth-46_decimated\n",
      "572232P524543_1860715515-cbct-tooth-45_decimated\n",
      "572232P524543_1921153733-cbct-tooth-33_decimated\n",
      "572232P524543_233308787-cbct-tooth-23_decimated\n",
      "572232P524543_2413219569-cbct-tooth-36_decimated\n",
      "572232P524543_2427717963-cbct-tooth-11_decimated\n",
      "572232P524543_2557751164-cbct-tooth-35_decimated\n",
      "572232P524543_2602940666-cbct-tooth-25_decimated\n",
      "572232P524543_2893785520-cbct-tooth-21_decimated\n",
      "572232P524543_3038100146-cbct-tooth-26_decimated\n",
      "572232P524543_3776473322-cbct-tooth-34_decimated\n",
      "572232P524543_3828558192-cbct-tooth-16_decimated\n",
      "572232P524543_4031965451-cbct-tooth-12_decimated\n",
      "572232P524543_446825774-cbct-tooth-13_decimated\n",
      "572232P524543_635035269-cbct-tooth-24_decimated\n",
      "one case sucessfully converted\n"
     ]
    },
    {
     "name": "stderr",
     "output_type": "stream",
     "text": [
      " 53%|#####3    | 127/238 [54:43<3:57:27, 128.36s/it]"
     ]
    },
    {
     "name": "stdout",
     "output_type": "stream",
     "text": [
      "./temp_unzip\\572268_volumes\n",
      "./temp_unzip\\572268_segmentations\n",
      "('1',)\n",
      "tooth_27_pulp\n",
      "tooth_38_pulp\n",
      "tooth_26_pulp\n",
      "tooth_25_pulp\n",
      "tooth_36_pulp\n",
      "tooth_45_pulp\n",
      "tooth_28_pulp\n",
      "tooth_37_pulp\n",
      "572268P524525_1532756037-cbct-tooth-25_decimated\n",
      "572268P524525_2529322015-cbct-tooth-28_decimated\n",
      "572268P524525_2691285432-cbct-tooth-36_decimated\n",
      "572268P524525_2885454398-cbct-tooth-37_decimated\n",
      "572268P524525_3583936512-cbct-tooth-45_decimated\n",
      "572268P524525_3728612912-cbct-tooth-38_decimated\n",
      "572268P524525_704416297-cbct-tooth-27_decimated\n",
      "572268P524525_757939776-cbct-tooth-26_decimated\n",
      "one case sucessfully converted\n"
     ]
    },
    {
     "name": "stderr",
     "output_type": "stream",
     "text": [
      " 54%|#####3    | 128/238 [56:21<3:38:46, 119.33s/it]"
     ]
    },
    {
     "name": "stdout",
     "output_type": "stream",
     "text": [
      "./temp_unzip\\572276_volumes\n",
      "./temp_unzip\\572276_segmentations\n",
      "('1',)\n",
      "tooth_22_pulp\n",
      "tooth_24_pulp\n",
      "tooth_26_pulp\n",
      "tooth_11_pulp\n",
      "tooth_12_pulp\n",
      "tooth_23_pulp\n",
      "tooth_25_pulp\n",
      "tooth_21_pulp\n",
      "tooth_34_pulp\n",
      "572276P524840_1126263730-cbct-tooth-23_decimated\n",
      "572276P524840_2004530181-cbct-tooth-24_decimated\n",
      "572276P524840_2399189658-cbct-tooth-22_decimated\n",
      "572276P524840_3257375451-cbct-tooth-34_decimated\n",
      "572276P524840_3267046650-cbct-tooth-11_decimated\n",
      "572276P524840_3492086941-cbct-tooth-26_decimated\n",
      "572276P524840_3893035032-cbct-tooth-12_decimated\n",
      "572276P524840_4151308380-cbct-tooth-21_decimated\n",
      "572276P524840_871236176-cbct-tooth-25_decimated\n",
      "one case sucessfully converted\n"
     ]
    },
    {
     "name": "stderr",
     "output_type": "stream",
     "text": [
      " 54%|#####4    | 129/238 [58:06<3:28:58, 115.03s/it]"
     ]
    },
    {
     "name": "stdout",
     "output_type": "stream",
     "text": [
      "./temp_unzip\\572836_volumes\n",
      "./temp_unzip\\572836_segmentations\n",
      "('1',)\n",
      "tooth_23_pulp\n",
      "tooth_11_pulp\n",
      "tooth_13_pulp\n",
      "tooth_24_pulp\n",
      "tooth_28_pulp\n",
      "tooth_22_pulp\n",
      "tooth_14_pulp\n",
      "tooth_26_pulp\n",
      "tooth_27_pulp\n",
      "tooth_47_pulp\n",
      "tooth_17_pulp\n",
      "tooth_15_pulp\n",
      "tooth_21_pulp\n",
      "tooth_18_pulp\n",
      "tooth_12_pulp\n",
      "tooth_16_pulp\n",
      "tooth_25_pulp\n",
      "572836P527477_1045889958-cbct-tooth-22_decimated\n",
      "572836P527477_1645920724-cbct-tooth-21_decimated\n",
      "572836P527477_1835151548-cbct-tooth-47_decimated\n",
      "572836P527477_1894638003-cbct-tooth-12_decimated\n",
      "572836P527477_2002350321-cbct-tooth-15_decimated\n",
      "572836P527477_2150434920-cbct-tooth-11_decimated\n",
      "572836P527477_2346723589-cbct-tooth-26_decimated\n",
      "572836P527477_2895054890-cbct-tooth-23_decimated\n",
      "572836P527477_2915510796-cbct-tooth-16_decimated\n",
      "572836P527477_3577484609-cbct-tooth-24_decimated\n",
      "572836P527477_3757060235-cbct-tooth-13_decimated\n",
      "572836P527477_3775128143-cbct-tooth-28_decimated\n",
      "572836P527477_3815204707-cbct-tooth-27_decimated\n",
      "572836P527477_4102682305-cbct-tooth-18_decimated\n",
      "572836P527477_4103765681-cbct-tooth-14_decimated\n",
      "572836P527477_4158987635-cbct-tooth-17_decimated\n",
      "572836P527477_739076763-cbct-tooth-25_decimated\n",
      "one case sucessfully converted\n"
     ]
    },
    {
     "name": "stderr",
     "output_type": "stream",
     "text": [
      " 55%|#####4    | 130/238 [1:01:37<4:19:00, 143.89s/it]"
     ]
    },
    {
     "name": "stdout",
     "output_type": "stream",
     "text": [
      "./temp_unzip\\572901_volumes\n",
      "./temp_unzip\\572901_segmentations\n",
      "('1',)\n",
      "tooth_24_pulp\n",
      "tooth_36_pulp\n",
      "tooth_11_pulp\n",
      "tooth_23_pulp\n",
      "tooth_14_pulp\n",
      "tooth_31_pulp\n",
      "tooth_21_pulp\n",
      "tooth_15_pulp\n",
      "tooth_13_pulp\n",
      "tooth_32_pulp\n",
      "tooth_12_pulp\n",
      "tooth_22_pulp\n",
      "tooth_25_pulp\n",
      "572901P527185_572901_146497656-cbct-tooth-12_decimated\n",
      "572901P527185_572901_1490525674-cbct-tooth-13_decimated\n",
      "572901P527185_572901_1775522896-cbct-tooth-31_decimated\n",
      "572901P527185_572901_207340192-cbct-tooth-22_decimated\n",
      "572901P527185_572901_2156890352-cbct-tooth-32_decimated\n",
      "572901P527185_572901_2409075447-cbct-tooth-24_decimated\n",
      "572901P527185_572901_2617013788-cbct-tooth-21_decimated\n",
      "572901P527185_572901_3135101834-cbct-tooth-11_decimated\n",
      "572901P527185_572901_3627805308-cbct-tooth-23_decimated\n",
      "572901P527185_572901_3873325885-cbct-tooth-15_decimated\n",
      "572901P527185_572901_3986310785-cbct-tooth-14_decimated\n",
      "572901P527185_572901_589656951-cbct-tooth-25_decimated\n",
      "572901P527185_572901_817540534-cbct-tooth-36_decimated\n",
      "one case sucessfully converted\n"
     ]
    },
    {
     "name": "stderr",
     "output_type": "stream",
     "text": [
      " 55%|#####5    | 131/238 [1:04:13<4:23:08, 147.55s/it]"
     ]
    },
    {
     "name": "stdout",
     "output_type": "stream",
     "text": [
      "./temp_unzip\\573064_volumes\n",
      "./temp_unzip\\573064_segmentations\n",
      "('1',)\n",
      "tooth_38_pulp\n",
      "tooth_37_pulp\n",
      "tooth_27_pulp\n",
      "tooth_28_pulp\n",
      "tooth_25_pulp\n",
      "tooth_35_pulp\n",
      "573064P524810_1756736070-cbct-tooth-27_decimated\n",
      "573064P524810_215214999-cbct-tooth-37_decimated\n",
      "573064P524810_2904031640-cbct-tooth-28_decimated\n",
      "573064P524810_3596494926-cbct-tooth-35_decimated\n",
      "573064P524810_3758052407-cbct-tooth-38_decimated\n",
      "573064P524810_3777881016-cbct-tooth-25_decimated\n",
      "one case sucessfully converted\n"
     ]
    },
    {
     "name": "stderr",
     "output_type": "stream",
     "text": [
      " 55%|#####5    | 132/238 [1:05:25<3:40:33, 124.84s/it]"
     ]
    },
    {
     "name": "stdout",
     "output_type": "stream",
     "text": [
      "./temp_unzip\\573280_volumes\n",
      "./temp_unzip\\573280_segmentations\n",
      "('1',)\n",
      "tooth_22_pulp\n",
      "tooth_31_pulp\n",
      "tooth_16_pulp\n",
      "tooth_28_pulp\n",
      "tooth_47_pulp\n",
      "tooth_32_pulp\n",
      "tooth_34_pulp\n",
      "tooth_45_pulp\n",
      "tooth_46_pulp\n",
      "tooth_18_pulp\n",
      "tooth_44_pulp\n",
      "tooth_33_pulp\n",
      "tooth_43_pulp\n",
      "tooth_42_pulp\n",
      "tooth_35_pulp\n",
      "tooth_48_pulp\n",
      "tooth_27_pulp\n",
      "tooth_17_pulp\n",
      "tooth_13_pulp\n",
      "tooth_37_pulp\n",
      "573280P525193_1248974675-cbct-tooth-48_decimated\n",
      "573280P525193_1274993488-cbct-tooth-42_decimated\n",
      "573280P525193_1517414674-cbct-tooth-46_decimated\n",
      "573280P525193_1749118901-cbct-tooth-44_decimated\n",
      "573280P525193_202641481-cbct-tooth-47_decimated\n",
      "573280P525193_2195540071-cbct-tooth-13_decimated\n",
      "573280P525193_2325024022-cbct-tooth-33_decimated\n",
      "573280P525193_2386148838-cbct-tooth-43_decimated\n",
      "573280P525193_2545468512-cbct-tooth-28_decimated\n",
      "573280P525193_2872883581-cbct-tooth-37_decimated\n",
      "573280P525193_3263862321-cbct-tooth-45_decimated\n",
      "573280P525193_3430734543-cbct-tooth-34_decimated\n",
      "573280P525193_3473578105-cbct-tooth-27_decimated\n",
      "573280P525193_3554034470-cbct-tooth-18_decimated\n",
      "573280P525193_3573803292-cbct-tooth-31_decimated\n",
      "573280P525193_3599899052-cbct-tooth-32_decimated\n",
      "573280P525193_3685093003-cbct-tooth-22_decimated\n",
      "573280P525193_3801425651-cbct-tooth-17_decimated\n",
      "573280P525193_405252376-cbct-tooth-16_decimated\n",
      "573280P525193_885097865-cbct-tooth-35_decimated\n",
      "one case sucessfully converted\n"
     ]
    },
    {
     "name": "stderr",
     "output_type": "stream",
     "text": [
      " 56%|#####5    | 133/238 [1:09:57<4:55:22, 168.78s/it]"
     ]
    },
    {
     "name": "stdout",
     "output_type": "stream",
     "text": [
      "./temp_unzip\\573401_volumes\n",
      "./temp_unzip\\573401_segmentations\n",
      "('1',)\n",
      "tooth_45_pulp\n",
      "tooth_12_pulp\n",
      "tooth_13_pulp\n",
      "tooth_44_pulp\n",
      "tooth_35_pulp\n",
      "tooth_46_pulp\n",
      "tooth_25_pulp\n",
      "tooth_15_pulp\n",
      "tooth_22_pulp\n",
      "tooth_33_pulp\n",
      "tooth_23_pulp\n",
      "tooth_42_pulp\n",
      "tooth_43_pulp\n",
      "tooth_26_pulp\n",
      "tooth_36_pulp\n",
      "tooth_41_pulp\n",
      "tooth_34_pulp\n",
      "tooth_31_pulp\n",
      "tooth_24_pulp\n",
      "tooth_11_pulp\n",
      "tooth_21_pulp\n",
      "tooth_32_pulp\n",
      "tooth_14_pulp\n",
      "573401P523869_573401_1121235352-cbct-tooth-15_decimated\n",
      "573401P523869_573401_1148529925-cbct-tooth-21_decimated\n",
      "573401P523869_573401_1251111044-cbct-tooth-43_decimated\n",
      "573401P523869_573401_1291848924-cbct-tooth-11_decimated\n",
      "573401P523869_573401_1292756107-cbct-tooth-35_decimated\n",
      "573401P523869_573401_1416582851-cbct-tooth-26_decimated\n",
      "573401P523869_573401_1507763126-cbct-tooth-46_decimated\n",
      "573401P523869_573401_1548220912-cbct-tooth-33_decimated\n",
      "573401P523869_573401_155088351-cbct-tooth-14_decimated\n",
      "573401P523869_573401_2040674066-cbct-tooth-36_decimated\n",
      "573401P523869_573401_2385112430-cbct-tooth-32_decimated\n",
      "573401P523869_573401_2517654692-cbct-tooth-13_decimated\n",
      "573401P523869_573401_2548036291-cbct-tooth-45_decimated\n",
      "573401P523869_573401_2597931498-cbct-tooth-23_decimated\n",
      "573401P523869_573401_2873724584-cbct-tooth-24_decimated\n",
      "573401P523869_573401_2882153464-cbct-tooth-34_decimated\n",
      "573401P523869_573401_2933859430-cbct-tooth-41_decimated\n",
      "573401P523869_573401_2962646764-cbct-tooth-42_decimated\n",
      "573401P523869_573401_3134593627-cbct-tooth-22_decimated\n",
      "573401P523869_573401_3615482111-cbct-tooth-31_decimated\n",
      "573401P523869_573401_3828690835-cbct-tooth-25_decimated\n",
      "573401P523869_573401_55157657-cbct-tooth-44_decimated\n",
      "573401P523869_573401_776840894-cbct-tooth-12_decimated\n",
      "one case sucessfully converted\n"
     ]
    },
    {
     "name": "stderr",
     "output_type": "stream",
     "text": [
      " 56%|#####6    | 134/238 [1:14:42<5:53:21, 203.86s/it]"
     ]
    },
    {
     "name": "stdout",
     "output_type": "stream",
     "text": [
      "./temp_unzip\\573766_volumes\n",
      "./temp_unzip\\573766_segmentations\n",
      "('1',)\n",
      "tooth_43_pulp\n",
      "tooth_28_pulp\n",
      "tooth_15_pulp\n",
      "tooth_21_pulp\n",
      "tooth_27_pulp\n",
      "tooth_34_pulp\n",
      "tooth_13_pulp\n",
      "tooth_42_pulp\n",
      "tooth_12_pulp\n",
      "tooth_37_pulp\n",
      "tooth_14_pulp\n",
      "tooth_36_pulp\n",
      "tooth_32_pulp\n",
      "tooth_33_pulp\n",
      "tooth_11_pulp\n",
      "tooth_41_pulp\n",
      "tooth_16_pulp\n",
      "tooth_22_pulp\n",
      "tooth_35_pulp\n",
      "tooth_23_pulp\n",
      "tooth_46_pulp\n",
      "tooth_26_pulp\n",
      "tooth_25_pulp\n",
      "tooth_31_pulp\n",
      "tooth_17_pulp\n",
      "tooth_47_pulp\n",
      "tooth_45_pulp\n",
      "tooth_48_pulp\n",
      "tooth_44_pulp\n",
      "tooth_18_pulp\n",
      "tooth_24_pulp\n",
      "573766P524851_1147510484-cbct-tooth-45_decimated\n",
      "573766P524851_1364264761-cbct-tooth-17_decimated\n",
      "573766P524851_1573079346-cbct-tooth-47_decimated\n",
      "573766P524851_1605277631-cbct-tooth-21_decimated\n",
      "573766P524851_1738199516-cbct-tooth-14_decimated\n",
      "573766P524851_176007562-cbct-tooth-22_decimated\n",
      "573766P524851_1760936929-cbct-tooth-15_decimated\n",
      "573766P524851_1879653514-cbct-tooth-28_decimated\n",
      "573766P524851_2127311805-cbct-tooth-16_decimated\n",
      "573766P524851_214642315-cbct-tooth-12_decimated\n",
      "573766P524851_2529099003-cbct-tooth-37_decimated\n",
      "573766P524851_2598251850-cbct-tooth-13_decimated\n",
      "573766P524851_2828059905-cbct-tooth-18_decimated\n",
      "573766P524851_3002213483-cbct-tooth-48_decimated\n",
      "573766P524851_3034410522-cbct-tooth-44_decimated\n",
      "573766P524851_3373372808-cbct-tooth-41_decimated\n",
      "573766P524851_339747528-cbct-tooth-24_decimated\n",
      "573766P524851_3404361262-cbct-tooth-34_decimated\n",
      "573766P524851_3467436038-cbct-tooth-31_decimated\n",
      "573766P524851_3878050721-cbct-tooth-46_decimated\n",
      "573766P524851_4061787718-cbct-tooth-42_decimated\n",
      "573766P524851_4063426450-cbct-tooth-27_decimated\n",
      "573766P524851_4250338495-cbct-tooth-36_decimated\n",
      "573766P524851_441625147-cbct-tooth-25_decimated\n",
      "573766P524851_486173201-cbct-tooth-43_decimated\n",
      "573766P524851_634021525-cbct-tooth-35_decimated\n",
      "573766P524851_681706757-cbct-tooth-26_decimated\n",
      "573766P524851_777760341-cbct-tooth-11_decimated\n",
      "573766P524851_815342693-cbct-tooth-23_decimated\n",
      "573766P524851_925474536-cbct-tooth-32_decimated\n",
      "573766P524851_934972151-cbct-tooth-33_decimated\n",
      "one case sucessfully converted\n"
     ]
    },
    {
     "name": "stderr",
     "output_type": "stream",
     "text": [
      " 57%|#####6    | 135/238 [1:21:11<7:25:14, 259.36s/it]"
     ]
    },
    {
     "name": "stdout",
     "output_type": "stream",
     "text": [
      "./temp_unzip\\574033_volumes\n",
      "./temp_unzip\\574033_segmentations\n",
      "('1',)\n",
      "tooth_26_pulp\n",
      "tooth_37_pulp\n",
      "tooth_27_pulp\n",
      "tooth_36_pulp\n",
      "tooth_38_pulp\n",
      "574033P525252_1133782640-cbct-tooth-36_decimated\n",
      "574033P525252_123759918-cbct-tooth-37_decimated\n",
      "574033P525252_1837005679-cbct-tooth-38_decimated\n",
      "574033P525252_2753203802-cbct-tooth-27_decimated\n",
      "574033P525252_383095555-cbct-tooth-26_decimated\n",
      "one case sucessfully converted\n"
     ]
    },
    {
     "name": "stderr",
     "output_type": "stream",
     "text": [
      " 57%|#####7    | 136/238 [1:22:14<5:40:51, 200.51s/it]"
     ]
    },
    {
     "name": "stdout",
     "output_type": "stream",
     "text": [
      "./temp_unzip\\574156_volumes\n",
      "./temp_unzip\\574156_segmentations\n",
      "('1',)\n",
      "tooth_26_pulp\n",
      "tooth_36_pulp\n",
      "tooth_37_pulp\n",
      "tooth_38_pulp\n",
      "574156P523942_574156_2620834967-cbct-tooth-37_decimated\n",
      "574156P523942_574156_3916439039-cbct-tooth-38_decimated\n",
      "574156P523942_574156_3936507593-cbct-tooth-26_decimated\n",
      "574156P523942_574156_747967440-cbct-tooth-36_decimated\n",
      "one case sucessfully converted\n"
     ]
    },
    {
     "name": "stderr",
     "output_type": "stream",
     "text": [
      " 58%|#####7    | 137/238 [1:23:05<4:22:01, 155.66s/it]"
     ]
    },
    {
     "name": "stdout",
     "output_type": "stream",
     "text": [
      "./temp_unzip\\574161_volumes\n",
      "./temp_unzip\\574161_segmentations\n",
      "('1',)\n",
      "tooth_16_pulp\n",
      "tooth_47_pulp\n",
      "tooth_46_pulp\n",
      "tooth_48_pulp\n",
      "574161P524346_574161_1477103465-cbct-tooth-16_decimated\n",
      "574161P524346_574161_2264019256-cbct-tooth-46_decimated\n",
      "574161P524346_574161_3191843701-cbct-tooth-47_decimated\n",
      "574161P524346_574161_656881001-cbct-tooth-48_decimated\n",
      "one case sucessfully converted\n"
     ]
    },
    {
     "name": "stderr",
     "output_type": "stream",
     "text": [
      " 58%|#####7    | 138/238 [1:23:56<3:26:55, 124.15s/it]"
     ]
    },
    {
     "name": "stdout",
     "output_type": "stream",
     "text": [
      "./temp_unzip\\574188_volumes\n",
      "./temp_unzip\\574188_segmentations\n",
      "('1',)\n",
      "tooth_22_pulp\n",
      "tooth_44_pulp\n",
      "tooth_14_pulp\n",
      "tooth_21_pulp\n",
      "tooth_42_pulp\n",
      "tooth_31_pulp\n",
      "tooth_12_pulp\n",
      "tooth_43_pulp\n",
      "tooth_32_pulp\n",
      "tooth_41_pulp\n",
      "tooth_13_pulp\n",
      "tooth_11_pulp\n",
      "574188P527737_1029734334-cbct-tooth-31_decimated\n",
      "574188P527737_1767506244-cbct-tooth-44_decimated\n",
      "574188P527737_245193127-cbct-tooth-43_decimated\n",
      "574188P527737_2659810997-cbct-tooth-13_decimated\n",
      "574188P527737_2818971606-cbct-tooth-21_decimated\n",
      "574188P527737_3969679654-cbct-tooth-22_decimated\n",
      "574188P527737_399478723-cbct-tooth-42_decimated\n",
      "574188P527737_44231759-cbct-tooth-12_decimated\n",
      "574188P527737_472076213-cbct-tooth-14_decimated\n",
      "574188P527737_623600084-cbct-tooth-11_decimated\n",
      "574188P527737_683884780-cbct-tooth-32_decimated\n",
      "574188P527737_721443274-cbct-tooth-41_decimated\n",
      "one case sucessfully converted\n"
     ]
    },
    {
     "name": "stderr",
     "output_type": "stream",
     "text": [
      " 58%|#####8    | 139/238 [1:26:18<3:33:51, 129.61s/it]"
     ]
    },
    {
     "name": "stdout",
     "output_type": "stream",
     "text": [
      "./temp_unzip\\574212_volumes\n",
      "./temp_unzip\\574212_segmentations\n",
      "('1',)\n",
      "tooth_36_pulp\n",
      "tooth_26_pulp\n",
      "tooth_37_pulp\n",
      "tooth_27_pulp\n",
      "tooth_38_pulp\n",
      "574212P524206_574212_1069700541-cbct-tooth-36_decimated\n",
      "574212P524206_574212_3103055734-cbct-tooth-26_decimated\n",
      "574212P524206_574212_3996462841-cbct-tooth-27_decimated\n",
      "574212P524206_574212_4265377326-cbct-tooth-37_decimated\n",
      "574212P524206_574212_571599719-cbct-tooth-38_decimated\n",
      "one case sucessfully converted\n"
     ]
    },
    {
     "name": "stderr",
     "output_type": "stream",
     "text": [
      " 59%|#####8    | 140/238 [1:27:24<3:00:16, 110.37s/it]"
     ]
    },
    {
     "name": "stdout",
     "output_type": "stream",
     "text": [
      "./temp_unzip\\574441_volumes\n",
      "./temp_unzip\\574441_segmentations\n",
      "('1',)\n",
      "tooth_36_pulp\n",
      "tooth_26_pulp\n",
      "tooth_37_pulp\n",
      "tooth_38_pulp\n",
      "574441P524324_2406531434-cbct-tooth-26_decimated\n",
      "574441P524324_405006170-cbct-tooth-36_decimated\n",
      "574441P524324_4254618165-cbct-tooth-37_decimated\n",
      "574441P524324_652684094-cbct-tooth-38_decimated\n",
      "one case sucessfully converted\n"
     ]
    },
    {
     "name": "stderr",
     "output_type": "stream",
     "text": [
      " 59%|#####9    | 141/238 [1:28:15<2:29:35, 92.53s/it] "
     ]
    },
    {
     "name": "stdout",
     "output_type": "stream",
     "text": [
      "./temp_unzip\\574443_volumes\n",
      "./temp_unzip\\574443_segmentations\n",
      "('1',)\n",
      "tooth_36_pulp\n",
      "tooth_34_pulp\n",
      "tooth_47_pulp\n",
      "tooth_42_pulp\n",
      "tooth_46_pulp\n",
      "tooth_41_pulp\n",
      "tooth_43_pulp\n",
      "tooth_45_pulp\n",
      "tooth_32_pulp\n",
      "tooth_33_pulp\n",
      "tooth_37_pulp\n",
      "tooth_31_pulp\n",
      "tooth_44_pulp\n",
      "tooth_38_pulp\n",
      "tooth_35_pulp\n",
      "574443P524411_1057237908-cbct-tooth-36_decimated\n",
      "574443P524411_1543839204-cbct-tooth-34_decimated\n",
      "574443P524411_1756471228-cbct-tooth-32_decimated\n",
      "574443P524411_1961533706-cbct-tooth-37_decimated\n",
      "574443P524411_2091092383-cbct-tooth-33_decimated\n",
      "574443P524411_2124466601-cbct-tooth-31_decimated\n",
      "574443P524411_2477357779-cbct-tooth-44_decimated\n",
      "574443P524411_2750447451-cbct-tooth-38_decimated\n",
      "574443P524411_3049911784-cbct-tooth-45_decimated\n",
      "574443P524411_3169318834-cbct-tooth-43_decimated\n",
      "574443P524411_3267738852-cbct-tooth-46_decimated\n",
      "574443P524411_4108541558-cbct-tooth-47_decimated\n",
      "574443P524411_496235248-cbct-tooth-35_decimated\n",
      "574443P524411_512638321-cbct-tooth-41_decimated\n",
      "574443P524411_617692939-cbct-tooth-42_decimated\n",
      "one case sucessfully converted\n"
     ]
    },
    {
     "name": "stderr",
     "output_type": "stream",
     "text": [
      " 60%|#####9    | 142/238 [1:31:18<3:11:30, 119.69s/it]"
     ]
    },
    {
     "name": "stdout",
     "output_type": "stream",
     "text": [
      "./temp_unzip\\574449_volumes\n",
      "./temp_unzip\\574449_segmentations\n",
      "('1',)\n",
      "tooth_26_pulp\n",
      "tooth_37_pulp\n",
      "tooth_36_pulp\n",
      "tooth_38_pulp\n",
      "574449P524682_574449_3135478226-cbct-tooth-36_decimated\n",
      "574449P524682_574449_331541934-cbct-tooth-37_decimated\n",
      "574449P524682_574449_3657500073-cbct-tooth-26_decimated\n",
      "574449P524682_574449_3812026390-cbct-tooth-38_decimated\n",
      "one case sucessfully converted\n"
     ]
    },
    {
     "name": "stderr",
     "output_type": "stream",
     "text": [
      " 60%|######    | 143/238 [1:32:07<2:36:03, 98.56s/it] "
     ]
    },
    {
     "name": "stdout",
     "output_type": "stream",
     "text": [
      "./temp_unzip\\574494_volumes\n",
      "./temp_unzip\\574494_segmentations\n",
      "('1',)\n",
      "tooth_38_pulp\n",
      "tooth_27_pulp\n",
      "tooth_36_pulp\n",
      "tooth_26_pulp\n",
      "tooth_25_pulp\n",
      "tooth_37_pulp\n",
      "574494P524404_2541614421-cbct-tooth-27_decimated\n",
      "574494P524404_2831572553-cbct-tooth-25_decimated\n",
      "574494P524404_3054061088-cbct-tooth-38_decimated\n",
      "574494P524404_3305175380-cbct-tooth-26_decimated\n",
      "574494P524404_3802036304-cbct-tooth-36_decimated\n",
      "574494P524404_560683674-cbct-tooth-37_decimated\n",
      "one case sucessfully converted\n"
     ]
    },
    {
     "name": "stderr",
     "output_type": "stream",
     "text": [
      " 61%|######    | 144/238 [1:33:19<2:22:10, 90.75s/it]"
     ]
    },
    {
     "name": "stdout",
     "output_type": "stream",
     "text": [
      "./temp_unzip\\574613_volumes\n",
      "./temp_unzip\\574613_segmentations\n",
      "('1',)\n",
      "tooth_17_pulp\n",
      "tooth_16_pulp\n",
      "tooth_14_pulp\n",
      "tooth_12_pulp\n",
      "tooth_13_pulp\n",
      "tooth_15_pulp\n",
      "574613P525225_574613_1611199790-cbct-tooth-14_decimated\n",
      "574613P525225_574613_1613965793-cbct-tooth-17_decimated\n",
      "574613P525225_574613_2430969359-cbct-tooth-16_decimated\n",
      "574613P525225_574613_441334592-cbct-tooth-15_decimated\n",
      "574613P525225_574613_510985951-cbct-tooth-12_decimated\n",
      "574613P525225_574613_913573139-cbct-tooth-13_decimated\n",
      "one case sucessfully converted\n"
     ]
    },
    {
     "name": "stderr",
     "output_type": "stream",
     "text": [
      " 61%|######    | 145/238 [1:34:45<2:18:12, 89.17s/it]"
     ]
    },
    {
     "name": "stdout",
     "output_type": "stream",
     "text": [
      "./temp_unzip\\574976_volumes\n",
      "./temp_unzip\\574976_segmentations\n",
      "('1',)\n",
      "tooth_38_pulp\n",
      "tooth_36_pulp\n",
      "tooth_26_pulp\n",
      "tooth_35_pulp\n",
      "tooth_27_pulp\n",
      "574976P523731_574976_1193165966-cbct-tooth-26_decimated\n",
      "574976P523731_574976_1485378315-cbct-tooth-35_decimated\n",
      "574976P523731_574976_1546683056-cbct-tooth-38_decimated\n",
      "574976P523731_574976_1742528264-cbct-tooth-36_decimated\n",
      "574976P523731_574976_3056966612-cbct-tooth-27_decimated\n",
      "one case sucessfully converted\n"
     ]
    },
    {
     "name": "stderr",
     "output_type": "stream",
     "text": [
      " 61%|######1   | 146/238 [1:36:07<2:13:25, 87.02s/it]"
     ]
    },
    {
     "name": "stdout",
     "output_type": "stream",
     "text": [
      "./temp_unzip\\575078_volumes\n",
      "./temp_unzip\\575078_segmentations\n",
      "('1',)\n",
      "tooth_38_pulp\n",
      "tooth_37_pulp\n",
      "tooth_36_pulp\n",
      "tooth_26_pulp\n",
      "575078P526874_575078_1532452246-cbct-tooth-26_decimated\n",
      "575078P526874_575078_1700094173-cbct-tooth-37_decimated\n",
      "575078P526874_575078_2196810497-cbct-tooth-38_decimated\n",
      "575078P526874_575078_3809780142-cbct-tooth-36_decimated\n",
      "one case sucessfully converted\n"
     ]
    },
    {
     "name": "stderr",
     "output_type": "stream",
     "text": [
      " 62%|######1   | 147/238 [1:36:56<1:54:50, 75.71s/it]"
     ]
    },
    {
     "name": "stdout",
     "output_type": "stream",
     "text": [
      "./temp_unzip\\575127_volumes\n",
      "./temp_unzip\\575127_segmentations\n",
      "('1',)\n",
      "tooth_26_pulp\n",
      "tooth_23_pulp\n",
      "tooth_44_pulp\n",
      "tooth_22_pulp\n",
      "tooth_16_pulp\n",
      "tooth_34_pulp\n",
      "tooth_45_pulp\n",
      "tooth_13_pulp\n",
      "tooth_14_pulp\n",
      "tooth_37_pulp\n",
      "tooth_47_pulp\n",
      "tooth_36_pulp\n",
      "tooth_43_pulp\n",
      "tooth_46_pulp\n",
      "tooth_27_pulp\n",
      "tooth_35_pulp\n",
      "tooth_32_pulp\n",
      "tooth_15_pulp\n",
      "tooth_25_pulp\n",
      "tooth_11_pulp\n",
      "tooth_24_pulp\n",
      "tooth_17_pulp\n",
      "575127P526522_575127_1087544310-cbct-tooth-43_decimated\n",
      "575127P526522_575127_1434706229-cbct-tooth-34_decimated\n",
      "575127P526522_575127_1766935779-cbct-tooth-16_decimated\n",
      "575127P526522_575127_2101095622-cbct-tooth-35_decimated\n",
      "575127P526522_575127_2196494542-cbct-tooth-17_decimated\n",
      "575127P526522_575127_2388256057-cbct-tooth-44_decimated\n",
      "575127P526522_575127_2438070230-cbct-tooth-23_decimated\n",
      "575127P526522_575127_2457551016-cbct-tooth-15_decimated\n",
      "575127P526522_575127_2764546562-cbct-tooth-27_decimated\n",
      "575127P526522_575127_30774632-cbct-tooth-11_decimated\n",
      "575127P526522_575127_3208920851-cbct-tooth-22_decimated\n",
      "575127P526522_575127_3361537565-cbct-tooth-47_decimated\n",
      "575127P526522_575127_3409661044-cbct-tooth-36_decimated\n",
      "575127P526522_575127_3437509923-cbct-tooth-24_decimated\n",
      "575127P526522_575127_36570220-cbct-tooth-26_decimated\n",
      "575127P526522_575127_379072019-cbct-tooth-37_decimated\n",
      "575127P526522_575127_3799019551-cbct-tooth-32_decimated\n",
      "575127P526522_575127_3806890911-cbct-tooth-14_decimated\n",
      "575127P526522_575127_4243182787-periapical-lesion-tooth-25-_decimated\n",
      "575127P526522_575127_4077717680-cbct-tooth-46_decimated\n",
      "575127P526522_575127_4196563186-cbct-tooth-13_decimated\n",
      "575127P526522_575127_921014553-cbct-tooth-45_decimated\n",
      "one case sucessfully converted\n"
     ]
    },
    {
     "name": "stderr",
     "output_type": "stream",
     "text": [
      " 62%|######2   | 148/238 [1:41:24<3:20:09, 133.44s/it]"
     ]
    },
    {
     "name": "stdout",
     "output_type": "stream",
     "text": [
      "./temp_unzip\\575180_volumes\n",
      "./temp_unzip\\575180_segmentations\n",
      "('1',)\n",
      "tooth_14_pulp\n",
      "tooth_44_pulp\n",
      "tooth_45_pulp\n",
      "tooth_46_pulp\n",
      "tooth_12_pulp\n",
      "tooth_43_pulp\n",
      "tooth_42_pulp\n",
      "tooth_47_pulp\n",
      "tooth_13_pulp\n",
      "tooth_16_pulp\n",
      "tooth_17_pulp\n",
      "575180P526572_575180_122885540-cbct-tooth-14_decimated\n",
      "575180P526572_575180_1248752624-cbct-tooth-46_decimated\n",
      "575180P526572_575180_985494640-cbct-tooth-16_decimated\n",
      "575180P526572_575180_245622749-cbct-tooth-45_decimated\n",
      "575180P526572_575180_2931374856-cbct-tooth-43_decimated\n",
      "575180P526572_575180_3098315920-cbct-tooth-44_decimated\n",
      "575180P526572_575180_3441464267-cbct-tooth-13_decimated\n",
      "575180P526572_575180_3754064780-cbct-tooth-47_decimated\n",
      "575180P526572_575180_4013133404-cbct-tooth-17_decimated\n",
      "575180P526572_575180_4294301110-cbct-tooth-12_decimated\n",
      "575180P526572_575180_818755328-cbct-tooth-42_decimated\n",
      "one case sucessfully converted\n"
     ]
    },
    {
     "name": "stderr",
     "output_type": "stream",
     "text": [
      " 63%|######2   | 149/238 [1:43:35<3:16:42, 132.61s/it]"
     ]
    },
    {
     "name": "stdout",
     "output_type": "stream",
     "text": [
      "./temp_unzip\\575272_volumes\n",
      "./temp_unzip\\575272_segmentations\n",
      "('1',)\n",
      "tooth_38_pulp\n",
      "tooth_37_pulp\n",
      "tooth_36_pulp\n",
      "tooth_26_pulp\n",
      "575272P525036_3290599278-cbct-tooth-37_decimated\n",
      "575272P525036_3694296484-cbct-tooth-38_decimated\n",
      "575272P525036_3531730641-cbct-tooth-26_decimated\n",
      "575272P525036_82473081-cbct-tooth-36_decimated\n",
      "one case sucessfully converted\n"
     ]
    },
    {
     "name": "stderr",
     "output_type": "stream",
     "text": [
      " 63%|######3   | 150/238 [1:44:29<2:39:55, 109.04s/it]"
     ]
    },
    {
     "name": "stdout",
     "output_type": "stream",
     "text": [
      "./temp_unzip\\575280_volumes\n",
      "./temp_unzip\\575280_segmentations\n",
      "('1',)\n",
      "tooth_26_pulp\n",
      "tooth_27_pulp\n",
      "tooth_37_pulp\n",
      "tooth_38_pulp\n",
      "tooth_36_pulp\n",
      "575280P524644_1141610009-cbct-tooth-26_decimated\n",
      "575280P524644_1348484250-cbct-tooth-37_decimated\n",
      "575280P524644_1557322636-cbct-tooth-27_decimated\n",
      "575280P524644_977672916-cbct-tooth-38_decimated\n",
      "575280P524644_980615782-cbct-tooth-36_decimated\n",
      "one case sucessfully converted\n"
     ]
    },
    {
     "name": "stderr",
     "output_type": "stream",
     "text": [
      " 63%|######3   | 151/238 [1:45:29<2:16:36, 94.22s/it] "
     ]
    },
    {
     "name": "stdout",
     "output_type": "stream",
     "text": [
      "./temp_unzip\\575336_volumes\n",
      "./temp_unzip\\575336_segmentations\n",
      "('1',)\n",
      "tooth_37_pulp\n",
      "tooth_36_pulp\n",
      "tooth_28_pulp\n",
      "tooth_38_pulp\n",
      "tooth_27_pulp\n",
      "575336P524397_1862271207-cbct-tooth-36_decimated\n",
      "575336P524397_3018834402-cbct-tooth-28_decimated\n",
      "575336P524397_3174096132-cbct-tooth-27_decimated\n",
      "575336P524397_416718319-cbct-tooth-37_decimated\n",
      "575336P524397_4257776098-cbct-tooth-38_decimated\n",
      "one case sucessfully converted\n"
     ]
    },
    {
     "name": "stderr",
     "output_type": "stream",
     "text": [
      " 64%|######3   | 152/238 [1:46:29<2:00:26, 84.03s/it]"
     ]
    },
    {
     "name": "stdout",
     "output_type": "stream",
     "text": [
      "./temp_unzip\\575367_volumes\n",
      "./temp_unzip\\575367_segmentations\n",
      "('1',)\n",
      "tooth_13_pulp\n",
      "tooth_15_pulp\n",
      "tooth_47_pulp\n",
      "tooth_46_pulp\n",
      "tooth_45_pulp\n",
      "tooth_17_pulp\n",
      "tooth_16_pulp\n",
      "tooth_18_pulp\n",
      "tooth_44_pulp\n",
      "tooth_14_pulp\n",
      "575367P524515_1204347902-cbct-tooth-45_decimated\n",
      "575367P524515_1206402560-cbct-tooth-18_decimated\n",
      "575367P524515_1360849449-cbct-tooth-15_decimated\n",
      "575367P524515_1388552900-cbct-tooth-47_decimated\n",
      "575367P524515_1749163500-cbct-tooth-46_decimated\n",
      "575367P524515_2337827030-cbct-tooth-13_decimated\n",
      "575367P524515_3724245388-cbct-tooth-14_decimated\n",
      "575367P524515_4178588881-cbct-tooth-17_decimated\n",
      "575367P524515_617911953-cbct-tooth-16_decimated\n",
      "575367P524515_939796547-cbct-tooth-44_decimated\n",
      "one case sucessfully converted\n"
     ]
    },
    {
     "name": "stderr",
     "output_type": "stream",
     "text": [
      " 64%|######4   | 153/238 [1:48:28<2:13:53, 94.51s/it]"
     ]
    },
    {
     "name": "stdout",
     "output_type": "stream",
     "text": [
      "./temp_unzip\\575370_volumes\n",
      "./temp_unzip\\575370_segmentations\n",
      "('1',)\n",
      "tooth_45_pulp\n",
      "tooth_16_pulp\n",
      "tooth_48_pulp\n",
      "575370P525459_575370_1542963875-cbct-tooth-45_decimated\n",
      "575370P525459_575370_1947289497-cbct-tooth-48_decimated\n",
      "575370P525459_575370_3569431145-cbct-tooth-16_decimated\n",
      "one case sucessfully converted\n"
     ]
    },
    {
     "name": "stderr",
     "output_type": "stream",
     "text": [
      " 65%|######4   | 154/238 [1:49:06<1:48:41, 77.64s/it]"
     ]
    },
    {
     "name": "stdout",
     "output_type": "stream",
     "text": [
      "./temp_unzip\\575412_volumes\n",
      "./temp_unzip\\575412_segmentations\n",
      "('1',)\n",
      "tooth_16_pulp\n",
      "tooth_48_pulp\n",
      "tooth_47_pulp\n",
      "tooth_46_pulp\n",
      "tooth_17_pulp\n",
      "tooth_18_pulp\n",
      "575412P524825_1537464942-cbct-tooth-48_decimated\n",
      "575412P524825_2208138170-cbct-tooth-47_decimated\n",
      "575412P524825_2533253988-cbct-tooth-18_decimated\n",
      "575412P524825_3834062785-cbct-tooth-17_decimated\n",
      "575412P524825_650959570-cbct-tooth-16_decimated\n",
      "575412P524825_671722921-cbct-tooth-46_decimated\n",
      "one case sucessfully converted\n"
     ]
    },
    {
     "name": "stderr",
     "output_type": "stream",
     "text": [
      " 65%|######5   | 155/238 [1:50:20<1:45:53, 76.55s/it]"
     ]
    },
    {
     "name": "stdout",
     "output_type": "stream",
     "text": [
      "./temp_unzip\\575468_volumes\n",
      "./temp_unzip\\575468_segmentations\n",
      "('1',)\n",
      "tooth_46_pulp\n",
      "tooth_48_pulp\n",
      "tooth_47_pulp\n",
      "575468P525671_575468_1167695295-cbct-tooth-48_decimated\n",
      "575468P525671_575468_1819873455-cbct-tooth-47_decimated\n",
      "575468P525671_575468_3856506445-cbct-tooth-46_decimated\n",
      "one case sucessfully converted\n"
     ]
    },
    {
     "name": "stderr",
     "output_type": "stream",
     "text": [
      " 66%|######5   | 156/238 [1:50:59<1:28:53, 65.05s/it]"
     ]
    },
    {
     "name": "stdout",
     "output_type": "stream",
     "text": [
      "./temp_unzip\\575480_volumes\n",
      "./temp_unzip\\575480_segmentations\n",
      "('1',)\n",
      "tooth_16_pulp\n",
      "tooth_17_pulp\n",
      "tooth_47_pulp\n",
      "tooth_18_pulp\n",
      "tooth_48_pulp\n",
      "575480P524482_575480_1293424253-cbct-tooth-48_decimated\n",
      "575480P524482_575480_2362108621-cbct-tooth-16_decimated\n",
      "575480P524482_575480_3988905704-cbct-tooth-47_decimated\n",
      "575480P524482_575480_739102252-cbct-tooth-18_decimated\n",
      "575480P524482_575480_901707958-cbct-tooth-17_decimated\n",
      "one case sucessfully converted\n"
     ]
    },
    {
     "name": "stderr",
     "output_type": "stream",
     "text": [
      " 66%|######5   | 157/238 [1:52:00<1:26:17, 63.92s/it]"
     ]
    },
    {
     "name": "stdout",
     "output_type": "stream",
     "text": [
      "./temp_unzip\\575564_volumes\n",
      "./temp_unzip\\575564_segmentations\n",
      "('1',)\n",
      "tooth_37_pulp\n",
      "tooth_36_pulp\n",
      "tooth_38_pulp\n",
      "tooth_27_pulp\n",
      "tooth_26_pulp\n",
      "575564P524004_575564_1520599807-cbct-tooth-38_decimated\n",
      "575564P524004_575564_2424295520-cbct-tooth-26_decimated\n",
      "575564P524004_575564_2573694694-cbct-tooth-27_decimated\n",
      "575564P524004_575564_797117706-cbct-tooth-36_decimated\n",
      "575564P524004_575564_850479357-cbct-tooth-37_decimated\n",
      "one case sucessfully converted\n"
     ]
    },
    {
     "name": "stderr",
     "output_type": "stream",
     "text": [
      " 66%|######6   | 158/238 [1:53:02<1:24:34, 63.43s/it]"
     ]
    },
    {
     "name": "stdout",
     "output_type": "stream",
     "text": [
      "./temp_unzip\\575683_volumes\n",
      "./temp_unzip\\575683_segmentations\n",
      "('1',)\n",
      "tooth_37_pulp\n",
      "tooth_38_pulp\n",
      "tooth_27_pulp\n",
      "tooth_28_pulp\n",
      "575683P525019_1582174928-cbct-tooth-28_decimated\n",
      "575683P525019_2287994582-cbct-tooth-27_decimated\n",
      "575683P525019_3100656562-cbct-tooth-37_decimated\n",
      "575683P525019_415812628-cbct-tooth-38_decimated\n",
      "one case sucessfully converted\n"
     ]
    },
    {
     "name": "stderr",
     "output_type": "stream",
     "text": [
      " 67%|######6   | 159/238 [1:54:01<1:21:34, 61.95s/it]"
     ]
    },
    {
     "name": "stdout",
     "output_type": "stream",
     "text": [
      "./temp_unzip\\575747_volumes\n",
      "./temp_unzip\\575747_segmentations\n",
      "('1',)\n",
      "tooth_15_pulp\n",
      "tooth_35_pulp\n",
      "tooth_43_pulp\n",
      "tooth_31_pulp\n",
      "tooth_41_pulp\n",
      "tooth_44_pulp\n",
      "tooth_42_pulp\n",
      "tooth_34_pulp\n",
      "tooth_26_pulp\n",
      "tooth_45_pulp\n",
      "tooth_22_pulp\n",
      "tooth_32_pulp\n",
      "tooth_27_pulp\n",
      "tooth_21_pulp\n",
      "tooth_17_pulp\n",
      "tooth_23_pulp\n",
      "tooth_25_pulp\n",
      "tooth_33_pulp\n",
      "tooth_24_pulp\n",
      "tooth_38_pulp\n",
      "575747P525047_2982244249-cbct-tooth-26_decimated\n",
      "575747P525047_154271094-cbct-tooth-42_decimated\n",
      "575747P525047_1740351291-cbct-tooth-32_decimated\n",
      "575747P525047_195713847-cbct-tooth-27_decimated\n",
      "575747P525047_3878591341-periapical-lesion-tooth-15-focus-0_decimated\n",
      "575747P525047_953049846-cbct-tooth-24_decimated\n",
      "575747P525047_2522660834-cbct-tooth-35_decimated\n",
      "575747P525047_2527100340-cbct-tooth-33_decimated\n",
      "575747P525047_3336742413-cbct-tooth-45_decimated\n",
      "575747P525047_2837437891-cbct-tooth-44_decimated\n",
      "575747P525047_322215878-cbct-tooth-17_decimated\n",
      "575747P525047_3234299951-cbct-tooth-25_decimated\n",
      "575747P525047_359111184-cbct-tooth-41_decimated\n",
      "575747P525047_3761774160-cbct-tooth-38_decimated\n",
      "575747P525047_3853325621-cbct-tooth-31_decimated\n",
      "575747P525047_4214025849-cbct-tooth-23_decimated\n",
      "575747P525047_434520269-cbct-tooth-43_decimated\n",
      "575747P525047_479673572-cbct-tooth-22_decimated\n",
      "575747P525047_894448861-cbct-tooth-21_decimated\n",
      "575747P525047_977602334-cbct-tooth-34_decimated\n",
      "one case sucessfully converted\n"
     ]
    },
    {
     "name": "stderr",
     "output_type": "stream",
     "text": [
      " 67%|######7   | 160/238 [1:58:07<2:32:38, 117.42s/it]"
     ]
    },
    {
     "name": "stdout",
     "output_type": "stream",
     "text": [
      "./temp_unzip\\575769_volumes\n",
      "./temp_unzip\\575769_segmentations\n",
      "('1',)\n",
      "tooth_26_pulp\n",
      "tooth_27_pulp\n",
      "tooth_35_pulp\n",
      "tooth_38_pulp\n",
      "tooth_37_pulp\n",
      "575769P524592_575769_1590949796-cbct-tooth-35_decimated\n",
      "575769P524592_575769_2018493452-cbct-tooth-38_decimated\n",
      "575769P524592_575769_2515747533-cbct-tooth-37_decimated\n",
      "575769P524592_575769_3047063754-cbct-tooth-26_decimated\n",
      "575769P524592_575769_3569379045-cbct-tooth-27_decimated\n",
      "one case sucessfully converted\n"
     ]
    },
    {
     "name": "stderr",
     "output_type": "stream",
     "text": [
      " 68%|######7   | 161/238 [1:59:09<2:09:19, 100.77s/it]"
     ]
    },
    {
     "name": "stdout",
     "output_type": "stream",
     "text": [
      "./temp_unzip\\575793_volumes\n",
      "./temp_unzip\\575793_segmentations\n",
      "('1',)\n",
      "tooth_37_pulp\n",
      "tooth_38_pulp\n",
      "575793P523996_575793_2925855609-cbct-tooth-37_decimated\n",
      "575793P523996_575793_3087497041-cbct-tooth-38_decimated\n",
      "one case sucessfully converted\n"
     ]
    },
    {
     "name": "stderr",
     "output_type": "stream",
     "text": [
      " 68%|######8   | 162/238 [1:59:40<1:40:49, 79.60s/it] "
     ]
    },
    {
     "name": "stdout",
     "output_type": "stream",
     "text": [
      "./temp_unzip\\575919_volumes\n",
      "./temp_unzip\\575919_segmentations\n",
      "('1',)\n",
      "tooth_13_pulp\n",
      "tooth_23_pulp\n",
      "tooth_12_pulp\n",
      "tooth_15_pulp\n",
      "tooth_22_pulp\n",
      "tooth_11_pulp\n",
      "tooth_21_pulp\n",
      "tooth_14_pulp\n",
      "575919P527133_575919_1092006699-cbct-tooth-23_decimated\n",
      "575919P527133_575919_1115062841-cbct-tooth-11_decimated\n",
      "575919P527133_575919_1664523167-cbct-tooth-15_decimated\n",
      "575919P527133_575919_1837198110-cbct-tooth-22_decimated\n",
      "575919P527133_575919_2554357490-cbct-tooth-14_decimated\n",
      "575919P527133_575919_2596054431-cbct-tooth-12_decimated\n",
      "575919P527133_575919_47810968-cbct-tooth-21_decimated\n",
      "575919P527133_575919_650999353-cbct-tooth-13_decimated\n",
      "one case sucessfully converted\n"
     ]
    },
    {
     "name": "stderr",
     "output_type": "stream",
     "text": [
      " 68%|######8   | 163/238 [2:01:18<1:46:27, 85.17s/it]"
     ]
    },
    {
     "name": "stdout",
     "output_type": "stream",
     "text": [
      "./temp_unzip\\575923_volumes\n",
      "./temp_unzip\\575923_segmentations\n",
      "('1',)\n",
      "tooth_48_pulp\n",
      "tooth_47_pulp\n",
      "tooth_46_pulp\n",
      "tooth_17_pulp\n",
      "tooth_18_pulp\n",
      "575923P525924_575923_3196803486-cbct-tooth-47_decimated\n",
      "575923P525924_575923_2495284587-cbct-tooth-18_decimated\n",
      "575923P525924_575923_3450535847-cbct-tooth-46_decimated\n",
      "575923P525924_575923_3912267424-cbct-tooth-48_decimated\n",
      "575923P525924_575923_4279413539-cbct-tooth-17_decimated\n",
      "one case sucessfully converted\n"
     ]
    },
    {
     "name": "stderr",
     "output_type": "stream",
     "text": [
      " 69%|######8   | 164/238 [2:02:20<1:36:23, 78.16s/it]"
     ]
    },
    {
     "name": "stdout",
     "output_type": "stream",
     "text": [
      "./temp_unzip\\575955_volumes\n",
      "./temp_unzip\\575955_segmentations\n",
      "('1',)\n",
      "tooth_22_pulp\n",
      "tooth_11_pulp\n",
      "tooth_23_pulp\n",
      "tooth_13_pulp\n",
      "tooth_12_pulp\n",
      "tooth_21_pulp\n",
      "tooth_24_pulp\n",
      "575955P523979_575955_1548137205-cbct-tooth-11_decimated\n",
      "575955P523979_575955_1644111978-cbct-tooth-12_decimated\n",
      "575955P523979_575955_1740621904-cbct-tooth-21_decimated\n",
      "575955P523979_575955_242981486-cbct-tooth-24_decimated\n",
      "575955P523979_575955_3393922-cbct-tooth-22_decimated\n",
      "575955P523979_575955_3510943425-cbct-tooth-13_decimated\n",
      "575955P523979_575955_3694296771-cbct-tooth-23_decimated\n",
      "one case sucessfully converted\n"
     ]
    },
    {
     "name": "stderr",
     "output_type": "stream",
     "text": [
      " 69%|######9   | 165/238 [2:03:42<1:36:45, 79.53s/it]"
     ]
    },
    {
     "name": "stdout",
     "output_type": "stream",
     "text": [
      "./temp_unzip\\575970_volumes\n",
      "./temp_unzip\\575970_segmentations\n",
      "('1',)\n",
      "tooth_41_pulp\n",
      "tooth_21_pulp\n",
      "tooth_27_pulp\n",
      "tooth_34_pulp\n",
      "tooth_15_pulp\n",
      "tooth_24_pulp\n",
      "tooth_26_pulp\n",
      "tooth_32_pulp\n",
      "tooth_14_pulp\n",
      "tooth_42_pulp\n",
      "tooth_22_pulp\n",
      "tooth_31_pulp\n",
      "tooth_12_pulp\n",
      "tooth_43_pulp\n",
      "tooth_48_pulp\n",
      "tooth_23_pulp\n",
      "tooth_17_pulp\n",
      "tooth_33_pulp\n",
      "tooth_13_pulp\n",
      "tooth_11_pulp\n",
      "575970P525027_1143074568-cbct-tooth-42_decimated\n",
      "575970P525027_1254314033-cbct-tooth-14_decimated\n",
      "575970P525027_141017999-cbct-tooth-33_decimated\n",
      "575970P525027_1534415214-cbct-tooth-13_decimated\n",
      "575970P525027_1848522051-cbct-tooth-23_decimated\n",
      "575970P525027_2105251585-cbct-tooth-41_decimated\n",
      "575970P525027_2145087517-cbct-tooth-24_decimated\n",
      "575970P525027_2305109396-cbct-tooth-21_decimated\n",
      "575970P525027_285555876-cbct-tooth-48_decimated\n",
      "575970P525027_2905268813-cbct-tooth-31_decimated\n",
      "575970P525027_3088585211-cbct-tooth-22_decimated\n",
      "575970P525027_3175398288-cbct-tooth-32_decimated\n",
      "575970P525027_3180437434-cbct-tooth-34_decimated\n",
      "575970P525027_3355116667-cbct-tooth-27_decimated\n",
      "575970P525027_3686171730-cbct-tooth-12_decimated\n",
      "575970P525027_3917944915-cbct-tooth-43_decimated\n",
      "575970P525027_3931258671-cbct-tooth-26_decimated\n",
      "575970P525027_3983875674-cbct-tooth-15_decimated\n",
      "575970P525027_734619732-cbct-tooth-11_decimated\n",
      "575970P525027_766444240-cbct-tooth-17_decimated\n",
      "one case sucessfully converted\n"
     ]
    },
    {
     "name": "stderr",
     "output_type": "stream",
     "text": [
      " 70%|######9   | 166/238 [2:07:56<2:38:13, 131.85s/it]"
     ]
    },
    {
     "name": "stdout",
     "output_type": "stream",
     "text": [
      "./temp_unzip\\575984_volumes\n",
      "./temp_unzip\\575984_segmentations\n",
      "('1',)\n",
      "tooth_27_pulp\n",
      "tooth_26_pulp\n",
      "tooth_37_pulp\n",
      "tooth_38_pulp\n",
      "575984P524073_575984_3020797263-cbct-tooth-27_decimated\n",
      "575984P524073_575984_3663596889-cbct-tooth-26_decimated\n",
      "575984P524073_575984_716350430-cbct-tooth-38_decimated\n",
      "575984P524073_575984_922416226-cbct-tooth-37_decimated\n",
      "one case sucessfully converted\n"
     ]
    },
    {
     "name": "stderr",
     "output_type": "stream",
     "text": [
      " 70%|#######   | 167/238 [2:08:47<2:07:16, 107.55s/it]"
     ]
    },
    {
     "name": "stdout",
     "output_type": "stream",
     "text": [
      "./temp_unzip\\575999_volumes\n",
      "./temp_unzip\\575999_segmentations\n",
      "('1',)\n",
      "tooth_16_pulp\n",
      "tooth_48_pulp\n",
      "tooth_47_pulp\n",
      "575999P525291_575999_2170020038-cbct-tooth-47_decimated\n",
      "575999P525291_575999_3184351625-cbct-tooth-48_decimated\n",
      "575999P525291_575999_990054733-cbct-tooth-16_decimated\n",
      "one case sucessfully converted\n"
     ]
    },
    {
     "name": "stderr",
     "output_type": "stream",
     "text": [
      " 71%|#######   | 168/238 [2:09:35<1:44:32, 89.60s/it] "
     ]
    },
    {
     "name": "stdout",
     "output_type": "stream",
     "text": [
      "./temp_unzip\\576031_volumes\n",
      "./temp_unzip\\576031_segmentations\n",
      "('1',)\n",
      "tooth_12_pulp\n",
      "tooth_23_pulp\n",
      "tooth_32_pulp\n",
      "tooth_13_pulp\n",
      "tooth_14_pulp\n",
      "tooth_22_pulp\n",
      "tooth_31_pulp\n",
      "tooth_42_pulp\n",
      "tooth_35_pulp\n",
      "tooth_11_pulp\n",
      "tooth_21_pulp\n",
      "tooth_41_pulp\n",
      "tooth_24_pulp\n",
      "576031P524641_1167093313-cbct-tooth-14_decimated\n",
      "576031P524641_1359707086-cbct-tooth-21_decimated\n",
      "576031P524641_1560079425-cbct-tooth-13_decimated\n",
      "576031P524641_1563485284-cbct-tooth-42_decimated\n",
      "576031P524641_1595101568-cbct-tooth-22_decimated\n",
      "576031P524641_2954764863-cbct-tooth-11_decimated\n",
      "576031P524641_3286399856-cbct-tooth-12_decimated\n",
      "576031P524641_3318166227-cbct-tooth-35_decimated\n",
      "576031P524641_3430932934-cbct-tooth-41_decimated\n",
      "576031P524641_3748837220-cbct-tooth-31_decimated\n",
      "576031P524641_3977372001-cbct-tooth-23_decimated\n",
      "576031P524641_435747633-cbct-tooth-32_decimated\n",
      "576031P524641_687604878-cbct-tooth-24_decimated\n",
      "one case sucessfully converted\n"
     ]
    },
    {
     "name": "stderr",
     "output_type": "stream",
     "text": [
      " 71%|#######1  | 169/238 [2:12:05<2:04:02, 107.86s/it]"
     ]
    },
    {
     "name": "stdout",
     "output_type": "stream",
     "text": [
      "./temp_unzip\\576038_volumes\n",
      "./temp_unzip\\576038_segmentations\n",
      "('1',)\n",
      "tooth_17_pulp\n",
      "tooth_13_pulp\n",
      "tooth_21_pulp\n",
      "tooth_34_pulp\n",
      "tooth_26_pulp\n",
      "tooth_41_pulp\n",
      "tooth_42_pulp\n",
      "tooth_11_pulp\n",
      "tooth_12_pulp\n",
      "tooth_44_pulp\n",
      "tooth_43_pulp\n",
      "tooth_47_pulp\n",
      "tooth_25_pulp\n",
      "tooth_22_pulp\n",
      "tooth_46_pulp\n",
      "tooth_27_pulp\n",
      "tooth_15_pulp\n",
      "tooth_14_pulp\n",
      "tooth_23_pulp\n",
      "tooth_16_pulp\n",
      "tooth_32_pulp\n",
      "tooth_33_pulp\n",
      "tooth_31_pulp\n",
      "tooth_18_pulp\n",
      "tooth_24_pulp\n",
      "tooth_36_pulp\n",
      "tooth_37_pulp\n",
      "tooth_38_pulp\n",
      "tooth_28_pulp\n",
      "tooth_45_pulp\n",
      "tooth_35_pulp\n",
      "576038P523911_576038_1012617522-cbct-tooth-37_decimated\n",
      "576038P523911_576038_1021761426-cbct-tooth-31_decimated\n",
      "576038P523911_576038_1095078364-cbct-tooth-14_decimated\n",
      "576038P523911_576038_11084315-cbct-tooth-36_decimated\n",
      "576038P523911_576038_1141853335-cbct-tooth-42_decimated\n",
      "576038P523911_576038_1561259835-cbct-tooth-43_decimated\n",
      "576038P523911_576038_1739356730-cbct-tooth-23_decimated\n",
      "576038P523911_576038_1953673582-cbct-tooth-46_decimated\n",
      "576038P523911_576038_2676886589-cbct-tooth-16_decimated\n",
      "576038P523911_576038_2997226034-cbct-tooth-21_decimated\n",
      "576038P523911_576038_300341521-cbct-tooth-12_decimated\n",
      "576038P523911_576038_3229912697-cbct-tooth-11_decimated\n",
      "576038P523911_576038_3341591771-cbct-tooth-45_decimated\n",
      "576038P523911_576038_3436559733-cbct-tooth-33_decimated\n",
      "576038P523911_576038_3448002399-cbct-tooth-15_decimated\n",
      "576038P523911_576038_356996298-cbct-tooth-26_decimated\n",
      "576038P523911_576038_3635193771-cbct-tooth-28_decimated\n",
      "576038P523911_576038_3646478107-cbct-tooth-13_decimated\n",
      "576038P523911_576038_3819458943-cbct-tooth-24_decimated\n",
      "576038P523911_576038_3894060178-cbct-tooth-41_decimated\n",
      "576038P523911_576038_4088903679-cbct-tooth-35_decimated\n",
      "576038P523911_576038_41031662-cbct-tooth-34_decimated\n",
      "576038P523911_576038_4162608596-cbct-tooth-47_decimated\n",
      "576038P523911_576038_4188783023-cbct-tooth-25_decimated\n",
      "576038P523911_576038_4286873756-cbct-tooth-22_decimated\n",
      "576038P523911_576038_449717392-cbct-tooth-32_decimated\n",
      "576038P523911_576038_487978236-cbct-tooth-18_decimated\n",
      "576038P523911_576038_545221822-cbct-tooth-27_decimated\n",
      "576038P523911_576038_575675137-cbct-tooth-17_decimated\n",
      "576038P523911_576038_693901466-cbct-tooth-44_decimated\n",
      "576038P523911_576038_732265936-cbct-tooth-38_decimated\n",
      "one case sucessfully converted\n"
     ]
    },
    {
     "name": "stderr",
     "output_type": "stream",
     "text": [
      " 71%|#######1  | 170/238 [2:18:52<3:44:00, 197.65s/it]"
     ]
    },
    {
     "name": "stdout",
     "output_type": "stream",
     "text": [
      "./temp_unzip\\576098_volumes\n",
      "./temp_unzip\\576098_segmentations\n",
      "('1',)\n",
      "tooth_16_pulp\n",
      "tooth_13_pulp\n",
      "tooth_11_pulp\n",
      "tooth_14_pulp\n",
      "tooth_15_pulp\n",
      "tooth_21_pulp\n",
      "tooth_22_pulp\n",
      "tooth_12_pulp\n",
      "576098P524719_1834852135-cbct-tooth-22_decimated\n",
      "576098P524719_2670858594-cbct-tooth-11_decimated\n",
      "576098P524719_2954212942-cbct-tooth-21_decimated\n",
      "576098P524719_346022755-cbct-tooth-14_decimated\n",
      "576098P524719_3778774672-cbct-tooth-12_decimated\n",
      "576098P524719_433449264-cbct-tooth-13_decimated\n",
      "576098P524719_59109538-cbct-tooth-16_decimated\n",
      "576098P524719_663360315-cbct-tooth-15_decimated\n",
      "one case sucessfully converted\n"
     ]
    },
    {
     "name": "stderr",
     "output_type": "stream",
     "text": [
      " 72%|#######1  | 171/238 [2:20:30<3:07:05, 167.55s/it]"
     ]
    },
    {
     "name": "stdout",
     "output_type": "stream",
     "text": [
      "./temp_unzip\\576114_volumes\n",
      "./temp_unzip\\576114_segmentations\n",
      "('1',)\n",
      "tooth_16_pulp\n",
      "tooth_46_pulp\n",
      "tooth_48_pulp\n",
      "tooth_47_pulp\n",
      "tooth_17_pulp\n",
      "576114P524020_576114_152779772-cbct-tooth-48_decimated\n",
      "576114P524020_576114_1816336378-cbct-tooth-17_decimated\n",
      "576114P524020_576114_2215444046-cbct-tooth-46_decimated\n",
      "576114P524020_576114_2573925202-cbct-tooth-16_decimated\n",
      "576114P524020_576114_2809643173-cbct-tooth-47_decimated\n",
      "one case sucessfully converted\n"
     ]
    },
    {
     "name": "stderr",
     "output_type": "stream",
     "text": [
      " 72%|#######2  | 172/238 [2:21:33<2:29:57, 136.33s/it]"
     ]
    },
    {
     "name": "stdout",
     "output_type": "stream",
     "text": [
      "./temp_unzip\\576117_volumes\n",
      "./temp_unzip\\576117_segmentations\n",
      "('1',)\n",
      "tooth_28_pulp\n",
      "tooth_38_pulp\n",
      "tooth_36_pulp\n",
      "tooth_26_pulp\n",
      "tooth_37_pulp\n",
      "tooth_27_pulp\n",
      "576117P524440_2936411324-cbct-tooth-27_decimated\n",
      "576117P524440_3260538480-cbct-tooth-26_decimated\n",
      "576117P524440_4045911047-cbct-tooth-36_decimated\n",
      "576117P524440_4263923785-cbct-tooth-37_decimated\n",
      "576117P524440_4279912744-cbct-tooth-38_decimated\n",
      "576117P524440_950272964-cbct-tooth-28_decimated\n",
      "one case sucessfully converted\n"
     ]
    },
    {
     "name": "stderr",
     "output_type": "stream",
     "text": [
      " 73%|#######2  | 173/238 [2:22:46<2:07:12, 117.43s/it]"
     ]
    },
    {
     "name": "stdout",
     "output_type": "stream",
     "text": [
      "./temp_unzip\\576125_volumes\n",
      "./temp_unzip\\576125_segmentations\n",
      "('1',)\n",
      "tooth_15_pulp\n",
      "tooth_44_pulp\n",
      "tooth_16_pulp\n",
      "tooth_22_pulp\n",
      "tooth_11_pulp\n",
      "tooth_13_pulp\n",
      "tooth_21_pulp\n",
      "tooth_12_pulp\n",
      "576125P524038_576125_1317203404-cbct-tooth-13_decimated\n",
      "576125P524038_576125_1838096078-cbct-tooth-15_decimated\n",
      "576125P524038_576125_3140375264-cbct-tooth-21_decimated\n",
      "576125P524038_576125_3459040838-cbct-tooth-16_decimated\n",
      "576125P524038_576125_367187454-cbct-tooth-12_decimated\n",
      "576125P524038_576125_3835809997-cbct-tooth-44_decimated\n",
      "576125P524038_576125_753281422-cbct-tooth-11_decimated\n",
      "576125P524038_576125_880885978-cbct-tooth-22_decimated\n",
      "one case sucessfully converted\n"
     ]
    },
    {
     "name": "stderr",
     "output_type": "stream",
     "text": [
      " 73%|#######3  | 174/238 [2:24:19<1:57:20, 110.00s/it]"
     ]
    },
    {
     "name": "stdout",
     "output_type": "stream",
     "text": [
      "./temp_unzip\\576210_volumes\n",
      "./temp_unzip\\576210_segmentations\n",
      "('1',)\n",
      "tooth_17_pulp\n",
      "tooth_18_pulp\n",
      "tooth_48_pulp\n",
      "tooth_46_pulp\n",
      "tooth_47_pulp\n",
      "576210P524906_1195792154-cbct-tooth-17_decimated\n",
      "576210P524906_1707974152-cbct-tooth-46_decimated\n",
      "576210P524906_2040464935-cbct-tooth-18_decimated\n",
      "576210P524906_3397621836-cbct-tooth-48_decimated\n",
      "576210P524906_928728865-cbct-tooth-47_decimated\n",
      "one case sucessfully converted\n"
     ]
    },
    {
     "name": "stderr",
     "output_type": "stream",
     "text": [
      " 74%|#######3  | 175/238 [2:25:21<1:40:18, 95.53s/it] "
     ]
    },
    {
     "name": "stdout",
     "output_type": "stream",
     "text": [
      "./temp_unzip\\576214_volumes\n",
      "./temp_unzip\\576214_segmentations\n",
      "('1',)\n",
      "tooth_27_pulp\n",
      "tooth_37_pulp\n",
      "tooth_38_pulp\n",
      "576214P524156_576214_2019107115-cbct-tooth-27_decimated\n",
      "576214P524156_576214_2076163244-cbct-tooth-37_decimated\n",
      "576214P524156_576214_3176202853-cbct-tooth-38_decimated\n",
      "one case sucessfully converted\n"
     ]
    },
    {
     "name": "stderr",
     "output_type": "stream",
     "text": [
      " 74%|#######3  | 176/238 [2:25:57<1:20:09, 77.58s/it]"
     ]
    },
    {
     "name": "stdout",
     "output_type": "stream",
     "text": [
      "./temp_unzip\\576251_volumes\n",
      "./temp_unzip\\576251_segmentations\n",
      "('1',)\n",
      "tooth_12_pulp\n",
      "tooth_35_pulp\n",
      "tooth_33_pulp\n",
      "tooth_24_pulp\n",
      "tooth_31_pulp\n",
      "tooth_21_pulp\n",
      "tooth_23_pulp\n",
      "tooth_22_pulp\n",
      "tooth_11_pulp\n",
      "tooth_36_pulp\n",
      "tooth_32_pulp\n",
      "tooth_34_pulp\n",
      "tooth_25_pulp\n",
      "tooth_41_pulp\n",
      "576251P524523_1263657366-cbct-tooth-21_decimated\n",
      "576251P524523_1546344957-cbct-tooth-41_decimated\n",
      "576251P524523_1642282148-cbct-tooth-25_decimated\n",
      "576251P524523_1737414719-cbct-tooth-34_decimated\n",
      "576251P524523_1819013821-cbct-tooth-36_decimated\n",
      "576251P524523_2213831458-cbct-tooth-24_decimated\n",
      "576251P524523_2301418933-cbct-tooth-35_decimated\n",
      "576251P524523_2575342849-cbct-tooth-12_decimated\n",
      "576251P524523_2967090936-cbct-tooth-33_decimated\n",
      "576251P524523_3062272085-cbct-tooth-23_decimated\n",
      "576251P524523_3277389200-cbct-tooth-22_decimated\n",
      "576251P524523_3954707077-cbct-tooth-31_decimated\n",
      "576251P524523_4084237777-cbct-tooth-32_decimated\n",
      "576251P524523_895941501-cbct-tooth-11_decimated\n",
      "one case sucessfully converted\n"
     ]
    },
    {
     "name": "stderr",
     "output_type": "stream",
     "text": [
      " 74%|#######4  | 177/238 [2:28:41<1:45:24, 103.68s/it]"
     ]
    },
    {
     "name": "stdout",
     "output_type": "stream",
     "text": [
      "./temp_unzip\\576288_volumes\n",
      "./temp_unzip\\576288_segmentations\n",
      "('1',)\n",
      "tooth_36_pulp\n",
      "tooth_37_pulp\n",
      "tooth_38_pulp\n",
      "tooth_27_pulp\n",
      "tooth_28_pulp\n",
      "576288P524406_576288_1019276485-cbct-tooth-27_decimated\n",
      "576288P524406_576288_1093705308-cbct-tooth-38_decimated\n",
      "576288P524406_576288_1987941055-cbct-tooth-37_decimated\n",
      "576288P524406_576288_2003440836-cbct-tooth-28_decimated\n",
      "576288P524406_576288_3354122431-cbct-tooth-36_decimated\n",
      "one case sucessfully converted\n"
     ]
    },
    {
     "name": "stderr",
     "output_type": "stream",
     "text": [
      " 75%|#######4  | 178/238 [2:29:44<1:31:16, 91.28s/it] "
     ]
    },
    {
     "name": "stdout",
     "output_type": "stream",
     "text": [
      "./temp_unzip\\576316_volumes\n",
      "./temp_unzip\\576316_segmentations\n",
      "('1',)\n",
      "tooth_17_pulp\n",
      "tooth_15_pulp\n",
      "tooth_16_pulp\n",
      "tooth_46_pulp\n",
      "tooth_47_pulp\n",
      "tooth_48_pulp\n",
      "576316P524529_1021196859-cbct-tooth-16_decimated\n",
      "576316P524529_1801213590-cbct-tooth-47_decimated\n",
      "576316P524529_2584734568-cbct-tooth-15_decimated\n",
      "576316P524529_2784246766-cbct-tooth-48_decimated\n",
      "576316P524529_4048851202-cbct-tooth-46_decimated\n",
      "576316P524529_4235198233-cbct-tooth-17_decimated\n",
      "one case sucessfully converted\n"
     ]
    },
    {
     "name": "stderr",
     "output_type": "stream",
     "text": [
      " 75%|#######5  | 179/238 [2:30:57<1:24:30, 85.93s/it]"
     ]
    },
    {
     "name": "stdout",
     "output_type": "stream",
     "text": [
      "./temp_unzip\\576342_volumes\n",
      "./temp_unzip\\576342_segmentations\n",
      "('1',)\n",
      "tooth_18_pulp\n",
      "tooth_17_pulp\n",
      "tooth_47_pulp\n",
      "tooth_48_pulp\n",
      "576342P524707_147183823-cbct-tooth-48_decimated\n",
      "576342P524707_2482273438-cbct-tooth-18_decimated\n",
      "576342P524707_283512847-cbct-tooth-17_decimated\n",
      "576342P524707_3258367995-cbct-tooth-47_decimated\n",
      "one case sucessfully converted\n"
     ]
    },
    {
     "name": "stderr",
     "output_type": "stream",
     "text": [
      " 76%|#######5  | 180/238 [2:31:46<1:12:27, 74.96s/it]"
     ]
    },
    {
     "name": "stdout",
     "output_type": "stream",
     "text": [
      "./temp_unzip\\576356_volumes\n",
      "./temp_unzip\\576356_segmentations\n",
      "('1',)\n",
      "tooth_25_pulp\n",
      "tooth_12_pulp\n",
      "tooth_23_pulp\n",
      "tooth_21_pulp\n",
      "tooth_24_pulp\n",
      "tooth_11_pulp\n",
      "tooth_22_pulp\n",
      "tooth_26_pulp\n",
      "576356P526010_576356_1667989440-cbct-tooth-12_decimated\n",
      "576356P526010_576356_1721952190-cbct-tooth-25_decimated\n",
      "576356P526010_576356_1764047169-cbct-tooth-26_decimated\n",
      "576356P526010_576356_2225237574-cbct-tooth-22_decimated\n",
      "576356P526010_576356_3663915611-cbct-tooth-21_decimated\n",
      "576356P526010_576356_3805425609-cbct-tooth-23_decimated\n",
      "576356P526010_576356_4044583179-cbct-tooth-11_decimated\n",
      "576356P526010_576356_878263748-cbct-tooth-24_decimated\n",
      "one case sucessfully converted\n"
     ]
    },
    {
     "name": "stderr",
     "output_type": "stream",
     "text": [
      " 76%|#######6  | 181/238 [2:33:25<1:18:03, 82.17s/it]"
     ]
    },
    {
     "name": "stdout",
     "output_type": "stream",
     "text": [
      "./temp_unzip\\576376_volumes\n",
      "./temp_unzip\\576376_segmentations\n",
      "('1',)\n",
      "tooth_17_pulp\n",
      "tooth_18_pulp\n",
      "tooth_48_pulp\n",
      "tooth_47_pulp\n",
      "tooth_46_pulp\n",
      "tooth_16_pulp\n",
      "576376P524333_1243768638-cbct-tooth-46_decimated\n",
      "576376P524333_524818698-periapical-lesion-tooth-48-focus-0_decimated\n",
      "576376P524333_1536431790-cbct-tooth-18_decimated\n",
      "576376P524333_1819087408-cbct-tooth-17_decimated\n",
      "576376P524333_3844374499-cbct-tooth-47_decimated\n",
      "576376P524333_961557068-cbct-tooth-16_decimated\n",
      "one case sucessfully converted\n"
     ]
    },
    {
     "name": "stderr",
     "output_type": "stream",
     "text": [
      " 76%|#######6  | 182/238 [2:34:36<1:13:30, 78.76s/it]"
     ]
    },
    {
     "name": "stdout",
     "output_type": "stream",
     "text": [
      "./temp_unzip\\576383_volumes\n",
      "./temp_unzip\\576383_segmentations\n",
      "('1',)\n",
      "tooth_46_pulp\n",
      "tooth_14_pulp\n",
      "tooth_15_pulp\n",
      "tooth_47_pulp\n",
      "tooth_17_pulp\n",
      "tooth_44_pulp\n",
      "tooth_48_pulp\n",
      "tooth_45_pulp\n",
      "tooth_16_pulp\n",
      "576383P524337_576383_100647533-cbct-tooth-45_decimated\n",
      "576383P524337_576383_2999359108-periapical-lesion-tooth-48-_decimated\n",
      "576383P524337_576383_1441344234-cbct-tooth-17_decimated\n",
      "576383P524337_576383_1970390684-cbct-tooth-16_decimated\n",
      "576383P524337_576383_2202295439-cbct-tooth-14_decimated\n",
      "576383P524337_576383_979486460-cbct-tooth-47_decimated\n",
      "576383P524337_576383_3327204236-cbct-tooth-46_decimated\n",
      "576383P524337_576383_3629013080-cbct-tooth-44_decimated\n",
      "576383P524337_576383_3967027169-cbct-tooth-15_decimated\n",
      "one case sucessfully converted\n"
     ]
    },
    {
     "name": "stderr",
     "output_type": "stream",
     "text": [
      " 77%|#######6  | 183/238 [2:36:19<1:18:46, 85.94s/it]"
     ]
    },
    {
     "name": "stdout",
     "output_type": "stream",
     "text": [
      "./temp_unzip\\576432_volumes\n",
      "./temp_unzip\\576432_segmentations\n",
      "('1',)\n",
      "tooth_37_pulp\n",
      "tooth_38_pulp\n",
      "tooth_28_pulp\n",
      "tooth_27_pulp\n",
      "tooth_36_pulp\n",
      "tooth_26_pulp\n",
      "576432P524451_576432_1538596502-cbct-tooth-27_decimated\n",
      "576432P524451_576432_2552607501-cbct-tooth-36_decimated\n",
      "576432P524451_576432_2807848681-cbct-tooth-37_decimated\n",
      "576432P524451_576432_3480463802-cbct-tooth-38_decimated\n",
      "576432P524451_576432_417161207-cbct-tooth-26_decimated\n",
      "576432P524451_576432_935873842-cbct-tooth-28_decimated\n",
      "one case sucessfully converted\n"
     ]
    },
    {
     "name": "stderr",
     "output_type": "stream",
     "text": [
      " 77%|#######7  | 184/238 [2:37:33<1:14:07, 82.36s/it]"
     ]
    },
    {
     "name": "stdout",
     "output_type": "stream",
     "text": [
      "./temp_unzip\\576436_volumes\n",
      "./temp_unzip\\576436_segmentations\n",
      "('1',)\n",
      "tooth_38_pulp\n",
      "tooth_35_pulp\n",
      "tooth_36_pulp\n",
      "tooth_26_pulp\n",
      "tooth_28_pulp\n",
      "tooth_27_pulp\n",
      "576436P524453_576436_1021914331-cbct-tooth-38_decimated\n",
      "576436P524453_576436_1813039369-cbct-tooth-35_decimated\n",
      "576436P524453_576436_2437356169-cbct-tooth-28_decimated\n",
      "576436P524453_576436_3044290229-cbct-tooth-27_decimated\n",
      "576436P524453_576436_3605856955-cbct-tooth-36_decimated\n",
      "576436P524453_576436_492621285-cbct-tooth-26_decimated\n",
      "one case sucessfully converted\n"
     ]
    },
    {
     "name": "stderr",
     "output_type": "stream",
     "text": [
      " 78%|#######7  | 185/238 [2:38:54<1:12:27, 82.02s/it]"
     ]
    },
    {
     "name": "stdout",
     "output_type": "stream",
     "text": [
      "./temp_unzip\\576491_volumes\n",
      "./temp_unzip\\576491_segmentations\n",
      "('1',)\n",
      "tooth_16_pulp\n",
      "tooth_25_pulp\n",
      "tooth_33_pulp\n",
      "tooth_46_pulp\n",
      "tooth_23_pulp\n",
      "tooth_14_pulp\n",
      "tooth_15_pulp\n",
      "tooth_24_pulp\n",
      "tooth_42_pulp\n",
      "tooth_11_pulp\n",
      "tooth_43_pulp\n",
      "tooth_17_pulp\n",
      "tooth_36_pulp\n",
      "tooth_47_pulp\n",
      "tooth_38_pulp\n",
      "tooth_35_pulp\n",
      "tooth_32_pulp\n",
      "tooth_18_pulp\n",
      "tooth_45_pulp\n",
      "tooth_12_pulp\n",
      "tooth_44_pulp\n",
      "tooth_34_pulp\n",
      "tooth_22_pulp\n",
      "tooth_21_pulp\n",
      "tooth_37_pulp\n",
      "tooth_28_pulp\n",
      "tooth_26_pulp\n",
      "tooth_13_pulp\n",
      "tooth_27_pulp\n",
      "576491P524475_576491_1174576624-cbct-tooth-25_decimated\n",
      "576491P524475_576491_1179320090-cbct-tooth-33_decimated\n",
      "576491P524475_576491_1483679768-cbct-tooth-32_decimated\n",
      "576491P524475_576491_1514713232-cbct-tooth-13_decimated\n",
      "576491P524475_576491_1555887452-cbct-tooth-42_decimated\n",
      "576491P524475_576491_1658692191-cbct-tooth-47_decimated\n",
      "576491P524475_576491_1696291918-cbct-tooth-38_decimated\n",
      "576491P524475_576491_1820277648-cbct-tooth-12_decimated\n",
      "576491P524475_576491_1842622225-cbct-tooth-27_decimated\n",
      "576491P524475_576491_1965463278-cbct-tooth-17_decimated\n",
      "576491P524475_576491_2017568688-cbct-tooth-23_decimated\n",
      "576491P524475_576491_2179388141-cbct-tooth-37_decimated\n",
      "576491P524475_576491_2788532756-cbct-tooth-35_decimated\n",
      "576491P524475_576491_2977448127-cbct-tooth-16_decimated\n",
      "576491P524475_576491_3036836430-cbct-tooth-28_decimated\n",
      "576491P524475_576491_3054435543-cbct-tooth-26_decimated\n",
      "576491P524475_576491_3182891372-cbct-tooth-24_decimated\n",
      "576491P524475_576491_3184468175-cbct-tooth-34_decimated\n",
      "576491P524475_576491_3479767528-cbct-tooth-36_decimated\n",
      "576491P524475_576491_3799007600-cbct-tooth-14_decimated\n",
      "576491P524475_576491_3859228848-cbct-tooth-46_decimated\n",
      "576491P524475_576491_4011133113-cbct-tooth-15_decimated\n",
      "576491P524475_576491_568306541-cbct-tooth-11_decimated\n",
      "576491P524475_576491_58914864-cbct-tooth-45_decimated\n",
      "576491P524475_576491_606959699-cbct-tooth-21_decimated\n",
      "576491P524475_576491_651307148-cbct-tooth-18_decimated\n",
      "576491P524475_576491_66329840-cbct-tooth-22_decimated\n",
      "576491P524475_576491_810999022-cbct-tooth-43_decimated\n",
      "576491P524475_576491_951233427-cbct-tooth-44_decimated\n",
      "one case sucessfully converted\n"
     ]
    },
    {
     "name": "stderr",
     "output_type": "stream",
     "text": [
      " 78%|#######8  | 186/238 [2:45:00<2:24:47, 167.07s/it]"
     ]
    },
    {
     "name": "stdout",
     "output_type": "stream",
     "text": [
      "./temp_unzip\\576504_volumes\n",
      "./temp_unzip\\576504_segmentations\n",
      "('1',)\n",
      "tooth_17_pulp\n",
      "tooth_47_pulp\n",
      "tooth_48_pulp\n",
      "576504P524713_2437505981-cbct-tooth-17_decimated\n",
      "576504P524713_2815961804-cbct-tooth-48_decimated\n",
      "576504P524713_874521184-cbct-tooth-47_decimated\n",
      "one case sucessfully converted\n"
     ]
    },
    {
     "name": "stderr",
     "output_type": "stream",
     "text": [
      " 79%|#######8  | 187/238 [2:45:40<1:49:35, 128.93s/it]"
     ]
    },
    {
     "name": "stdout",
     "output_type": "stream",
     "text": [
      "./temp_unzip\\576515_volumes\n",
      "./temp_unzip\\576515_segmentations\n",
      "('1',)\n",
      "tooth_37_pulp\n",
      "tooth_38_pulp\n",
      "tooth_27_pulp\n",
      "576515P524618_2282410123-cbct-tooth-27_decimated\n",
      "576515P524618_4016977395-cbct-tooth-38_decimated\n",
      "576515P524618_4266240788-cbct-tooth-37_decimated\n",
      "one case sucessfully converted\n"
     ]
    },
    {
     "name": "stderr",
     "output_type": "stream",
     "text": [
      " 79%|#######8  | 188/238 [2:46:17<1:24:39, 101.58s/it]"
     ]
    },
    {
     "name": "stdout",
     "output_type": "stream",
     "text": [
      "./temp_unzip\\576527_volumes\n",
      "./temp_unzip\\576527_segmentations\n",
      "('1',)\n",
      "tooth_11_pulp\n",
      "tooth_23_pulp\n",
      "tooth_12_pulp\n",
      "tooth_16_pulp\n",
      "tooth_24_pulp\n",
      "tooth_14_pulp\n",
      "tooth_21_pulp\n",
      "tooth_15_pulp\n",
      "tooth_13_pulp\n",
      "tooth_45_pulp\n",
      "tooth_22_pulp\n",
      "576527P524650_1137375946-cbct-tooth-13_decimated\n",
      "576527P524650_1227820679-cbct-tooth-14_decimated\n",
      "576527P524650_1378382701-cbct-tooth-15_decimated\n",
      "576527P524650_1518068127-cbct-tooth-45_decimated\n",
      "576527P524650_1933417425-cbct-tooth-16_decimated\n",
      "576527P524650_20716380-cbct-tooth-23_decimated\n",
      "576527P524650_2519583362-cbct-tooth-11_decimated\n",
      "576527P524650_3751375787-cbct-tooth-21_decimated\n",
      "576527P524650_537710656-cbct-tooth-22_decimated\n",
      "576527P524650_705167741-cbct-tooth-24_decimated\n",
      "576527P524650_933554322-cbct-tooth-12_decimated\n",
      "one case sucessfully converted\n"
     ]
    },
    {
     "name": "stderr",
     "output_type": "stream",
     "text": [
      " 79%|#######9  | 189/238 [2:48:31<1:30:46, 111.15s/it]"
     ]
    },
    {
     "name": "stdout",
     "output_type": "stream",
     "text": [
      "./temp_unzip\\576543_volumes\n",
      "./temp_unzip\\576543_segmentations\n",
      "('1',)\n",
      "tooth_17_pulp\n",
      "tooth_47_pulp\n",
      "tooth_48_pulp\n",
      "tooth_46_pulp\n",
      "576543P524699_1370829533-cbct-tooth-47_decimated\n",
      "576543P524699_1843308400-cbct-tooth-48_decimated\n",
      "576543P524699_1903323818-cbct-tooth-17_decimated\n",
      "576543P524699_3207464683-cbct-tooth-46_decimated\n",
      "one case sucessfully converted\n"
     ]
    },
    {
     "name": "stderr",
     "output_type": "stream",
     "text": [
      " 80%|#######9  | 190/238 [2:49:22<1:14:24, 93.01s/it] "
     ]
    },
    {
     "name": "stdout",
     "output_type": "stream",
     "text": [
      "./temp_unzip\\576547_volumes\n",
      "./temp_unzip\\576547_segmentations\n",
      "('1',)\n",
      "tooth_11_pulp\n",
      "tooth_36_pulp\n",
      "tooth_15_pulp\n",
      "tooth_16_pulp\n",
      "tooth_46_pulp\n",
      "tooth_37_pulp\n",
      "tooth_35_pulp\n",
      "tooth_24_pulp\n",
      "tooth_26_pulp\n",
      "tooth_28_pulp\n",
      "tooth_25_pulp\n",
      "tooth_18_pulp\n",
      "tooth_17_pulp\n",
      "tooth_13_pulp\n",
      "tooth_21_pulp\n",
      "tooth_47_pulp\n",
      "tooth_14_pulp\n",
      "tooth_27_pulp\n",
      "tooth_23_pulp\n",
      "576547P524654_576547_1345790052-cbct-tooth-25_decimated\n",
      "576547P524654_576547_1542772376-cbct-tooth-17_decimated\n",
      "576547P524654_576547_1552816454-cbct-tooth-11_decimated\n",
      "576547P524654_576547_1571233492-cbct-tooth-37_decimated\n",
      "576547P524654_576547_1688806667-cbct-tooth-47_decimated\n",
      "576547P524654_576547_1826138253-cbct-tooth-14_decimated\n",
      "576547P524654_576547_1828312886-cbct-tooth-26_decimated\n",
      "576547P524654_576547_1888687152-cbct-tooth-15_decimated\n",
      "576547P524654_576547_2018874805-cbct-tooth-13_decimated\n",
      "576547P524654_576547_2212481403-cbct-tooth-23_decimated\n",
      "576547P524654_576547_2224223388-cbct-tooth-46_decimated\n",
      "576547P524654_576547_3337926181-cbct-tooth-35_decimated\n",
      "576547P524654_576547_3380837060-cbct-tooth-21_decimated\n",
      "576547P524654_576547_3508839604-cbct-tooth-27_decimated\n",
      "576547P524654_576547_4124835139-cbct-tooth-18_decimated\n",
      "576547P524654_576547_458107855-cbct-tooth-28_decimated\n",
      "576547P524654_576547_571041967-cbct-tooth-24_decimated\n",
      "576547P524654_576547_717874465-cbct-tooth-36_decimated\n",
      "576547P524654_576547_934705975-cbct-tooth-16_decimated\n",
      "one case sucessfully converted\n"
     ]
    },
    {
     "name": "stderr",
     "output_type": "stream",
     "text": [
      " 80%|########  | 191/238 [2:53:03<1:42:56, 131.42s/it]"
     ]
    },
    {
     "name": "stdout",
     "output_type": "stream",
     "text": [
      "./temp_unzip\\576597_volumes\n",
      "./temp_unzip\\576597_segmentations\n",
      "('1',)\n",
      "tooth_17_pulp\n",
      "tooth_16_pulp\n",
      "tooth_47_pulp\n",
      "tooth_48_pulp\n",
      "576597P524817_2064197633-cbct-tooth-16_decimated\n",
      "576597P524817_2935592416-cbct-tooth-48_decimated\n",
      "576597P524817_3264751742-cbct-tooth-17_decimated\n",
      "576597P524817_3388416902-cbct-tooth-47_decimated\n",
      "one case sucessfully converted\n"
     ]
    },
    {
     "name": "stderr",
     "output_type": "stream",
     "text": [
      " 81%|########  | 192/238 [2:53:53<1:22:09, 107.15s/it]"
     ]
    },
    {
     "name": "stdout",
     "output_type": "stream",
     "text": [
      "./temp_unzip\\576705_volumes\n",
      "./temp_unzip\\576705_segmentations\n",
      "('1',)\n",
      "tooth_36_pulp\n",
      "tooth_38_pulp\n",
      "tooth_37_pulp\n",
      "tooth_35_pulp\n",
      "576705P524920_576705_2050203814-cbct-tooth-37_decimated\n",
      "576705P524920_576705_2829343745-cbct-tooth-36_decimated\n",
      "576705P524920_576705_3277710992-cbct-tooth-38_decimated\n",
      "576705P524920_576705_3494496016-cbct-tooth-35_decimated\n",
      "one case sucessfully converted\n"
     ]
    },
    {
     "name": "stderr",
     "output_type": "stream",
     "text": [
      " 81%|########1 | 193/238 [2:54:45<1:07:52, 90.49s/it] "
     ]
    },
    {
     "name": "stdout",
     "output_type": "stream",
     "text": [
      "./temp_unzip\\576706_volumes\n",
      "./temp_unzip\\576706_segmentations\n",
      "('1',)\n",
      "tooth_46_pulp\n",
      "tooth_12_pulp\n",
      "tooth_18_pulp\n",
      "tooth_15_pulp\n",
      "tooth_13_pulp\n",
      "tooth_14_pulp\n",
      "tooth_47_pulp\n",
      "tooth_11_pulp\n",
      "tooth_44_pulp\n",
      "tooth_48_pulp\n",
      "tooth_42_pulp\n",
      "576706P525838_1818761548-cbct-tooth-15_decimated\n",
      "576706P525838_2525678681-cbct-tooth-14_decimated\n",
      "576706P525838_2607902867-cbct-tooth-46_decimated\n",
      "576706P525838_2676994739-cbct-tooth-48_decimated\n",
      "576706P525838_3144213121-cbct-tooth-47_decimated\n",
      "576706P525838_3176613136-cbct-tooth-13_decimated\n",
      "576706P525838_320503039-cbct-tooth-44_decimated\n",
      "576706P525838_3329610556-cbct-tooth-42_decimated\n",
      "576706P525838_506378299-cbct-tooth-11_decimated\n",
      "576706P525838_525862886-cbct-tooth-12_decimated\n",
      "576706P525838_5667557-cbct-tooth-18_decimated\n",
      "one case sucessfully converted\n"
     ]
    },
    {
     "name": "stderr",
     "output_type": "stream",
     "text": [
      " 82%|########1 | 194/238 [2:57:07<1:17:42, 105.96s/it]"
     ]
    },
    {
     "name": "stdout",
     "output_type": "stream",
     "text": [
      "./temp_unzip\\576708_volumes\n",
      "./temp_unzip\\576708_segmentations\n",
      "('1',)\n",
      "tooth_13_pulp\n",
      "tooth_45_pulp\n",
      "tooth_43_pulp\n",
      "tooth_21_pulp\n",
      "tooth_17_pulp\n",
      "tooth_44_pulp\n",
      "tooth_34_pulp\n",
      "tooth_16_pulp\n",
      "tooth_33_pulp\n",
      "tooth_23_pulp\n",
      "tooth_35_pulp\n",
      "tooth_41_pulp\n",
      "tooth_46_pulp\n",
      "tooth_15_pulp\n",
      "tooth_27_pulp\n",
      "tooth_24_pulp\n",
      "tooth_36_pulp\n",
      "tooth_26_pulp\n",
      "tooth_47_pulp\n",
      "tooth_12_pulp\n",
      "tooth_22_pulp\n",
      "tooth_14_pulp\n",
      "tooth_25_pulp\n",
      "tooth_42_pulp\n",
      "tooth_11_pulp\n",
      "tooth_31_pulp\n",
      "tooth_32_pulp\n",
      "tooth_33_pulp\n",
      "tooth_42_pulp\n",
      "tooth_13_pulp\n",
      "tooth_11_pulp\n",
      "tooth_15_pulp\n",
      "tooth_26_pulp\n",
      "tooth_24_pulp\n",
      "tooth_14_pulp\n",
      "tooth_27_pulp\n",
      "tooth_41_pulp\n",
      "tooth_25_pulp\n",
      "tooth_22_pulp\n",
      "tooth_46_pulp\n",
      "tooth_23_pulp\n",
      "tooth_44_pulp\n",
      "tooth_43_pulp\n",
      "tooth_35_pulp\n",
      "tooth_17_pulp\n",
      "tooth_12_pulp\n",
      "tooth_45_pulp\n",
      "tooth_34_pulp\n",
      "tooth_21_pulp\n",
      "tooth_47_pulp\n",
      "tooth_31_pulp\n",
      "tooth_32_pulp\n",
      "tooth_36_pulp\n",
      "tooth_16_pulp\n",
      "576708P524922_576708_594787240-cbct-tooth-22_decimated\n",
      "576708P524922_576708_729244002-cbct-tooth-43_decimated\n",
      "576708P524922_576708_3231918246-cbct-tooth-41_decimated\n",
      "576708P524922_576708_3869761941-cbct-tooth-12_decimated\n",
      "576708P524922_576708_4273838939-cbct-tooth-11_decimated\n",
      "576708P524922_576708_725554930-cbct-tooth-21_decimated\n",
      "576708P524922_576708_3188533774-cbct-tooth-26_decimated\n",
      "576708P524922_576708_3895699981-cbct-tooth-42_decimated\n",
      "576708P524922_576708_4196188752-cbct-tooth-16_decimated\n",
      "576708P524922_576708_2987769069-cbct-tooth-14_decimated\n",
      "576708P524922_576708_278479025-cbct-tooth-47_decimated\n",
      "576708P524922_576708_220943260-cbct-tooth-32_decimated\n",
      "576708P524922_576708_3821612916-cbct-tooth-44_decimated\n",
      "576708P524922_576708_3683687170-cbct-tooth-36_decimated\n",
      "576708P524922_576708_2420815446-cbct-tooth-35_decimated\n",
      "576708P524922_576708_4107986717-cbct-tooth-23_decimated\n",
      "576708P524922_576708_777251588-cbct-tooth-25_decimated\n",
      "576708P524922_576708_1777144349-cbct-tooth-46_decimated\n",
      "576708P524922_576708_1133258592-cbct-tooth-24_decimated\n",
      "576708P524922_576708_2545608168-cbct-tooth-33_decimated\n",
      "576708P524922_576708_1389071824-cbct-tooth-17_decimated\n",
      "576708P524922_576708_1051025726-cbct-tooth-45_decimated\n",
      "576708P524922_576708_297754522-cbct-tooth-15_decimated\n",
      "576708P524922_576708_3294686722-cbct-tooth-31_decimated\n",
      "576708P524922_576708_1630195341-cbct-tooth-34_decimated\n",
      "576708P524922_576708_906522687-cbct-tooth-27_decimated\n",
      "576708P524922_942504501-cbct-tooth-13_decimated\n",
      "one case sucessfully converted\n"
     ]
    },
    {
     "name": "stderr",
     "output_type": "stream",
     "text": [
      " 82%|########1 | 195/238 [3:02:48<2:06:31, 176.54s/it]"
     ]
    },
    {
     "name": "stdout",
     "output_type": "stream",
     "text": [
      "./temp_unzip\\576710_volumes\n",
      "./temp_unzip\\576710_segmentations\n",
      "('1',)\n",
      "somthing is wrong with case {'vol': './temp_unzip\\\\576710_volumes', 'seg': './temp_unzip\\\\576710_segmentations'} probably a missing segmentation\n"
     ]
    },
    {
     "name": "stderr",
     "output_type": "stream",
     "text": [
      " 82%|########2 | 196/238 [3:02:58<1:28:30, 126.45s/it]"
     ]
    },
    {
     "name": "stdout",
     "output_type": "stream",
     "text": [
      "./temp_unzip\\576715_volumes\n",
      "./temp_unzip\\576715_segmentations\n",
      "('1',)\n",
      "tooth_43_pulp\n",
      "tooth_46_pulp\n",
      "tooth_21_pulp\n",
      "tooth_48_pulp\n",
      "tooth_27_pulp\n",
      "tooth_31_pulp\n",
      "tooth_47_pulp\n",
      "tooth_37_pulp\n",
      "tooth_25_pulp\n",
      "tooth_26_pulp\n",
      "tooth_23_pulp\n",
      "tooth_36_pulp\n",
      "tooth_44_pulp\n",
      "tooth_11_pulp\n",
      "tooth_14_pulp\n",
      "tooth_35_pulp\n",
      "tooth_17_pulp\n",
      "tooth_32_pulp\n",
      "tooth_33_pulp\n",
      "tooth_34_pulp\n",
      "tooth_15_pulp\n",
      "tooth_28_pulp\n",
      "tooth_41_pulp\n",
      "tooth_24_pulp\n",
      "tooth_45_pulp\n",
      "tooth_13_pulp\n",
      "tooth_22_pulp\n",
      "tooth_12_pulp\n",
      "tooth_38_pulp\n",
      "tooth_18_pulp\n",
      "tooth_42_pulp\n",
      "tooth_16_pulp\n",
      "576715P524934_576715_1020955721-cbct-tooth-18_decimated\n",
      "576715P524934_576715_1032569909-cbct-tooth-26_decimated\n",
      "576715P524934_576715_1047055613-cbct-tooth-17_decimated\n",
      "576715P524934_576715_1242850353-cbct-tooth-36_decimated\n",
      "576715P524934_576715_1261294211-cbct-tooth-13_decimated\n",
      "576715P524934_576715_1379537855-cbct-tooth-12_decimated\n",
      "576715P524934_576715_1886229752-cbct-tooth-15_decimated\n",
      "576715P524934_576715_2279348409-cbct-tooth-43_decimated\n",
      "576715P524934_576715_2378344302-cbct-tooth-28_decimated\n",
      "576715P524934_576715_2402872840-cbct-tooth-38_decimated\n",
      "576715P524934_576715_2446163484-cbct-tooth-37_decimated\n",
      "576715P524934_576715_2532522669-cbct-tooth-31_decimated\n",
      "576715P524934_576715_2734437205-cbct-tooth-11_decimated\n",
      "576715P524934_576715_2781739104-cbct-tooth-46_decimated\n",
      "576715P524934_576715_2871370975-cbct-tooth-16_decimated\n",
      "576715P524934_576715_2926033900-cbct-tooth-23_decimated\n",
      "576715P524934_576715_2986192978-cbct-tooth-34_decimated\n",
      "576715P524934_576715_3129205241-cbct-tooth-33_decimated\n",
      "576715P524934_576715_3228846574-cbct-tooth-25_decimated\n",
      "576715P524934_576715_3233320370-cbct-tooth-44_decimated\n",
      "576715P524934_576715_3244254621-cbct-tooth-21_decimated\n",
      "576715P524934_576715_3468174392-cbct-tooth-47_decimated\n",
      "576715P524934_576715_3756778214-cbct-tooth-45_decimated\n",
      "576715P524934_576715_3894827093-cbct-tooth-35_decimated\n",
      "576715P524934_576715_3921720779-cbct-tooth-48_decimated\n",
      "576715P524934_576715_3976545021-cbct-tooth-22_decimated\n",
      "576715P524934_576715_4237827858-cbct-tooth-24_decimated\n",
      "576715P524934_576715_530097045-cbct-tooth-32_decimated\n",
      "576715P524934_576715_551670180-cbct-tooth-41_decimated\n",
      "576715P524934_576715_570601455-cbct-tooth-27_decimated\n",
      "576715P524934_576715_712098276-cbct-tooth-14_decimated\n",
      "576715P524934_576715_840714826-cbct-tooth-42_decimated\n",
      "one case sucessfully converted\n"
     ]
    },
    {
     "name": "stderr",
     "output_type": "stream",
     "text": [
      " 83%|########2 | 197/238 [3:09:32<2:21:19, 206.82s/it]"
     ]
    },
    {
     "name": "stdout",
     "output_type": "stream",
     "text": [
      "./temp_unzip\\576728_volumes\n",
      "./temp_unzip\\576728_segmentations\n",
      "('1',)\n",
      "tooth_24_pulp\n",
      "tooth_22_pulp\n",
      "tooth_36_pulp\n",
      "tooth_17_pulp\n",
      "tooth_27_pulp\n",
      "tooth_34_pulp\n",
      "tooth_11_pulp\n",
      "tooth_41_pulp\n",
      "tooth_46_pulp\n",
      "tooth_33_pulp\n",
      "tooth_43_pulp\n",
      "tooth_47_pulp\n",
      "tooth_18_pulp\n",
      "tooth_13_pulp\n",
      "tooth_45_pulp\n",
      "tooth_35_pulp\n",
      "tooth_26_pulp\n",
      "tooth_44_pulp\n",
      "tooth_25_pulp\n",
      "tooth_42_pulp\n",
      "tooth_16_pulp\n",
      "tooth_14_pulp\n",
      "tooth_31_pulp\n",
      "tooth_32_pulp\n",
      "tooth_21_pulp\n",
      "576728P524959_576728_1089083586-cbct-tooth-18_decimated\n",
      "576728P524959_576728_1956331427-cbct-tooth-16_decimated\n",
      "576728P524959_576728_2654301434-periapical-lesion-tooth-13-_decimated\n",
      "576728P524959_576728_2394886903-cbct-tooth-24_decimated\n",
      "576728P524959_576728_2499413724-cbct-tooth-36_decimated\n",
      "576728P524959_576728_2704133498-cbct-tooth-11_decimated\n",
      "576728P524959_576728_2714545347-cbct-tooth-31_decimated\n",
      "576728P524959_576728_2783661062-cbct-tooth-46_decimated\n",
      "576728P524959_576728_285830417-cbct-tooth-17_decimated\n",
      "576728P524959_576728_3314390689-cbct-tooth-45_decimated\n",
      "576728P524959_576728_3394560962-cbct-tooth-22_decimated\n",
      "576728P524959_576728_3414535079-cbct-tooth-21_decimated\n",
      "576728P524959_576728_3585587518-cbct-tooth-47_decimated\n",
      "576728P524959_576728_3610989488-cbct-tooth-25_decimated\n",
      "576728P524959_576728_392293206-cbct-tooth-43_decimated\n",
      "576728P524959_576728_4012557891-cbct-tooth-34_decimated\n",
      "576728P524959_576728_4172528768-cbct-tooth-44_decimated\n",
      "576728P524959_576728_475807487-cbct-tooth-35_decimated\n",
      "576728P524959_576728_735612839-cbct-tooth-27_decimated\n",
      "576728P524959_576728_770373826-cbct-tooth-33_decimated\n",
      "576728P524959_576728_776122689-cbct-tooth-26_decimated\n",
      "576728P524959_576728_78674409-cbct-tooth-41_decimated\n",
      "576728P524959_576728_841621162-cbct-tooth-42_decimated\n",
      "576728P524959_576728_879371715-cbct-tooth-32_decimated\n",
      "576728P524959_576728_906843746-cbct-tooth-14_decimated\n",
      "one case sucessfully converted\n"
     ]
    },
    {
     "name": "stderr",
     "output_type": "stream",
     "text": [
      " 83%|########3 | 198/238 [3:14:30<2:36:06, 234.17s/it]"
     ]
    },
    {
     "name": "stdout",
     "output_type": "stream",
     "text": [
      "./temp_unzip\\576751_volumes\n",
      "./temp_unzip\\576751_segmentations\n",
      "('1',)\n",
      "tooth_47_pulp\n",
      "tooth_46_pulp\n",
      "tooth_48_pulp\n",
      "tooth_16_pulp\n",
      "tooth_17_pulp\n",
      "576751P524983_576751_1519483072-cbct-tooth-47_decimated\n",
      "576751P524983_576751_220085310-cbct-tooth-17_decimated\n",
      "576751P524983_576751_319326773-cbct-tooth-48_decimated\n",
      "576751P524983_576751_586191177-cbct-tooth-46_decimated\n",
      "576751P524983_576751_616684064-cbct-tooth-16_decimated\n",
      "one case sucessfully converted\n"
     ]
    },
    {
     "name": "stderr",
     "output_type": "stream",
     "text": [
      " 84%|########3 | 199/238 [3:16:03<2:04:46, 191.97s/it]"
     ]
    },
    {
     "name": "stdout",
     "output_type": "stream",
     "text": [
      "./temp_unzip\\576794_volumes\n",
      "./temp_unzip\\576794_segmentations\n",
      "('1',)\n",
      "tooth_47_pulp\n",
      "tooth_11_pulp\n",
      "tooth_22_pulp\n",
      "tooth_15_pulp\n",
      "tooth_16_pulp\n",
      "tooth_17_pulp\n",
      "tooth_21_pulp\n",
      "tooth_14_pulp\n",
      "tooth_13_pulp\n",
      "tooth_12_pulp\n",
      "576794P525345_576794_112658811-cbct-tooth-14_decimated\n",
      "576794P525345_576794_1228499192-cbct-tooth-12_decimated\n",
      "576794P525345_576794_200521252-cbct-tooth-16_decimated\n",
      "576794P525345_576794_2608513531-cbct-tooth-13_decimated\n",
      "576794P525345_576794_3193168238-cbct-tooth-17_decimated\n",
      "576794P525345_576794_3367739271-cbct-tooth-47_decimated\n",
      "576794P525345_576794_379091933-cbct-tooth-21_decimated\n",
      "576794P525345_576794_3955268479-cbct-tooth-22_decimated\n",
      "576794P525345_576794_898520799-cbct-tooth-11_decimated\n",
      "576794P525345_576794_933159563-cbct-tooth-15_decimated\n",
      "one case sucessfully converted\n"
     ]
    },
    {
     "name": "stderr",
     "output_type": "stream",
     "text": [
      " 84%|########4 | 200/238 [3:18:05<1:48:10, 170.80s/it]"
     ]
    },
    {
     "name": "stdout",
     "output_type": "stream",
     "text": [
      "./temp_unzip\\576854_volumes\n",
      "./temp_unzip\\576854_segmentations\n",
      "('1',)\n",
      "tooth_15_pulp\n",
      "tooth_24_pulp\n",
      "tooth_44_pulp\n",
      "tooth_27_pulp\n",
      "tooth_11_pulp\n",
      "tooth_23_pulp\n",
      "tooth_43_pulp\n",
      "tooth_35_pulp\n",
      "tooth_28_pulp\n",
      "tooth_33_pulp\n",
      "tooth_12_pulp\n",
      "tooth_37_pulp\n",
      "tooth_25_pulp\n",
      "tooth_21_pulp\n",
      "tooth_42_pulp\n",
      "tooth_41_pulp\n",
      "tooth_32_pulp\n",
      "tooth_22_pulp\n",
      "tooth_26_pulp\n",
      "tooth_38_pulp\n",
      "tooth_34_pulp\n",
      "tooth_14_pulp\n",
      "tooth_13_pulp\n",
      "tooth_31_pulp\n",
      "tooth_36_pulp\n",
      "576854P525111_576854_1411394766-cbct-tooth-37_decimated\n",
      "576854P525111_576854_1471551373-cbct-tooth-31_decimated\n",
      "576854P525111_576854_1663495340-cbct-tooth-25_decimated\n",
      "576854P525111_576854_1811494433-cbct-tooth-13_decimated\n",
      "576854P525111_576854_1847837597-cbct-tooth-34_decimated\n",
      "576854P525111_576854_1852113507-cbct-tooth-15_decimated\n",
      "576854P525111_576854_1925561796-cbct-tooth-23_decimated\n",
      "576854P525111_576854_2042686759-cbct-tooth-12_decimated\n",
      "576854P525111_576854_2208449631-cbct-tooth-22_decimated\n",
      "576854P525111_576854_2331199023-cbct-tooth-27_decimated\n",
      "576854P525111_576854_2343913874-cbct-tooth-28_decimated\n",
      "576854P525111_576854_243759860-cbct-tooth-36_decimated\n",
      "576854P525111_576854_2525719477-cbct-tooth-14_decimated\n",
      "576854P525111_576854_2831017268-cbct-tooth-32_decimated\n",
      "576854P525111_576854_2878976885-cbct-tooth-11_decimated\n",
      "576854P525111_576854_2933066184-cbct-tooth-43_decimated\n",
      "576854P525111_576854_2952725260-cbct-tooth-41_decimated\n",
      "576854P525111_576854_3086607036-cbct-tooth-38_decimated\n",
      "576854P525111_576854_3212145905-cbct-tooth-44_decimated\n",
      "576854P525111_576854_4019346896-cbct-tooth-21_decimated\n",
      "576854P525111_576854_458181895-cbct-tooth-24_decimated\n",
      "576854P525111_576854_46236232-cbct-tooth-26_decimated\n",
      "576854P525111_576854_55505059-cbct-tooth-35_decimated\n",
      "576854P525111_576854_722067800-cbct-tooth-42_decimated\n",
      "576854P525111_576854_936996918-cbct-tooth-33_decimated\n",
      "one case sucessfully converted\n"
     ]
    },
    {
     "name": "stderr",
     "output_type": "stream",
     "text": [
      " 84%|########4 | 201/238 [3:23:00<2:08:17, 208.05s/it]"
     ]
    },
    {
     "name": "stdout",
     "output_type": "stream",
     "text": [
      "./temp_unzip\\576856_volumes\n",
      "./temp_unzip\\576856_segmentations\n",
      "('1',)\n",
      "tooth_41_pulp\n",
      "tooth_35_pulp\n",
      "tooth_22_pulp\n",
      "tooth_15_pulp\n",
      "tooth_32_pulp\n",
      "tooth_43_pulp\n",
      "tooth_24_pulp\n",
      "tooth_13_pulp\n",
      "tooth_26_pulp\n",
      "tooth_21_pulp\n",
      "tooth_33_pulp\n",
      "tooth_42_pulp\n",
      "tooth_34_pulp\n",
      "tooth_14_pulp\n",
      "tooth_44_pulp\n",
      "tooth_11_pulp\n",
      "tooth_12_pulp\n",
      "tooth_23_pulp\n",
      "576856P525110_576856_118786735-cbct-tooth-42_decimated\n",
      "576856P525110_576856_1606241778-cbct-tooth-44_decimated\n",
      "576856P525110_576856_1726797804-cbct-tooth-13_decimated\n",
      "576856P525110_576856_1835578649-cbct-tooth-33_decimated\n",
      "576856P525110_576856_1860190017-cbct-tooth-15_decimated\n",
      "576856P525110_576856_2473687410-cbct-tooth-12_decimated\n",
      "576856P525110_576856_2963774167-cbct-tooth-11_decimated\n",
      "576856P525110_576856_3591634-cbct-tooth-14_decimated\n",
      "576856P525110_576856_3652364487-cbct-tooth-22_decimated\n",
      "576856P525110_576856_368785504-cbct-tooth-41_decimated\n",
      "576856P525110_576856_3824467877-cbct-tooth-35_decimated\n",
      "576856P525110_576856_3986960425-cbct-tooth-26_decimated\n",
      "576856P525110_576856_4114092313-cbct-tooth-43_decimated\n",
      "576856P525110_576856_464571406-cbct-tooth-34_decimated\n",
      "576856P525110_576856_519866580-cbct-tooth-23_decimated\n",
      "576856P525110_576856_524320502-cbct-tooth-32_decimated\n",
      "576856P525110_576856_668705770-cbct-tooth-21_decimated\n",
      "576856P525110_576856_81153641-cbct-tooth-24_decimated\n",
      "one case sucessfully converted\n"
     ]
    },
    {
     "name": "stderr",
     "output_type": "stream",
     "text": [
      " 85%|########4 | 202/238 [3:26:30<2:05:13, 208.72s/it]"
     ]
    },
    {
     "name": "stdout",
     "output_type": "stream",
     "text": [
      "./temp_unzip\\576887_volumes\n",
      "./temp_unzip\\576887_segmentations\n",
      "('1',)\n",
      "tooth_34_pulp\n",
      "tooth_21_pulp\n",
      "tooth_12_pulp\n",
      "tooth_25_pulp\n",
      "tooth_22_pulp\n",
      "tooth_11_pulp\n",
      "tooth_13_pulp\n",
      "tooth_23_pulp\n",
      "tooth_43_pulp\n",
      "tooth_33_pulp\n",
      "tooth_35_pulp\n",
      "tooth_41_pulp\n",
      "tooth_42_pulp\n",
      "tooth_27_pulp\n",
      "tooth_36_pulp\n",
      "tooth_32_pulp\n",
      "tooth_24_pulp\n",
      "tooth_31_pulp\n",
      "tooth_26_pulp\n",
      "576887P525160_3063936161-cbct-tooth-35_decimated\n",
      "576887P525160_1915105454-cbct-tooth-33_decimated\n",
      "576887P525160_1970444538-cbct-tooth-41_decimated\n",
      "576887P525160_2022107358-cbct-tooth-25_decimated\n",
      "576887P525160_2462787636-cbct-tooth-24_decimated\n",
      "576887P525160_2489026690-cbct-tooth-27_decimated\n",
      "576887P525160_2916744979-cbct-tooth-36_decimated\n",
      "576887P525160_3004095067-cbct-tooth-21_decimated\n",
      "576887P525160_3137730730-cbct-tooth-26_decimated\n",
      "576887P525160_3277754265-cbct-tooth-13_decimated\n",
      "576887P525160_3749212871-cbct-tooth-31_decimated\n",
      "576887P525160_3750756972-cbct-tooth-22_decimated\n",
      "576887P525160_3751551562-cbct-tooth-32_decimated\n",
      "576887P525160_3873860521-cbct-tooth-12_decimated\n",
      "576887P525160_423426712-cbct-tooth-34_decimated\n",
      "576887P525160_714063515-cbct-tooth-42_decimated\n",
      "576887P525160_84451620-cbct-tooth-23_decimated\n",
      "576887P525160_887487696-cbct-tooth-11_decimated\n",
      "576887P525160_929433011-cbct-tooth-43_decimated\n",
      "one case sucessfully converted\n"
     ]
    },
    {
     "name": "stderr",
     "output_type": "stream",
     "text": [
      " 85%|########5 | 203/238 [3:30:12<2:04:07, 212.78s/it]"
     ]
    },
    {
     "name": "stdout",
     "output_type": "stream",
     "text": [
      "./temp_unzip\\576945_volumes\n",
      "./temp_unzip\\576945_segmentations\n",
      "('1',)\n",
      "tooth_28_pulp\n",
      "tooth_36_pulp\n",
      "tooth_27_pulp\n",
      "tooth_37_pulp\n",
      "tooth_38_pulp\n",
      "576945P525984_576945_1147462301-cbct-tooth-28_decimated\n",
      "576945P525984_576945_1358114301-cbct-tooth-37_decimated\n",
      "576945P525984_576945_1768068830-cbct-tooth-27_decimated\n",
      "576945P525984_576945_2445189834-cbct-tooth-38_decimated\n",
      "576945P525984_576945_824730949-cbct-tooth-36_decimated\n",
      "one case sucessfully converted\n"
     ]
    },
    {
     "name": "stderr",
     "output_type": "stream",
     "text": [
      " 86%|########5 | 204/238 [3:31:20<1:35:52, 169.18s/it]"
     ]
    },
    {
     "name": "stdout",
     "output_type": "stream",
     "text": [
      "./temp_unzip\\576998_volumes\n",
      "./temp_unzip\\576998_segmentations\n",
      "('1',)\n",
      "tooth_21_pulp\n",
      "tooth_43_pulp\n",
      "tooth_41_pulp\n",
      "tooth_22_pulp\n",
      "tooth_44_pulp\n",
      "tooth_14_pulp\n",
      "tooth_12_pulp\n",
      "tooth_31_pulp\n",
      "tooth_15_pulp\n",
      "tooth_32_pulp\n",
      "tooth_11_pulp\n",
      "tooth_13_pulp\n",
      "576998P526380_576998_1283704307-cbct-tooth-21_decimated\n",
      "576998P526380_576998_1926272659-cbct-tooth-15_decimated\n",
      "576998P526380_576998_1996344513-cbct-tooth-31_decimated\n",
      "576998P526380_576998_212979472-cbct-tooth-44_decimated\n",
      "576998P526380_576998_2369775217-cbct-tooth-13_decimated\n",
      "576998P526380_576998_2942249191-cbct-tooth-12_decimated\n",
      "576998P526380_576998_3435161700-cbct-tooth-32_decimated\n",
      "576998P526380_576998_3505089206-cbct-tooth-43_decimated\n",
      "576998P526380_576998_4094506586-cbct-tooth-41_decimated\n",
      "576998P526380_576998_419958390-cbct-tooth-22_decimated\n",
      "576998P526380_576998_4239159339-cbct-tooth-11_decimated\n",
      "576998P526380_576998_980225354-cbct-tooth-14_decimated\n",
      "one case sucessfully converted\n"
     ]
    },
    {
     "name": "stderr",
     "output_type": "stream",
     "text": [
      " 86%|########6 | 205/238 [3:33:42<1:28:40, 161.23s/it]"
     ]
    },
    {
     "name": "stdout",
     "output_type": "stream",
     "text": [
      "./temp_unzip\\577011_volumes\n",
      "./temp_unzip\\577011_segmentations\n",
      "('1',)\n",
      "tooth_27_pulp\n",
      "tooth_48_pulp\n",
      "tooth_25_pulp\n",
      "tooth_37_pulp\n",
      "577011P525286_577011_2404330288-cbct-tooth-25_decimated\n",
      "577011P525286_577011_3273633743-cbct-tooth-37_decimated\n",
      "577011P525286_577011_3509671208-cbct-tooth-48_decimated\n",
      "577011P525286_577011_4111351068-cbct-tooth-27_decimated\n",
      "one case sucessfully converted\n"
     ]
    },
    {
     "name": "stderr",
     "output_type": "stream",
     "text": [
      " 87%|########6 | 206/238 [3:34:34<1:08:31, 128.48s/it]"
     ]
    },
    {
     "name": "stdout",
     "output_type": "stream",
     "text": [
      "./temp_unzip\\577039_volumes\n",
      "./temp_unzip\\577039_segmentations\n",
      "('1',)\n",
      "tooth_25_pulp\n",
      "tooth_38_pulp\n",
      "tooth_28_pulp\n",
      "tooth_26_pulp\n",
      "tooth_27_pulp\n",
      "tooth_35_pulp\n",
      "tooth_36_pulp\n",
      "tooth_37_pulp\n",
      "577039P525322_577039_2051806199-cbct-tooth-25_decimated\n",
      "577039P525322_577039_2444270864-cbct-tooth-38_decimated\n",
      "577039P525322_577039_2725853783-cbct-tooth-27_decimated\n",
      "577039P525322_577039_3509136433-cbct-tooth-36_decimated\n",
      "577039P525322_577039_3619005937-cbct-tooth-37_decimated\n",
      "577039P525322_577039_3940840621-cbct-tooth-28_decimated\n",
      "577039P525322_577039_3992460344-cbct-tooth-35_decimated\n",
      "577039P525322_577039_4204256063-cbct-tooth-26_decimated\n",
      "one case sucessfully converted\n"
     ]
    },
    {
     "name": "stderr",
     "output_type": "stream",
     "text": [
      " 87%|########6 | 207/238 [3:36:50<1:07:32, 130.72s/it]"
     ]
    },
    {
     "name": "stdout",
     "output_type": "stream",
     "text": [
      "./temp_unzip\\577053_volumes\n",
      "./temp_unzip\\577053_segmentations\n",
      "('1',)\n",
      "tooth_14_pulp\n",
      "tooth_11_pulp\n",
      "tooth_24_pulp\n",
      "tooth_25_pulp\n",
      "tooth_23_pulp\n",
      "tooth_22_pulp\n",
      "tooth_21_pulp\n",
      "tooth_12_pulp\n",
      "tooth_13_pulp\n",
      "577053P525334_577053_1197246785-cbct-tooth-11_decimated\n",
      "577053P525334_577053_1433110223-cbct-tooth-22_decimated\n",
      "577053P525334_577053_1543814123-cbct-tooth-24_decimated\n",
      "577053P525334_577053_183234275-cbct-tooth-14_decimated\n",
      "577053P525334_577053_2183546068-cbct-tooth-21_decimated\n",
      "577053P525334_577053_3514037241-cbct-tooth-12_decimated\n",
      "577053P525334_577053_3848343211-cbct-tooth-23_decimated\n",
      "577053P525334_577053_552032737-cbct-tooth-25_decimated\n",
      "577053P525334_577053_98501849-cbct-tooth-13_decimated\n",
      "one case sucessfully converted\n"
     ]
    },
    {
     "name": "stderr",
     "output_type": "stream",
     "text": [
      " 87%|########7 | 208/238 [3:38:41<1:02:21, 124.71s/it]"
     ]
    },
    {
     "name": "stdout",
     "output_type": "stream",
     "text": [
      "./temp_unzip\\577063_volumes\n",
      "./temp_unzip\\577063_segmentations\n",
      "('1',)\n",
      "tooth_34_pulp\n",
      "tooth_24_pulp\n",
      "tooth_13_pulp\n",
      "tooth_23_pulp\n",
      "tooth_12_pulp\n",
      "tooth_25_pulp\n",
      "tooth_11_pulp\n",
      "tooth_33_pulp\n",
      "tooth_36_pulp\n",
      "tooth_42_pulp\n",
      "tooth_21_pulp\n",
      "tooth_41_pulp\n",
      "tooth_31_pulp\n",
      "tooth_35_pulp\n",
      "tooth_26_pulp\n",
      "tooth_32_pulp\n",
      "577063P525347_577063_1179635111-cbct-tooth-36_decimated\n",
      "577063P525347_577063_1188983267-cbct-tooth-21_decimated\n",
      "577063P525347_577063_1437505353-cbct-tooth-26_decimated\n",
      "577063P525347_577063_1568557784-cbct-tooth-11_decimated\n",
      "577063P525347_577063_1900247495-cbct-tooth-34_decimated\n",
      "577063P525347_577063_2320758185-cbct-tooth-23_decimated\n",
      "577063P525347_577063_2385549101-cbct-tooth-25_decimated\n",
      "577063P525347_577063_244196914-cbct-tooth-33_decimated\n",
      "577063P525347_577063_3034984511-cbct-tooth-31_decimated\n",
      "577063P525347_577063_3933621015-cbct-tooth-12_decimated\n",
      "577063P525347_577063_4030472026-cbct-tooth-13_decimated\n",
      "577063P525347_577063_4122109648-cbct-tooth-24_decimated\n",
      "577063P525347_577063_4170795920-cbct-tooth-42_decimated\n",
      "577063P525347_577063_4199623613-cbct-tooth-41_decimated\n",
      "577063P525347_577063_623861005-cbct-tooth-32_decimated\n",
      "577063P525347_577063_783516798-cbct-tooth-35_decimated\n",
      "one case sucessfully converted\n"
     ]
    },
    {
     "name": "stderr",
     "output_type": "stream",
     "text": [
      " 88%|########7 | 209/238 [3:43:09<1:21:03, 167.71s/it]"
     ]
    },
    {
     "name": "stdout",
     "output_type": "stream",
     "text": [
      "./temp_unzip\\577179_volumes\n",
      "./temp_unzip\\577179_segmentations\n",
      "('1',)\n",
      "tooth_32_pulp\n",
      "tooth_14_pulp\n",
      "tooth_23_pulp\n",
      "tooth_31_pulp\n",
      "577179P525465_577179_1226287122-cbct-tooth-23_decimated\n",
      "577179P525465_577179_2623411478-cbct-tooth-32_decimated\n",
      "577179P525465_577179_2956567691-cbct-tooth-31_decimated\n",
      "577179P525465_577179_3638708884-cbct-tooth-14_decimated\n",
      "one case sucessfully converted\n"
     ]
    },
    {
     "name": "stderr",
     "output_type": "stream",
     "text": [
      " 88%|########8 | 210/238 [3:43:58<1:01:36, 132.02s/it]"
     ]
    },
    {
     "name": "stdout",
     "output_type": "stream",
     "text": [
      "./temp_unzip\\577186_volumes\n",
      "./temp_unzip\\577186_segmentations\n",
      "('1',)\n",
      "tooth_36_pulp\n",
      "tooth_38_pulp\n",
      "tooth_37_pulp\n",
      "577186P526862_577186_1160174279-cbct-tooth-37_decimated\n",
      "577186P526862_577186_2325623831-cbct-tooth-38_decimated\n",
      "577186P526862_577186_3205061931-cbct-tooth-36_decimated\n",
      "one case sucessfully converted\n"
     ]
    },
    {
     "name": "stderr",
     "output_type": "stream",
     "text": [
      " 89%|########8 | 211/238 [3:44:38<47:03, 104.59s/it]  "
     ]
    },
    {
     "name": "stdout",
     "output_type": "stream",
     "text": [
      "./temp_unzip\\577210_volumes\n",
      "./temp_unzip\\577210_segmentations\n",
      "('1',)\n",
      "tooth_36_pulp\n",
      "tooth_26_pulp\n",
      "tooth_28_pulp\n",
      "tooth_38_pulp\n",
      "tooth_37_pulp\n",
      "tooth_25_pulp\n",
      "tooth_27_pulp\n",
      "577210P525529_577210_1059744266-cbct-tooth-28_decimated\n",
      "577210P525529_577210_1473703480-cbct-tooth-26_decimated\n",
      "577210P525529_577210_3356827640-cbct-tooth-37_decimated\n",
      "577210P525529_577210_3367285080-cbct-tooth-38_decimated\n",
      "577210P525529_577210_3452590600-cbct-tooth-27_decimated\n",
      "577210P525529_577210_3507102269-cbct-tooth-25_decimated\n",
      "577210P525529_577210_4101748530-cbct-tooth-36_decimated\n",
      "one case sucessfully converted\n"
     ]
    },
    {
     "name": "stderr",
     "output_type": "stream",
     "text": [
      " 89%|########9 | 212/238 [3:46:09<43:30, 100.40s/it]"
     ]
    },
    {
     "name": "stdout",
     "output_type": "stream",
     "text": [
      "./temp_unzip\\577436_volumes\n",
      "./temp_unzip\\577436_segmentations\n",
      "('1',)\n",
      "tooth_15_pulp\n",
      "tooth_47_pulp\n",
      "tooth_45_pulp\n",
      "tooth_48_pulp\n",
      "tooth_17_pulp\n",
      "tooth_16_pulp\n",
      "577436P526165_1040079683-cbct-tooth-17_decimated\n",
      "577436P526165_3029053750-cbct-tooth-47_decimated\n",
      "577436P526165_1651661160-cbct-tooth-16_decimated\n",
      "577436P526165_2929611144-cbct-tooth-45_decimated\n",
      "577436P526165_3109564430-cbct-tooth-15_decimated\n",
      "577436P526165_4209214205-cbct-tooth-48_decimated\n",
      "one case sucessfully converted\n"
     ]
    },
    {
     "name": "stderr",
     "output_type": "stream",
     "text": [
      " 89%|########9 | 213/238 [3:47:26<38:54, 93.38s/it] "
     ]
    },
    {
     "name": "stdout",
     "output_type": "stream",
     "text": [
      "./temp_unzip\\577466_volumes\n",
      "./temp_unzip\\577466_segmentations\n",
      "('1',)\n",
      "tooth_31_pulp\n",
      "tooth_21_pulp\n",
      "tooth_24_pulp\n",
      "tooth_25_pulp\n",
      "tooth_41_pulp\n",
      "tooth_12_pulp\n",
      "tooth_32_pulp\n",
      "tooth_13_pulp\n",
      "tooth_14_pulp\n",
      "tooth_22_pulp\n",
      "tooth_42_pulp\n",
      "tooth_23_pulp\n",
      "tooth_11_pulp\n",
      "577466P525757_577466_1749825266-cbct-tooth-41_decimated\n",
      "577466P525757_577466_1815546334-cbct-tooth-31_decimated\n",
      "577466P525757_577466_2058313262-cbct-tooth-24_decimated\n",
      "577466P525757_577466_2073257203-cbct-tooth-42_decimated\n",
      "577466P525757_577466_2109147609-cbct-tooth-21_decimated\n",
      "577466P525757_577466_2461165166-cbct-tooth-23_decimated\n",
      "577466P525757_577466_2866183881-cbct-tooth-12_decimated\n",
      "577466P525757_577466_2937452253-cbct-tooth-25_decimated\n",
      "577466P525757_577466_2982897112-cbct-tooth-11_decimated\n",
      "577466P525757_577466_3068591856-cbct-tooth-14_decimated\n",
      "577466P525757_577466_3579855964-cbct-tooth-32_decimated\n",
      "577466P525757_577466_3830923690-cbct-tooth-22_decimated\n",
      "577466P525757_577466_4055407237-cbct-tooth-13_decimated\n",
      "one case sucessfully converted\n"
     ]
    },
    {
     "name": "stderr",
     "output_type": "stream",
     "text": [
      " 90%|########9 | 214/238 [3:49:59<44:27, 111.14s/it]"
     ]
    },
    {
     "name": "stdout",
     "output_type": "stream",
     "text": [
      "./temp_unzip\\577564_volumes\n",
      "./temp_unzip\\577564_segmentations\n",
      "('1',)\n",
      "tooth_26_pulp\n",
      "tooth_37_pulp\n",
      "tooth_38_pulp\n",
      "577564P525929_577564_2274322214-cbct-tooth-37_decimated\n",
      "577564P525929_577564_3050750699-cbct-tooth-26_decimated\n",
      "577564P525929_577564_3358872031-cbct-tooth-38_decimated\n",
      "one case sucessfully converted\n"
     ]
    },
    {
     "name": "stderr",
     "output_type": "stream",
     "text": [
      " 90%|######### | 215/238 [3:50:40<34:32, 90.09s/it] "
     ]
    },
    {
     "name": "stdout",
     "output_type": "stream",
     "text": [
      "./temp_unzip\\577589_volumes\n",
      "./temp_unzip\\577589_segmentations\n",
      "('1',)\n",
      "tooth_27_pulp\n",
      "tooth_38_pulp\n",
      "tooth_26_pulp\n",
      "tooth_37_pulp\n",
      "577589P527378_577589_1173088199-cbct-tooth-27_decimated\n",
      "577589P527378_577589_2892226078-cbct-tooth-38_decimated\n",
      "577589P527378_577589_3599477879-cbct-tooth-37_decimated\n",
      "577589P527378_577589_751856214-cbct-tooth-26_decimated\n",
      "one case sucessfully converted\n"
     ]
    },
    {
     "name": "stderr",
     "output_type": "stream",
     "text": [
      " 91%|######### | 216/238 [3:51:31<28:49, 78.61s/it]"
     ]
    },
    {
     "name": "stdout",
     "output_type": "stream",
     "text": [
      "./temp_unzip\\577590_volumes\n",
      "./temp_unzip\\577590_segmentations\n",
      "('1',)\n",
      "tooth_47_pulp\n",
      "tooth_46_pulp\n",
      "tooth_16_pulp\n",
      "tooth_17_pulp\n",
      "tooth_48_pulp\n",
      "577590P527153_577590_2358026217-cbct-tooth-16_decimated\n",
      "577590P527153_577590_2702379095-cbct-tooth-47_decimated\n",
      "577590P527153_577590_3042093370-cbct-tooth-48_decimated\n",
      "577590P527153_577590_3229586753-cbct-tooth-17_decimated\n",
      "577590P527153_577590_906889908-cbct-tooth-46_decimated\n",
      "one case sucessfully converted\n"
     ]
    },
    {
     "name": "stderr",
     "output_type": "stream",
     "text": [
      " 91%|#########1| 217/238 [3:52:54<27:55, 79.80s/it]"
     ]
    },
    {
     "name": "stdout",
     "output_type": "stream",
     "text": [
      "./temp_unzip\\577623_volumes\n",
      "./temp_unzip\\577623_segmentations\n",
      "('1',)\n",
      "tooth_27_pulp\n",
      "tooth_38_pulp\n",
      "tooth_37_pulp\n",
      "tooth_26_pulp\n",
      "577623P526327_577623_1411404095-cbct-tooth-26_decimated\n",
      "577623P526327_577623_2158953252-cbct-tooth-27_decimated\n",
      "577623P526327_577623_466611784-cbct-tooth-37_decimated\n",
      "577623P526327_577623_977891128-cbct-tooth-38_decimated\n",
      "one case sucessfully converted\n"
     ]
    },
    {
     "name": "stderr",
     "output_type": "stream",
     "text": [
      " 92%|#########1| 218/238 [3:53:45<23:42, 71.13s/it]"
     ]
    },
    {
     "name": "stdout",
     "output_type": "stream",
     "text": [
      "./temp_unzip\\577628_volumes\n",
      "./temp_unzip\\577628_segmentations\n",
      "('1',)\n",
      "tooth_45_pulp\n",
      "tooth_47_pulp\n",
      "tooth_16_pulp\n",
      "tooth_48_pulp\n",
      "tooth_15_pulp\n",
      "577628P527387_577628_1377965864-cbct-tooth-47_decimated\n",
      "577628P527387_577628_1939001925-cbct-tooth-16_decimated\n",
      "577628P527387_577628_2014932028-cbct-tooth-48_decimated\n",
      "577628P527387_577628_222828915-cbct-tooth-15_decimated\n",
      "577628P527387_577628_64507710-cbct-tooth-45_decimated\n",
      "one case sucessfully converted\n"
     ]
    },
    {
     "name": "stderr",
     "output_type": "stream",
     "text": [
      " 92%|#########2| 219/238 [3:54:47<21:41, 68.49s/it]"
     ]
    },
    {
     "name": "stdout",
     "output_type": "stream",
     "text": [
      "./temp_unzip\\577734_volumes\n",
      "./temp_unzip\\577734_segmentations\n",
      "('1',)\n",
      "somthing is wrong with case {'vol': './temp_unzip\\\\577734_volumes', 'seg': './temp_unzip\\\\577734_segmentations'} probably a missing segmentation\n"
     ]
    },
    {
     "name": "stderr",
     "output_type": "stream",
     "text": [
      " 92%|#########2| 220/238 [3:54:52<14:47, 49.28s/it]"
     ]
    },
    {
     "name": "stdout",
     "output_type": "stream",
     "text": [
      "./temp_unzip\\577745_volumes\n",
      "./temp_unzip\\577745_segmentations\n",
      "('1',)\n",
      "tooth_46_pulp\n",
      "tooth_32_pulp\n",
      "tooth_12_pulp\n",
      "tooth_31_pulp\n",
      "tooth_14_pulp\n",
      "tooth_16_pulp\n",
      "tooth_33_pulp\n",
      "tooth_41_pulp\n",
      "tooth_15_pulp\n",
      "tooth_21_pulp\n",
      "tooth_44_pulp\n",
      "tooth_45_pulp\n",
      "tooth_43_pulp\n",
      "tooth_22_pulp\n",
      "tooth_42_pulp\n",
      "tooth_11_pulp\n",
      "tooth_13_pulp\n",
      "577745P526057_577745_1116119348-cbct-tooth-21_decimated\n",
      "577745P526057_577745_1177810222-cbct-tooth-46_decimated\n",
      "577745P526057_577745_1202298132-cbct-tooth-33_decimated\n",
      "577745P526057_577745_2089456302-cbct-tooth-32_decimated\n",
      "577745P526057_577745_2198561898-cbct-tooth-22_decimated\n",
      "577745P526057_577745_254473081-cbct-tooth-43_decimated\n",
      "577745P526057_577745_2563776178-cbct-tooth-31_decimated\n",
      "577745P526057_577745_2865266682-cbct-tooth-45_decimated\n",
      "577745P526057_577745_3759472510-cbct-tooth-44_decimated\n",
      "577745P526057_577745_4073812236-cbct-tooth-15_decimated\n",
      "577745P526057_577745_4121319129-cbct-tooth-12_decimated\n",
      "577745P526057_577745_4243546906-cbct-tooth-41_decimated\n",
      "577745P526057_577745_4263730107-cbct-tooth-16_decimated\n",
      "577745P526057_577745_4284961186-cbct-tooth-13_decimated\n",
      "577745P526057_577745_472390104-cbct-tooth-14_decimated\n",
      "577745P526057_577745_624348543-cbct-tooth-42_decimated\n",
      "577745P526057_577745_847699698-cbct-tooth-11_decimated\n",
      "one case sucessfully converted\n"
     ]
    },
    {
     "name": "stderr",
     "output_type": "stream",
     "text": [
      " 93%|#########2| 221/238 [3:58:17<27:14, 96.16s/it]"
     ]
    },
    {
     "name": "stdout",
     "output_type": "stream",
     "text": [
      "./temp_unzip\\577806_volumes\n",
      "./temp_unzip\\577806_segmentations\n",
      "('1',)\n",
      "tooth_23_pulp\n",
      "tooth_14_pulp\n",
      "tooth_32_pulp\n",
      "tooth_16_pulp\n",
      "tooth_21_pulp\n",
      "tooth_46_pulp\n",
      "tooth_22_pulp\n",
      "tooth_31_pulp\n",
      "tooth_13_pulp\n",
      "tooth_15_pulp\n",
      "tooth_12_pulp\n",
      "tooth_11_pulp\n",
      "577806P526627_577806_1225805802-cbct-tooth-32_decimated\n",
      "577806P526627_577806_1675491899-cbct-tooth-21_decimated\n",
      "577806P526627_577806_2101237440-cbct-tooth-11_decimated\n",
      "577806P526627_577806_3550825911-cbct-tooth-31_decimated\n",
      "577806P526627_577806_3592985947-cbct-tooth-15_decimated\n",
      "577806P526627_577806_3810823741-cbct-tooth-16_decimated\n",
      "577806P526627_577806_853488281-cbct-tooth-23_decimated\n",
      "577806P526627_577806_4089833486-cbct-tooth-46_decimated\n",
      "577806P526627_577806_4173183457-cbct-tooth-13_decimated\n",
      "577806P526627_577806_472155525-cbct-tooth-12_decimated\n",
      "577806P526627_577806_569622719-cbct-tooth-22_decimated\n",
      "577806P526627_577806_937403032-cbct-tooth-14_decimated\n",
      "one case sucessfully converted\n"
     ]
    },
    {
     "name": "stderr",
     "output_type": "stream",
     "text": [
      " 93%|#########3| 222/238 [4:00:44<29:39, 111.20s/it]"
     ]
    },
    {
     "name": "stdout",
     "output_type": "stream",
     "text": [
      "./temp_unzip\\578001_volumes\n",
      "./temp_unzip\\578001_segmentations\n",
      "('1',)\n",
      "tooth_36_pulp\n",
      "tooth_38_pulp\n",
      "tooth_37_pulp\n",
      "578001P526430_578001_1125355950-cbct-tooth-38_decimated\n",
      "578001P526430_578001_2364470158-cbct-tooth-36_decimated\n",
      "578001P526430_578001_3235984138-cbct-tooth-37_decimated\n",
      "one case sucessfully converted\n"
     ]
    },
    {
     "name": "stderr",
     "output_type": "stream",
     "text": [
      " 94%|#########3| 223/238 [4:01:35<23:18, 93.20s/it] "
     ]
    },
    {
     "name": "stdout",
     "output_type": "stream",
     "text": [
      "./temp_unzip\\578094_volumes\n",
      "./temp_unzip\\578094_segmentations\n",
      "('1',)\n",
      "tooth_42_pulp\n",
      "tooth_23_pulp\n",
      "tooth_35_pulp\n",
      "tooth_21_pulp\n",
      "tooth_11_pulp\n",
      "tooth_24_pulp\n",
      "tooth_33_pulp\n",
      "tooth_32_pulp\n",
      "tooth_41_pulp\n",
      "tooth_25_pulp\n",
      "tooth_22_pulp\n",
      "tooth_26_pulp\n",
      "tooth_34_pulp\n",
      "tooth_36_pulp\n",
      "tooth_31_pulp\n",
      "578094P526750_578094_1164917160-cbct-tooth-32_decimated\n",
      "578094P526750_578094_1857210394-cbct-tooth-21_decimated\n",
      "578094P526750_578094_2080691758-cbct-tooth-33_decimated\n",
      "578094P526750_578094_2223730146-cbct-tooth-34_decimated\n",
      "578094P526750_578094_2372950248-cbct-tooth-26_decimated\n",
      "578094P526750_578094_2431683959-cbct-tooth-31_decimated\n",
      "578094P526750_578094_2438792880-cbct-tooth-24_decimated\n",
      "578094P526750_578094_2505997595-cbct-tooth-23_decimated\n",
      "578094P526750_578094_2748198866-cbct-tooth-22_decimated\n",
      "578094P526750_578094_3528860055-cbct-tooth-35_decimated\n",
      "578094P526750_578094_3810688259-cbct-tooth-42_decimated\n",
      "578094P526750_578094_4122005293-cbct-tooth-11_decimated\n",
      "578094P526750_578094_4150885101-cbct-tooth-36_decimated\n",
      "578094P526750_578094_79290879-cbct-tooth-25_decimated\n",
      "578094P526750_578094_805125079-cbct-tooth-41_decimated\n",
      "one case sucessfully converted\n"
     ]
    },
    {
     "name": "stderr",
     "output_type": "stream",
     "text": [
      " 94%|#########4| 224/238 [4:04:34<27:46, 119.00s/it]"
     ]
    },
    {
     "name": "stdout",
     "output_type": "stream",
     "text": [
      "./temp_unzip\\578111_volumes\n",
      "./temp_unzip\\578111_segmentations\n",
      "('1',)\n",
      "tooth_15_pulp\n",
      "tooth_12_pulp\n",
      "tooth_16_pulp\n",
      "tooth_44_pulp\n",
      "tooth_45_pulp\n",
      "tooth_46_pulp\n",
      "tooth_13_pulp\n",
      "tooth_14_pulp\n",
      "tooth_43_pulp\n",
      "578111P526591_578111_1453192328-cbct-tooth-46_decimated\n",
      "578111P526591_578111_2054713749-cbct-tooth-16_decimated\n",
      "578111P526591_578111_2313602690-cbct-tooth-43_decimated\n",
      "578111P526591_578111_2623827096-cbct-tooth-44_decimated\n",
      "578111P526591_578111_31081552-cbct-tooth-45_decimated\n",
      "578111P526591_578111_3156182077-cbct-tooth-15_decimated\n",
      "578111P526591_578111_3715144200-cbct-tooth-14_decimated\n",
      "578111P526591_578111_3984382846-cbct-tooth-13_decimated\n",
      "578111P526591_578111_4281748010-cbct-tooth-12_decimated\n",
      "one case sucessfully converted\n"
     ]
    },
    {
     "name": "stderr",
     "output_type": "stream",
     "text": [
      " 95%|#########4| 225/238 [4:06:20<24:54, 114.98s/it]"
     ]
    },
    {
     "name": "stdout",
     "output_type": "stream",
     "text": [
      "./temp_unzip\\578239_volumes\n",
      "./temp_unzip\\578239_segmentations\n",
      "('1',)\n",
      "tooth_16_pulp\n",
      "tooth_18_pulp\n",
      "tooth_17_pulp\n",
      "tooth_47_pulp\n",
      "tooth_48_pulp\n",
      "tooth_46_pulp\n",
      "578239P527048_578239_1986944495-cbct-tooth-47_decimated\n",
      "578239P527048_578239_2376908003-cbct-tooth-16_decimated\n",
      "578239P527048_578239_320244745-cbct-tooth-48_decimated\n",
      "578239P527048_578239_3616501423-cbct-tooth-46_decimated\n",
      "578239P527048_578239_377018791-cbct-tooth-17_decimated\n",
      "578239P527048_578239_679969604-cbct-tooth-18_decimated\n",
      "one case sucessfully converted\n"
     ]
    },
    {
     "name": "stderr",
     "output_type": "stream",
     "text": [
      " 95%|#########4| 226/238 [4:07:34<20:33, 102.82s/it]"
     ]
    },
    {
     "name": "stdout",
     "output_type": "stream",
     "text": [
      "./temp_unzip\\578343_volumes\n",
      "./temp_unzip\\578343_segmentations\n",
      "('1',)\n",
      "tooth_32_pulp\n",
      "tooth_22_pulp\n",
      "tooth_35_pulp\n",
      "tooth_25_pulp\n",
      "tooth_23_pulp\n",
      "tooth_24_pulp\n",
      "tooth_31_pulp\n",
      "tooth_33_pulp\n",
      "tooth_21_pulp\n",
      "tooth_11_pulp\n",
      "578343P526850_578343_113225307-cbct-tooth-23_decimated\n",
      "578343P526850_578343_1890826727-cbct-tooth-25_decimated\n",
      "578343P526850_578343_2401975600-cbct-tooth-32_decimated\n",
      "578343P526850_578343_2992356806-cbct-tooth-33_decimated\n",
      "578343P526850_578343_3074460610-cbct-tooth-22_decimated\n",
      "578343P526850_578343_3343672251-cbct-tooth-24_decimated\n",
      "578343P526850_578343_407783102-cbct-tooth-11_decimated\n",
      "578343P526850_578343_4095752998-cbct-tooth-31_decimated\n",
      "578343P526850_578343_4214072254-cbct-tooth-21_decimated\n",
      "578343P526850_578343_80688891-cbct-tooth-35_decimated\n",
      "one case sucessfully converted\n"
     ]
    },
    {
     "name": "stderr",
     "output_type": "stream",
     "text": [
      " 95%|#########5| 227/238 [4:09:34<19:48, 108.06s/it]"
     ]
    },
    {
     "name": "stdout",
     "output_type": "stream",
     "text": [
      "./temp_unzip\\578396_volumes\n",
      "./temp_unzip\\578396_segmentations\n",
      "('1',)\n",
      "tooth_37_pulp\n",
      "tooth_46_pulp\n",
      "tooth_28_pulp\n",
      "tooth_34_pulp\n",
      "tooth_41_pulp\n",
      "tooth_26_pulp\n",
      "tooth_23_pulp\n",
      "tooth_45_pulp\n",
      "tooth_27_pulp\n",
      "tooth_22_pulp\n",
      "tooth_32_pulp\n",
      "tooth_14_pulp\n",
      "tooth_31_pulp\n",
      "tooth_42_pulp\n",
      "tooth_47_pulp\n",
      "tooth_15_pulp\n",
      "tooth_13_pulp\n",
      "tooth_12_pulp\n",
      "tooth_24_pulp\n",
      "tooth_16_pulp\n",
      "tooth_43_pulp\n",
      "tooth_18_pulp\n",
      "tooth_11_pulp\n",
      "tooth_17_pulp\n",
      "tooth_35_pulp\n",
      "tooth_44_pulp\n",
      "tooth_21_pulp\n",
      "tooth_33_pulp\n",
      "tooth_25_pulp\n",
      "tooth_36_pulp\n",
      "578396P526839_578396_1040128420-cbct-tooth-42_decimated\n",
      "578396P526839_578396_1122474808-cbct-tooth-45_decimated\n",
      "578396P526839_578396_1158662038-cbct-tooth-11_decimated\n",
      "578396P526839_578396_1218519974-cbct-tooth-41_decimated\n",
      "578396P526839_578396_1476818450-cbct-tooth-36_decimated\n",
      "578396P526839_578396_1870737023-cbct-tooth-35_decimated\n",
      "578396P526839_578396_1875334975-cbct-tooth-37_decimated\n",
      "578396P526839_578396_1892844427-cbct-tooth-27_decimated\n",
      "578396P526839_578396_2050595721-cbct-tooth-47_decimated\n",
      "578396P526839_578396_2176815828-cbct-tooth-16_decimated\n",
      "578396P526839_578396_2187354672-cbct-tooth-44_decimated\n",
      "578396P526839_578396_2196596729-cbct-tooth-24_decimated\n",
      "578396P526839_578396_2266400798-cbct-tooth-13_decimated\n",
      "578396P526839_578396_2564085904-cbct-tooth-25_decimated\n",
      "578396P526839_578396_2566922833-cbct-tooth-31_decimated\n",
      "578396P526839_578396_285158832-cbct-tooth-22_decimated\n",
      "578396P526839_578396_2865428130-cbct-tooth-21_decimated\n",
      "578396P526839_578396_3956268129-cbct-tooth-14_decimated\n",
      "578396P526839_578396_3972478119-cbct-tooth-26_decimated\n",
      "578396P526839_578396_4101545080-cbct-tooth-46_decimated\n",
      "578396P526839_578396_4109676380-cbct-tooth-18_decimated\n",
      "578396P526839_578396_4169162412-cbct-tooth-15_decimated\n",
      "578396P526839_578396_4242310059-cbct-tooth-33_decimated\n",
      "578396P526839_578396_530627439-cbct-tooth-32_decimated\n",
      "578396P526839_578396_586320900-cbct-tooth-43_decimated\n",
      "578396P526839_578396_749642502-cbct-tooth-12_decimated\n",
      "578396P526839_578396_753905105-cbct-tooth-17_decimated\n",
      "578396P526839_578396_766194901-cbct-tooth-23_decimated\n",
      "578396P526839_578396_927151371-cbct-tooth-28_decimated\n",
      "578396P526839_578396_993521592-cbct-tooth-34_decimated\n",
      "one case sucessfully converted\n"
     ]
    },
    {
     "name": "stderr",
     "output_type": "stream",
     "text": [
      " 96%|#########5| 228/238 [4:15:32<30:28, 182.87s/it]"
     ]
    },
    {
     "name": "stdout",
     "output_type": "stream",
     "text": [
      "./temp_unzip\\578398_volumes\n",
      "./temp_unzip\\578398_segmentations\n",
      "('1',)\n",
      "tooth_23_pulp\n",
      "tooth_22_pulp\n",
      "tooth_43_pulp\n",
      "tooth_31_pulp\n",
      "tooth_41_pulp\n",
      "tooth_12_pulp\n",
      "tooth_32_pulp\n",
      "tooth_35_pulp\n",
      "tooth_37_pulp\n",
      "tooth_24_pulp\n",
      "tooth_33_pulp\n",
      "tooth_42_pulp\n",
      "tooth_25_pulp\n",
      "tooth_34_pulp\n",
      "tooth_36_pulp\n",
      "578398P526845_578398_1164848825-cbct-tooth-22_decimated\n",
      "578398P526845_578398_1398094725-cbct-tooth-34_decimated\n",
      "578398P526845_578398_1484412247-cbct-tooth-42_decimated\n",
      "578398P526845_578398_1501233599-cbct-tooth-32_decimated\n",
      "578398P526845_578398_1584776063-cbct-tooth-41_decimated\n",
      "578398P526845_578398_2039705580-cbct-tooth-43_decimated\n",
      "578398P526845_578398_2262116359-cbct-tooth-24_decimated\n",
      "578398P526845_578398_2380784068-cbct-tooth-31_decimated\n",
      "578398P526845_578398_2529964228-cbct-tooth-33_decimated\n",
      "578398P526845_578398_2762039953-cbct-tooth-35_decimated\n",
      "578398P526845_578398_2815495052-cbct-tooth-12_decimated\n",
      "578398P526845_578398_326207218-cbct-tooth-36_decimated\n",
      "578398P526845_578398_3912819420-cbct-tooth-25_decimated\n",
      "578398P526845_578398_505288828-cbct-tooth-23_decimated\n",
      "578398P526845_578398_744240247-cbct-tooth-37_decimated\n",
      "one case sucessfully converted\n"
     ]
    },
    {
     "name": "stderr",
     "output_type": "stream",
     "text": [
      " 96%|#########6| 229/238 [4:18:34<27:22, 182.54s/it]"
     ]
    },
    {
     "name": "stdout",
     "output_type": "stream",
     "text": [
      "./temp_unzip\\578401_volumes\n",
      "./temp_unzip\\578401_segmentations\n",
      "('1',)\n",
      "tooth_12_pulp\n",
      "tooth_18_pulp\n",
      "tooth_15_pulp\n",
      "tooth_13_pulp\n",
      "tooth_46_pulp\n",
      "tooth_27_pulp\n",
      "tooth_47_pulp\n",
      "tooth_42_pulp\n",
      "tooth_41_pulp\n",
      "tooth_24_pulp\n",
      "tooth_32_pulp\n",
      "tooth_36_pulp\n",
      "tooth_45_pulp\n",
      "tooth_37_pulp\n",
      "tooth_23_pulp\n",
      "tooth_16_pulp\n",
      "tooth_26_pulp\n",
      "tooth_21_pulp\n",
      "tooth_48_pulp\n",
      "tooth_25_pulp\n",
      "tooth_44_pulp\n",
      "tooth_28_pulp\n",
      "tooth_34_pulp\n",
      "tooth_22_pulp\n",
      "tooth_14_pulp\n",
      "tooth_31_pulp\n",
      "tooth_17_pulp\n",
      "tooth_38_pulp\n",
      "tooth_43_pulp\n",
      "tooth_11_pulp\n",
      "tooth_33_pulp\n",
      "tooth_35_pulp\n",
      "578401P526848_578401_1043543397-cbct-tooth-16_decimated\n",
      "578401P526848_578401_1419904249-cbct-tooth-43_decimated\n",
      "578401P526848_578401_149988591-cbct-tooth-17_decimated\n",
      "578401P526848_578401_1567354005-cbct-tooth-22_decimated\n",
      "578401P526848_578401_1674391769-cbct-tooth-38_decimated\n",
      "578401P526848_578401_1791586189-cbct-tooth-12_decimated\n",
      "578401P526848_578401_1845967774-cbct-tooth-23_decimated\n",
      "578401P526848_578401_1854044807-cbct-tooth-31_decimated\n",
      "578401P526848_578401_1941268216-cbct-tooth-21_decimated\n",
      "578401P526848_578401_2248889026-cbct-tooth-35_decimated\n",
      "578401P526848_578401_2329862234-cbct-tooth-47_decimated\n",
      "578401P526848_578401_2557381717-cbct-tooth-28_decimated\n",
      "578401P526848_578401_2693249340-cbct-tooth-13_decimated\n",
      "578401P526848_578401_2703134183-cbct-tooth-36_decimated\n",
      "578401P526848_578401_2731698104-cbct-tooth-11_decimated\n",
      "578401P526848_578401_2985416458-cbct-tooth-27_decimated\n",
      "578401P526848_578401_2997495065-cbct-tooth-44_decimated\n",
      "578401P526848_578401_3177745484-cbct-tooth-18_decimated\n",
      "578401P526848_578401_3196427636-cbct-tooth-34_decimated\n",
      "578401P526848_578401_3310403141-cbct-tooth-46_decimated\n",
      "578401P526848_578401_3378264741-cbct-tooth-32_decimated\n",
      "578401P526848_578401_3436479997-cbct-tooth-48_decimated\n",
      "578401P526848_578401_3458225341-cbct-tooth-45_decimated\n",
      "578401P526848_578401_353761077-cbct-tooth-14_decimated\n",
      "578401P526848_578401_3627510576-cbct-tooth-25_decimated\n",
      "578401P526848_578401_3686535216-cbct-tooth-37_decimated\n",
      "578401P526848_578401_3740695739-cbct-tooth-41_decimated\n",
      "578401P526848_578401_4203999603-cbct-tooth-26_decimated\n",
      "578401P526848_578401_576858602-cbct-tooth-33_decimated\n",
      "578401P526848_578401_629130864-cbct-tooth-15_decimated\n",
      "578401P526848_578401_678179992-cbct-tooth-24_decimated\n",
      "578401P526848_578401_947460743-cbct-tooth-42_decimated\n",
      "one case sucessfully converted\n"
     ]
    },
    {
     "name": "stderr",
     "output_type": "stream",
     "text": [
      " 97%|#########6| 230/238 [4:25:32<33:47, 253.45s/it]"
     ]
    },
    {
     "name": "stdout",
     "output_type": "stream",
     "text": [
      "./temp_unzip\\578518_volumes\n",
      "./temp_unzip\\578518_segmentations\n",
      "('1',)\n",
      "somthing is wrong with case {'vol': './temp_unzip\\\\578518_volumes', 'seg': './temp_unzip\\\\578518_segmentations'} probably a missing segmentation\n"
     ]
    },
    {
     "name": "stderr",
     "output_type": "stream",
     "text": [
      " 97%|#########7| 231/238 [4:25:38<20:52, 178.95s/it]"
     ]
    },
    {
     "name": "stdout",
     "output_type": "stream",
     "text": [
      "./temp_unzip\\578567_volumes\n",
      "./temp_unzip\\578567_segmentations\n",
      "('1',)\n",
      "tooth_28_pulp\n",
      "tooth_37_pulp\n",
      "tooth_27_pulp\n",
      "tooth_36_pulp\n",
      "tooth_38_pulp\n",
      "tooth_26_pulp\n",
      "578567P527044_578567_1006237621-cbct-tooth-37_decimated\n",
      "578567P527044_578567_1798895684-cbct-tooth-36_decimated\n",
      "578567P527044_578567_2033453597-cbct-tooth-38_decimated\n",
      "578567P527044_578567_2851239287-cbct-tooth-26_decimated\n",
      "578567P527044_578567_3637189570-cbct-tooth-28_decimated\n",
      "578567P527044_578567_376940784-cbct-tooth-27_decimated\n",
      "one case sucessfully converted\n"
     ]
    },
    {
     "name": "stderr",
     "output_type": "stream",
     "text": [
      " 97%|#########7| 232/238 [4:26:52<14:45, 147.64s/it]"
     ]
    },
    {
     "name": "stdout",
     "output_type": "stream",
     "text": [
      "./temp_unzip\\578652_volumes\n",
      "./temp_unzip\\578652_segmentations\n",
      "('1',)\n",
      "tooth_31_pulp\n",
      "tooth_22_pulp\n",
      "tooth_43_pulp\n",
      "tooth_47_pulp\n",
      "tooth_18_pulp\n",
      "tooth_13_pulp\n",
      "tooth_17_pulp\n",
      "tooth_21_pulp\n",
      "tooth_38_pulp\n",
      "tooth_44_pulp\n",
      "tooth_36_pulp\n",
      "tooth_41_pulp\n",
      "tooth_16_pulp\n",
      "tooth_15_pulp\n",
      "tooth_45_pulp\n",
      "tooth_25_pulp\n",
      "tooth_28_pulp\n",
      "tooth_27_pulp\n",
      "tooth_23_pulp\n",
      "tooth_33_pulp\n",
      "tooth_46_pulp\n",
      "tooth_35_pulp\n",
      "tooth_48_pulp\n",
      "tooth_34_pulp\n",
      "tooth_24_pulp\n",
      "tooth_37_pulp\n",
      "tooth_12_pulp\n",
      "tooth_14_pulp\n",
      "tooth_26_pulp\n",
      "tooth_32_pulp\n",
      "tooth_42_pulp\n",
      "tooth_11_pulp\n",
      "578652P527094_578652_1023735597-cbct-tooth-43_decimated\n",
      "578652P527094_578652_1126846514-cbct-tooth-45_decimated\n",
      "578652P527094_578652_1135780440-cbct-tooth-18_decimated\n",
      "578652P527094_578652_1144044555-cbct-tooth-16_decimated\n",
      "578652P527094_578652_1282038552-cbct-tooth-17_decimated\n",
      "578652P527094_578652_1293558542-cbct-tooth-32_decimated\n",
      "578652P527094_578652_1342466581-cbct-tooth-38_decimated\n",
      "578652P527094_578652_1506749490-cbct-tooth-22_decimated\n",
      "578652P527094_578652_1594889179-cbct-tooth-25_decimated\n",
      "578652P527094_578652_1641020352-cbct-tooth-31_decimated\n",
      "578652P527094_578652_1672145047-cbct-tooth-37_decimated\n",
      "578652P527094_578652_1748046910-cbct-tooth-12_decimated\n",
      "578652P527094_578652_1907346763-cbct-tooth-13_decimated\n",
      "578652P527094_578652_2005824198-cbct-tooth-26_decimated\n",
      "578652P527094_578652_206213355-cbct-tooth-35_decimated\n",
      "578652P527094_578652_2191693615-cbct-tooth-11_decimated\n",
      "578652P527094_578652_2500063061-cbct-tooth-24_decimated\n",
      "578652P527094_578652_2971821783-cbct-tooth-48_decimated\n",
      "578652P527094_578652_3133134877-cbct-tooth-28_decimated\n",
      "578652P527094_578652_315662863-cbct-tooth-14_decimated\n",
      "578652P527094_578652_3274987653-cbct-tooth-23_decimated\n",
      "578652P527094_578652_3365439748-cbct-tooth-15_decimated\n",
      "578652P527094_578652_3438761930-cbct-tooth-47_decimated\n",
      "578652P527094_578652_3498623516-cbct-tooth-33_decimated\n",
      "578652P527094_578652_3548347404-cbct-tooth-36_decimated\n",
      "578652P527094_578652_3726120927-cbct-tooth-27_decimated\n",
      "578652P527094_578652_3881948093-cbct-tooth-41_decimated\n",
      "578652P527094_578652_4039921847-cbct-tooth-21_decimated\n",
      "578652P527094_578652_4279052082-cbct-tooth-34_decimated\n",
      "578652P527094_578652_485051669-cbct-tooth-44_decimated\n",
      "578652P527094_578652_541625943-cbct-tooth-42_decimated\n",
      "578652P527094_578652_84610584-cbct-tooth-46_decimated\n",
      "one case sucessfully converted\n"
     ]
    },
    {
     "name": "stderr",
     "output_type": "stream",
     "text": [
      " 98%|#########7| 233/238 [4:33:40<18:48, 225.71s/it]"
     ]
    },
    {
     "name": "stdout",
     "output_type": "stream",
     "text": [
      "./temp_unzip\\578675_volumes\n",
      "./temp_unzip\\578675_segmentations\n",
      "('1',)\n",
      "tooth_36_pulp\n",
      "tooth_26_pulp\n",
      "tooth_37_pulp\n",
      "tooth_38_pulp\n",
      "tooth_27_pulp\n",
      "578675P527459_578675_1817102598-cbct-tooth-37_decimated\n",
      "578675P527459_578675_2135044812-cbct-tooth-27_decimated\n",
      "578675P527459_578675_2996955022-periapical-lesion-tooth-38-_decimated\n",
      "578675P527459_578675_4138304633-cbct-tooth-26_decimated\n",
      "578675P527459_578675_4213682564-cbct-tooth-36_decimated\n",
      "one case sucessfully converted\n"
     ]
    },
    {
     "name": "stderr",
     "output_type": "stream",
     "text": [
      " 98%|#########8| 234/238 [4:34:44<11:49, 177.34s/it]"
     ]
    },
    {
     "name": "stdout",
     "output_type": "stream",
     "text": [
      "./temp_unzip\\578888_volumes\n",
      "./temp_unzip\\578888_segmentations\n",
      "('1',)\n",
      "tooth_48_pulp\n",
      "tooth_47_pulp\n",
      "tooth_46_pulp\n",
      "578888P527401_578888_266095659-cbct-tooth-46_decimated\n",
      "578888P527401_578888_3399753960-cbct-tooth-48_decimated\n",
      "578888P527401_578888_783837464-cbct-tooth-47_decimated\n",
      "one case sucessfully converted\n"
     ]
    },
    {
     "name": "stderr",
     "output_type": "stream",
     "text": [
      " 99%|#########8| 235/238 [4:35:54<07:14, 144.94s/it]"
     ]
    },
    {
     "name": "stdout",
     "output_type": "stream",
     "text": [
      "./temp_unzip\\578910_volumes\n",
      "./temp_unzip\\578910_segmentations\n",
      "('1',)\n",
      "tooth_42_pulp\n",
      "tooth_36_pulp\n",
      "tooth_27_pulp\n",
      "tooth_14_pulp\n",
      "tooth_16_pulp\n",
      "tooth_44_pulp\n",
      "tooth_17_pulp\n",
      "tooth_13_pulp\n",
      "tooth_32_pulp\n",
      "tooth_26_pulp\n",
      "tooth_48_pulp\n",
      "tooth_34_pulp\n",
      "tooth_45_pulp\n",
      "tooth_21_pulp\n",
      "tooth_28_pulp\n",
      "tooth_23_pulp\n",
      "tooth_41_pulp\n",
      "tooth_33_pulp\n",
      "tooth_47_pulp\n",
      "tooth_46_pulp\n",
      "tooth_15_pulp\n",
      "tooth_12_pulp\n",
      "tooth_31_pulp\n",
      "tooth_43_pulp\n",
      "tooth_35_pulp\n",
      "tooth_22_pulp\n",
      "tooth_25_pulp\n",
      "tooth_24_pulp\n",
      "tooth_11_pulp\n",
      "578910P527422_578910_1167051653-cbct-tooth-21_decimated\n",
      "578910P527422_578910_1408293808-cbct-tooth-27_decimated\n",
      "578910P527422_578910_1516990271-cbct-tooth-15_decimated\n",
      "578910P527422_578910_1518032140-cbct-tooth-22_decimated\n",
      "578910P527422_578910_158205834-cbct-tooth-35_decimated\n",
      "578910P527422_578910_1617092598-cbct-tooth-13_decimated\n",
      "578910P527422_578910_1685458609-cbct-tooth-41_decimated\n",
      "578910P527422_578910_1820741828-cbct-tooth-11_decimated\n",
      "578910P527422_578910_1883687819-cbct-tooth-47_decimated\n",
      "578910P527422_578910_1932378366-cbct-tooth-17_decimated\n",
      "578910P527422_578910_1973483491-cbct-tooth-33_decimated\n",
      "578910P527422_578910_2083246241-cbct-tooth-12_decimated\n",
      "578910P527422_578910_2283525745-cbct-tooth-23_decimated\n",
      "578910P527422_578910_2443242525-cbct-tooth-36_decimated\n",
      "578910P527422_578910_2496398882-cbct-tooth-42_decimated\n",
      "578910P527422_578910_2589957963-cbct-tooth-25_decimated\n",
      "578910P527422_578910_3109686735-cbct-tooth-24_decimated\n",
      "578910P527422_578910_3258699146-cbct-tooth-44_decimated\n",
      "578910P527422_578910_3324996679-cbct-tooth-48_decimated\n",
      "578910P527422_578910_3383495593-cbct-tooth-16_decimated\n",
      "578910P527422_578910_3636982084-cbct-tooth-26_decimated\n",
      "578910P527422_578910_3815462095-cbct-tooth-43_decimated\n",
      "578910P527422_578910_3914180585-cbct-tooth-32_decimated\n",
      "578910P527422_578910_662088894-cbct-tooth-46_decimated\n",
      "578910P527422_578910_73395140-cbct-tooth-14_decimated\n",
      "578910P527422_578910_890825389-cbct-tooth-34_decimated\n",
      "578910P527422_578910_919445052-cbct-tooth-28_decimated\n",
      "578910P527422_578910_923036098-cbct-tooth-45_decimated\n",
      "578910P527422_578910_980912154-cbct-tooth-31_decimated\n",
      "one case sucessfully converted\n"
     ]
    },
    {
     "name": "stderr",
     "output_type": "stream",
     "text": [
      " 99%|#########9| 236/238 [4:41:38<06:49, 204.83s/it]"
     ]
    },
    {
     "name": "stdout",
     "output_type": "stream",
     "text": [
      "./temp_unzip\\579057_volumes\n",
      "./temp_unzip\\579057_segmentations\n",
      "('1',)\n",
      "tooth_23_pulp\n",
      "tooth_14_pulp\n",
      "tooth_37_pulp\n",
      "tooth_36_pulp\n",
      "tooth_45_pulp\n",
      "tooth_46_pulp\n",
      "tooth_21_pulp\n",
      "tooth_34_pulp\n",
      "tooth_41_pulp\n",
      "tooth_32_pulp\n",
      "tooth_42_pulp\n",
      "tooth_43_pulp\n",
      "tooth_13_pulp\n",
      "tooth_11_pulp\n",
      "tooth_33_pulp\n",
      "tooth_22_pulp\n",
      "tooth_24_pulp\n",
      "tooth_31_pulp\n",
      "tooth_27_pulp\n",
      "tooth_26_pulp\n",
      "tooth_25_pulp\n",
      "tooth_16_pulp\n",
      "tooth_44_pulp\n",
      "tooth_15_pulp\n",
      "tooth_12_pulp\n",
      "579057P527586_1348749109-cbct-tooth-41_decimated\n",
      "579057P527586_1956671222-cbct-tooth-13_decimated\n",
      "579057P527586_1974362129-cbct-tooth-15_decimated\n",
      "579057P527586_201503661-cbct-tooth-23_decimated\n",
      "579057P527586_2044181366-cbct-tooth-45_decimated\n",
      "579057P527586_2126665936-cbct-tooth-33_decimated\n",
      "579057P527586_2188294267-cbct-tooth-31_decimated\n",
      "579057P527586_2302782770-cbct-tooth-43_decimated\n",
      "579057P527586_2476520494-cbct-tooth-42_decimated\n",
      "579057P527586_2478854959-cbct-tooth-14_decimated\n",
      "579057P527586_2779707808-cbct-tooth-26_decimated\n",
      "579057P527586_2782452551-cbct-tooth-11_decimated\n",
      "579057P527586_2802003753-cbct-tooth-16_decimated\n",
      "579057P527586_2946157037-cbct-tooth-27_decimated\n",
      "579057P527586_3114172367-cbct-tooth-32_decimated\n",
      "579057P527586_3121090596-cbct-tooth-25_decimated\n",
      "579057P527586_3350365921-cbct-tooth-36_decimated\n",
      "579057P527586_3474102817-cbct-tooth-21_decimated\n",
      "579057P527586_3595558096-cbct-tooth-44_decimated\n",
      "579057P527586_3708344220-cbct-tooth-24_decimated\n",
      "579057P527586_3789202107-cbct-tooth-12_decimated\n",
      "579057P527586_392966715-cbct-tooth-34_decimated\n",
      "579057P527586_456735797-cbct-tooth-22_decimated\n",
      "579057P527586_508887142-cbct-tooth-37_decimated\n",
      "579057P527586_520699015-cbct-tooth-46_decimated\n",
      "one case sucessfully converted\n"
     ]
    },
    {
     "name": "stderr",
     "output_type": "stream",
     "text": [
      "100%|#########9| 237/238 [4:46:42<03:54, 234.60s/it]"
     ]
    },
    {
     "name": "stdout",
     "output_type": "stream",
     "text": [
      "./temp_unzip\\579169_volumes\n",
      "./temp_unzip\\579169_segmentations\n",
      "('1',)\n",
      "somthing is wrong with case {'vol': './temp_unzip\\\\579169_volumes', 'seg': './temp_unzip\\\\579169_segmentations'} probably a missing segmentation\n"
     ]
    },
    {
     "name": "stderr",
     "output_type": "stream",
     "text": [
      "100%|##########| 238/238 [4:46:47<00:00, 72.30s/it] \n"
     ]
    },
    {
     "name": "stdout",
     "output_type": "stream",
     "text": [
      "done converting all cases to nii\n"
     ]
    }
   ],
   "source": [
    "batch_nii_convert (input_cases)"
   ]
  },
  {
   "cell_type": "code",
   "execution_count": 44,
   "id": "c2bd95b1-d062-4235-992e-4048effdb08d",
   "metadata": {},
   "outputs": [
    {
     "name": "stdout",
     "output_type": "stream",
     "text": [
      "C:\\Users\\Sepehr\\3dsegmentationProjects\\nn-unet-organize-dataset-for-training\\temp_unzip\\576316_volumes\n",
      "C:\\Users\\Sepehr\\3dsegmentationProjects\\nn-unet-organize-dataset-for-training\\temp_unzip\\576316_segmentations\n",
      "('1',)\n",
      "tooth_17_pulp\n",
      "tooth_15_pulp\n",
      "tooth_16_pulp\n",
      "tooth_46_pulp\n",
      "tooth_47_pulp\n",
      "tooth_48_pulp\n",
      "576316P524529_1021196859-cbct-tooth-16_decimated\n",
      "576316P524529_1801213590-cbct-tooth-47_decimated\n",
      "576316P524529_2584734568-cbct-tooth-15_decimated\n",
      "576316P524529_2784246766-cbct-tooth-48_decimated\n",
      "576316P524529_4048851202-cbct-tooth-46_decimated\n",
      "576316P524529_4235198233-cbct-tooth-17_decimated\n",
      "one case sucessfully converted\n"
     ]
    }
   ],
   "source": [
    "# test_seg = \"C:\\\\Users\\\\Sepehr\\\\3dsegmentationProjects\\\\nn-unet-organize-dataset-for-training\\\\304846_246033_segmented_structures\"\n",
    "# test_vol = \"C:\\\\Users\\\\Sepehr\\\\3dsegmentationProjects\\\\nn-unet-organize-dataset-for-training\\\\304846_Ken_Lin_Lin_Ken____20200831_080509147\"\n",
    "\n",
    "# test_seg2 = \"C:\\\\Users\\\\Sepehr\\\\3dsegmentationProjects\\\\nn-unet-organize-dataset-for-training\\\\temp_unzip\\\\576316_segmentations\"\n",
    "# test_vol2 = \"C:\\\\Users\\\\Sepehr\\\\3dsegmentationProjects\\\\nn-unet-organize-dataset-for-training\\\\temp_unzip\\\\576316_volumes\"\n",
    "\n",
    "# # # # convert_single_case_to_nii (input_cases[0][\"vol\"],input_cases[0][\"seg\"])\n",
    "# convert_single_case_to_nii (test_vol2,test_seg2)"
   ]
  },
  {
   "cell_type": "markdown",
   "id": "a57ecaf2-80a2-46b7-98ed-1b1936084477",
   "metadata": {},
   "source": [
    "# building nnunet_dataset from nii"
   ]
  },
  {
   "cell_type": "code",
   "execution_count": 47,
   "id": "5d3753e3-750a-4644-b07a-c3d035c7b32a",
   "metadata": {},
   "outputs": [],
   "source": [
    "#making dataset Folder \n",
    "\n",
    "dataset_id = 133\n",
    "dataset_name = \"pulp_segmentation\" \n",
    "Dataset_folder_name = f\"Dataset{dataset_id}_{dataset_name}\"\n",
    "\n",
    "if (not os.path.exists(f\"./nnUNet_raw/{Dataset_folder_name}\")):\n",
    "    os.mkdir(f\"./nnUNet_raw/{Dataset_folder_name}\")\n",
    "\n",
    "train_input_dir = f\"./nnUNet_raw/{Dataset_folder_name}/imagesTr\"\n",
    "train_lable_dir = f\"./nnUNet_raw/{Dataset_folder_name}/labelsTr\"\n",
    "\n",
    "if not os.path.exists(train_input_dir):\n",
    "    os.mkdir(train_input_dir)\n",
    "if not os.path.exists(train_lable_dir):\n",
    "    os.mkdir(train_lable_dir)\n",
    "\n",
    "\n"
   ]
  },
  {
   "cell_type": "code",
   "execution_count": 48,
   "id": "a3865e6d-e787-4654-86f9-f81bf8253133",
   "metadata": {},
   "outputs": [],
   "source": [
    "import shutil\n",
    "volume_list = os.listdir(nii_path_volumes)\n",
    "seg_list = os.listdir(nii_path_segmentations)\n",
    "# print (volume_list)\n",
    "\n",
    "for volume in volume_list:\n",
    "    volume_old_path = f\"{nii_path_volumes}/{volume}\"\n",
    "    volume_nnunet_name = volume.replace (\"_input.nii.gz\",\"_0000.nii.gz\")\n",
    "    volume_new_path = f\"{train_input_dir}/{volume_nnunet_name}\"\n",
    "\n",
    "    #print (volume_nnunet_name)\n",
    "    shutil.move(volume_old_path, volume_new_path)\n",
    "\n",
    "\n",
    "for segmentation in seg_list:\n",
    "    segmentation_old_path = f\"{nii_path_segmentations}/{segmentation}\"\n",
    "    segmentation_nnunet_name = segmentation.replace (\"_seg.nii.gz\",\".nii.gz\")\n",
    "    segmentation_new_path = f\"{train_lable_dir}/{segmentation_nnunet_name}\"\n",
    "\n",
    "    #print (segmentation_nnunet_name)\n",
    "    shutil.move(segmentation_old_path, segmentation_new_path)\n"
   ]
  },
  {
   "cell_type": "code",
   "execution_count": 51,
   "id": "c9adf213-d7fe-4681-a374-8a67acab6bc7",
   "metadata": {},
   "outputs": [],
   "source": [
    "## creating Dataset Json \n",
    "import json \n",
    "\n",
    "dataset_metadata = {\n",
    " \"channel_names\": {  # formerly modalities\n",
    "   \"0\": \"CT\", \n",
    " }, \n",
    " \"labels\":\n",
    " {\n",
    "    \"background\":0,\n",
    "    \"pulp\":1,\n",
    " },\n",
    " \"numTraining\": len(volume_list), \n",
    " \"file_ending\": \".nii.gz\",\n",
    " \"overwrite_image_reader_writer\": \"SimpleITKIO\"  # optional! If not provided nnU-Net will automatically determine the ReaderWriter\n",
    " \n",
    "}\n",
    "\n",
    "json_data = json.dumps(dataset_metadata)\n",
    "\n",
    "with open(f\"./nnUNet_raw/{Dataset_folder_name}/dataset.json\", \"w\") as outfile:\n",
    "    outfile.write(json_data)"
   ]
  },
  {
   "cell_type": "code",
   "execution_count": null,
   "id": "4266cc80-479a-4baa-8252-1e9d00ef5d2a",
   "metadata": {},
   "outputs": [],
   "source": [
    "# for file in os.listdir(train_input_dir):\n",
    "\n",
    "#     volume_nnunet_name = file.replace (\"_input.nii.gz\",\"_0000.nii.gz\")\n",
    "#     os.rename (f\"{train_input_dir}/{file}\",f\"{train_input_dir}/{volume_nnunet_name}\")"
   ]
  },
  {
   "cell_type": "code",
   "execution_count": null,
   "id": "8f162ece-ac3c-4abf-b814-6c2698c804ba",
   "metadata": {},
   "outputs": [],
   "source": []
  },
  {
   "cell_type": "code",
   "execution_count": null,
   "id": "b09b16e3-1deb-48d7-b981-8a9785f8ae39",
   "metadata": {},
   "outputs": [],
   "source": []
  },
  {
   "cell_type": "code",
   "execution_count": null,
   "id": "697e58e0-cbf9-44a0-b109-39fddfaf447c",
   "metadata": {},
   "outputs": [],
   "source": []
  },
  {
   "cell_type": "code",
   "execution_count": null,
   "id": "c947264b-b89d-4759-84fa-ac75d6502ab2",
   "metadata": {},
   "outputs": [],
   "source": []
  },
  {
   "cell_type": "markdown",
   "id": "7b114bea-27df-49ec-bb8d-2716401bc538",
   "metadata": {},
   "source": [
    "# tests\n"
   ]
  },
  {
   "cell_type": "code",
   "execution_count": 17,
   "id": "7e2c3d8f-ee0b-4eff-a64f-0c36668acc4e",
   "metadata": {},
   "outputs": [],
   "source": [
    "dicom_series_path = \"C:\\\\Users\\\\Sepehr\\\\3dsegmentationProjects\\\\nn-unet-organize-dataset-for-training\\\\304846_Ken_Lin_Lin_Ken____20200831_080509147\"\n",
    "segmentation_path = \"304846_246033_segmented_structures\""
   ]
  },
  {
   "cell_type": "code",
   "execution_count": 18,
   "id": "7e492308-2a46-44c0-818a-e88f89482523",
   "metadata": {},
   "outputs": [
    {
     "name": "stdout",
     "output_type": "stream",
     "text": [
      "C:\\Users\\Sepehr\\3dsegmentationProjects\\nn-unet-organize-dataset-for-training\\304846_Ken_Lin_Lin_Ken____20200831_080509147\n",
      "304846_246033_segmented_structures\n",
      "('1',)\n"
     ]
    }
   ],
   "source": [
    "# # Clear scene\n",
    "slicer.mrmlScene.Clear(False)\n",
    "\n",
    "print(dicom_series_path)\n",
    "print(segmentation_path)\n",
    "\n",
    "##load dicom \n",
    "loadedNodeIDs = []\n",
    "with DICOMUtils.TemporaryDICOMDatabase() as db:\n",
    "    DICOMUtils.importDicom(os.path.abspath(dicom_series_path), db)\n",
    "    patientUIDs = db.patients()\n",
    "\n",
    "    print (patientUIDs)\n",
    "    for patientUID in patientUIDs:\n",
    "        loadedNodeIDs.extend(DICOMUtils.loadPatientByUID(patientUID))\n",
    "\n",
    "\n",
    "\n"
   ]
  },
  {
   "cell_type": "code",
   "execution_count": 19,
   "id": "368c6ae5-0b91-4261-9fb7-03da910f4526",
   "metadata": {},
   "outputs": [],
   "source": [
    "'''\n",
    "loading the segmentations into appropriate substructuresz \n",
    "\n",
    "'''\n",
    "maxillary_teeth_lables = [\"11\",\"12\",\"13\",\"14\",\"15\",\"16\",\"17\",\"18\",\"21\",\"22\",\"23\",\"24\",\"25\",\"26\",\"27\",\"28\"]\n",
    "maxillaryTeethNode = slicer.mrmlScene.AddNewNodeByClass(\"vtkMRMLSegmentationNode\")\n",
    "maxillaryTeethNode.CreateDefaultDisplayNodes()\n",
    "maxillaryTeethNode.SetName (\"maxillaryTeethNode\")\n",
    "\n",
    "\n",
    "## creating segmentation nodes\n",
    "segmentationNodes = {} \n"
   ]
  },
  {
   "cell_type": "code",
   "execution_count": 20,
   "id": "36c8d500-bc62-4ab8-a41d-dbdb51958cd5",
   "metadata": {},
   "outputs": [],
   "source": [
    "## importing stls \n",
    "nodes = []\n",
    "node_names = []\n",
    "for seg in os.listdir(segmentation_path):\n",
    "    if ((\".stl\" in seg or \".obj\" in seg) and \"pulp\" not in seg ):\n",
    "        mesh_path = f\"{segmentation_path}/{seg}\"\n",
    "        class_name = get_model_class_from_file(seg)\n",
    "\n",
    "        if class_name.strip(\"tooth_\") in maxillary_teeth_lables:\n",
    "            slicer.modules.segmentations.logic().ImportModelToSegmentationNode(slicer.util.loadModel(mesh_path), maxillaryTeethNode)\n",
    "\n",
    "        if class_name in lable_map:\n",
    "\n",
    "            segmentationNode = slicer.mrmlScene.AddNewNodeByClass(\"vtkMRMLSegmentationNode\")\n",
    "            segmentationNode.CreateDefaultDisplayNodes()\n",
    "            segmentationNodes [class_name] = segmentationNode\n",
    "            \n",
    "            slicer.modules.segmentations.logic().ImportModelToSegmentationNode(slicer.util.loadModel(mesh_path), segmentationNode)\n",
    "\n",
    "if (len(segmentationNodes) <1):\n",
    "    print (\"too few of desired class in this case. this case will be skipped\")\n",
    "    "
   ]
  },
  {
   "cell_type": "code",
   "execution_count": null,
   "id": "b2b1ca55-06d6-4bbb-8881-0be03f193128",
   "metadata": {},
   "outputs": [],
   "source": [
    "maxillaryTeethNode."
   ]
  },
  {
   "cell_type": "code",
   "execution_count": 34,
   "id": "7c9e9174-4868-45f1-bf76-cf27df27d153",
   "metadata": {},
   "outputs": [],
   "source": [
    "referenceVolumeNode = slicer.mrmlScene.GetNodeByID(\"vtkMRMLScalarVolumeNode1\")\n",
    "\n",
    "segmentation_lable_map = convert_to_nnunet_lable_tooth(segmentationNodes,referenceVolumeNode)\n",
    "input_volume_map = convert_to_nnunet_lable_macro_structure(maxillaryTeethNode,referenceVolumeNode)"
   ]
  },
  {
   "cell_type": "code",
   "execution_count": 55,
   "id": "5dc68df3-45a3-4c9b-83e3-d98704d0350b",
   "metadata": {},
   "outputs": [],
   "source": [
    "#creating segmentation node to compute ROI \n",
    "temp_segmentationNode = slicer.mrmlScene.AddNewNodeByClass(\"vtkMRMLSegmentationNode\")\n",
    "temp_segmentationNode.CreateDefaultDisplayNodes()\n",
    "\n",
    "slicer.modules.segmentations.logic().ImportLabelmapToSegmentationNode (input_volume_map,temp_segmentationNode)\n",
    "\n",
    "\n",
    "\n",
    "## obtaining bounding box coordinates from segment node\n",
    "import SegmentStatistics\n",
    "segStatLogic = SegmentStatistics.SegmentStatisticsLogic()\n",
    "segStatLogic.getParameterNode().SetParameter(\"Segmentation\", temp_segmentationNode.GetID())\n",
    "segStatLogic.getParameterNode().SetParameter(\"LabelmapSegmentStatisticsPlugin.obb_origin_ras.enabled\",str(True))\n",
    "segStatLogic.getParameterNode().SetParameter(\"LabelmapSegmentStatisticsPlugin.obb_diameter_mm.enabled\",str(True))\n",
    "segStatLogic.getParameterNode().SetParameter(\"LabelmapSegmentStatisticsPlugin.obb_direction_ras_x.enabled\",str(True))\n",
    "segStatLogic.getParameterNode().SetParameter(\"LabelmapSegmentStatisticsPlugin.obb_direction_ras_y.enabled\",str(True))\n",
    "segStatLogic.getParameterNode().SetParameter(\"LabelmapSegmentStatisticsPlugin.obb_direction_ras_z.enabled\",str(True))\n",
    "segStatLogic.computeStatistics()\n",
    "stats = segStatLogic.getStatistics()\n",
    "\n"
   ]
  },
  {
   "cell_type": "code",
   "execution_count": 56,
   "id": "b27c416a-9403-4e71-b9db-241718ea0b51",
   "metadata": {},
   "outputs": [
    {
     "name": "stdout",
     "output_type": "stream",
     "text": [
      "304846_246033_6971_304846_tooth_11_(us_8)_decimated\n"
     ]
    }
   ],
   "source": [
    "## creating ROI from bounding box stats\n",
    "\n",
    "segmentId = stats[\"SegmentIDs\"] [0]\n",
    "print (segmentId)\n",
    "# Get bounding box\n",
    "obb_origin_ras = np.array(stats[segmentId,\"LabelmapSegmentStatisticsPlugin.obb_origin_ras\"])\n",
    "obb_diameter_mm = np.array(stats[segmentId,\"LabelmapSegmentStatisticsPlugin.obb_diameter_mm\"])\n",
    "obb_direction_ras_x = np.array(stats[segmentId,\"LabelmapSegmentStatisticsPlugin.obb_direction_ras_x\"])\n",
    "obb_direction_ras_y = np.array(stats[segmentId,\"LabelmapSegmentStatisticsPlugin.obb_direction_ras_y\"])\n",
    "obb_direction_ras_z = np.array(stats[segmentId,\"LabelmapSegmentStatisticsPlugin.obb_direction_ras_z\"])\n",
    "\n",
    "# Create ROI\n",
    "segment = temp_segmentationNode.GetSegmentation().GetSegment(segmentId)\n",
    "roi=slicer.mrmlScene.AddNewNodeByClass(\"vtkMRMLMarkupsROINode\")\n",
    "roi.SetName(segment.GetName() + \" OBB\")\n",
    "roi.GetDisplayNode().SetHandlesInteractive(False)  # do not let the user resize the box\n",
    "roi.SetSize(obb_diameter_mm)\n",
    "\n",
    "\n",
    "# Position and orient ROI using a transform\n",
    "obb_center_ras = obb_origin_ras+0.5*(obb_diameter_mm[0] * obb_direction_ras_x + obb_diameter_mm[1] * obb_direction_ras_y + obb_diameter_mm[2] * obb_direction_ras_z)\n",
    "boundingBoxToRasTransform = np.row_stack((np.column_stack((obb_direction_ras_x, obb_direction_ras_y, obb_direction_ras_z, obb_center_ras)), (0, 0, 0, 1)))\n",
    "boundingBoxToRasTransformMatrix = slicer.util.vtkMatrixFromArray(boundingBoxToRasTransform)\n",
    "roi.SetAndObserveObjectToNodeMatrix(boundingBoxToRasTransformMatrix)"
   ]
  },
  {
   "cell_type": "code",
   "execution_count": 57,
   "id": "448b8968-b7ab-44d4-a2e9-7d26fc6242b2",
   "metadata": {},
   "outputs": [],
   "source": [
    "## function to retrieve segments of volume using ROI \n",
    "# import vtk\n",
    "# def createVolumeFromRoi(exportRoi, spacingMm, fillValue=0, numberOfComponents=1):\n",
    "#     import math\n",
    "#     roiDiameter = exportRoi.GetSize()\n",
    "#     roiOrigin_Roi = [-roiDiameter[0]/2, -roiDiameter[1]/2, -roiDiameter[2]/2, 1]\n",
    "#     roiToRas = exportRoi.GetObjectToWorldMatrix()\n",
    "#     exportVolumeSize = [int(math.ceil(diameterComponent/spacingMm)) for diameterComponent in roiDiameter]\n",
    "#     # Create image data\n",
    "#     exportImageData = vtk.vtkImageData()\n",
    "#     exportImageData.SetExtent(0, exportVolumeSize[0]-1, 0, exportVolumeSize[1]-1, 0, exportVolumeSize[2]-1)\n",
    "#     exportImageData.AllocateScalars(vtk.VTK_DOUBLE, numberOfComponents)\n",
    "#     exportImageData.GetPointData().GetScalars().Fill(fillValue)\n",
    "#     # Create volume node\n",
    "#     exportVolume = slicer.mrmlScene.AddNewNodeByClass(\"vtkMRMLScalarVolumeNode\" if numberOfComponents==1 else \"vtkMRMLVectorVolumeNode\")\n",
    "#     exportVolume.SetAndObserveImageData(exportImageData)\n",
    "#     exportVolume.SetIJKToRASDirections(roiToRas.GetElement(0,0), roiToRas.GetElement(0,1), roiToRas.GetElement(0,2), roiToRas.GetElement(1,0), roiToRas.GetElement(1,1), roiToRas.GetElement(1,2), roiToRas.GetElement(2,0), roiToRas.GetElement(2,1), roiToRas.GetElement(2,2))\n",
    "#     exportVolume.SetSpacing(spacingMm, spacingMm, spacingMm)\n",
    "#     roiOrigin_Ras = roiToRas.MultiplyPoint(roiOrigin_Roi)\n",
    "#     exportVolume.SetOrigin(roiOrigin_Ras[0:3])\n",
    "#     return exportVolume"
   ]
  },
  {
   "cell_type": "code",
   "execution_count": 58,
   "id": "3de4584f-d483-4109-8a7c-95f1381c0229",
   "metadata": {},
   "outputs": [],
   "source": [
    "# cropVolumeParameters = slicer.mrmlScene.AddNewNodeByClass(\"vtkMRMLCropVolumeParametersNode\")\n",
    "# cropVolumeParameters.SetInputVolumeNodeID(referenceVolumeNode.GetID())\n",
    "# cropVolumeParameters.SetROINodeID(roi.GetID())\n",
    "# slicer.modules.cropvolume.logic().SnapROIToVoxelGrid(cropVolumeParameters)  # optional (rotates the ROI to match the volume axis directions)\n",
    "# slicer.modules.cropvolume.logic().FitROIToInputVolume(cropVolumeParameters)\n",
    "# slicer.mrmlScene.RemoveNode(cropVolumeParameters)"
   ]
  },
  {
   "cell_type": "code",
   "execution_count": 61,
   "id": "49c9cbed-b78a-41cd-9976-57ebfa7e8fa8",
   "metadata": {},
   "outputs": [
    {
     "data": {
      "text/plain": [
       "0"
      ]
     },
     "execution_count": 61,
     "metadata": {},
     "output_type": "execute_result"
    }
   ],
   "source": [
    "##easier and more reliable cropping method \n",
    "cropped_volume_node = slicer.mrmlScene.AddNewNodeByClass(\"vtkMRMLScalarVolumeNode\")\n",
    "cropped_volume_node.CreateDefaultDisplayNodes()\n",
    "\n",
    "cropped_lablemap_node = slicer.mrmlScene.AddNewNodeByClass(\"vtkMRMLLabelMapVolumeNode\")\n",
    "cropped_lablemap_node.CreateDefaultDisplayNodes()\n",
    "\n",
    "slicer.modules.cropvolume.logic().CropVoxelBased (roi,referenceVolumeNode,cropped_volume_node ) ##cropping volume \n",
    "slicer.modules.cropvolume.logic().CropVoxelBased (roi,segmentation_lable_map,cropped_lablemap_node ) ##cropping mask"
   ]
  },
  {
   "cell_type": "code",
   "execution_count": 63,
   "id": "db550ac4-2cbb-46f2-9792-773f4a52b483",
   "metadata": {},
   "outputs": [
    {
     "name": "stdout",
     "output_type": "stream",
     "text": [
      "(260, 459, 586)\n",
      "(260, 459, 586)\n"
     ]
    }
   ],
   "source": [
    "dicomData = slicer.util.arrayFromVolume(cropped_volume_node)\n",
    "mask = slicer.util.arrayFromVolume(cropped_lablemap_node)\n",
    "\n",
    "print (mask.shape)\n",
    "print (dicomData.shape)"
   ]
  },
  {
   "cell_type": "code",
   "execution_count": 64,
   "id": "8db1ded1-6ae7-4fd2-b9e6-87df7df928ea",
   "metadata": {},
   "outputs": [
    {
     "name": "stdout",
     "output_type": "stream",
     "text": [
      "one case sucessfully converted\n"
     ]
    }
   ],
   "source": [
    "caseID = dicom_series_path.split(\"\\\\\")[-1].split(\"_\")[0]\n",
    "volume_save_path = f\"{nii_path_volumes}/{caseID}_input.nii.gz\"\n",
    "seg_save_path =  f\"{nii_path_segmentations}/{caseID}_seg.nii.gz\"\n",
    "\n",
    "slicer.util.exportNode(cropped_volume_node, volume_save_path , {\"useCompression\": 0})\n",
    "slicer.util.exportNode(cropped_lablemap_node, seg_save_path , {\"useCompression\": 0})\n",
    "\n",
    "print (\"one case sucessfully converted\")"
   ]
  },
  {
   "cell_type": "code",
   "execution_count": null,
   "id": "4e648535-6b4b-4d6f-b650-764218d0f315",
   "metadata": {},
   "outputs": [],
   "source": []
  },
  {
   "cell_type": "code",
   "execution_count": null,
   "id": "3eb64385-81ce-418d-a2cb-975a9e0327fa",
   "metadata": {},
   "outputs": [],
   "source": []
  }
 ],
 "metadata": {
  "kernelspec": {
   "display_name": "Slicer 5.6",
   "language": "python",
   "name": "slicer-5.6"
  },
  "language_info": {
   "file_extension": ".py",
   "mimetype": "text/x-python",
   "name": "python",
   "version": "3.9.10"
  }
 },
 "nbformat": 4,
 "nbformat_minor": 5
}
