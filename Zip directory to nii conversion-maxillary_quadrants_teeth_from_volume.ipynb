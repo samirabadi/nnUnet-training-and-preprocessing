{
 "cells": [
  {
   "cell_type": "code",
   "execution_count": 1,
   "id": "9987388c-a8d9-4704-b963-8339129cf801",
   "metadata": {},
   "outputs": [],
   "source": [
    "import JupyterNotebooksLib as slicernb\n",
    "import slicer\n",
    "import os \n",
    "from DICOMLib import DICOMUtils\n",
    "import numpy as np\n",
    "import zipfile\n",
    "\n",
    "from glob import glob\n",
    "from natsort import natsorted\n",
    "from tqdm import tqdm\n",
    "\n",
    "# Set image viewer size to 50% screen size\n",
    "# slicernb.AppWindow.setWindowSize(scale=0.5)\n",
    "# slicernb.AppWindow.setContents(\"viewers\")\n",
    "\n",
    "# Clear scene\n",
    "slicer.mrmlScene.Clear(False)"
   ]
  },
  {
   "cell_type": "markdown",
   "id": "b40206a5-80d4-4964-97eb-5ed2bfa81407",
   "metadata": {},
   "source": [
    "# Unzip and organize files "
   ]
  },
  {
   "cell_type": "code",
   "execution_count": 2,
   "id": "6c786768-bcab-4ae5-af6b-2cc0087449a8",
   "metadata": {},
   "outputs": [],
   "source": [
    "#input folder \n",
    "input_folder = \"C:\\\\Users\\\\Sepehr\\\\3dsegmentationProjects\\\\nn-unet-organize-dataset-for-training\\\\Segmentation database\"\n",
    "intermediary_folder = \"./temp_unzip\"\n",
    "\n",
    "if  not os.path.exists(intermediary_folder):\n",
    "    os.mkdir(intermediary_folder)"
   ]
  },
  {
   "cell_type": "code",
   "execution_count": 3,
   "id": "c706e0ab-c6a7-4c20-a9cc-ce71b6f99c31",
   "metadata": {},
   "outputs": [],
   "source": [
    "# for zip_file in os.listdir(input_folder):\n",
    "#     if \"(\" in zip_file or \")\" in zip_file:\n",
    "#         continue;\n",
    "#     zip_path = f\"{input_folder}/{zip_file}\"\n",
    "#     Case_id = zip_file.split(\"_\")[0]\n",
    "\n",
    "#     if \"_segmented_structures\" in zip_file: \n",
    "#         out_path = f\"{intermediary_folder}/{Case_id}_segmentations\"\n",
    "#     else:\n",
    "#         out_path = f\"{intermediary_folder}/{Case_id}_volumes\"\n",
    "        \n",
    "#     with zipfile.ZipFile(zip_path, 'r') as zip_ref:\n",
    "#                     zip_ref.extractall(out_path)"
   ]
  },
  {
   "cell_type": "markdown",
   "id": "fbf8913f-d980-429b-8a23-829200bcc547",
   "metadata": {},
   "source": [
    "# organize file names throw out unuasable cases "
   ]
  },
  {
   "cell_type": "code",
   "execution_count": 4,
   "id": "7d4fa809-bf6c-4bf8-ac05-3b56198ddd2e",
   "metadata": {},
   "outputs": [
    {
     "name": "stdout",
     "output_type": "stream",
     "text": [
      "cannot find matching segmentation case will be skipped\n",
      "cannot find matching segmentation case will be skipped\n"
     ]
    }
   ],
   "source": [
    "input_cases = [] \n",
    "\n",
    "\n",
    "volumes_paths = list(natsorted(glob(os.path.join(intermediary_folder,  \"*\"+ f\"_volumes\"))))\n",
    "\n",
    "for vol in volumes_paths: \n",
    "\n",
    "    seg_path = vol.replace (\"_volumes\",\"_segmentations\")\n",
    "\n",
    "    if (os.path.exists(seg_path)):\n",
    "        input_cases.append ({\"vol\":vol,\"seg\":seg_path})\n",
    "    else:\n",
    "        print (\"cannot find matching segmentation case will be skipped\")\n",
    "\n"
   ]
  },
  {
   "cell_type": "code",
   "execution_count": 5,
   "id": "9f67a9d0-ddf1-4041-b0f4-b487b01c6612",
   "metadata": {},
   "outputs": [
    {
     "data": {
      "text/plain": [
       "'304846'"
      ]
     },
     "execution_count": 5,
     "metadata": {},
     "output_type": "execute_result"
    }
   ],
   "source": [
    "input_cases[0][\"vol\"].split(\"\\\\\")[-1].split(\"_\")[0]"
   ]
  },
  {
   "cell_type": "markdown",
   "id": "5acf0bcb-d3a1-4de7-8f10-4b3d2b1f81c5",
   "metadata": {},
   "source": [
    "# using slicer to convert to nii\n",
    "\n",
    "### will need to alter segmentation nodes to reflect changes in classes you are trying to segment"
   ]
  },
  {
   "cell_type": "code",
   "execution_count": 6,
   "id": "09ece8a6-f3bd-4d53-8a78-921dc34cfa95",
   "metadata": {},
   "outputs": [
    {
     "name": "stdout",
     "output_type": "stream",
     "text": [
      "these directories already exist\n"
     ]
    }
   ],
   "source": [
    "nii_path = \"./nii_ds_2\"\n",
    "nii_path_volumes = f\"{nii_path}/Volumes\"\n",
    "nii_path_segmentations = f\"{nii_path}/Masks\"\n",
    "\n",
    "try:\n",
    "    os.mkdir(nii_path)\n",
    "    os.mkdir(nii_path_volumes)\n",
    "    os.mkdir(nii_path_segmentations)\n",
    "except:\n",
    "    print (\"these directories already exist\")"
   ]
  },
  {
   "cell_type": "code",
   "execution_count": 7,
   "id": "f859f038-f7c1-44e9-90f9-59d196e6f73c",
   "metadata": {},
   "outputs": [],
   "source": [
    "def get_model_class_from_file (file): \n",
    "    if \"tooth\" in file: \n",
    "        #print (file.split(\"tooth_\")[1].split(\"_\")[0])\n",
    "\n",
    "        if (\".stl\" in file):\n",
    "            return \"tooth_\" + file.split(\"tooth_\")[1].split(\"_\")[0]\n",
    "        else:\n",
    "            return \"tooth_\" + file.split(\"tooth-\")[1].split(\"-\")[0].split(\"_\")[0]\n",
    "\n",
    "    else: \n",
    "        # CaseId = file.split(\"_\") [-1].split(\".)\n",
    "        # #print (file.split(f\"{CaseId}_\")[-1].split(\"_\")[0])\n",
    "        if (\".stl\" in file):\n",
    "            return file.split(\"_\") [-1].split(\".\")[0]\n",
    "        else:\n",
    "            return file.split(\"-\") [-1].split(\"_\")[0]"
   ]
  },
  {
   "cell_type": "code",
   "execution_count": 8,
   "id": "92002c8d-22ff-4871-951d-33edd9f05852",
   "metadata": {},
   "outputs": [
    {
     "data": {
      "text/plain": [
       "'tooth_13'"
      ]
     },
     "execution_count": 8,
     "metadata": {},
     "output_type": "execute_result"
    }
   ],
   "source": [
    "get_model_class_from_file (\"576547P524654_576547_2018874805-cbct-tooth-13_decimated\")\n",
    "#\"304846_canal.stl\".split(\"_\")"
   ]
  },
  {
   "cell_type": "code",
   "execution_count": 9,
   "id": "aa4abd38-4f01-4a64-ae22-2e04fc2e12c7",
   "metadata": {},
   "outputs": [
    {
     "data": {
      "text/plain": [
       "'11'"
      ]
     },
     "execution_count": 9,
     "metadata": {},
     "output_type": "execute_result"
    }
   ],
   "source": [
    "\"tooth_11\".strip(\"tooth_\")"
   ]
  },
  {
   "cell_type": "code",
   "execution_count": 10,
   "id": "e1da7c97-52ff-4557-b1fc-fe2d3cdf6602",
   "metadata": {},
   "outputs": [],
   "source": [
    "lable_map = {\n",
    "    \"background\":0,\n",
    "    \"tooth_11\":1,\n",
    "    \"tooth_12\":2,\n",
    "    \"tooth_13\":3,\n",
    "    \"tooth_14\":4,\n",
    "    \"tooth_15\":5,\n",
    "    \"tooth_16\":6,\n",
    "    \"tooth_17\":7,\n",
    "    \"tooth_18\":8,\n",
    "    # \"tooth_21\":9,\n",
    "    # \"tooth_22\":10,\n",
    "    # \"tooth_23\":11,\n",
    "    # \"tooth_24\":12,\n",
    "    # \"tooth_25\":13,\n",
    "    # \"tooth_26\":14,\n",
    "    # \"tooth_27\":15,\n",
    "    # \"tooth_28\":16,\n",
    "\n",
    "}"
   ]
  },
  {
   "cell_type": "code",
   "execution_count": 11,
   "id": "2b7874e6-4db8-4e46-87e9-fac21d7237c2",
   "metadata": {},
   "outputs": [],
   "source": [
    "def convert_to_nnunet_lable_tooth (segmentationNodes,referenceVolumeNode):\n",
    "\n",
    "    all_segment_np = [] \n",
    "    for lable, node in segmentationNodes.items():\n",
    "        name = node.GetName()\n",
    "    \n",
    "        segmentationLblmap  = slicer.mrmlScene.AddNewNodeByClass(\"vtkMRMLLabelMapVolumeNode\")\n",
    "        segmentationLblmap.SetName(name+\"_lablemap\")\n",
    "        slicer.modules.segmentations.logic().ExportVisibleSegmentsToLabelmapNode(node, segmentationLblmap, referenceVolumeNode)\n",
    "        mask = slicer.util.arrayFromVolume(segmentationLblmap)\n",
    "        mask[mask > 0] = lable_map[lable]\n",
    "    \n",
    "        all_segment_np.append(mask.copy())\n",
    "\n",
    "\n",
    "\n",
    "    final_out = all_segment_np[0] \n",
    "    for i in range (1,len(all_segment_np)):\n",
    "        indices  = np.where (final_out <1)\n",
    "        final_out [indices] = all_segment_np[i][indices]\n",
    "\n",
    "    segmentationLblmap  = slicer.mrmlScene.AddNewNodeByClass(\"vtkMRMLLabelMapVolumeNode\")\n",
    "    slicer.modules.segmentations.logic().ExportVisibleSegmentsToLabelmapNode(next(iter(segmentationNodes.values())), segmentationLblmap, referenceVolumeNode)\n",
    "    \n",
    "    slicer.util.updateVolumeFromArray(segmentationLblmap, final_out)\n",
    "\n",
    "    return segmentationLblmap\n",
    "\n",
    "    "
   ]
  },
  {
   "cell_type": "code",
   "execution_count": 12,
   "id": "50d9ca4e-306b-4287-bf3b-d968cfc4624e",
   "metadata": {},
   "outputs": [],
   "source": [
    "def convert_to_nnunet_lable_macro_structure (macroNode,referenceVolumeNode):\n",
    "\n",
    "\n",
    "    name = macroNode.GetName()\n",
    "    segmentationLblmap  = slicer.mrmlScene.AddNewNodeByClass(\"vtkMRMLLabelMapVolumeNode\")\n",
    "    segmentationLblmap.SetName(name+\"_lablemap\")\n",
    "    slicer.modules.segmentations.logic().ExportVisibleSegmentsToLabelmapNode(macroNode, segmentationLblmap, referenceVolumeNode)\n",
    "    mask = slicer.util.arrayFromVolume(segmentationLblmap)\n",
    "    mask[mask > 0] = 1\n",
    "\n",
    "    # labelmapVolumeNode = slicer.mrmlScene.AddNewNodeByClass('vtkMRMLLabelMapVolumeNode')\n",
    "    #slicer.modules.segmentations.logic().ExportVisibleSegmentsToLabelmapNode(macroNode, segmentationLblmap, referenceVolumeNode)\n",
    "    slicer.util.updateVolumeFromArray(segmentationLblmap, mask)\n",
    "    \n",
    "\n",
    "    return segmentationLblmap\n"
   ]
  },
  {
   "cell_type": "code",
   "execution_count": 13,
   "id": "51959f8e-25bd-4ac2-b6c3-5625b84a10cc",
   "metadata": {},
   "outputs": [],
   "source": [
    "def crop_vol_and_mask_to_ROI (input_volume_map,referenceVolumeNode,segmentation_lable_map):\n",
    "\n",
    "    #creating segmentation node to compute ROI \n",
    "    temp_segmentationNode = slicer.mrmlScene.AddNewNodeByClass(\"vtkMRMLSegmentationNode\")\n",
    "    temp_segmentationNode.CreateDefaultDisplayNodes()\n",
    "    \n",
    "    slicer.modules.segmentations.logic().ImportLabelmapToSegmentationNode (input_volume_map,temp_segmentationNode)\n",
    "    \n",
    "    \n",
    "    \n",
    "    ## obtaining bounding box coordinates from segment node\n",
    "    import SegmentStatistics\n",
    "    segStatLogic = SegmentStatistics.SegmentStatisticsLogic()\n",
    "    segStatLogic.getParameterNode().SetParameter(\"Segmentation\", temp_segmentationNode.GetID())\n",
    "    segStatLogic.getParameterNode().SetParameter(\"LabelmapSegmentStatisticsPlugin.obb_origin_ras.enabled\",str(True))\n",
    "    segStatLogic.getParameterNode().SetParameter(\"LabelmapSegmentStatisticsPlugin.obb_diameter_mm.enabled\",str(True))\n",
    "    segStatLogic.getParameterNode().SetParameter(\"LabelmapSegmentStatisticsPlugin.obb_direction_ras_x.enabled\",str(True))\n",
    "    segStatLogic.getParameterNode().SetParameter(\"LabelmapSegmentStatisticsPlugin.obb_direction_ras_y.enabled\",str(True))\n",
    "    segStatLogic.getParameterNode().SetParameter(\"LabelmapSegmentStatisticsPlugin.obb_direction_ras_z.enabled\",str(True))\n",
    "    segStatLogic.computeStatistics()\n",
    "    stats = segStatLogic.getStatistics()\n",
    "\n",
    "\n",
    "    ## creating ROI from bounding box stats\n",
    "\n",
    "    segmentId = stats[\"SegmentIDs\"] [0]\n",
    "    print (segmentId)\n",
    "    # Get bounding box\n",
    "    obb_origin_ras = np.array(stats[segmentId,\"LabelmapSegmentStatisticsPlugin.obb_origin_ras\"])\n",
    "    obb_diameter_mm = np.array(stats[segmentId,\"LabelmapSegmentStatisticsPlugin.obb_diameter_mm\"])\n",
    "    obb_direction_ras_x = np.array(stats[segmentId,\"LabelmapSegmentStatisticsPlugin.obb_direction_ras_x\"])\n",
    "    obb_direction_ras_y = np.array(stats[segmentId,\"LabelmapSegmentStatisticsPlugin.obb_direction_ras_y\"])\n",
    "    obb_direction_ras_z = np.array(stats[segmentId,\"LabelmapSegmentStatisticsPlugin.obb_direction_ras_z\"])\n",
    "    \n",
    "    # Create ROI\n",
    "    segment = temp_segmentationNode.GetSegmentation().GetSegment(segmentId)\n",
    "    roi=slicer.mrmlScene.AddNewNodeByClass(\"vtkMRMLMarkupsROINode\")\n",
    "    roi.SetName(segment.GetName() + \" OBB\")\n",
    "    roi.GetDisplayNode().SetHandlesInteractive(False)  # do not let the user resize the box\n",
    "    roi.SetSize(obb_diameter_mm)\n",
    "    \n",
    "    \n",
    "    # Position and orient ROI using a transform\n",
    "    obb_center_ras = obb_origin_ras+0.5*(obb_diameter_mm[0] * obb_direction_ras_x + obb_diameter_mm[1] * obb_direction_ras_y + obb_diameter_mm[2] * obb_direction_ras_z)\n",
    "    boundingBoxToRasTransform = np.row_stack((np.column_stack((obb_direction_ras_x, obb_direction_ras_y, obb_direction_ras_z, obb_center_ras)), (0, 0, 0, 1)))\n",
    "    boundingBoxToRasTransformMatrix = slicer.util.vtkMatrixFromArray(boundingBoxToRasTransform)\n",
    "    roi.SetAndObserveObjectToNodeMatrix(boundingBoxToRasTransformMatrix)\n",
    "\n",
    "\n",
    "    ##easier and more reliable cropping method \n",
    "    cropped_volume_node = slicer.mrmlScene.AddNewNodeByClass(\"vtkMRMLScalarVolumeNode\")\n",
    "    cropped_volume_node.CreateDefaultDisplayNodes()\n",
    "    \n",
    "    cropped_lablemap_node = slicer.mrmlScene.AddNewNodeByClass(\"vtkMRMLLabelMapVolumeNode\")\n",
    "    cropped_lablemap_node.CreateDefaultDisplayNodes()\n",
    "    \n",
    "    slicer.modules.cropvolume.logic().CropVoxelBased (roi,referenceVolumeNode,cropped_volume_node ) ##cropping volume \n",
    "    slicer.modules.cropvolume.logic().CropVoxelBased (roi,segmentation_lable_map,cropped_lablemap_node ) ##cropping mask\n",
    "\n",
    "\n",
    "    return cropped_volume_node,cropped_lablemap_node\n",
    "\n",
    "\n",
    "    "
   ]
  },
  {
   "cell_type": "code",
   "execution_count": null,
   "id": "989ca407-b685-444a-a0b1-76758bf68b5c",
   "metadata": {},
   "outputs": [],
   "source": []
  },
  {
   "cell_type": "code",
   "execution_count": null,
   "id": "6c7ea912-b596-4764-ab10-55d29e78610e",
   "metadata": {},
   "outputs": [],
   "source": []
  },
  {
   "cell_type": "code",
   "execution_count": 14,
   "id": "c9c8fd93-f235-4aac-b699-dcbe2d1ae5f3",
   "metadata": {},
   "outputs": [],
   "source": [
    "maxillary_teeth_lables = [\"11\",\"12\",\"13\",\"14\",\"15\",\"16\",\"17\",\"18\",\"21\",\"22\",\"23\",\"24\",\"25\",\"26\",\"27\",\"28\"]\n",
    "# maxillary_left_teeth_lables = [\"11\",\"12\",\"13\",\"14\",\"15\",\"16\",\"17\",\"18\"]\n",
    "# maxillary_right_teeth_lables = [\"21\",\"22\",\"23\",\"24\",\"25\",\"26\",\"27\",\"28\"]\n",
    "mandibular_teeth_lables = [\"31\",\"32\",\"33\",\"34\",\"35\",\"36\",\"37\",\"38\",\"41\",\"42\",\"43\",\"44\",\"45\",\"46\",\"47\",\"48\"]\n",
    "\n",
    "def convert_single_case_to_nii (dicom_series_path,segmentation_path):\n",
    "\n",
    "    '''\n",
    "    simply loading dicoms into a fresh scene \n",
    "    '''\n",
    "    \n",
    "    \n",
    "    # # Clear scene\n",
    "    slicer.mrmlScene.Clear(False)\n",
    "\n",
    "    print(dicom_series_path)\n",
    "    print(segmentation_path)\n",
    "    \n",
    "    ##load dicom \n",
    "    loadedNodeIDs = []\n",
    "    with DICOMUtils.TemporaryDICOMDatabase() as db:\n",
    "        DICOMUtils.importDicom(os.path.abspath(dicom_series_path), db)\n",
    "        patientUIDs = db.patients()\n",
    "    \n",
    "        print (patientUIDs)\n",
    "        for patientUID in patientUIDs:\n",
    "            loadedNodeIDs.extend(DICOMUtils.loadPatientByUID(patientUID))\n",
    "\n",
    "\n",
    "\n",
    "    '''\n",
    "    loading the segmentations into appropriate substructuresz \n",
    "    \n",
    "    '''\n",
    "\n",
    "    maxillaryTeethNode = slicer.mrmlScene.AddNewNodeByClass(\"vtkMRMLSegmentationNode\")\n",
    "    maxillaryTeethNode.CreateDefaultDisplayNodes()\n",
    "    maxillaryTeethNode.SetName (\"maxillaryTeethNode\")\n",
    "\n",
    "    \n",
    "    ## creating segmentation nodes\n",
    "    segmentationNodes = {} \n",
    "\n",
    "\n",
    "    ## importing stls \n",
    "    nodes = []\n",
    "    node_names = []\n",
    "    for seg in os.listdir(segmentation_path):\n",
    "        if ((\".stl\" in seg or \".obj\" in seg) and \"pulp\" not in seg ):\n",
    "            mesh_path = f\"{segmentation_path}/{seg}\"\n",
    "            class_name = get_model_class_from_file(seg)\n",
    "\n",
    "            if class_name.strip(\"tooth_\") in maxillary_teeth_lables:\n",
    "                slicer.modules.segmentations.logic().ImportModelToSegmentationNode(slicer.util.loadModel(mesh_path), maxillaryTeethNode)\n",
    "\n",
    "            if class_name.strip(\"tooth_\") in maxillary_teeth_lables:\n",
    "                slicer.modules.segmentations.logic().ImportModelToSegmentationNode(slicer.util.loadModel(mesh_path), maxillaryTeethNode)\n",
    "\n",
    "            if class_name in lable_map:\n",
    "\n",
    "                segmentationNode = slicer.mrmlScene.AddNewNodeByClass(\"vtkMRMLSegmentationNode\")\n",
    "                segmentationNode.CreateDefaultDisplayNodes()\n",
    "                segmentationNodes [class_name] = segmentationNode\n",
    "                \n",
    "                slicer.modules.segmentations.logic().ImportModelToSegmentationNode(slicer.util.loadModel(mesh_path), segmentationNode)\n",
    "\n",
    "    if (len(segmentationNodes) <1):   \n",
    "        print (\"too few of desired class in this case. this case will be skipped\")\n",
    "        return;\n",
    "\n",
    "    referenceVolumeNode = slicer.mrmlScene.GetNodeByID(\"vtkMRMLScalarVolumeNode1\")\n",
    "\n",
    "    segmentation_lable_map = convert_to_nnunet_lable_tooth(segmentationNodes,referenceVolumeNode)\n",
    "    input_volume_map = convert_to_nnunet_lable_macro_structure(maxillaryTeethNode,referenceVolumeNode)\n",
    "\n",
    "    cropped_input_volume_map, cropped_segmentation_lable_map= crop_vol_and_mask_to_ROI (input_volume_map,referenceVolumeNode,segmentation_lable_map)\n",
    "\n",
    "    caseID = dicom_series_path.split(\"\\\\\")[-1].split(\"_\")[0]\n",
    "    volume_save_path = f\"{nii_path_volumes}/{caseID}_input.nii.gz\"\n",
    "    seg_save_path =  f\"{nii_path_segmentations}/{caseID}_seg.nii.gz\"\n",
    "\n",
    "    slicer.util.exportNode(cropped_input_volume_map, volume_save_path , {\"useCompression\": 0})\n",
    "    slicer.util.exportNode(cropped_segmentation_lable_map, seg_save_path , {\"useCompression\": 0})\n",
    "\n",
    "    print (\"one case sucessfully converted\")\n",
    "     \n",
    "\n",
    "\n",
    "        "
   ]
  },
  {
   "cell_type": "code",
   "execution_count": 15,
   "id": "7e4afd5c-a0cf-41b2-98e8-f497f8a7e4ef",
   "metadata": {},
   "outputs": [],
   "source": [
    "def batch_nii_convert (in_case_files):\n",
    "\n",
    "    for case in tqdm(in_case_files[181:]):\n",
    "        try:\n",
    "            convert_single_case_to_nii (case[\"vol\"],case[\"seg\"])\n",
    "        except:\n",
    "            print (f\"somthing is wrong with case {case} probably a missing segmentation\")\n",
    "    print (\"done converting all cases to nii\")\n",
    "    "
   ]
  },
  {
   "cell_type": "code",
   "execution_count": 16,
   "id": "78215f33-47f9-4dab-aa75-45268bbb3771",
   "metadata": {},
   "outputs": [
    {
     "name": "stderr",
     "output_type": "stream",
     "text": [
      "  0%|          | 0/57 [00:00<?, ?it/s]"
     ]
    },
    {
     "name": "stdout",
     "output_type": "stream",
     "text": [
      "./temp_unzip\\576376_volumes\n",
      "./temp_unzip\\576376_segmentations\n",
      "('1',)\n",
      "576376P524333_1536431790-cbct-tooth-18_decimated\n",
      "one case sucessfully converted\n"
     ]
    },
    {
     "name": "stderr",
     "output_type": "stream",
     "text": [
      "  2%|1         | 1/57 [00:19<18:04, 19.36s/it]"
     ]
    },
    {
     "name": "stdout",
     "output_type": "stream",
     "text": [
      "./temp_unzip\\576383_volumes\n",
      "./temp_unzip\\576383_segmentations\n",
      "('1',)\n",
      "576383P524337_576383_1441344234-cbct-tooth-17_decimated\n",
      "one case sucessfully converted\n"
     ]
    },
    {
     "name": "stderr",
     "output_type": "stream",
     "text": [
      "  4%|3         | 2/57 [00:35<16:15, 17.75s/it]"
     ]
    },
    {
     "name": "stdout",
     "output_type": "stream",
     "text": [
      "./temp_unzip\\576432_volumes\n",
      "./temp_unzip\\576432_segmentations\n",
      "('1',)\n",
      "too few of desired class in this case. this case will be skipped\n"
     ]
    },
    {
     "name": "stderr",
     "output_type": "stream",
     "text": [
      "  5%|5         | 3/57 [00:41<10:47, 11.99s/it]"
     ]
    },
    {
     "name": "stdout",
     "output_type": "stream",
     "text": [
      "./temp_unzip\\576436_volumes\n",
      "./temp_unzip\\576436_segmentations\n",
      "('1',)\n",
      "too few of desired class in this case. this case will be skipped\n"
     ]
    },
    {
     "name": "stderr",
     "output_type": "stream",
     "text": [
      "  7%|7         | 4/57 [00:52<10:23, 11.76s/it]"
     ]
    },
    {
     "name": "stdout",
     "output_type": "stream",
     "text": [
      "./temp_unzip\\576491_volumes\n",
      "./temp_unzip\\576491_segmentations\n",
      "('1',)\n",
      "576491P524475_576491_1174576624-cbct-tooth-25_decimated\n",
      "one case sucessfully converted\n"
     ]
    },
    {
     "name": "stderr",
     "output_type": "stream",
     "text": [
      "  9%|8         | 5/57 [03:40<59:05, 68.19s/it]"
     ]
    },
    {
     "name": "stdout",
     "output_type": "stream",
     "text": [
      "./temp_unzip\\576504_volumes\n",
      "./temp_unzip\\576504_segmentations\n",
      "('1',)\n",
      "576504P524713_1578696316-cbct-tooth-16_decimated\n",
      "one case sucessfully converted\n"
     ]
    },
    {
     "name": "stderr",
     "output_type": "stream",
     "text": [
      " 11%|#         | 6/57 [03:58<43:27, 51.13s/it]"
     ]
    },
    {
     "name": "stdout",
     "output_type": "stream",
     "text": [
      "./temp_unzip\\576515_volumes\n",
      "./temp_unzip\\576515_segmentations\n",
      "('1',)\n",
      "too few of desired class in this case. this case will be skipped\n"
     ]
    },
    {
     "name": "stderr",
     "output_type": "stream",
     "text": [
      " 12%|#2        | 7/57 [04:01<29:31, 35.44s/it]"
     ]
    },
    {
     "name": "stdout",
     "output_type": "stream",
     "text": [
      "./temp_unzip\\576527_volumes\n",
      "./temp_unzip\\576527_segmentations\n",
      "('1',)\n",
      "576527P524650_1137375946-cbct-tooth-13_decimated\n",
      "one case sucessfully converted\n"
     ]
    },
    {
     "name": "stderr",
     "output_type": "stream",
     "text": [
      " 14%|#4        | 8/57 [04:53<33:05, 40.51s/it]"
     ]
    },
    {
     "name": "stdout",
     "output_type": "stream",
     "text": [
      "./temp_unzip\\576543_volumes\n",
      "./temp_unzip\\576543_segmentations\n",
      "('1',)\n",
      "576543P524699_1903323818-cbct-tooth-17_decimated\n",
      "one case sucessfully converted\n"
     ]
    },
    {
     "name": "stderr",
     "output_type": "stream",
     "text": [
      " 16%|#5        | 9/57 [05:09<26:17, 32.87s/it]"
     ]
    },
    {
     "name": "stdout",
     "output_type": "stream",
     "text": [
      "./temp_unzip\\576547_volumes\n",
      "./temp_unzip\\576547_segmentations\n",
      "('1',)\n",
      "576547P524654_576547_1056009782-cbct-tooth-22_decimated\n",
      "one case sucessfully converted\n"
     ]
    },
    {
     "name": "stderr",
     "output_type": "stream",
     "text": [
      " 18%|#7        | 10/57 [15:39<2:50:11, 217.26s/it]"
     ]
    },
    {
     "name": "stdout",
     "output_type": "stream",
     "text": [
      "./temp_unzip\\576597_volumes\n",
      "./temp_unzip\\576597_segmentations\n",
      "('1',)\n",
      "576597P524817_2064197633-cbct-tooth-16_decimated\n",
      "one case sucessfully converted\n"
     ]
    },
    {
     "name": "stderr",
     "output_type": "stream",
     "text": [
      " 19%|#9        | 11/57 [16:17<2:04:24, 162.26s/it]"
     ]
    },
    {
     "name": "stdout",
     "output_type": "stream",
     "text": [
      "./temp_unzip\\576705_volumes\n",
      "./temp_unzip\\576705_segmentations\n",
      "('1',)\n",
      "too few of desired class in this case. this case will be skipped\n"
     ]
    },
    {
     "name": "stderr",
     "output_type": "stream",
     "text": [
      " 21%|##1       | 12/57 [16:20<1:25:31, 114.04s/it]"
     ]
    },
    {
     "name": "stdout",
     "output_type": "stream",
     "text": [
      "./temp_unzip\\576706_volumes\n",
      "./temp_unzip\\576706_segmentations\n",
      "('1',)\n",
      "576706P525838_1818761548-cbct-tooth-15_decimated\n",
      "one case sucessfully converted\n"
     ]
    },
    {
     "name": "stderr",
     "output_type": "stream",
     "text": [
      " 23%|##2       | 13/57 [17:09<1:09:02, 94.16s/it] "
     ]
    },
    {
     "name": "stdout",
     "output_type": "stream",
     "text": [
      "./temp_unzip\\576708_volumes\n",
      "./temp_unzip\\576708_segmentations\n",
      "('1',)\n",
      "576708P524922_1038337784-cbct-tooth-22_decimated\n",
      "one case sucessfully converted\n"
     ]
    },
    {
     "name": "stderr",
     "output_type": "stream",
     "text": [
      " 25%|##4       | 14/57 [25:57<2:41:21, 225.15s/it]"
     ]
    },
    {
     "name": "stdout",
     "output_type": "stream",
     "text": [
      "./temp_unzip\\576710_volumes\n",
      "./temp_unzip\\576710_segmentations\n",
      "('1',)\n",
      "somthing is wrong with case {'vol': './temp_unzip\\\\576710_volumes', 'seg': './temp_unzip\\\\576710_segmentations'} probably a missing segmentation\n"
     ]
    },
    {
     "name": "stderr",
     "output_type": "stream",
     "text": [
      " 26%|##6       | 15/57 [27:30<2:09:49, 185.47s/it]"
     ]
    },
    {
     "name": "stdout",
     "output_type": "stream",
     "text": [
      "./temp_unzip\\576715_volumes\n",
      "./temp_unzip\\576715_segmentations\n",
      "('1',)\n",
      "576715P524934_576715_1020955721-cbct-tooth-18_decimated\n",
      "one case sucessfully converted\n"
     ]
    },
    {
     "name": "stderr",
     "output_type": "stream",
     "text": [
      " 28%|##8       | 16/57 [32:22<2:28:32, 217.38s/it]"
     ]
    },
    {
     "name": "stdout",
     "output_type": "stream",
     "text": [
      "./temp_unzip\\576728_volumes\n",
      "./temp_unzip\\576728_segmentations\n",
      "('1',)\n",
      "576728P524959_576728_1089083586-cbct-tooth-18_decimated\n",
      "one case sucessfully converted\n"
     ]
    },
    {
     "name": "stderr",
     "output_type": "stream",
     "text": [
      " 30%|##9       | 17/57 [34:12<2:03:29, 185.23s/it]"
     ]
    },
    {
     "name": "stdout",
     "output_type": "stream",
     "text": [
      "./temp_unzip\\576751_volumes\n",
      "./temp_unzip\\576751_segmentations\n",
      "('1',)\n",
      "576751P524983_576751_220085310-cbct-tooth-17_decimated\n",
      "one case sucessfully converted\n"
     ]
    },
    {
     "name": "stderr",
     "output_type": "stream",
     "text": [
      " 32%|###1      | 18/57 [34:45<1:30:45, 139.62s/it]"
     ]
    },
    {
     "name": "stdout",
     "output_type": "stream",
     "text": [
      "./temp_unzip\\576794_volumes\n",
      "./temp_unzip\\576794_segmentations\n",
      "('1',)\n",
      "576794P525345_576794_112658811-cbct-tooth-14_decimated\n",
      "one case sucessfully converted\n"
     ]
    },
    {
     "name": "stderr",
     "output_type": "stream",
     "text": [
      " 33%|###3      | 19/57 [35:27<1:09:45, 110.14s/it]"
     ]
    },
    {
     "name": "stdout",
     "output_type": "stream",
     "text": [
      "./temp_unzip\\576854_volumes\n",
      "./temp_unzip\\576854_segmentations\n",
      "('1',)\n",
      "576854P525111_576854_1663495340-cbct-tooth-25_decimated\n",
      "one case sucessfully converted\n"
     ]
    },
    {
     "name": "stderr",
     "output_type": "stream",
     "text": [
      " 35%|###5      | 20/57 [37:37<1:11:38, 116.17s/it]"
     ]
    },
    {
     "name": "stdout",
     "output_type": "stream",
     "text": [
      "./temp_unzip\\576856_volumes\n",
      "./temp_unzip\\576856_segmentations\n",
      "('1',)\n",
      "576856P525110_576856_1726797804-cbct-tooth-13_decimated\n",
      "one case sucessfully converted\n"
     ]
    },
    {
     "name": "stderr",
     "output_type": "stream",
     "text": [
      " 37%|###6      | 21/57 [38:36<59:19, 98.89s/it]   "
     ]
    },
    {
     "name": "stdout",
     "output_type": "stream",
     "text": [
      "./temp_unzip\\576887_volumes\n",
      "./temp_unzip\\576887_segmentations\n",
      "('1',)\n",
      "576887P525160_2022107358-cbct-tooth-25_decimated\n",
      "one case sucessfully converted\n"
     ]
    },
    {
     "name": "stderr",
     "output_type": "stream",
     "text": [
      " 39%|###8      | 22/57 [40:06<56:11, 96.32s/it]"
     ]
    },
    {
     "name": "stdout",
     "output_type": "stream",
     "text": [
      "./temp_unzip\\576945_volumes\n",
      "./temp_unzip\\576945_segmentations\n",
      "('1',)\n",
      "too few of desired class in this case. this case will be skipped\n"
     ]
    },
    {
     "name": "stderr",
     "output_type": "stream",
     "text": [
      " 40%|####      | 23/57 [40:16<39:58, 70.54s/it]"
     ]
    },
    {
     "name": "stdout",
     "output_type": "stream",
     "text": [
      "./temp_unzip\\576998_volumes\n",
      "./temp_unzip\\576998_segmentations\n",
      "('1',)\n",
      "576998P526380_576998_1283704307-cbct-tooth-21_decimated\n",
      "one case sucessfully converted\n"
     ]
    },
    {
     "name": "stderr",
     "output_type": "stream",
     "text": [
      " 42%|####2     | 24/57 [40:54<33:22, 60.69s/it]"
     ]
    },
    {
     "name": "stdout",
     "output_type": "stream",
     "text": [
      "./temp_unzip\\577011_volumes\n",
      "./temp_unzip\\577011_segmentations\n",
      "('1',)\n",
      "too few of desired class in this case. this case will be skipped\n"
     ]
    },
    {
     "name": "stderr",
     "output_type": "stream",
     "text": [
      " 44%|####3     | 25/57 [41:01<23:48, 44.65s/it]"
     ]
    },
    {
     "name": "stdout",
     "output_type": "stream",
     "text": [
      "./temp_unzip\\577039_volumes\n",
      "./temp_unzip\\577039_segmentations\n",
      "('1',)\n",
      "too few of desired class in this case. this case will be skipped\n"
     ]
    },
    {
     "name": "stderr",
     "output_type": "stream",
     "text": [
      " 46%|####5     | 26/57 [41:17<18:35, 35.99s/it]"
     ]
    },
    {
     "name": "stdout",
     "output_type": "stream",
     "text": [
      "./temp_unzip\\577053_volumes\n",
      "./temp_unzip\\577053_segmentations\n",
      "('1',)\n",
      "577053P525334_577053_1197246785-cbct-tooth-11_decimated\n",
      "one case sucessfully converted\n"
     ]
    },
    {
     "name": "stderr",
     "output_type": "stream",
     "text": [
      " 47%|####7     | 27/57 [41:55<18:18, 36.63s/it]"
     ]
    },
    {
     "name": "stdout",
     "output_type": "stream",
     "text": [
      "./temp_unzip\\577063_volumes\n",
      "./temp_unzip\\577063_segmentations\n",
      "('1',)\n",
      "577063P525347_577063_1188983267-cbct-tooth-21_decimated\n",
      "one case sucessfully converted\n"
     ]
    },
    {
     "name": "stderr",
     "output_type": "stream",
     "text": [
      " 49%|####9     | 28/57 [44:00<30:29, 63.10s/it]"
     ]
    },
    {
     "name": "stdout",
     "output_type": "stream",
     "text": [
      "./temp_unzip\\577179_volumes\n",
      "./temp_unzip\\577179_segmentations\n",
      "('1',)\n",
      "577179P525465_577179_1226287122-cbct-tooth-23_decimated\n",
      "one case sucessfully converted\n"
     ]
    },
    {
     "name": "stderr",
     "output_type": "stream",
     "text": [
      " 51%|#####     | 29/57 [44:18<23:09, 49.61s/it]"
     ]
    },
    {
     "name": "stdout",
     "output_type": "stream",
     "text": [
      "./temp_unzip\\577186_volumes\n",
      "./temp_unzip\\577186_segmentations\n",
      "('1',)\n",
      "too few of desired class in this case. this case will be skipped\n"
     ]
    },
    {
     "name": "stderr",
     "output_type": "stream",
     "text": [
      " 53%|#####2    | 30/57 [44:24<16:25, 36.52s/it]"
     ]
    },
    {
     "name": "stdout",
     "output_type": "stream",
     "text": [
      "./temp_unzip\\577210_volumes\n",
      "./temp_unzip\\577210_segmentations\n",
      "('1',)\n",
      "too few of desired class in this case. this case will be skipped\n"
     ]
    },
    {
     "name": "stderr",
     "output_type": "stream",
     "text": [
      " 54%|#####4    | 31/57 [44:32<12:05, 27.91s/it]"
     ]
    },
    {
     "name": "stdout",
     "output_type": "stream",
     "text": [
      "./temp_unzip\\577436_volumes\n",
      "./temp_unzip\\577436_segmentations\n",
      "('1',)\n",
      "577436P526165_1040079683-cbct-tooth-17_decimated\n",
      "one case sucessfully converted\n"
     ]
    },
    {
     "name": "stderr",
     "output_type": "stream",
     "text": [
      " 56%|#####6    | 32/57 [44:50<10:21, 24.86s/it]"
     ]
    },
    {
     "name": "stdout",
     "output_type": "stream",
     "text": [
      "./temp_unzip\\577466_volumes\n",
      "./temp_unzip\\577466_segmentations\n",
      "('1',)\n",
      "577466P525757_577466_2058313262-cbct-tooth-24_decimated\n",
      "one case sucessfully converted\n"
     ]
    },
    {
     "name": "stderr",
     "output_type": "stream",
     "text": [
      " 58%|#####7    | 33/57 [45:36<12:29, 31.22s/it]"
     ]
    },
    {
     "name": "stdout",
     "output_type": "stream",
     "text": [
      "./temp_unzip\\577564_volumes\n",
      "./temp_unzip\\577564_segmentations\n",
      "('1',)\n",
      "too few of desired class in this case. this case will be skipped\n"
     ]
    },
    {
     "name": "stderr",
     "output_type": "stream",
     "text": [
      " 60%|#####9    | 34/57 [45:43<09:09, 23.88s/it]"
     ]
    },
    {
     "name": "stdout",
     "output_type": "stream",
     "text": [
      "./temp_unzip\\577589_volumes\n",
      "./temp_unzip\\577589_segmentations\n",
      "('1',)\n",
      "too few of desired class in this case. this case will be skipped\n"
     ]
    },
    {
     "name": "stderr",
     "output_type": "stream",
     "text": [
      " 61%|######1   | 35/57 [45:47<06:35, 17.97s/it]"
     ]
    },
    {
     "name": "stdout",
     "output_type": "stream",
     "text": [
      "./temp_unzip\\577590_volumes\n",
      "./temp_unzip\\577590_segmentations\n",
      "('1',)\n",
      "577590P527153_577590_2358026217-cbct-tooth-16_decimated\n",
      "one case sucessfully converted\n"
     ]
    },
    {
     "name": "stderr",
     "output_type": "stream",
     "text": [
      " 63%|######3   | 36/57 [46:13<07:08, 20.40s/it]"
     ]
    },
    {
     "name": "stdout",
     "output_type": "stream",
     "text": [
      "./temp_unzip\\577623_volumes\n",
      "./temp_unzip\\577623_segmentations\n",
      "('1',)\n",
      "too few of desired class in this case. this case will be skipped\n"
     ]
    },
    {
     "name": "stderr",
     "output_type": "stream",
     "text": [
      " 65%|######4   | 37/57 [46:18<05:18, 15.94s/it]"
     ]
    },
    {
     "name": "stdout",
     "output_type": "stream",
     "text": [
      "./temp_unzip\\577628_volumes\n",
      "./temp_unzip\\577628_segmentations\n",
      "('1',)\n",
      "577628P527387_577628_1939001925-cbct-tooth-16_decimated\n",
      "one case sucessfully converted\n"
     ]
    },
    {
     "name": "stderr",
     "output_type": "stream",
     "text": [
      " 67%|######6   | 38/57 [46:35<05:04, 16.04s/it]"
     ]
    },
    {
     "name": "stdout",
     "output_type": "stream",
     "text": [
      "./temp_unzip\\577734_volumes\n",
      "./temp_unzip\\577734_segmentations\n",
      "('1',)\n",
      "somthing is wrong with case {'vol': './temp_unzip\\\\577734_volumes', 'seg': './temp_unzip\\\\577734_segmentations'} probably a missing segmentation\n"
     ]
    },
    {
     "name": "stderr",
     "output_type": "stream",
     "text": [
      " 68%|######8   | 39/57 [46:38<03:41, 12.31s/it]"
     ]
    },
    {
     "name": "stdout",
     "output_type": "stream",
     "text": [
      "./temp_unzip\\577745_volumes\n",
      "./temp_unzip\\577745_segmentations\n",
      "('1',)\n",
      "577745P526057_577745_1116119348-cbct-tooth-21_decimated\n",
      "one case sucessfully converted\n"
     ]
    },
    {
     "name": "stderr",
     "output_type": "stream",
     "text": [
      " 70%|#######   | 40/57 [47:29<06:46, 23.94s/it]"
     ]
    },
    {
     "name": "stdout",
     "output_type": "stream",
     "text": [
      "./temp_unzip\\577806_volumes\n",
      "./temp_unzip\\577806_segmentations\n",
      "('1',)\n",
      "577806P526627_577806_1675491899-cbct-tooth-21_decimated\n",
      "one case sucessfully converted\n"
     ]
    },
    {
     "name": "stderr",
     "output_type": "stream",
     "text": [
      " 72%|#######1  | 41/57 [48:33<09:35, 35.98s/it]"
     ]
    },
    {
     "name": "stdout",
     "output_type": "stream",
     "text": [
      "./temp_unzip\\578001_volumes\n",
      "./temp_unzip\\578001_segmentations\n",
      "('1',)\n",
      "too few of desired class in this case. this case will be skipped\n"
     ]
    },
    {
     "name": "stderr",
     "output_type": "stream",
     "text": [
      " 74%|#######3  | 42/57 [48:44<07:05, 28.36s/it]"
     ]
    },
    {
     "name": "stdout",
     "output_type": "stream",
     "text": [
      "./temp_unzip\\578094_volumes\n",
      "./temp_unzip\\578094_segmentations\n",
      "('1',)\n",
      "578094P526750_578094_1857210394-cbct-tooth-21_decimated\n",
      "one case sucessfully converted\n"
     ]
    },
    {
     "name": "stderr",
     "output_type": "stream",
     "text": [
      " 75%|#######5  | 43/57 [49:18<07:00, 30.03s/it]"
     ]
    },
    {
     "name": "stdout",
     "output_type": "stream",
     "text": [
      "./temp_unzip\\578111_volumes\n",
      "./temp_unzip\\578111_segmentations\n",
      "('1',)\n",
      "578111P526591_578111_1213149978-cbct-tooth-17_decimated\n",
      "one case sucessfully converted\n"
     ]
    },
    {
     "name": "stderr",
     "output_type": "stream",
     "text": [
      " 77%|#######7  | 44/57 [50:15<08:15, 38.12s/it]"
     ]
    },
    {
     "name": "stdout",
     "output_type": "stream",
     "text": [
      "./temp_unzip\\578239_volumes\n",
      "./temp_unzip\\578239_segmentations\n",
      "('1',)\n",
      "578239P527048_578239_2376908003-cbct-tooth-16_decimated\n",
      "one case sucessfully converted\n"
     ]
    },
    {
     "name": "stderr",
     "output_type": "stream",
     "text": [
      " 79%|#######8  | 45/57 [50:37<06:39, 33.27s/it]"
     ]
    },
    {
     "name": "stdout",
     "output_type": "stream",
     "text": [
      "./temp_unzip\\578343_volumes\n",
      "./temp_unzip\\578343_segmentations\n",
      "('1',)\n",
      "578343P526850_578343_113225307-cbct-tooth-23_decimated\n",
      "one case sucessfully converted\n"
     ]
    },
    {
     "name": "stderr",
     "output_type": "stream",
     "text": [
      " 81%|########  | 46/57 [51:06<05:53, 32.11s/it]"
     ]
    },
    {
     "name": "stdout",
     "output_type": "stream",
     "text": [
      "./temp_unzip\\578396_volumes\n",
      "./temp_unzip\\578396_segmentations\n",
      "('1',)\n",
      "578396P526839_578396_1158662038-cbct-tooth-11_decimated\n",
      "one case sucessfully converted\n"
     ]
    },
    {
     "name": "stderr",
     "output_type": "stream",
     "text": [
      " 82%|########2 | 47/57 [53:39<11:21, 68.18s/it]"
     ]
    },
    {
     "name": "stdout",
     "output_type": "stream",
     "text": [
      "./temp_unzip\\578398_volumes\n",
      "./temp_unzip\\578398_segmentations\n",
      "('1',)\n",
      "578398P526845_578398_1164848825-cbct-tooth-22_decimated\n",
      "one case sucessfully converted\n"
     ]
    },
    {
     "name": "stderr",
     "output_type": "stream",
     "text": [
      " 84%|########4 | 48/57 [54:41<09:56, 66.31s/it]"
     ]
    },
    {
     "name": "stdout",
     "output_type": "stream",
     "text": [
      "./temp_unzip\\578401_volumes\n",
      "./temp_unzip\\578401_segmentations\n",
      "('1',)\n",
      "578401P526848_578401_1043543397-cbct-tooth-16_decimated\n",
      "one case sucessfully converted\n"
     ]
    },
    {
     "name": "stderr",
     "output_type": "stream",
     "text": [
      " 86%|########5 | 49/57 [57:32<13:03, 97.94s/it]"
     ]
    },
    {
     "name": "stdout",
     "output_type": "stream",
     "text": [
      "./temp_unzip\\578518_volumes\n",
      "./temp_unzip\\578518_segmentations\n",
      "('1',)\n",
      "somthing is wrong with case {'vol': './temp_unzip\\\\578518_volumes', 'seg': './temp_unzip\\\\578518_segmentations'} probably a missing segmentation\n"
     ]
    },
    {
     "name": "stderr",
     "output_type": "stream",
     "text": [
      " 88%|########7 | 50/57 [57:40<08:14, 70.71s/it]"
     ]
    },
    {
     "name": "stdout",
     "output_type": "stream",
     "text": [
      "./temp_unzip\\578567_volumes\n",
      "./temp_unzip\\578567_segmentations\n",
      "('1',)\n",
      "too few of desired class in this case. this case will be skipped\n"
     ]
    },
    {
     "name": "stderr",
     "output_type": "stream",
     "text": [
      " 89%|########9 | 51/57 [57:44<05:05, 50.96s/it]"
     ]
    },
    {
     "name": "stdout",
     "output_type": "stream",
     "text": [
      "./temp_unzip\\578652_volumes\n",
      "./temp_unzip\\578652_segmentations\n",
      "('1',)\n",
      "578652P527094_578652_1135780440-cbct-tooth-18_decimated\n",
      "one case sucessfully converted\n"
     ]
    },
    {
     "name": "stderr",
     "output_type": "stream",
     "text": [
      " 91%|#########1| 52/57 [1:04:41<13:23, 160.63s/it]"
     ]
    },
    {
     "name": "stdout",
     "output_type": "stream",
     "text": [
      "./temp_unzip\\578675_volumes\n",
      "./temp_unzip\\578675_segmentations\n",
      "('1',)\n",
      "too few of desired class in this case. this case will be skipped\n"
     ]
    },
    {
     "name": "stderr",
     "output_type": "stream",
     "text": [
      " 93%|#########2| 53/57 [1:04:58<07:50, 117.66s/it]"
     ]
    },
    {
     "name": "stdout",
     "output_type": "stream",
     "text": [
      "./temp_unzip\\578888_volumes\n",
      "./temp_unzip\\578888_segmentations\n",
      "('1',)\n",
      "578888P527401_578888_273966077-cbct-tooth-16_decimated\n",
      "one case sucessfully converted\n"
     ]
    },
    {
     "name": "stderr",
     "output_type": "stream",
     "text": [
      " 95%|#########4| 54/57 [1:05:34<04:39, 93.16s/it] "
     ]
    },
    {
     "name": "stdout",
     "output_type": "stream",
     "text": [
      "./temp_unzip\\578910_volumes\n",
      "./temp_unzip\\578910_segmentations\n",
      "('1',)\n",
      "578910P527422_578910_1167051653-cbct-tooth-21_decimated\n",
      "one case sucessfully converted\n"
     ]
    },
    {
     "name": "stderr",
     "output_type": "stream",
     "text": [
      " 96%|#########6| 55/57 [1:08:31<03:56, 118.21s/it]"
     ]
    },
    {
     "name": "stdout",
     "output_type": "stream",
     "text": [
      "./temp_unzip\\579057_volumes\n",
      "./temp_unzip\\579057_segmentations\n",
      "('1',)\n",
      "579057P527586_1956671222-cbct-tooth-13_decimated\n",
      "one case sucessfully converted\n"
     ]
    },
    {
     "name": "stderr",
     "output_type": "stream",
     "text": [
      " 98%|#########8| 56/57 [1:09:47<01:45, 105.58s/it]"
     ]
    },
    {
     "name": "stdout",
     "output_type": "stream",
     "text": [
      "./temp_unzip\\579169_volumes\n",
      "./temp_unzip\\579169_segmentations\n",
      "('1',)\n",
      "somthing is wrong with case {'vol': './temp_unzip\\\\579169_volumes', 'seg': './temp_unzip\\\\579169_segmentations'} probably a missing segmentation\n"
     ]
    },
    {
     "name": "stderr",
     "output_type": "stream",
     "text": [
      "100%|##########| 57/57 [1:09:52<00:00, 73.56s/it] \n"
     ]
    },
    {
     "name": "stdout",
     "output_type": "stream",
     "text": [
      "done converting all cases to nii\n"
     ]
    }
   ],
   "source": [
    "batch_nii_convert (input_cases)"
   ]
  },
  {
   "cell_type": "code",
   "execution_count": 17,
   "id": "c2bd95b1-d062-4235-992e-4048effdb08d",
   "metadata": {},
   "outputs": [],
   "source": [
    "# test_seg = \"C:\\\\Users\\\\Sepehr\\\\3dsegmentationProjects\\\\nn-unet-organize-dataset-for-training\\\\304846_246033_segmented_structures\"\n",
    "# test_vol = \"C:\\\\Users\\\\Sepehr\\\\3dsegmentationProjects\\\\nn-unet-organize-dataset-for-training\\\\304846_Ken_Lin_Lin_Ken____20200831_080509147\"\n",
    "\n",
    "# test_seg2 = \"C:\\\\Users\\\\Sepehr\\\\3dsegmentationProjects\\\\nn-unet-organize-dataset-for-training\\\\temp_unzip\\\\576547_segmentations\"\n",
    "# test_vol2 = \"C:\\\\Users\\\\Sepehr\\\\3dsegmentationProjects\\\\nn-unet-organize-dataset-for-training\\\\temp_unzip\\\\576547_volumes\"\n",
    "\n",
    "# # # # convert_single_case_to_nii (input_cases[0][\"vol\"],input_cases[0][\"seg\"])\n",
    "# convert_single_case_to_nii (test_vol2,test_seg2)"
   ]
  },
  {
   "cell_type": "markdown",
   "id": "a57ecaf2-80a2-46b7-98ed-1b1936084477",
   "metadata": {},
   "source": [
    "# building nnunet_dataset from nii"
   ]
  },
  {
   "cell_type": "code",
   "execution_count": 18,
   "id": "5d3753e3-750a-4644-b07a-c3d035c7b32a",
   "metadata": {},
   "outputs": [],
   "source": [
    "#making dataset Folder \n",
    "\n",
    "dataset_id = 130\n",
    "dataset_name = \"maxillary_left_teeth_split_from_volume\" \n",
    "Dataset_folder_name = f\"Dataset{dataset_id}_{dataset_name}\"\n",
    "\n",
    "if (not os.path.exists(f\"./nnUNet_raw/{Dataset_folder_name}\")):\n",
    "    os.mkdir(f\"./nnUNet_raw/{Dataset_folder_name}\")\n",
    "\n",
    "train_input_dir = f\"./nnUNet_raw/{Dataset_folder_name}/imagesTr\"\n",
    "train_lable_dir = f\"./nnUNet_raw/{Dataset_folder_name}/labelsTr\"\n",
    "\n",
    "if not os.path.exists(train_input_dir):\n",
    "    os.mkdir(train_input_dir)\n",
    "if not os.path.exists(train_lable_dir):\n",
    "    os.mkdir(train_lable_dir)\n",
    "\n",
    "\n"
   ]
  },
  {
   "cell_type": "code",
   "execution_count": 19,
   "id": "a3865e6d-e787-4654-86f9-f81bf8253133",
   "metadata": {},
   "outputs": [],
   "source": [
    "import shutil\n",
    "volume_list = os.listdir(nii_path_volumes)\n",
    "seg_list = os.listdir(nii_path_segmentations)\n",
    "# print (volume_list)\n",
    "\n",
    "for volume in volume_list:\n",
    "    volume_old_path = f\"{nii_path_volumes}/{volume}\"\n",
    "    volume_nnunet_name = volume.replace (\"_input.nii.gz\",\"_0000.nii.gz\")\n",
    "    volume_new_path = f\"{train_input_dir}/{volume_nnunet_name}\"\n",
    "\n",
    "    #print (volume_nnunet_name)\n",
    "    shutil.move(volume_old_path, volume_new_path)\n",
    "\n",
    "\n",
    "for segmentation in seg_list:\n",
    "    segmentation_old_path = f\"{nii_path_segmentations}/{segmentation}\"\n",
    "    segmentation_nnunet_name = segmentation.replace (\"_seg.nii.gz\",\".nii.gz\")\n",
    "    segmentation_new_path = f\"{train_lable_dir}/{segmentation_nnunet_name}\"\n",
    "\n",
    "    #print (segmentation_nnunet_name)\n",
    "    shutil.move(segmentation_old_path, segmentation_new_path)\n"
   ]
  },
  {
   "cell_type": "code",
   "execution_count": 20,
   "id": "c9adf213-d7fe-4681-a374-8a67acab6bc7",
   "metadata": {},
   "outputs": [],
   "source": [
    "## creating Dataset Json \n",
    "import json \n",
    "\n",
    "dataset_metadata = {\n",
    " \"channel_names\": {  # formerly modalities\n",
    "   \"0\": \"CT\", \n",
    " }, \n",
    " \"labels\": {\n",
    "    \"background\":0,\n",
    "    \"tooth_11\":1,\n",
    "    \"tooth_12\":2,\n",
    "    \"tooth_13\":3,\n",
    "    \"tooth_14\":4,\n",
    "    \"tooth_15\":5,\n",
    "    \"tooth_16\":6,\n",
    "    \"tooth_17\":7,\n",
    "    \"tooth_18\":8,\n",
    "    # \"tooth_21\":9,\n",
    "    # \"tooth_22\":10,\n",
    "    # \"tooth_23\":11,\n",
    "    # \"tooth_24\":12,\n",
    "    # \"tooth_25\":13,\n",
    "    # \"tooth_26\":14,\n",
    "    # \"tooth_27\":15,\n",
    "    # \"tooth_28\":16,\n",
    "\n",
    "}, \n",
    " \"numTraining\": len(volume_list), \n",
    " \"file_ending\": \".nii.gz\",\n",
    " \"overwrite_image_reader_writer\": \"SimpleITKIO\"  # optional! If not provided nnU-Net will automatically determine the ReaderWriter\n",
    " \n",
    "}\n",
    "\n",
    "json_data = json.dumps(dataset_metadata)\n",
    "\n",
    "with open(f\"./nnUNet_raw/{Dataset_folder_name}/dataset.json\", \"w\") as outfile:\n",
    "    outfile.write(json_data)"
   ]
  },
  {
   "cell_type": "code",
   "execution_count": 21,
   "id": "4266cc80-479a-4baa-8252-1e9d00ef5d2a",
   "metadata": {},
   "outputs": [],
   "source": [
    "# for file in os.listdir(train_input_dir):\n",
    "\n",
    "#     volume_nnunet_name = file.replace (\"_input.nii.gz\",\"_0000.nii.gz\")\n",
    "#     os.rename (f\"{train_input_dir}/{file}\",f\"{train_input_dir}/{volume_nnunet_name}\")"
   ]
  },
  {
   "cell_type": "code",
   "execution_count": null,
   "id": "8f162ece-ac3c-4abf-b814-6c2698c804ba",
   "metadata": {},
   "outputs": [],
   "source": []
  },
  {
   "cell_type": "code",
   "execution_count": null,
   "id": "b09b16e3-1deb-48d7-b981-8a9785f8ae39",
   "metadata": {},
   "outputs": [],
   "source": []
  },
  {
   "cell_type": "code",
   "execution_count": null,
   "id": "697e58e0-cbf9-44a0-b109-39fddfaf447c",
   "metadata": {},
   "outputs": [],
   "source": []
  },
  {
   "cell_type": "code",
   "execution_count": null,
   "id": "c947264b-b89d-4759-84fa-ac75d6502ab2",
   "metadata": {},
   "outputs": [],
   "source": []
  },
  {
   "cell_type": "markdown",
   "id": "7b114bea-27df-49ec-bb8d-2716401bc538",
   "metadata": {},
   "source": [
    "# tests\n"
   ]
  },
  {
   "cell_type": "code",
   "execution_count": 22,
   "id": "7e2c3d8f-ee0b-4eff-a64f-0c36668acc4e",
   "metadata": {},
   "outputs": [],
   "source": [
    "dicom_series_path = \"C:\\\\Users\\\\Sepehr\\\\3dsegmentationProjects\\\\nn-unet-organize-dataset-for-training\\\\304846_Ken_Lin_Lin_Ken____20200831_080509147\"\n",
    "segmentation_path = \"304846_246033_segmented_structures\""
   ]
  },
  {
   "cell_type": "code",
   "execution_count": 23,
   "id": "7e492308-2a46-44c0-818a-e88f89482523",
   "metadata": {},
   "outputs": [
    {
     "name": "stdout",
     "output_type": "stream",
     "text": [
      "C:\\Users\\Sepehr\\3dsegmentationProjects\\nn-unet-organize-dataset-for-training\\304846_Ken_Lin_Lin_Ken____20200831_080509147\n",
      "304846_246033_segmented_structures\n",
      "('1',)\n"
     ]
    }
   ],
   "source": [
    "# # Clear scene\n",
    "slicer.mrmlScene.Clear(False)\n",
    "\n",
    "print(dicom_series_path)\n",
    "print(segmentation_path)\n",
    "\n",
    "##load dicom \n",
    "loadedNodeIDs = []\n",
    "with DICOMUtils.TemporaryDICOMDatabase() as db:\n",
    "    DICOMUtils.importDicom(os.path.abspath(dicom_series_path), db)\n",
    "    patientUIDs = db.patients()\n",
    "\n",
    "    print (patientUIDs)\n",
    "    for patientUID in patientUIDs:\n",
    "        loadedNodeIDs.extend(DICOMUtils.loadPatientByUID(patientUID))\n",
    "\n",
    "\n",
    "\n"
   ]
  },
  {
   "cell_type": "code",
   "execution_count": 24,
   "id": "368c6ae5-0b91-4261-9fb7-03da910f4526",
   "metadata": {},
   "outputs": [],
   "source": [
    "'''\n",
    "loading the segmentations into appropriate substructuresz \n",
    "\n",
    "'''\n",
    "maxillary_teeth_lables = [\"11\",\"12\",\"13\",\"14\",\"15\",\"16\",\"17\",\"18\",\"21\",\"22\",\"23\",\"24\",\"25\",\"26\",\"27\",\"28\"]\n",
    "maxillaryTeethNode = slicer.mrmlScene.AddNewNodeByClass(\"vtkMRMLSegmentationNode\")\n",
    "maxillaryTeethNode.CreateDefaultDisplayNodes()\n",
    "maxillaryTeethNode.SetName (\"maxillaryTeethNode\")\n",
    "\n",
    "\n",
    "## creating segmentation nodes\n",
    "segmentationNodes = {} \n"
   ]
  },
  {
   "cell_type": "code",
   "execution_count": 20,
   "id": "36c8d500-bc62-4ab8-a41d-dbdb51958cd5",
   "metadata": {},
   "outputs": [],
   "source": [
    "## importing stls \n",
    "nodes = []\n",
    "node_names = []\n",
    "for seg in os.listdir(segmentation_path):\n",
    "    if ((\".stl\" in seg or \".obj\" in seg) and \"pulp\" not in seg ):\n",
    "        mesh_path = f\"{segmentation_path}/{seg}\"\n",
    "        class_name = get_model_class_from_file(seg)\n",
    "\n",
    "        if class_name.strip(\"tooth_\") in maxillary_teeth_lables:\n",
    "            slicer.modules.segmentations.logic().ImportModelToSegmentationNode(slicer.util.loadModel(mesh_path), maxillaryTeethNode)\n",
    "\n",
    "        if class_name in lable_map:\n",
    "\n",
    "            segmentationNode = slicer.mrmlScene.AddNewNodeByClass(\"vtkMRMLSegmentationNode\")\n",
    "            segmentationNode.CreateDefaultDisplayNodes()\n",
    "            segmentationNodes [class_name] = segmentationNode\n",
    "            \n",
    "            slicer.modules.segmentations.logic().ImportModelToSegmentationNode(slicer.util.loadModel(mesh_path), segmentationNode)\n",
    "\n",
    "if (len(segmentationNodes) <1):\n",
    "    print (\"too few of desired class in this case. this case will be skipped\")\n",
    "    "
   ]
  },
  {
   "cell_type": "code",
   "execution_count": null,
   "id": "b2b1ca55-06d6-4bbb-8881-0be03f193128",
   "metadata": {},
   "outputs": [],
   "source": [
    "maxillaryTeethNode."
   ]
  },
  {
   "cell_type": "code",
   "execution_count": 34,
   "id": "7c9e9174-4868-45f1-bf76-cf27df27d153",
   "metadata": {},
   "outputs": [],
   "source": [
    "referenceVolumeNode = slicer.mrmlScene.GetNodeByID(\"vtkMRMLScalarVolumeNode1\")\n",
    "\n",
    "segmentation_lable_map = convert_to_nnunet_lable_tooth(segmentationNodes,referenceVolumeNode)\n",
    "input_volume_map = convert_to_nnunet_lable_macro_structure(maxillaryTeethNode,referenceVolumeNode)"
   ]
  },
  {
   "cell_type": "code",
   "execution_count": 55,
   "id": "5dc68df3-45a3-4c9b-83e3-d98704d0350b",
   "metadata": {},
   "outputs": [],
   "source": [
    "#creating segmentation node to compute ROI \n",
    "temp_segmentationNode = slicer.mrmlScene.AddNewNodeByClass(\"vtkMRMLSegmentationNode\")\n",
    "temp_segmentationNode.CreateDefaultDisplayNodes()\n",
    "\n",
    "slicer.modules.segmentations.logic().ImportLabelmapToSegmentationNode (input_volume_map,temp_segmentationNode)\n",
    "\n",
    "\n",
    "\n",
    "## obtaining bounding box coordinates from segment node\n",
    "import SegmentStatistics\n",
    "segStatLogic = SegmentStatistics.SegmentStatisticsLogic()\n",
    "segStatLogic.getParameterNode().SetParameter(\"Segmentation\", temp_segmentationNode.GetID())\n",
    "segStatLogic.getParameterNode().SetParameter(\"LabelmapSegmentStatisticsPlugin.obb_origin_ras.enabled\",str(True))\n",
    "segStatLogic.getParameterNode().SetParameter(\"LabelmapSegmentStatisticsPlugin.obb_diameter_mm.enabled\",str(True))\n",
    "segStatLogic.getParameterNode().SetParameter(\"LabelmapSegmentStatisticsPlugin.obb_direction_ras_x.enabled\",str(True))\n",
    "segStatLogic.getParameterNode().SetParameter(\"LabelmapSegmentStatisticsPlugin.obb_direction_ras_y.enabled\",str(True))\n",
    "segStatLogic.getParameterNode().SetParameter(\"LabelmapSegmentStatisticsPlugin.obb_direction_ras_z.enabled\",str(True))\n",
    "segStatLogic.computeStatistics()\n",
    "stats = segStatLogic.getStatistics()\n",
    "\n"
   ]
  },
  {
   "cell_type": "code",
   "execution_count": 56,
   "id": "b27c416a-9403-4e71-b9db-241718ea0b51",
   "metadata": {},
   "outputs": [
    {
     "name": "stdout",
     "output_type": "stream",
     "text": [
      "304846_246033_6971_304846_tooth_11_(us_8)_decimated\n"
     ]
    }
   ],
   "source": [
    "## creating ROI from bounding box stats\n",
    "\n",
    "segmentId = stats[\"SegmentIDs\"] [0]\n",
    "print (segmentId)\n",
    "# Get bounding box\n",
    "obb_origin_ras = np.array(stats[segmentId,\"LabelmapSegmentStatisticsPlugin.obb_origin_ras\"])\n",
    "obb_diameter_mm = np.array(stats[segmentId,\"LabelmapSegmentStatisticsPlugin.obb_diameter_mm\"])\n",
    "obb_direction_ras_x = np.array(stats[segmentId,\"LabelmapSegmentStatisticsPlugin.obb_direction_ras_x\"])\n",
    "obb_direction_ras_y = np.array(stats[segmentId,\"LabelmapSegmentStatisticsPlugin.obb_direction_ras_y\"])\n",
    "obb_direction_ras_z = np.array(stats[segmentId,\"LabelmapSegmentStatisticsPlugin.obb_direction_ras_z\"])\n",
    "\n",
    "# Create ROI\n",
    "segment = temp_segmentationNode.GetSegmentation().GetSegment(segmentId)\n",
    "roi=slicer.mrmlScene.AddNewNodeByClass(\"vtkMRMLMarkupsROINode\")\n",
    "roi.SetName(segment.GetName() + \" OBB\")\n",
    "roi.GetDisplayNode().SetHandlesInteractive(False)  # do not let the user resize the box\n",
    "roi.SetSize(obb_diameter_mm)\n",
    "\n",
    "\n",
    "# Position and orient ROI using a transform\n",
    "obb_center_ras = obb_origin_ras+0.5*(obb_diameter_mm[0] * obb_direction_ras_x + obb_diameter_mm[1] * obb_direction_ras_y + obb_diameter_mm[2] * obb_direction_ras_z)\n",
    "boundingBoxToRasTransform = np.row_stack((np.column_stack((obb_direction_ras_x, obb_direction_ras_y, obb_direction_ras_z, obb_center_ras)), (0, 0, 0, 1)))\n",
    "boundingBoxToRasTransformMatrix = slicer.util.vtkMatrixFromArray(boundingBoxToRasTransform)\n",
    "roi.SetAndObserveObjectToNodeMatrix(boundingBoxToRasTransformMatrix)"
   ]
  },
  {
   "cell_type": "code",
   "execution_count": 57,
   "id": "448b8968-b7ab-44d4-a2e9-7d26fc6242b2",
   "metadata": {},
   "outputs": [],
   "source": [
    "## function to retrieve segments of volume using ROI \n",
    "# import vtk\n",
    "# def createVolumeFromRoi(exportRoi, spacingMm, fillValue=0, numberOfComponents=1):\n",
    "#     import math\n",
    "#     roiDiameter = exportRoi.GetSize()\n",
    "#     roiOrigin_Roi = [-roiDiameter[0]/2, -roiDiameter[1]/2, -roiDiameter[2]/2, 1]\n",
    "#     roiToRas = exportRoi.GetObjectToWorldMatrix()\n",
    "#     exportVolumeSize = [int(math.ceil(diameterComponent/spacingMm)) for diameterComponent in roiDiameter]\n",
    "#     # Create image data\n",
    "#     exportImageData = vtk.vtkImageData()\n",
    "#     exportImageData.SetExtent(0, exportVolumeSize[0]-1, 0, exportVolumeSize[1]-1, 0, exportVolumeSize[2]-1)\n",
    "#     exportImageData.AllocateScalars(vtk.VTK_DOUBLE, numberOfComponents)\n",
    "#     exportImageData.GetPointData().GetScalars().Fill(fillValue)\n",
    "#     # Create volume node\n",
    "#     exportVolume = slicer.mrmlScene.AddNewNodeByClass(\"vtkMRMLScalarVolumeNode\" if numberOfComponents==1 else \"vtkMRMLVectorVolumeNode\")\n",
    "#     exportVolume.SetAndObserveImageData(exportImageData)\n",
    "#     exportVolume.SetIJKToRASDirections(roiToRas.GetElement(0,0), roiToRas.GetElement(0,1), roiToRas.GetElement(0,2), roiToRas.GetElement(1,0), roiToRas.GetElement(1,1), roiToRas.GetElement(1,2), roiToRas.GetElement(2,0), roiToRas.GetElement(2,1), roiToRas.GetElement(2,2))\n",
    "#     exportVolume.SetSpacing(spacingMm, spacingMm, spacingMm)\n",
    "#     roiOrigin_Ras = roiToRas.MultiplyPoint(roiOrigin_Roi)\n",
    "#     exportVolume.SetOrigin(roiOrigin_Ras[0:3])\n",
    "#     return exportVolume"
   ]
  },
  {
   "cell_type": "code",
   "execution_count": 58,
   "id": "3de4584f-d483-4109-8a7c-95f1381c0229",
   "metadata": {},
   "outputs": [],
   "source": [
    "# cropVolumeParameters = slicer.mrmlScene.AddNewNodeByClass(\"vtkMRMLCropVolumeParametersNode\")\n",
    "# cropVolumeParameters.SetInputVolumeNodeID(referenceVolumeNode.GetID())\n",
    "# cropVolumeParameters.SetROINodeID(roi.GetID())\n",
    "# slicer.modules.cropvolume.logic().SnapROIToVoxelGrid(cropVolumeParameters)  # optional (rotates the ROI to match the volume axis directions)\n",
    "# slicer.modules.cropvolume.logic().FitROIToInputVolume(cropVolumeParameters)\n",
    "# slicer.mrmlScene.RemoveNode(cropVolumeParameters)"
   ]
  },
  {
   "cell_type": "code",
   "execution_count": 61,
   "id": "49c9cbed-b78a-41cd-9976-57ebfa7e8fa8",
   "metadata": {},
   "outputs": [
    {
     "data": {
      "text/plain": [
       "0"
      ]
     },
     "execution_count": 61,
     "metadata": {},
     "output_type": "execute_result"
    }
   ],
   "source": [
    "##easier and more reliable cropping method \n",
    "cropped_volume_node = slicer.mrmlScene.AddNewNodeByClass(\"vtkMRMLScalarVolumeNode\")\n",
    "cropped_volume_node.CreateDefaultDisplayNodes()\n",
    "\n",
    "cropped_lablemap_node = slicer.mrmlScene.AddNewNodeByClass(\"vtkMRMLLabelMapVolumeNode\")\n",
    "cropped_lablemap_node.CreateDefaultDisplayNodes()\n",
    "\n",
    "slicer.modules.cropvolume.logic().CropVoxelBased (roi,referenceVolumeNode,cropped_volume_node ) ##cropping volume \n",
    "slicer.modules.cropvolume.logic().CropVoxelBased (roi,segmentation_lable_map,cropped_lablemap_node ) ##cropping mask"
   ]
  },
  {
   "cell_type": "code",
   "execution_count": 63,
   "id": "db550ac4-2cbb-46f2-9792-773f4a52b483",
   "metadata": {},
   "outputs": [
    {
     "name": "stdout",
     "output_type": "stream",
     "text": [
      "(260, 459, 586)\n",
      "(260, 459, 586)\n"
     ]
    }
   ],
   "source": [
    "dicomData = slicer.util.arrayFromVolume(cropped_volume_node)\n",
    "mask = slicer.util.arrayFromVolume(cropped_lablemap_node)\n",
    "\n",
    "print (mask.shape)\n",
    "print (dicomData.shape)"
   ]
  },
  {
   "cell_type": "code",
   "execution_count": 64,
   "id": "8db1ded1-6ae7-4fd2-b9e6-87df7df928ea",
   "metadata": {},
   "outputs": [
    {
     "name": "stdout",
     "output_type": "stream",
     "text": [
      "one case sucessfully converted\n"
     ]
    }
   ],
   "source": [
    "caseID = dicom_series_path.split(\"\\\\\")[-1].split(\"_\")[0]\n",
    "volume_save_path = f\"{nii_path_volumes}/{caseID}_input.nii.gz\"\n",
    "seg_save_path =  f\"{nii_path_segmentations}/{caseID}_seg.nii.gz\"\n",
    "\n",
    "slicer.util.exportNode(cropped_volume_node, volume_save_path , {\"useCompression\": 0})\n",
    "slicer.util.exportNode(cropped_lablemap_node, seg_save_path , {\"useCompression\": 0})\n",
    "\n",
    "print (\"one case sucessfully converted\")"
   ]
  },
  {
   "cell_type": "code",
   "execution_count": null,
   "id": "4e648535-6b4b-4d6f-b650-764218d0f315",
   "metadata": {},
   "outputs": [],
   "source": []
  },
  {
   "cell_type": "code",
   "execution_count": null,
   "id": "3eb64385-81ce-418d-a2cb-975a9e0327fa",
   "metadata": {},
   "outputs": [],
   "source": []
  }
 ],
 "metadata": {
  "kernelspec": {
   "display_name": "Slicer 5.6",
   "language": "python",
   "name": "slicer-5.6"
  },
  "language_info": {
   "file_extension": ".py",
   "mimetype": "text/x-python",
   "name": "python",
   "version": "3.9.10"
  }
 },
 "nbformat": 4,
 "nbformat_minor": 5
}
