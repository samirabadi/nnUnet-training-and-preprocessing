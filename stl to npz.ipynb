{
 "cells": [
  {
   "cell_type": "code",
   "execution_count": null,
   "id": "d367a911-6ea5-4763-ac65-83ae151aa477",
   "metadata": {},
   "outputs": [],
   "source": [
    "import pydicom\n",
    "import dicom_numpy\n",
    "import os\n",
    "from glob import glob\n",
    "import os\n",
    "import numpy as np\n",
    "from natsort import natsorted\n",
    "\n",
    "def extract_voxel_data(list_of_dicom_files):\n",
    "    datasets = [pydicom.read_file(f) for f in list_of_dicom_files]\n",
    "    try:\n",
    "        voxel_ndarray, ijk_to_xyz = dicom_numpy.combine_slices(datasets)\n",
    "    except dicom_numpy.DicomImportException as e:\n",
    "        # invalid DICOM data\n",
    "        raise\n",
    "    return voxel_ndarray"
   ]
  },
  {
   "cell_type": "code",
   "execution_count": null,
   "id": "6cea767e-6900-41a4-8acf-ce48fd870236",
   "metadata": {},
   "outputs": [],
   "source": [
    "def extract_dicomfn_fromFolder(folder):\n",
    "    file_names = natsorted(glob(folder + f'/*.dcm'))\n",
    "            \n",
    "            \n",
    "    return file_names\n",
    "\n",
    "def load_dicom(folder):\n",
    "    return extract_voxel_data(extract_dicomfn_fromFolder(folder))\n",
    "\n",
    "\n"
   ]
  },
  {
   "cell_type": "code",
   "execution_count": null,
   "id": "c98d6103-6cdd-4b92-a991-dfd9afea3625",
   "metadata": {},
   "outputs": [],
   "source": [
    "vol = load_dicom(\"C:\\\\Users\\\\Sepehr\\\\Downloads\\\\304846_Ken_Lin_Lin_Ken____20200831_080509147\")\n",
    "print (vol.shape)"
   ]
  },
  {
   "cell_type": "code",
   "execution_count": null,
   "id": "7ab0e548-7c8d-4cfb-895c-2e590125b988",
   "metadata": {},
   "outputs": [],
   "source": [
    "import matplotlib.pyplot as plt\n",
    "for i,slice in enumerate(vol):\n",
    "    plt.imshow(vol[i,:,:])\n",
    "    plt.show()"
   ]
  },
  {
   "cell_type": "code",
   "execution_count": null,
   "id": "49de85a4-ea00-4715-abc3-3e9584f8db04",
   "metadata": {},
   "outputs": [],
   "source": [
    "import trimesh"
   ]
  },
  {
   "cell_type": "code",
   "execution_count": null,
   "id": "b8ced531-df5e-4bc9-820a-c4bba61a67c1",
   "metadata": {},
   "outputs": [],
   "source": [
    "mesh = trimesh.load_mesh(\"C:\\\\Users\\\\Sepehr\\\\Downloads\\\\304846_246033_segmented_structures\\\\304846_246033_6969_304846_maxilla_decimated_sinus_boolean.stl\")\n",
    "assert(mesh.is_watertight)\n",
    "volume = mesh.voxelized(pitch=0.1)\n",
    "volume = volume.fill()\n",
    "mat = volume.matrix # matrix of boolean"
   ]
  },
  {
   "cell_type": "code",
   "execution_count": null,
   "id": "60334956-10a9-412d-b99a-48d1c7cbd115",
   "metadata": {},
   "outputs": [],
   "source": [
    "print (vol.shape)\n",
    "print (mat.shape)"
   ]
  },
  {
   "cell_type": "code",
   "execution_count": null,
   "id": "0c137746-fb3c-4bb9-94b2-0a707ea166c3",
   "metadata": {},
   "outputs": [],
   "source": [
    "import matplotlib.pyplot as plt\n",
    "for i,slice in enumerate(vol):\n",
    "    plt.figure(\"Visualization Train\",(12,6))\n",
    "    plt.subplot(1,2,1)\n",
    "    plt.title(f\"volume at slice {sl}\")\n",
    "    plt.imshow(slice)\n",
    "\n",
    "\n",
    "    plt.figure(\"Visualization Train\",(12,6))\n",
    "    plt.subplot(1,2,2)\n",
    "    plt.title(f\"mask at slice {sl}\")\n",
    "    plt.imshow(mat[i,:,:])\n",
    "\n",
    "    plt.show()"
   ]
  },
  {
   "cell_type": "code",
   "execution_count": null,
   "id": "4721fddb-752e-49ea-99f3-e3710fb1410e",
   "metadata": {},
   "outputs": [],
   "source": []
  }
 ],
 "metadata": {
  "kernelspec": {
   "display_name": "Python 3 (ipykernel)",
   "language": "python",
   "name": "python3"
  },
  "language_info": {
   "codemirror_mode": {
    "name": "ipython",
    "version": 3
   },
   "file_extension": ".py",
   "mimetype": "text/x-python",
   "name": "python",
   "nbconvert_exporter": "python",
   "pygments_lexer": "ipython3",
   "version": "3.9.16"
  }
 },
 "nbformat": 4,
 "nbformat_minor": 5
}
