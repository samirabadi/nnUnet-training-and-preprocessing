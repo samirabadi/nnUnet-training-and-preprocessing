{
 "cells": [
  {
   "cell_type": "code",
   "execution_count": 1,
   "id": "9987388c-a8d9-4704-b963-8339129cf801",
   "metadata": {},
   "outputs": [],
   "source": [
    "import JupyterNotebooksLib as slicernb\n",
    "import slicer\n",
    "import os \n",
    "from DICOMLib import DICOMUtils\n",
    "import numpy as np\n",
    "import zipfile\n",
    "\n",
    "from glob import glob\n",
    "from natsort import natsorted\n",
    "from tqdm import tqdm\n",
    "\n",
    "# Set image viewer size to 50% screen size\n",
    "# slicernb.AppWindow.setWindowSize(scale=0.5)\n",
    "# slicernb.AppWindow.setContents(\"viewers\")\n",
    "\n",
    "# Clear scene\n",
    "slicer.mrmlScene.Clear(False)"
   ]
  },
  {
   "cell_type": "markdown",
   "id": "b40206a5-80d4-4964-97eb-5ed2bfa81407",
   "metadata": {},
   "source": [
    "# Unzip and organize files "
   ]
  },
  {
   "cell_type": "code",
   "execution_count": 2,
   "id": "6c786768-bcab-4ae5-af6b-2cc0087449a8",
   "metadata": {},
   "outputs": [],
   "source": [
    "#input folder \n",
    "input_folder = \"C:\\\\Users\\\\Sepehr\\\\3dsegmentationProjects\\\\nn-unet-organize-dataset-for-training\\\\Segmentation database\"\n",
    "intermediary_folder = \"./temp_unzip\"\n",
    "\n",
    "if  not os.path.exists(intermediary_folder):\n",
    "    os.mkdir(intermediary_folder)"
   ]
  },
  {
   "cell_type": "code",
   "execution_count": 3,
   "id": "c706e0ab-c6a7-4c20-a9cc-ce71b6f99c31",
   "metadata": {},
   "outputs": [],
   "source": [
    "for zip_file in os.listdir(input_folder):\n",
    "    if \"(\" in zip_file or \")\" in zip_file:\n",
    "        continue;\n",
    "    zip_path = f\"{input_folder}/{zip_file}\"\n",
    "    Case_id = zip_file.split(\"_\")[0]\n",
    "\n",
    "    if \"_segmented_structures\" in zip_file: \n",
    "        out_path = f\"{intermediary_folder}/{Case_id}_segmentations\"\n",
    "    else:\n",
    "        out_path = f\"{intermediary_folder}/{Case_id}_volumes\"\n",
    "        \n",
    "    with zipfile.ZipFile(zip_path, 'r') as zip_ref:\n",
    "                    zip_ref.extractall(out_path)"
   ]
  },
  {
   "cell_type": "markdown",
   "id": "fbf8913f-d980-429b-8a23-829200bcc547",
   "metadata": {},
   "source": [
    "# organize file names throw out unuasable cases "
   ]
  },
  {
   "cell_type": "code",
   "execution_count": 4,
   "id": "7d4fa809-bf6c-4bf8-ac05-3b56198ddd2e",
   "metadata": {},
   "outputs": [
    {
     "name": "stdout",
     "output_type": "stream",
     "text": [
      "cannot find matching segmentation case will be skipped\n",
      "cannot find matching segmentation case will be skipped\n"
     ]
    }
   ],
   "source": [
    "input_cases = [] \n",
    "\n",
    "\n",
    "volumes_paths = list(natsorted(glob(os.path.join(intermediary_folder,  \"*\"+ f\"_volumes\"))))\n",
    "\n",
    "for vol in volumes_paths: \n",
    "\n",
    "    seg_path = vol.replace (\"_volumes\",\"_segmentations\")\n",
    "\n",
    "    if (os.path.exists(seg_path)):\n",
    "        input_cases.append ({\"vol\":vol,\"seg\":seg_path})\n",
    "    else:\n",
    "        print (\"cannot find matching segmentation case will be skipped\")\n",
    "\n"
   ]
  },
  {
   "cell_type": "code",
   "execution_count": 5,
   "id": "9f67a9d0-ddf1-4041-b0f4-b487b01c6612",
   "metadata": {},
   "outputs": [
    {
     "data": {
      "text/plain": [
       "'304846'"
      ]
     },
     "execution_count": 5,
     "metadata": {},
     "output_type": "execute_result"
    }
   ],
   "source": [
    "input_cases[0][\"vol\"].split(\"\\\\\")[-1].split(\"_\")[0]"
   ]
  },
  {
   "cell_type": "markdown",
   "id": "5acf0bcb-d3a1-4de7-8f10-4b3d2b1f81c5",
   "metadata": {},
   "source": [
    "# using slicer to convert to nii\n",
    "\n",
    "### will need to alter segmentation nodes to reflect changes in classes you are trying to segment"
   ]
  },
  {
   "cell_type": "code",
   "execution_count": 6,
   "id": "09ece8a6-f3bd-4d53-8a78-921dc34cfa95",
   "metadata": {},
   "outputs": [],
   "source": [
    "nii_path = \"./nii_ds_2\"\n",
    "nii_path_volumes = f\"{nii_path}/Volumes\"\n",
    "nii_path_segmentations = f\"{nii_path}/Masks\"\n",
    "\n",
    "try:\n",
    "    os.mkdir(nii_path)\n",
    "    os.mkdir(nii_path_volumes)\n",
    "    os.mkdir(nii_path_segmentations)\n",
    "except:\n",
    "    print (\"these directories already exist\")"
   ]
  },
  {
   "cell_type": "code",
   "execution_count": 7,
   "id": "f859f038-f7c1-44e9-90f9-59d196e6f73c",
   "metadata": {},
   "outputs": [],
   "source": [
    "def get_model_class_from_file (file): \n",
    "    if \"tooth\" in file: \n",
    "        #print (file.split(\"tooth_\")[1].split(\"_\")[0])\n",
    "\n",
    "        if (\".stl\" in file):\n",
    "            return \"tooth_\" + file.split(\"tooth_\")[1].split(\"_\")[0]\n",
    "        else:\n",
    "            return \"tooth_\" + file.split(\"tooth-\")[1].split(\"-\")[0].split(\"_\")[0]\n",
    "\n",
    "    else: \n",
    "        # CaseId = file.split(\"_\") [-1].split(\".)\n",
    "        # #print (file.split(f\"{CaseId}_\")[-1].split(\"_\")[0])\n",
    "        if (\".stl\" in file):\n",
    "            return file.split(\"_\") [-1].split(\".\")[0]\n",
    "        else:\n",
    "            return file.split(\"-\") [-1].split(\"_\")[0]"
   ]
  },
  {
   "cell_type": "code",
   "execution_count": 8,
   "id": "92002c8d-22ff-4871-951d-33edd9f05852",
   "metadata": {},
   "outputs": [
    {
     "data": {
      "text/plain": [
       "'tooth_31'"
      ]
     },
     "execution_count": 8,
     "metadata": {},
     "output_type": "execute_result"
    }
   ],
   "source": [
    "get_model_class_from_file (\"573401_4172530600-cbct-tooth-31-pulp_decimated.obj\")\n",
    "#\"304846_canal.stl\".split(\"_\")"
   ]
  },
  {
   "cell_type": "code",
   "execution_count": 9,
   "id": "e1da7c97-52ff-4557-b1fc-fe2d3cdf6602",
   "metadata": {},
   "outputs": [],
   "source": [
    "lable_map = {\n",
    "    \"background\":0,\n",
    "    \"sinus\": 1,\n",
    "    \"canal\": 2,\n",
    "    \"mandible\": 3,\n",
    "    \"maxilla\":4,\n",
    "    \"tooth_11\":5,\n",
    "    \"tooth_12\":6,\n",
    "    \"tooth_13\":7,\n",
    "    \"tooth_14\":8,\n",
    "    \"tooth_15\":9,\n",
    "    \"tooth_16\":10,\n",
    "    \"tooth_17\":11,\n",
    "    \"tooth_18\":12,\n",
    "    \"tooth_21\":13,\n",
    "    \"tooth_22\":14,\n",
    "    \"tooth_23\":15,\n",
    "    \"tooth_24\":16,\n",
    "    \"tooth_25\":17,\n",
    "    \"tooth_26\":18,\n",
    "    \"tooth_27\":19,\n",
    "    \"tooth_28\":20,\n",
    "    \"tooth_31\":21,\n",
    "    \"tooth_32\":22,\n",
    "    \"tooth_33\":23,\n",
    "    \"tooth_34\":24,\n",
    "    \"tooth_35\":25,\n",
    "    \"tooth_36\":26,\n",
    "    \"tooth_37\":27,\n",
    "    \"tooth_38\":28,\n",
    "    \"tooth_41\":29,\n",
    "    \"tooth_42\":30,\n",
    "    \"tooth_43\":31,\n",
    "    \"tooth_44\":32,\n",
    "    \"tooth_45\":33,\n",
    "    \"tooth_46\":34,\n",
    "    \"tooth_47\":35,\n",
    "    \"tooth_48\":36,\n",
    "}"
   ]
  },
  {
   "cell_type": "code",
   "execution_count": 10,
   "id": "2b7874e6-4db8-4e46-87e9-fac21d7237c2",
   "metadata": {},
   "outputs": [],
   "source": [
    "def convert_to_nnunet_lable_structure (segmentationNodes,referenceVolumeNode):\n",
    "\n",
    "    all_segment_np = [] \n",
    "    for lable, node in segmentationNodes.items():\n",
    "        name = node.GetName()\n",
    "    \n",
    "        segmentationLblmap  = slicer.mrmlScene.AddNewNodeByClass(\"vtkMRMLLabelMapVolumeNode\")\n",
    "        segmentationLblmap.SetName(name+\"_lablemap\")\n",
    "        slicer.modules.segmentations.logic().ExportVisibleSegmentsToLabelmapNode(node, segmentationLblmap, referenceVolumeNode)\n",
    "        mask = slicer.util.arrayFromVolume(segmentationLblmap)\n",
    "        mask[mask > 0] = lable_map[lable]\n",
    "    \n",
    "        all_segment_np.append(mask.copy())\n",
    "\n",
    "\n",
    "\n",
    "    final_out = all_segment_np[0] \n",
    "    for i in range (1,len(all_segment_np)):\n",
    "        indices  = np.where (final_out <1)\n",
    "        final_out [indices] = all_segment_np[i][indices]\n",
    "\n",
    "    segmentationLblmap  = slicer.mrmlScene.AddNewNodeByClass(\"vtkMRMLLabelMapVolumeNode\")\n",
    "    slicer.modules.segmentations.logic().ExportVisibleSegmentsToLabelmapNode(next(iter(segmentationNodes.values())), segmentationLblmap, referenceVolumeNode)\n",
    "    \n",
    "    slicer.util.updateVolumeFromArray(segmentationLblmap, final_out)\n",
    "\n",
    "    return segmentationLblmap\n",
    "\n",
    "    "
   ]
  },
  {
   "cell_type": "code",
   "execution_count": 11,
   "id": "c9c8fd93-f235-4aac-b699-dcbe2d1ae5f3",
   "metadata": {},
   "outputs": [],
   "source": [
    "maxillary_teeth_lables = [\"11\",\"12\",\"13\",\"14\",\"15\",\"16\",\"17\",\"18\",\"21\",\"22\",\"23\",\"24\",\"25\",\"26\",\"27\",\"28\"]\n",
    "mandibular_teeth_lables = [\"31\",\"32\",\"33\",\"34\",\"35\",\"36\",\"37\",\"38\",\"41\",\"42\",\"43\",\"44\",\"45\",\"46\",\"47\",\"48\"]\n",
    "\n",
    "def convert_single_case_to_nii (dicom_series_path,segmentation_path):\n",
    "\n",
    "    '''\n",
    "    simply loading dicoms into a fresh scene \n",
    "    '''\n",
    "    \n",
    "    \n",
    "    # # Clear scene\n",
    "    slicer.mrmlScene.Clear(False)\n",
    "\n",
    "    print(dicom_series_path)\n",
    "    print(segmentation_path)\n",
    "    \n",
    "    ##load dicom \n",
    "    loadedNodeIDs = []\n",
    "    with DICOMUtils.TemporaryDICOMDatabase() as db:\n",
    "        DICOMUtils.importDicom(os.path.abspath(dicom_series_path), db)\n",
    "        patientUIDs = db.patients()\n",
    "    \n",
    "        print (patientUIDs)\n",
    "        for patientUID in patientUIDs:\n",
    "            loadedNodeIDs.extend(DICOMUtils.loadPatientByUID(patientUID))\n",
    "\n",
    "\n",
    "\n",
    "    '''\n",
    "    loading the segmentations into appropriate substructuresz \n",
    "    \n",
    "    '''\n",
    "    \n",
    "    \n",
    "    ## creating segmentation nodes\n",
    "    segmentationNodes = {} \n",
    "\n",
    "\n",
    "    ## importing stls \n",
    "    nodes = []\n",
    "    node_names = []\n",
    "    for seg in os.listdir(segmentation_path):\n",
    "        if ((\".stl\" in seg or \".obj\" in seg) and \"pulp\" not in seg ):\n",
    "            mesh_path = f\"{segmentation_path}/{seg}\"\n",
    "            class_name = get_model_class_from_file(seg)\n",
    "\n",
    "            if class_name in lable_map:\n",
    "\n",
    "                segmentationNode = slicer.mrmlScene.AddNewNodeByClass(\"vtkMRMLSegmentationNode\")\n",
    "                segmentationNode.CreateDefaultDisplayNodes()\n",
    "                segmentationNodes [class_name] = segmentationNode\n",
    "                \n",
    "                slicer.modules.segmentations.logic().ImportModelToSegmentationNode(slicer.util.loadModel(mesh_path), segmentationNode)\n",
    "\n",
    "    referenceVolumeNode = slicer.mrmlScene.GetNodeByID(\"vtkMRMLScalarVolumeNode1\")\n",
    "\n",
    "    segmentation_lable_map = convert_to_nnunet_lable_structure(segmentationNodes,referenceVolumeNode)\n",
    "\n",
    "    caseID = dicom_series_path.split(\"\\\\\")[-1].split(\"_\")[0]\n",
    "    volume_save_path = f\"{nii_path_volumes}/{caseID}_volume.nii.gz\"\n",
    "    seg_save_path =  f\"{nii_path_segmentations}/{caseID}_seg.nii.gz\"\n",
    "\n",
    "    slicer.util.exportNode(referenceVolumeNode, volume_save_path , {\"useCompression\": 0})\n",
    "    slicer.util.exportNode(segmentation_lable_map, seg_save_path , {\"useCompression\": 0})\n",
    "\n",
    "    print (\"one case sucessfully converted\")\n",
    "     \n",
    "\n",
    "\n",
    "        "
   ]
  },
  {
   "cell_type": "code",
   "execution_count": 12,
   "id": "7e4afd5c-a0cf-41b2-98e8-f497f8a7e4ef",
   "metadata": {},
   "outputs": [],
   "source": [
    "def batch_nii_convert (in_case_files):\n",
    "\n",
    "    for case in tqdm(in_case_files):\n",
    "        try:\n",
    "            convert_single_case_to_nii (case[\"vol\"],case[\"seg\"])\n",
    "        except:\n",
    "            print (f\"somthing is wrong with case {case} probably a missing segmentation\")\n",
    "    print (\"done converting all cases to nii\")\n",
    "    "
   ]
  },
  {
   "cell_type": "code",
   "execution_count": 13,
   "id": "78215f33-47f9-4dab-aa75-45268bbb3771",
   "metadata": {},
   "outputs": [
    {
     "name": "stderr",
     "output_type": "stream",
     "text": [
      "  0%|          | 0/238 [00:00<?, ?it/s]"
     ]
    },
    {
     "name": "stdout",
     "output_type": "stream",
     "text": [
      "./temp_unzip\\304846_volumes\n",
      "./temp_unzip\\304846_segmentations\n",
      "('1',)\n",
      "one case sucessfully converted\n"
     ]
    },
    {
     "name": "stderr",
     "output_type": "stream",
     "text": [
      "  0%|          | 1/238 [03:47<14:58:26, 227.45s/it]"
     ]
    },
    {
     "name": "stdout",
     "output_type": "stream",
     "text": [
      "./temp_unzip\\315920_volumes\n",
      "./temp_unzip\\315920_segmentations\n",
      "('1',)\n",
      "one case sucessfully converted\n"
     ]
    },
    {
     "name": "stderr",
     "output_type": "stream",
     "text": [
      "  1%|          | 2/238 [05:51<10:54:19, 166.35s/it]"
     ]
    },
    {
     "name": "stdout",
     "output_type": "stream",
     "text": [
      "./temp_unzip\\317681_volumes\n",
      "./temp_unzip\\317681_segmentations\n",
      "('1',)\n",
      "one case sucessfully converted\n"
     ]
    },
    {
     "name": "stderr",
     "output_type": "stream",
     "text": [
      "  1%|1         | 3/238 [07:59<9:43:56, 149.09s/it] "
     ]
    },
    {
     "name": "stdout",
     "output_type": "stream",
     "text": [
      "./temp_unzip\\318908_volumes\n",
      "./temp_unzip\\318908_segmentations\n",
      "('1',)\n",
      "one case sucessfully converted\n"
     ]
    },
    {
     "name": "stderr",
     "output_type": "stream",
     "text": [
      "  2%|1         | 4/238 [09:34<8:17:31, 127.57s/it]"
     ]
    },
    {
     "name": "stdout",
     "output_type": "stream",
     "text": [
      "./temp_unzip\\321497_volumes\n",
      "./temp_unzip\\321497_segmentations\n",
      "('1',)\n",
      "one case sucessfully converted\n"
     ]
    },
    {
     "name": "stderr",
     "output_type": "stream",
     "text": [
      "  2%|2         | 5/238 [11:44<8:18:37, 128.40s/it]"
     ]
    },
    {
     "name": "stdout",
     "output_type": "stream",
     "text": [
      "./temp_unzip\\333654_volumes\n",
      "./temp_unzip\\333654_segmentations\n",
      "('1',)\n",
      "one case sucessfully converted\n"
     ]
    },
    {
     "name": "stderr",
     "output_type": "stream",
     "text": [
      "  3%|2         | 6/238 [14:26<9:01:27, 140.03s/it]"
     ]
    },
    {
     "name": "stdout",
     "output_type": "stream",
     "text": [
      "./temp_unzip\\334691_volumes\n",
      "./temp_unzip\\334691_segmentations\n",
      "('1',)\n",
      "one case sucessfully converted\n"
     ]
    },
    {
     "name": "stderr",
     "output_type": "stream",
     "text": [
      "  3%|2         | 7/238 [17:29<9:52:55, 154.01s/it]"
     ]
    },
    {
     "name": "stdout",
     "output_type": "stream",
     "text": [
      "./temp_unzip\\337186_volumes\n",
      "./temp_unzip\\337186_segmentations\n",
      "('1',)\n",
      "one case sucessfully converted\n"
     ]
    },
    {
     "name": "stderr",
     "output_type": "stream",
     "text": [
      "  3%|3         | 8/238 [19:32<9:12:22, 144.10s/it]"
     ]
    },
    {
     "name": "stdout",
     "output_type": "stream",
     "text": [
      "./temp_unzip\\342104_volumes\n",
      "./temp_unzip\\342104_segmentations\n",
      "('1',)\n",
      "one case sucessfully converted\n"
     ]
    },
    {
     "name": "stderr",
     "output_type": "stream",
     "text": [
      "  4%|3         | 9/238 [21:57<9:10:41, 144.29s/it]"
     ]
    },
    {
     "name": "stdout",
     "output_type": "stream",
     "text": [
      "./temp_unzip\\342835_volumes\n",
      "./temp_unzip\\342835_segmentations\n",
      "('1',)\n",
      "one case sucessfully converted\n"
     ]
    },
    {
     "name": "stderr",
     "output_type": "stream",
     "text": [
      "  4%|4         | 10/238 [24:19<9:06:12, 143.74s/it]"
     ]
    },
    {
     "name": "stdout",
     "output_type": "stream",
     "text": [
      "./temp_unzip\\343403_volumes\n",
      "./temp_unzip\\343403_segmentations\n",
      "('1',)\n",
      "one case sucessfully converted\n"
     ]
    },
    {
     "name": "stderr",
     "output_type": "stream",
     "text": [
      "  5%|4         | 11/238 [26:31<8:50:22, 140.19s/it]"
     ]
    },
    {
     "name": "stdout",
     "output_type": "stream",
     "text": [
      "./temp_unzip\\343418_volumes\n",
      "./temp_unzip\\343418_segmentations\n",
      "('1',)\n",
      "one case sucessfully converted\n"
     ]
    },
    {
     "name": "stderr",
     "output_type": "stream",
     "text": [
      "  5%|5         | 12/238 [28:12<8:02:50, 128.19s/it]"
     ]
    },
    {
     "name": "stdout",
     "output_type": "stream",
     "text": [
      "./temp_unzip\\344607_volumes\n",
      "./temp_unzip\\344607_segmentations\n",
      "('1',)\n",
      "one case sucessfully converted\n"
     ]
    },
    {
     "name": "stderr",
     "output_type": "stream",
     "text": [
      "  5%|5         | 13/238 [30:43<8:26:13, 134.99s/it]"
     ]
    },
    {
     "name": "stdout",
     "output_type": "stream",
     "text": [
      "./temp_unzip\\344681_volumes\n",
      "./temp_unzip\\344681_segmentations\n",
      "('1',)\n",
      "one case sucessfully converted\n"
     ]
    },
    {
     "name": "stderr",
     "output_type": "stream",
     "text": [
      "  6%|5         | 14/238 [35:41<11:28:40, 184.47s/it]"
     ]
    },
    {
     "name": "stdout",
     "output_type": "stream",
     "text": [
      "./temp_unzip\\344711_volumes\n",
      "./temp_unzip\\344711_segmentations\n",
      "('1',)\n",
      "one case sucessfully converted\n"
     ]
    },
    {
     "name": "stderr",
     "output_type": "stream",
     "text": [
      "  6%|6         | 15/238 [36:05<8:25:16, 135.95s/it] "
     ]
    },
    {
     "name": "stdout",
     "output_type": "stream",
     "text": [
      "./temp_unzip\\345532_volumes\n",
      "./temp_unzip\\345532_segmentations\n",
      "('1',)\n",
      "one case sucessfully converted\n"
     ]
    },
    {
     "name": "stderr",
     "output_type": "stream",
     "text": [
      "  7%|6         | 16/238 [37:12<7:06:38, 115.31s/it]"
     ]
    },
    {
     "name": "stdout",
     "output_type": "stream",
     "text": [
      "./temp_unzip\\346873_volumes\n",
      "./temp_unzip\\346873_segmentations\n",
      "('1',)\n",
      "one case sucessfully converted\n"
     ]
    },
    {
     "name": "stderr",
     "output_type": "stream",
     "text": [
      "  7%|7         | 17/238 [40:48<8:56:32, 145.67s/it]"
     ]
    },
    {
     "name": "stdout",
     "output_type": "stream",
     "text": [
      "./temp_unzip\\347033_volumes\n",
      "./temp_unzip\\347033_segmentations\n",
      "('1',)\n",
      "one case sucessfully converted\n"
     ]
    },
    {
     "name": "stderr",
     "output_type": "stream",
     "text": [
      "  8%|7         | 18/238 [43:37<9:19:26, 152.57s/it]"
     ]
    },
    {
     "name": "stdout",
     "output_type": "stream",
     "text": [
      "./temp_unzip\\347103_volumes\n",
      "./temp_unzip\\347103_segmentations\n",
      "('1',)\n",
      "one case sucessfully converted\n"
     ]
    },
    {
     "name": "stderr",
     "output_type": "stream",
     "text": [
      "  8%|7         | 19/238 [45:40<8:44:09, 143.61s/it]"
     ]
    },
    {
     "name": "stdout",
     "output_type": "stream",
     "text": [
      "./temp_unzip\\347286_volumes\n",
      "./temp_unzip\\347286_segmentations\n",
      "('1',)\n",
      "one case sucessfully converted\n"
     ]
    },
    {
     "name": "stderr",
     "output_type": "stream",
     "text": [
      "  8%|8         | 20/238 [47:35<8:10:53, 135.11s/it]"
     ]
    },
    {
     "name": "stdout",
     "output_type": "stream",
     "text": [
      "./temp_unzip\\349004_volumes\n",
      "./temp_unzip\\349004_segmentations\n",
      "('1',)\n",
      "one case sucessfully converted\n"
     ]
    },
    {
     "name": "stderr",
     "output_type": "stream",
     "text": [
      "  9%|8         | 21/238 [49:52<8:10:44, 135.69s/it]"
     ]
    },
    {
     "name": "stdout",
     "output_type": "stream",
     "text": [
      "./temp_unzip\\349272_volumes\n",
      "./temp_unzip\\349272_segmentations\n",
      "('1',)\n",
      "one case sucessfully converted\n"
     ]
    },
    {
     "name": "stderr",
     "output_type": "stream",
     "text": [
      "  9%|9         | 22/238 [51:17<7:13:28, 120.41s/it]"
     ]
    },
    {
     "name": "stdout",
     "output_type": "stream",
     "text": [
      "./temp_unzip\\349397_volumes\n",
      "./temp_unzip\\349397_segmentations\n",
      "('1',)\n",
      "one case sucessfully converted\n"
     ]
    },
    {
     "name": "stderr",
     "output_type": "stream",
     "text": [
      " 10%|9         | 23/238 [52:57<6:49:16, 114.22s/it]"
     ]
    },
    {
     "name": "stdout",
     "output_type": "stream",
     "text": [
      "./temp_unzip\\349674_volumes\n",
      "./temp_unzip\\349674_segmentations\n",
      "('1',)\n",
      "one case sucessfully converted\n"
     ]
    },
    {
     "name": "stderr",
     "output_type": "stream",
     "text": [
      " 10%|#         | 24/238 [55:16<7:14:09, 121.73s/it]"
     ]
    },
    {
     "name": "stdout",
     "output_type": "stream",
     "text": [
      "./temp_unzip\\350189_volumes\n",
      "./temp_unzip\\350189_segmentations\n",
      "('1',)\n",
      "one case sucessfully converted\n"
     ]
    },
    {
     "name": "stderr",
     "output_type": "stream",
     "text": [
      " 11%|#         | 25/238 [58:53<8:53:09, 150.18s/it]"
     ]
    },
    {
     "name": "stdout",
     "output_type": "stream",
     "text": [
      "./temp_unzip\\350448_volumes\n",
      "./temp_unzip\\350448_segmentations\n",
      "('1',)\n",
      "one case sucessfully converted\n"
     ]
    },
    {
     "name": "stderr",
     "output_type": "stream",
     "text": [
      " 11%|#         | 26/238 [1:01:08<8:35:21, 145.86s/it]"
     ]
    },
    {
     "name": "stdout",
     "output_type": "stream",
     "text": [
      "./temp_unzip\\352194_volumes\n",
      "./temp_unzip\\352194_segmentations\n",
      "('1',)\n",
      "one case sucessfully converted\n"
     ]
    },
    {
     "name": "stderr",
     "output_type": "stream",
     "text": [
      " 11%|#1        | 27/238 [1:03:20<8:17:44, 141.54s/it]"
     ]
    },
    {
     "name": "stdout",
     "output_type": "stream",
     "text": [
      "./temp_unzip\\352427_volumes\n",
      "./temp_unzip\\352427_segmentations\n",
      "('1',)\n",
      "one case sucessfully converted\n"
     ]
    },
    {
     "name": "stderr",
     "output_type": "stream",
     "text": [
      " 12%|#1        | 28/238 [1:06:54<9:31:50, 163.38s/it]"
     ]
    },
    {
     "name": "stdout",
     "output_type": "stream",
     "text": [
      "./temp_unzip\\353514_volumes\n",
      "./temp_unzip\\353514_segmentations\n",
      "('1',)\n",
      "one case sucessfully converted\n"
     ]
    },
    {
     "name": "stderr",
     "output_type": "stream",
     "text": [
      " 12%|#2        | 29/238 [1:08:52<8:41:21, 149.67s/it]"
     ]
    },
    {
     "name": "stdout",
     "output_type": "stream",
     "text": [
      "./temp_unzip\\354238_volumes\n",
      "./temp_unzip\\354238_segmentations\n",
      "('1',)\n",
      "one case sucessfully converted\n"
     ]
    },
    {
     "name": "stderr",
     "output_type": "stream",
     "text": [
      " 13%|#2        | 30/238 [1:12:13<9:32:23, 165.12s/it]"
     ]
    },
    {
     "name": "stdout",
     "output_type": "stream",
     "text": [
      "./temp_unzip\\355049_volumes\n",
      "./temp_unzip\\355049_segmentations\n",
      "('1',)\n",
      "one case sucessfully converted\n"
     ]
    },
    {
     "name": "stderr",
     "output_type": "stream",
     "text": [
      " 13%|#3        | 31/238 [1:13:36<8:05:11, 140.64s/it]"
     ]
    },
    {
     "name": "stdout",
     "output_type": "stream",
     "text": [
      "./temp_unzip\\355487_volumes\n",
      "./temp_unzip\\355487_segmentations\n",
      "('1',)\n",
      "one case sucessfully converted\n"
     ]
    },
    {
     "name": "stderr",
     "output_type": "stream",
     "text": [
      " 13%|#3        | 32/238 [1:17:24<9:32:20, 166.70s/it]"
     ]
    },
    {
     "name": "stdout",
     "output_type": "stream",
     "text": [
      "./temp_unzip\\355908_volumes\n",
      "./temp_unzip\\355908_segmentations\n",
      "('1',)\n",
      "one case sucessfully converted\n"
     ]
    },
    {
     "name": "stderr",
     "output_type": "stream",
     "text": [
      " 14%|#3        | 33/238 [1:21:18<10:38:52, 186.99s/it]"
     ]
    },
    {
     "name": "stdout",
     "output_type": "stream",
     "text": [
      "./temp_unzip\\356042_volumes\n",
      "./temp_unzip\\356042_segmentations\n",
      "('1',)\n",
      "one case sucessfully converted\n"
     ]
    },
    {
     "name": "stderr",
     "output_type": "stream",
     "text": [
      " 14%|#4        | 34/238 [1:25:30<11:41:44, 206.40s/it]"
     ]
    },
    {
     "name": "stdout",
     "output_type": "stream",
     "text": [
      "./temp_unzip\\357786_volumes\n",
      "./temp_unzip\\357786_segmentations\n",
      "('1',)\n",
      "one case sucessfully converted\n"
     ]
    },
    {
     "name": "stderr",
     "output_type": "stream",
     "text": [
      " 15%|#4        | 35/238 [1:27:56<10:36:55, 188.25s/it]"
     ]
    },
    {
     "name": "stdout",
     "output_type": "stream",
     "text": [
      "./temp_unzip\\362557_volumes\n",
      "./temp_unzip\\362557_segmentations\n",
      "('1',)\n",
      "one case sucessfully converted\n"
     ]
    },
    {
     "name": "stderr",
     "output_type": "stream",
     "text": [
      " 15%|#5        | 36/238 [1:30:39<10:08:08, 180.64s/it]"
     ]
    },
    {
     "name": "stdout",
     "output_type": "stream",
     "text": [
      "./temp_unzip\\362802_volumes\n",
      "./temp_unzip\\362802_segmentations\n",
      "('1',)\n",
      "one case sucessfully converted\n"
     ]
    },
    {
     "name": "stderr",
     "output_type": "stream",
     "text": [
      " 16%|#5        | 37/238 [1:34:42<11:08:04, 199.43s/it]"
     ]
    },
    {
     "name": "stdout",
     "output_type": "stream",
     "text": [
      "./temp_unzip\\365074_volumes\n",
      "./temp_unzip\\365074_segmentations\n",
      "('1',)\n",
      "one case sucessfully converted\n"
     ]
    },
    {
     "name": "stderr",
     "output_type": "stream",
     "text": [
      " 16%|#5        | 38/238 [1:39:10<12:13:18, 219.99s/it]"
     ]
    },
    {
     "name": "stdout",
     "output_type": "stream",
     "text": [
      "./temp_unzip\\367087_volumes\n",
      "./temp_unzip\\367087_segmentations\n",
      "('1',)\n",
      "one case sucessfully converted\n"
     ]
    },
    {
     "name": "stderr",
     "output_type": "stream",
     "text": [
      " 16%|#6        | 39/238 [1:42:48<12:07:14, 219.27s/it]"
     ]
    },
    {
     "name": "stdout",
     "output_type": "stream",
     "text": [
      "./temp_unzip\\368013_volumes\n",
      "./temp_unzip\\368013_segmentations\n",
      "('1',)\n",
      "one case sucessfully converted\n"
     ]
    },
    {
     "name": "stderr",
     "output_type": "stream",
     "text": [
      " 17%|#6        | 40/238 [1:46:35<12:12:02, 221.83s/it]"
     ]
    },
    {
     "name": "stdout",
     "output_type": "stream",
     "text": [
      "./temp_unzip\\368395_volumes\n",
      "./temp_unzip\\368395_segmentations\n",
      "('1',)\n",
      "one case sucessfully converted\n"
     ]
    },
    {
     "name": "stderr",
     "output_type": "stream",
     "text": [
      " 17%|#7        | 41/238 [1:49:11<11:02:51, 201.88s/it]"
     ]
    },
    {
     "name": "stdout",
     "output_type": "stream",
     "text": [
      "./temp_unzip\\368732_volumes\n",
      "./temp_unzip\\368732_segmentations\n",
      "('1',)\n",
      "one case sucessfully converted\n"
     ]
    },
    {
     "name": "stderr",
     "output_type": "stream",
     "text": [
      " 18%|#7        | 42/238 [1:52:59<11:25:41, 209.91s/it]"
     ]
    },
    {
     "name": "stdout",
     "output_type": "stream",
     "text": [
      "./temp_unzip\\369271_volumes\n",
      "./temp_unzip\\369271_segmentations\n",
      "('1',)\n",
      "one case sucessfully converted\n"
     ]
    },
    {
     "name": "stderr",
     "output_type": "stream",
     "text": [
      " 18%|#8        | 43/238 [1:57:00<11:52:08, 219.12s/it]"
     ]
    },
    {
     "name": "stdout",
     "output_type": "stream",
     "text": [
      "./temp_unzip\\369473_volumes\n",
      "./temp_unzip\\369473_segmentations\n",
      "('1',)\n",
      "one case sucessfully converted\n"
     ]
    },
    {
     "name": "stderr",
     "output_type": "stream",
     "text": [
      " 18%|#8        | 44/238 [2:00:49<11:57:48, 222.00s/it]"
     ]
    },
    {
     "name": "stdout",
     "output_type": "stream",
     "text": [
      "./temp_unzip\\369592_volumes\n",
      "./temp_unzip\\369592_segmentations\n",
      "('1',)\n",
      "one case sucessfully converted\n"
     ]
    },
    {
     "name": "stderr",
     "output_type": "stream",
     "text": [
      " 19%|#8        | 45/238 [2:03:45<11:10:06, 208.32s/it]"
     ]
    },
    {
     "name": "stdout",
     "output_type": "stream",
     "text": [
      "./temp_unzip\\369885_volumes\n",
      "./temp_unzip\\369885_segmentations\n",
      "('1',)\n",
      "one case sucessfully converted\n"
     ]
    },
    {
     "name": "stderr",
     "output_type": "stream",
     "text": [
      " 19%|#9        | 46/238 [2:07:21<11:13:34, 210.49s/it]"
     ]
    },
    {
     "name": "stdout",
     "output_type": "stream",
     "text": [
      "./temp_unzip\\370299_volumes\n",
      "./temp_unzip\\370299_segmentations\n",
      "('1',)\n",
      "one case sucessfully converted\n"
     ]
    },
    {
     "name": "stderr",
     "output_type": "stream",
     "text": [
      " 20%|#9        | 47/238 [2:08:32<8:57:10, 168.75s/it] "
     ]
    },
    {
     "name": "stdout",
     "output_type": "stream",
     "text": [
      "./temp_unzip\\370825_volumes\n",
      "./temp_unzip\\370825_segmentations\n",
      "('1',)\n",
      "one case sucessfully converted\n"
     ]
    },
    {
     "name": "stderr",
     "output_type": "stream",
     "text": [
      " 20%|##        | 48/238 [2:10:11<7:47:38, 147.67s/it]"
     ]
    },
    {
     "name": "stdout",
     "output_type": "stream",
     "text": [
      "./temp_unzip\\370876_volumes\n",
      "./temp_unzip\\370876_segmentations\n",
      "('1',)\n",
      "one case sucessfully converted\n"
     ]
    },
    {
     "name": "stderr",
     "output_type": "stream",
     "text": [
      " 21%|##        | 49/238 [2:10:51<6:03:40, 115.45s/it]"
     ]
    },
    {
     "name": "stdout",
     "output_type": "stream",
     "text": [
      "./temp_unzip\\371380_volumes\n",
      "./temp_unzip\\371380_segmentations\n",
      "('1',)\n",
      "one case sucessfully converted\n"
     ]
    },
    {
     "name": "stderr",
     "output_type": "stream",
     "text": [
      " 21%|##1       | 50/238 [2:12:47<6:02:03, 115.55s/it]"
     ]
    },
    {
     "name": "stdout",
     "output_type": "stream",
     "text": [
      "./temp_unzip\\371694_volumes\n",
      "./temp_unzip\\371694_segmentations\n",
      "('1',)\n",
      "one case sucessfully converted\n"
     ]
    },
    {
     "name": "stderr",
     "output_type": "stream",
     "text": [
      " 21%|##1       | 51/238 [2:14:27<5:45:34, 110.88s/it]"
     ]
    },
    {
     "name": "stdout",
     "output_type": "stream",
     "text": [
      "./temp_unzip\\371741_volumes\n",
      "./temp_unzip\\371741_segmentations\n",
      "('1',)\n",
      "one case sucessfully converted\n"
     ]
    },
    {
     "name": "stderr",
     "output_type": "stream",
     "text": [
      " 22%|##1       | 52/238 [2:17:11<6:33:25, 126.91s/it]"
     ]
    },
    {
     "name": "stdout",
     "output_type": "stream",
     "text": [
      "./temp_unzip\\371965_volumes\n",
      "./temp_unzip\\371965_segmentations\n",
      "('1',)\n",
      "one case sucessfully converted\n"
     ]
    },
    {
     "name": "stderr",
     "output_type": "stream",
     "text": [
      " 22%|##2       | 53/238 [2:20:47<7:53:33, 153.58s/it]"
     ]
    },
    {
     "name": "stdout",
     "output_type": "stream",
     "text": [
      "./temp_unzip\\372053_volumes\n",
      "./temp_unzip\\372053_segmentations\n",
      "('1',)\n",
      "one case sucessfully converted\n"
     ]
    },
    {
     "name": "stderr",
     "output_type": "stream",
     "text": [
      " 23%|##2       | 54/238 [2:23:41<8:09:52, 159.74s/it]"
     ]
    },
    {
     "name": "stdout",
     "output_type": "stream",
     "text": [
      "./temp_unzip\\372279_volumes\n",
      "./temp_unzip\\372279_segmentations\n",
      "('1',)\n",
      "one case sucessfully converted\n"
     ]
    },
    {
     "name": "stderr",
     "output_type": "stream",
     "text": [
      " 23%|##3       | 55/238 [2:24:50<6:43:55, 132.43s/it]"
     ]
    },
    {
     "name": "stdout",
     "output_type": "stream",
     "text": [
      "./temp_unzip\\372516_volumes\n",
      "./temp_unzip\\372516_segmentations\n",
      "('1',)\n",
      "one case sucessfully converted\n"
     ]
    },
    {
     "name": "stderr",
     "output_type": "stream",
     "text": [
      " 24%|##3       | 56/238 [2:25:51<5:37:26, 111.24s/it]"
     ]
    },
    {
     "name": "stdout",
     "output_type": "stream",
     "text": [
      "./temp_unzip\\372655_volumes\n",
      "./temp_unzip\\372655_segmentations\n",
      "('1',)\n",
      "one case sucessfully converted\n"
     ]
    },
    {
     "name": "stderr",
     "output_type": "stream",
     "text": [
      " 24%|##3       | 57/238 [2:27:51<5:43:15, 113.79s/it]"
     ]
    },
    {
     "name": "stdout",
     "output_type": "stream",
     "text": [
      "./temp_unzip\\372710_volumes\n",
      "./temp_unzip\\372710_segmentations\n",
      "('1',)\n",
      "one case sucessfully converted\n"
     ]
    },
    {
     "name": "stderr",
     "output_type": "stream",
     "text": [
      " 24%|##4       | 58/238 [2:29:46<5:42:46, 114.26s/it]"
     ]
    },
    {
     "name": "stdout",
     "output_type": "stream",
     "text": [
      "./temp_unzip\\372826_volumes\n",
      "./temp_unzip\\372826_segmentations\n",
      "('1',)\n",
      "one case sucessfully converted\n"
     ]
    },
    {
     "name": "stderr",
     "output_type": "stream",
     "text": [
      " 25%|##4       | 59/238 [2:33:40<7:27:58, 150.16s/it]"
     ]
    },
    {
     "name": "stdout",
     "output_type": "stream",
     "text": [
      "./temp_unzip\\373269_volumes\n",
      "./temp_unzip\\373269_segmentations\n",
      "('1',)\n",
      "one case sucessfully converted\n"
     ]
    },
    {
     "name": "stderr",
     "output_type": "stream",
     "text": [
      " 25%|##5       | 60/238 [2:37:24<8:30:32, 172.09s/it]"
     ]
    },
    {
     "name": "stdout",
     "output_type": "stream",
     "text": [
      "./temp_unzip\\373493_volumes\n",
      "./temp_unzip\\373493_segmentations\n",
      "('1',)\n",
      "one case sucessfully converted\n"
     ]
    },
    {
     "name": "stderr",
     "output_type": "stream",
     "text": [
      " 26%|##5       | 61/238 [2:40:36<8:45:17, 178.07s/it]"
     ]
    },
    {
     "name": "stdout",
     "output_type": "stream",
     "text": [
      "./temp_unzip\\375521_volumes\n",
      "./temp_unzip\\375521_segmentations\n",
      "('1',)\n",
      "one case sucessfully converted\n"
     ]
    },
    {
     "name": "stderr",
     "output_type": "stream",
     "text": [
      " 26%|##6       | 62/238 [2:41:47<7:08:04, 145.93s/it]"
     ]
    },
    {
     "name": "stdout",
     "output_type": "stream",
     "text": [
      "./temp_unzip\\378479_volumes\n",
      "./temp_unzip\\378479_segmentations\n",
      "('1',)\n",
      "one case sucessfully converted\n"
     ]
    },
    {
     "name": "stderr",
     "output_type": "stream",
     "text": [
      " 26%|##6       | 63/238 [2:45:13<7:58:58, 164.22s/it]"
     ]
    },
    {
     "name": "stdout",
     "output_type": "stream",
     "text": [
      "./temp_unzip\\381586_volumes\n",
      "./temp_unzip\\381586_segmentations\n",
      "('1',)\n",
      "one case sucessfully converted\n"
     ]
    },
    {
     "name": "stderr",
     "output_type": "stream",
     "text": [
      " 27%|##6       | 64/238 [2:48:47<8:39:25, 179.11s/it]"
     ]
    },
    {
     "name": "stdout",
     "output_type": "stream",
     "text": [
      "./temp_unzip\\382667_volumes\n",
      "./temp_unzip\\382667_segmentations\n",
      "('1',)\n",
      "one case sucessfully converted\n"
     ]
    },
    {
     "name": "stderr",
     "output_type": "stream",
     "text": [
      " 27%|##7       | 65/238 [2:51:50<8:39:43, 180.25s/it]"
     ]
    },
    {
     "name": "stdout",
     "output_type": "stream",
     "text": [
      "./temp_unzip\\382878_volumes\n",
      "./temp_unzip\\382878_segmentations\n",
      "('1',)\n",
      "one case sucessfully converted\n"
     ]
    },
    {
     "name": "stderr",
     "output_type": "stream",
     "text": [
      " 28%|##7       | 66/238 [2:55:12<8:55:25, 186.78s/it]"
     ]
    },
    {
     "name": "stdout",
     "output_type": "stream",
     "text": [
      "./temp_unzip\\387591_volumes\n",
      "./temp_unzip\\387591_segmentations\n",
      "('1',)\n",
      "one case sucessfully converted\n"
     ]
    },
    {
     "name": "stderr",
     "output_type": "stream",
     "text": [
      " 28%|##8       | 67/238 [2:57:08<7:51:43, 165.52s/it]"
     ]
    },
    {
     "name": "stdout",
     "output_type": "stream",
     "text": [
      "./temp_unzip\\392904_volumes\n",
      "./temp_unzip\\392904_segmentations\n",
      "('1',)\n",
      "one case sucessfully converted\n"
     ]
    },
    {
     "name": "stderr",
     "output_type": "stream",
     "text": [
      " 29%|##8       | 68/238 [2:59:46<7:42:44, 163.32s/it]"
     ]
    },
    {
     "name": "stdout",
     "output_type": "stream",
     "text": [
      "./temp_unzip\\398803_volumes\n",
      "./temp_unzip\\398803_segmentations\n",
      "('1',)\n",
      "one case sucessfully converted\n"
     ]
    },
    {
     "name": "stderr",
     "output_type": "stream",
     "text": [
      " 29%|##8       | 69/238 [3:01:31<6:50:39, 145.80s/it]"
     ]
    },
    {
     "name": "stdout",
     "output_type": "stream",
     "text": [
      "./temp_unzip\\401601_volumes\n",
      "./temp_unzip\\401601_segmentations\n",
      "('1',)\n",
      "one case sucessfully converted\n"
     ]
    },
    {
     "name": "stderr",
     "output_type": "stream",
     "text": [
      " 29%|##9       | 70/238 [3:03:27<6:22:55, 136.76s/it]"
     ]
    },
    {
     "name": "stdout",
     "output_type": "stream",
     "text": [
      "./temp_unzip\\407108_volumes\n",
      "./temp_unzip\\407108_segmentations\n",
      "('1',)\n",
      "one case sucessfully converted\n"
     ]
    },
    {
     "name": "stderr",
     "output_type": "stream",
     "text": [
      " 30%|##9       | 71/238 [3:05:40<6:17:45, 135.72s/it]"
     ]
    },
    {
     "name": "stdout",
     "output_type": "stream",
     "text": [
      "./temp_unzip\\410445_volumes\n",
      "./temp_unzip\\410445_segmentations\n",
      "('1',)\n",
      "one case sucessfully converted\n"
     ]
    },
    {
     "name": "stderr",
     "output_type": "stream",
     "text": [
      " 30%|###       | 72/238 [3:05:55<4:35:10, 99.46s/it] "
     ]
    },
    {
     "name": "stdout",
     "output_type": "stream",
     "text": [
      "./temp_unzip\\415284_volumes\n",
      "./temp_unzip\\415284_segmentations\n",
      "('1',)\n",
      "one case sucessfully converted\n"
     ]
    },
    {
     "name": "stderr",
     "output_type": "stream",
     "text": [
      " 31%|###       | 73/238 [3:06:10<3:23:47, 74.11s/it]"
     ]
    },
    {
     "name": "stdout",
     "output_type": "stream",
     "text": [
      "./temp_unzip\\416237_volumes\n",
      "./temp_unzip\\416237_segmentations\n",
      "('1',)\n",
      "one case sucessfully converted\n"
     ]
    },
    {
     "name": "stderr",
     "output_type": "stream",
     "text": [
      " 31%|###1      | 74/238 [3:08:03<3:54:31, 85.80s/it]"
     ]
    },
    {
     "name": "stdout",
     "output_type": "stream",
     "text": [
      "./temp_unzip\\416584_volumes\n",
      "./temp_unzip\\416584_segmentations\n",
      "('1',)\n",
      "one case sucessfully converted\n"
     ]
    },
    {
     "name": "stderr",
     "output_type": "stream",
     "text": [
      " 32%|###1      | 75/238 [3:10:06<4:23:11, 96.88s/it]"
     ]
    },
    {
     "name": "stdout",
     "output_type": "stream",
     "text": [
      "./temp_unzip\\417849_volumes\n",
      "./temp_unzip\\417849_segmentations\n",
      "('1',)\n",
      "one case sucessfully converted\n"
     ]
    },
    {
     "name": "stderr",
     "output_type": "stream",
     "text": [
      " 32%|###1      | 76/238 [3:11:00<3:46:49, 84.01s/it]"
     ]
    },
    {
     "name": "stdout",
     "output_type": "stream",
     "text": [
      "./temp_unzip\\418681_volumes\n",
      "./temp_unzip\\418681_segmentations\n",
      "('1',)\n",
      "one case sucessfully converted\n"
     ]
    },
    {
     "name": "stderr",
     "output_type": "stream",
     "text": [
      " 32%|###2      | 77/238 [3:13:10<4:22:25, 97.80s/it]"
     ]
    },
    {
     "name": "stdout",
     "output_type": "stream",
     "text": [
      "./temp_unzip\\418692_volumes\n",
      "./temp_unzip\\418692_segmentations\n",
      "('1',)\n",
      "one case sucessfully converted\n"
     ]
    },
    {
     "name": "stderr",
     "output_type": "stream",
     "text": [
      " 33%|###2      | 78/238 [3:15:08<4:37:29, 104.06s/it]"
     ]
    },
    {
     "name": "stdout",
     "output_type": "stream",
     "text": [
      "./temp_unzip\\419518_volumes\n",
      "./temp_unzip\\419518_segmentations\n",
      "('1',)\n",
      "one case sucessfully converted\n"
     ]
    },
    {
     "name": "stderr",
     "output_type": "stream",
     "text": [
      " 33%|###3      | 79/238 [3:16:58<4:40:06, 105.70s/it]"
     ]
    },
    {
     "name": "stdout",
     "output_type": "stream",
     "text": [
      "./temp_unzip\\419787_volumes\n",
      "./temp_unzip\\419787_segmentations\n",
      "('1',)\n",
      "one case sucessfully converted\n"
     ]
    },
    {
     "name": "stderr",
     "output_type": "stream",
     "text": [
      " 34%|###3      | 80/238 [3:18:12<4:13:04, 96.10s/it] "
     ]
    },
    {
     "name": "stdout",
     "output_type": "stream",
     "text": [
      "./temp_unzip\\420714_volumes\n",
      "./temp_unzip\\420714_segmentations\n",
      "('1',)\n",
      "one case sucessfully converted\n"
     ]
    },
    {
     "name": "stderr",
     "output_type": "stream",
     "text": [
      " 34%|###4      | 81/238 [3:20:15<4:33:08, 104.39s/it]"
     ]
    },
    {
     "name": "stdout",
     "output_type": "stream",
     "text": [
      "./temp_unzip\\421955_volumes\n",
      "./temp_unzip\\421955_segmentations\n",
      "('1',)\n",
      "one case sucessfully converted\n"
     ]
    },
    {
     "name": "stderr",
     "output_type": "stream",
     "text": [
      " 34%|###4      | 82/238 [3:22:08<4:38:00, 106.93s/it]"
     ]
    },
    {
     "name": "stdout",
     "output_type": "stream",
     "text": [
      "./temp_unzip\\422507_volumes\n",
      "./temp_unzip\\422507_segmentations\n",
      "('1',)\n",
      "one case sucessfully converted\n"
     ]
    },
    {
     "name": "stderr",
     "output_type": "stream",
     "text": [
      " 35%|###4      | 83/238 [3:24:14<4:50:32, 112.47s/it]"
     ]
    },
    {
     "name": "stdout",
     "output_type": "stream",
     "text": [
      "./temp_unzip\\422589_volumes\n",
      "./temp_unzip\\422589_segmentations\n",
      "('1',)\n",
      "one case sucessfully converted\n"
     ]
    },
    {
     "name": "stderr",
     "output_type": "stream",
     "text": [
      " 35%|###5      | 84/238 [3:25:27<4:18:33, 100.74s/it]"
     ]
    },
    {
     "name": "stdout",
     "output_type": "stream",
     "text": [
      "./temp_unzip\\424022_volumes\n",
      "./temp_unzip\\424022_segmentations\n",
      "('1',)\n",
      "one case sucessfully converted\n"
     ]
    },
    {
     "name": "stderr",
     "output_type": "stream",
     "text": [
      " 36%|###5      | 85/238 [3:26:37<3:53:35, 91.61s/it] "
     ]
    },
    {
     "name": "stdout",
     "output_type": "stream",
     "text": [
      "./temp_unzip\\424141_volumes\n",
      "./temp_unzip\\424141_segmentations\n",
      "('1',)\n",
      "one case sucessfully converted\n"
     ]
    },
    {
     "name": "stderr",
     "output_type": "stream",
     "text": [
      " 36%|###6      | 86/238 [3:28:34<4:10:46, 98.99s/it]"
     ]
    },
    {
     "name": "stdout",
     "output_type": "stream",
     "text": [
      "./temp_unzip\\424280_volumes\n",
      "./temp_unzip\\424280_segmentations\n",
      "('1',)\n",
      "one case sucessfully converted\n"
     ]
    },
    {
     "name": "stderr",
     "output_type": "stream",
     "text": [
      " 37%|###6      | 87/238 [3:29:47<3:49:54, 91.36s/it]"
     ]
    },
    {
     "name": "stdout",
     "output_type": "stream",
     "text": [
      "./temp_unzip\\424914_volumes\n",
      "./temp_unzip\\424914_segmentations\n",
      "('1',)\n",
      "one case sucessfully converted\n"
     ]
    },
    {
     "name": "stderr",
     "output_type": "stream",
     "text": [
      " 37%|###6      | 88/238 [3:32:05<4:22:57, 105.18s/it]"
     ]
    },
    {
     "name": "stdout",
     "output_type": "stream",
     "text": [
      "./temp_unzip\\426171_volumes\n",
      "./temp_unzip\\426171_segmentations\n",
      "('1',)\n",
      "one case sucessfully converted\n"
     ]
    },
    {
     "name": "stderr",
     "output_type": "stream",
     "text": [
      " 37%|###7      | 89/238 [3:32:26<3:19:03, 80.16s/it] "
     ]
    },
    {
     "name": "stdout",
     "output_type": "stream",
     "text": [
      "./temp_unzip\\426190_volumes\n",
      "./temp_unzip\\426190_segmentations\n",
      "('1',)\n",
      "one case sucessfully converted\n"
     ]
    },
    {
     "name": "stderr",
     "output_type": "stream",
     "text": [
      " 38%|###7      | 90/238 [3:34:15<3:38:36, 88.62s/it]"
     ]
    },
    {
     "name": "stdout",
     "output_type": "stream",
     "text": [
      "./temp_unzip\\426241_volumes\n",
      "./temp_unzip\\426241_segmentations\n",
      "('1',)\n",
      "one case sucessfully converted\n"
     ]
    },
    {
     "name": "stderr",
     "output_type": "stream",
     "text": [
      " 38%|###8      | 91/238 [3:35:28<3:25:55, 84.05s/it]"
     ]
    },
    {
     "name": "stdout",
     "output_type": "stream",
     "text": [
      "./temp_unzip\\428416_volumes\n",
      "./temp_unzip\\428416_segmentations\n",
      "('1',)\n",
      "one case sucessfully converted\n"
     ]
    },
    {
     "name": "stderr",
     "output_type": "stream",
     "text": [
      " 39%|###8      | 92/238 [3:37:56<4:11:21, 103.30s/it]"
     ]
    },
    {
     "name": "stdout",
     "output_type": "stream",
     "text": [
      "./temp_unzip\\428787_volumes\n",
      "./temp_unzip\\428787_segmentations\n",
      "('1',)\n",
      "one case sucessfully converted\n"
     ]
    },
    {
     "name": "stderr",
     "output_type": "stream",
     "text": [
      " 39%|###9      | 93/238 [3:39:38<4:08:23, 102.78s/it]"
     ]
    },
    {
     "name": "stdout",
     "output_type": "stream",
     "text": [
      "./temp_unzip\\429826_volumes\n",
      "./temp_unzip\\429826_segmentations\n",
      "('1',)\n",
      "one case sucessfully converted\n"
     ]
    },
    {
     "name": "stderr",
     "output_type": "stream",
     "text": [
      " 39%|###9      | 94/238 [3:40:05<3:12:01, 80.01s/it] "
     ]
    },
    {
     "name": "stdout",
     "output_type": "stream",
     "text": [
      "./temp_unzip\\435750_volumes\n",
      "./temp_unzip\\435750_segmentations\n",
      "('1',)\n",
      "one case sucessfully converted\n"
     ]
    },
    {
     "name": "stderr",
     "output_type": "stream",
     "text": [
      " 40%|###9      | 95/238 [3:42:00<3:35:58, 90.62s/it]"
     ]
    },
    {
     "name": "stdout",
     "output_type": "stream",
     "text": [
      "./temp_unzip\\438336_volumes\n",
      "./temp_unzip\\438336_segmentations\n",
      "('1',)\n",
      "one case sucessfully converted\n"
     ]
    },
    {
     "name": "stderr",
     "output_type": "stream",
     "text": [
      " 40%|####      | 96/238 [3:44:13<4:04:16, 103.21s/it]"
     ]
    },
    {
     "name": "stdout",
     "output_type": "stream",
     "text": [
      "./temp_unzip\\440986_volumes\n",
      "./temp_unzip\\440986_segmentations\n",
      "('1',)\n",
      "one case sucessfully converted\n"
     ]
    },
    {
     "name": "stderr",
     "output_type": "stream",
     "text": [
      " 41%|####      | 97/238 [3:45:32<3:45:46, 96.07s/it] "
     ]
    },
    {
     "name": "stdout",
     "output_type": "stream",
     "text": [
      "./temp_unzip\\449953_volumes\n",
      "./temp_unzip\\449953_segmentations\n",
      "('1',)\n",
      "one case sucessfully converted\n"
     ]
    },
    {
     "name": "stderr",
     "output_type": "stream",
     "text": [
      " 41%|####1     | 98/238 [3:47:14<3:48:13, 97.81s/it]"
     ]
    },
    {
     "name": "stdout",
     "output_type": "stream",
     "text": [
      "./temp_unzip\\456331_volumes\n",
      "./temp_unzip\\456331_segmentations\n",
      "('1',)\n",
      "one case sucessfully converted\n"
     ]
    },
    {
     "name": "stderr",
     "output_type": "stream",
     "text": [
      " 42%|####1     | 99/238 [3:48:08<3:15:55, 84.57s/it]"
     ]
    },
    {
     "name": "stdout",
     "output_type": "stream",
     "text": [
      "./temp_unzip\\468278_volumes\n",
      "./temp_unzip\\468278_segmentations\n",
      "('1',)\n",
      "one case sucessfully converted\n"
     ]
    },
    {
     "name": "stderr",
     "output_type": "stream",
     "text": [
      " 42%|####2     | 100/238 [3:48:24<2:27:18, 64.05s/it]"
     ]
    },
    {
     "name": "stdout",
     "output_type": "stream",
     "text": [
      "./temp_unzip\\471489_volumes\n",
      "./temp_unzip\\471489_segmentations\n",
      "('1',)\n",
      "one case sucessfully converted\n"
     ]
    },
    {
     "name": "stderr",
     "output_type": "stream",
     "text": [
      " 42%|####2     | 101/238 [3:51:03<3:31:20, 92.56s/it]"
     ]
    },
    {
     "name": "stdout",
     "output_type": "stream",
     "text": [
      "./temp_unzip\\474673_volumes\n",
      "./temp_unzip\\474673_segmentations\n",
      "('1',)\n",
      "one case sucessfully converted\n"
     ]
    },
    {
     "name": "stderr",
     "output_type": "stream",
     "text": [
      " 43%|####2     | 102/238 [3:54:56<5:05:20, 134.71s/it]"
     ]
    },
    {
     "name": "stdout",
     "output_type": "stream",
     "text": [
      "./temp_unzip\\474714_volumes\n",
      "./temp_unzip\\474714_segmentations\n",
      "('1',)\n",
      "one case sucessfully converted\n"
     ]
    },
    {
     "name": "stderr",
     "output_type": "stream",
     "text": [
      " 43%|####3     | 103/238 [3:57:45<5:26:10, 144.97s/it]"
     ]
    },
    {
     "name": "stdout",
     "output_type": "stream",
     "text": [
      "./temp_unzip\\478950_volumes\n",
      "./temp_unzip\\478950_segmentations\n",
      "('1',)\n",
      "one case sucessfully converted\n"
     ]
    },
    {
     "name": "stderr",
     "output_type": "stream",
     "text": [
      " 44%|####3     | 104/238 [3:59:40<5:04:03, 136.15s/it]"
     ]
    },
    {
     "name": "stdout",
     "output_type": "stream",
     "text": [
      "./temp_unzip\\495144_volumes\n",
      "./temp_unzip\\495144_segmentations\n",
      "('1',)\n",
      "one case sucessfully converted\n"
     ]
    },
    {
     "name": "stderr",
     "output_type": "stream",
     "text": [
      " 44%|####4     | 105/238 [4:01:26<4:41:33, 127.02s/it]"
     ]
    },
    {
     "name": "stdout",
     "output_type": "stream",
     "text": [
      "./temp_unzip\\507343_volumes\n",
      "./temp_unzip\\507343_segmentations\n",
      "('1',)\n",
      "somthing is wrong with case {'vol': './temp_unzip\\\\507343_volumes', 'seg': './temp_unzip\\\\507343_segmentations'} probably a missing segmentation\n"
     ]
    },
    {
     "name": "stderr",
     "output_type": "stream",
     "text": [
      " 45%|####4     | 106/238 [4:01:47<3:29:35, 95.27s/it] "
     ]
    },
    {
     "name": "stdout",
     "output_type": "stream",
     "text": [
      "./temp_unzip\\536055_volumes\n",
      "./temp_unzip\\536055_segmentations\n",
      "('1',)\n",
      "somthing is wrong with case {'vol': './temp_unzip\\\\536055_volumes', 'seg': './temp_unzip\\\\536055_segmentations'} probably a missing segmentation\n"
     ]
    },
    {
     "name": "stderr",
     "output_type": "stream",
     "text": [
      " 45%|####4     | 107/238 [4:01:55<2:30:32, 68.95s/it]"
     ]
    },
    {
     "name": "stdout",
     "output_type": "stream",
     "text": [
      "./temp_unzip\\537636_volumes\n",
      "./temp_unzip\\537636_segmentations\n",
      "('1',)\n",
      "somthing is wrong with case {'vol': './temp_unzip\\\\537636_volumes', 'seg': './temp_unzip\\\\537636_segmentations'} probably a missing segmentation\n"
     ]
    },
    {
     "name": "stderr",
     "output_type": "stream",
     "text": [
      " 45%|####5     | 108/238 [4:01:59<1:47:01, 49.40s/it]"
     ]
    },
    {
     "name": "stdout",
     "output_type": "stream",
     "text": [
      "./temp_unzip\\540895_volumes\n",
      "./temp_unzip\\540895_segmentations\n",
      "('1',)\n",
      "somthing is wrong with case {'vol': './temp_unzip\\\\540895_volumes', 'seg': './temp_unzip\\\\540895_segmentations'} probably a missing segmentation\n"
     ]
    },
    {
     "name": "stderr",
     "output_type": "stream",
     "text": [
      " 46%|####5     | 109/238 [4:02:03<1:17:15, 35.93s/it]"
     ]
    },
    {
     "name": "stdout",
     "output_type": "stream",
     "text": [
      "./temp_unzip\\546698_volumes\n",
      "./temp_unzip\\546698_segmentations\n",
      "('1',)\n",
      "one case sucessfully converted\n"
     ]
    },
    {
     "name": "stderr",
     "output_type": "stream",
     "text": [
      " 46%|####6     | 110/238 [4:11:12<6:45:08, 189.91s/it]"
     ]
    },
    {
     "name": "stdout",
     "output_type": "stream",
     "text": [
      "./temp_unzip\\556553_volumes\n",
      "./temp_unzip\\556553_segmentations\n",
      "('1',)\n",
      "one case sucessfully converted\n"
     ]
    },
    {
     "name": "stderr",
     "output_type": "stream",
     "text": [
      " 47%|####6     | 111/238 [4:11:32<4:53:43, 138.77s/it]"
     ]
    },
    {
     "name": "stdout",
     "output_type": "stream",
     "text": [
      "./temp_unzip\\557994_volumes\n",
      "./temp_unzip\\557994_segmentations\n",
      "('1',)\n",
      "one case sucessfully converted\n"
     ]
    },
    {
     "name": "stderr",
     "output_type": "stream",
     "text": [
      " 47%|####7     | 112/238 [4:11:45<3:32:34, 101.23s/it]"
     ]
    },
    {
     "name": "stdout",
     "output_type": "stream",
     "text": [
      "./temp_unzip\\559771_volumes\n",
      "./temp_unzip\\559771_segmentations\n",
      "('1',)\n",
      "one case sucessfully converted\n"
     ]
    },
    {
     "name": "stderr",
     "output_type": "stream",
     "text": [
      " 47%|####7     | 113/238 [4:13:10<3:20:15, 96.12s/it] "
     ]
    },
    {
     "name": "stdout",
     "output_type": "stream",
     "text": [
      "./temp_unzip\\562152_volumes\n",
      "./temp_unzip\\562152_segmentations\n",
      "('1',)\n",
      "one case sucessfully converted\n"
     ]
    },
    {
     "name": "stderr",
     "output_type": "stream",
     "text": [
      " 48%|####7     | 114/238 [4:13:25<2:28:21, 71.79s/it]"
     ]
    },
    {
     "name": "stdout",
     "output_type": "stream",
     "text": [
      "./temp_unzip\\564137_volumes\n",
      "./temp_unzip\\564137_segmentations\n",
      "('1',)\n",
      "one case sucessfully converted\n"
     ]
    },
    {
     "name": "stderr",
     "output_type": "stream",
     "text": [
      " 48%|####8     | 115/238 [4:15:21<2:54:25, 85.08s/it]"
     ]
    },
    {
     "name": "stdout",
     "output_type": "stream",
     "text": [
      "./temp_unzip\\564981_volumes\n",
      "./temp_unzip\\564981_segmentations\n",
      "('1',)\n",
      "one case sucessfully converted\n"
     ]
    },
    {
     "name": "stderr",
     "output_type": "stream",
     "text": [
      " 49%|####8     | 116/238 [4:15:46<2:16:46, 67.27s/it]"
     ]
    },
    {
     "name": "stdout",
     "output_type": "stream",
     "text": [
      "./temp_unzip\\567014_volumes\n",
      "./temp_unzip\\567014_segmentations\n",
      "('1',)\n",
      "one case sucessfully converted\n"
     ]
    },
    {
     "name": "stderr",
     "output_type": "stream",
     "text": [
      " 49%|####9     | 117/238 [4:16:03<1:44:45, 51.94s/it]"
     ]
    },
    {
     "name": "stdout",
     "output_type": "stream",
     "text": [
      "./temp_unzip\\567644_volumes\n",
      "./temp_unzip\\567644_segmentations\n",
      "('1',)\n",
      "one case sucessfully converted\n"
     ]
    },
    {
     "name": "stderr",
     "output_type": "stream",
     "text": [
      " 50%|####9     | 118/238 [4:16:30<1:28:53, 44.44s/it]"
     ]
    },
    {
     "name": "stdout",
     "output_type": "stream",
     "text": [
      "./temp_unzip\\569441_volumes\n",
      "./temp_unzip\\569441_segmentations\n",
      "('1',)\n",
      "one case sucessfully converted\n"
     ]
    },
    {
     "name": "stderr",
     "output_type": "stream",
     "text": [
      " 50%|#####     | 119/238 [4:17:05<1:23:02, 41.87s/it]"
     ]
    },
    {
     "name": "stdout",
     "output_type": "stream",
     "text": [
      "./temp_unzip\\569976_volumes\n",
      "./temp_unzip\\569976_segmentations\n",
      "('1',)\n",
      "somthing is wrong with case {'vol': './temp_unzip\\\\569976_volumes', 'seg': './temp_unzip\\\\569976_segmentations'} probably a missing segmentation\n"
     ]
    },
    {
     "name": "stderr",
     "output_type": "stream",
     "text": [
      " 50%|#####     | 120/238 [4:17:09<59:44, 30.37s/it]  "
     ]
    },
    {
     "name": "stdout",
     "output_type": "stream",
     "text": [
      "./temp_unzip\\569999_volumes\n",
      "./temp_unzip\\569999_segmentations\n",
      "('1',)\n",
      "somthing is wrong with case {'vol': './temp_unzip\\\\569999_volumes', 'seg': './temp_unzip\\\\569999_segmentations'} probably a missing segmentation\n"
     ]
    },
    {
     "name": "stderr",
     "output_type": "stream",
     "text": [
      " 51%|#####     | 121/238 [4:17:13<43:55, 22.53s/it]"
     ]
    },
    {
     "name": "stdout",
     "output_type": "stream",
     "text": [
      "./temp_unzip\\570482_volumes\n",
      "./temp_unzip\\570482_segmentations\n",
      "('1',)\n",
      "one case sucessfully converted\n"
     ]
    },
    {
     "name": "stderr",
     "output_type": "stream",
     "text": [
      " 51%|#####1    | 122/238 [4:18:06<1:01:18, 31.71s/it]"
     ]
    },
    {
     "name": "stdout",
     "output_type": "stream",
     "text": [
      "./temp_unzip\\570555_volumes\n",
      "./temp_unzip\\570555_segmentations\n",
      "('1',)\n",
      "one case sucessfully converted\n"
     ]
    },
    {
     "name": "stderr",
     "output_type": "stream",
     "text": [
      " 52%|#####1    | 123/238 [4:18:22<51:36, 26.93s/it]  "
     ]
    },
    {
     "name": "stdout",
     "output_type": "stream",
     "text": [
      "./temp_unzip\\571305_volumes\n",
      "./temp_unzip\\571305_segmentations\n",
      "('1',)\n",
      "one case sucessfully converted\n"
     ]
    },
    {
     "name": "stderr",
     "output_type": "stream",
     "text": [
      " 52%|#####2    | 124/238 [4:18:38<44:58, 23.67s/it]"
     ]
    },
    {
     "name": "stdout",
     "output_type": "stream",
     "text": [
      "./temp_unzip\\571326_volumes\n",
      "./temp_unzip\\571326_segmentations\n",
      "('1',)\n",
      "one case sucessfully converted\n"
     ]
    },
    {
     "name": "stderr",
     "output_type": "stream",
     "text": [
      " 53%|#####2    | 125/238 [4:18:53<39:31, 20.98s/it]"
     ]
    },
    {
     "name": "stdout",
     "output_type": "stream",
     "text": [
      "./temp_unzip\\571502_volumes\n",
      "./temp_unzip\\571502_segmentations\n",
      "('1',)\n",
      "one case sucessfully converted\n"
     ]
    },
    {
     "name": "stderr",
     "output_type": "stream",
     "text": [
      " 53%|#####2    | 126/238 [4:20:01<1:05:22, 35.02s/it]"
     ]
    },
    {
     "name": "stdout",
     "output_type": "stream",
     "text": [
      "./temp_unzip\\572232_volumes\n",
      "./temp_unzip\\572232_segmentations\n",
      "('1',)\n",
      "one case sucessfully converted\n"
     ]
    },
    {
     "name": "stderr",
     "output_type": "stream",
     "text": [
      " 53%|#####3    | 127/238 [4:20:26<59:09, 31.98s/it]  "
     ]
    },
    {
     "name": "stdout",
     "output_type": "stream",
     "text": [
      "./temp_unzip\\572268_volumes\n",
      "./temp_unzip\\572268_segmentations\n",
      "('1',)\n",
      "one case sucessfully converted\n"
     ]
    },
    {
     "name": "stderr",
     "output_type": "stream",
     "text": [
      " 54%|#####3    | 128/238 [4:20:57<58:20, 31.83s/it]"
     ]
    },
    {
     "name": "stdout",
     "output_type": "stream",
     "text": [
      "./temp_unzip\\572276_volumes\n",
      "./temp_unzip\\572276_segmentations\n",
      "('1',)\n",
      "one case sucessfully converted\n"
     ]
    },
    {
     "name": "stderr",
     "output_type": "stream",
     "text": [
      " 54%|#####4    | 129/238 [4:21:12<48:24, 26.64s/it]"
     ]
    },
    {
     "name": "stdout",
     "output_type": "stream",
     "text": [
      "./temp_unzip\\572836_volumes\n",
      "./temp_unzip\\572836_segmentations\n",
      "('1',)\n",
      "one case sucessfully converted\n"
     ]
    },
    {
     "name": "stderr",
     "output_type": "stream",
     "text": [
      " 55%|#####4    | 130/238 [4:21:55<57:01, 31.68s/it]"
     ]
    },
    {
     "name": "stdout",
     "output_type": "stream",
     "text": [
      "./temp_unzip\\572901_volumes\n",
      "./temp_unzip\\572901_segmentations\n",
      "('1',)\n",
      "one case sucessfully converted\n"
     ]
    },
    {
     "name": "stderr",
     "output_type": "stream",
     "text": [
      " 55%|#####5    | 131/238 [4:22:21<53:13, 29.84s/it]"
     ]
    },
    {
     "name": "stdout",
     "output_type": "stream",
     "text": [
      "./temp_unzip\\573064_volumes\n",
      "./temp_unzip\\573064_segmentations\n",
      "('1',)\n",
      "one case sucessfully converted\n"
     ]
    },
    {
     "name": "stderr",
     "output_type": "stream",
     "text": [
      " 55%|#####5    | 132/238 [4:22:36<44:49, 25.38s/it]"
     ]
    },
    {
     "name": "stdout",
     "output_type": "stream",
     "text": [
      "./temp_unzip\\573280_volumes\n",
      "./temp_unzip\\573280_segmentations\n",
      "('1',)\n",
      "one case sucessfully converted\n"
     ]
    },
    {
     "name": "stderr",
     "output_type": "stream",
     "text": [
      " 56%|#####5    | 133/238 [4:23:55<1:12:41, 41.54s/it]"
     ]
    },
    {
     "name": "stdout",
     "output_type": "stream",
     "text": [
      "./temp_unzip\\573401_volumes\n",
      "./temp_unzip\\573401_segmentations\n",
      "('1',)\n",
      "one case sucessfully converted\n"
     ]
    },
    {
     "name": "stderr",
     "output_type": "stream",
     "text": [
      " 56%|#####6    | 134/238 [4:24:15<1:00:54, 35.14s/it]"
     ]
    },
    {
     "name": "stdout",
     "output_type": "stream",
     "text": [
      "./temp_unzip\\573766_volumes\n",
      "./temp_unzip\\573766_segmentations\n",
      "('1',)\n",
      "one case sucessfully converted\n"
     ]
    },
    {
     "name": "stderr",
     "output_type": "stream",
     "text": [
      " 57%|#####6    | 135/238 [4:25:03<1:06:43, 38.87s/it]"
     ]
    },
    {
     "name": "stdout",
     "output_type": "stream",
     "text": [
      "./temp_unzip\\574033_volumes\n",
      "./temp_unzip\\574033_segmentations\n",
      "('1',)\n",
      "one case sucessfully converted\n"
     ]
    },
    {
     "name": "stderr",
     "output_type": "stream",
     "text": [
      " 57%|#####7    | 136/238 [4:25:17<53:39, 31.57s/it]  "
     ]
    },
    {
     "name": "stdout",
     "output_type": "stream",
     "text": [
      "./temp_unzip\\574156_volumes\n",
      "./temp_unzip\\574156_segmentations\n",
      "('1',)\n",
      "one case sucessfully converted\n"
     ]
    },
    {
     "name": "stderr",
     "output_type": "stream",
     "text": [
      " 58%|#####7    | 137/238 [4:25:29<43:04, 25.59s/it]"
     ]
    },
    {
     "name": "stdout",
     "output_type": "stream",
     "text": [
      "./temp_unzip\\574161_volumes\n",
      "./temp_unzip\\574161_segmentations\n",
      "('1',)\n",
      "one case sucessfully converted\n"
     ]
    },
    {
     "name": "stderr",
     "output_type": "stream",
     "text": [
      " 58%|#####7    | 138/238 [4:25:40<35:37, 21.37s/it]"
     ]
    },
    {
     "name": "stdout",
     "output_type": "stream",
     "text": [
      "./temp_unzip\\574188_volumes\n",
      "./temp_unzip\\574188_segmentations\n",
      "('1',)\n",
      "one case sucessfully converted\n"
     ]
    },
    {
     "name": "stderr",
     "output_type": "stream",
     "text": [
      " 58%|#####8    | 139/238 [4:25:58<33:27, 20.28s/it]"
     ]
    },
    {
     "name": "stdout",
     "output_type": "stream",
     "text": [
      "./temp_unzip\\574212_volumes\n",
      "./temp_unzip\\574212_segmentations\n",
      "('1',)\n",
      "one case sucessfully converted\n"
     ]
    },
    {
     "name": "stderr",
     "output_type": "stream",
     "text": [
      " 59%|#####8    | 140/238 [4:26:16<31:50, 19.50s/it]"
     ]
    },
    {
     "name": "stdout",
     "output_type": "stream",
     "text": [
      "./temp_unzip\\574441_volumes\n",
      "./temp_unzip\\574441_segmentations\n",
      "('1',)\n",
      "one case sucessfully converted\n"
     ]
    },
    {
     "name": "stderr",
     "output_type": "stream",
     "text": [
      " 59%|#####9    | 141/238 [4:26:30<28:49, 17.83s/it]"
     ]
    },
    {
     "name": "stdout",
     "output_type": "stream",
     "text": [
      "./temp_unzip\\574443_volumes\n",
      "./temp_unzip\\574443_segmentations\n",
      "('1',)\n",
      "one case sucessfully converted\n"
     ]
    },
    {
     "name": "stderr",
     "output_type": "stream",
     "text": [
      " 60%|#####9    | 142/238 [4:27:12<40:24, 25.26s/it]"
     ]
    },
    {
     "name": "stdout",
     "output_type": "stream",
     "text": [
      "./temp_unzip\\574449_volumes\n",
      "./temp_unzip\\574449_segmentations\n",
      "('1',)\n",
      "one case sucessfully converted\n"
     ]
    },
    {
     "name": "stderr",
     "output_type": "stream",
     "text": [
      " 60%|######    | 143/238 [4:27:25<34:05, 21.53s/it]"
     ]
    },
    {
     "name": "stdout",
     "output_type": "stream",
     "text": [
      "./temp_unzip\\574494_volumes\n",
      "./temp_unzip\\574494_segmentations\n",
      "('1',)\n",
      "one case sucessfully converted\n"
     ]
    },
    {
     "name": "stderr",
     "output_type": "stream",
     "text": [
      " 61%|######    | 144/238 [4:27:44<32:32, 20.77s/it]"
     ]
    },
    {
     "name": "stdout",
     "output_type": "stream",
     "text": [
      "./temp_unzip\\574613_volumes\n",
      "./temp_unzip\\574613_segmentations\n",
      "('1',)\n",
      "one case sucessfully converted\n"
     ]
    },
    {
     "name": "stderr",
     "output_type": "stream",
     "text": [
      " 61%|######    | 145/238 [4:28:17<37:46, 24.37s/it]"
     ]
    },
    {
     "name": "stdout",
     "output_type": "stream",
     "text": [
      "./temp_unzip\\574976_volumes\n",
      "./temp_unzip\\574976_segmentations\n",
      "('1',)\n",
      "one case sucessfully converted\n"
     ]
    },
    {
     "name": "stderr",
     "output_type": "stream",
     "text": [
      " 61%|######1   | 146/238 [4:29:12<51:32, 33.62s/it]"
     ]
    },
    {
     "name": "stdout",
     "output_type": "stream",
     "text": [
      "./temp_unzip\\575078_volumes\n",
      "./temp_unzip\\575078_segmentations\n",
      "('1',)\n",
      "one case sucessfully converted\n"
     ]
    },
    {
     "name": "stderr",
     "output_type": "stream",
     "text": [
      " 62%|######1   | 147/238 [4:29:29<43:32, 28.71s/it]"
     ]
    },
    {
     "name": "stdout",
     "output_type": "stream",
     "text": [
      "./temp_unzip\\575127_volumes\n",
      "./temp_unzip\\575127_segmentations\n",
      "('1',)\n",
      "one case sucessfully converted\n"
     ]
    },
    {
     "name": "stderr",
     "output_type": "stream",
     "text": [
      " 62%|######2   | 148/238 [4:30:39<1:01:23, 40.92s/it]"
     ]
    },
    {
     "name": "stdout",
     "output_type": "stream",
     "text": [
      "./temp_unzip\\575180_volumes\n",
      "./temp_unzip\\575180_segmentations\n",
      "('1',)\n",
      "one case sucessfully converted\n"
     ]
    },
    {
     "name": "stderr",
     "output_type": "stream",
     "text": [
      " 63%|######2   | 149/238 [4:33:11<1:50:11, 74.28s/it]"
     ]
    },
    {
     "name": "stdout",
     "output_type": "stream",
     "text": [
      "./temp_unzip\\575272_volumes\n",
      "./temp_unzip\\575272_segmentations\n",
      "('1',)\n",
      "one case sucessfully converted\n"
     ]
    },
    {
     "name": "stderr",
     "output_type": "stream",
     "text": [
      " 63%|######3   | 150/238 [4:33:29<1:24:21, 57.52s/it]"
     ]
    },
    {
     "name": "stdout",
     "output_type": "stream",
     "text": [
      "./temp_unzip\\575280_volumes\n",
      "./temp_unzip\\575280_segmentations\n",
      "('1',)\n",
      "one case sucessfully converted\n"
     ]
    },
    {
     "name": "stderr",
     "output_type": "stream",
     "text": [
      " 63%|######3   | 151/238 [4:33:47<1:06:05, 45.58s/it]"
     ]
    },
    {
     "name": "stdout",
     "output_type": "stream",
     "text": [
      "./temp_unzip\\575336_volumes\n",
      "./temp_unzip\\575336_segmentations\n",
      "('1',)\n",
      "one case sucessfully converted\n"
     ]
    },
    {
     "name": "stderr",
     "output_type": "stream",
     "text": [
      " 64%|######3   | 152/238 [4:34:09<55:02, 38.40s/it]  "
     ]
    },
    {
     "name": "stdout",
     "output_type": "stream",
     "text": [
      "./temp_unzip\\575367_volumes\n",
      "./temp_unzip\\575367_segmentations\n",
      "('1',)\n",
      "one case sucessfully converted\n"
     ]
    },
    {
     "name": "stderr",
     "output_type": "stream",
     "text": [
      " 64%|######4   | 153/238 [4:34:26<45:18, 31.98s/it]"
     ]
    },
    {
     "name": "stdout",
     "output_type": "stream",
     "text": [
      "./temp_unzip\\575370_volumes\n",
      "./temp_unzip\\575370_segmentations\n",
      "('1',)\n",
      "one case sucessfully converted\n"
     ]
    },
    {
     "name": "stderr",
     "output_type": "stream",
     "text": [
      " 65%|######4   | 154/238 [4:34:43<38:39, 27.61s/it]"
     ]
    },
    {
     "name": "stdout",
     "output_type": "stream",
     "text": [
      "./temp_unzip\\575412_volumes\n",
      "./temp_unzip\\575412_segmentations\n",
      "('1',)\n",
      "one case sucessfully converted\n"
     ]
    },
    {
     "name": "stderr",
     "output_type": "stream",
     "text": [
      " 65%|######5   | 155/238 [4:35:12<38:39, 27.94s/it]"
     ]
    },
    {
     "name": "stdout",
     "output_type": "stream",
     "text": [
      "./temp_unzip\\575468_volumes\n",
      "./temp_unzip\\575468_segmentations\n",
      "('1',)\n",
      "one case sucessfully converted\n"
     ]
    },
    {
     "name": "stderr",
     "output_type": "stream",
     "text": [
      " 66%|######5   | 156/238 [4:35:28<33:37, 24.60s/it]"
     ]
    },
    {
     "name": "stdout",
     "output_type": "stream",
     "text": [
      "./temp_unzip\\575480_volumes\n",
      "./temp_unzip\\575480_segmentations\n",
      "('1',)\n",
      "one case sucessfully converted\n"
     ]
    },
    {
     "name": "stderr",
     "output_type": "stream",
     "text": [
      " 66%|######5   | 157/238 [4:35:42<28:41, 21.25s/it]"
     ]
    },
    {
     "name": "stdout",
     "output_type": "stream",
     "text": [
      "./temp_unzip\\575564_volumes\n",
      "./temp_unzip\\575564_segmentations\n",
      "('1',)\n",
      "one case sucessfully converted\n"
     ]
    },
    {
     "name": "stderr",
     "output_type": "stream",
     "text": [
      " 66%|######6   | 158/238 [4:35:56<25:17, 18.97s/it]"
     ]
    },
    {
     "name": "stdout",
     "output_type": "stream",
     "text": [
      "./temp_unzip\\575683_volumes\n",
      "./temp_unzip\\575683_segmentations\n",
      "('1',)\n",
      "one case sucessfully converted\n"
     ]
    },
    {
     "name": "stderr",
     "output_type": "stream",
     "text": [
      " 67%|######6   | 159/238 [4:36:39<34:38, 26.30s/it]"
     ]
    },
    {
     "name": "stdout",
     "output_type": "stream",
     "text": [
      "./temp_unzip\\575747_volumes\n",
      "./temp_unzip\\575747_segmentations\n",
      "('1',)\n",
      "one case sucessfully converted\n"
     ]
    },
    {
     "name": "stderr",
     "output_type": "stream",
     "text": [
      " 67%|######7   | 160/238 [4:37:56<53:55, 41.48s/it]"
     ]
    },
    {
     "name": "stdout",
     "output_type": "stream",
     "text": [
      "./temp_unzip\\575769_volumes\n",
      "./temp_unzip\\575769_segmentations\n",
      "('1',)\n",
      "one case sucessfully converted\n"
     ]
    },
    {
     "name": "stderr",
     "output_type": "stream",
     "text": [
      " 68%|######7   | 161/238 [4:38:07<41:39, 32.45s/it]"
     ]
    },
    {
     "name": "stdout",
     "output_type": "stream",
     "text": [
      "./temp_unzip\\575793_volumes\n",
      "./temp_unzip\\575793_segmentations\n",
      "('1',)\n",
      "one case sucessfully converted\n"
     ]
    },
    {
     "name": "stderr",
     "output_type": "stream",
     "text": [
      " 68%|######8   | 162/238 [4:38:19<33:03, 26.10s/it]"
     ]
    },
    {
     "name": "stdout",
     "output_type": "stream",
     "text": [
      "./temp_unzip\\575919_volumes\n",
      "./temp_unzip\\575919_segmentations\n",
      "('1',)\n",
      "one case sucessfully converted\n"
     ]
    },
    {
     "name": "stderr",
     "output_type": "stream",
     "text": [
      " 68%|######8   | 163/238 [4:38:39<30:39, 24.53s/it]"
     ]
    },
    {
     "name": "stdout",
     "output_type": "stream",
     "text": [
      "./temp_unzip\\575923_volumes\n",
      "./temp_unzip\\575923_segmentations\n",
      "('1',)\n",
      "one case sucessfully converted\n"
     ]
    },
    {
     "name": "stderr",
     "output_type": "stream",
     "text": [
      " 69%|######8   | 164/238 [4:38:58<28:09, 22.83s/it]"
     ]
    },
    {
     "name": "stdout",
     "output_type": "stream",
     "text": [
      "./temp_unzip\\575955_volumes\n",
      "./temp_unzip\\575955_segmentations\n",
      "('1',)\n",
      "one case sucessfully converted\n"
     ]
    },
    {
     "name": "stderr",
     "output_type": "stream",
     "text": [
      " 69%|######9   | 165/238 [4:39:09<23:18, 19.16s/it]"
     ]
    },
    {
     "name": "stdout",
     "output_type": "stream",
     "text": [
      "./temp_unzip\\575970_volumes\n",
      "./temp_unzip\\575970_segmentations\n",
      "('1',)\n",
      "one case sucessfully converted\n"
     ]
    },
    {
     "name": "stderr",
     "output_type": "stream",
     "text": [
      " 70%|######9   | 166/238 [4:40:38<48:12, 40.18s/it]"
     ]
    },
    {
     "name": "stdout",
     "output_type": "stream",
     "text": [
      "./temp_unzip\\575984_volumes\n",
      "./temp_unzip\\575984_segmentations\n",
      "('1',)\n",
      "one case sucessfully converted\n"
     ]
    },
    {
     "name": "stderr",
     "output_type": "stream",
     "text": [
      " 70%|#######   | 167/238 [4:40:49<37:15, 31.48s/it]"
     ]
    },
    {
     "name": "stdout",
     "output_type": "stream",
     "text": [
      "./temp_unzip\\575999_volumes\n",
      "./temp_unzip\\575999_segmentations\n",
      "('1',)\n",
      "one case sucessfully converted\n"
     ]
    },
    {
     "name": "stderr",
     "output_type": "stream",
     "text": [
      " 71%|#######   | 168/238 [4:41:13<34:07, 29.25s/it]"
     ]
    },
    {
     "name": "stdout",
     "output_type": "stream",
     "text": [
      "./temp_unzip\\576031_volumes\n",
      "./temp_unzip\\576031_segmentations\n",
      "('1',)\n",
      "one case sucessfully converted\n"
     ]
    },
    {
     "name": "stderr",
     "output_type": "stream",
     "text": [
      " 71%|#######1  | 169/238 [4:41:35<30:52, 26.84s/it]"
     ]
    },
    {
     "name": "stdout",
     "output_type": "stream",
     "text": [
      "./temp_unzip\\576038_volumes\n",
      "./temp_unzip\\576038_segmentations\n",
      "('1',)\n",
      "one case sucessfully converted\n"
     ]
    },
    {
     "name": "stderr",
     "output_type": "stream",
     "text": [
      " 71%|#######1  | 170/238 [4:41:55<28:16, 24.95s/it]"
     ]
    },
    {
     "name": "stdout",
     "output_type": "stream",
     "text": [
      "./temp_unzip\\576098_volumes\n",
      "./temp_unzip\\576098_segmentations\n",
      "('1',)\n",
      "one case sucessfully converted\n"
     ]
    },
    {
     "name": "stderr",
     "output_type": "stream",
     "text": [
      " 72%|#######1  | 171/238 [4:42:12<25:16, 22.64s/it]"
     ]
    },
    {
     "name": "stdout",
     "output_type": "stream",
     "text": [
      "./temp_unzip\\576114_volumes\n",
      "./temp_unzip\\576114_segmentations\n",
      "('1',)\n",
      "one case sucessfully converted\n"
     ]
    },
    {
     "name": "stderr",
     "output_type": "stream",
     "text": [
      " 72%|#######2  | 172/238 [4:42:24<21:22, 19.44s/it]"
     ]
    },
    {
     "name": "stdout",
     "output_type": "stream",
     "text": [
      "./temp_unzip\\576117_volumes\n",
      "./temp_unzip\\576117_segmentations\n",
      "('1',)\n",
      "one case sucessfully converted\n"
     ]
    },
    {
     "name": "stderr",
     "output_type": "stream",
     "text": [
      " 73%|#######2  | 173/238 [4:42:40<19:48, 18.28s/it]"
     ]
    },
    {
     "name": "stdout",
     "output_type": "stream",
     "text": [
      "./temp_unzip\\576125_volumes\n",
      "./temp_unzip\\576125_segmentations\n",
      "('1',)\n",
      "one case sucessfully converted\n"
     ]
    },
    {
     "name": "stderr",
     "output_type": "stream",
     "text": [
      " 73%|#######3  | 174/238 [4:42:47<15:54, 14.91s/it]"
     ]
    },
    {
     "name": "stdout",
     "output_type": "stream",
     "text": [
      "./temp_unzip\\576210_volumes\n",
      "./temp_unzip\\576210_segmentations\n",
      "('1',)\n",
      "one case sucessfully converted\n"
     ]
    },
    {
     "name": "stderr",
     "output_type": "stream",
     "text": [
      " 74%|#######3  | 175/238 [4:43:04<16:27, 15.68s/it]"
     ]
    },
    {
     "name": "stdout",
     "output_type": "stream",
     "text": [
      "./temp_unzip\\576214_volumes\n",
      "./temp_unzip\\576214_segmentations\n",
      "('1',)\n",
      "one case sucessfully converted\n"
     ]
    },
    {
     "name": "stderr",
     "output_type": "stream",
     "text": [
      " 74%|#######3  | 176/238 [4:43:11<13:28, 13.05s/it]"
     ]
    },
    {
     "name": "stdout",
     "output_type": "stream",
     "text": [
      "./temp_unzip\\576251_volumes\n",
      "./temp_unzip\\576251_segmentations\n",
      "('1',)\n",
      "one case sucessfully converted\n"
     ]
    },
    {
     "name": "stderr",
     "output_type": "stream",
     "text": [
      " 74%|#######4  | 177/238 [4:43:25<13:34, 13.35s/it]"
     ]
    },
    {
     "name": "stdout",
     "output_type": "stream",
     "text": [
      "./temp_unzip\\576288_volumes\n",
      "./temp_unzip\\576288_segmentations\n",
      "('1',)\n",
      "one case sucessfully converted\n"
     ]
    },
    {
     "name": "stderr",
     "output_type": "stream",
     "text": [
      " 75%|#######4  | 178/238 [4:43:36<12:40, 12.67s/it]"
     ]
    },
    {
     "name": "stdout",
     "output_type": "stream",
     "text": [
      "./temp_unzip\\576316_volumes\n",
      "./temp_unzip\\576316_segmentations\n",
      "('1',)\n",
      "one case sucessfully converted\n"
     ]
    },
    {
     "name": "stderr",
     "output_type": "stream",
     "text": [
      " 75%|#######5  | 179/238 [4:43:56<14:22, 14.62s/it]"
     ]
    },
    {
     "name": "stdout",
     "output_type": "stream",
     "text": [
      "./temp_unzip\\576342_volumes\n",
      "./temp_unzip\\576342_segmentations\n",
      "('1',)\n",
      "one case sucessfully converted\n"
     ]
    },
    {
     "name": "stderr",
     "output_type": "stream",
     "text": [
      " 76%|#######5  | 180/238 [4:44:12<14:30, 15.00s/it]"
     ]
    },
    {
     "name": "stdout",
     "output_type": "stream",
     "text": [
      "./temp_unzip\\576356_volumes\n",
      "./temp_unzip\\576356_segmentations\n",
      "('1',)\n",
      "one case sucessfully converted\n"
     ]
    },
    {
     "name": "stderr",
     "output_type": "stream",
     "text": [
      " 76%|#######6  | 181/238 [4:44:35<16:39, 17.53s/it]"
     ]
    },
    {
     "name": "stdout",
     "output_type": "stream",
     "text": [
      "./temp_unzip\\576376_volumes\n",
      "./temp_unzip\\576376_segmentations\n",
      "('1',)\n",
      "one case sucessfully converted\n"
     ]
    },
    {
     "name": "stderr",
     "output_type": "stream",
     "text": [
      " 76%|#######6  | 182/238 [4:44:52<16:15, 17.41s/it]"
     ]
    },
    {
     "name": "stdout",
     "output_type": "stream",
     "text": [
      "./temp_unzip\\576383_volumes\n",
      "./temp_unzip\\576383_segmentations\n",
      "('1',)\n",
      "one case sucessfully converted\n"
     ]
    },
    {
     "name": "stderr",
     "output_type": "stream",
     "text": [
      " 77%|#######6  | 183/238 [4:45:08<15:28, 16.88s/it]"
     ]
    },
    {
     "name": "stdout",
     "output_type": "stream",
     "text": [
      "./temp_unzip\\576432_volumes\n",
      "./temp_unzip\\576432_segmentations\n",
      "('1',)\n",
      "one case sucessfully converted\n"
     ]
    },
    {
     "name": "stderr",
     "output_type": "stream",
     "text": [
      " 77%|#######7  | 184/238 [4:45:28<16:01, 17.80s/it]"
     ]
    },
    {
     "name": "stdout",
     "output_type": "stream",
     "text": [
      "./temp_unzip\\576436_volumes\n",
      "./temp_unzip\\576436_segmentations\n",
      "('1',)\n",
      "one case sucessfully converted\n"
     ]
    },
    {
     "name": "stderr",
     "output_type": "stream",
     "text": [
      " 78%|#######7  | 185/238 [4:45:51<17:16, 19.55s/it]"
     ]
    },
    {
     "name": "stdout",
     "output_type": "stream",
     "text": [
      "./temp_unzip\\576491_volumes\n",
      "./temp_unzip\\576491_segmentations\n",
      "('1',)\n",
      "one case sucessfully converted\n"
     ]
    },
    {
     "name": "stderr",
     "output_type": "stream",
     "text": [
      " 78%|#######8  | 186/238 [4:46:36<23:29, 27.11s/it]"
     ]
    },
    {
     "name": "stdout",
     "output_type": "stream",
     "text": [
      "./temp_unzip\\576504_volumes\n",
      "./temp_unzip\\576504_segmentations\n",
      "('1',)\n",
      "one case sucessfully converted\n"
     ]
    },
    {
     "name": "stderr",
     "output_type": "stream",
     "text": [
      " 79%|#######8  | 187/238 [4:46:52<20:04, 23.62s/it]"
     ]
    },
    {
     "name": "stdout",
     "output_type": "stream",
     "text": [
      "./temp_unzip\\576515_volumes\n",
      "./temp_unzip\\576515_segmentations\n",
      "('1',)\n",
      "one case sucessfully converted\n"
     ]
    },
    {
     "name": "stderr",
     "output_type": "stream",
     "text": [
      " 79%|#######8  | 188/238 [4:47:08<17:46, 21.33s/it]"
     ]
    },
    {
     "name": "stdout",
     "output_type": "stream",
     "text": [
      "./temp_unzip\\576527_volumes\n",
      "./temp_unzip\\576527_segmentations\n",
      "('1',)\n",
      "one case sucessfully converted\n"
     ]
    },
    {
     "name": "stderr",
     "output_type": "stream",
     "text": [
      " 79%|#######9  | 189/238 [4:47:26<16:39, 20.39s/it]"
     ]
    },
    {
     "name": "stdout",
     "output_type": "stream",
     "text": [
      "./temp_unzip\\576543_volumes\n",
      "./temp_unzip\\576543_segmentations\n",
      "('1',)\n",
      "one case sucessfully converted\n"
     ]
    },
    {
     "name": "stderr",
     "output_type": "stream",
     "text": [
      " 80%|#######9  | 190/238 [4:47:44<15:47, 19.74s/it]"
     ]
    },
    {
     "name": "stdout",
     "output_type": "stream",
     "text": [
      "./temp_unzip\\576547_volumes\n",
      "./temp_unzip\\576547_segmentations\n",
      "('1',)\n",
      "one case sucessfully converted\n"
     ]
    },
    {
     "name": "stderr",
     "output_type": "stream",
     "text": [
      " 80%|########  | 191/238 [4:47:55<13:24, 17.11s/it]"
     ]
    },
    {
     "name": "stdout",
     "output_type": "stream",
     "text": [
      "./temp_unzip\\576597_volumes\n",
      "./temp_unzip\\576597_segmentations\n",
      "('1',)\n",
      "one case sucessfully converted\n"
     ]
    },
    {
     "name": "stderr",
     "output_type": "stream",
     "text": [
      " 81%|########  | 192/238 [4:48:14<13:30, 17.61s/it]"
     ]
    },
    {
     "name": "stdout",
     "output_type": "stream",
     "text": [
      "./temp_unzip\\576705_volumes\n",
      "./temp_unzip\\576705_segmentations\n",
      "('1',)\n",
      "one case sucessfully converted\n"
     ]
    },
    {
     "name": "stderr",
     "output_type": "stream",
     "text": [
      " 81%|########1 | 193/238 [4:48:33<13:38, 18.19s/it]"
     ]
    },
    {
     "name": "stdout",
     "output_type": "stream",
     "text": [
      "./temp_unzip\\576706_volumes\n",
      "./temp_unzip\\576706_segmentations\n",
      "('1',)\n",
      "one case sucessfully converted\n"
     ]
    },
    {
     "name": "stderr",
     "output_type": "stream",
     "text": [
      " 82%|########1 | 194/238 [4:49:11<17:32, 23.92s/it]"
     ]
    },
    {
     "name": "stdout",
     "output_type": "stream",
     "text": [
      "./temp_unzip\\576708_volumes\n",
      "./temp_unzip\\576708_segmentations\n",
      "('1',)\n",
      "one case sucessfully converted\n"
     ]
    },
    {
     "name": "stderr",
     "output_type": "stream",
     "text": [
      " 82%|########1 | 195/238 [4:49:36<17:34, 24.53s/it]"
     ]
    },
    {
     "name": "stdout",
     "output_type": "stream",
     "text": [
      "./temp_unzip\\576710_volumes\n",
      "./temp_unzip\\576710_segmentations\n",
      "('1',)\n",
      "somthing is wrong with case {'vol': './temp_unzip\\\\576710_volumes', 'seg': './temp_unzip\\\\576710_segmentations'} probably a missing segmentation\n"
     ]
    },
    {
     "name": "stderr",
     "output_type": "stream",
     "text": [
      " 82%|########2 | 196/238 [4:49:54<15:43, 22.46s/it]"
     ]
    },
    {
     "name": "stdout",
     "output_type": "stream",
     "text": [
      "./temp_unzip\\576715_volumes\n",
      "./temp_unzip\\576715_segmentations\n",
      "('1',)\n",
      "one case sucessfully converted\n"
     ]
    },
    {
     "name": "stderr",
     "output_type": "stream",
     "text": [
      " 83%|########2 | 197/238 [4:50:37<19:28, 28.51s/it]"
     ]
    },
    {
     "name": "stdout",
     "output_type": "stream",
     "text": [
      "./temp_unzip\\576728_volumes\n",
      "./temp_unzip\\576728_segmentations\n",
      "('1',)\n",
      "one case sucessfully converted\n"
     ]
    },
    {
     "name": "stderr",
     "output_type": "stream",
     "text": [
      " 83%|########3 | 198/238 [4:51:03<18:38, 27.96s/it]"
     ]
    },
    {
     "name": "stdout",
     "output_type": "stream",
     "text": [
      "./temp_unzip\\576751_volumes\n",
      "./temp_unzip\\576751_segmentations\n",
      "('1',)\n",
      "one case sucessfully converted\n"
     ]
    },
    {
     "name": "stderr",
     "output_type": "stream",
     "text": [
      " 84%|########3 | 199/238 [4:52:40<31:31, 48.51s/it]"
     ]
    },
    {
     "name": "stdout",
     "output_type": "stream",
     "text": [
      "./temp_unzip\\576794_volumes\n",
      "./temp_unzip\\576794_segmentations\n",
      "('1',)\n",
      "one case sucessfully converted\n"
     ]
    },
    {
     "name": "stderr",
     "output_type": "stream",
     "text": [
      " 84%|########4 | 200/238 [4:52:55<24:26, 38.60s/it]"
     ]
    },
    {
     "name": "stdout",
     "output_type": "stream",
     "text": [
      "./temp_unzip\\576854_volumes\n",
      "./temp_unzip\\576854_segmentations\n",
      "('1',)\n",
      "one case sucessfully converted\n"
     ]
    },
    {
     "name": "stderr",
     "output_type": "stream",
     "text": [
      " 84%|########4 | 201/238 [4:53:07<18:47, 30.47s/it]"
     ]
    },
    {
     "name": "stdout",
     "output_type": "stream",
     "text": [
      "./temp_unzip\\576856_volumes\n",
      "./temp_unzip\\576856_segmentations\n",
      "('1',)\n",
      "one case sucessfully converted\n"
     ]
    },
    {
     "name": "stderr",
     "output_type": "stream",
     "text": [
      " 85%|########4 | 202/238 [4:53:17<14:42, 24.51s/it]"
     ]
    },
    {
     "name": "stdout",
     "output_type": "stream",
     "text": [
      "./temp_unzip\\576887_volumes\n",
      "./temp_unzip\\576887_segmentations\n",
      "('1',)\n",
      "one case sucessfully converted\n"
     ]
    },
    {
     "name": "stderr",
     "output_type": "stream",
     "text": [
      " 85%|########5 | 203/238 [5:10:19<3:08:43, 323.54s/it]"
     ]
    },
    {
     "name": "stdout",
     "output_type": "stream",
     "text": [
      "./temp_unzip\\576945_volumes\n",
      "./temp_unzip\\576945_segmentations\n",
      "('1',)\n",
      "one case sucessfully converted\n"
     ]
    },
    {
     "name": "stderr",
     "output_type": "stream",
     "text": [
      " 86%|########5 | 204/238 [5:10:58<2:15:04, 238.35s/it]"
     ]
    },
    {
     "name": "stdout",
     "output_type": "stream",
     "text": [
      "./temp_unzip\\576998_volumes\n",
      "./temp_unzip\\576998_segmentations\n",
      "('1',)\n",
      "one case sucessfully converted\n"
     ]
    },
    {
     "name": "stderr",
     "output_type": "stream",
     "text": [
      " 86%|########6 | 205/238 [5:11:13<1:34:10, 171.21s/it]"
     ]
    },
    {
     "name": "stdout",
     "output_type": "stream",
     "text": [
      "./temp_unzip\\577011_volumes\n",
      "./temp_unzip\\577011_segmentations\n",
      "('1',)\n",
      "somthing is wrong with case {'vol': './temp_unzip\\\\577011_volumes', 'seg': './temp_unzip\\\\577011_segmentations'} probably a missing segmentation\n"
     ]
    },
    {
     "name": "stderr",
     "output_type": "stream",
     "text": [
      " 87%|########6 | 206/238 [5:11:22<1:05:26, 122.71s/it]"
     ]
    },
    {
     "name": "stdout",
     "output_type": "stream",
     "text": [
      "./temp_unzip\\577039_volumes\n",
      "./temp_unzip\\577039_segmentations\n",
      "('1',)\n",
      "one case sucessfully converted\n"
     ]
    },
    {
     "name": "stderr",
     "output_type": "stream",
     "text": [
      " 87%|########6 | 207/238 [5:13:14<1:01:38, 119.31s/it]"
     ]
    },
    {
     "name": "stdout",
     "output_type": "stream",
     "text": [
      "./temp_unzip\\577053_volumes\n",
      "./temp_unzip\\577053_segmentations\n",
      "('1',)\n",
      "one case sucessfully converted\n"
     ]
    },
    {
     "name": "stderr",
     "output_type": "stream",
     "text": [
      " 87%|########7 | 208/238 [5:13:32<44:31, 89.04s/it]   "
     ]
    },
    {
     "name": "stdout",
     "output_type": "stream",
     "text": [
      "./temp_unzip\\577063_volumes\n",
      "./temp_unzip\\577063_segmentations\n",
      "('1',)\n",
      "one case sucessfully converted\n"
     ]
    },
    {
     "name": "stderr",
     "output_type": "stream",
     "text": [
      " 88%|########7 | 209/238 [5:15:15<45:01, 93.16s/it]"
     ]
    },
    {
     "name": "stdout",
     "output_type": "stream",
     "text": [
      "./temp_unzip\\577179_volumes\n",
      "./temp_unzip\\577179_segmentations\n",
      "('1',)\n",
      "one case sucessfully converted\n"
     ]
    },
    {
     "name": "stderr",
     "output_type": "stream",
     "text": [
      " 88%|########8 | 210/238 [5:15:25<31:53, 68.34s/it]"
     ]
    },
    {
     "name": "stdout",
     "output_type": "stream",
     "text": [
      "./temp_unzip\\577186_volumes\n",
      "./temp_unzip\\577186_segmentations\n",
      "('1',)\n",
      "one case sucessfully converted\n"
     ]
    },
    {
     "name": "stderr",
     "output_type": "stream",
     "text": [
      " 89%|########8 | 211/238 [5:15:40<23:26, 52.11s/it]"
     ]
    },
    {
     "name": "stdout",
     "output_type": "stream",
     "text": [
      "./temp_unzip\\577210_volumes\n",
      "./temp_unzip\\577210_segmentations\n",
      "('1',)\n",
      "one case sucessfully converted\n"
     ]
    },
    {
     "name": "stderr",
     "output_type": "stream",
     "text": [
      " 89%|########9 | 212/238 [5:16:15<20:24, 47.11s/it]"
     ]
    },
    {
     "name": "stdout",
     "output_type": "stream",
     "text": [
      "./temp_unzip\\577436_volumes\n",
      "./temp_unzip\\577436_segmentations\n",
      "('1',)\n",
      "one case sucessfully converted\n"
     ]
    },
    {
     "name": "stderr",
     "output_type": "stream",
     "text": [
      " 89%|########9 | 213/238 [5:16:45<17:28, 41.95s/it]"
     ]
    },
    {
     "name": "stdout",
     "output_type": "stream",
     "text": [
      "./temp_unzip\\577466_volumes\n",
      "./temp_unzip\\577466_segmentations\n",
      "('1',)\n",
      "one case sucessfully converted\n"
     ]
    },
    {
     "name": "stderr",
     "output_type": "stream",
     "text": [
      " 90%|########9 | 214/238 [5:17:17<15:36, 39.02s/it]"
     ]
    },
    {
     "name": "stdout",
     "output_type": "stream",
     "text": [
      "./temp_unzip\\577564_volumes\n",
      "./temp_unzip\\577564_segmentations\n",
      "('1',)\n",
      "one case sucessfully converted\n"
     ]
    },
    {
     "name": "stderr",
     "output_type": "stream",
     "text": [
      " 90%|######### | 215/238 [5:17:31<12:03, 31.45s/it]"
     ]
    },
    {
     "name": "stdout",
     "output_type": "stream",
     "text": [
      "./temp_unzip\\577589_volumes\n",
      "./temp_unzip\\577589_segmentations\n",
      "('1',)\n",
      "one case sucessfully converted\n"
     ]
    },
    {
     "name": "stderr",
     "output_type": "stream",
     "text": [
      " 91%|######### | 216/238 [5:18:06<11:56, 32.58s/it]"
     ]
    },
    {
     "name": "stdout",
     "output_type": "stream",
     "text": [
      "./temp_unzip\\577590_volumes\n",
      "./temp_unzip\\577590_segmentations\n",
      "('1',)\n",
      "one case sucessfully converted\n"
     ]
    },
    {
     "name": "stderr",
     "output_type": "stream",
     "text": [
      " 91%|#########1| 217/238 [5:19:22<15:57, 45.61s/it]"
     ]
    },
    {
     "name": "stdout",
     "output_type": "stream",
     "text": [
      "./temp_unzip\\577623_volumes\n",
      "./temp_unzip\\577623_segmentations\n",
      "('1',)\n",
      "one case sucessfully converted\n"
     ]
    },
    {
     "name": "stderr",
     "output_type": "stream",
     "text": [
      " 92%|#########1| 218/238 [5:19:36<12:03, 36.16s/it]"
     ]
    },
    {
     "name": "stdout",
     "output_type": "stream",
     "text": [
      "./temp_unzip\\577628_volumes\n",
      "./temp_unzip\\577628_segmentations\n",
      "('1',)\n",
      "one case sucessfully converted\n"
     ]
    },
    {
     "name": "stderr",
     "output_type": "stream",
     "text": [
      " 92%|#########2| 219/238 [5:19:52<09:30, 30.04s/it]"
     ]
    },
    {
     "name": "stdout",
     "output_type": "stream",
     "text": [
      "./temp_unzip\\577734_volumes\n",
      "./temp_unzip\\577734_segmentations\n",
      "('1',)\n",
      "somthing is wrong with case {'vol': './temp_unzip\\\\577734_volumes', 'seg': './temp_unzip\\\\577734_segmentations'} probably a missing segmentation\n"
     ]
    },
    {
     "name": "stderr",
     "output_type": "stream",
     "text": [
      " 92%|#########2| 220/238 [5:20:00<07:04, 23.56s/it]"
     ]
    },
    {
     "name": "stdout",
     "output_type": "stream",
     "text": [
      "./temp_unzip\\577745_volumes\n",
      "./temp_unzip\\577745_segmentations\n",
      "('1',)\n",
      "one case sucessfully converted\n"
     ]
    },
    {
     "name": "stderr",
     "output_type": "stream",
     "text": [
      " 93%|#########2| 221/238 [5:20:30<07:12, 25.46s/it]"
     ]
    },
    {
     "name": "stdout",
     "output_type": "stream",
     "text": [
      "./temp_unzip\\577806_volumes\n",
      "./temp_unzip\\577806_segmentations\n",
      "('1',)\n",
      "one case sucessfully converted\n"
     ]
    },
    {
     "name": "stderr",
     "output_type": "stream",
     "text": [
      " 93%|#########3| 222/238 [5:20:45<05:57, 22.33s/it]"
     ]
    },
    {
     "name": "stdout",
     "output_type": "stream",
     "text": [
      "./temp_unzip\\578001_volumes\n",
      "./temp_unzip\\578001_segmentations\n",
      "('1',)\n",
      "one case sucessfully converted\n"
     ]
    },
    {
     "name": "stderr",
     "output_type": "stream",
     "text": [
      " 94%|#########3| 223/238 [5:21:12<05:56, 23.74s/it]"
     ]
    },
    {
     "name": "stdout",
     "output_type": "stream",
     "text": [
      "./temp_unzip\\578094_volumes\n",
      "./temp_unzip\\578094_segmentations\n",
      "('1',)\n",
      "one case sucessfully converted\n"
     ]
    },
    {
     "name": "stderr",
     "output_type": "stream",
     "text": [
      " 94%|#########4| 224/238 [5:21:32<05:15, 22.51s/it]"
     ]
    },
    {
     "name": "stdout",
     "output_type": "stream",
     "text": [
      "./temp_unzip\\578111_volumes\n",
      "./temp_unzip\\578111_segmentations\n",
      "('1',)\n",
      "one case sucessfully converted\n"
     ]
    },
    {
     "name": "stderr",
     "output_type": "stream",
     "text": [
      " 95%|#########4| 225/238 [5:21:44<04:09, 19.21s/it]"
     ]
    },
    {
     "name": "stdout",
     "output_type": "stream",
     "text": [
      "./temp_unzip\\578239_volumes\n",
      "./temp_unzip\\578239_segmentations\n",
      "('1',)\n",
      "one case sucessfully converted\n"
     ]
    },
    {
     "name": "stderr",
     "output_type": "stream",
     "text": [
      " 95%|#########4| 226/238 [5:22:00<03:42, 18.51s/it]"
     ]
    },
    {
     "name": "stdout",
     "output_type": "stream",
     "text": [
      "./temp_unzip\\578343_volumes\n",
      "./temp_unzip\\578343_segmentations\n",
      "('1',)\n",
      "one case sucessfully converted\n"
     ]
    },
    {
     "name": "stderr",
     "output_type": "stream",
     "text": [
      " 95%|#########5| 227/238 [5:22:15<03:11, 17.37s/it]"
     ]
    },
    {
     "name": "stdout",
     "output_type": "stream",
     "text": [
      "./temp_unzip\\578396_volumes\n",
      "./temp_unzip\\578396_segmentations\n",
      "('1',)\n",
      "one case sucessfully converted\n"
     ]
    },
    {
     "name": "stderr",
     "output_type": "stream",
     "text": [
      " 96%|#########5| 228/238 [5:22:45<03:31, 21.19s/it]"
     ]
    },
    {
     "name": "stdout",
     "output_type": "stream",
     "text": [
      "./temp_unzip\\578398_volumes\n",
      "./temp_unzip\\578398_segmentations\n",
      "('1',)\n",
      "one case sucessfully converted\n"
     ]
    },
    {
     "name": "stderr",
     "output_type": "stream",
     "text": [
      " 96%|#########6| 229/238 [5:23:08<03:14, 21.61s/it]"
     ]
    },
    {
     "name": "stdout",
     "output_type": "stream",
     "text": [
      "./temp_unzip\\578401_volumes\n",
      "./temp_unzip\\578401_segmentations\n",
      "('1',)\n",
      "one case sucessfully converted\n"
     ]
    },
    {
     "name": "stderr",
     "output_type": "stream",
     "text": [
      " 97%|#########6| 230/238 [5:24:37<05:35, 41.92s/it]"
     ]
    },
    {
     "name": "stdout",
     "output_type": "stream",
     "text": [
      "./temp_unzip\\578518_volumes\n",
      "./temp_unzip\\578518_segmentations\n",
      "('1',)\n",
      "somthing is wrong with case {'vol': './temp_unzip\\\\578518_volumes', 'seg': './temp_unzip\\\\578518_segmentations'} probably a missing segmentation\n"
     ]
    },
    {
     "name": "stderr",
     "output_type": "stream",
     "text": [
      " 97%|#########7| 231/238 [5:24:45<03:40, 31.56s/it]"
     ]
    },
    {
     "name": "stdout",
     "output_type": "stream",
     "text": [
      "./temp_unzip\\578567_volumes\n",
      "./temp_unzip\\578567_segmentations\n",
      "('1',)\n",
      "one case sucessfully converted\n"
     ]
    },
    {
     "name": "stderr",
     "output_type": "stream",
     "text": [
      " 97%|#########7| 232/238 [5:26:07<04:40, 46.79s/it]"
     ]
    },
    {
     "name": "stdout",
     "output_type": "stream",
     "text": [
      "./temp_unzip\\578652_volumes\n",
      "./temp_unzip\\578652_segmentations\n",
      "('1',)\n",
      "one case sucessfully converted\n"
     ]
    },
    {
     "name": "stderr",
     "output_type": "stream",
     "text": [
      " 98%|#########7| 233/238 [5:26:48<03:45, 45.06s/it]"
     ]
    },
    {
     "name": "stdout",
     "output_type": "stream",
     "text": [
      "./temp_unzip\\578675_volumes\n",
      "./temp_unzip\\578675_segmentations\n",
      "('1',)\n",
      "one case sucessfully converted\n"
     ]
    },
    {
     "name": "stderr",
     "output_type": "stream",
     "text": [
      " 98%|#########8| 234/238 [5:27:06<02:27, 36.88s/it]"
     ]
    },
    {
     "name": "stdout",
     "output_type": "stream",
     "text": [
      "./temp_unzip\\578888_volumes\n",
      "./temp_unzip\\578888_segmentations\n",
      "('1',)\n",
      "one case sucessfully converted\n"
     ]
    },
    {
     "name": "stderr",
     "output_type": "stream",
     "text": [
      " 99%|#########8| 235/238 [5:28:41<02:42, 54.28s/it]"
     ]
    },
    {
     "name": "stdout",
     "output_type": "stream",
     "text": [
      "./temp_unzip\\578910_volumes\n",
      "./temp_unzip\\578910_segmentations\n",
      "('1',)\n",
      "one case sucessfully converted\n"
     ]
    },
    {
     "name": "stderr",
     "output_type": "stream",
     "text": [
      " 99%|#########9| 236/238 [5:29:06<01:31, 45.76s/it]"
     ]
    },
    {
     "name": "stdout",
     "output_type": "stream",
     "text": [
      "./temp_unzip\\579057_volumes\n",
      "./temp_unzip\\579057_segmentations\n",
      "('1',)\n",
      "one case sucessfully converted\n"
     ]
    },
    {
     "name": "stderr",
     "output_type": "stream",
     "text": [
      "100%|#########9| 237/238 [5:29:29<00:38, 38.81s/it]"
     ]
    },
    {
     "name": "stdout",
     "output_type": "stream",
     "text": [
      "./temp_unzip\\579169_volumes\n",
      "./temp_unzip\\579169_segmentations\n",
      "('1',)\n",
      "somthing is wrong with case {'vol': './temp_unzip\\\\579169_volumes', 'seg': './temp_unzip\\\\579169_segmentations'} probably a missing segmentation\n"
     ]
    },
    {
     "name": "stderr",
     "output_type": "stream",
     "text": [
      "100%|##########| 238/238 [5:29:36<00:00, 83.09s/it]\n"
     ]
    },
    {
     "name": "stdout",
     "output_type": "stream",
     "text": [
      "done converting all cases to nii\n"
     ]
    }
   ],
   "source": [
    "batch_nii_convert (input_cases)"
   ]
  },
  {
   "cell_type": "code",
   "execution_count": 14,
   "id": "c2bd95b1-d062-4235-992e-4048effdb08d",
   "metadata": {},
   "outputs": [],
   "source": [
    "# test_seg = \"C:\\\\Users\\\\Sepehr\\\\3dsegmentationProjects\\\\nn-unet-organize-dataset-for-training\\\\304846_246033_segmented_structures\"\n",
    "# test_vol = \"C:\\\\Users\\\\Sepehr\\\\3dsegmentationProjects\\\\nn-unet-organize-dataset-for-training\\\\304846_Ken_Lin_Lin_Ken____20200831_080509147\"\n",
    "\n",
    "# test_seg2 = \"C:\\\\Users\\\\Sepehr\\\\3dsegmentationProjects\\\\nn-unet-organize-dataset-for-training\\\\temp_unzip\\\\576547_segmentations\"\n",
    "# test_vol2 = \"C:\\\\Users\\\\Sepehr\\\\3dsegmentationProjects\\\\nn-unet-organize-dataset-for-training\\\\temp_unzip\\\\576547_volumes\"\n",
    "\n",
    "# # convert_single_case_to_nii (input_cases[0][\"vol\"],input_cases[0][\"seg\"])\n",
    "# convert_single_case_to_nii (test_vol2,test_seg2)"
   ]
  },
  {
   "cell_type": "markdown",
   "id": "a57ecaf2-80a2-46b7-98ed-1b1936084477",
   "metadata": {},
   "source": [
    "# building nnunet_dataset from nii"
   ]
  },
  {
   "cell_type": "code",
   "execution_count": 15,
   "id": "5d3753e3-750a-4644-b07a-c3d035c7b32a",
   "metadata": {},
   "outputs": [],
   "source": [
    "#making dataset Folder \n",
    "\n",
    "dataset_id = 126\n",
    "dataset_name = \"individual_teeth\" \n",
    "Dataset_folder_name = f\"Dataset{dataset_id}_{dataset_name}\"\n",
    "\n",
    "if (not os.path.exists(f\"./nnUNet_raw/{Dataset_folder_name}\")):\n",
    "    os.mkdir(f\"./nnUNet_raw/{Dataset_folder_name}\")\n",
    "\n",
    "train_input_dir = f\"./nnUNet_raw/{Dataset_folder_name}/imagesTr\"\n",
    "train_lable_dir = f\"./nnUNet_raw/{Dataset_folder_name}/labelsTr\"\n",
    "\n",
    "if not os.path.exists(train_input_dir):\n",
    "    os.mkdir(train_input_dir)\n",
    "if not os.path.exists(train_lable_dir):\n",
    "    os.mkdir(train_lable_dir)\n",
    "\n",
    "\n"
   ]
  },
  {
   "cell_type": "code",
   "execution_count": 16,
   "id": "a3865e6d-e787-4654-86f9-f81bf8253133",
   "metadata": {},
   "outputs": [],
   "source": [
    "import shutil\n",
    "volume_list = os.listdir(nii_path_volumes)\n",
    "seg_list = os.listdir(nii_path_segmentations)\n",
    "# print (volume_list)\n",
    "\n",
    "for volume in volume_list:\n",
    "    volume_old_path = f\"{nii_path_volumes}/{volume}\"\n",
    "    volume_nnunet_name = volume.replace (\"_volume.nii.gz\",\"_0000.nii.gz\")\n",
    "    volume_new_path = f\"{train_input_dir}/{volume_nnunet_name}\"\n",
    "\n",
    "    #print (volume_nnunet_name)\n",
    "    shutil.move(volume_old_path, volume_new_path)\n",
    "\n",
    "\n",
    "for segmentation in seg_list:\n",
    "    segmentation_old_path = f\"{nii_path_segmentations}/{segmentation}\"\n",
    "    segmentation_nnunet_name = segmentation.replace (\"_seg.nii.gz\",\".nii.gz\")\n",
    "    segmentation_new_path = f\"{train_lable_dir}/{segmentation_nnunet_name}\"\n",
    "\n",
    "    #print (segmentation_nnunet_name)\n",
    "    shutil.copy(segmentation_old_path, segmentation_new_path)\n"
   ]
  },
  {
   "cell_type": "code",
   "execution_count": 17,
   "id": "c9adf213-d7fe-4681-a374-8a67acab6bc7",
   "metadata": {},
   "outputs": [],
   "source": [
    "## creating Dataset Json \n",
    "import json \n",
    "\n",
    "dataset_metadata = {\n",
    " \"channel_names\": {  # formerly modalities\n",
    "   \"0\": \"CT\", \n",
    " }, \n",
    " \"labels\": {\n",
    "    \"background\":0,\n",
    "    \"sinus\": 1,\n",
    "    \"canal\": 2,\n",
    "    \"mandible\": 3,\n",
    "    \"maxilla\":4,\n",
    "    \"tooth_11\":5,\n",
    "    \"tooth_12\":6,\n",
    "    \"tooth_13\":7,\n",
    "    \"tooth_14\":8,\n",
    "    \"tooth_15\":9,\n",
    "    \"tooth_16\":10,\n",
    "    \"tooth_17\":11,\n",
    "    \"tooth_18\":12,\n",
    "    \"tooth_21\":13,\n",
    "    \"tooth_22\":14,\n",
    "    \"tooth_23\":15,\n",
    "    \"tooth_24\":16,\n",
    "    \"tooth_25\":17,\n",
    "    \"tooth_26\":18,\n",
    "    \"tooth_27\":19,\n",
    "    \"tooth_28\":20,\n",
    "    \"tooth_31\":21,\n",
    "    \"tooth_32\":22,\n",
    "    \"tooth_33\":23,\n",
    "    \"tooth_34\":24,\n",
    "    \"tooth_35\":25,\n",
    "    \"tooth_36\":26,\n",
    "    \"tooth_37\":27,\n",
    "    \"tooth_38\":28,\n",
    "    \"tooth_41\":29,\n",
    "    \"tooth_42\":30,\n",
    "    \"tooth_43\":31,\n",
    "    \"tooth_44\":32,\n",
    "    \"tooth_45\":33,\n",
    "    \"tooth_46\":34,\n",
    "    \"tooth_47\":35,\n",
    "    \"tooth_48\":36,\n",
    "}, \n",
    " \"numTraining\": len(volume_list), \n",
    " \"file_ending\": \".nii.gz\",\n",
    " \"overwrite_image_reader_writer\": \"SimpleITKIO\"  # optional! If not provided nnU-Net will automatically determine the ReaderWriter\n",
    " \n",
    "}\n",
    "\n",
    "json_data = json.dumps(dataset_metadata)\n",
    "\n",
    "with open(f\"./nnUNet_raw/{Dataset_folder_name}/dataset.json\", \"w\") as outfile:\n",
    "    outfile.write(json_data)"
   ]
  },
  {
   "cell_type": "code",
   "execution_count": null,
   "id": "4266cc80-479a-4baa-8252-1e9d00ef5d2a",
   "metadata": {},
   "outputs": [],
   "source": []
  },
  {
   "cell_type": "code",
   "execution_count": null,
   "id": "8f162ece-ac3c-4abf-b814-6c2698c804ba",
   "metadata": {},
   "outputs": [],
   "source": []
  }
 ],
 "metadata": {
  "kernelspec": {
   "display_name": "Slicer 5.6",
   "language": "python",
   "name": "slicer-5.6"
  },
  "language_info": {
   "file_extension": ".py",
   "mimetype": "text/x-python",
   "name": "python",
   "version": "3.9.10"
  }
 },
 "nbformat": 4,
 "nbformat_minor": 5
}
