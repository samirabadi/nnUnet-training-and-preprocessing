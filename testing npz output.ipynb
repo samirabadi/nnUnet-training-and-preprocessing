{
 "cells": [
  {
   "cell_type": "code",
   "execution_count": null,
   "id": "69efcfea-4220-4e3f-b83c-5abda6c1fda4",
   "metadata": {},
   "outputs": [],
   "source": [
    "import numpy as np \n",
    "from matplotlib import pyplot as plt"
   ]
  },
  {
   "cell_type": "code",
   "execution_count": null,
   "id": "2ddda92c-9f26-4a69-9136-38294480d385",
   "metadata": {},
   "outputs": [],
   "source": [
    "npz_vol = \"converted_lablemapvtkMRMLScalarVolumeNode1.npy\"\n",
    "npz_mask = \"converted_lablemapvtkMRMLScalarVolumeNode1seg.npy\""
   ]
  },
  {
   "cell_type": "code",
   "execution_count": null,
   "id": "d587d47f-3618-478e-aea0-e1a29edf9cf6",
   "metadata": {},
   "outputs": [],
   "source": [
    "volume = np.load (npz_vol)\n",
    "mask = np.load(npz_mask)"
   ]
  },
  {
   "cell_type": "code",
   "execution_count": null,
   "id": "2d7377ff-327d-42e2-aafa-9bb639d11e26",
   "metadata": {},
   "outputs": [],
   "source": [
    "print(volume.shape)\n",
    "print(mask.shape)"
   ]
  },
  {
   "cell_type": "code",
   "execution_count": null,
   "id": "ed4dd84c-754e-45b6-abae-9f2dd76b6f25",
   "metadata": {},
   "outputs": [],
   "source": [
    "import matplotlib.pyplot as plt\n",
    "for i,slice in enumerate(volume):\n",
    "    plt.figure(\"Visualization Train\",(12,6))\n",
    "    plt.subplot(1,2,1)\n",
    "    plt.title(f\"volume at slice {i}\")\n",
    "    plt.imshow(slice)\n",
    "\n",
    "\n",
    "    plt.figure(\"Visualization Train\",(12,6))\n",
    "    plt.subplot(1,2,2)\n",
    "    plt.title(f\"mask at slice {i}\")\n",
    "    plt.imshow(mask[i,:,:])\n",
    "\n",
    "    plt.show()"
   ]
  },
  {
   "cell_type": "code",
   "execution_count": null,
   "id": "f151980a-9a8f-4d18-9571-999885d2de28",
   "metadata": {},
   "outputs": [],
   "source": []
  }
 ],
 "metadata": {
  "kernelspec": {
   "display_name": "Python 3 (ipykernel)",
   "language": "python",
   "name": "python3"
  },
  "language_info": {
   "codemirror_mode": {
    "name": "ipython",
    "version": 3
   },
   "file_extension": ".py",
   "mimetype": "text/x-python",
   "name": "python",
   "nbconvert_exporter": "python",
   "pygments_lexer": "ipython3",
   "version": "3.9.16"
  }
 },
 "nbformat": 4,
 "nbformat_minor": 5
}
