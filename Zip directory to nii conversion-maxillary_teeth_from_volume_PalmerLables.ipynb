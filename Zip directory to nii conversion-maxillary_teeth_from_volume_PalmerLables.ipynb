{
 "cells": [
  {
   "cell_type": "code",
   "execution_count": 1,
   "id": "9987388c-a8d9-4704-b963-8339129cf801",
   "metadata": {},
   "outputs": [],
   "source": [
    "import JupyterNotebooksLib as slicernb\n",
    "import slicer\n",
    "import os \n",
    "from DICOMLib import DICOMUtils\n",
    "import numpy as np\n",
    "import zipfile\n",
    "\n",
    "from glob import glob\n",
    "from natsort import natsorted\n",
    "from tqdm import tqdm\n",
    "\n",
    "# Set image viewer size to 50% screen size\n",
    "# slicernb.AppWindow.setWindowSize(scale=0.5)\n",
    "# slicernb.AppWindow.setContents(\"viewers\")\n",
    "\n",
    "# Clear scene\n",
    "slicer.mrmlScene.Clear(False)"
   ]
  },
  {
   "cell_type": "markdown",
   "id": "b40206a5-80d4-4964-97eb-5ed2bfa81407",
   "metadata": {},
   "source": [
    "# Unzip and organize files "
   ]
  },
  {
   "cell_type": "code",
   "execution_count": 2,
   "id": "6c786768-bcab-4ae5-af6b-2cc0087449a8",
   "metadata": {},
   "outputs": [],
   "source": [
    "#input folder \n",
    "input_folder = \"C:\\\\Users\\\\Sepehr\\\\3dsegmentationProjects\\\\nn-unet-organize-dataset-for-training\\\\Segmentation database\"\n",
    "intermediary_folder = \"./temp_unzip\"\n",
    "\n",
    "if  not os.path.exists(intermediary_folder):\n",
    "    os.mkdir(intermediary_folder)"
   ]
  },
  {
   "cell_type": "code",
   "execution_count": 3,
   "id": "c706e0ab-c6a7-4c20-a9cc-ce71b6f99c31",
   "metadata": {},
   "outputs": [],
   "source": [
    "# for zip_file in os.listdir(input_folder):\n",
    "#     if \"(\" in zip_file or \")\" in zip_file:\n",
    "#         continue;\n",
    "#     zip_path = f\"{input_folder}/{zip_file}\"\n",
    "#     Case_id = zip_file.split(\"_\")[0]\n",
    "\n",
    "#     if \"_segmented_structures\" in zip_file: \n",
    "#         out_path = f\"{intermediary_folder}/{Case_id}_segmentations\"\n",
    "#     else:\n",
    "#         out_path = f\"{intermediary_folder}/{Case_id}_volumes\"\n",
    "        \n",
    "#     with zipfile.ZipFile(zip_path, 'r') as zip_ref:\n",
    "#                     zip_ref.extractall(out_path)"
   ]
  },
  {
   "cell_type": "markdown",
   "id": "fbf8913f-d980-429b-8a23-829200bcc547",
   "metadata": {},
   "source": [
    "# organize file names throw out unuasable cases "
   ]
  },
  {
   "cell_type": "code",
   "execution_count": 4,
   "id": "7d4fa809-bf6c-4bf8-ac05-3b56198ddd2e",
   "metadata": {},
   "outputs": [
    {
     "name": "stdout",
     "output_type": "stream",
     "text": [
      "cannot find matching segmentation case will be skipped\n",
      "cannot find matching segmentation case will be skipped\n"
     ]
    }
   ],
   "source": [
    "input_cases = [] \n",
    "\n",
    "\n",
    "volumes_paths = list(natsorted(glob(os.path.join(intermediary_folder,  \"*\"+ f\"_volumes\"))))\n",
    "\n",
    "for vol in volumes_paths: \n",
    "\n",
    "    seg_path = vol.replace (\"_volumes\",\"_segmentations\")\n",
    "\n",
    "    if (os.path.exists(seg_path)):\n",
    "        input_cases.append ({\"vol\":vol,\"seg\":seg_path})\n",
    "    else:\n",
    "        print (\"cannot find matching segmentation case will be skipped\")\n",
    "\n"
   ]
  },
  {
   "cell_type": "code",
   "execution_count": 5,
   "id": "9f67a9d0-ddf1-4041-b0f4-b487b01c6612",
   "metadata": {},
   "outputs": [
    {
     "data": {
      "text/plain": [
       "'304846'"
      ]
     },
     "execution_count": 5,
     "metadata": {},
     "output_type": "execute_result"
    }
   ],
   "source": [
    "input_cases[0][\"vol\"].split(\"\\\\\")[-1].split(\"_\")[0]"
   ]
  },
  {
   "cell_type": "markdown",
   "id": "5acf0bcb-d3a1-4de7-8f10-4b3d2b1f81c5",
   "metadata": {},
   "source": [
    "# using slicer to convert to nii\n",
    "\n",
    "### will need to alter segmentation nodes to reflect changes in classes you are trying to segment"
   ]
  },
  {
   "cell_type": "code",
   "execution_count": 6,
   "id": "09ece8a6-f3bd-4d53-8a78-921dc34cfa95",
   "metadata": {},
   "outputs": [],
   "source": [
    "nii_path = \"./nii_ds_3\"\n",
    "nii_path_volumes = f\"{nii_path}/Volumes\"\n",
    "nii_path_segmentations = f\"{nii_path}/Masks\"\n",
    "\n",
    "try:\n",
    "    os.mkdir(nii_path)\n",
    "    os.mkdir(nii_path_volumes)\n",
    "    os.mkdir(nii_path_segmentations)\n",
    "except:\n",
    "    print (\"these directories already exist\")"
   ]
  },
  {
   "cell_type": "code",
   "execution_count": 7,
   "id": "f859f038-f7c1-44e9-90f9-59d196e6f73c",
   "metadata": {},
   "outputs": [],
   "source": [
    "def get_model_class_from_file (file): \n",
    "    if \"tooth\" in file: \n",
    "        #print (file.split(\"tooth_\")[1].split(\"_\")[0])\n",
    "\n",
    "        if (\".stl\" in file):\n",
    "            return \"tooth_\" + file.split(\"tooth_\")[1].split(\"_\")[0]\n",
    "        else:\n",
    "            return \"tooth_\" + file.split(\"tooth-\")[1].split(\"-\")[0].split(\"_\")[0]\n",
    "\n",
    "    else: \n",
    "        # CaseId = file.split(\"_\") [-1].split(\".)\n",
    "        # #print (file.split(f\"{CaseId}_\")[-1].split(\"_\")[0])\n",
    "        if (\".stl\" in file):\n",
    "            return file.split(\"_\") [-1].split(\".\")[0]\n",
    "        else:\n",
    "            return file.split(\"-\") [-1].split(\"_\")[0]"
   ]
  },
  {
   "cell_type": "code",
   "execution_count": 8,
   "id": "92002c8d-22ff-4871-951d-33edd9f05852",
   "metadata": {},
   "outputs": [
    {
     "data": {
      "text/plain": [
       "'tooth_13'"
      ]
     },
     "execution_count": 8,
     "metadata": {},
     "output_type": "execute_result"
    }
   ],
   "source": [
    "get_model_class_from_file (\"576547P524654_576547_2018874805-cbct-tooth-13_decimated\")\n",
    "#\"304846_canal.stl\".split(\"_\")"
   ]
  },
  {
   "cell_type": "code",
   "execution_count": 9,
   "id": "aa4abd38-4f01-4a64-ae22-2e04fc2e12c7",
   "metadata": {},
   "outputs": [
    {
     "data": {
      "text/plain": [
       "'11'"
      ]
     },
     "execution_count": 9,
     "metadata": {},
     "output_type": "execute_result"
    }
   ],
   "source": [
    "\"tooth_11\".strip(\"tooth_\")"
   ]
  },
  {
   "cell_type": "code",
   "execution_count": 10,
   "id": "e1da7c97-52ff-4557-b1fc-fe2d3cdf6602",
   "metadata": {},
   "outputs": [],
   "source": [
    "lable_map = {\n",
    "    \"background\":0,\n",
    "    \"tooth_11\":8,\n",
    "    \"tooth_12\":7,\n",
    "    \"tooth_13\":6,\n",
    "    \"tooth_14\":5,\n",
    "    \"tooth_15\":4,\n",
    "    \"tooth_16\":3,\n",
    "    \"tooth_17\":2,\n",
    "    \"tooth_18\":1,\n",
    "    \"tooth_21\":8,\n",
    "    \"tooth_22\":7,\n",
    "    \"tooth_23\":6,\n",
    "    \"tooth_24\":5,\n",
    "    \"tooth_25\":4,\n",
    "    \"tooth_26\":3,\n",
    "    \"tooth_27\":2,\n",
    "    \"tooth_28\":1,\n",
    "\n",
    "}"
   ]
  },
  {
   "cell_type": "code",
   "execution_count": 11,
   "id": "2b7874e6-4db8-4e46-87e9-fac21d7237c2",
   "metadata": {},
   "outputs": [],
   "source": [
    "def convert_to_nnunet_lable_tooth (segmentationNodes,referenceVolumeNode):\n",
    "\n",
    "    all_segment_np = [] \n",
    "    for lable, node in segmentationNodes.items():\n",
    "        name = node.GetName()\n",
    "    \n",
    "        segmentationLblmap  = slicer.mrmlScene.AddNewNodeByClass(\"vtkMRMLLabelMapVolumeNode\")\n",
    "        segmentationLblmap.SetName(name+\"_lablemap\")\n",
    "        slicer.modules.segmentations.logic().ExportVisibleSegmentsToLabelmapNode(node, segmentationLblmap, referenceVolumeNode)\n",
    "        mask = slicer.util.arrayFromVolume(segmentationLblmap)\n",
    "        mask[mask > 0] = lable_map[lable]\n",
    "    \n",
    "        all_segment_np.append(mask.copy())\n",
    "\n",
    "\n",
    "\n",
    "    final_out = all_segment_np[0] \n",
    "    for i in range (1,len(all_segment_np)):\n",
    "        indices  = np.where (final_out <1)\n",
    "        final_out [indices] = all_segment_np[i][indices]\n",
    "\n",
    "    segmentationLblmap  = slicer.mrmlScene.AddNewNodeByClass(\"vtkMRMLLabelMapVolumeNode\")\n",
    "    slicer.modules.segmentations.logic().ExportVisibleSegmentsToLabelmapNode(next(iter(segmentationNodes.values())), segmentationLblmap, referenceVolumeNode)\n",
    "    \n",
    "    slicer.util.updateVolumeFromArray(segmentationLblmap, final_out)\n",
    "\n",
    "    return segmentationLblmap\n",
    "\n",
    "    "
   ]
  },
  {
   "cell_type": "code",
   "execution_count": 12,
   "id": "50d9ca4e-306b-4287-bf3b-d968cfc4624e",
   "metadata": {},
   "outputs": [],
   "source": [
    "def convert_to_nnunet_lable_macro_structure (macroNode,referenceVolumeNode):\n",
    "\n",
    "\n",
    "    name = macroNode.GetName()\n",
    "    segmentationLblmap  = slicer.mrmlScene.AddNewNodeByClass(\"vtkMRMLLabelMapVolumeNode\")\n",
    "    segmentationLblmap.SetName(name+\"_lablemap\")\n",
    "    slicer.modules.segmentations.logic().ExportVisibleSegmentsToLabelmapNode(macroNode, segmentationLblmap, referenceVolumeNode)\n",
    "    mask = slicer.util.arrayFromVolume(segmentationLblmap)\n",
    "    mask[mask > 0] = 1\n",
    "\n",
    "    # labelmapVolumeNode = slicer.mrmlScene.AddNewNodeByClass('vtkMRMLLabelMapVolumeNode')\n",
    "    #slicer.modules.segmentations.logic().ExportVisibleSegmentsToLabelmapNode(macroNode, segmentationLblmap, referenceVolumeNode)\n",
    "    slicer.util.updateVolumeFromArray(segmentationLblmap, mask)\n",
    "    \n",
    "\n",
    "    return segmentationLblmap\n"
   ]
  },
  {
   "cell_type": "code",
   "execution_count": 13,
   "id": "51959f8e-25bd-4ac2-b6c3-5625b84a10cc",
   "metadata": {},
   "outputs": [],
   "source": [
    "def crop_vol_and_mask_to_ROI (input_volume_map,referenceVolumeNode,segmentation_lable_map):\n",
    "\n",
    "    #creating segmentation node to compute ROI \n",
    "    temp_segmentationNode = slicer.mrmlScene.AddNewNodeByClass(\"vtkMRMLSegmentationNode\")\n",
    "    temp_segmentationNode.CreateDefaultDisplayNodes()\n",
    "    \n",
    "    slicer.modules.segmentations.logic().ImportLabelmapToSegmentationNode (input_volume_map,temp_segmentationNode)\n",
    "    \n",
    "    \n",
    "    \n",
    "    ## obtaining bounding box coordinates from segment node\n",
    "    import SegmentStatistics\n",
    "    segStatLogic = SegmentStatistics.SegmentStatisticsLogic()\n",
    "    segStatLogic.getParameterNode().SetParameter(\"Segmentation\", temp_segmentationNode.GetID())\n",
    "    segStatLogic.getParameterNode().SetParameter(\"LabelmapSegmentStatisticsPlugin.obb_origin_ras.enabled\",str(True))\n",
    "    segStatLogic.getParameterNode().SetParameter(\"LabelmapSegmentStatisticsPlugin.obb_diameter_mm.enabled\",str(True))\n",
    "    segStatLogic.getParameterNode().SetParameter(\"LabelmapSegmentStatisticsPlugin.obb_direction_ras_x.enabled\",str(True))\n",
    "    segStatLogic.getParameterNode().SetParameter(\"LabelmapSegmentStatisticsPlugin.obb_direction_ras_y.enabled\",str(True))\n",
    "    segStatLogic.getParameterNode().SetParameter(\"LabelmapSegmentStatisticsPlugin.obb_direction_ras_z.enabled\",str(True))\n",
    "    segStatLogic.computeStatistics()\n",
    "    stats = segStatLogic.getStatistics()\n",
    "\n",
    "\n",
    "    ## creating ROI from bounding box stats\n",
    "\n",
    "    segmentId = stats[\"SegmentIDs\"] [0]\n",
    "    print (segmentId)\n",
    "    # Get bounding box\n",
    "    obb_origin_ras = np.array(stats[segmentId,\"LabelmapSegmentStatisticsPlugin.obb_origin_ras\"])\n",
    "    obb_diameter_mm = np.array(stats[segmentId,\"LabelmapSegmentStatisticsPlugin.obb_diameter_mm\"])\n",
    "    obb_direction_ras_x = np.array(stats[segmentId,\"LabelmapSegmentStatisticsPlugin.obb_direction_ras_x\"])\n",
    "    obb_direction_ras_y = np.array(stats[segmentId,\"LabelmapSegmentStatisticsPlugin.obb_direction_ras_y\"])\n",
    "    obb_direction_ras_z = np.array(stats[segmentId,\"LabelmapSegmentStatisticsPlugin.obb_direction_ras_z\"])\n",
    "    \n",
    "    # Create ROI\n",
    "    segment = temp_segmentationNode.GetSegmentation().GetSegment(segmentId)\n",
    "    roi=slicer.mrmlScene.AddNewNodeByClass(\"vtkMRMLMarkupsROINode\")\n",
    "    roi.SetName(segment.GetName() + \" OBB\")\n",
    "    roi.GetDisplayNode().SetHandlesInteractive(False)  # do not let the user resize the box\n",
    "    roi.SetSize(obb_diameter_mm)\n",
    "    \n",
    "    \n",
    "    # Position and orient ROI using a transform\n",
    "    obb_center_ras = obb_origin_ras+0.5*(obb_diameter_mm[0] * obb_direction_ras_x + obb_diameter_mm[1] * obb_direction_ras_y + obb_diameter_mm[2] * obb_direction_ras_z)\n",
    "    boundingBoxToRasTransform = np.row_stack((np.column_stack((obb_direction_ras_x, obb_direction_ras_y, obb_direction_ras_z, obb_center_ras)), (0, 0, 0, 1)))\n",
    "    boundingBoxToRasTransformMatrix = slicer.util.vtkMatrixFromArray(boundingBoxToRasTransform)\n",
    "    roi.SetAndObserveObjectToNodeMatrix(boundingBoxToRasTransformMatrix)\n",
    "\n",
    "\n",
    "    ##easier and more reliable cropping method \n",
    "    cropped_volume_node = slicer.mrmlScene.AddNewNodeByClass(\"vtkMRMLScalarVolumeNode\")\n",
    "    cropped_volume_node.CreateDefaultDisplayNodes()\n",
    "    \n",
    "    cropped_lablemap_node = slicer.mrmlScene.AddNewNodeByClass(\"vtkMRMLLabelMapVolumeNode\")\n",
    "    cropped_lablemap_node.CreateDefaultDisplayNodes()\n",
    "    \n",
    "    slicer.modules.cropvolume.logic().CropVoxelBased (roi,referenceVolumeNode,cropped_volume_node ) ##cropping volume \n",
    "    slicer.modules.cropvolume.logic().CropVoxelBased (roi,segmentation_lable_map,cropped_lablemap_node ) ##cropping mask\n",
    "\n",
    "\n",
    "    return cropped_volume_node,cropped_lablemap_node\n",
    "\n",
    "\n",
    "    "
   ]
  },
  {
   "cell_type": "code",
   "execution_count": null,
   "id": "989ca407-b685-444a-a0b1-76758bf68b5c",
   "metadata": {},
   "outputs": [],
   "source": []
  },
  {
   "cell_type": "code",
   "execution_count": null,
   "id": "6c7ea912-b596-4764-ab10-55d29e78610e",
   "metadata": {},
   "outputs": [],
   "source": []
  },
  {
   "cell_type": "code",
   "execution_count": 14,
   "id": "c9c8fd93-f235-4aac-b699-dcbe2d1ae5f3",
   "metadata": {},
   "outputs": [],
   "source": [
    "maxillary_teeth_lables = [\"11\",\"12\",\"13\",\"14\",\"15\",\"16\",\"17\",\"18\",\"21\",\"22\",\"23\",\"24\",\"25\",\"26\",\"27\",\"28\"]\n",
    "mandibular_teeth_lables = [\"31\",\"32\",\"33\",\"34\",\"35\",\"36\",\"37\",\"38\",\"41\",\"42\",\"43\",\"44\",\"45\",\"46\",\"47\",\"48\"]\n",
    "\n",
    "def convert_single_case_to_nii (dicom_series_path,segmentation_path):\n",
    "\n",
    "    '''\n",
    "    simply loading dicoms into a fresh scene \n",
    "    '''\n",
    "    \n",
    "    \n",
    "    # # Clear scene\n",
    "    slicer.mrmlScene.Clear(False)\n",
    "\n",
    "    print(dicom_series_path)\n",
    "    print(segmentation_path)\n",
    "    \n",
    "    ##load dicom \n",
    "    loadedNodeIDs = []\n",
    "    with DICOMUtils.TemporaryDICOMDatabase() as db:\n",
    "        DICOMUtils.importDicom(os.path.abspath(dicom_series_path), db)\n",
    "        patientUIDs = db.patients()\n",
    "    \n",
    "        print (patientUIDs)\n",
    "        for patientUID in patientUIDs:\n",
    "            loadedNodeIDs.extend(DICOMUtils.loadPatientByUID(patientUID))\n",
    "\n",
    "\n",
    "\n",
    "    '''\n",
    "    loading the segmentations into appropriate substructuresz \n",
    "    \n",
    "    '''\n",
    "\n",
    "    maxillaryTeethNode = slicer.mrmlScene.AddNewNodeByClass(\"vtkMRMLSegmentationNode\")\n",
    "    maxillaryTeethNode.CreateDefaultDisplayNodes()\n",
    "    maxillaryTeethNode.SetName (\"maxillaryTeethNode\")\n",
    "    \n",
    "    \n",
    "    ## creating segmentation nodes\n",
    "    segmentationNodes = {} \n",
    "\n",
    "\n",
    "    ## importing stls \n",
    "    nodes = []\n",
    "    node_names = []\n",
    "    for seg in os.listdir(segmentation_path):\n",
    "        if ((\".stl\" in seg or \".obj\" in seg) and \"pulp\" not in seg ):\n",
    "            mesh_path = f\"{segmentation_path}/{seg}\"\n",
    "            class_name = get_model_class_from_file(seg)\n",
    "\n",
    "            if class_name.strip(\"tooth_\") in maxillary_teeth_lables:\n",
    "                slicer.modules.segmentations.logic().ImportModelToSegmentationNode(slicer.util.loadModel(mesh_path), maxillaryTeethNode)\n",
    "\n",
    "            if class_name in lable_map:\n",
    "\n",
    "                segmentationNode = slicer.mrmlScene.AddNewNodeByClass(\"vtkMRMLSegmentationNode\")\n",
    "                segmentationNode.CreateDefaultDisplayNodes()\n",
    "                segmentationNodes [class_name] = segmentationNode\n",
    "                \n",
    "                slicer.modules.segmentations.logic().ImportModelToSegmentationNode(slicer.util.loadModel(mesh_path), segmentationNode)\n",
    "\n",
    "    if (len(segmentationNodes) <1):   \n",
    "        print (\"too few of desired class in this case. this case will be skipped\")\n",
    "        return;\n",
    "\n",
    "    referenceVolumeNode = slicer.mrmlScene.GetNodeByID(\"vtkMRMLScalarVolumeNode1\")\n",
    "\n",
    "    segmentation_lable_map = convert_to_nnunet_lable_tooth(segmentationNodes,referenceVolumeNode)\n",
    "    input_volume_map = convert_to_nnunet_lable_macro_structure(maxillaryTeethNode,referenceVolumeNode)\n",
    "\n",
    "    cropped_input_volume_map, cropped_segmentation_lable_map= crop_vol_and_mask_to_ROI (input_volume_map,referenceVolumeNode,segmentation_lable_map)\n",
    "\n",
    "    caseID = dicom_series_path.split(\"\\\\\")[-1].split(\"_\")[0]\n",
    "    volume_save_path = f\"{nii_path_volumes}/{caseID}_input.nii.gz\"\n",
    "    seg_save_path =  f\"{nii_path_segmentations}/{caseID}_seg.nii.gz\"\n",
    "\n",
    "    slicer.util.exportNode(cropped_input_volume_map, volume_save_path , {\"useCompression\": 0})\n",
    "    slicer.util.exportNode(cropped_segmentation_lable_map, seg_save_path , {\"useCompression\": 0})\n",
    "\n",
    "    print (\"one case sucessfully converted\")\n",
    "     \n",
    "\n",
    "\n",
    "        "
   ]
  },
  {
   "cell_type": "code",
   "execution_count": 15,
   "id": "7e4afd5c-a0cf-41b2-98e8-f497f8a7e4ef",
   "metadata": {},
   "outputs": [],
   "source": [
    "def batch_nii_convert (in_case_files):\n",
    "\n",
    "    for case in tqdm(in_case_files):\n",
    "        try:\n",
    "            convert_single_case_to_nii (case[\"vol\"],case[\"seg\"])\n",
    "        except:\n",
    "            print (f\"somthing is wrong with case {case} probably a missing segmentation\")\n",
    "    print (\"done converting all cases to nii\")\n",
    "    "
   ]
  },
  {
   "cell_type": "code",
   "execution_count": 16,
   "id": "78215f33-47f9-4dab-aa75-45268bbb3771",
   "metadata": {},
   "outputs": [
    {
     "name": "stderr",
     "output_type": "stream",
     "text": [
      "  0%|          | 0/238 [00:00<?, ?it/s]"
     ]
    },
    {
     "name": "stdout",
     "output_type": "stream",
     "text": [
      "./temp_unzip\\304846_volumes\n",
      "./temp_unzip\\304846_segmentations\n",
      "('1',)\n",
      "304846_tooth_11_(us_8)\n",
      "one case sucessfully converted\n"
     ]
    },
    {
     "name": "stderr",
     "output_type": "stream",
     "text": [
      "  0%|          | 1/238 [02:03<8:08:57, 123.79s/it]"
     ]
    },
    {
     "name": "stdout",
     "output_type": "stream",
     "text": [
      "./temp_unzip\\315920_volumes\n",
      "./temp_unzip\\315920_segmentations\n",
      "('1',)\n",
      "315920_tooth_11_(us_1)\n",
      "one case sucessfully converted\n"
     ]
    },
    {
     "name": "stderr",
     "output_type": "stream",
     "text": [
      "  1%|          | 2/238 [03:31<6:42:42, 102.38s/it]"
     ]
    },
    {
     "name": "stdout",
     "output_type": "stream",
     "text": [
      "./temp_unzip\\317681_volumes\n",
      "./temp_unzip\\317681_segmentations\n",
      "('1',)\n",
      "317681_tooth_11_(us_1)\n",
      "one case sucessfully converted\n"
     ]
    },
    {
     "name": "stderr",
     "output_type": "stream",
     "text": [
      "  1%|1         | 3/238 [04:55<6:08:00, 93.96s/it] "
     ]
    },
    {
     "name": "stdout",
     "output_type": "stream",
     "text": [
      "./temp_unzip\\318908_volumes\n",
      "./temp_unzip\\318908_segmentations\n",
      "('1',)\n",
      "318908_tooth_11_(us_1)\n",
      "one case sucessfully converted\n"
     ]
    },
    {
     "name": "stderr",
     "output_type": "stream",
     "text": [
      "  2%|1         | 4/238 [06:21<5:54:13, 90.83s/it]"
     ]
    },
    {
     "name": "stdout",
     "output_type": "stream",
     "text": [
      "./temp_unzip\\321497_volumes\n",
      "./temp_unzip\\321497_segmentations\n",
      "('1',)\n",
      "321497_tooth_11_(us_1)\n",
      "one case sucessfully converted\n"
     ]
    },
    {
     "name": "stderr",
     "output_type": "stream",
     "text": [
      "  2%|2         | 5/238 [08:01<6:06:05, 94.27s/it]"
     ]
    },
    {
     "name": "stdout",
     "output_type": "stream",
     "text": [
      "./temp_unzip\\333654_volumes\n",
      "./temp_unzip\\333654_segmentations\n",
      "('1',)\n",
      "333654_tooth_11_(us_1)\n",
      "one case sucessfully converted\n"
     ]
    },
    {
     "name": "stderr",
     "output_type": "stream",
     "text": [
      "  3%|2         | 6/238 [09:45<6:17:33, 97.64s/it]"
     ]
    },
    {
     "name": "stdout",
     "output_type": "stream",
     "text": [
      "./temp_unzip\\334691_volumes\n",
      "./temp_unzip\\334691_segmentations\n",
      "('1',)\n",
      "334691_tooth_11_(us_1)\n",
      "one case sucessfully converted\n"
     ]
    },
    {
     "name": "stderr",
     "output_type": "stream",
     "text": [
      "  3%|2         | 7/238 [11:45<6:43:28, 104.80s/it]"
     ]
    },
    {
     "name": "stdout",
     "output_type": "stream",
     "text": [
      "./temp_unzip\\337186_volumes\n",
      "./temp_unzip\\337186_segmentations\n",
      "('1',)\n",
      "337186_tooth_11_(us_1)\n",
      "one case sucessfully converted\n"
     ]
    },
    {
     "name": "stderr",
     "output_type": "stream",
     "text": [
      "  3%|3         | 8/238 [13:04<6:10:15, 96.59s/it] "
     ]
    },
    {
     "name": "stdout",
     "output_type": "stream",
     "text": [
      "./temp_unzip\\342104_volumes\n",
      "./temp_unzip\\342104_segmentations\n",
      "('1',)\n",
      "342104_tooth_11_(us_1)\n",
      "one case sucessfully converted\n"
     ]
    },
    {
     "name": "stderr",
     "output_type": "stream",
     "text": [
      "  4%|3         | 9/238 [14:40<6:08:23, 96.52s/it]"
     ]
    },
    {
     "name": "stdout",
     "output_type": "stream",
     "text": [
      "./temp_unzip\\342835_volumes\n",
      "./temp_unzip\\342835_segmentations\n",
      "('1',)\n",
      "342835_tooth_11_(us_1)\n",
      "one case sucessfully converted\n"
     ]
    },
    {
     "name": "stderr",
     "output_type": "stream",
     "text": [
      "  4%|4         | 10/238 [16:09<5:57:25, 94.06s/it]"
     ]
    },
    {
     "name": "stdout",
     "output_type": "stream",
     "text": [
      "./temp_unzip\\343403_volumes\n",
      "./temp_unzip\\343403_segmentations\n",
      "('1',)\n",
      "343403_tooth_11_(us_1)\n",
      "one case sucessfully converted\n"
     ]
    },
    {
     "name": "stderr",
     "output_type": "stream",
     "text": [
      "  5%|4         | 11/238 [17:24<5:34:10, 88.33s/it]"
     ]
    },
    {
     "name": "stdout",
     "output_type": "stream",
     "text": [
      "./temp_unzip\\343418_volumes\n",
      "./temp_unzip\\343418_segmentations\n",
      "('1',)\n",
      "343418_tooth_11_(us_1)\n",
      "one case sucessfully converted\n"
     ]
    },
    {
     "name": "stderr",
     "output_type": "stream",
     "text": [
      "  5%|5         | 12/238 [18:40<5:18:42, 84.61s/it]"
     ]
    },
    {
     "name": "stdout",
     "output_type": "stream",
     "text": [
      "./temp_unzip\\344607_volumes\n",
      "./temp_unzip\\344607_segmentations\n",
      "('1',)\n",
      "344607_tooth_11_(us_1)\n",
      "one case sucessfully converted\n"
     ]
    },
    {
     "name": "stderr",
     "output_type": "stream",
     "text": [
      "  5%|5         | 13/238 [20:20<5:34:12, 89.12s/it]"
     ]
    },
    {
     "name": "stdout",
     "output_type": "stream",
     "text": [
      "./temp_unzip\\344681_volumes\n",
      "./temp_unzip\\344681_segmentations\n",
      "('1',)\n",
      "344681_tooth_11_(us_1)\n",
      "one case sucessfully converted\n"
     ]
    },
    {
     "name": "stderr",
     "output_type": "stream",
     "text": [
      "  6%|5         | 14/238 [22:52<6:43:47, 108.16s/it]"
     ]
    },
    {
     "name": "stdout",
     "output_type": "stream",
     "text": [
      "./temp_unzip\\344711_volumes\n",
      "./temp_unzip\\344711_segmentations\n",
      "('1',)\n",
      "344711_tooth_11_(us_1)\n",
      "one case sucessfully converted\n"
     ]
    },
    {
     "name": "stderr",
     "output_type": "stream",
     "text": [
      "  6%|6         | 15/238 [23:26<5:19:04, 85.85s/it] "
     ]
    },
    {
     "name": "stdout",
     "output_type": "stream",
     "text": [
      "./temp_unzip\\345532_volumes\n",
      "./temp_unzip\\345532_segmentations\n",
      "('1',)\n",
      "345532_tooth_11_(us_1)\n",
      "one case sucessfully converted\n"
     ]
    },
    {
     "name": "stderr",
     "output_type": "stream",
     "text": [
      "  7%|6         | 16/238 [24:36<5:00:19, 81.17s/it]"
     ]
    },
    {
     "name": "stdout",
     "output_type": "stream",
     "text": [
      "./temp_unzip\\346873_volumes\n",
      "./temp_unzip\\346873_segmentations\n",
      "('1',)\n",
      "346873_tooth_11_(us_1)\n",
      "one case sucessfully converted\n"
     ]
    },
    {
     "name": "stderr",
     "output_type": "stream",
     "text": [
      "  7%|7         | 17/238 [26:00<5:01:27, 81.84s/it]"
     ]
    },
    {
     "name": "stdout",
     "output_type": "stream",
     "text": [
      "./temp_unzip\\347033_volumes\n",
      "./temp_unzip\\347033_segmentations\n",
      "('1',)\n",
      "347033_tooth_11_(us_1)\n",
      "one case sucessfully converted\n"
     ]
    },
    {
     "name": "stderr",
     "output_type": "stream",
     "text": [
      "  8%|7         | 18/238 [27:40<5:20:47, 87.49s/it]"
     ]
    },
    {
     "name": "stdout",
     "output_type": "stream",
     "text": [
      "./temp_unzip\\347103_volumes\n",
      "./temp_unzip\\347103_segmentations\n",
      "('1',)\n",
      "347103_tooth_11_(us_1)\n",
      "one case sucessfully converted\n"
     ]
    },
    {
     "name": "stderr",
     "output_type": "stream",
     "text": [
      "  8%|7         | 19/238 [28:54<5:04:34, 83.44s/it]"
     ]
    },
    {
     "name": "stdout",
     "output_type": "stream",
     "text": [
      "./temp_unzip\\347286_volumes\n",
      "./temp_unzip\\347286_segmentations\n",
      "('1',)\n",
      "347286_tooth_11_(us_1)\n",
      "one case sucessfully converted\n"
     ]
    },
    {
     "name": "stderr",
     "output_type": "stream",
     "text": [
      "  8%|8         | 20/238 [29:53<4:36:14, 76.03s/it]"
     ]
    },
    {
     "name": "stdout",
     "output_type": "stream",
     "text": [
      "./temp_unzip\\349004_volumes\n",
      "./temp_unzip\\349004_segmentations\n",
      "('1',)\n",
      "349004_tooth_11_(us_1)\n",
      "one case sucessfully converted\n"
     ]
    },
    {
     "name": "stderr",
     "output_type": "stream",
     "text": [
      "  9%|8         | 21/238 [31:03<4:27:54, 74.08s/it]"
     ]
    },
    {
     "name": "stdout",
     "output_type": "stream",
     "text": [
      "./temp_unzip\\349272_volumes\n",
      "./temp_unzip\\349272_segmentations\n",
      "('1',)\n",
      "349272_tooth_11_(us_1)\n",
      "one case sucessfully converted\n"
     ]
    },
    {
     "name": "stderr",
     "output_type": "stream",
     "text": [
      "  9%|9         | 22/238 [32:05<4:14:15, 70.63s/it]"
     ]
    },
    {
     "name": "stdout",
     "output_type": "stream",
     "text": [
      "./temp_unzip\\349397_volumes\n",
      "./temp_unzip\\349397_segmentations\n",
      "('1',)\n",
      "349397_tooth_11_(us_1)\n",
      "one case sucessfully converted\n"
     ]
    },
    {
     "name": "stderr",
     "output_type": "stream",
     "text": [
      " 10%|9         | 23/238 [33:33<4:32:06, 75.94s/it]"
     ]
    },
    {
     "name": "stdout",
     "output_type": "stream",
     "text": [
      "./temp_unzip\\349674_volumes\n",
      "./temp_unzip\\349674_segmentations\n",
      "('1',)\n",
      "349674_tooth_11_(us_1)\n",
      "one case sucessfully converted\n"
     ]
    },
    {
     "name": "stderr",
     "output_type": "stream",
     "text": [
      " 10%|#         | 24/238 [35:02<4:44:09, 79.67s/it]"
     ]
    },
    {
     "name": "stdout",
     "output_type": "stream",
     "text": [
      "./temp_unzip\\350189_volumes\n",
      "./temp_unzip\\350189_segmentations\n",
      "('1',)\n",
      "350189_tooth_11_(us_1)\n",
      "one case sucessfully converted\n"
     ]
    },
    {
     "name": "stderr",
     "output_type": "stream",
     "text": [
      " 11%|#         | 25/238 [36:34<4:56:09, 83.42s/it]"
     ]
    },
    {
     "name": "stdout",
     "output_type": "stream",
     "text": [
      "./temp_unzip\\350448_volumes\n",
      "./temp_unzip\\350448_segmentations\n",
      "('1',)\n",
      "350448_tooth_11_(us_1)\n",
      "one case sucessfully converted\n"
     ]
    },
    {
     "name": "stderr",
     "output_type": "stream",
     "text": [
      " 11%|#         | 26/238 [37:52<4:49:20, 81.89s/it]"
     ]
    },
    {
     "name": "stdout",
     "output_type": "stream",
     "text": [
      "./temp_unzip\\352194_volumes\n",
      "./temp_unzip\\352194_segmentations\n",
      "('1',)\n",
      "352194_tooth_11_(us_1)\n",
      "one case sucessfully converted\n"
     ]
    },
    {
     "name": "stderr",
     "output_type": "stream",
     "text": [
      " 11%|#1        | 27/238 [39:03<4:36:27, 78.61s/it]"
     ]
    },
    {
     "name": "stdout",
     "output_type": "stream",
     "text": [
      "./temp_unzip\\352427_volumes\n",
      "./temp_unzip\\352427_segmentations\n",
      "('1',)\n",
      "352427_tooth_11_(us_1)\n",
      "one case sucessfully converted\n"
     ]
    },
    {
     "name": "stderr",
     "output_type": "stream",
     "text": [
      " 12%|#1        | 28/238 [40:35<4:48:54, 82.55s/it]"
     ]
    },
    {
     "name": "stdout",
     "output_type": "stream",
     "text": [
      "./temp_unzip\\353514_volumes\n",
      "./temp_unzip\\353514_segmentations\n",
      "('1',)\n",
      "353514_tooth_11_(us_1)\n",
      "one case sucessfully converted\n"
     ]
    },
    {
     "name": "stderr",
     "output_type": "stream",
     "text": [
      " 12%|#2        | 29/238 [41:32<4:21:08, 74.97s/it]"
     ]
    },
    {
     "name": "stdout",
     "output_type": "stream",
     "text": [
      "./temp_unzip\\354238_volumes\n",
      "./temp_unzip\\354238_segmentations\n",
      "('1',)\n",
      "354238_tooth_11_(us_1)\n",
      "one case sucessfully converted\n"
     ]
    },
    {
     "name": "stderr",
     "output_type": "stream",
     "text": [
      " 13%|#2        | 30/238 [43:33<5:07:54, 88.82s/it]"
     ]
    },
    {
     "name": "stdout",
     "output_type": "stream",
     "text": [
      "./temp_unzip\\355049_volumes\n",
      "./temp_unzip\\355049_segmentations\n",
      "('1',)\n",
      "355049_tooth_11_(us_1)\n",
      "one case sucessfully converted\n"
     ]
    },
    {
     "name": "stderr",
     "output_type": "stream",
     "text": [
      " 13%|#3        | 31/238 [44:30<4:32:40, 79.04s/it]"
     ]
    },
    {
     "name": "stdout",
     "output_type": "stream",
     "text": [
      "./temp_unzip\\355487_volumes\n",
      "./temp_unzip\\355487_segmentations\n",
      "('1',)\n",
      "355487_tooth_11_(us_1)\n",
      "one case sucessfully converted\n"
     ]
    },
    {
     "name": "stderr",
     "output_type": "stream",
     "text": [
      " 13%|#3        | 32/238 [46:18<5:01:47, 87.90s/it]"
     ]
    },
    {
     "name": "stdout",
     "output_type": "stream",
     "text": [
      "./temp_unzip\\355908_volumes\n",
      "./temp_unzip\\355908_segmentations\n",
      "('1',)\n",
      "355908_tooth_11_(us_1)\n",
      "one case sucessfully converted\n"
     ]
    },
    {
     "name": "stderr",
     "output_type": "stream",
     "text": [
      " 14%|#3        | 33/238 [47:44<4:57:56, 87.20s/it]"
     ]
    },
    {
     "name": "stdout",
     "output_type": "stream",
     "text": [
      "./temp_unzip\\356042_volumes\n",
      "./temp_unzip\\356042_segmentations\n",
      "('1',)\n",
      "356042_tooth_11_(us_1)\n",
      "one case sucessfully converted\n"
     ]
    },
    {
     "name": "stderr",
     "output_type": "stream",
     "text": [
      " 14%|#4        | 34/238 [49:47<5:32:51, 97.90s/it]"
     ]
    },
    {
     "name": "stdout",
     "output_type": "stream",
     "text": [
      "./temp_unzip\\357786_volumes\n",
      "./temp_unzip\\357786_segmentations\n",
      "('1',)\n",
      "357786_tooth_11_(us_1)\n",
      "one case sucessfully converted\n"
     ]
    },
    {
     "name": "stderr",
     "output_type": "stream",
     "text": [
      " 15%|#4        | 35/238 [51:24<5:30:39, 97.73s/it]"
     ]
    },
    {
     "name": "stdout",
     "output_type": "stream",
     "text": [
      "./temp_unzip\\362557_volumes\n",
      "./temp_unzip\\362557_segmentations\n",
      "('1',)\n",
      "362557_tooth_11_(us_1)\n",
      "one case sucessfully converted\n"
     ]
    },
    {
     "name": "stderr",
     "output_type": "stream",
     "text": [
      " 15%|#5        | 36/238 [53:10<5:37:42, 100.31s/it]"
     ]
    },
    {
     "name": "stdout",
     "output_type": "stream",
     "text": [
      "./temp_unzip\\362802_volumes\n",
      "./temp_unzip\\362802_segmentations\n",
      "('1',)\n",
      "362802_tooth_11_(us_1)\n",
      "one case sucessfully converted\n"
     ]
    },
    {
     "name": "stderr",
     "output_type": "stream",
     "text": [
      " 16%|#5        | 37/238 [55:07<5:52:14, 105.14s/it]"
     ]
    },
    {
     "name": "stdout",
     "output_type": "stream",
     "text": [
      "./temp_unzip\\365074_volumes\n",
      "./temp_unzip\\365074_segmentations\n",
      "('1',)\n",
      "365074_tooth_11_(us_1)\n",
      "one case sucessfully converted\n"
     ]
    },
    {
     "name": "stderr",
     "output_type": "stream",
     "text": [
      " 16%|#5        | 38/238 [57:28<6:26:31, 115.96s/it]"
     ]
    },
    {
     "name": "stdout",
     "output_type": "stream",
     "text": [
      "./temp_unzip\\367087_volumes\n",
      "./temp_unzip\\367087_segmentations\n",
      "('1',)\n",
      "367087_tooth_11_(us_1)\n",
      "one case sucessfully converted\n"
     ]
    },
    {
     "name": "stderr",
     "output_type": "stream",
     "text": [
      " 16%|#6        | 39/238 [59:29<6:29:14, 117.36s/it]"
     ]
    },
    {
     "name": "stdout",
     "output_type": "stream",
     "text": [
      "./temp_unzip\\368013_volumes\n",
      "./temp_unzip\\368013_segmentations\n",
      "('1',)\n",
      "368013_tooth_11_(us_1)\n",
      "one case sucessfully converted\n"
     ]
    },
    {
     "name": "stderr",
     "output_type": "stream",
     "text": [
      " 17%|#6        | 40/238 [1:01:25<6:26:28, 117.11s/it]"
     ]
    },
    {
     "name": "stdout",
     "output_type": "stream",
     "text": [
      "./temp_unzip\\368395_volumes\n",
      "./temp_unzip\\368395_segmentations\n",
      "('1',)\n",
      "368395_tooth_11_(us_1)\n",
      "one case sucessfully converted\n"
     ]
    },
    {
     "name": "stderr",
     "output_type": "stream",
     "text": [
      " 17%|#7        | 41/238 [1:02:48<5:50:33, 106.77s/it]"
     ]
    },
    {
     "name": "stdout",
     "output_type": "stream",
     "text": [
      "./temp_unzip\\368732_volumes\n",
      "./temp_unzip\\368732_segmentations\n",
      "('1',)\n",
      "368732_tooth_11_(us_1)\n",
      "one case sucessfully converted\n"
     ]
    },
    {
     "name": "stderr",
     "output_type": "stream",
     "text": [
      " 18%|#7        | 42/238 [1:04:42<5:55:48, 108.92s/it]"
     ]
    },
    {
     "name": "stdout",
     "output_type": "stream",
     "text": [
      "./temp_unzip\\369271_volumes\n",
      "./temp_unzip\\369271_segmentations\n",
      "('1',)\n",
      "369271_tooth_11_(us_1)\n",
      "one case sucessfully converted\n"
     ]
    },
    {
     "name": "stderr",
     "output_type": "stream",
     "text": [
      " 18%|#8        | 43/238 [1:06:56<6:18:22, 116.42s/it]"
     ]
    },
    {
     "name": "stdout",
     "output_type": "stream",
     "text": [
      "./temp_unzip\\369473_volumes\n",
      "./temp_unzip\\369473_segmentations\n",
      "('1',)\n",
      "369473_tooth_11_(us_1)\n",
      "one case sucessfully converted\n"
     ]
    },
    {
     "name": "stderr",
     "output_type": "stream",
     "text": [
      " 18%|#8        | 44/238 [1:08:49<6:13:04, 115.38s/it]"
     ]
    },
    {
     "name": "stdout",
     "output_type": "stream",
     "text": [
      "./temp_unzip\\369592_volumes\n",
      "./temp_unzip\\369592_segmentations\n",
      "('1',)\n",
      "369592_tooth_11_(us_1)\n",
      "one case sucessfully converted\n"
     ]
    },
    {
     "name": "stderr",
     "output_type": "stream",
     "text": [
      " 19%|#8        | 45/238 [1:10:08<5:36:23, 104.58s/it]"
     ]
    },
    {
     "name": "stdout",
     "output_type": "stream",
     "text": [
      "./temp_unzip\\369885_volumes\n",
      "./temp_unzip\\369885_segmentations\n",
      "('1',)\n",
      "369885_tooth_11_(us_1)\n",
      "one case sucessfully converted\n"
     ]
    },
    {
     "name": "stderr",
     "output_type": "stream",
     "text": [
      " 19%|#9        | 46/238 [1:12:23<6:03:45, 113.67s/it]"
     ]
    },
    {
     "name": "stdout",
     "output_type": "stream",
     "text": [
      "./temp_unzip\\370299_volumes\n",
      "./temp_unzip\\370299_segmentations\n",
      "('1',)\n",
      "370299_tooth_11_(us_1)\n",
      "one case sucessfully converted\n"
     ]
    },
    {
     "name": "stderr",
     "output_type": "stream",
     "text": [
      " 20%|#9        | 47/238 [1:13:27<5:14:21, 98.75s/it] "
     ]
    },
    {
     "name": "stdout",
     "output_type": "stream",
     "text": [
      "./temp_unzip\\370825_volumes\n",
      "./temp_unzip\\370825_segmentations\n",
      "('1',)\n",
      "370825_tooth_11_(us_1)\n",
      "one case sucessfully converted\n"
     ]
    },
    {
     "name": "stderr",
     "output_type": "stream",
     "text": [
      " 20%|##        | 48/238 [1:14:25<4:34:11, 86.59s/it]"
     ]
    },
    {
     "name": "stdout",
     "output_type": "stream",
     "text": [
      "./temp_unzip\\370876_volumes\n",
      "./temp_unzip\\370876_segmentations\n",
      "('1',)\n",
      "370876_tooth_11_(us_1)\n",
      "one case sucessfully converted\n"
     ]
    },
    {
     "name": "stderr",
     "output_type": "stream",
     "text": [
      " 21%|##        | 49/238 [1:15:03<3:47:10, 72.12s/it]"
     ]
    },
    {
     "name": "stdout",
     "output_type": "stream",
     "text": [
      "./temp_unzip\\371380_volumes\n",
      "./temp_unzip\\371380_segmentations\n",
      "('1',)\n",
      "371380_tooth_11_(us_1)\n",
      "one case sucessfully converted\n"
     ]
    },
    {
     "name": "stderr",
     "output_type": "stream",
     "text": [
      " 21%|##1       | 50/238 [1:16:07<3:38:02, 69.59s/it]"
     ]
    },
    {
     "name": "stdout",
     "output_type": "stream",
     "text": [
      "./temp_unzip\\371694_volumes\n",
      "./temp_unzip\\371694_segmentations\n",
      "('1',)\n",
      "371694_tooth_11_(us_1)\n",
      "one case sucessfully converted\n"
     ]
    },
    {
     "name": "stderr",
     "output_type": "stream",
     "text": [
      " 21%|##1       | 51/238 [1:17:16<3:36:09, 69.36s/it]"
     ]
    },
    {
     "name": "stdout",
     "output_type": "stream",
     "text": [
      "./temp_unzip\\371741_volumes\n",
      "./temp_unzip\\371741_segmentations\n",
      "('1',)\n",
      "371741_tooth_11_(us_1)\n",
      "one case sucessfully converted\n"
     ]
    },
    {
     "name": "stderr",
     "output_type": "stream",
     "text": [
      " 22%|##1       | 52/238 [1:19:01<4:07:55, 79.98s/it]"
     ]
    },
    {
     "name": "stdout",
     "output_type": "stream",
     "text": [
      "./temp_unzip\\371965_volumes\n",
      "./temp_unzip\\371965_segmentations\n",
      "('1',)\n",
      "371965_tooth_11_(us_1)\n",
      "one case sucessfully converted\n"
     ]
    },
    {
     "name": "stderr",
     "output_type": "stream",
     "text": [
      " 22%|##2       | 53/238 [1:21:11<4:53:28, 95.18s/it]"
     ]
    },
    {
     "name": "stdout",
     "output_type": "stream",
     "text": [
      "./temp_unzip\\372053_volumes\n",
      "./temp_unzip\\372053_segmentations\n",
      "('1',)\n",
      "372053_tooth_11_(us_1)\n",
      "one case sucessfully converted\n"
     ]
    },
    {
     "name": "stderr",
     "output_type": "stream",
     "text": [
      " 23%|##2       | 54/238 [1:22:53<4:58:00, 97.18s/it]"
     ]
    },
    {
     "name": "stdout",
     "output_type": "stream",
     "text": [
      "./temp_unzip\\372279_volumes\n",
      "./temp_unzip\\372279_segmentations\n",
      "('1',)\n",
      "372279_tooth_11_(us_1)\n",
      "one case sucessfully converted\n"
     ]
    },
    {
     "name": "stderr",
     "output_type": "stream",
     "text": [
      " 23%|##3       | 55/238 [1:23:43<4:13:09, 83.00s/it]"
     ]
    },
    {
     "name": "stdout",
     "output_type": "stream",
     "text": [
      "./temp_unzip\\372516_volumes\n",
      "./temp_unzip\\372516_segmentations\n",
      "('1',)\n",
      "372516_tooth_11_(us_1)\n",
      "one case sucessfully converted\n"
     ]
    },
    {
     "name": "stderr",
     "output_type": "stream",
     "text": [
      " 24%|##3       | 56/238 [1:24:30<3:38:33, 72.05s/it]"
     ]
    },
    {
     "name": "stdout",
     "output_type": "stream",
     "text": [
      "./temp_unzip\\372655_volumes\n",
      "./temp_unzip\\372655_segmentations\n",
      "('1',)\n",
      "372655_tooth_11_(us_1)\n",
      "one case sucessfully converted\n"
     ]
    },
    {
     "name": "stderr",
     "output_type": "stream",
     "text": [
      " 24%|##3       | 57/238 [1:25:34<3:30:26, 69.76s/it]"
     ]
    },
    {
     "name": "stdout",
     "output_type": "stream",
     "text": [
      "./temp_unzip\\372710_volumes\n",
      "./temp_unzip\\372710_segmentations\n",
      "('1',)\n",
      "372710_tooth_11_(us_1)\n",
      "one case sucessfully converted\n"
     ]
    },
    {
     "name": "stderr",
     "output_type": "stream",
     "text": [
      " 24%|##4       | 58/238 [1:26:39<3:25:26, 68.48s/it]"
     ]
    },
    {
     "name": "stdout",
     "output_type": "stream",
     "text": [
      "./temp_unzip\\372826_volumes\n",
      "./temp_unzip\\372826_segmentations\n",
      "('1',)\n",
      "372826_tooth_11_(us_1)\n",
      "one case sucessfully converted\n"
     ]
    },
    {
     "name": "stderr",
     "output_type": "stream",
     "text": [
      " 25%|##4       | 59/238 [1:28:24<3:56:16, 79.20s/it]"
     ]
    },
    {
     "name": "stdout",
     "output_type": "stream",
     "text": [
      "./temp_unzip\\373269_volumes\n",
      "./temp_unzip\\373269_segmentations\n",
      "('1',)\n",
      "373269_tooth_11_(us_1)\n",
      "one case sucessfully converted\n"
     ]
    },
    {
     "name": "stderr",
     "output_type": "stream",
     "text": [
      " 25%|##5       | 60/238 [1:30:05<4:14:44, 85.87s/it]"
     ]
    },
    {
     "name": "stdout",
     "output_type": "stream",
     "text": [
      "./temp_unzip\\373493_volumes\n",
      "./temp_unzip\\373493_segmentations\n",
      "('1',)\n",
      "373493_tooth_11_(us_1)\n",
      "one case sucessfully converted\n"
     ]
    },
    {
     "name": "stderr",
     "output_type": "stream",
     "text": [
      " 26%|##5       | 61/238 [1:31:57<4:36:13, 93.64s/it]"
     ]
    },
    {
     "name": "stdout",
     "output_type": "stream",
     "text": [
      "./temp_unzip\\375521_volumes\n",
      "./temp_unzip\\375521_segmentations\n",
      "('1',)\n",
      "375521_tooth_11_(us_1)\n",
      "one case sucessfully converted\n"
     ]
    },
    {
     "name": "stderr",
     "output_type": "stream",
     "text": [
      " 26%|##6       | 62/238 [1:32:51<3:59:50, 81.77s/it]"
     ]
    },
    {
     "name": "stdout",
     "output_type": "stream",
     "text": [
      "./temp_unzip\\378479_volumes\n",
      "./temp_unzip\\378479_segmentations\n",
      "('1',)\n",
      "378479_tooth_11_(us_8)\n",
      "one case sucessfully converted\n"
     ]
    },
    {
     "name": "stderr",
     "output_type": "stream",
     "text": [
      " 26%|##6       | 63/238 [1:34:29<4:12:52, 86.70s/it]"
     ]
    },
    {
     "name": "stdout",
     "output_type": "stream",
     "text": [
      "./temp_unzip\\381586_volumes\n",
      "./temp_unzip\\381586_segmentations\n",
      "('1',)\n",
      "381586_tooth_11_(us_8)\n",
      "one case sucessfully converted\n"
     ]
    },
    {
     "name": "stderr",
     "output_type": "stream",
     "text": [
      " 27%|##6       | 64/238 [1:36:21<4:33:35, 94.34s/it]"
     ]
    },
    {
     "name": "stdout",
     "output_type": "stream",
     "text": [
      "./temp_unzip\\382667_volumes\n",
      "./temp_unzip\\382667_segmentations\n",
      "('1',)\n",
      "382667_tooth_11_(us_8)\n",
      "one case sucessfully converted\n"
     ]
    },
    {
     "name": "stderr",
     "output_type": "stream",
     "text": [
      " 27%|##7       | 65/238 [1:37:44<4:22:20, 90.99s/it]"
     ]
    },
    {
     "name": "stdout",
     "output_type": "stream",
     "text": [
      "./temp_unzip\\382878_volumes\n",
      "./temp_unzip\\382878_segmentations\n",
      "('1',)\n",
      "382878_tooth_11_(us_8)\n",
      "one case sucessfully converted\n"
     ]
    },
    {
     "name": "stderr",
     "output_type": "stream",
     "text": [
      " 28%|##7       | 66/238 [1:39:26<4:29:41, 94.08s/it]"
     ]
    },
    {
     "name": "stdout",
     "output_type": "stream",
     "text": [
      "./temp_unzip\\387591_volumes\n",
      "./temp_unzip\\387591_segmentations\n",
      "('1',)\n",
      "387591_tooth_11_(us_8)\n",
      "one case sucessfully converted\n"
     ]
    },
    {
     "name": "stderr",
     "output_type": "stream",
     "text": [
      " 28%|##8       | 67/238 [1:40:31<4:03:28, 85.43s/it]"
     ]
    },
    {
     "name": "stdout",
     "output_type": "stream",
     "text": [
      "./temp_unzip\\392904_volumes\n",
      "./temp_unzip\\392904_segmentations\n",
      "('1',)\n",
      "392904_tooth_11_(us_8)\n",
      "one case sucessfully converted\n"
     ]
    },
    {
     "name": "stderr",
     "output_type": "stream",
     "text": [
      " 29%|##8       | 68/238 [1:42:01<4:05:43, 86.72s/it]"
     ]
    },
    {
     "name": "stdout",
     "output_type": "stream",
     "text": [
      "./temp_unzip\\398803_volumes\n",
      "./temp_unzip\\398803_segmentations\n",
      "('1',)\n",
      "398803_tooth_11_(us_8)\n",
      "one case sucessfully converted\n"
     ]
    },
    {
     "name": "stderr",
     "output_type": "stream",
     "text": [
      " 29%|##8       | 69/238 [1:43:14<3:52:48, 82.65s/it]"
     ]
    },
    {
     "name": "stdout",
     "output_type": "stream",
     "text": [
      "./temp_unzip\\401601_volumes\n",
      "./temp_unzip\\401601_segmentations\n",
      "('1',)\n",
      "401601_tooth_11_(us_8)\n",
      "one case sucessfully converted\n"
     ]
    },
    {
     "name": "stderr",
     "output_type": "stream",
     "text": [
      " 29%|##9       | 70/238 [1:44:19<3:36:31, 77.33s/it]"
     ]
    },
    {
     "name": "stdout",
     "output_type": "stream",
     "text": [
      "./temp_unzip\\407108_volumes\n",
      "./temp_unzip\\407108_segmentations\n",
      "('1',)\n",
      "407108_tooth_11_(us_8)\n",
      "one case sucessfully converted\n"
     ]
    },
    {
     "name": "stderr",
     "output_type": "stream",
     "text": [
      " 30%|##9       | 71/238 [1:45:33<3:32:28, 76.34s/it]"
     ]
    },
    {
     "name": "stdout",
     "output_type": "stream",
     "text": [
      "./temp_unzip\\410445_volumes\n",
      "./temp_unzip\\410445_segmentations\n",
      "('1',)\n",
      "410445P524445_1140185638-cbct-tooth-27_decimated\n",
      "one case sucessfully converted\n"
     ]
    },
    {
     "name": "stderr",
     "output_type": "stream",
     "text": [
      " 30%|###       | 72/238 [1:45:53<2:44:11, 59.35s/it]"
     ]
    },
    {
     "name": "stdout",
     "output_type": "stream",
     "text": [
      "./temp_unzip\\415284_volumes\n",
      "./temp_unzip\\415284_segmentations\n",
      "('1',)\n",
      "415284_tooth_11_(us_8)\n",
      "one case sucessfully converted\n"
     ]
    },
    {
     "name": "stderr",
     "output_type": "stream",
     "text": [
      " 31%|###       | 73/238 [1:46:16<2:13:20, 48.49s/it]"
     ]
    },
    {
     "name": "stdout",
     "output_type": "stream",
     "text": [
      "./temp_unzip\\416237_volumes\n",
      "./temp_unzip\\416237_segmentations\n",
      "('1',)\n",
      "416237_tooth_11_(us_8)\n",
      "one case sucessfully converted\n"
     ]
    },
    {
     "name": "stderr",
     "output_type": "stream",
     "text": [
      " 31%|###1      | 74/238 [1:47:13<2:19:53, 51.18s/it]"
     ]
    },
    {
     "name": "stdout",
     "output_type": "stream",
     "text": [
      "./temp_unzip\\416584_volumes\n",
      "./temp_unzip\\416584_segmentations\n",
      "('1',)\n",
      "416584_tooth_11_(us_8)\n",
      "one case sucessfully converted\n"
     ]
    },
    {
     "name": "stderr",
     "output_type": "stream",
     "text": [
      " 32%|###1      | 75/238 [1:48:45<2:52:04, 63.34s/it]"
     ]
    },
    {
     "name": "stdout",
     "output_type": "stream",
     "text": [
      "./temp_unzip\\417849_volumes\n",
      "./temp_unzip\\417849_segmentations\n",
      "('1',)\n",
      "417849_tooth_11_(us_8)\n",
      "one case sucessfully converted\n"
     ]
    },
    {
     "name": "stderr",
     "output_type": "stream",
     "text": [
      " 32%|###1      | 76/238 [1:49:28<2:34:31, 57.23s/it]"
     ]
    },
    {
     "name": "stdout",
     "output_type": "stream",
     "text": [
      "./temp_unzip\\418681_volumes\n",
      "./temp_unzip\\418681_segmentations\n",
      "('1',)\n",
      "418681_tooth_11_(us_8)\n",
      "one case sucessfully converted\n"
     ]
    },
    {
     "name": "stderr",
     "output_type": "stream",
     "text": [
      " 32%|###2      | 77/238 [1:50:45<2:49:56, 63.33s/it]"
     ]
    },
    {
     "name": "stdout",
     "output_type": "stream",
     "text": [
      "./temp_unzip\\418692_volumes\n",
      "./temp_unzip\\418692_segmentations\n",
      "('1',)\n",
      "418692_tooth_11_(us_8)\n",
      "one case sucessfully converted\n"
     ]
    },
    {
     "name": "stderr",
     "output_type": "stream",
     "text": [
      " 33%|###2      | 78/238 [1:51:51<2:50:24, 63.90s/it]"
     ]
    },
    {
     "name": "stdout",
     "output_type": "stream",
     "text": [
      "./temp_unzip\\419518_volumes\n",
      "./temp_unzip\\419518_segmentations\n",
      "('1',)\n",
      "419518_tooth_11_(us_8)\n",
      "one case sucessfully converted\n"
     ]
    },
    {
     "name": "stderr",
     "output_type": "stream",
     "text": [
      " 33%|###3      | 79/238 [1:52:45<2:42:03, 61.15s/it]"
     ]
    },
    {
     "name": "stdout",
     "output_type": "stream",
     "text": [
      "./temp_unzip\\419787_volumes\n",
      "./temp_unzip\\419787_segmentations\n",
      "('1',)\n",
      "419787_tooth_11_(us_8)\n",
      "one case sucessfully converted\n"
     ]
    },
    {
     "name": "stderr",
     "output_type": "stream",
     "text": [
      " 34%|###3      | 80/238 [1:53:43<2:38:25, 60.16s/it]"
     ]
    },
    {
     "name": "stdout",
     "output_type": "stream",
     "text": [
      "./temp_unzip\\420714_volumes\n",
      "./temp_unzip\\420714_segmentations\n",
      "('1',)\n",
      "420714_tooth_11_(us_8)\n",
      "one case sucessfully converted\n"
     ]
    },
    {
     "name": "stderr",
     "output_type": "stream",
     "text": [
      " 34%|###4      | 81/238 [1:54:50<2:42:36, 62.14s/it]"
     ]
    },
    {
     "name": "stdout",
     "output_type": "stream",
     "text": [
      "./temp_unzip\\421955_volumes\n",
      "./temp_unzip\\421955_segmentations\n",
      "('1',)\n",
      "421955_tooth_11_(us_8)\n",
      "one case sucessfully converted\n"
     ]
    },
    {
     "name": "stderr",
     "output_type": "stream",
     "text": [
      " 34%|###4      | 82/238 [1:55:54<2:42:42, 62.58s/it]"
     ]
    },
    {
     "name": "stdout",
     "output_type": "stream",
     "text": [
      "./temp_unzip\\422507_volumes\n",
      "./temp_unzip\\422507_segmentations\n",
      "('1',)\n",
      "422507_tooth_11_(us_8)\n",
      "one case sucessfully converted\n"
     ]
    },
    {
     "name": "stderr",
     "output_type": "stream",
     "text": [
      " 35%|###4      | 83/238 [1:57:09<2:51:43, 66.48s/it]"
     ]
    },
    {
     "name": "stdout",
     "output_type": "stream",
     "text": [
      "./temp_unzip\\422589_volumes\n",
      "./temp_unzip\\422589_segmentations\n",
      "('1',)\n",
      "422589_tooth_11_(us_8)\n",
      "one case sucessfully converted\n"
     ]
    },
    {
     "name": "stderr",
     "output_type": "stream",
     "text": [
      " 35%|###5      | 84/238 [1:58:08<2:44:49, 64.22s/it]"
     ]
    },
    {
     "name": "stdout",
     "output_type": "stream",
     "text": [
      "./temp_unzip\\424022_volumes\n",
      "./temp_unzip\\424022_segmentations\n",
      "('1',)\n",
      "424022_tooth_11_(us_8)\n",
      "one case sucessfully converted\n"
     ]
    },
    {
     "name": "stderr",
     "output_type": "stream",
     "text": [
      " 36%|###5      | 85/238 [1:58:59<2:33:41, 60.27s/it]"
     ]
    },
    {
     "name": "stdout",
     "output_type": "stream",
     "text": [
      "./temp_unzip\\424141_volumes\n",
      "./temp_unzip\\424141_segmentations\n",
      "('1',)\n",
      "424141_tooth_11_(us_8)\n",
      "one case sucessfully converted\n"
     ]
    },
    {
     "name": "stderr",
     "output_type": "stream",
     "text": [
      " 36%|###6      | 86/238 [2:00:06<2:37:54, 62.33s/it]"
     ]
    },
    {
     "name": "stdout",
     "output_type": "stream",
     "text": [
      "./temp_unzip\\424280_volumes\n",
      "./temp_unzip\\424280_segmentations\n",
      "('1',)\n",
      "424280_tooth_11_(us_8)\n",
      "one case sucessfully converted\n"
     ]
    },
    {
     "name": "stderr",
     "output_type": "stream",
     "text": [
      " 37%|###6      | 87/238 [2:01:02<2:31:49, 60.33s/it]"
     ]
    },
    {
     "name": "stdout",
     "output_type": "stream",
     "text": [
      "./temp_unzip\\424914_volumes\n",
      "./temp_unzip\\424914_segmentations\n",
      "('1',)\n",
      "424914_tooth_11_(us_8)\n",
      "one case sucessfully converted\n"
     ]
    },
    {
     "name": "stderr",
     "output_type": "stream",
     "text": [
      " 37%|###6      | 88/238 [2:02:21<2:44:32, 65.82s/it]"
     ]
    },
    {
     "name": "stdout",
     "output_type": "stream",
     "text": [
      "./temp_unzip\\426171_volumes\n",
      "./temp_unzip\\426171_segmentations\n",
      "('1',)\n",
      "426171_tooth_16_(us_3)\n",
      "one case sucessfully converted\n"
     ]
    },
    {
     "name": "stderr",
     "output_type": "stream",
     "text": [
      " 37%|###7      | 89/238 [2:02:45<2:12:37, 53.41s/it]"
     ]
    },
    {
     "name": "stdout",
     "output_type": "stream",
     "text": [
      "./temp_unzip\\426190_volumes\n",
      "./temp_unzip\\426190_segmentations\n",
      "('1',)\n",
      "426190_tooth_11_(us_8)\n",
      "one case sucessfully converted\n"
     ]
    },
    {
     "name": "stderr",
     "output_type": "stream",
     "text": [
      " 38%|###7      | 90/238 [2:03:41<2:13:18, 54.04s/it]"
     ]
    },
    {
     "name": "stdout",
     "output_type": "stream",
     "text": [
      "./temp_unzip\\426241_volumes\n",
      "./temp_unzip\\426241_segmentations\n",
      "('1',)\n",
      "426241_tooth_11_(us_8)\n",
      "one case sucessfully converted\n"
     ]
    },
    {
     "name": "stderr",
     "output_type": "stream",
     "text": [
      " 38%|###8      | 91/238 [2:04:34<2:12:17, 53.99s/it]"
     ]
    },
    {
     "name": "stdout",
     "output_type": "stream",
     "text": [
      "./temp_unzip\\428416_volumes\n",
      "./temp_unzip\\428416_segmentations\n",
      "('1',)\n",
      "428416_tooth_16_(us_3)\n",
      "one case sucessfully converted\n"
     ]
    },
    {
     "name": "stderr",
     "output_type": "stream",
     "text": [
      " 39%|###8      | 92/238 [2:06:02<2:35:56, 64.09s/it]"
     ]
    },
    {
     "name": "stdout",
     "output_type": "stream",
     "text": [
      "./temp_unzip\\428787_volumes\n",
      "./temp_unzip\\428787_segmentations\n",
      "('1',)\n",
      "428787_tooth_11_(us_8)\n",
      "one case sucessfully converted\n"
     ]
    },
    {
     "name": "stderr",
     "output_type": "stream",
     "text": [
      " 39%|###9      | 93/238 [2:07:22<2:46:03, 68.71s/it]"
     ]
    },
    {
     "name": "stdout",
     "output_type": "stream",
     "text": [
      "./temp_unzip\\429826_volumes\n",
      "./temp_unzip\\429826_segmentations\n",
      "('1',)\n",
      "429826_tooth_11_(us_8)\n",
      "one case sucessfully converted\n"
     ]
    },
    {
     "name": "stderr",
     "output_type": "stream",
     "text": [
      " 39%|###9      | 94/238 [2:07:54<2:18:37, 57.76s/it]"
     ]
    },
    {
     "name": "stdout",
     "output_type": "stream",
     "text": [
      "./temp_unzip\\435750_volumes\n",
      "./temp_unzip\\435750_segmentations\n",
      "('1',)\n",
      "435750_tooth_11_(us_8)\n",
      "one case sucessfully converted\n"
     ]
    },
    {
     "name": "stderr",
     "output_type": "stream",
     "text": [
      " 40%|###9      | 95/238 [2:08:54<2:19:25, 58.50s/it]"
     ]
    },
    {
     "name": "stdout",
     "output_type": "stream",
     "text": [
      "./temp_unzip\\438336_volumes\n",
      "./temp_unzip\\438336_segmentations\n",
      "('1',)\n",
      "438336_tooth_11_(us_8)\n",
      "one case sucessfully converted\n"
     ]
    },
    {
     "name": "stderr",
     "output_type": "stream",
     "text": [
      " 40%|####      | 96/238 [2:10:21<2:38:47, 67.09s/it]"
     ]
    },
    {
     "name": "stdout",
     "output_type": "stream",
     "text": [
      "./temp_unzip\\440986_volumes\n",
      "./temp_unzip\\440986_segmentations\n",
      "('1',)\n",
      "440986_tooth_11_(us_8)\n",
      "one case sucessfully converted\n"
     ]
    },
    {
     "name": "stderr",
     "output_type": "stream",
     "text": [
      " 41%|####      | 97/238 [2:11:24<2:34:38, 65.80s/it]"
     ]
    },
    {
     "name": "stdout",
     "output_type": "stream",
     "text": [
      "./temp_unzip\\449953_volumes\n",
      "./temp_unzip\\449953_segmentations\n",
      "('1',)\n",
      "449953_tooth_11_(us_8)\n",
      "one case sucessfully converted\n"
     ]
    },
    {
     "name": "stderr",
     "output_type": "stream",
     "text": [
      " 41%|####1     | 98/238 [2:12:25<2:30:02, 64.31s/it]"
     ]
    },
    {
     "name": "stdout",
     "output_type": "stream",
     "text": [
      "./temp_unzip\\456331_volumes\n",
      "./temp_unzip\\456331_segmentations\n",
      "('1',)\n",
      "456331_tooth_13_(us_6)\n",
      "one case sucessfully converted\n"
     ]
    },
    {
     "name": "stderr",
     "output_type": "stream",
     "text": [
      " 42%|####1     | 99/238 [2:13:00<2:08:55, 55.65s/it]"
     ]
    },
    {
     "name": "stdout",
     "output_type": "stream",
     "text": [
      "./temp_unzip\\468278_volumes\n",
      "./temp_unzip\\468278_segmentations\n",
      "('1',)\n",
      "468278P524743_468278_3115021734-cbct-tooth-26_decimated\n",
      "one case sucessfully converted\n"
     ]
    },
    {
     "name": "stderr",
     "output_type": "stream",
     "text": [
      " 42%|####2     | 100/238 [2:13:16<1:40:27, 43.68s/it]"
     ]
    },
    {
     "name": "stdout",
     "output_type": "stream",
     "text": [
      "./temp_unzip\\471489_volumes\n",
      "./temp_unzip\\471489_segmentations\n",
      "('1',)\n",
      "471489_tooth_11_(us_8)\n",
      "one case sucessfully converted\n"
     ]
    },
    {
     "name": "stderr",
     "output_type": "stream",
     "text": [
      " 42%|####2     | 101/238 [2:14:38<2:05:55, 55.15s/it]"
     ]
    },
    {
     "name": "stdout",
     "output_type": "stream",
     "text": [
      "./temp_unzip\\474673_volumes\n",
      "./temp_unzip\\474673_segmentations\n",
      "('1',)\n",
      "474673_tooth_11_(us_8)\n",
      "one case sucessfully converted\n"
     ]
    },
    {
     "name": "stderr",
     "output_type": "stream",
     "text": [
      " 43%|####2     | 102/238 [2:16:42<2:52:08, 75.94s/it]"
     ]
    },
    {
     "name": "stdout",
     "output_type": "stream",
     "text": [
      "./temp_unzip\\474714_volumes\n",
      "./temp_unzip\\474714_segmentations\n",
      "('1',)\n",
      "474714_tooth_11_(us_8)\n",
      "one case sucessfully converted\n"
     ]
    },
    {
     "name": "stderr",
     "output_type": "stream",
     "text": [
      " 43%|####3     | 103/238 [2:18:22<3:07:07, 83.17s/it]"
     ]
    },
    {
     "name": "stdout",
     "output_type": "stream",
     "text": [
      "./temp_unzip\\478950_volumes\n",
      "./temp_unzip\\478950_segmentations\n",
      "('1',)\n",
      "478950_tooth_11_(us_8)\n",
      "one case sucessfully converted\n"
     ]
    },
    {
     "name": "stderr",
     "output_type": "stream",
     "text": [
      " 44%|####3     | 104/238 [2:19:30<2:55:02, 78.38s/it]"
     ]
    },
    {
     "name": "stdout",
     "output_type": "stream",
     "text": [
      "./temp_unzip\\495144_volumes\n",
      "./temp_unzip\\495144_segmentations\n",
      "('1',)\n",
      "495144_tooth_11_(us_8)\n",
      "one case sucessfully converted\n"
     ]
    },
    {
     "name": "stderr",
     "output_type": "stream",
     "text": [
      " 44%|####4     | 105/238 [2:20:41<2:49:08, 76.31s/it]"
     ]
    },
    {
     "name": "stdout",
     "output_type": "stream",
     "text": [
      "./temp_unzip\\507343_volumes\n",
      "./temp_unzip\\507343_segmentations\n",
      "('1',)\n",
      "somthing is wrong with case {'vol': './temp_unzip\\\\507343_volumes', 'seg': './temp_unzip\\\\507343_segmentations'} probably a missing segmentation\n"
     ]
    },
    {
     "name": "stderr",
     "output_type": "stream",
     "text": [
      " 45%|####4     | 106/238 [2:20:57<2:08:00, 58.19s/it]"
     ]
    },
    {
     "name": "stdout",
     "output_type": "stream",
     "text": [
      "./temp_unzip\\536055_volumes\n",
      "./temp_unzip\\536055_segmentations\n",
      "('1',)\n",
      "somthing is wrong with case {'vol': './temp_unzip\\\\536055_volumes', 'seg': './temp_unzip\\\\536055_segmentations'} probably a missing segmentation\n"
     ]
    },
    {
     "name": "stderr",
     "output_type": "stream",
     "text": [
      " 45%|####4     | 107/238 [2:21:05<1:34:00, 43.06s/it]"
     ]
    },
    {
     "name": "stdout",
     "output_type": "stream",
     "text": [
      "./temp_unzip\\537636_volumes\n",
      "./temp_unzip\\537636_segmentations\n",
      "('1',)\n",
      "somthing is wrong with case {'vol': './temp_unzip\\\\537636_volumes', 'seg': './temp_unzip\\\\537636_segmentations'} probably a missing segmentation\n"
     ]
    },
    {
     "name": "stderr",
     "output_type": "stream",
     "text": [
      " 45%|####5     | 108/238 [2:21:09<1:07:54, 31.34s/it]"
     ]
    },
    {
     "name": "stdout",
     "output_type": "stream",
     "text": [
      "./temp_unzip\\540895_volumes\n",
      "./temp_unzip\\540895_segmentations\n",
      "('1',)\n",
      "somthing is wrong with case {'vol': './temp_unzip\\\\540895_volumes', 'seg': './temp_unzip\\\\540895_segmentations'} probably a missing segmentation\n"
     ]
    },
    {
     "name": "stderr",
     "output_type": "stream",
     "text": [
      " 46%|####5     | 109/238 [2:21:13<50:07, 23.31s/it]  "
     ]
    },
    {
     "name": "stdout",
     "output_type": "stream",
     "text": [
      "./temp_unzip\\546698_volumes\n",
      "./temp_unzip\\546698_segmentations\n",
      "('1',)\n",
      "546698P524659_1772555701-cbct-tooth-13_decimated\n",
      "one case sucessfully converted\n"
     ]
    },
    {
     "name": "stderr",
     "output_type": "stream",
     "text": [
      " 46%|####6     | 110/238 [2:21:40<51:37, 24.20s/it]"
     ]
    },
    {
     "name": "stdout",
     "output_type": "stream",
     "text": [
      "./temp_unzip\\556553_volumes\n",
      "./temp_unzip\\556553_segmentations\n",
      "('1',)\n",
      "556553P526834_188877366-cbct-tooth-25_decimated\n",
      "one case sucessfully converted\n"
     ]
    },
    {
     "name": "stderr",
     "output_type": "stream",
     "text": [
      " 47%|####6     | 111/238 [2:22:02<50:02, 23.64s/it]"
     ]
    },
    {
     "name": "stdout",
     "output_type": "stream",
     "text": [
      "./temp_unzip\\557994_volumes\n",
      "./temp_unzip\\557994_segmentations\n",
      "('1',)\n",
      "557994P526426_557994_1638174049-cbct-tooth-27_decimated\n",
      "one case sucessfully converted\n"
     ]
    },
    {
     "name": "stderr",
     "output_type": "stream",
     "text": [
      " 47%|####7     | 112/238 [2:22:18<44:53, 21.38s/it]"
     ]
    },
    {
     "name": "stdout",
     "output_type": "stream",
     "text": [
      "./temp_unzip\\559771_volumes\n",
      "./temp_unzip\\559771_segmentations\n",
      "('1',)\n",
      "559771P526284_559771_1043248271-cbct-tooth-18_decimated\n",
      "one case sucessfully converted\n"
     ]
    },
    {
     "name": "stderr",
     "output_type": "stream",
     "text": [
      " 47%|####7     | 113/238 [2:26:37<3:12:55, 92.60s/it]"
     ]
    },
    {
     "name": "stdout",
     "output_type": "stream",
     "text": [
      "./temp_unzip\\562152_volumes\n",
      "./temp_unzip\\562152_segmentations\n",
      "('1',)\n",
      "562152P525209_562152_1936397733-cbct-tooth-25_decimated\n",
      "one case sucessfully converted\n"
     ]
    },
    {
     "name": "stderr",
     "output_type": "stream",
     "text": [
      " 48%|####7     | 114/238 [2:27:23<2:42:55, 78.83s/it]"
     ]
    },
    {
     "name": "stdout",
     "output_type": "stream",
     "text": [
      "./temp_unzip\\564137_volumes\n",
      "./temp_unzip\\564137_segmentations\n",
      "('1',)\n",
      "564137P526316_564137_378608353-cbct-tooth-27_decimated\n",
      "one case sucessfully converted\n"
     ]
    },
    {
     "name": "stderr",
     "output_type": "stream",
     "text": [
      " 48%|####8     | 115/238 [2:27:54<2:11:38, 64.22s/it]"
     ]
    },
    {
     "name": "stdout",
     "output_type": "stream",
     "text": [
      "./temp_unzip\\564981_volumes\n",
      "./temp_unzip\\564981_segmentations\n",
      "('1',)\n",
      "564981P524875_2202255094-cbct-tooth-25_decimated\n",
      "one case sucessfully converted\n"
     ]
    },
    {
     "name": "stderr",
     "output_type": "stream",
     "text": [
      " 49%|####8     | 116/238 [2:28:10<1:41:25, 49.88s/it]"
     ]
    },
    {
     "name": "stdout",
     "output_type": "stream",
     "text": [
      "./temp_unzip\\567014_volumes\n",
      "./temp_unzip\\567014_segmentations\n",
      "('1',)\n",
      "567014P525594_567014_1665173994-cbct-tooth-27_decimated\n",
      "one case sucessfully converted\n"
     ]
    },
    {
     "name": "stderr",
     "output_type": "stream",
     "text": [
      " 49%|####9     | 117/238 [2:28:25<1:19:33, 39.45s/it]"
     ]
    },
    {
     "name": "stdout",
     "output_type": "stream",
     "text": [
      "./temp_unzip\\567644_volumes\n",
      "./temp_unzip\\567644_segmentations\n",
      "('1',)\n",
      "567644P525221_1143999613-cbct-tooth-11_decimated\n",
      "one case sucessfully converted\n"
     ]
    },
    {
     "name": "stderr",
     "output_type": "stream",
     "text": [
      " 50%|####9     | 118/238 [2:29:04<1:18:40, 39.34s/it]"
     ]
    },
    {
     "name": "stdout",
     "output_type": "stream",
     "text": [
      "./temp_unzip\\569441_volumes\n",
      "./temp_unzip\\569441_segmentations\n",
      "('1',)\n",
      "569441P524326_1378864235-cbct-tooth-17_decimated\n",
      "one case sucessfully converted\n"
     ]
    },
    {
     "name": "stderr",
     "output_type": "stream",
     "text": [
      " 50%|#####     | 119/238 [2:29:33<1:11:38, 36.12s/it]"
     ]
    },
    {
     "name": "stdout",
     "output_type": "stream",
     "text": [
      "./temp_unzip\\569976_volumes\n",
      "./temp_unzip\\569976_segmentations\n",
      "('1',)\n",
      "somthing is wrong with case {'vol': './temp_unzip\\\\569976_volumes', 'seg': './temp_unzip\\\\569976_segmentations'} probably a missing segmentation\n"
     ]
    },
    {
     "name": "stderr",
     "output_type": "stream",
     "text": [
      " 50%|#####     | 120/238 [2:29:37<52:03, 26.47s/it]  "
     ]
    },
    {
     "name": "stdout",
     "output_type": "stream",
     "text": [
      "./temp_unzip\\569999_volumes\n",
      "./temp_unzip\\569999_segmentations\n",
      "('1',)\n",
      "somthing is wrong with case {'vol': './temp_unzip\\\\569999_volumes', 'seg': './temp_unzip\\\\569999_segmentations'} probably a missing segmentation\n"
     ]
    },
    {
     "name": "stderr",
     "output_type": "stream",
     "text": [
      " 51%|#####     | 121/238 [2:29:41<38:35, 19.79s/it]"
     ]
    },
    {
     "name": "stdout",
     "output_type": "stream",
     "text": [
      "./temp_unzip\\570482_volumes\n",
      "./temp_unzip\\570482_segmentations\n",
      "('1',)\n",
      "570482P525335_1065290448-cbct-tooth-22_decimated\n",
      "one case sucessfully converted\n"
     ]
    },
    {
     "name": "stderr",
     "output_type": "stream",
     "text": [
      " 51%|#####1    | 122/238 [2:31:04<1:14:47, 38.69s/it]"
     ]
    },
    {
     "name": "stdout",
     "output_type": "stream",
     "text": [
      "./temp_unzip\\570555_volumes\n",
      "./temp_unzip\\570555_segmentations\n",
      "('1',)\n",
      "570555P524841_1982989336-cbct-tooth-16_decimated\n",
      "one case sucessfully converted\n"
     ]
    },
    {
     "name": "stderr",
     "output_type": "stream",
     "text": [
      " 52%|#####1    | 123/238 [2:31:25<1:03:51, 33.32s/it]"
     ]
    },
    {
     "name": "stdout",
     "output_type": "stream",
     "text": [
      "./temp_unzip\\571305_volumes\n",
      "./temp_unzip\\571305_segmentations\n",
      "('1',)\n",
      "571305P524594_3033288999-cbct-tooth-27_decimated\n",
      "one case sucessfully converted\n"
     ]
    },
    {
     "name": "stderr",
     "output_type": "stream",
     "text": [
      " 52%|#####2    | 124/238 [2:31:38<51:52, 27.30s/it]  "
     ]
    },
    {
     "name": "stdout",
     "output_type": "stream",
     "text": [
      "./temp_unzip\\571326_volumes\n",
      "./temp_unzip\\571326_segmentations\n",
      "('1',)\n",
      "571326P524444_1257030071-cbct-tooth-18_decimated\n",
      "one case sucessfully converted\n"
     ]
    },
    {
     "name": "stderr",
     "output_type": "stream",
     "text": [
      " 53%|#####2    | 125/238 [2:31:55<45:42, 24.27s/it]"
     ]
    },
    {
     "name": "stdout",
     "output_type": "stream",
     "text": [
      "./temp_unzip\\571502_volumes\n",
      "./temp_unzip\\571502_segmentations\n",
      "('1',)\n",
      "571502P524766_571502_1914660849-cbct-tooth-17_decimated\n",
      "one case sucessfully converted\n"
     ]
    },
    {
     "name": "stderr",
     "output_type": "stream",
     "text": [
      " 53%|#####2    | 126/238 [2:32:23<47:37, 25.51s/it]"
     ]
    },
    {
     "name": "stdout",
     "output_type": "stream",
     "text": [
      "./temp_unzip\\572232_volumes\n",
      "./temp_unzip\\572232_segmentations\n",
      "('1',)\n",
      "572232P524543_1183970538-cbct-tooth-15_decimated\n",
      "one case sucessfully converted\n"
     ]
    },
    {
     "name": "stderr",
     "output_type": "stream",
     "text": [
      " 53%|#####3    | 127/238 [2:33:08<57:57, 31.33s/it]"
     ]
    },
    {
     "name": "stdout",
     "output_type": "stream",
     "text": [
      "./temp_unzip\\572268_volumes\n",
      "./temp_unzip\\572268_segmentations\n",
      "('1',)\n",
      "572268P524525_1532756037-cbct-tooth-25_decimated\n",
      "one case sucessfully converted\n"
     ]
    },
    {
     "name": "stderr",
     "output_type": "stream",
     "text": [
      " 54%|#####3    | 128/238 [2:33:29<51:49, 28.27s/it]"
     ]
    },
    {
     "name": "stdout",
     "output_type": "stream",
     "text": [
      "./temp_unzip\\572276_volumes\n",
      "./temp_unzip\\572276_segmentations\n",
      "('1',)\n",
      "572276P524840_1126263730-cbct-tooth-23_decimated\n",
      "one case sucessfully converted\n"
     ]
    },
    {
     "name": "stderr",
     "output_type": "stream",
     "text": [
      " 54%|#####4    | 129/238 [2:33:57<50:46, 27.95s/it]"
     ]
    },
    {
     "name": "stdout",
     "output_type": "stream",
     "text": [
      "./temp_unzip\\572836_volumes\n",
      "./temp_unzip\\572836_segmentations\n",
      "('1',)\n",
      "572836P527477_1045889958-cbct-tooth-22_decimated\n",
      "one case sucessfully converted\n"
     ]
    },
    {
     "name": "stderr",
     "output_type": "stream",
     "text": [
      " 55%|#####4    | 130/238 [2:35:27<1:24:12, 46.78s/it]"
     ]
    },
    {
     "name": "stdout",
     "output_type": "stream",
     "text": [
      "./temp_unzip\\572901_volumes\n",
      "./temp_unzip\\572901_segmentations\n",
      "('1',)\n",
      "572901P527185_572901_146497656-cbct-tooth-12_decimated\n",
      "one case sucessfully converted\n"
     ]
    },
    {
     "name": "stderr",
     "output_type": "stream",
     "text": [
      " 55%|#####5    | 131/238 [2:36:08<1:20:05, 44.91s/it]"
     ]
    },
    {
     "name": "stdout",
     "output_type": "stream",
     "text": [
      "./temp_unzip\\573064_volumes\n",
      "./temp_unzip\\573064_segmentations\n",
      "('1',)\n",
      "573064P524810_1756736070-cbct-tooth-27_decimated\n",
      "one case sucessfully converted\n"
     ]
    },
    {
     "name": "stderr",
     "output_type": "stream",
     "text": [
      " 55%|#####5    | 132/238 [2:36:26<1:05:03, 36.83s/it]"
     ]
    },
    {
     "name": "stdout",
     "output_type": "stream",
     "text": [
      "./temp_unzip\\573280_volumes\n",
      "./temp_unzip\\573280_segmentations\n",
      "('1',)\n",
      "573280P525193_1292293019-cbct-tooth-23_decimated\n",
      "one case sucessfully converted\n"
     ]
    },
    {
     "name": "stderr",
     "output_type": "stream",
     "text": [
      " 56%|#####5    | 133/238 [2:38:19<1:44:38, 59.80s/it]"
     ]
    },
    {
     "name": "stdout",
     "output_type": "stream",
     "text": [
      "./temp_unzip\\573401_volumes\n",
      "./temp_unzip\\573401_segmentations\n",
      "('1',)\n",
      "573401P523869_573401_1121235352-cbct-tooth-15_decimated\n",
      "one case sucessfully converted\n"
     ]
    },
    {
     "name": "stderr",
     "output_type": "stream",
     "text": [
      " 56%|#####6    | 134/238 [2:39:08<1:38:04, 56.58s/it]"
     ]
    },
    {
     "name": "stdout",
     "output_type": "stream",
     "text": [
      "./temp_unzip\\573766_volumes\n",
      "./temp_unzip\\573766_segmentations\n",
      "('1',)\n",
      "573766P524851_1364264761-cbct-tooth-17_decimated\n",
      "one case sucessfully converted\n"
     ]
    },
    {
     "name": "stderr",
     "output_type": "stream",
     "text": [
      " 57%|#####6    | 135/238 [2:40:38<1:54:24, 66.64s/it]"
     ]
    },
    {
     "name": "stdout",
     "output_type": "stream",
     "text": [
      "./temp_unzip\\574033_volumes\n",
      "./temp_unzip\\574033_segmentations\n",
      "('1',)\n",
      "574033P525252_2753203802-cbct-tooth-27_decimated\n",
      "one case sucessfully converted\n"
     ]
    },
    {
     "name": "stderr",
     "output_type": "stream",
     "text": [
      " 57%|#####7    | 136/238 [2:40:57<1:28:36, 52.12s/it]"
     ]
    },
    {
     "name": "stdout",
     "output_type": "stream",
     "text": [
      "./temp_unzip\\574156_volumes\n",
      "./temp_unzip\\574156_segmentations\n",
      "('1',)\n",
      "574156P523942_574156_3936507593-cbct-tooth-26_decimated\n",
      "one case sucessfully converted\n"
     ]
    },
    {
     "name": "stderr",
     "output_type": "stream",
     "text": [
      " 58%|#####7    | 137/238 [2:41:13<1:09:30, 41.29s/it]"
     ]
    },
    {
     "name": "stdout",
     "output_type": "stream",
     "text": [
      "./temp_unzip\\574161_volumes\n",
      "./temp_unzip\\574161_segmentations\n",
      "('1',)\n",
      "574161P524346_574161_1477103465-cbct-tooth-16_decimated\n",
      "one case sucessfully converted\n"
     ]
    },
    {
     "name": "stderr",
     "output_type": "stream",
     "text": [
      " 58%|#####7    | 138/238 [2:41:29<56:05, 33.66s/it]  "
     ]
    },
    {
     "name": "stdout",
     "output_type": "stream",
     "text": [
      "./temp_unzip\\574188_volumes\n",
      "./temp_unzip\\574188_segmentations\n",
      "('1',)\n",
      "574188P527737_2659810997-cbct-tooth-13_decimated\n",
      "one case sucessfully converted\n"
     ]
    },
    {
     "name": "stderr",
     "output_type": "stream",
     "text": [
      " 58%|#####8    | 139/238 [2:41:50<49:26, 29.97s/it]"
     ]
    },
    {
     "name": "stdout",
     "output_type": "stream",
     "text": [
      "./temp_unzip\\574212_volumes\n",
      "./temp_unzip\\574212_segmentations\n",
      "('1',)\n",
      "574212P524206_574212_3103055734-cbct-tooth-26_decimated\n",
      "one case sucessfully converted\n"
     ]
    },
    {
     "name": "stderr",
     "output_type": "stream",
     "text": [
      " 59%|#####8    | 140/238 [2:42:11<44:28, 27.22s/it]"
     ]
    },
    {
     "name": "stdout",
     "output_type": "stream",
     "text": [
      "./temp_unzip\\574441_volumes\n",
      "./temp_unzip\\574441_segmentations\n",
      "('1',)\n",
      "574441P524324_1656500639-cbct-tooth-28_decimated\n",
      "one case sucessfully converted\n"
     ]
    },
    {
     "name": "stderr",
     "output_type": "stream",
     "text": [
      " 59%|#####9    | 141/238 [2:42:28<39:07, 24.21s/it]"
     ]
    },
    {
     "name": "stdout",
     "output_type": "stream",
     "text": [
      "./temp_unzip\\574443_volumes\n",
      "./temp_unzip\\574443_segmentations\n",
      "('1',)\n",
      "too few of desired class in this case. this case will be skipped\n"
     ]
    },
    {
     "name": "stderr",
     "output_type": "stream",
     "text": [
      " 60%|#####9    | 142/238 [2:42:32<28:57, 18.10s/it]"
     ]
    },
    {
     "name": "stdout",
     "output_type": "stream",
     "text": [
      "./temp_unzip\\574449_volumes\n",
      "./temp_unzip\\574449_segmentations\n",
      "('1',)\n",
      "574449P524682_574449_2206961917-cbct-tooth-27_decimated\n",
      "one case sucessfully converted\n"
     ]
    },
    {
     "name": "stderr",
     "output_type": "stream",
     "text": [
      " 60%|######    | 143/238 [2:42:45<26:28, 16.72s/it]"
     ]
    },
    {
     "name": "stdout",
     "output_type": "stream",
     "text": [
      "./temp_unzip\\574494_volumes\n",
      "./temp_unzip\\574494_segmentations\n",
      "('1',)\n",
      "574494P524404_2541614421-cbct-tooth-27_decimated\n",
      "one case sucessfully converted\n"
     ]
    },
    {
     "name": "stderr",
     "output_type": "stream",
     "text": [
      " 61%|######    | 144/238 [2:43:02<26:15, 16.76s/it]"
     ]
    },
    {
     "name": "stdout",
     "output_type": "stream",
     "text": [
      "./temp_unzip\\574613_volumes\n",
      "./temp_unzip\\574613_segmentations\n",
      "('1',)\n",
      "574613P525225_574613_1148743666-cbct-tooth-11_decimated\n",
      "one case sucessfully converted\n"
     ]
    },
    {
     "name": "stderr",
     "output_type": "stream",
     "text": [
      " 61%|######    | 145/238 [2:44:15<52:01, 33.57s/it]"
     ]
    },
    {
     "name": "stdout",
     "output_type": "stream",
     "text": [
      "./temp_unzip\\574976_volumes\n",
      "./temp_unzip\\574976_segmentations\n",
      "('1',)\n",
      "574976P523731_574976_1184202674-cbct-tooth-24_decimated\n",
      "one case sucessfully converted\n"
     ]
    },
    {
     "name": "stderr",
     "output_type": "stream",
     "text": [
      " 61%|######1   | 146/238 [2:44:54<54:11, 35.34s/it]"
     ]
    },
    {
     "name": "stdout",
     "output_type": "stream",
     "text": [
      "./temp_unzip\\575078_volumes\n",
      "./temp_unzip\\575078_segmentations\n",
      "('1',)\n",
      "575078P526874_575078_1532452246-cbct-tooth-26_decimated\n",
      "one case sucessfully converted\n"
     ]
    },
    {
     "name": "stderr",
     "output_type": "stream",
     "text": [
      " 62%|######1   | 147/238 [2:45:11<45:05, 29.73s/it]"
     ]
    },
    {
     "name": "stdout",
     "output_type": "stream",
     "text": [
      "./temp_unzip\\575127_volumes\n",
      "./temp_unzip\\575127_segmentations\n",
      "('1',)\n",
      "575127P526522_575127_1766935779-cbct-tooth-16_decimated\n",
      "one case sucessfully converted\n"
     ]
    },
    {
     "name": "stderr",
     "output_type": "stream",
     "text": [
      " 62%|######2   | 148/238 [2:46:12<58:33, 39.04s/it]"
     ]
    },
    {
     "name": "stdout",
     "output_type": "stream",
     "text": [
      "./temp_unzip\\575180_volumes\n",
      "./temp_unzip\\575180_segmentations\n",
      "('1',)\n",
      "575180P526572_575180_122885540-cbct-tooth-14_decimated\n",
      "one case sucessfully converted\n"
     ]
    },
    {
     "name": "stderr",
     "output_type": "stream",
     "text": [
      " 63%|######2   | 149/238 [2:46:36<51:06, 34.46s/it]"
     ]
    },
    {
     "name": "stdout",
     "output_type": "stream",
     "text": [
      "./temp_unzip\\575272_volumes\n",
      "./temp_unzip\\575272_segmentations\n",
      "('1',)\n",
      "575272P525036_1849324698-cbct-tooth-27_decimated\n",
      "one case sucessfully converted\n"
     ]
    },
    {
     "name": "stderr",
     "output_type": "stream",
     "text": [
      " 63%|######3   | 150/238 [2:46:50<41:52, 28.55s/it]"
     ]
    },
    {
     "name": "stdout",
     "output_type": "stream",
     "text": [
      "./temp_unzip\\575280_volumes\n",
      "./temp_unzip\\575280_segmentations\n",
      "('1',)\n",
      "575280P524644_1141610009-cbct-tooth-26_decimated\n",
      "one case sucessfully converted\n"
     ]
    },
    {
     "name": "stderr",
     "output_type": "stream",
     "text": [
      " 63%|######3   | 151/238 [2:47:04<34:59, 24.14s/it]"
     ]
    },
    {
     "name": "stdout",
     "output_type": "stream",
     "text": [
      "./temp_unzip\\575336_volumes\n",
      "./temp_unzip\\575336_segmentations\n",
      "('1',)\n",
      "575336P524397_3018834402-cbct-tooth-28_decimated\n",
      "one case sucessfully converted\n"
     ]
    },
    {
     "name": "stderr",
     "output_type": "stream",
     "text": [
      " 64%|######3   | 152/238 [2:47:19<30:36, 21.35s/it]"
     ]
    },
    {
     "name": "stdout",
     "output_type": "stream",
     "text": [
      "./temp_unzip\\575367_volumes\n",
      "./temp_unzip\\575367_segmentations\n",
      "('1',)\n",
      "575367P524515_1206402560-cbct-tooth-18_decimated\n",
      "one case sucessfully converted\n"
     ]
    },
    {
     "name": "stderr",
     "output_type": "stream",
     "text": [
      " 64%|######4   | 153/238 [2:47:44<31:45, 22.42s/it]"
     ]
    },
    {
     "name": "stdout",
     "output_type": "stream",
     "text": [
      "./temp_unzip\\575370_volumes\n",
      "./temp_unzip\\575370_segmentations\n",
      "('1',)\n",
      "575370P525459_575370_2256977521-cbct-tooth-15_decimated\n",
      "one case sucessfully converted\n"
     ]
    },
    {
     "name": "stderr",
     "output_type": "stream",
     "text": [
      " 65%|######4   | 154/238 [2:48:01<28:56, 20.67s/it]"
     ]
    },
    {
     "name": "stdout",
     "output_type": "stream",
     "text": [
      "./temp_unzip\\575412_volumes\n",
      "./temp_unzip\\575412_segmentations\n",
      "('1',)\n",
      "575412P524825_2533253988-cbct-tooth-18_decimated\n",
      "one case sucessfully converted\n"
     ]
    },
    {
     "name": "stderr",
     "output_type": "stream",
     "text": [
      " 65%|######5   | 155/238 [2:48:18<27:08, 19.63s/it]"
     ]
    },
    {
     "name": "stdout",
     "output_type": "stream",
     "text": [
      "./temp_unzip\\575468_volumes\n",
      "./temp_unzip\\575468_segmentations\n",
      "('1',)\n",
      "575468P525671_575468_3277318312-cbct-tooth-16_decimated\n",
      "one case sucessfully converted\n"
     ]
    },
    {
     "name": "stderr",
     "output_type": "stream",
     "text": [
      " 66%|######5   | 156/238 [2:48:32<24:35, 17.99s/it]"
     ]
    },
    {
     "name": "stdout",
     "output_type": "stream",
     "text": [
      "./temp_unzip\\575480_volumes\n",
      "./temp_unzip\\575480_segmentations\n",
      "('1',)\n",
      "575480P524482_575480_2362108621-cbct-tooth-16_decimated\n",
      "one case sucessfully converted\n"
     ]
    },
    {
     "name": "stderr",
     "output_type": "stream",
     "text": [
      " 66%|######5   | 157/238 [2:48:49<23:54, 17.71s/it]"
     ]
    },
    {
     "name": "stdout",
     "output_type": "stream",
     "text": [
      "./temp_unzip\\575564_volumes\n",
      "./temp_unzip\\575564_segmentations\n",
      "('1',)\n",
      "575564P524004_575564_2366395438-cbct-tooth-28_decimated\n",
      "one case sucessfully converted\n"
     ]
    },
    {
     "name": "stderr",
     "output_type": "stream",
     "text": [
      " 66%|######6   | 158/238 [2:49:06<23:31, 17.64s/it]"
     ]
    },
    {
     "name": "stdout",
     "output_type": "stream",
     "text": [
      "./temp_unzip\\575683_volumes\n",
      "./temp_unzip\\575683_segmentations\n",
      "('1',)\n",
      "575683P525019_1582174928-cbct-tooth-28_decimated\n",
      "one case sucessfully converted\n"
     ]
    },
    {
     "name": "stderr",
     "output_type": "stream",
     "text": [
      " 67%|######6   | 159/238 [2:49:30<25:27, 19.34s/it]"
     ]
    },
    {
     "name": "stdout",
     "output_type": "stream",
     "text": [
      "./temp_unzip\\575747_volumes\n",
      "./temp_unzip\\575747_segmentations\n",
      "('1',)\n",
      "575747P525047_1239279320-cbct-tooth-13_decimated\n",
      "one case sucessfully converted\n"
     ]
    },
    {
     "name": "stderr",
     "output_type": "stream",
     "text": [
      " 67%|######7   | 160/238 [2:51:00<52:59, 40.76s/it]"
     ]
    },
    {
     "name": "stdout",
     "output_type": "stream",
     "text": [
      "./temp_unzip\\575769_volumes\n",
      "./temp_unzip\\575769_segmentations\n",
      "('1',)\n",
      "575769P524592_575769_3047063754-cbct-tooth-26_decimated\n",
      "one case sucessfully converted\n"
     ]
    },
    {
     "name": "stderr",
     "output_type": "stream",
     "text": [
      " 68%|######7   | 161/238 [2:51:23<45:20, 35.33s/it]"
     ]
    },
    {
     "name": "stdout",
     "output_type": "stream",
     "text": [
      "./temp_unzip\\575793_volumes\n",
      "./temp_unzip\\575793_segmentations\n",
      "('1',)\n",
      "575793P523996_575793_2011464368-cbct-tooth-26_decimated\n",
      "one case sucessfully converted\n"
     ]
    },
    {
     "name": "stderr",
     "output_type": "stream",
     "text": [
      " 68%|######8   | 162/238 [2:51:43<38:45, 30.60s/it]"
     ]
    },
    {
     "name": "stdout",
     "output_type": "stream",
     "text": [
      "./temp_unzip\\575919_volumes\n",
      "./temp_unzip\\575919_segmentations\n",
      "('1',)\n",
      "575919P527133_575919_1092006699-cbct-tooth-23_decimated\n",
      "one case sucessfully converted\n"
     ]
    },
    {
     "name": "stderr",
     "output_type": "stream",
     "text": [
      " 68%|######8   | 163/238 [2:52:14<38:39, 30.92s/it]"
     ]
    },
    {
     "name": "stdout",
     "output_type": "stream",
     "text": [
      "./temp_unzip\\575923_volumes\n",
      "./temp_unzip\\575923_segmentations\n",
      "('1',)\n",
      "575923P525924_575923_1954464829-cbct-tooth-16_decimated\n",
      "one case sucessfully converted\n"
     ]
    },
    {
     "name": "stderr",
     "output_type": "stream",
     "text": [
      " 69%|######8   | 164/238 [2:52:32<33:17, 27.00s/it]"
     ]
    },
    {
     "name": "stdout",
     "output_type": "stream",
     "text": [
      "./temp_unzip\\575955_volumes\n",
      "./temp_unzip\\575955_segmentations\n",
      "('1',)\n",
      "575955P523979_575955_1548137205-cbct-tooth-11_decimated\n",
      "one case sucessfully converted\n"
     ]
    },
    {
     "name": "stderr",
     "output_type": "stream",
     "text": [
      " 69%|######9   | 165/238 [2:52:56<31:34, 25.95s/it]"
     ]
    },
    {
     "name": "stdout",
     "output_type": "stream",
     "text": [
      "./temp_unzip\\575970_volumes\n",
      "./temp_unzip\\575970_segmentations\n",
      "('1',)\n",
      "575970P525027_1254314033-cbct-tooth-14_decimated\n",
      "one case sucessfully converted\n"
     ]
    },
    {
     "name": "stderr",
     "output_type": "stream",
     "text": [
      " 70%|######9   | 166/238 [2:54:10<48:31, 40.43s/it]"
     ]
    },
    {
     "name": "stdout",
     "output_type": "stream",
     "text": [
      "./temp_unzip\\575984_volumes\n",
      "./temp_unzip\\575984_segmentations\n",
      "('1',)\n",
      "575984P524073_575984_3020797263-cbct-tooth-27_decimated\n",
      "one case sucessfully converted\n"
     ]
    },
    {
     "name": "stderr",
     "output_type": "stream",
     "text": [
      " 70%|#######   | 167/238 [2:54:28<39:57, 33.77s/it]"
     ]
    },
    {
     "name": "stdout",
     "output_type": "stream",
     "text": [
      "./temp_unzip\\575999_volumes\n",
      "./temp_unzip\\575999_segmentations\n",
      "('1',)\n",
      "575999P525291_575999_3184883675-cbct-tooth-15_decimated\n",
      "one case sucessfully converted\n"
     ]
    },
    {
     "name": "stderr",
     "output_type": "stream",
     "text": [
      " 71%|#######   | 168/238 [2:54:51<35:33, 30.47s/it]"
     ]
    },
    {
     "name": "stdout",
     "output_type": "stream",
     "text": [
      "./temp_unzip\\576031_volumes\n",
      "./temp_unzip\\576031_segmentations\n",
      "('1',)\n",
      "576031P524641_1167093313-cbct-tooth-14_decimated\n",
      "one case sucessfully converted\n"
     ]
    },
    {
     "name": "stderr",
     "output_type": "stream",
     "text": [
      " 71%|#######1  | 169/238 [2:55:21<34:58, 30.41s/it]"
     ]
    },
    {
     "name": "stdout",
     "output_type": "stream",
     "text": [
      "./temp_unzip\\576038_volumes\n",
      "./temp_unzip\\576038_segmentations\n",
      "('1',)\n",
      "576038P523911_576038_1095078364-cbct-tooth-14_decimated\n",
      "one case sucessfully converted\n"
     ]
    },
    {
     "name": "stderr",
     "output_type": "stream",
     "text": [
      " 71%|#######1  | 170/238 [2:56:30<47:23, 41.81s/it]"
     ]
    },
    {
     "name": "stdout",
     "output_type": "stream",
     "text": [
      "./temp_unzip\\576098_volumes\n",
      "./temp_unzip\\576098_segmentations\n",
      "('1',)\n",
      "576098P524719_1508473395-cbct-tooth-23_decimated\n",
      "one case sucessfully converted\n"
     ]
    },
    {
     "name": "stderr",
     "output_type": "stream",
     "text": [
      " 72%|#######1  | 171/238 [2:57:12<46:50, 41.95s/it]"
     ]
    },
    {
     "name": "stdout",
     "output_type": "stream",
     "text": [
      "./temp_unzip\\576114_volumes\n",
      "./temp_unzip\\576114_segmentations\n",
      "('1',)\n",
      "576114P524020_576114_1103971238-cbct-tooth-18_decimated\n",
      "one case sucessfully converted\n"
     ]
    },
    {
     "name": "stderr",
     "output_type": "stream",
     "text": [
      " 72%|#######2  | 172/238 [2:57:33<39:17, 35.72s/it]"
     ]
    },
    {
     "name": "stdout",
     "output_type": "stream",
     "text": [
      "./temp_unzip\\576117_volumes\n",
      "./temp_unzip\\576117_segmentations\n",
      "('1',)\n",
      "576117P524440_2936411324-cbct-tooth-27_decimated\n",
      "one case sucessfully converted\n"
     ]
    },
    {
     "name": "stderr",
     "output_type": "stream",
     "text": [
      " 73%|#######2  | 173/238 [2:57:50<32:36, 30.11s/it]"
     ]
    },
    {
     "name": "stdout",
     "output_type": "stream",
     "text": [
      "./temp_unzip\\576125_volumes\n",
      "./temp_unzip\\576125_segmentations\n",
      "('1',)\n",
      "576125P524038_576125_1317203404-cbct-tooth-13_decimated\n",
      "one case sucessfully converted\n"
     ]
    },
    {
     "name": "stderr",
     "output_type": "stream",
     "text": [
      " 73%|#######3  | 174/238 [2:58:09<28:33, 26.78s/it]"
     ]
    },
    {
     "name": "stdout",
     "output_type": "stream",
     "text": [
      "./temp_unzip\\576210_volumes\n",
      "./temp_unzip\\576210_segmentations\n",
      "('1',)\n",
      "576210P524906_1195792154-cbct-tooth-17_decimated\n",
      "one case sucessfully converted\n"
     ]
    },
    {
     "name": "stderr",
     "output_type": "stream",
     "text": [
      " 74%|#######3  | 175/238 [2:58:26<24:58, 23.78s/it]"
     ]
    },
    {
     "name": "stdout",
     "output_type": "stream",
     "text": [
      "./temp_unzip\\576214_volumes\n",
      "./temp_unzip\\576214_segmentations\n",
      "('1',)\n",
      "576214P524156_576214_2019107115-cbct-tooth-27_decimated\n",
      "one case sucessfully converted\n"
     ]
    },
    {
     "name": "stderr",
     "output_type": "stream",
     "text": [
      " 74%|#######3  | 176/238 [2:58:39<21:08, 20.45s/it]"
     ]
    },
    {
     "name": "stdout",
     "output_type": "stream",
     "text": [
      "./temp_unzip\\576251_volumes\n",
      "./temp_unzip\\576251_segmentations\n",
      "('1',)\n",
      "576251P524523_1263657366-cbct-tooth-21_decimated\n",
      "one case sucessfully converted\n"
     ]
    },
    {
     "name": "stderr",
     "output_type": "stream",
     "text": [
      " 74%|#######4  | 177/238 [2:59:03<21:59, 21.64s/it]"
     ]
    },
    {
     "name": "stdout",
     "output_type": "stream",
     "text": [
      "./temp_unzip\\576288_volumes\n",
      "./temp_unzip\\576288_segmentations\n",
      "('1',)\n",
      "576288P524406_576288_1019276485-cbct-tooth-27_decimated\n",
      "one case sucessfully converted\n"
     ]
    },
    {
     "name": "stderr",
     "output_type": "stream",
     "text": [
      " 75%|#######4  | 178/238 [2:59:20<20:18, 20.30s/it]"
     ]
    },
    {
     "name": "stdout",
     "output_type": "stream",
     "text": [
      "./temp_unzip\\576316_volumes\n",
      "./temp_unzip\\576316_segmentations\n",
      "('1',)\n",
      "576316P524529_1021196859-cbct-tooth-16_decimated\n",
      "one case sucessfully converted\n"
     ]
    },
    {
     "name": "stderr",
     "output_type": "stream",
     "text": [
      " 75%|#######5  | 179/238 [2:59:37<18:51, 19.17s/it]"
     ]
    },
    {
     "name": "stdout",
     "output_type": "stream",
     "text": [
      "./temp_unzip\\576342_volumes\n",
      "./temp_unzip\\576342_segmentations\n",
      "('1',)\n",
      "576342P524707_2482273438-cbct-tooth-18_decimated\n",
      "one case sucessfully converted\n"
     ]
    },
    {
     "name": "stderr",
     "output_type": "stream",
     "text": [
      " 76%|#######5  | 180/238 [2:59:51<17:00, 17.59s/it]"
     ]
    },
    {
     "name": "stdout",
     "output_type": "stream",
     "text": [
      "./temp_unzip\\576356_volumes\n",
      "./temp_unzip\\576356_segmentations\n",
      "('1',)\n",
      "576356P526010_576356_1667989440-cbct-tooth-12_decimated\n",
      "one case sucessfully converted\n"
     ]
    },
    {
     "name": "stderr",
     "output_type": "stream",
     "text": [
      " 76%|#######6  | 181/238 [3:02:01<48:52, 51.44s/it]"
     ]
    },
    {
     "name": "stdout",
     "output_type": "stream",
     "text": [
      "./temp_unzip\\576376_volumes\n",
      "./temp_unzip\\576376_segmentations\n",
      "('1',)\n",
      "576376P524333_1536431790-cbct-tooth-18_decimated\n",
      "one case sucessfully converted\n"
     ]
    },
    {
     "name": "stderr",
     "output_type": "stream",
     "text": [
      " 76%|#######6  | 182/238 [3:02:35<43:13, 46.32s/it]"
     ]
    },
    {
     "name": "stdout",
     "output_type": "stream",
     "text": [
      "./temp_unzip\\576383_volumes\n",
      "./temp_unzip\\576383_segmentations\n",
      "('1',)\n",
      "576383P524337_576383_1441344234-cbct-tooth-17_decimated\n",
      "one case sucessfully converted\n"
     ]
    },
    {
     "name": "stderr",
     "output_type": "stream",
     "text": [
      " 77%|#######6  | 183/238 [3:02:50<33:38, 36.69s/it]"
     ]
    },
    {
     "name": "stdout",
     "output_type": "stream",
     "text": [
      "./temp_unzip\\576432_volumes\n",
      "./temp_unzip\\576432_segmentations\n",
      "('1',)\n",
      "576432P524451_576432_1538596502-cbct-tooth-27_decimated\n",
      "one case sucessfully converted\n"
     ]
    },
    {
     "name": "stderr",
     "output_type": "stream",
     "text": [
      " 77%|#######7  | 184/238 [3:03:06<27:28, 30.53s/it]"
     ]
    },
    {
     "name": "stdout",
     "output_type": "stream",
     "text": [
      "./temp_unzip\\576436_volumes\n",
      "./temp_unzip\\576436_segmentations\n",
      "('1',)\n",
      "576436P524453_576436_2437356169-cbct-tooth-28_decimated\n",
      "one case sucessfully converted\n"
     ]
    },
    {
     "name": "stderr",
     "output_type": "stream",
     "text": [
      " 78%|#######7  | 185/238 [3:03:29<25:02, 28.35s/it]"
     ]
    },
    {
     "name": "stdout",
     "output_type": "stream",
     "text": [
      "./temp_unzip\\576491_volumes\n",
      "./temp_unzip\\576491_segmentations\n",
      "('1',)\n",
      "576491P524475_576491_1174576624-cbct-tooth-25_decimated\n",
      "one case sucessfully converted\n"
     ]
    },
    {
     "name": "stderr",
     "output_type": "stream",
     "text": [
      " 78%|#######8  | 186/238 [3:04:48<37:36, 43.40s/it]"
     ]
    },
    {
     "name": "stdout",
     "output_type": "stream",
     "text": [
      "./temp_unzip\\576504_volumes\n",
      "./temp_unzip\\576504_segmentations\n",
      "('1',)\n",
      "576504P524713_1578696316-cbct-tooth-16_decimated\n",
      "one case sucessfully converted\n"
     ]
    },
    {
     "name": "stderr",
     "output_type": "stream",
     "text": [
      " 79%|#######8  | 187/238 [3:05:04<29:56, 35.22s/it]"
     ]
    },
    {
     "name": "stdout",
     "output_type": "stream",
     "text": [
      "./temp_unzip\\576515_volumes\n",
      "./temp_unzip\\576515_segmentations\n",
      "('1',)\n",
      "576515P524618_2282410123-cbct-tooth-27_decimated\n",
      "one case sucessfully converted\n"
     ]
    },
    {
     "name": "stderr",
     "output_type": "stream",
     "text": [
      " 79%|#######8  | 188/238 [3:05:17<23:49, 28.59s/it]"
     ]
    },
    {
     "name": "stdout",
     "output_type": "stream",
     "text": [
      "./temp_unzip\\576527_volumes\n",
      "./temp_unzip\\576527_segmentations\n",
      "('1',)\n",
      "576527P524650_1137375946-cbct-tooth-13_decimated\n",
      "one case sucessfully converted\n"
     ]
    },
    {
     "name": "stderr",
     "output_type": "stream",
     "text": [
      " 79%|#######9  | 189/238 [3:05:46<23:27, 28.72s/it]"
     ]
    },
    {
     "name": "stdout",
     "output_type": "stream",
     "text": [
      "./temp_unzip\\576543_volumes\n",
      "./temp_unzip\\576543_segmentations\n",
      "('1',)\n",
      "576543P524699_1903323818-cbct-tooth-17_decimated\n",
      "one case sucessfully converted\n"
     ]
    },
    {
     "name": "stderr",
     "output_type": "stream",
     "text": [
      " 80%|#######9  | 190/238 [3:06:01<19:44, 24.68s/it]"
     ]
    },
    {
     "name": "stdout",
     "output_type": "stream",
     "text": [
      "./temp_unzip\\576547_volumes\n",
      "./temp_unzip\\576547_segmentations\n",
      "('1',)\n",
      "576547P524654_576547_1056009782-cbct-tooth-22_decimated\n",
      "one case sucessfully converted\n"
     ]
    },
    {
     "name": "stderr",
     "output_type": "stream",
     "text": [
      " 80%|########  | 191/238 [3:07:31<34:36, 44.18s/it]"
     ]
    },
    {
     "name": "stdout",
     "output_type": "stream",
     "text": [
      "./temp_unzip\\576597_volumes\n",
      "./temp_unzip\\576597_segmentations\n",
      "('1',)\n",
      "576597P524817_2064197633-cbct-tooth-16_decimated\n",
      "one case sucessfully converted\n"
     ]
    },
    {
     "name": "stderr",
     "output_type": "stream",
     "text": [
      " 81%|########  | 192/238 [3:07:57<29:46, 38.83s/it]"
     ]
    },
    {
     "name": "stdout",
     "output_type": "stream",
     "text": [
      "./temp_unzip\\576705_volumes\n",
      "./temp_unzip\\576705_segmentations\n",
      "('1',)\n",
      "too few of desired class in this case. this case will be skipped\n"
     ]
    },
    {
     "name": "stderr",
     "output_type": "stream",
     "text": [
      " 81%|########1 | 193/238 [3:08:01<21:13, 28.31s/it]"
     ]
    },
    {
     "name": "stdout",
     "output_type": "stream",
     "text": [
      "./temp_unzip\\576706_volumes\n",
      "./temp_unzip\\576706_segmentations\n",
      "('1',)\n",
      "576706P525838_1818761548-cbct-tooth-15_decimated\n",
      "one case sucessfully converted\n"
     ]
    },
    {
     "name": "stderr",
     "output_type": "stream",
     "text": [
      " 82%|########1 | 194/238 [3:08:44<23:58, 32.68s/it]"
     ]
    },
    {
     "name": "stdout",
     "output_type": "stream",
     "text": [
      "./temp_unzip\\576708_volumes\n",
      "./temp_unzip\\576708_segmentations\n",
      "('1',)\n",
      "576708P524922_1038337784-cbct-tooth-22_decimated\n",
      "one case sucessfully converted\n"
     ]
    },
    {
     "name": "stderr",
     "output_type": "stream",
     "text": [
      " 82%|########1 | 195/238 [3:10:30<39:09, 54.63s/it]"
     ]
    },
    {
     "name": "stdout",
     "output_type": "stream",
     "text": [
      "./temp_unzip\\576710_volumes\n",
      "./temp_unzip\\576710_segmentations\n",
      "('1',)\n",
      "somthing is wrong with case {'vol': './temp_unzip\\\\576710_volumes', 'seg': './temp_unzip\\\\576710_segmentations'} probably a missing segmentation\n"
     ]
    },
    {
     "name": "stderr",
     "output_type": "stream",
     "text": [
      " 82%|########2 | 196/238 [3:10:51<31:17, 44.69s/it]"
     ]
    },
    {
     "name": "stdout",
     "output_type": "stream",
     "text": [
      "./temp_unzip\\576715_volumes\n",
      "./temp_unzip\\576715_segmentations\n",
      "('1',)\n",
      "576715P524934_576715_1020955721-cbct-tooth-18_decimated\n",
      "one case sucessfully converted\n"
     ]
    },
    {
     "name": "stderr",
     "output_type": "stream",
     "text": [
      " 83%|########2 | 197/238 [3:12:15<38:28, 56.32s/it]"
     ]
    },
    {
     "name": "stdout",
     "output_type": "stream",
     "text": [
      "./temp_unzip\\576728_volumes\n",
      "./temp_unzip\\576728_segmentations\n",
      "('1',)\n",
      "576728P524959_576728_1089083586-cbct-tooth-18_decimated\n",
      "one case sucessfully converted\n"
     ]
    },
    {
     "name": "stderr",
     "output_type": "stream",
     "text": [
      " 83%|########3 | 198/238 [3:12:57<34:46, 52.16s/it]"
     ]
    },
    {
     "name": "stdout",
     "output_type": "stream",
     "text": [
      "./temp_unzip\\576751_volumes\n",
      "./temp_unzip\\576751_segmentations\n",
      "('1',)\n",
      "576751P524983_576751_220085310-cbct-tooth-17_decimated\n",
      "one case sucessfully converted\n"
     ]
    },
    {
     "name": "stderr",
     "output_type": "stream",
     "text": [
      " 84%|########3 | 199/238 [3:13:28<29:48, 45.85s/it]"
     ]
    },
    {
     "name": "stdout",
     "output_type": "stream",
     "text": [
      "./temp_unzip\\576794_volumes\n",
      "./temp_unzip\\576794_segmentations\n",
      "('1',)\n",
      "576794P525345_576794_112658811-cbct-tooth-14_decimated\n",
      "one case sucessfully converted\n"
     ]
    },
    {
     "name": "stderr",
     "output_type": "stream",
     "text": [
      " 84%|########4 | 200/238 [3:13:55<25:29, 40.24s/it]"
     ]
    },
    {
     "name": "stdout",
     "output_type": "stream",
     "text": [
      "./temp_unzip\\576854_volumes\n",
      "./temp_unzip\\576854_segmentations\n",
      "('1',)\n",
      "576854P525111_576854_1663495340-cbct-tooth-25_decimated\n",
      "one case sucessfully converted\n"
     ]
    },
    {
     "name": "stderr",
     "output_type": "stream",
     "text": [
      " 84%|########4 | 201/238 [3:14:34<24:29, 39.72s/it]"
     ]
    },
    {
     "name": "stdout",
     "output_type": "stream",
     "text": [
      "./temp_unzip\\576856_volumes\n",
      "./temp_unzip\\576856_segmentations\n",
      "('1',)\n",
      "576856P525110_576856_1726797804-cbct-tooth-13_decimated\n",
      "one case sucessfully converted\n"
     ]
    },
    {
     "name": "stderr",
     "output_type": "stream",
     "text": [
      " 85%|########4 | 202/238 [3:15:02<21:50, 36.39s/it]"
     ]
    },
    {
     "name": "stdout",
     "output_type": "stream",
     "text": [
      "./temp_unzip\\576887_volumes\n",
      "./temp_unzip\\576887_segmentations\n",
      "('1',)\n",
      "576887P525160_2022107358-cbct-tooth-25_decimated\n",
      "one case sucessfully converted\n"
     ]
    },
    {
     "name": "stderr",
     "output_type": "stream",
     "text": [
      " 85%|########5 | 203/238 [3:15:36<20:45, 35.58s/it]"
     ]
    },
    {
     "name": "stdout",
     "output_type": "stream",
     "text": [
      "./temp_unzip\\576945_volumes\n",
      "./temp_unzip\\576945_segmentations\n",
      "('1',)\n",
      "576945P525984_576945_1147462301-cbct-tooth-28_decimated\n",
      "one case sucessfully converted\n"
     ]
    },
    {
     "name": "stderr",
     "output_type": "stream",
     "text": [
      " 86%|########5 | 204/238 [3:15:58<17:46, 31.35s/it]"
     ]
    },
    {
     "name": "stdout",
     "output_type": "stream",
     "text": [
      "./temp_unzip\\576998_volumes\n",
      "./temp_unzip\\576998_segmentations\n",
      "('1',)\n",
      "576998P526380_576998_1283704307-cbct-tooth-21_decimated\n",
      "one case sucessfully converted\n"
     ]
    },
    {
     "name": "stderr",
     "output_type": "stream",
     "text": [
      " 86%|########6 | 205/238 [3:16:23<16:17, 29.63s/it]"
     ]
    },
    {
     "name": "stdout",
     "output_type": "stream",
     "text": [
      "./temp_unzip\\577011_volumes\n",
      "./temp_unzip\\577011_segmentations\n",
      "('1',)\n",
      "577011P525286_577011_1429611596-cbct-tooth-26_decimated\n",
      "one case sucessfully converted\n"
     ]
    },
    {
     "name": "stderr",
     "output_type": "stream",
     "text": [
      " 87%|########6 | 206/238 [3:16:41<13:54, 26.09s/it]"
     ]
    },
    {
     "name": "stdout",
     "output_type": "stream",
     "text": [
      "./temp_unzip\\577039_volumes\n",
      "./temp_unzip\\577039_segmentations\n",
      "('1',)\n",
      "577039P525322_577039_2051806199-cbct-tooth-25_decimated\n",
      "one case sucessfully converted\n"
     ]
    },
    {
     "name": "stderr",
     "output_type": "stream",
     "text": [
      " 87%|########6 | 207/238 [3:17:29<16:51, 32.63s/it]"
     ]
    },
    {
     "name": "stdout",
     "output_type": "stream",
     "text": [
      "./temp_unzip\\577053_volumes\n",
      "./temp_unzip\\577053_segmentations\n",
      "('1',)\n",
      "577053P525334_577053_1197246785-cbct-tooth-11_decimated\n",
      "one case sucessfully converted\n"
     ]
    },
    {
     "name": "stderr",
     "output_type": "stream",
     "text": [
      " 87%|########7 | 208/238 [3:17:56<15:26, 30.89s/it]"
     ]
    },
    {
     "name": "stdout",
     "output_type": "stream",
     "text": [
      "./temp_unzip\\577063_volumes\n",
      "./temp_unzip\\577063_segmentations\n",
      "('1',)\n",
      "577063P525347_577063_1188983267-cbct-tooth-21_decimated\n",
      "one case sucessfully converted\n"
     ]
    },
    {
     "name": "stderr",
     "output_type": "stream",
     "text": [
      " 88%|########7 | 209/238 [3:20:19<31:09, 64.47s/it]"
     ]
    },
    {
     "name": "stdout",
     "output_type": "stream",
     "text": [
      "./temp_unzip\\577179_volumes\n",
      "./temp_unzip\\577179_segmentations\n",
      "('1',)\n",
      "577179P525465_577179_1226287122-cbct-tooth-23_decimated\n",
      "one case sucessfully converted\n"
     ]
    },
    {
     "name": "stderr",
     "output_type": "stream",
     "text": [
      " 88%|########8 | 210/238 [3:20:34<23:15, 49.85s/it]"
     ]
    },
    {
     "name": "stdout",
     "output_type": "stream",
     "text": [
      "./temp_unzip\\577186_volumes\n",
      "./temp_unzip\\577186_segmentations\n",
      "('1',)\n",
      "577186P526862_577186_2381599654-cbct-tooth-27_decimated\n",
      "one case sucessfully converted\n"
     ]
    },
    {
     "name": "stderr",
     "output_type": "stream",
     "text": [
      " 89%|########8 | 211/238 [3:20:51<17:58, 39.95s/it]"
     ]
    },
    {
     "name": "stdout",
     "output_type": "stream",
     "text": [
      "./temp_unzip\\577210_volumes\n",
      "./temp_unzip\\577210_segmentations\n",
      "('1',)\n",
      "577210P525529_577210_1059744266-cbct-tooth-28_decimated\n",
      "one case sucessfully converted\n"
     ]
    },
    {
     "name": "stderr",
     "output_type": "stream",
     "text": [
      " 89%|########9 | 212/238 [3:21:17<15:28, 35.71s/it]"
     ]
    },
    {
     "name": "stdout",
     "output_type": "stream",
     "text": [
      "./temp_unzip\\577436_volumes\n",
      "./temp_unzip\\577436_segmentations\n",
      "('1',)\n",
      "577436P526165_1040079683-cbct-tooth-17_decimated\n",
      "one case sucessfully converted\n"
     ]
    },
    {
     "name": "stderr",
     "output_type": "stream",
     "text": [
      " 89%|########9 | 213/238 [3:21:34<12:32, 30.11s/it]"
     ]
    },
    {
     "name": "stdout",
     "output_type": "stream",
     "text": [
      "./temp_unzip\\577466_volumes\n",
      "./temp_unzip\\577466_segmentations\n",
      "('1',)\n",
      "577466P525757_577466_2058313262-cbct-tooth-24_decimated\n",
      "one case sucessfully converted\n"
     ]
    },
    {
     "name": "stderr",
     "output_type": "stream",
     "text": [
      " 90%|########9 | 214/238 [3:22:03<11:51, 29.65s/it]"
     ]
    },
    {
     "name": "stdout",
     "output_type": "stream",
     "text": [
      "./temp_unzip\\577564_volumes\n",
      "./temp_unzip\\577564_segmentations\n",
      "('1',)\n",
      "577564P525929_577564_20826997-cbct-tooth-27_decimated\n",
      "one case sucessfully converted\n"
     ]
    },
    {
     "name": "stderr",
     "output_type": "stream",
     "text": [
      " 90%|######### | 215/238 [3:22:20<09:54, 25.84s/it]"
     ]
    },
    {
     "name": "stdout",
     "output_type": "stream",
     "text": [
      "./temp_unzip\\577589_volumes\n",
      "./temp_unzip\\577589_segmentations\n",
      "('1',)\n",
      "577589P527378_577589_1173088199-cbct-tooth-27_decimated\n",
      "one case sucessfully converted\n"
     ]
    },
    {
     "name": "stderr",
     "output_type": "stream",
     "text": [
      " 91%|######### | 216/238 [3:22:35<08:17, 22.60s/it]"
     ]
    },
    {
     "name": "stdout",
     "output_type": "stream",
     "text": [
      "./temp_unzip\\577590_volumes\n",
      "./temp_unzip\\577590_segmentations\n",
      "('1',)\n",
      "577590P527153_577590_2358026217-cbct-tooth-16_decimated\n",
      "one case sucessfully converted\n"
     ]
    },
    {
     "name": "stderr",
     "output_type": "stream",
     "text": [
      " 91%|#########1| 217/238 [3:23:00<08:11, 23.38s/it]"
     ]
    },
    {
     "name": "stdout",
     "output_type": "stream",
     "text": [
      "./temp_unzip\\577623_volumes\n",
      "./temp_unzip\\577623_segmentations\n",
      "('1',)\n",
      "577623P526327_577623_1411404095-cbct-tooth-26_decimated\n",
      "one case sucessfully converted\n"
     ]
    },
    {
     "name": "stderr",
     "output_type": "stream",
     "text": [
      " 92%|#########1| 218/238 [3:23:16<07:04, 21.21s/it]"
     ]
    },
    {
     "name": "stdout",
     "output_type": "stream",
     "text": [
      "./temp_unzip\\577628_volumes\n",
      "./temp_unzip\\577628_segmentations\n",
      "('1',)\n",
      "577628P527387_577628_1939001925-cbct-tooth-16_decimated\n",
      "one case sucessfully converted\n"
     ]
    },
    {
     "name": "stderr",
     "output_type": "stream",
     "text": [
      " 92%|#########2| 219/238 [3:23:32<06:14, 19.69s/it]"
     ]
    },
    {
     "name": "stdout",
     "output_type": "stream",
     "text": [
      "./temp_unzip\\577734_volumes\n",
      "./temp_unzip\\577734_segmentations\n",
      "('1',)\n",
      "somthing is wrong with case {'vol': './temp_unzip\\\\577734_volumes', 'seg': './temp_unzip\\\\577734_segmentations'} probably a missing segmentation\n"
     ]
    },
    {
     "name": "stderr",
     "output_type": "stream",
     "text": [
      " 92%|#########2| 220/238 [3:23:36<04:28, 14.94s/it]"
     ]
    },
    {
     "name": "stdout",
     "output_type": "stream",
     "text": [
      "./temp_unzip\\577745_volumes\n",
      "./temp_unzip\\577745_segmentations\n",
      "('1',)\n",
      "577745P526057_577745_1116119348-cbct-tooth-21_decimated\n",
      "one case sucessfully converted\n"
     ]
    },
    {
     "name": "stderr",
     "output_type": "stream",
     "text": [
      " 93%|#########2| 221/238 [3:24:09<05:48, 20.47s/it]"
     ]
    },
    {
     "name": "stdout",
     "output_type": "stream",
     "text": [
      "./temp_unzip\\577806_volumes\n",
      "./temp_unzip\\577806_segmentations\n",
      "('1',)\n",
      "577806P526627_577806_1675491899-cbct-tooth-21_decimated\n",
      "one case sucessfully converted\n"
     ]
    },
    {
     "name": "stderr",
     "output_type": "stream",
     "text": [
      " 93%|#########3| 222/238 [3:24:41<06:21, 23.83s/it]"
     ]
    },
    {
     "name": "stdout",
     "output_type": "stream",
     "text": [
      "./temp_unzip\\578001_volumes\n",
      "./temp_unzip\\578001_segmentations\n",
      "('1',)\n",
      "578001P526430_578001_3445153349-cbct-tooth-26_decimated\n",
      "one case sucessfully converted\n"
     ]
    },
    {
     "name": "stderr",
     "output_type": "stream",
     "text": [
      " 94%|#########3| 223/238 [3:25:03<05:51, 23.41s/it]"
     ]
    },
    {
     "name": "stdout",
     "output_type": "stream",
     "text": [
      "./temp_unzip\\578094_volumes\n",
      "./temp_unzip\\578094_segmentations\n",
      "('1',)\n",
      "578094P526750_578094_1857210394-cbct-tooth-21_decimated\n",
      "one case sucessfully converted\n"
     ]
    },
    {
     "name": "stderr",
     "output_type": "stream",
     "text": [
      " 94%|#########4| 224/238 [3:25:30<05:39, 24.28s/it]"
     ]
    },
    {
     "name": "stdout",
     "output_type": "stream",
     "text": [
      "./temp_unzip\\578111_volumes\n",
      "./temp_unzip\\578111_segmentations\n",
      "('1',)\n",
      "578111P526591_578111_1213149978-cbct-tooth-17_decimated\n",
      "one case sucessfully converted\n"
     ]
    },
    {
     "name": "stderr",
     "output_type": "stream",
     "text": [
      " 95%|#########4| 225/238 [3:25:55<05:20, 24.64s/it]"
     ]
    },
    {
     "name": "stdout",
     "output_type": "stream",
     "text": [
      "./temp_unzip\\578239_volumes\n",
      "./temp_unzip\\578239_segmentations\n",
      "('1',)\n",
      "578239P527048_578239_2376908003-cbct-tooth-16_decimated\n",
      "one case sucessfully converted\n"
     ]
    },
    {
     "name": "stderr",
     "output_type": "stream",
     "text": [
      " 95%|#########4| 226/238 [3:26:14<04:35, 22.95s/it]"
     ]
    },
    {
     "name": "stdout",
     "output_type": "stream",
     "text": [
      "./temp_unzip\\578343_volumes\n",
      "./temp_unzip\\578343_segmentations\n",
      "('1',)\n",
      "578343P526850_578343_113225307-cbct-tooth-23_decimated\n",
      "one case sucessfully converted\n"
     ]
    },
    {
     "name": "stderr",
     "output_type": "stream",
     "text": [
      " 95%|#########5| 227/238 [3:26:39<04:19, 23.63s/it]"
     ]
    },
    {
     "name": "stdout",
     "output_type": "stream",
     "text": [
      "./temp_unzip\\578396_volumes\n",
      "./temp_unzip\\578396_segmentations\n",
      "('1',)\n",
      "578396P526839_578396_1158662038-cbct-tooth-11_decimated\n",
      "one case sucessfully converted\n"
     ]
    },
    {
     "name": "stderr",
     "output_type": "stream",
     "text": [
      " 96%|#########5| 228/238 [3:27:26<05:03, 30.38s/it]"
     ]
    },
    {
     "name": "stdout",
     "output_type": "stream",
     "text": [
      "./temp_unzip\\578398_volumes\n",
      "./temp_unzip\\578398_segmentations\n",
      "('1',)\n",
      "578398P526845_578398_1164848825-cbct-tooth-22_decimated\n",
      "one case sucessfully converted\n"
     ]
    },
    {
     "name": "stderr",
     "output_type": "stream",
     "text": [
      " 96%|#########6| 229/238 [3:27:58<04:38, 30.94s/it]"
     ]
    },
    {
     "name": "stdout",
     "output_type": "stream",
     "text": [
      "./temp_unzip\\578401_volumes\n",
      "./temp_unzip\\578401_segmentations\n",
      "('1',)\n",
      "578401P526848_578401_1043543397-cbct-tooth-16_decimated\n",
      "one case sucessfully converted\n"
     ]
    },
    {
     "name": "stderr",
     "output_type": "stream",
     "text": [
      " 97%|#########6| 230/238 [3:29:19<06:07, 45.99s/it]"
     ]
    },
    {
     "name": "stdout",
     "output_type": "stream",
     "text": [
      "./temp_unzip\\578518_volumes\n",
      "./temp_unzip\\578518_segmentations\n",
      "('1',)\n",
      "somthing is wrong with case {'vol': './temp_unzip\\\\578518_volumes', 'seg': './temp_unzip\\\\578518_segmentations'} probably a missing segmentation\n"
     ]
    },
    {
     "name": "stderr",
     "output_type": "stream",
     "text": [
      " 97%|#########7| 231/238 [3:29:24<03:56, 33.79s/it]"
     ]
    },
    {
     "name": "stdout",
     "output_type": "stream",
     "text": [
      "./temp_unzip\\578567_volumes\n",
      "./temp_unzip\\578567_segmentations\n",
      "('1',)\n",
      "578567P527044_578567_2851239287-cbct-tooth-26_decimated\n",
      "one case sucessfully converted\n"
     ]
    },
    {
     "name": "stderr",
     "output_type": "stream",
     "text": [
      " 97%|#########7| 232/238 [3:29:41<02:51, 28.53s/it]"
     ]
    },
    {
     "name": "stdout",
     "output_type": "stream",
     "text": [
      "./temp_unzip\\578652_volumes\n",
      "./temp_unzip\\578652_segmentations\n",
      "('1',)\n",
      "578652P527094_578652_1135780440-cbct-tooth-18_decimated\n",
      "one case sucessfully converted\n"
     ]
    },
    {
     "name": "stderr",
     "output_type": "stream",
     "text": [
      " 98%|#########7| 233/238 [3:31:16<04:03, 48.74s/it]"
     ]
    },
    {
     "name": "stdout",
     "output_type": "stream",
     "text": [
      "./temp_unzip\\578675_volumes\n",
      "./temp_unzip\\578675_segmentations\n",
      "('1',)\n",
      "578675P527459_578675_2135044812-cbct-tooth-27_decimated\n",
      "one case sucessfully converted\n"
     ]
    },
    {
     "name": "stderr",
     "output_type": "stream",
     "text": [
      " 98%|#########8| 234/238 [3:31:38<02:41, 40.49s/it]"
     ]
    },
    {
     "name": "stdout",
     "output_type": "stream",
     "text": [
      "./temp_unzip\\578888_volumes\n",
      "./temp_unzip\\578888_segmentations\n",
      "('1',)\n",
      "578888P527401_578888_273966077-cbct-tooth-16_decimated\n",
      "one case sucessfully converted\n"
     ]
    },
    {
     "name": "stderr",
     "output_type": "stream",
     "text": [
      " 99%|#########8| 235/238 [3:32:13<01:56, 38.87s/it]"
     ]
    },
    {
     "name": "stdout",
     "output_type": "stream",
     "text": [
      "./temp_unzip\\578910_volumes\n",
      "./temp_unzip\\578910_segmentations\n",
      "('1',)\n",
      "578910P527422_578910_1167051653-cbct-tooth-21_decimated\n",
      "one case sucessfully converted\n"
     ]
    },
    {
     "name": "stderr",
     "output_type": "stream",
     "text": [
      " 99%|#########9| 236/238 [3:32:54<01:19, 39.70s/it]"
     ]
    },
    {
     "name": "stdout",
     "output_type": "stream",
     "text": [
      "./temp_unzip\\579057_volumes\n",
      "./temp_unzip\\579057_segmentations\n",
      "('1',)\n",
      "579057P527586_1956671222-cbct-tooth-13_decimated\n",
      "one case sucessfully converted\n"
     ]
    },
    {
     "name": "stderr",
     "output_type": "stream",
     "text": [
      "100%|#########9| 237/238 [3:33:32<00:39, 39.14s/it]"
     ]
    },
    {
     "name": "stdout",
     "output_type": "stream",
     "text": [
      "./temp_unzip\\579169_volumes\n",
      "./temp_unzip\\579169_segmentations\n",
      "('1',)\n",
      "somthing is wrong with case {'vol': './temp_unzip\\\\579169_volumes', 'seg': './temp_unzip\\\\579169_segmentations'} probably a missing segmentation\n"
     ]
    },
    {
     "name": "stderr",
     "output_type": "stream",
     "text": [
      "100%|##########| 238/238 [3:33:36<00:00, 53.85s/it]\n"
     ]
    },
    {
     "name": "stdout",
     "output_type": "stream",
     "text": [
      "done converting all cases to nii\n"
     ]
    }
   ],
   "source": [
    "batch_nii_convert (input_cases)"
   ]
  },
  {
   "cell_type": "code",
   "execution_count": null,
   "id": "c2bd95b1-d062-4235-992e-4048effdb08d",
   "metadata": {},
   "outputs": [],
   "source": [
    "# test_seg = \"C:\\\\Users\\\\Sepehr\\\\3dsegmentationProjects\\\\nn-unet-organize-dataset-for-training\\\\304846_246033_segmented_structures\"\n",
    "# test_vol = \"C:\\\\Users\\\\Sepehr\\\\3dsegmentationProjects\\\\nn-unet-organize-dataset-for-training\\\\304846_Ken_Lin_Lin_Ken____20200831_080509147\"\n",
    "\n",
    "# test_seg2 = \"C:\\\\Users\\\\Sepehr\\\\3dsegmentationProjects\\\\nn-unet-organize-dataset-for-training\\\\temp_unzip\\\\576547_segmentations\"\n",
    "# test_vol2 = \"C:\\\\Users\\\\Sepehr\\\\3dsegmentationProjects\\\\nn-unet-organize-dataset-for-training\\\\temp_unzip\\\\576547_volumes\"\n",
    "\n",
    "# # # # convert_single_case_to_nii (input_cases[0][\"vol\"],input_cases[0][\"seg\"])\n",
    "# convert_single_case_to_nii (test_vol2,test_seg2)"
   ]
  },
  {
   "cell_type": "markdown",
   "id": "a57ecaf2-80a2-46b7-98ed-1b1936084477",
   "metadata": {},
   "source": [
    "# building nnunet_dataset from nii"
   ]
  },
  {
   "cell_type": "code",
   "execution_count": 17,
   "id": "5d3753e3-750a-4644-b07a-c3d035c7b32a",
   "metadata": {},
   "outputs": [],
   "source": [
    "#making dataset Folder \n",
    "\n",
    "dataset_id = 131\n",
    "dataset_name = \"maxillary_teeth_Palmer_lables\" \n",
    "Dataset_folder_name = f\"Dataset{dataset_id}_{dataset_name}\"\n",
    "\n",
    "if (not os.path.exists(f\"./nnUNet_raw/{Dataset_folder_name}\")):\n",
    "    os.mkdir(f\"./nnUNet_raw/{Dataset_folder_name}\")\n",
    "\n",
    "train_input_dir = f\"./nnUNet_raw/{Dataset_folder_name}/imagesTr\"\n",
    "train_lable_dir = f\"./nnUNet_raw/{Dataset_folder_name}/labelsTr\"\n",
    "\n",
    "if not os.path.exists(train_input_dir):\n",
    "    os.mkdir(train_input_dir)\n",
    "if not os.path.exists(train_lable_dir):\n",
    "    os.mkdir(train_lable_dir)\n",
    "\n",
    "\n"
   ]
  },
  {
   "cell_type": "code",
   "execution_count": 18,
   "id": "a3865e6d-e787-4654-86f9-f81bf8253133",
   "metadata": {},
   "outputs": [],
   "source": [
    "import shutil\n",
    "volume_list = os.listdir(nii_path_volumes)\n",
    "seg_list = os.listdir(nii_path_segmentations)\n",
    "# print (volume_list)\n",
    "\n",
    "for volume in volume_list:\n",
    "    volume_old_path = f\"{nii_path_volumes}/{volume}\"\n",
    "    volume_nnunet_name = volume.replace (\"_input.nii.gz\",\"_0000.nii.gz\")\n",
    "    volume_new_path = f\"{train_input_dir}/{volume_nnunet_name}\"\n",
    "\n",
    "    #print (volume_nnunet_name)\n",
    "    shutil.move(volume_old_path, volume_new_path)\n",
    "\n",
    "\n",
    "for segmentation in seg_list:\n",
    "    segmentation_old_path = f\"{nii_path_segmentations}/{segmentation}\"\n",
    "    segmentation_nnunet_name = segmentation.replace (\"_seg.nii.gz\",\".nii.gz\")\n",
    "    segmentation_new_path = f\"{train_lable_dir}/{segmentation_nnunet_name}\"\n",
    "\n",
    "    #print (segmentation_nnunet_name)\n",
    "    shutil.move(segmentation_old_path, segmentation_new_path)\n"
   ]
  },
  {
   "cell_type": "code",
   "execution_count": 19,
   "id": "c9adf213-d7fe-4681-a374-8a67acab6bc7",
   "metadata": {},
   "outputs": [],
   "source": [
    "## creating Dataset Json \n",
    "import json \n",
    "\n",
    "dataset_metadata = {\n",
    " \"channel_names\": {  # formerly modalities\n",
    "   \"0\": \"CT\", \n",
    " }, \n",
    " \"labels\": {\n",
    "    \"background\":0,\n",
    "    \"Central Incisor\":8,\n",
    "    \"Lateral Incisor\":7,\n",
    "    \"Cuspid\":6,\n",
    "    \"First Bicuspid\":5,\n",
    "    \"Second Bicuspid\":4,\n",
    "    \"first molar\":3,\n",
    "    \"Second Molar\":2,\n",
    "    \"Third Molar\":1,\n",
    "}, \n",
    " \"numTraining\": len(volume_list), \n",
    " \"file_ending\": \".nii.gz\",\n",
    " \"overwrite_image_reader_writer\": \"SimpleITKIO\"  # optional! If not provided nnU-Net will automatically determine the ReaderWriter\n",
    " \n",
    "}\n",
    "\n",
    "json_data = json.dumps(dataset_metadata)\n",
    "\n",
    "with open(f\"./nnUNet_raw/{Dataset_folder_name}/dataset.json\", \"w\") as outfile:\n",
    "    outfile.write(json_data)"
   ]
  },
  {
   "cell_type": "code",
   "execution_count": 20,
   "id": "4266cc80-479a-4baa-8252-1e9d00ef5d2a",
   "metadata": {},
   "outputs": [],
   "source": [
    "# for file in os.listdir(train_input_dir):\n",
    "\n",
    "#     volume_nnunet_name = file.replace (\"_input.nii.gz\",\"_0000.nii.gz\")\n",
    "#     os.rename (f\"{train_input_dir}/{file}\",f\"{train_input_dir}/{volume_nnunet_name}\")"
   ]
  },
  {
   "cell_type": "code",
   "execution_count": null,
   "id": "8f162ece-ac3c-4abf-b814-6c2698c804ba",
   "metadata": {},
   "outputs": [],
   "source": []
  },
  {
   "cell_type": "code",
   "execution_count": null,
   "id": "b09b16e3-1deb-48d7-b981-8a9785f8ae39",
   "metadata": {},
   "outputs": [],
   "source": []
  },
  {
   "cell_type": "code",
   "execution_count": null,
   "id": "697e58e0-cbf9-44a0-b109-39fddfaf447c",
   "metadata": {},
   "outputs": [],
   "source": []
  },
  {
   "cell_type": "code",
   "execution_count": null,
   "id": "c947264b-b89d-4759-84fa-ac75d6502ab2",
   "metadata": {},
   "outputs": [],
   "source": []
  },
  {
   "cell_type": "markdown",
   "id": "7b114bea-27df-49ec-bb8d-2716401bc538",
   "metadata": {},
   "source": [
    "# tests\n"
   ]
  },
  {
   "cell_type": "code",
   "execution_count": 17,
   "id": "7e2c3d8f-ee0b-4eff-a64f-0c36668acc4e",
   "metadata": {},
   "outputs": [],
   "source": [
    "dicom_series_path = \"C:\\\\Users\\\\Sepehr\\\\3dsegmentationProjects\\\\nn-unet-organize-dataset-for-training\\\\304846_Ken_Lin_Lin_Ken____20200831_080509147\"\n",
    "segmentation_path = \"304846_246033_segmented_structures\""
   ]
  },
  {
   "cell_type": "code",
   "execution_count": 18,
   "id": "7e492308-2a46-44c0-818a-e88f89482523",
   "metadata": {},
   "outputs": [
    {
     "name": "stdout",
     "output_type": "stream",
     "text": [
      "C:\\Users\\Sepehr\\3dsegmentationProjects\\nn-unet-organize-dataset-for-training\\304846_Ken_Lin_Lin_Ken____20200831_080509147\n",
      "304846_246033_segmented_structures\n",
      "('1',)\n"
     ]
    }
   ],
   "source": [
    "# # Clear scene\n",
    "slicer.mrmlScene.Clear(False)\n",
    "\n",
    "print(dicom_series_path)\n",
    "print(segmentation_path)\n",
    "\n",
    "##load dicom \n",
    "loadedNodeIDs = []\n",
    "with DICOMUtils.TemporaryDICOMDatabase() as db:\n",
    "    DICOMUtils.importDicom(os.path.abspath(dicom_series_path), db)\n",
    "    patientUIDs = db.patients()\n",
    "\n",
    "    print (patientUIDs)\n",
    "    for patientUID in patientUIDs:\n",
    "        loadedNodeIDs.extend(DICOMUtils.loadPatientByUID(patientUID))\n",
    "\n",
    "\n",
    "\n"
   ]
  },
  {
   "cell_type": "code",
   "execution_count": 19,
   "id": "368c6ae5-0b91-4261-9fb7-03da910f4526",
   "metadata": {},
   "outputs": [],
   "source": [
    "'''\n",
    "loading the segmentations into appropriate substructuresz \n",
    "\n",
    "'''\n",
    "maxillary_teeth_lables = [\"11\",\"12\",\"13\",\"14\",\"15\",\"16\",\"17\",\"18\",\"21\",\"22\",\"23\",\"24\",\"25\",\"26\",\"27\",\"28\"]\n",
    "maxillaryTeethNode = slicer.mrmlScene.AddNewNodeByClass(\"vtkMRMLSegmentationNode\")\n",
    "maxillaryTeethNode.CreateDefaultDisplayNodes()\n",
    "maxillaryTeethNode.SetName (\"maxillaryTeethNode\")\n",
    "\n",
    "\n",
    "## creating segmentation nodes\n",
    "segmentationNodes = {} \n"
   ]
  },
  {
   "cell_type": "code",
   "execution_count": 20,
   "id": "36c8d500-bc62-4ab8-a41d-dbdb51958cd5",
   "metadata": {},
   "outputs": [],
   "source": [
    "## importing stls \n",
    "nodes = []\n",
    "node_names = []\n",
    "for seg in os.listdir(segmentation_path):\n",
    "    if ((\".stl\" in seg or \".obj\" in seg) and \"pulp\" not in seg ):\n",
    "        mesh_path = f\"{segmentation_path}/{seg}\"\n",
    "        class_name = get_model_class_from_file(seg)\n",
    "\n",
    "        if class_name.strip(\"tooth_\") in maxillary_teeth_lables:\n",
    "            slicer.modules.segmentations.logic().ImportModelToSegmentationNode(slicer.util.loadModel(mesh_path), maxillaryTeethNode)\n",
    "\n",
    "        if class_name in lable_map:\n",
    "\n",
    "            segmentationNode = slicer.mrmlScene.AddNewNodeByClass(\"vtkMRMLSegmentationNode\")\n",
    "            segmentationNode.CreateDefaultDisplayNodes()\n",
    "            segmentationNodes [class_name] = segmentationNode\n",
    "            \n",
    "            slicer.modules.segmentations.logic().ImportModelToSegmentationNode(slicer.util.loadModel(mesh_path), segmentationNode)\n",
    "\n",
    "if (len(segmentationNodes) <1):\n",
    "    print (\"too few of desired class in this case. this case will be skipped\")\n",
    "    "
   ]
  },
  {
   "cell_type": "code",
   "execution_count": null,
   "id": "b2b1ca55-06d6-4bbb-8881-0be03f193128",
   "metadata": {},
   "outputs": [],
   "source": [
    "maxillaryTeethNode."
   ]
  },
  {
   "cell_type": "code",
   "execution_count": 34,
   "id": "7c9e9174-4868-45f1-bf76-cf27df27d153",
   "metadata": {},
   "outputs": [],
   "source": [
    "referenceVolumeNode = slicer.mrmlScene.GetNodeByID(\"vtkMRMLScalarVolumeNode1\")\n",
    "\n",
    "segmentation_lable_map = convert_to_nnunet_lable_tooth(segmentationNodes,referenceVolumeNode)\n",
    "input_volume_map = convert_to_nnunet_lable_macro_structure(maxillaryTeethNode,referenceVolumeNode)"
   ]
  },
  {
   "cell_type": "code",
   "execution_count": 55,
   "id": "5dc68df3-45a3-4c9b-83e3-d98704d0350b",
   "metadata": {},
   "outputs": [],
   "source": [
    "#creating segmentation node to compute ROI \n",
    "temp_segmentationNode = slicer.mrmlScene.AddNewNodeByClass(\"vtkMRMLSegmentationNode\")\n",
    "temp_segmentationNode.CreateDefaultDisplayNodes()\n",
    "\n",
    "slicer.modules.segmentations.logic().ImportLabelmapToSegmentationNode (input_volume_map,temp_segmentationNode)\n",
    "\n",
    "\n",
    "\n",
    "## obtaining bounding box coordinates from segment node\n",
    "import SegmentStatistics\n",
    "segStatLogic = SegmentStatistics.SegmentStatisticsLogic()\n",
    "segStatLogic.getParameterNode().SetParameter(\"Segmentation\", temp_segmentationNode.GetID())\n",
    "segStatLogic.getParameterNode().SetParameter(\"LabelmapSegmentStatisticsPlugin.obb_origin_ras.enabled\",str(True))\n",
    "segStatLogic.getParameterNode().SetParameter(\"LabelmapSegmentStatisticsPlugin.obb_diameter_mm.enabled\",str(True))\n",
    "segStatLogic.getParameterNode().SetParameter(\"LabelmapSegmentStatisticsPlugin.obb_direction_ras_x.enabled\",str(True))\n",
    "segStatLogic.getParameterNode().SetParameter(\"LabelmapSegmentStatisticsPlugin.obb_direction_ras_y.enabled\",str(True))\n",
    "segStatLogic.getParameterNode().SetParameter(\"LabelmapSegmentStatisticsPlugin.obb_direction_ras_z.enabled\",str(True))\n",
    "segStatLogic.computeStatistics()\n",
    "stats = segStatLogic.getStatistics()\n",
    "\n"
   ]
  },
  {
   "cell_type": "code",
   "execution_count": 56,
   "id": "b27c416a-9403-4e71-b9db-241718ea0b51",
   "metadata": {},
   "outputs": [
    {
     "name": "stdout",
     "output_type": "stream",
     "text": [
      "304846_246033_6971_304846_tooth_11_(us_8)_decimated\n"
     ]
    }
   ],
   "source": [
    "## creating ROI from bounding box stats\n",
    "\n",
    "segmentId = stats[\"SegmentIDs\"] [0]\n",
    "print (segmentId)\n",
    "# Get bounding box\n",
    "obb_origin_ras = np.array(stats[segmentId,\"LabelmapSegmentStatisticsPlugin.obb_origin_ras\"])\n",
    "obb_diameter_mm = np.array(stats[segmentId,\"LabelmapSegmentStatisticsPlugin.obb_diameter_mm\"])\n",
    "obb_direction_ras_x = np.array(stats[segmentId,\"LabelmapSegmentStatisticsPlugin.obb_direction_ras_x\"])\n",
    "obb_direction_ras_y = np.array(stats[segmentId,\"LabelmapSegmentStatisticsPlugin.obb_direction_ras_y\"])\n",
    "obb_direction_ras_z = np.array(stats[segmentId,\"LabelmapSegmentStatisticsPlugin.obb_direction_ras_z\"])\n",
    "\n",
    "# Create ROI\n",
    "segment = temp_segmentationNode.GetSegmentation().GetSegment(segmentId)\n",
    "roi=slicer.mrmlScene.AddNewNodeByClass(\"vtkMRMLMarkupsROINode\")\n",
    "roi.SetName(segment.GetName() + \" OBB\")\n",
    "roi.GetDisplayNode().SetHandlesInteractive(False)  # do not let the user resize the box\n",
    "roi.SetSize(obb_diameter_mm)\n",
    "\n",
    "\n",
    "# Position and orient ROI using a transform\n",
    "obb_center_ras = obb_origin_ras+0.5*(obb_diameter_mm[0] * obb_direction_ras_x + obb_diameter_mm[1] * obb_direction_ras_y + obb_diameter_mm[2] * obb_direction_ras_z)\n",
    "boundingBoxToRasTransform = np.row_stack((np.column_stack((obb_direction_ras_x, obb_direction_ras_y, obb_direction_ras_z, obb_center_ras)), (0, 0, 0, 1)))\n",
    "boundingBoxToRasTransformMatrix = slicer.util.vtkMatrixFromArray(boundingBoxToRasTransform)\n",
    "roi.SetAndObserveObjectToNodeMatrix(boundingBoxToRasTransformMatrix)"
   ]
  },
  {
   "cell_type": "code",
   "execution_count": 57,
   "id": "448b8968-b7ab-44d4-a2e9-7d26fc6242b2",
   "metadata": {},
   "outputs": [],
   "source": [
    "## function to retrieve segments of volume using ROI \n",
    "# import vtk\n",
    "# def createVolumeFromRoi(exportRoi, spacingMm, fillValue=0, numberOfComponents=1):\n",
    "#     import math\n",
    "#     roiDiameter = exportRoi.GetSize()\n",
    "#     roiOrigin_Roi = [-roiDiameter[0]/2, -roiDiameter[1]/2, -roiDiameter[2]/2, 1]\n",
    "#     roiToRas = exportRoi.GetObjectToWorldMatrix()\n",
    "#     exportVolumeSize = [int(math.ceil(diameterComponent/spacingMm)) for diameterComponent in roiDiameter]\n",
    "#     # Create image data\n",
    "#     exportImageData = vtk.vtkImageData()\n",
    "#     exportImageData.SetExtent(0, exportVolumeSize[0]-1, 0, exportVolumeSize[1]-1, 0, exportVolumeSize[2]-1)\n",
    "#     exportImageData.AllocateScalars(vtk.VTK_DOUBLE, numberOfComponents)\n",
    "#     exportImageData.GetPointData().GetScalars().Fill(fillValue)\n",
    "#     # Create volume node\n",
    "#     exportVolume = slicer.mrmlScene.AddNewNodeByClass(\"vtkMRMLScalarVolumeNode\" if numberOfComponents==1 else \"vtkMRMLVectorVolumeNode\")\n",
    "#     exportVolume.SetAndObserveImageData(exportImageData)\n",
    "#     exportVolume.SetIJKToRASDirections(roiToRas.GetElement(0,0), roiToRas.GetElement(0,1), roiToRas.GetElement(0,2), roiToRas.GetElement(1,0), roiToRas.GetElement(1,1), roiToRas.GetElement(1,2), roiToRas.GetElement(2,0), roiToRas.GetElement(2,1), roiToRas.GetElement(2,2))\n",
    "#     exportVolume.SetSpacing(spacingMm, spacingMm, spacingMm)\n",
    "#     roiOrigin_Ras = roiToRas.MultiplyPoint(roiOrigin_Roi)\n",
    "#     exportVolume.SetOrigin(roiOrigin_Ras[0:3])\n",
    "#     return exportVolume"
   ]
  },
  {
   "cell_type": "code",
   "execution_count": 58,
   "id": "3de4584f-d483-4109-8a7c-95f1381c0229",
   "metadata": {},
   "outputs": [],
   "source": [
    "# cropVolumeParameters = slicer.mrmlScene.AddNewNodeByClass(\"vtkMRMLCropVolumeParametersNode\")\n",
    "# cropVolumeParameters.SetInputVolumeNodeID(referenceVolumeNode.GetID())\n",
    "# cropVolumeParameters.SetROINodeID(roi.GetID())\n",
    "# slicer.modules.cropvolume.logic().SnapROIToVoxelGrid(cropVolumeParameters)  # optional (rotates the ROI to match the volume axis directions)\n",
    "# slicer.modules.cropvolume.logic().FitROIToInputVolume(cropVolumeParameters)\n",
    "# slicer.mrmlScene.RemoveNode(cropVolumeParameters)"
   ]
  },
  {
   "cell_type": "code",
   "execution_count": 61,
   "id": "49c9cbed-b78a-41cd-9976-57ebfa7e8fa8",
   "metadata": {},
   "outputs": [
    {
     "data": {
      "text/plain": [
       "0"
      ]
     },
     "execution_count": 61,
     "metadata": {},
     "output_type": "execute_result"
    }
   ],
   "source": [
    "##easier and more reliable cropping method \n",
    "cropped_volume_node = slicer.mrmlScene.AddNewNodeByClass(\"vtkMRMLScalarVolumeNode\")\n",
    "cropped_volume_node.CreateDefaultDisplayNodes()\n",
    "\n",
    "cropped_lablemap_node = slicer.mrmlScene.AddNewNodeByClass(\"vtkMRMLLabelMapVolumeNode\")\n",
    "cropped_lablemap_node.CreateDefaultDisplayNodes()\n",
    "\n",
    "slicer.modules.cropvolume.logic().CropVoxelBased (roi,referenceVolumeNode,cropped_volume_node ) ##cropping volume \n",
    "slicer.modules.cropvolume.logic().CropVoxelBased (roi,segmentation_lable_map,cropped_lablemap_node ) ##cropping mask"
   ]
  },
  {
   "cell_type": "code",
   "execution_count": 63,
   "id": "db550ac4-2cbb-46f2-9792-773f4a52b483",
   "metadata": {},
   "outputs": [
    {
     "name": "stdout",
     "output_type": "stream",
     "text": [
      "(260, 459, 586)\n",
      "(260, 459, 586)\n"
     ]
    }
   ],
   "source": [
    "dicomData = slicer.util.arrayFromVolume(cropped_volume_node)\n",
    "mask = slicer.util.arrayFromVolume(cropped_lablemap_node)\n",
    "\n",
    "print (mask.shape)\n",
    "print (dicomData.shape)"
   ]
  },
  {
   "cell_type": "code",
   "execution_count": 64,
   "id": "8db1ded1-6ae7-4fd2-b9e6-87df7df928ea",
   "metadata": {},
   "outputs": [
    {
     "name": "stdout",
     "output_type": "stream",
     "text": [
      "one case sucessfully converted\n"
     ]
    }
   ],
   "source": [
    "caseID = dicom_series_path.split(\"\\\\\")[-1].split(\"_\")[0]\n",
    "volume_save_path = f\"{nii_path_volumes}/{caseID}_input.nii.gz\"\n",
    "seg_save_path =  f\"{nii_path_segmentations}/{caseID}_seg.nii.gz\"\n",
    "\n",
    "slicer.util.exportNode(cropped_volume_node, volume_save_path , {\"useCompression\": 0})\n",
    "slicer.util.exportNode(cropped_lablemap_node, seg_save_path , {\"useCompression\": 0})\n",
    "\n",
    "print (\"one case sucessfully converted\")"
   ]
  },
  {
   "cell_type": "code",
   "execution_count": null,
   "id": "4e648535-6b4b-4d6f-b650-764218d0f315",
   "metadata": {},
   "outputs": [],
   "source": []
  },
  {
   "cell_type": "code",
   "execution_count": null,
   "id": "3eb64385-81ce-418d-a2cb-975a9e0327fa",
   "metadata": {},
   "outputs": [],
   "source": []
  }
 ],
 "metadata": {
  "kernelspec": {
   "display_name": "Slicer 5.6",
   "language": "python",
   "name": "slicer-5.6"
  },
  "language_info": {
   "file_extension": ".py",
   "mimetype": "text/x-python",
   "name": "python",
   "version": "3.9.10"
  }
 },
 "nbformat": 4,
 "nbformat_minor": 5
}
